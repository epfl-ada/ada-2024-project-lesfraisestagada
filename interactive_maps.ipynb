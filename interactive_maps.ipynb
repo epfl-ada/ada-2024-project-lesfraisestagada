{
 "cells": [
  {
   "cell_type": "code",
   "execution_count": 11,
   "metadata": {},
   "outputs": [
    {
     "name": "stdout",
     "output_type": "stream",
     "text": [
      "The autoreload extension is already loaded. To reload it, use:\n",
      "  %reload_ext autoreload\n"
     ]
    }
   ],
   "source": [
    "%load_ext autoreload\n",
    "%autoreload 2\n",
    "import pandas as pd\n",
    "from matplotlib import pyplot as plt"
   ]
  },
  {
   "cell_type": "code",
   "execution_count": 12,
   "metadata": {},
   "outputs": [
    {
     "data": {
      "text/html": [
       "<div>\n",
       "<style scoped>\n",
       "    .dataframe tbody tr th:only-of-type {\n",
       "        vertical-align: middle;\n",
       "    }\n",
       "\n",
       "    .dataframe tbody tr th {\n",
       "        vertical-align: top;\n",
       "    }\n",
       "\n",
       "    .dataframe thead th {\n",
       "        text-align: right;\n",
       "    }\n",
       "</style>\n",
       "<table border=\"1\" class=\"dataframe\">\n",
       "  <thead>\n",
       "    <tr style=\"text-align: right;\">\n",
       "      <th></th>\n",
       "      <th>Rank</th>\n",
       "      <th>country</th>\n",
       "      <th>Publications</th>\n",
       "    </tr>\n",
       "  </thead>\n",
       "  <tbody>\n",
       "    <tr>\n",
       "      <th>0</th>\n",
       "      <td>1</td>\n",
       "      <td>United States</td>\n",
       "      <td>469050</td>\n",
       "    </tr>\n",
       "    <tr>\n",
       "      <th>1</th>\n",
       "      <td>2</td>\n",
       "      <td>China</td>\n",
       "      <td>221145</td>\n",
       "    </tr>\n",
       "    <tr>\n",
       "      <th>2</th>\n",
       "      <td>3</td>\n",
       "      <td>United Kingdom</td>\n",
       "      <td>129869</td>\n",
       "    </tr>\n",
       "    <tr>\n",
       "      <th>3</th>\n",
       "      <td>4</td>\n",
       "      <td>Germany</td>\n",
       "      <td>122165</td>\n",
       "    </tr>\n",
       "    <tr>\n",
       "      <th>4</th>\n",
       "      <td>5</td>\n",
       "      <td>Japan</td>\n",
       "      <td>120028</td>\n",
       "    </tr>\n",
       "  </tbody>\n",
       "</table>\n",
       "</div>"
      ],
      "text/plain": [
       "   Rank         country  Publications\n",
       "0     1   United States        469050\n",
       "1     2           China        221145\n",
       "2     3  United Kingdom        129869\n",
       "3     4         Germany        122165\n",
       "4     5           Japan        120028"
      ]
     },
     "execution_count": 12,
     "metadata": {},
     "output_type": "execute_result"
    }
   ],
   "source": [
    "from src.data.dataloader import load_publications_dataframe\n",
    "publications_per_country = load_publications_dataframe()\n",
    "publications_per_country.head()"
   ]
  },
  {
   "cell_type": "code",
   "execution_count": null,
   "metadata": {},
   "outputs": [
    {
     "data": {
      "application/vnd.plotly.v1+json": {
       "config": {
        "plotlyServerURL": "https://plot.ly"
       },
       "data": [
        {
         "coloraxis": "coloraxis",
         "customdata": [
          [
           469050,
           "United States"
          ],
          [
           221145,
           "China"
          ],
          [
           129869,
           "United Kingdom"
          ],
          [
           122165,
           "Germany"
          ],
          [
           120028,
           "Japan"
          ],
          [
           86318,
           "France"
          ],
          [
           70991,
           "Canada"
          ],
          [
           69013,
           "Italy"
          ],
          [
           54203,
           "Spain"
          ],
          [
           49684,
           "India"
          ],
          [
           48885,
           "Australia"
          ],
          [
           47437,
           "South Korea"
          ],
          [
           37109,
           "Netherlands"
          ],
          [
           36242,
           "Brazil"
          ],
          [
           35912,
           "Russian Federation"
          ],
          [
           31287,
           "Taiwan"
          ],
          [
           27600,
           "Switzerland"
          ],
          [
           26409,
           "Poland"
          ],
          [
           24930,
           "Sweden"
          ],
          [
           24318,
           "Turkey"
          ],
          [
           20742,
           "Belgium"
          ],
          [
           15387,
           "Israel"
          ],
          [
           15167,
           "Austria"
          ],
          [
           14968,
           "Iran"
          ],
          [
           14446,
           "Greece"
          ],
          [
           13799,
           "Denmark"
          ],
          [
           13394,
           "Finland"
          ],
          [
           13073,
           "Czech Republic"
          ],
          [
           12726,
           "Hong Kong"
          ],
          [
           12613,
           "Mexico"
          ],
          [
           11544,
           "Norway"
          ],
          [
           11013,
           "Singapore"
          ],
          [
           10467,
           "Portugal"
          ],
          [
           9179,
           "New Zealand"
          ],
          [
           8664,
           "South Africa"
          ],
          [
           8200,
           "Hungary"
          ],
          [
           8022,
           "Ireland"
          ],
          [
           7837,
           "Argentina"
          ],
          [
           6867,
           "Ukraine"
          ],
          [
           6655,
           "Romania"
          ],
          [
           6462,
           "Thailand"
          ],
          [
           5839,
           "Egypt"
          ],
          [
           5168,
           "Malaysia"
          ],
          [
           5106,
           "Chile"
          ],
          [
           4480,
           "Croatia"
          ],
          [
           4164,
           "Pakistan"
          ],
          [
           4072,
           "Slovakia"
          ],
          [
           3900,
           "Slovenia"
          ],
          [
           3605,
           "Nigeria"
          ],
          [
           3545,
           "Bulgaria"
          ],
          [
           3004,
           "Tunisia"
          ],
          [
           2824,
           "Saudi Arabia"
          ],
          [
           2585,
           "Serbia"
          ],
          [
           2440,
           "Colombia"
          ],
          [
           2146,
           "Lithuania"
          ],
          [
           2045,
           "Algeria"
          ],
          [
           1973,
           "Venezuela"
          ],
          [
           1784,
           "Cuba"
          ],
          [
           1736,
           "Belarus"
          ],
          [
           1586,
           "Morocco"
          ],
          [
           1551,
           "Jordan"
          ],
          [
           1498,
           "Estonia"
          ],
          [
           1435,
           "United Arab Emirates"
          ],
          [
           1420,
           "Bangladesh"
          ],
          [
           1303,
           "Indonesia"
          ],
          [
           1162,
           "Kenya"
          ],
          [
           1084,
           "Viet Nam"
          ],
          [
           1063,
           "Lebanon"
          ],
          [
           970,
           "Kuwait"
          ],
          [
           889,
           "Philippines"
          ],
          [
           881,
           "Puerto Rico"
          ],
          [
           799,
           "Cyprus"
          ],
          [
           765,
           "Peru"
          ],
          [
           737,
           "Iceland"
          ],
          [
           694,
           "Sri Lanka"
          ],
          [
           688,
           "Latvia"
          ],
          [
           650,
           "Armenia"
          ],
          [
           644,
           "Tanzania"
          ],
          [
           640,
           "Uruguay"
          ],
          [
           628,
           "Oman"
          ],
          [
           602,
           "Cameroon"
          ],
          [
           590,
           "Ethiopia"
          ],
          [
           586,
           "Nepal"
          ],
          [
           559,
           "Georgia"
          ],
          [
           555,
           "Uganda"
          ],
          [
           513,
           "Ghana"
          ],
          [
           502,
           "Azerbaijan"
          ],
          [
           490,
           "Costa Rica"
          ],
          [
           481,
           "Uzbekistan"
          ],
          [
           460,
           "Luxembourg"
          ],
          [
           427,
           "Macedonia"
          ],
          [
           425,
           "Bosnia and Herzegovina"
          ],
          [
           374,
           "Qatar"
          ],
          [
           364,
           "Kazakhstan"
          ],
          [
           352,
           "Zimbabwe"
          ],
          [
           351,
           "Senegal"
          ],
          [
           335,
           "Ecuador"
          ],
          [
           323,
           "Iraq"
          ],
          [
           296,
           "Trinidad and Tobago"
          ],
          [
           279,
           "Sudan"
          ],
          [
           278,
           "Moldova"
          ],
          [
           273,
           "Botswana"
          ],
          [
           272,
           "Panama"
          ],
          [
           266,
           "Macao"
          ],
          [
           260,
           "Syrian Arab Republic"
          ],
          [
           259,
           "Malawi"
          ],
          [
           255,
           "Bahrain"
          ],
          [
           252,
           "Côte d’Ivoire"
          ],
          [
           248,
           "Palestine"
          ],
          [
           243,
           "Burkina Faso"
          ],
          [
           242,
           "Jamaica"
          ],
          [
           222,
           "Bolivia"
          ],
          [
           219,
           "Mongolia"
          ],
          [
           209,
           "Madagascar"
          ],
          [
           201,
           "Benin"
          ],
          [
           185,
           "Zambia"
          ],
          [
           183,
           "Libya"
          ],
          [
           176,
           "Malta"
          ],
          [
           169,
           "Fiji"
          ],
          [
           159,
           "Congo"
          ],
          [
           143,
           "Cambodia"
          ],
          [
           142,
           "Mali"
          ],
          [
           126,
           "New Caledonia"
          ],
          [
           122,
           "Papua New Guinea"
          ],
          [
           112,
           "Namibia"
          ],
          [
           109,
           "Mozambique"
          ],
          [
           99,
           "Yemen"
          ],
          [
           96,
           "Gambia"
          ],
          [
           95,
           "Montenegro"
          ],
          [
           93,
           "Guatemala"
          ],
          [
           93,
           "Mauritius"
          ],
          [
           90,
           "Gabon"
          ],
          [
           81,
           "Guadeloupe"
          ],
          [
           80,
           "Myanmar"
          ],
          [
           80,
           "Albania"
          ],
          [
           80,
           "Barbados"
          ],
          [
           79,
           "Monaco"
          ],
          [
           78,
           "Brunei Darussalam"
          ],
          [
           75,
           "Kyrgyzstan"
          ],
          [
           71,
           "Laos"
          ],
          [
           66,
           "Grenada"
          ],
          [
           64,
           "Togo"
          ],
          [
           63,
           "French Polynesia"
          ],
          [
           63,
           "Niger"
          ],
          [
           62,
           "Nicaragua"
          ],
          [
           61,
           "Paraguay"
          ],
          [
           60,
           "French Guiana"
          ],
          [
           56,
           "Dominican Republic"
          ],
          [
           56,
           "Liechtenstein"
          ],
          [
           55,
           "Tajikistan"
          ],
          [
           55,
           "Rwanda"
          ],
          [
           52,
           "Eritrea"
          ],
          [
           47,
           "Reunion"
          ],
          [
           46,
           "Greenland"
          ],
          [
           39,
           "El Salvador"
          ],
          [
           37,
           "Honduras"
          ],
          [
           36,
           "Seychelles"
          ],
          [
           35,
           "Eswatini"
          ],
          [
           34,
           "Angola"
          ],
          [
           34,
           "Falkland Islands (Malvinas)"
          ],
          [
           34,
           "Guam"
          ],
          [
           31,
           "Bermuda"
          ],
          [
           30,
           "Afghanistan"
          ],
          [
           30,
           "Guyana"
          ],
          [
           30,
           "Guinea"
          ],
          [
           29,
           "Guinea-Bissau"
          ],
          [
           28,
           "Haïti"
          ],
          [
           26,
           "Lesotho"
          ],
          [
           26,
           "Bahamas"
          ],
          [
           26,
           "North Korea"
          ],
          [
           24,
           "Central African Republic"
          ],
          [
           24,
           "Martinique"
          ],
          [
           23,
           "Mauritania"
          ],
          [
           22,
           "Netherlands Antilles"
          ],
          [
           21,
           "Chad"
          ],
          [
           21,
           "Sierra Leone"
          ],
          [
           21,
           "Burundi"
          ],
          [
           19,
           "Federated States of Micronesia"
          ],
          [
           18,
           "Bhutan"
          ],
          [
           18,
           "Suriname"
          ],
          [
           18,
           "Faroe Islands"
          ],
          [
           18,
           "Democratic Republic Congo"
          ],
          [
           16,
           "Palau"
          ],
          [
           15,
           "Andorra"
          ],
          [
           15,
           "Solomon Islands"
          ],
          [
           15,
           "Virgin Islands (British)"
          ],
          [
           14,
           "Maldives"
          ],
          [
           12,
           "San Marino"
          ],
          [
           11,
           "Djibouti"
          ],
          [
           11,
           "Gibraltar"
          ],
          [
           10,
           "Dominica"
          ],
          [
           10,
           "Equatorial Guinea"
          ],
          [
           10,
           "Saint Kitts and Nevis"
          ],
          [
           10,
           "Antigua and Barbuda"
          ],
          [
           9,
           "Samoa"
          ],
          [
           9,
           "Virgin Islands (U.S.)"
          ],
          [
           9,
           "Comoros"
          ],
          [
           9,
           "Turkmenistan"
          ],
          [
           9,
           "Belize"
          ],
          [
           8,
           "Saint Lucia"
          ],
          [
           8,
           "Vanuatu"
          ],
          [
           8,
           "Tonga"
          ],
          [
           8,
           "Liberia"
          ],
          [
           8,
           "Mayotte"
          ],
          [
           7,
           "American Samoa"
          ],
          [
           7,
           "Marshall Islands"
          ],
          [
           7,
           "Kiribati"
          ],
          [
           7,
           "Timor-Leste"
          ],
          [
           6,
           "Cook Islands"
          ],
          [
           6,
           "Cape Verde"
          ],
          [
           6,
           "Cayman Islands"
          ],
          [
           6,
           "Saint Vincent and the Grenadines"
          ],
          [
           5,
           "Montserrat"
          ],
          [
           5,
           "Niue"
          ],
          [
           4,
           "Cocos (Keeling) Islands"
          ],
          [
           4,
           "Northern Mariana Islands"
          ],
          [
           3,
           "Sao Tome and Principe"
          ],
          [
           2,
           "Norfolk Island"
          ],
          [
           2,
           "Turks and Caicos Islands"
          ],
          [
           2,
           "Tuvalu"
          ],
          [
           2,
           "Wallis and Futuna"
          ],
          [
           2,
           "Svalbard and Jan Mayen"
          ],
          [
           1,
           "Saint Pierre and Miquelon"
          ],
          [
           1,
           "British Indian Ocean Territory"
          ],
          [
           1,
           "Aruba"
          ],
          [
           1,
           "United States Minor Outlying Islands"
          ],
          [
           0,
           "Vatican City State"
          ],
          [
           0,
           "Somalia"
          ]
         ],
         "geo": "geo",
         "hoverlabel": {
          "bgcolor": "white",
          "font": {
           "family": "Helvetica Neue",
           "size": 12
          }
         },
         "hovertemplate": "<b>%{hovertext}</b><br><br>Publications=%{z:,.0f}<extra></extra>",
         "hovertext": [
          "United States",
          "China",
          "United Kingdom",
          "Germany",
          "Japan",
          "France",
          "Canada",
          "Italy",
          "Spain",
          "India",
          "Australia",
          "South Korea",
          "Netherlands",
          "Brazil",
          "Russian Federation",
          "Taiwan",
          "Switzerland",
          "Poland",
          "Sweden",
          "Turkey",
          "Belgium",
          "Israel",
          "Austria",
          "Iran",
          "Greece",
          "Denmark",
          "Finland",
          "Czech Republic",
          "Hong Kong",
          "Mexico",
          "Norway",
          "Singapore",
          "Portugal",
          "New Zealand",
          "South Africa",
          "Hungary",
          "Ireland",
          "Argentina",
          "Ukraine",
          "Romania",
          "Thailand",
          "Egypt",
          "Malaysia",
          "Chile",
          "Croatia",
          "Pakistan",
          "Slovakia",
          "Slovenia",
          "Nigeria",
          "Bulgaria",
          "Tunisia",
          "Saudi Arabia",
          "Serbia",
          "Colombia",
          "Lithuania",
          "Algeria",
          "Venezuela",
          "Cuba",
          "Belarus",
          "Morocco",
          "Jordan",
          "Estonia",
          "United Arab Emirates",
          "Bangladesh",
          "Indonesia",
          "Kenya",
          "Viet Nam",
          "Lebanon",
          "Kuwait",
          "Philippines",
          "Puerto Rico",
          "Cyprus",
          "Peru",
          "Iceland",
          "Sri Lanka",
          "Latvia",
          "Armenia",
          "Tanzania",
          "Uruguay",
          "Oman",
          "Cameroon",
          "Ethiopia",
          "Nepal",
          "Georgia",
          "Uganda",
          "Ghana",
          "Azerbaijan",
          "Costa Rica",
          "Uzbekistan",
          "Luxembourg",
          "Macedonia",
          "Bosnia and Herzegovina",
          "Qatar",
          "Kazakhstan",
          "Zimbabwe",
          "Senegal",
          "Ecuador",
          "Iraq",
          "Trinidad and Tobago",
          "Sudan",
          "Moldova",
          "Botswana",
          "Panama",
          "Macao",
          "Syrian Arab Republic",
          "Malawi",
          "Bahrain",
          "Côte d’Ivoire",
          "Palestine",
          "Burkina Faso",
          "Jamaica",
          "Bolivia",
          "Mongolia",
          "Madagascar",
          "Benin",
          "Zambia",
          "Libya",
          "Malta",
          "Fiji",
          "Congo",
          "Cambodia",
          "Mali",
          "New Caledonia",
          "Papua New Guinea",
          "Namibia",
          "Mozambique",
          "Yemen",
          "Gambia",
          "Montenegro",
          "Guatemala",
          "Mauritius",
          "Gabon",
          "Guadeloupe",
          "Myanmar",
          "Albania",
          "Barbados",
          "Monaco",
          "Brunei Darussalam",
          "Kyrgyzstan",
          "Laos",
          "Grenada",
          "Togo",
          "French Polynesia",
          "Niger",
          "Nicaragua",
          "Paraguay",
          "French Guiana",
          "Dominican Republic",
          "Liechtenstein",
          "Tajikistan",
          "Rwanda",
          "Eritrea",
          "Reunion",
          "Greenland",
          "El Salvador",
          "Honduras",
          "Seychelles",
          "Eswatini",
          "Angola",
          "Falkland Islands (Malvinas)",
          "Guam",
          "Bermuda",
          "Afghanistan",
          "Guyana",
          "Guinea",
          "Guinea-Bissau",
          "Haïti",
          "Lesotho",
          "Bahamas",
          "North Korea",
          "Central African Republic",
          "Martinique",
          "Mauritania",
          "Netherlands Antilles",
          "Chad",
          "Sierra Leone",
          "Burundi",
          "Federated States of Micronesia",
          "Bhutan",
          "Suriname",
          "Faroe Islands",
          "Democratic Republic Congo",
          "Palau",
          "Andorra",
          "Solomon Islands",
          "Virgin Islands (British)",
          "Maldives",
          "San Marino",
          "Djibouti",
          "Gibraltar",
          "Dominica",
          "Equatorial Guinea",
          "Saint Kitts and Nevis",
          "Antigua and Barbuda",
          "Samoa",
          "Virgin Islands (U.S.)",
          "Comoros",
          "Turkmenistan",
          "Belize",
          "Saint Lucia",
          "Vanuatu",
          "Tonga",
          "Liberia",
          "Mayotte",
          "American Samoa",
          "Marshall Islands",
          "Kiribati",
          "Timor-Leste",
          "Cook Islands",
          "Cape Verde",
          "Cayman Islands",
          "Saint Vincent and the Grenadines",
          "Montserrat",
          "Niue",
          "Cocos (Keeling) Islands",
          "Northern Mariana Islands",
          "Sao Tome and Principe",
          "Norfolk Island",
          "Turks and Caicos Islands",
          "Tuvalu",
          "Wallis and Futuna",
          "Svalbard and Jan Mayen",
          "Saint Pierre and Miquelon",
          "British Indian Ocean Territory",
          "Aruba",
          "United States Minor Outlying Islands",
          "Vatican City State",
          "Somalia"
         ],
         "locationmode": "country names",
         "locations": [
          "United States",
          "China",
          "United Kingdom",
          "Germany",
          "Japan",
          "France",
          "Canada",
          "Italy",
          "Spain",
          "India",
          "Australia",
          "South Korea",
          "Netherlands",
          "Brazil",
          "Russian Federation",
          "Taiwan",
          "Switzerland",
          "Poland",
          "Sweden",
          "Turkey",
          "Belgium",
          "Israel",
          "Austria",
          "Iran",
          "Greece",
          "Denmark",
          "Finland",
          "Czech Republic",
          "Hong Kong",
          "Mexico",
          "Norway",
          "Singapore",
          "Portugal",
          "New Zealand",
          "South Africa",
          "Hungary",
          "Ireland",
          "Argentina",
          "Ukraine",
          "Romania",
          "Thailand",
          "Egypt",
          "Malaysia",
          "Chile",
          "Croatia",
          "Pakistan",
          "Slovakia",
          "Slovenia",
          "Nigeria",
          "Bulgaria",
          "Tunisia",
          "Saudi Arabia",
          "Serbia",
          "Colombia",
          "Lithuania",
          "Algeria",
          "Venezuela",
          "Cuba",
          "Belarus",
          "Morocco",
          "Jordan",
          "Estonia",
          "United Arab Emirates",
          "Bangladesh",
          "Indonesia",
          "Kenya",
          "Viet Nam",
          "Lebanon",
          "Kuwait",
          "Philippines",
          "Puerto Rico",
          "Cyprus",
          "Peru",
          "Iceland",
          "Sri Lanka",
          "Latvia",
          "Armenia",
          "Tanzania",
          "Uruguay",
          "Oman",
          "Cameroon",
          "Ethiopia",
          "Nepal",
          "Georgia",
          "Uganda",
          "Ghana",
          "Azerbaijan",
          "Costa Rica",
          "Uzbekistan",
          "Luxembourg",
          "Macedonia",
          "Bosnia and Herzegovina",
          "Qatar",
          "Kazakhstan",
          "Zimbabwe",
          "Senegal",
          "Ecuador",
          "Iraq",
          "Trinidad and Tobago",
          "Sudan",
          "Moldova",
          "Botswana",
          "Panama",
          "Macao",
          "Syrian Arab Republic",
          "Malawi",
          "Bahrain",
          "Côte d’Ivoire",
          "Palestine",
          "Burkina Faso",
          "Jamaica",
          "Bolivia",
          "Mongolia",
          "Madagascar",
          "Benin",
          "Zambia",
          "Libya",
          "Malta",
          "Fiji",
          "Congo",
          "Cambodia",
          "Mali",
          "New Caledonia",
          "Papua New Guinea",
          "Namibia",
          "Mozambique",
          "Yemen",
          "Gambia",
          "Montenegro",
          "Guatemala",
          "Mauritius",
          "Gabon",
          "Guadeloupe",
          "Myanmar",
          "Albania",
          "Barbados",
          "Monaco",
          "Brunei Darussalam",
          "Kyrgyzstan",
          "Laos",
          "Grenada",
          "Togo",
          "French Polynesia",
          "Niger",
          "Nicaragua",
          "Paraguay",
          "French Guiana",
          "Dominican Republic",
          "Liechtenstein",
          "Tajikistan",
          "Rwanda",
          "Eritrea",
          "Reunion",
          "Greenland",
          "El Salvador",
          "Honduras",
          "Seychelles",
          "Eswatini",
          "Angola",
          "Falkland Islands (Malvinas)",
          "Guam",
          "Bermuda",
          "Afghanistan",
          "Guyana",
          "Guinea",
          "Guinea-Bissau",
          "Haïti",
          "Lesotho",
          "Bahamas",
          "North Korea",
          "Central African Republic",
          "Martinique",
          "Mauritania",
          "Netherlands Antilles",
          "Chad",
          "Sierra Leone",
          "Burundi",
          "Federated States of Micronesia",
          "Bhutan",
          "Suriname",
          "Faroe Islands",
          "Democratic Republic Congo",
          "Palau",
          "Andorra",
          "Solomon Islands",
          "Virgin Islands (British)",
          "Maldives",
          "San Marino",
          "Djibouti",
          "Gibraltar",
          "Dominica",
          "Equatorial Guinea",
          "Saint Kitts and Nevis",
          "Antigua and Barbuda",
          "Samoa",
          "Virgin Islands (U.S.)",
          "Comoros",
          "Turkmenistan",
          "Belize",
          "Saint Lucia",
          "Vanuatu",
          "Tonga",
          "Liberia",
          "Mayotte",
          "American Samoa",
          "Marshall Islands",
          "Kiribati",
          "Timor-Leste",
          "Cook Islands",
          "Cape Verde",
          "Cayman Islands",
          "Saint Vincent and the Grenadines",
          "Montserrat",
          "Niue",
          "Cocos (Keeling) Islands",
          "Northern Mariana Islands",
          "Sao Tome and Principe",
          "Norfolk Island",
          "Turks and Caicos Islands",
          "Tuvalu",
          "Wallis and Futuna",
          "Svalbard and Jan Mayen",
          "Saint Pierre and Miquelon",
          "British Indian Ocean Territory",
          "Aruba",
          "United States Minor Outlying Islands",
          "Vatican City State",
          "Somalia"
         ],
         "name": "",
         "type": "choropleth",
         "z": [
          469050,
          221145,
          129869,
          122165,
          120028,
          86318,
          70991,
          69013,
          54203,
          49684,
          48885,
          47437,
          37109,
          36242,
          35912,
          31287,
          27600,
          26409,
          24930,
          24318,
          20742,
          15387,
          15167,
          14968,
          14446,
          13799,
          13394,
          13073,
          12726,
          12613,
          11544,
          11013,
          10467,
          9179,
          8664,
          8200,
          8022,
          7837,
          6867,
          6655,
          6462,
          5839,
          5168,
          5106,
          4480,
          4164,
          4072,
          3900,
          3605,
          3545,
          3004,
          2824,
          2585,
          2440,
          2146,
          2045,
          1973,
          1784,
          1736,
          1586,
          1551,
          1498,
          1435,
          1420,
          1303,
          1162,
          1084,
          1063,
          970,
          889,
          881,
          799,
          765,
          737,
          694,
          688,
          650,
          644,
          640,
          628,
          602,
          590,
          586,
          559,
          555,
          513,
          502,
          490,
          481,
          460,
          427,
          425,
          374,
          364,
          352,
          351,
          335,
          323,
          296,
          279,
          278,
          273,
          272,
          266,
          260,
          259,
          255,
          252,
          248,
          243,
          242,
          222,
          219,
          209,
          201,
          185,
          183,
          176,
          169,
          159,
          143,
          142,
          126,
          122,
          112,
          109,
          99,
          96,
          95,
          93,
          93,
          90,
          81,
          80,
          80,
          80,
          79,
          78,
          75,
          71,
          66,
          64,
          63,
          63,
          62,
          61,
          60,
          56,
          56,
          55,
          55,
          52,
          47,
          46,
          39,
          37,
          36,
          35,
          34,
          34,
          34,
          31,
          30,
          30,
          30,
          29,
          28,
          26,
          26,
          26,
          24,
          24,
          23,
          22,
          21,
          21,
          21,
          19,
          18,
          18,
          18,
          18,
          16,
          15,
          15,
          15,
          14,
          12,
          11,
          11,
          10,
          10,
          10,
          10,
          9,
          9,
          9,
          9,
          9,
          8,
          8,
          8,
          8,
          8,
          7,
          7,
          7,
          7,
          6,
          6,
          6,
          6,
          5,
          5,
          4,
          4,
          3,
          2,
          2,
          2,
          2,
          2,
          1,
          1,
          1,
          1,
          0,
          0
         ]
        }
       ],
       "layout": {
        "coloraxis": {
         "colorbar": {
          "title": {
           "text": "Publications"
          }
         },
         "colorscale": [
          [
           0,
           "#0d0887"
          ],
          [
           0.1111111111111111,
           "#46039f"
          ],
          [
           0.2222222222222222,
           "#7201a8"
          ],
          [
           0.3333333333333333,
           "#9c179e"
          ],
          [
           0.4444444444444444,
           "#bd3786"
          ],
          [
           0.5555555555555556,
           "#d8576b"
          ],
          [
           0.6666666666666666,
           "#ed7953"
          ],
          [
           0.7777777777777778,
           "#fb9f3a"
          ],
          [
           0.8888888888888888,
           "#fdca26"
          ],
          [
           1,
           "#f0f921"
          ]
         ]
        },
        "geo": {
         "center": {},
         "domain": {
          "x": [
           0,
           1
          ],
          "y": [
           0,
           1
          ]
         },
         "projection": {
          "type": "equirectangular"
         },
         "showcoastlines": true,
         "showframe": false
        },
        "legend": {
         "tracegroupgap": 0
        },
        "margin": {
         "b": 0,
         "l": 0,
         "r": 0,
         "t": 50
        },
        "template": {
         "data": {
          "bar": [
           {
            "error_x": {
             "color": "#2a3f5f"
            },
            "error_y": {
             "color": "#2a3f5f"
            },
            "marker": {
             "line": {
              "color": "#E5ECF6",
              "width": 0.5
             },
             "pattern": {
              "fillmode": "overlay",
              "size": 10,
              "solidity": 0.2
             }
            },
            "type": "bar"
           }
          ],
          "barpolar": [
           {
            "marker": {
             "line": {
              "color": "#E5ECF6",
              "width": 0.5
             },
             "pattern": {
              "fillmode": "overlay",
              "size": 10,
              "solidity": 0.2
             }
            },
            "type": "barpolar"
           }
          ],
          "carpet": [
           {
            "aaxis": {
             "endlinecolor": "#2a3f5f",
             "gridcolor": "white",
             "linecolor": "white",
             "minorgridcolor": "white",
             "startlinecolor": "#2a3f5f"
            },
            "baxis": {
             "endlinecolor": "#2a3f5f",
             "gridcolor": "white",
             "linecolor": "white",
             "minorgridcolor": "white",
             "startlinecolor": "#2a3f5f"
            },
            "type": "carpet"
           }
          ],
          "choropleth": [
           {
            "colorbar": {
             "outlinewidth": 0,
             "ticks": ""
            },
            "type": "choropleth"
           }
          ],
          "contour": [
           {
            "colorbar": {
             "outlinewidth": 0,
             "ticks": ""
            },
            "colorscale": [
             [
              0,
              "#0d0887"
             ],
             [
              0.1111111111111111,
              "#46039f"
             ],
             [
              0.2222222222222222,
              "#7201a8"
             ],
             [
              0.3333333333333333,
              "#9c179e"
             ],
             [
              0.4444444444444444,
              "#bd3786"
             ],
             [
              0.5555555555555556,
              "#d8576b"
             ],
             [
              0.6666666666666666,
              "#ed7953"
             ],
             [
              0.7777777777777778,
              "#fb9f3a"
             ],
             [
              0.8888888888888888,
              "#fdca26"
             ],
             [
              1,
              "#f0f921"
             ]
            ],
            "type": "contour"
           }
          ],
          "contourcarpet": [
           {
            "colorbar": {
             "outlinewidth": 0,
             "ticks": ""
            },
            "type": "contourcarpet"
           }
          ],
          "heatmap": [
           {
            "colorbar": {
             "outlinewidth": 0,
             "ticks": ""
            },
            "colorscale": [
             [
              0,
              "#0d0887"
             ],
             [
              0.1111111111111111,
              "#46039f"
             ],
             [
              0.2222222222222222,
              "#7201a8"
             ],
             [
              0.3333333333333333,
              "#9c179e"
             ],
             [
              0.4444444444444444,
              "#bd3786"
             ],
             [
              0.5555555555555556,
              "#d8576b"
             ],
             [
              0.6666666666666666,
              "#ed7953"
             ],
             [
              0.7777777777777778,
              "#fb9f3a"
             ],
             [
              0.8888888888888888,
              "#fdca26"
             ],
             [
              1,
              "#f0f921"
             ]
            ],
            "type": "heatmap"
           }
          ],
          "heatmapgl": [
           {
            "colorbar": {
             "outlinewidth": 0,
             "ticks": ""
            },
            "colorscale": [
             [
              0,
              "#0d0887"
             ],
             [
              0.1111111111111111,
              "#46039f"
             ],
             [
              0.2222222222222222,
              "#7201a8"
             ],
             [
              0.3333333333333333,
              "#9c179e"
             ],
             [
              0.4444444444444444,
              "#bd3786"
             ],
             [
              0.5555555555555556,
              "#d8576b"
             ],
             [
              0.6666666666666666,
              "#ed7953"
             ],
             [
              0.7777777777777778,
              "#fb9f3a"
             ],
             [
              0.8888888888888888,
              "#fdca26"
             ],
             [
              1,
              "#f0f921"
             ]
            ],
            "type": "heatmapgl"
           }
          ],
          "histogram": [
           {
            "marker": {
             "pattern": {
              "fillmode": "overlay",
              "size": 10,
              "solidity": 0.2
             }
            },
            "type": "histogram"
           }
          ],
          "histogram2d": [
           {
            "colorbar": {
             "outlinewidth": 0,
             "ticks": ""
            },
            "colorscale": [
             [
              0,
              "#0d0887"
             ],
             [
              0.1111111111111111,
              "#46039f"
             ],
             [
              0.2222222222222222,
              "#7201a8"
             ],
             [
              0.3333333333333333,
              "#9c179e"
             ],
             [
              0.4444444444444444,
              "#bd3786"
             ],
             [
              0.5555555555555556,
              "#d8576b"
             ],
             [
              0.6666666666666666,
              "#ed7953"
             ],
             [
              0.7777777777777778,
              "#fb9f3a"
             ],
             [
              0.8888888888888888,
              "#fdca26"
             ],
             [
              1,
              "#f0f921"
             ]
            ],
            "type": "histogram2d"
           }
          ],
          "histogram2dcontour": [
           {
            "colorbar": {
             "outlinewidth": 0,
             "ticks": ""
            },
            "colorscale": [
             [
              0,
              "#0d0887"
             ],
             [
              0.1111111111111111,
              "#46039f"
             ],
             [
              0.2222222222222222,
              "#7201a8"
             ],
             [
              0.3333333333333333,
              "#9c179e"
             ],
             [
              0.4444444444444444,
              "#bd3786"
             ],
             [
              0.5555555555555556,
              "#d8576b"
             ],
             [
              0.6666666666666666,
              "#ed7953"
             ],
             [
              0.7777777777777778,
              "#fb9f3a"
             ],
             [
              0.8888888888888888,
              "#fdca26"
             ],
             [
              1,
              "#f0f921"
             ]
            ],
            "type": "histogram2dcontour"
           }
          ],
          "mesh3d": [
           {
            "colorbar": {
             "outlinewidth": 0,
             "ticks": ""
            },
            "type": "mesh3d"
           }
          ],
          "parcoords": [
           {
            "line": {
             "colorbar": {
              "outlinewidth": 0,
              "ticks": ""
             }
            },
            "type": "parcoords"
           }
          ],
          "pie": [
           {
            "automargin": true,
            "type": "pie"
           }
          ],
          "scatter": [
           {
            "fillpattern": {
             "fillmode": "overlay",
             "size": 10,
             "solidity": 0.2
            },
            "type": "scatter"
           }
          ],
          "scatter3d": [
           {
            "line": {
             "colorbar": {
              "outlinewidth": 0,
              "ticks": ""
             }
            },
            "marker": {
             "colorbar": {
              "outlinewidth": 0,
              "ticks": ""
             }
            },
            "type": "scatter3d"
           }
          ],
          "scattercarpet": [
           {
            "marker": {
             "colorbar": {
              "outlinewidth": 0,
              "ticks": ""
             }
            },
            "type": "scattercarpet"
           }
          ],
          "scattergeo": [
           {
            "marker": {
             "colorbar": {
              "outlinewidth": 0,
              "ticks": ""
             }
            },
            "type": "scattergeo"
           }
          ],
          "scattergl": [
           {
            "marker": {
             "colorbar": {
              "outlinewidth": 0,
              "ticks": ""
             }
            },
            "type": "scattergl"
           }
          ],
          "scattermapbox": [
           {
            "marker": {
             "colorbar": {
              "outlinewidth": 0,
              "ticks": ""
             }
            },
            "type": "scattermapbox"
           }
          ],
          "scatterpolar": [
           {
            "marker": {
             "colorbar": {
              "outlinewidth": 0,
              "ticks": ""
             }
            },
            "type": "scatterpolar"
           }
          ],
          "scatterpolargl": [
           {
            "marker": {
             "colorbar": {
              "outlinewidth": 0,
              "ticks": ""
             }
            },
            "type": "scatterpolargl"
           }
          ],
          "scatterternary": [
           {
            "marker": {
             "colorbar": {
              "outlinewidth": 0,
              "ticks": ""
             }
            },
            "type": "scatterternary"
           }
          ],
          "surface": [
           {
            "colorbar": {
             "outlinewidth": 0,
             "ticks": ""
            },
            "colorscale": [
             [
              0,
              "#0d0887"
             ],
             [
              0.1111111111111111,
              "#46039f"
             ],
             [
              0.2222222222222222,
              "#7201a8"
             ],
             [
              0.3333333333333333,
              "#9c179e"
             ],
             [
              0.4444444444444444,
              "#bd3786"
             ],
             [
              0.5555555555555556,
              "#d8576b"
             ],
             [
              0.6666666666666666,
              "#ed7953"
             ],
             [
              0.7777777777777778,
              "#fb9f3a"
             ],
             [
              0.8888888888888888,
              "#fdca26"
             ],
             [
              1,
              "#f0f921"
             ]
            ],
            "type": "surface"
           }
          ],
          "table": [
           {
            "cells": {
             "fill": {
              "color": "#EBF0F8"
             },
             "line": {
              "color": "white"
             }
            },
            "header": {
             "fill": {
              "color": "#C8D4E3"
             },
             "line": {
              "color": "white"
             }
            },
            "type": "table"
           }
          ]
         },
         "layout": {
          "annotationdefaults": {
           "arrowcolor": "#2a3f5f",
           "arrowhead": 0,
           "arrowwidth": 1
          },
          "autotypenumbers": "strict",
          "coloraxis": {
           "colorbar": {
            "outlinewidth": 0,
            "ticks": ""
           }
          },
          "colorscale": {
           "diverging": [
            [
             0,
             "#8e0152"
            ],
            [
             0.1,
             "#c51b7d"
            ],
            [
             0.2,
             "#de77ae"
            ],
            [
             0.3,
             "#f1b6da"
            ],
            [
             0.4,
             "#fde0ef"
            ],
            [
             0.5,
             "#f7f7f7"
            ],
            [
             0.6,
             "#e6f5d0"
            ],
            [
             0.7,
             "#b8e186"
            ],
            [
             0.8,
             "#7fbc41"
            ],
            [
             0.9,
             "#4d9221"
            ],
            [
             1,
             "#276419"
            ]
           ],
           "sequential": [
            [
             0,
             "#0d0887"
            ],
            [
             0.1111111111111111,
             "#46039f"
            ],
            [
             0.2222222222222222,
             "#7201a8"
            ],
            [
             0.3333333333333333,
             "#9c179e"
            ],
            [
             0.4444444444444444,
             "#bd3786"
            ],
            [
             0.5555555555555556,
             "#d8576b"
            ],
            [
             0.6666666666666666,
             "#ed7953"
            ],
            [
             0.7777777777777778,
             "#fb9f3a"
            ],
            [
             0.8888888888888888,
             "#fdca26"
            ],
            [
             1,
             "#f0f921"
            ]
           ],
           "sequentialminus": [
            [
             0,
             "#0d0887"
            ],
            [
             0.1111111111111111,
             "#46039f"
            ],
            [
             0.2222222222222222,
             "#7201a8"
            ],
            [
             0.3333333333333333,
             "#9c179e"
            ],
            [
             0.4444444444444444,
             "#bd3786"
            ],
            [
             0.5555555555555556,
             "#d8576b"
            ],
            [
             0.6666666666666666,
             "#ed7953"
            ],
            [
             0.7777777777777778,
             "#fb9f3a"
            ],
            [
             0.8888888888888888,
             "#fdca26"
            ],
            [
             1,
             "#f0f921"
            ]
           ]
          },
          "colorway": [
           "#636efa",
           "#EF553B",
           "#00cc96",
           "#ab63fa",
           "#FFA15A",
           "#19d3f3",
           "#FF6692",
           "#B6E880",
           "#FF97FF",
           "#FECB52"
          ],
          "font": {
           "color": "#2a3f5f"
          },
          "geo": {
           "bgcolor": "white",
           "lakecolor": "white",
           "landcolor": "#E5ECF6",
           "showlakes": true,
           "showland": true,
           "subunitcolor": "white"
          },
          "hoverlabel": {
           "align": "left"
          },
          "hovermode": "closest",
          "mapbox": {
           "style": "light"
          },
          "paper_bgcolor": "white",
          "plot_bgcolor": "#E5ECF6",
          "polar": {
           "angularaxis": {
            "gridcolor": "white",
            "linecolor": "white",
            "ticks": ""
           },
           "bgcolor": "#E5ECF6",
           "radialaxis": {
            "gridcolor": "white",
            "linecolor": "white",
            "ticks": ""
           }
          },
          "scene": {
           "xaxis": {
            "backgroundcolor": "#E5ECF6",
            "gridcolor": "white",
            "gridwidth": 2,
            "linecolor": "white",
            "showbackground": true,
            "ticks": "",
            "zerolinecolor": "white"
           },
           "yaxis": {
            "backgroundcolor": "#E5ECF6",
            "gridcolor": "white",
            "gridwidth": 2,
            "linecolor": "white",
            "showbackground": true,
            "ticks": "",
            "zerolinecolor": "white"
           },
           "zaxis": {
            "backgroundcolor": "#E5ECF6",
            "gridcolor": "white",
            "gridwidth": 2,
            "linecolor": "white",
            "showbackground": true,
            "ticks": "",
            "zerolinecolor": "white"
           }
          },
          "shapedefaults": {
           "line": {
            "color": "#2a3f5f"
           }
          },
          "ternary": {
           "aaxis": {
            "gridcolor": "white",
            "linecolor": "white",
            "ticks": ""
           },
           "baxis": {
            "gridcolor": "white",
            "linecolor": "white",
            "ticks": ""
           },
           "bgcolor": "#E5ECF6",
           "caxis": {
            "gridcolor": "white",
            "linecolor": "white",
            "ticks": ""
           }
          },
          "title": {
           "x": 0.05
          },
          "xaxis": {
           "automargin": true,
           "gridcolor": "white",
           "linecolor": "white",
           "ticks": "",
           "title": {
            "standoff": 15
           },
           "zerolinecolor": "white",
           "zerolinewidth": 2
          },
          "yaxis": {
           "automargin": true,
           "gridcolor": "white",
           "linecolor": "white",
           "ticks": "",
           "title": {
            "standoff": 15
           },
           "zerolinecolor": "white",
           "zerolinewidth": 2
          }
         }
        },
        "title": {
         "font": {
          "family": "Helvetica Neue, sans-serif",
          "size": 18
         },
         "text": "Number of publications per country",
         "x": 0.5,
         "y": 0.95
        }
       }
      }
     },
     "metadata": {},
     "output_type": "display_data"
    }
   ],
   "source": [
    "from src.utils.plots import plot_color_map\n",
    "fig = plot_color_map(\n",
    "    publications_per_country,\n",
    "    'Publications',\n",
    "    'Number of publications per country'\n",
    ")\n",
    "\n",
    "fig.write_html(\"./graphs/intro/publications_intro_map.html\")\n",
    "fig.show()"
   ]
  },
  {
   "cell_type": "code",
   "execution_count": 14,
   "metadata": {},
   "outputs": [
    {
     "data": {
      "text/html": [
       "<div>\n",
       "<style scoped>\n",
       "    .dataframe tbody tr th:only-of-type {\n",
       "        vertical-align: middle;\n",
       "    }\n",
       "\n",
       "    .dataframe tbody tr th {\n",
       "        vertical-align: top;\n",
       "    }\n",
       "\n",
       "    .dataframe thead th {\n",
       "        text-align: right;\n",
       "    }\n",
       "</style>\n",
       "<table border=\"1\" class=\"dataframe\">\n",
       "  <thead>\n",
       "    <tr style=\"text-align: right;\">\n",
       "      <th></th>\n",
       "      <th>country</th>\n",
       "      <th>Articles</th>\n",
       "    </tr>\n",
       "  </thead>\n",
       "  <tbody>\n",
       "    <tr>\n",
       "      <th>0</th>\n",
       "      <td>afghanistan</td>\n",
       "      <td>10</td>\n",
       "    </tr>\n",
       "    <tr>\n",
       "      <th>1</th>\n",
       "      <td>albania</td>\n",
       "      <td>2</td>\n",
       "    </tr>\n",
       "    <tr>\n",
       "      <th>2</th>\n",
       "      <td>algeria</td>\n",
       "      <td>6</td>\n",
       "    </tr>\n",
       "    <tr>\n",
       "      <th>3</th>\n",
       "      <td>andorra</td>\n",
       "      <td>1</td>\n",
       "    </tr>\n",
       "    <tr>\n",
       "      <th>4</th>\n",
       "      <td>angola</td>\n",
       "      <td>1</td>\n",
       "    </tr>\n",
       "  </tbody>\n",
       "</table>\n",
       "</div>"
      ],
      "text/plain": [
       "       country  Articles\n",
       "0  afghanistan        10\n",
       "1      albania         2\n",
       "2      algeria         6\n",
       "3      andorra         1\n",
       "4       angola         1"
      ]
     },
     "execution_count": 14,
     "metadata": {},
     "output_type": "execute_result"
    }
   ],
   "source": [
    "articles = pd.read_csv(\"data/country_clicks_links.csv\", index_col=0).reset_index()\n",
    "articles = articles.rename(columns={'index': 'Articles', 'Top_1_name': 'country'})\n",
    "\n",
    "articles_per_country = articles[['country', 'Articles']].groupby('country', as_index=False).count()\n",
    "\n",
    "articles_per_country.head()"
   ]
  },
  {
   "cell_type": "code",
   "execution_count": null,
   "metadata": {},
   "outputs": [
    {
     "data": {
      "application/vnd.plotly.v1+json": {
       "config": {
        "plotlyServerURL": "https://plot.ly"
       },
       "data": [
        {
         "coloraxis": "coloraxis",
         "customdata": [
          [
           10,
           "afghanistan"
          ],
          [
           2,
           "albania"
          ],
          [
           6,
           "algeria"
          ],
          [
           1,
           "andorra"
          ],
          [
           1,
           "angola"
          ],
          [
           1,
           "anguilla"
          ],
          [
           7,
           "antarctica"
          ],
          [
           15,
           "argentina"
          ],
          [
           3,
           "armenia"
          ],
          [
           1,
           "aruba"
          ],
          [
           109,
           "australia"
          ],
          [
           17,
           "austria"
          ],
          [
           2,
           "azerbaijan"
          ],
          [
           5,
           "bahamas"
          ],
          [
           1,
           "bahrain"
          ],
          [
           2,
           "bangladesh"
          ],
          [
           2,
           "barbados"
          ],
          [
           2,
           "belarus"
          ],
          [
           16,
           "belgium"
          ],
          [
           1,
           "belize"
          ],
          [
           3,
           "benin"
          ],
          [
           2,
           "bermuda"
          ],
          [
           1,
           "bhutan"
          ],
          [
           4,
           "bolivia"
          ],
          [
           3,
           "botswana"
          ],
          [
           18,
           "brazil"
          ],
          [
           1,
           "british virgin islands"
          ],
          [
           1,
           "brunei"
          ],
          [
           1,
           "bulgaria"
          ],
          [
           4,
           "burkina faso"
          ],
          [
           1,
           "burundi"
          ],
          [
           3,
           "cambodia"
          ],
          [
           3,
           "cameroon"
          ],
          [
           69,
           "canada"
          ],
          [
           2,
           "cape verde"
          ],
          [
           1,
           "cayman islands"
          ],
          [
           1,
           "central african republic"
          ],
          [
           3,
           "chad"
          ],
          [
           9,
           "chile"
          ],
          [
           85,
           "china"
          ],
          [
           4,
           "colombia"
          ],
          [
           1,
           "comoros"
          ],
          [
           1,
           "cook islands"
          ],
          [
           1,
           "costa rica"
          ],
          [
           1,
           "croatia"
          ],
          [
           3,
           "cuba"
          ],
          [
           2,
           "cyprus"
          ],
          [
           21,
           "denmark"
          ],
          [
           1,
           "djibouti"
          ],
          [
           2,
           "dominica"
          ],
          [
           4,
           "ecuador"
          ],
          [
           29,
           "egypt"
          ],
          [
           1,
           "el salvador"
          ],
          [
           1,
           "eritrea"
          ],
          [
           3,
           "estonia"
          ],
          [
           14,
           "ethiopia"
          ],
          [
           2,
           "falkland islands"
          ],
          [
           1,
           "fiji"
          ],
          [
           7,
           "finland"
          ],
          [
           107,
           "france"
          ],
          [
           1,
           "french polynesia"
          ],
          [
           2,
           "gabon"
          ],
          [
           2,
           "gambia"
          ],
          [
           6,
           "georgia"
          ],
          [
           106,
           "germany"
          ],
          [
           4,
           "ghana"
          ],
          [
           2,
           "gibraltar"
          ],
          [
           56,
           "greece"
          ],
          [
           2,
           "greenland"
          ],
          [
           3,
           "grenada"
          ],
          [
           1,
           "guadeloupe"
          ],
          [
           1,
           "guam"
          ],
          [
           2,
           "guatemala"
          ],
          [
           2,
           "guernsey"
          ],
          [
           1,
           "guinea"
          ],
          [
           2,
           "guyana"
          ],
          [
           1,
           "haiti"
          ],
          [
           3,
           "honduras"
          ],
          [
           9,
           "hungary"
          ],
          [
           9,
           "iceland"
          ],
          [
           91,
           "india"
          ],
          [
           17,
           "indonesia"
          ],
          [
           18,
           "iran"
          ],
          [
           14,
           "iraq"
          ],
          [
           41,
           "ireland"
          ],
          [
           2,
           "isle of man"
          ],
          [
           20,
           "israel"
          ],
          [
           103,
           "italy"
          ],
          [
           4,
           "jamaica"
          ],
          [
           58,
           "japan"
          ],
          [
           3,
           "jersey"
          ],
          [
           4,
           "jordan"
          ],
          [
           4,
           "kazakhstan"
          ],
          [
           7,
           "kenya"
          ],
          [
           2,
           "kiribati"
          ],
          [
           2,
           "kuwait"
          ],
          [
           2,
           "kyrgyzstan"
          ],
          [
           1,
           "laos"
          ],
          [
           1,
           "latvia"
          ],
          [
           3,
           "lebanon"
          ],
          [
           3,
           "lesotho"
          ],
          [
           3,
           "liberia"
          ],
          [
           2,
           "libya"
          ],
          [
           1,
           "liechtenstein"
          ],
          [
           1,
           "lithuania"
          ],
          [
           4,
           "luxembourg"
          ],
          [
           6,
           "madagascar"
          ],
          [
           4,
           "malawi"
          ],
          [
           10,
           "malaysia"
          ],
          [
           1,
           "maldives"
          ],
          [
           3,
           "mali"
          ],
          [
           1,
           "malta"
          ],
          [
           1,
           "marshall islands"
          ],
          [
           2,
           "martinique"
          ],
          [
           2,
           "mauritania"
          ],
          [
           4,
           "mauritius"
          ],
          [
           27,
           "mexico"
          ],
          [
           1,
           "micronesia"
          ],
          [
           2,
           "moldova"
          ],
          [
           3,
           "monaco"
          ],
          [
           9,
           "mongolia"
          ],
          [
           1,
           "montenegro"
          ],
          [
           1,
           "montserrat"
          ],
          [
           12,
           "morocco"
          ],
          [
           3,
           "mozambique"
          ],
          [
           1,
           "namibia"
          ],
          [
           1,
           "nauru"
          ],
          [
           7,
           "nepal"
          ],
          [
           29,
           "netherlands"
          ],
          [
           21,
           "new zealand"
          ],
          [
           1,
           "nicaragua"
          ],
          [
           1,
           "niger"
          ],
          [
           1,
           "niue"
          ],
          [
           3,
           "north korea"
          ],
          [
           1,
           "northern mariana islands"
          ],
          [
           19,
           "norway"
          ],
          [
           3,
           "oman"
          ],
          [
           15,
           "pakistan"
          ],
          [
           1,
           "palau"
          ],
          [
           3,
           "panama"
          ],
          [
           2,
           "paraguay"
          ],
          [
           11,
           "peru"
          ],
          [
           12,
           "philippines"
          ],
          [
           1,
           "pitcairn islands"
          ],
          [
           26,
           "poland"
          ],
          [
           10,
           "portugal"
          ],
          [
           6,
           "puerto rico"
          ],
          [
           3,
           "qatar"
          ],
          [
           68,
           "russia"
          ],
          [
           6,
           "rwanda"
          ],
          [
           1,
           "samoa"
          ],
          [
           1,
           "san marino"
          ],
          [
           7,
           "saudi arabia"
          ],
          [
           2,
           "senegal"
          ],
          [
           6,
           "serbia"
          ],
          [
           2,
           "seychelles"
          ],
          [
           2,
           "sierra leone"
          ],
          [
           4,
           "singapore"
          ],
          [
           3,
           "slovakia"
          ],
          [
           1,
           "slovenia"
          ],
          [
           5,
           "solomon islands"
          ],
          [
           38,
           "south africa"
          ],
          [
           3,
           "south korea"
          ],
          [
           29,
           "spain"
          ],
          [
           4,
           "sri lanka"
          ],
          [
           6,
           "sudan"
          ],
          [
           2,
           "suriname"
          ],
          [
           13,
           "sweden"
          ],
          [
           20,
           "switzerland"
          ],
          [
           5,
           "syria"
          ],
          [
           3,
           "taiwan"
          ],
          [
           1,
           "tajikistan"
          ],
          [
           4,
           "tanzania"
          ],
          [
           4,
           "thailand"
          ],
          [
           1,
           "timor-leste"
          ],
          [
           2,
           "togo"
          ],
          [
           1,
           "tonga"
          ],
          [
           2,
           "tunisia"
          ],
          [
           15,
           "turkey"
          ],
          [
           1,
           "turkmenistan"
          ],
          [
           1,
           "tuvalu"
          ],
          [
           8,
           "uganda"
          ],
          [
           7,
           "ukraine"
          ],
          [
           4,
           "united arab emirates"
          ],
          [
           203,
           "united kingdom"
          ],
          [
           555,
           "united states"
          ],
          [
           2,
           "uruguay"
          ],
          [
           6,
           "uzbekistan"
          ],
          [
           1,
           "vanuatu"
          ],
          [
           1,
           "vatican city"
          ],
          [
           5,
           "venezuela"
          ],
          [
           6,
           "vietnam"
          ],
          [
           1,
           "yemen"
          ],
          [
           6,
           "zambia"
          ],
          [
           2,
           "zimbabwe"
          ]
         ],
         "geo": "geo",
         "hoverlabel": {
          "bgcolor": "white",
          "font": {
           "family": "Helvetica Neue",
           "size": 12
          }
         },
         "hovertemplate": "<b>%{hovertext}</b><br><br>Articles=%{z:,.0f}<extra></extra>",
         "hovertext": [
          "afghanistan",
          "albania",
          "algeria",
          "andorra",
          "angola",
          "anguilla",
          "antarctica",
          "argentina",
          "armenia",
          "aruba",
          "australia",
          "austria",
          "azerbaijan",
          "bahamas",
          "bahrain",
          "bangladesh",
          "barbados",
          "belarus",
          "belgium",
          "belize",
          "benin",
          "bermuda",
          "bhutan",
          "bolivia",
          "botswana",
          "brazil",
          "british virgin islands",
          "brunei",
          "bulgaria",
          "burkina faso",
          "burundi",
          "cambodia",
          "cameroon",
          "canada",
          "cape verde",
          "cayman islands",
          "central african republic",
          "chad",
          "chile",
          "china",
          "colombia",
          "comoros",
          "cook islands",
          "costa rica",
          "croatia",
          "cuba",
          "cyprus",
          "denmark",
          "djibouti",
          "dominica",
          "ecuador",
          "egypt",
          "el salvador",
          "eritrea",
          "estonia",
          "ethiopia",
          "falkland islands",
          "fiji",
          "finland",
          "france",
          "french polynesia",
          "gabon",
          "gambia",
          "georgia",
          "germany",
          "ghana",
          "gibraltar",
          "greece",
          "greenland",
          "grenada",
          "guadeloupe",
          "guam",
          "guatemala",
          "guernsey",
          "guinea",
          "guyana",
          "haiti",
          "honduras",
          "hungary",
          "iceland",
          "india",
          "indonesia",
          "iran",
          "iraq",
          "ireland",
          "isle of man",
          "israel",
          "italy",
          "jamaica",
          "japan",
          "jersey",
          "jordan",
          "kazakhstan",
          "kenya",
          "kiribati",
          "kuwait",
          "kyrgyzstan",
          "laos",
          "latvia",
          "lebanon",
          "lesotho",
          "liberia",
          "libya",
          "liechtenstein",
          "lithuania",
          "luxembourg",
          "madagascar",
          "malawi",
          "malaysia",
          "maldives",
          "mali",
          "malta",
          "marshall islands",
          "martinique",
          "mauritania",
          "mauritius",
          "mexico",
          "micronesia",
          "moldova",
          "monaco",
          "mongolia",
          "montenegro",
          "montserrat",
          "morocco",
          "mozambique",
          "namibia",
          "nauru",
          "nepal",
          "netherlands",
          "new zealand",
          "nicaragua",
          "niger",
          "niue",
          "north korea",
          "northern mariana islands",
          "norway",
          "oman",
          "pakistan",
          "palau",
          "panama",
          "paraguay",
          "peru",
          "philippines",
          "pitcairn islands",
          "poland",
          "portugal",
          "puerto rico",
          "qatar",
          "russia",
          "rwanda",
          "samoa",
          "san marino",
          "saudi arabia",
          "senegal",
          "serbia",
          "seychelles",
          "sierra leone",
          "singapore",
          "slovakia",
          "slovenia",
          "solomon islands",
          "south africa",
          "south korea",
          "spain",
          "sri lanka",
          "sudan",
          "suriname",
          "sweden",
          "switzerland",
          "syria",
          "taiwan",
          "tajikistan",
          "tanzania",
          "thailand",
          "timor-leste",
          "togo",
          "tonga",
          "tunisia",
          "turkey",
          "turkmenistan",
          "tuvalu",
          "uganda",
          "ukraine",
          "united arab emirates",
          "united kingdom",
          "united states",
          "uruguay",
          "uzbekistan",
          "vanuatu",
          "vatican city",
          "venezuela",
          "vietnam",
          "yemen",
          "zambia",
          "zimbabwe"
         ],
         "locationmode": "country names",
         "locations": [
          "afghanistan",
          "albania",
          "algeria",
          "andorra",
          "angola",
          "anguilla",
          "antarctica",
          "argentina",
          "armenia",
          "aruba",
          "australia",
          "austria",
          "azerbaijan",
          "bahamas",
          "bahrain",
          "bangladesh",
          "barbados",
          "belarus",
          "belgium",
          "belize",
          "benin",
          "bermuda",
          "bhutan",
          "bolivia",
          "botswana",
          "brazil",
          "british virgin islands",
          "brunei",
          "bulgaria",
          "burkina faso",
          "burundi",
          "cambodia",
          "cameroon",
          "canada",
          "cape verde",
          "cayman islands",
          "central african republic",
          "chad",
          "chile",
          "china",
          "colombia",
          "comoros",
          "cook islands",
          "costa rica",
          "croatia",
          "cuba",
          "cyprus",
          "denmark",
          "djibouti",
          "dominica",
          "ecuador",
          "egypt",
          "el salvador",
          "eritrea",
          "estonia",
          "ethiopia",
          "falkland islands",
          "fiji",
          "finland",
          "france",
          "french polynesia",
          "gabon",
          "gambia",
          "georgia",
          "germany",
          "ghana",
          "gibraltar",
          "greece",
          "greenland",
          "grenada",
          "guadeloupe",
          "guam",
          "guatemala",
          "guernsey",
          "guinea",
          "guyana",
          "haiti",
          "honduras",
          "hungary",
          "iceland",
          "india",
          "indonesia",
          "iran",
          "iraq",
          "ireland",
          "isle of man",
          "israel",
          "italy",
          "jamaica",
          "japan",
          "jersey",
          "jordan",
          "kazakhstan",
          "kenya",
          "kiribati",
          "kuwait",
          "kyrgyzstan",
          "laos",
          "latvia",
          "lebanon",
          "lesotho",
          "liberia",
          "libya",
          "liechtenstein",
          "lithuania",
          "luxembourg",
          "madagascar",
          "malawi",
          "malaysia",
          "maldives",
          "mali",
          "malta",
          "marshall islands",
          "martinique",
          "mauritania",
          "mauritius",
          "mexico",
          "micronesia",
          "moldova",
          "monaco",
          "mongolia",
          "montenegro",
          "montserrat",
          "morocco",
          "mozambique",
          "namibia",
          "nauru",
          "nepal",
          "netherlands",
          "new zealand",
          "nicaragua",
          "niger",
          "niue",
          "north korea",
          "northern mariana islands",
          "norway",
          "oman",
          "pakistan",
          "palau",
          "panama",
          "paraguay",
          "peru",
          "philippines",
          "pitcairn islands",
          "poland",
          "portugal",
          "puerto rico",
          "qatar",
          "russia",
          "rwanda",
          "samoa",
          "san marino",
          "saudi arabia",
          "senegal",
          "serbia",
          "seychelles",
          "sierra leone",
          "singapore",
          "slovakia",
          "slovenia",
          "solomon islands",
          "south africa",
          "south korea",
          "spain",
          "sri lanka",
          "sudan",
          "suriname",
          "sweden",
          "switzerland",
          "syria",
          "taiwan",
          "tajikistan",
          "tanzania",
          "thailand",
          "timor-leste",
          "togo",
          "tonga",
          "tunisia",
          "turkey",
          "turkmenistan",
          "tuvalu",
          "uganda",
          "ukraine",
          "united arab emirates",
          "united kingdom",
          "united states",
          "uruguay",
          "uzbekistan",
          "vanuatu",
          "vatican city",
          "venezuela",
          "vietnam",
          "yemen",
          "zambia",
          "zimbabwe"
         ],
         "name": "",
         "type": "choropleth",
         "z": [
          10,
          2,
          6,
          1,
          1,
          1,
          7,
          15,
          3,
          1,
          109,
          17,
          2,
          5,
          1,
          2,
          2,
          2,
          16,
          1,
          3,
          2,
          1,
          4,
          3,
          18,
          1,
          1,
          1,
          4,
          1,
          3,
          3,
          69,
          2,
          1,
          1,
          3,
          9,
          85,
          4,
          1,
          1,
          1,
          1,
          3,
          2,
          21,
          1,
          2,
          4,
          29,
          1,
          1,
          3,
          14,
          2,
          1,
          7,
          107,
          1,
          2,
          2,
          6,
          106,
          4,
          2,
          56,
          2,
          3,
          1,
          1,
          2,
          2,
          1,
          2,
          1,
          3,
          9,
          9,
          91,
          17,
          18,
          14,
          41,
          2,
          20,
          103,
          4,
          58,
          3,
          4,
          4,
          7,
          2,
          2,
          2,
          1,
          1,
          3,
          3,
          3,
          2,
          1,
          1,
          4,
          6,
          4,
          10,
          1,
          3,
          1,
          1,
          2,
          2,
          4,
          27,
          1,
          2,
          3,
          9,
          1,
          1,
          12,
          3,
          1,
          1,
          7,
          29,
          21,
          1,
          1,
          1,
          3,
          1,
          19,
          3,
          15,
          1,
          3,
          2,
          11,
          12,
          1,
          26,
          10,
          6,
          3,
          68,
          6,
          1,
          1,
          7,
          2,
          6,
          2,
          2,
          4,
          3,
          1,
          5,
          38,
          3,
          29,
          4,
          6,
          2,
          13,
          20,
          5,
          3,
          1,
          4,
          4,
          1,
          2,
          1,
          2,
          15,
          1,
          1,
          8,
          7,
          4,
          203,
          555,
          2,
          6,
          1,
          1,
          5,
          6,
          1,
          6,
          2
         ]
        }
       ],
       "layout": {
        "coloraxis": {
         "colorbar": {
          "title": {
           "text": "Articles"
          }
         },
         "colorscale": [
          [
           0,
           "#0d0887"
          ],
          [
           0.1111111111111111,
           "#46039f"
          ],
          [
           0.2222222222222222,
           "#7201a8"
          ],
          [
           0.3333333333333333,
           "#9c179e"
          ],
          [
           0.4444444444444444,
           "#bd3786"
          ],
          [
           0.5555555555555556,
           "#d8576b"
          ],
          [
           0.6666666666666666,
           "#ed7953"
          ],
          [
           0.7777777777777778,
           "#fb9f3a"
          ],
          [
           0.8888888888888888,
           "#fdca26"
          ],
          [
           1,
           "#f0f921"
          ]
         ]
        },
        "geo": {
         "center": {},
         "domain": {
          "x": [
           0,
           1
          ],
          "y": [
           0,
           1
          ]
         },
         "projection": {
          "type": "equirectangular"
         },
         "showcoastlines": true,
         "showframe": false
        },
        "legend": {
         "tracegroupgap": 0
        },
        "margin": {
         "b": 0,
         "l": 0,
         "r": 0,
         "t": 50
        },
        "template": {
         "data": {
          "bar": [
           {
            "error_x": {
             "color": "#2a3f5f"
            },
            "error_y": {
             "color": "#2a3f5f"
            },
            "marker": {
             "line": {
              "color": "#E5ECF6",
              "width": 0.5
             },
             "pattern": {
              "fillmode": "overlay",
              "size": 10,
              "solidity": 0.2
             }
            },
            "type": "bar"
           }
          ],
          "barpolar": [
           {
            "marker": {
             "line": {
              "color": "#E5ECF6",
              "width": 0.5
             },
             "pattern": {
              "fillmode": "overlay",
              "size": 10,
              "solidity": 0.2
             }
            },
            "type": "barpolar"
           }
          ],
          "carpet": [
           {
            "aaxis": {
             "endlinecolor": "#2a3f5f",
             "gridcolor": "white",
             "linecolor": "white",
             "minorgridcolor": "white",
             "startlinecolor": "#2a3f5f"
            },
            "baxis": {
             "endlinecolor": "#2a3f5f",
             "gridcolor": "white",
             "linecolor": "white",
             "minorgridcolor": "white",
             "startlinecolor": "#2a3f5f"
            },
            "type": "carpet"
           }
          ],
          "choropleth": [
           {
            "colorbar": {
             "outlinewidth": 0,
             "ticks": ""
            },
            "type": "choropleth"
           }
          ],
          "contour": [
           {
            "colorbar": {
             "outlinewidth": 0,
             "ticks": ""
            },
            "colorscale": [
             [
              0,
              "#0d0887"
             ],
             [
              0.1111111111111111,
              "#46039f"
             ],
             [
              0.2222222222222222,
              "#7201a8"
             ],
             [
              0.3333333333333333,
              "#9c179e"
             ],
             [
              0.4444444444444444,
              "#bd3786"
             ],
             [
              0.5555555555555556,
              "#d8576b"
             ],
             [
              0.6666666666666666,
              "#ed7953"
             ],
             [
              0.7777777777777778,
              "#fb9f3a"
             ],
             [
              0.8888888888888888,
              "#fdca26"
             ],
             [
              1,
              "#f0f921"
             ]
            ],
            "type": "contour"
           }
          ],
          "contourcarpet": [
           {
            "colorbar": {
             "outlinewidth": 0,
             "ticks": ""
            },
            "type": "contourcarpet"
           }
          ],
          "heatmap": [
           {
            "colorbar": {
             "outlinewidth": 0,
             "ticks": ""
            },
            "colorscale": [
             [
              0,
              "#0d0887"
             ],
             [
              0.1111111111111111,
              "#46039f"
             ],
             [
              0.2222222222222222,
              "#7201a8"
             ],
             [
              0.3333333333333333,
              "#9c179e"
             ],
             [
              0.4444444444444444,
              "#bd3786"
             ],
             [
              0.5555555555555556,
              "#d8576b"
             ],
             [
              0.6666666666666666,
              "#ed7953"
             ],
             [
              0.7777777777777778,
              "#fb9f3a"
             ],
             [
              0.8888888888888888,
              "#fdca26"
             ],
             [
              1,
              "#f0f921"
             ]
            ],
            "type": "heatmap"
           }
          ],
          "heatmapgl": [
           {
            "colorbar": {
             "outlinewidth": 0,
             "ticks": ""
            },
            "colorscale": [
             [
              0,
              "#0d0887"
             ],
             [
              0.1111111111111111,
              "#46039f"
             ],
             [
              0.2222222222222222,
              "#7201a8"
             ],
             [
              0.3333333333333333,
              "#9c179e"
             ],
             [
              0.4444444444444444,
              "#bd3786"
             ],
             [
              0.5555555555555556,
              "#d8576b"
             ],
             [
              0.6666666666666666,
              "#ed7953"
             ],
             [
              0.7777777777777778,
              "#fb9f3a"
             ],
             [
              0.8888888888888888,
              "#fdca26"
             ],
             [
              1,
              "#f0f921"
             ]
            ],
            "type": "heatmapgl"
           }
          ],
          "histogram": [
           {
            "marker": {
             "pattern": {
              "fillmode": "overlay",
              "size": 10,
              "solidity": 0.2
             }
            },
            "type": "histogram"
           }
          ],
          "histogram2d": [
           {
            "colorbar": {
             "outlinewidth": 0,
             "ticks": ""
            },
            "colorscale": [
             [
              0,
              "#0d0887"
             ],
             [
              0.1111111111111111,
              "#46039f"
             ],
             [
              0.2222222222222222,
              "#7201a8"
             ],
             [
              0.3333333333333333,
              "#9c179e"
             ],
             [
              0.4444444444444444,
              "#bd3786"
             ],
             [
              0.5555555555555556,
              "#d8576b"
             ],
             [
              0.6666666666666666,
              "#ed7953"
             ],
             [
              0.7777777777777778,
              "#fb9f3a"
             ],
             [
              0.8888888888888888,
              "#fdca26"
             ],
             [
              1,
              "#f0f921"
             ]
            ],
            "type": "histogram2d"
           }
          ],
          "histogram2dcontour": [
           {
            "colorbar": {
             "outlinewidth": 0,
             "ticks": ""
            },
            "colorscale": [
             [
              0,
              "#0d0887"
             ],
             [
              0.1111111111111111,
              "#46039f"
             ],
             [
              0.2222222222222222,
              "#7201a8"
             ],
             [
              0.3333333333333333,
              "#9c179e"
             ],
             [
              0.4444444444444444,
              "#bd3786"
             ],
             [
              0.5555555555555556,
              "#d8576b"
             ],
             [
              0.6666666666666666,
              "#ed7953"
             ],
             [
              0.7777777777777778,
              "#fb9f3a"
             ],
             [
              0.8888888888888888,
              "#fdca26"
             ],
             [
              1,
              "#f0f921"
             ]
            ],
            "type": "histogram2dcontour"
           }
          ],
          "mesh3d": [
           {
            "colorbar": {
             "outlinewidth": 0,
             "ticks": ""
            },
            "type": "mesh3d"
           }
          ],
          "parcoords": [
           {
            "line": {
             "colorbar": {
              "outlinewidth": 0,
              "ticks": ""
             }
            },
            "type": "parcoords"
           }
          ],
          "pie": [
           {
            "automargin": true,
            "type": "pie"
           }
          ],
          "scatter": [
           {
            "fillpattern": {
             "fillmode": "overlay",
             "size": 10,
             "solidity": 0.2
            },
            "type": "scatter"
           }
          ],
          "scatter3d": [
           {
            "line": {
             "colorbar": {
              "outlinewidth": 0,
              "ticks": ""
             }
            },
            "marker": {
             "colorbar": {
              "outlinewidth": 0,
              "ticks": ""
             }
            },
            "type": "scatter3d"
           }
          ],
          "scattercarpet": [
           {
            "marker": {
             "colorbar": {
              "outlinewidth": 0,
              "ticks": ""
             }
            },
            "type": "scattercarpet"
           }
          ],
          "scattergeo": [
           {
            "marker": {
             "colorbar": {
              "outlinewidth": 0,
              "ticks": ""
             }
            },
            "type": "scattergeo"
           }
          ],
          "scattergl": [
           {
            "marker": {
             "colorbar": {
              "outlinewidth": 0,
              "ticks": ""
             }
            },
            "type": "scattergl"
           }
          ],
          "scattermapbox": [
           {
            "marker": {
             "colorbar": {
              "outlinewidth": 0,
              "ticks": ""
             }
            },
            "type": "scattermapbox"
           }
          ],
          "scatterpolar": [
           {
            "marker": {
             "colorbar": {
              "outlinewidth": 0,
              "ticks": ""
             }
            },
            "type": "scatterpolar"
           }
          ],
          "scatterpolargl": [
           {
            "marker": {
             "colorbar": {
              "outlinewidth": 0,
              "ticks": ""
             }
            },
            "type": "scatterpolargl"
           }
          ],
          "scatterternary": [
           {
            "marker": {
             "colorbar": {
              "outlinewidth": 0,
              "ticks": ""
             }
            },
            "type": "scatterternary"
           }
          ],
          "surface": [
           {
            "colorbar": {
             "outlinewidth": 0,
             "ticks": ""
            },
            "colorscale": [
             [
              0,
              "#0d0887"
             ],
             [
              0.1111111111111111,
              "#46039f"
             ],
             [
              0.2222222222222222,
              "#7201a8"
             ],
             [
              0.3333333333333333,
              "#9c179e"
             ],
             [
              0.4444444444444444,
              "#bd3786"
             ],
             [
              0.5555555555555556,
              "#d8576b"
             ],
             [
              0.6666666666666666,
              "#ed7953"
             ],
             [
              0.7777777777777778,
              "#fb9f3a"
             ],
             [
              0.8888888888888888,
              "#fdca26"
             ],
             [
              1,
              "#f0f921"
             ]
            ],
            "type": "surface"
           }
          ],
          "table": [
           {
            "cells": {
             "fill": {
              "color": "#EBF0F8"
             },
             "line": {
              "color": "white"
             }
            },
            "header": {
             "fill": {
              "color": "#C8D4E3"
             },
             "line": {
              "color": "white"
             }
            },
            "type": "table"
           }
          ]
         },
         "layout": {
          "annotationdefaults": {
           "arrowcolor": "#2a3f5f",
           "arrowhead": 0,
           "arrowwidth": 1
          },
          "autotypenumbers": "strict",
          "coloraxis": {
           "colorbar": {
            "outlinewidth": 0,
            "ticks": ""
           }
          },
          "colorscale": {
           "diverging": [
            [
             0,
             "#8e0152"
            ],
            [
             0.1,
             "#c51b7d"
            ],
            [
             0.2,
             "#de77ae"
            ],
            [
             0.3,
             "#f1b6da"
            ],
            [
             0.4,
             "#fde0ef"
            ],
            [
             0.5,
             "#f7f7f7"
            ],
            [
             0.6,
             "#e6f5d0"
            ],
            [
             0.7,
             "#b8e186"
            ],
            [
             0.8,
             "#7fbc41"
            ],
            [
             0.9,
             "#4d9221"
            ],
            [
             1,
             "#276419"
            ]
           ],
           "sequential": [
            [
             0,
             "#0d0887"
            ],
            [
             0.1111111111111111,
             "#46039f"
            ],
            [
             0.2222222222222222,
             "#7201a8"
            ],
            [
             0.3333333333333333,
             "#9c179e"
            ],
            [
             0.4444444444444444,
             "#bd3786"
            ],
            [
             0.5555555555555556,
             "#d8576b"
            ],
            [
             0.6666666666666666,
             "#ed7953"
            ],
            [
             0.7777777777777778,
             "#fb9f3a"
            ],
            [
             0.8888888888888888,
             "#fdca26"
            ],
            [
             1,
             "#f0f921"
            ]
           ],
           "sequentialminus": [
            [
             0,
             "#0d0887"
            ],
            [
             0.1111111111111111,
             "#46039f"
            ],
            [
             0.2222222222222222,
             "#7201a8"
            ],
            [
             0.3333333333333333,
             "#9c179e"
            ],
            [
             0.4444444444444444,
             "#bd3786"
            ],
            [
             0.5555555555555556,
             "#d8576b"
            ],
            [
             0.6666666666666666,
             "#ed7953"
            ],
            [
             0.7777777777777778,
             "#fb9f3a"
            ],
            [
             0.8888888888888888,
             "#fdca26"
            ],
            [
             1,
             "#f0f921"
            ]
           ]
          },
          "colorway": [
           "#636efa",
           "#EF553B",
           "#00cc96",
           "#ab63fa",
           "#FFA15A",
           "#19d3f3",
           "#FF6692",
           "#B6E880",
           "#FF97FF",
           "#FECB52"
          ],
          "font": {
           "color": "#2a3f5f"
          },
          "geo": {
           "bgcolor": "white",
           "lakecolor": "white",
           "landcolor": "#E5ECF6",
           "showlakes": true,
           "showland": true,
           "subunitcolor": "white"
          },
          "hoverlabel": {
           "align": "left"
          },
          "hovermode": "closest",
          "mapbox": {
           "style": "light"
          },
          "paper_bgcolor": "white",
          "plot_bgcolor": "#E5ECF6",
          "polar": {
           "angularaxis": {
            "gridcolor": "white",
            "linecolor": "white",
            "ticks": ""
           },
           "bgcolor": "#E5ECF6",
           "radialaxis": {
            "gridcolor": "white",
            "linecolor": "white",
            "ticks": ""
           }
          },
          "scene": {
           "xaxis": {
            "backgroundcolor": "#E5ECF6",
            "gridcolor": "white",
            "gridwidth": 2,
            "linecolor": "white",
            "showbackground": true,
            "ticks": "",
            "zerolinecolor": "white"
           },
           "yaxis": {
            "backgroundcolor": "#E5ECF6",
            "gridcolor": "white",
            "gridwidth": 2,
            "linecolor": "white",
            "showbackground": true,
            "ticks": "",
            "zerolinecolor": "white"
           },
           "zaxis": {
            "backgroundcolor": "#E5ECF6",
            "gridcolor": "white",
            "gridwidth": 2,
            "linecolor": "white",
            "showbackground": true,
            "ticks": "",
            "zerolinecolor": "white"
           }
          },
          "shapedefaults": {
           "line": {
            "color": "#2a3f5f"
           }
          },
          "ternary": {
           "aaxis": {
            "gridcolor": "white",
            "linecolor": "white",
            "ticks": ""
           },
           "baxis": {
            "gridcolor": "white",
            "linecolor": "white",
            "ticks": ""
           },
           "bgcolor": "#E5ECF6",
           "caxis": {
            "gridcolor": "white",
            "linecolor": "white",
            "ticks": ""
           }
          },
          "title": {
           "x": 0.05
          },
          "xaxis": {
           "automargin": true,
           "gridcolor": "white",
           "linecolor": "white",
           "ticks": "",
           "title": {
            "standoff": 15
           },
           "zerolinecolor": "white",
           "zerolinewidth": 2
          },
          "yaxis": {
           "automargin": true,
           "gridcolor": "white",
           "linecolor": "white",
           "ticks": "",
           "title": {
            "standoff": 15
           },
           "zerolinecolor": "white",
           "zerolinewidth": 2
          }
         }
        },
        "title": {
         "font": {
          "family": "Helvetica Neue, sans-serif",
          "size": 18
         },
         "text": "Number of articles per country",
         "x": 0.5,
         "y": 0.95
        }
       }
      }
     },
     "metadata": {},
     "output_type": "display_data"
    }
   ],
   "source": [
    "fig = plot_color_map(\n",
    "    articles_per_country,\n",
    "    'Articles',\n",
    "    'Number of articles per country'\n",
    ")\n",
    "\n",
    "fig.write_html(\"./graphs/intro/articles_intro_map.html\")\n",
    "fig.show()"
   ]
  },
  {
   "cell_type": "code",
   "execution_count": null,
   "metadata": {},
   "outputs": [],
   "source": []
  }
 ],
 "metadata": {
  "kernelspec": {
   "display_name": "ada",
   "language": "python",
   "name": "python3"
  },
  "language_info": {
   "codemirror_mode": {
    "name": "ipython",
    "version": 3
   },
   "file_extension": ".py",
   "mimetype": "text/x-python",
   "name": "python",
   "nbconvert_exporter": "python",
   "pygments_lexer": "ipython3",
   "version": "3.11.10"
  }
 },
 "nbformat": 4,
 "nbformat_minor": 2
}
