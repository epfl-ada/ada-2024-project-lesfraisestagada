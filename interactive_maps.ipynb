{
 "cells": [
  {
   "cell_type": "code",
   "execution_count": 15,
   "metadata": {},
   "outputs": [
    {
     "name": "stdout",
     "output_type": "stream",
     "text": [
      "The autoreload extension is already loaded. To reload it, use:\n",
      "  %reload_ext autoreload\n"
     ]
    }
   ],
   "source": [
    "%load_ext autoreload\n",
    "%autoreload 2\n",
    "import pandas as pd"
   ]
  },
  {
   "cell_type": "code",
   "execution_count": 16,
   "metadata": {},
   "outputs": [
    {
     "data": {
      "text/html": [
       "<div>\n",
       "<style scoped>\n",
       "    .dataframe tbody tr th:only-of-type {\n",
       "        vertical-align: middle;\n",
       "    }\n",
       "\n",
       "    .dataframe tbody tr th {\n",
       "        vertical-align: top;\n",
       "    }\n",
       "\n",
       "    .dataframe thead th {\n",
       "        text-align: right;\n",
       "    }\n",
       "</style>\n",
       "<table border=\"1\" class=\"dataframe\">\n",
       "  <thead>\n",
       "    <tr style=\"text-align: right;\">\n",
       "      <th></th>\n",
       "      <th>Rank</th>\n",
       "      <th>Country</th>\n",
       "      <th>Citable documents</th>\n",
       "    </tr>\n",
       "  </thead>\n",
       "  <tbody>\n",
       "    <tr>\n",
       "      <th>0</th>\n",
       "      <td>1</td>\n",
       "      <td>United States</td>\n",
       "      <td>469050</td>\n",
       "    </tr>\n",
       "    <tr>\n",
       "      <th>1</th>\n",
       "      <td>2</td>\n",
       "      <td>China</td>\n",
       "      <td>221145</td>\n",
       "    </tr>\n",
       "    <tr>\n",
       "      <th>2</th>\n",
       "      <td>3</td>\n",
       "      <td>United Kingdom</td>\n",
       "      <td>129869</td>\n",
       "    </tr>\n",
       "    <tr>\n",
       "      <th>3</th>\n",
       "      <td>4</td>\n",
       "      <td>Germany</td>\n",
       "      <td>122165</td>\n",
       "    </tr>\n",
       "    <tr>\n",
       "      <th>4</th>\n",
       "      <td>5</td>\n",
       "      <td>Japan</td>\n",
       "      <td>120028</td>\n",
       "    </tr>\n",
       "  </tbody>\n",
       "</table>\n",
       "</div>"
      ],
      "text/plain": [
       "   Rank         Country  Citable documents\n",
       "0     1   United States             469050\n",
       "1     2           China             221145\n",
       "2     3  United Kingdom             129869\n",
       "3     4         Germany             122165\n",
       "4     5           Japan             120028"
      ]
     },
     "execution_count": 16,
     "metadata": {},
     "output_type": "execute_result"
    }
   ],
   "source": [
    "from src.data.dataloader import load_publications_dataframe\n",
    "publications_per_country = load_publications_dataframe()\n",
    "publications_per_country.head()"
   ]
  },
  {
   "cell_type": "code",
   "execution_count": 18,
   "metadata": {},
   "outputs": [
    {
     "data": {
      "application/vnd.plotly.v1+json": {
       "config": {
        "plotlyServerURL": "https://plot.ly"
       },
       "data": [
        {
         "coloraxis": "coloraxis",
         "customdata": [
          [
           469050,
           "United States"
          ],
          [
           221145,
           "China"
          ],
          [
           129869,
           "United Kingdom"
          ],
          [
           122165,
           "Germany"
          ],
          [
           120028,
           "Japan"
          ],
          [
           86318,
           "France"
          ],
          [
           70991,
           "Canada"
          ],
          [
           69013,
           "Italy"
          ],
          [
           54203,
           "Spain"
          ],
          [
           49684,
           "India"
          ],
          [
           48885,
           "Australia"
          ],
          [
           47437,
           "South Korea"
          ],
          [
           37109,
           "Netherlands"
          ],
          [
           36242,
           "Brazil"
          ],
          [
           35912,
           "Russian Federation"
          ],
          [
           31287,
           "Taiwan"
          ],
          [
           27600,
           "Switzerland"
          ],
          [
           26409,
           "Poland"
          ],
          [
           24930,
           "Sweden"
          ],
          [
           24318,
           "Turkey"
          ],
          [
           20742,
           "Belgium"
          ],
          [
           15387,
           "Israel"
          ],
          [
           15167,
           "Austria"
          ],
          [
           14968,
           "Iran"
          ],
          [
           14446,
           "Greece"
          ],
          [
           13799,
           "Denmark"
          ],
          [
           13394,
           "Finland"
          ],
          [
           13073,
           "Czech Republic"
          ],
          [
           12726,
           "Hong Kong"
          ],
          [
           12613,
           "Mexico"
          ],
          [
           11544,
           "Norway"
          ],
          [
           11013,
           "Singapore"
          ],
          [
           10467,
           "Portugal"
          ],
          [
           9179,
           "New Zealand"
          ],
          [
           8664,
           "South Africa"
          ],
          [
           8200,
           "Hungary"
          ],
          [
           8022,
           "Ireland"
          ],
          [
           7837,
           "Argentina"
          ],
          [
           6867,
           "Ukraine"
          ],
          [
           6655,
           "Romania"
          ],
          [
           6462,
           "Thailand"
          ],
          [
           5839,
           "Egypt"
          ],
          [
           5168,
           "Malaysia"
          ],
          [
           5106,
           "Chile"
          ],
          [
           4480,
           "Croatia"
          ],
          [
           4164,
           "Pakistan"
          ],
          [
           4072,
           "Slovakia"
          ],
          [
           3900,
           "Slovenia"
          ],
          [
           3605,
           "Nigeria"
          ],
          [
           3545,
           "Bulgaria"
          ],
          [
           3004,
           "Tunisia"
          ],
          [
           2824,
           "Saudi Arabia"
          ],
          [
           2585,
           "Serbia"
          ],
          [
           2440,
           "Colombia"
          ],
          [
           2146,
           "Lithuania"
          ],
          [
           2045,
           "Algeria"
          ],
          [
           1973,
           "Venezuela"
          ],
          [
           1784,
           "Cuba"
          ],
          [
           1736,
           "Belarus"
          ],
          [
           1586,
           "Morocco"
          ],
          [
           1551,
           "Jordan"
          ],
          [
           1498,
           "Estonia"
          ],
          [
           1435,
           "United Arab Emirates"
          ],
          [
           1420,
           "Bangladesh"
          ],
          [
           1303,
           "Indonesia"
          ],
          [
           1162,
           "Kenya"
          ],
          [
           1084,
           "Viet Nam"
          ],
          [
           1063,
           "Lebanon"
          ],
          [
           970,
           "Kuwait"
          ],
          [
           889,
           "Philippines"
          ],
          [
           881,
           "Puerto Rico"
          ],
          [
           799,
           "Cyprus"
          ],
          [
           765,
           "Peru"
          ],
          [
           737,
           "Iceland"
          ],
          [
           694,
           "Sri Lanka"
          ],
          [
           688,
           "Latvia"
          ],
          [
           650,
           "Armenia"
          ],
          [
           644,
           "Tanzania"
          ],
          [
           640,
           "Uruguay"
          ],
          [
           628,
           "Oman"
          ],
          [
           602,
           "Cameroon"
          ],
          [
           590,
           "Ethiopia"
          ],
          [
           586,
           "Nepal"
          ],
          [
           559,
           "Georgia"
          ],
          [
           555,
           "Uganda"
          ],
          [
           513,
           "Ghana"
          ],
          [
           502,
           "Azerbaijan"
          ],
          [
           490,
           "Costa Rica"
          ],
          [
           481,
           "Uzbekistan"
          ],
          [
           460,
           "Luxembourg"
          ],
          [
           427,
           "Macedonia"
          ],
          [
           425,
           "Bosnia and Herzegovina"
          ],
          [
           374,
           "Qatar"
          ],
          [
           364,
           "Kazakhstan"
          ],
          [
           352,
           "Zimbabwe"
          ],
          [
           351,
           "Senegal"
          ],
          [
           335,
           "Ecuador"
          ],
          [
           323,
           "Iraq"
          ],
          [
           296,
           "Trinidad and Tobago"
          ],
          [
           279,
           "Sudan"
          ],
          [
           278,
           "Moldova"
          ],
          [
           273,
           "Botswana"
          ],
          [
           272,
           "Panama"
          ],
          [
           266,
           "Macao"
          ],
          [
           260,
           "Syrian Arab Republic"
          ],
          [
           259,
           "Malawi"
          ],
          [
           255,
           "Bahrain"
          ],
          [
           252,
           "Côte d’Ivoire"
          ],
          [
           248,
           "Palestine"
          ],
          [
           243,
           "Burkina Faso"
          ],
          [
           242,
           "Jamaica"
          ],
          [
           222,
           "Bolivia"
          ],
          [
           219,
           "Mongolia"
          ],
          [
           209,
           "Madagascar"
          ],
          [
           201,
           "Benin"
          ],
          [
           185,
           "Zambia"
          ],
          [
           183,
           "Libya"
          ],
          [
           176,
           "Malta"
          ],
          [
           169,
           "Fiji"
          ],
          [
           159,
           "Congo"
          ],
          [
           143,
           "Cambodia"
          ],
          [
           142,
           "Mali"
          ],
          [
           126,
           "New Caledonia"
          ],
          [
           122,
           "Papua New Guinea"
          ],
          [
           112,
           "Namibia"
          ],
          [
           109,
           "Mozambique"
          ],
          [
           99,
           "Yemen"
          ],
          [
           96,
           "Gambia"
          ],
          [
           95,
           "Montenegro"
          ],
          [
           93,
           "Guatemala"
          ],
          [
           93,
           "Mauritius"
          ],
          [
           90,
           "Gabon"
          ],
          [
           81,
           "Guadeloupe"
          ],
          [
           80,
           "Myanmar"
          ],
          [
           80,
           "Albania"
          ],
          [
           80,
           "Barbados"
          ],
          [
           79,
           "Monaco"
          ],
          [
           78,
           "Brunei Darussalam"
          ],
          [
           75,
           "Kyrgyzstan"
          ],
          [
           71,
           "Laos"
          ],
          [
           66,
           "Grenada"
          ],
          [
           64,
           "Togo"
          ],
          [
           63,
           "French Polynesia"
          ],
          [
           63,
           "Niger"
          ],
          [
           62,
           "Nicaragua"
          ],
          [
           61,
           "Paraguay"
          ],
          [
           60,
           "French Guiana"
          ],
          [
           56,
           "Dominican Republic"
          ],
          [
           56,
           "Liechtenstein"
          ],
          [
           55,
           "Tajikistan"
          ],
          [
           55,
           "Rwanda"
          ],
          [
           52,
           "Eritrea"
          ],
          [
           47,
           "Reunion"
          ],
          [
           46,
           "Greenland"
          ],
          [
           39,
           "El Salvador"
          ],
          [
           37,
           "Honduras"
          ],
          [
           36,
           "Seychelles"
          ],
          [
           35,
           "Eswatini"
          ],
          [
           34,
           "Angola"
          ],
          [
           34,
           "Falkland Islands (Malvinas)"
          ],
          [
           34,
           "Guam"
          ],
          [
           31,
           "Bermuda"
          ],
          [
           30,
           "Afghanistan"
          ],
          [
           30,
           "Guyana"
          ],
          [
           30,
           "Guinea"
          ],
          [
           29,
           "Guinea-Bissau"
          ],
          [
           28,
           "Haïti"
          ],
          [
           26,
           "Lesotho"
          ],
          [
           26,
           "Bahamas"
          ],
          [
           26,
           "North Korea"
          ],
          [
           24,
           "Central African Republic"
          ],
          [
           24,
           "Martinique"
          ],
          [
           23,
           "Mauritania"
          ],
          [
           22,
           "Netherlands Antilles"
          ],
          [
           21,
           "Chad"
          ],
          [
           21,
           "Sierra Leone"
          ],
          [
           21,
           "Burundi"
          ],
          [
           19,
           "Federated States of Micronesia"
          ],
          [
           18,
           "Bhutan"
          ],
          [
           18,
           "Suriname"
          ],
          [
           18,
           "Faroe Islands"
          ],
          [
           18,
           "Democratic Republic Congo"
          ],
          [
           16,
           "Palau"
          ],
          [
           15,
           "Andorra"
          ],
          [
           15,
           "Solomon Islands"
          ],
          [
           15,
           "Virgin Islands (British)"
          ],
          [
           14,
           "Maldives"
          ],
          [
           12,
           "San Marino"
          ],
          [
           11,
           "Djibouti"
          ],
          [
           11,
           "Gibraltar"
          ],
          [
           10,
           "Dominica"
          ],
          [
           10,
           "Equatorial Guinea"
          ],
          [
           10,
           "Saint Kitts and Nevis"
          ],
          [
           10,
           "Antigua and Barbuda"
          ],
          [
           9,
           "Samoa"
          ],
          [
           9,
           "Virgin Islands (U.S.)"
          ],
          [
           9,
           "Comoros"
          ],
          [
           9,
           "Turkmenistan"
          ],
          [
           9,
           "Belize"
          ],
          [
           8,
           "Saint Lucia"
          ],
          [
           8,
           "Vanuatu"
          ],
          [
           8,
           "Tonga"
          ],
          [
           8,
           "Liberia"
          ],
          [
           8,
           "Mayotte"
          ],
          [
           7,
           "American Samoa"
          ],
          [
           7,
           "Marshall Islands"
          ],
          [
           7,
           "Kiribati"
          ],
          [
           7,
           "Timor-Leste"
          ],
          [
           6,
           "Cook Islands"
          ],
          [
           6,
           "Cape Verde"
          ],
          [
           6,
           "Cayman Islands"
          ],
          [
           6,
           "Saint Vincent and the Grenadines"
          ],
          [
           5,
           "Montserrat"
          ],
          [
           5,
           "Niue"
          ],
          [
           4,
           "Cocos (Keeling) Islands"
          ],
          [
           4,
           "Northern Mariana Islands"
          ],
          [
           3,
           "Sao Tome and Principe"
          ],
          [
           2,
           "Norfolk Island"
          ],
          [
           2,
           "Turks and Caicos Islands"
          ],
          [
           2,
           "Tuvalu"
          ],
          [
           2,
           "Wallis and Futuna"
          ],
          [
           2,
           "Svalbard and Jan Mayen"
          ],
          [
           1,
           "Saint Pierre and Miquelon"
          ],
          [
           1,
           "British Indian Ocean Territory"
          ],
          [
           1,
           "Aruba"
          ],
          [
           1,
           "United States Minor Outlying Islands"
          ],
          [
           0,
           "Vatican City State"
          ],
          [
           0,
           "Somalia"
          ]
         ],
         "geo": "geo",
         "hoverlabel": {
          "bgcolor": "white",
          "font": {
           "family": "Helvetica Neue",
           "size": 12
          }
         },
         "hovertemplate": "<b>%{hovertext}</b><br><br>Publications=%{z:,.0f}<extra></extra>",
         "hovertext": [
          "United States",
          "China",
          "United Kingdom",
          "Germany",
          "Japan",
          "France",
          "Canada",
          "Italy",
          "Spain",
          "India",
          "Australia",
          "South Korea",
          "Netherlands",
          "Brazil",
          "Russian Federation",
          "Taiwan",
          "Switzerland",
          "Poland",
          "Sweden",
          "Turkey",
          "Belgium",
          "Israel",
          "Austria",
          "Iran",
          "Greece",
          "Denmark",
          "Finland",
          "Czech Republic",
          "Hong Kong",
          "Mexico",
          "Norway",
          "Singapore",
          "Portugal",
          "New Zealand",
          "South Africa",
          "Hungary",
          "Ireland",
          "Argentina",
          "Ukraine",
          "Romania",
          "Thailand",
          "Egypt",
          "Malaysia",
          "Chile",
          "Croatia",
          "Pakistan",
          "Slovakia",
          "Slovenia",
          "Nigeria",
          "Bulgaria",
          "Tunisia",
          "Saudi Arabia",
          "Serbia",
          "Colombia",
          "Lithuania",
          "Algeria",
          "Venezuela",
          "Cuba",
          "Belarus",
          "Morocco",
          "Jordan",
          "Estonia",
          "United Arab Emirates",
          "Bangladesh",
          "Indonesia",
          "Kenya",
          "Viet Nam",
          "Lebanon",
          "Kuwait",
          "Philippines",
          "Puerto Rico",
          "Cyprus",
          "Peru",
          "Iceland",
          "Sri Lanka",
          "Latvia",
          "Armenia",
          "Tanzania",
          "Uruguay",
          "Oman",
          "Cameroon",
          "Ethiopia",
          "Nepal",
          "Georgia",
          "Uganda",
          "Ghana",
          "Azerbaijan",
          "Costa Rica",
          "Uzbekistan",
          "Luxembourg",
          "Macedonia",
          "Bosnia and Herzegovina",
          "Qatar",
          "Kazakhstan",
          "Zimbabwe",
          "Senegal",
          "Ecuador",
          "Iraq",
          "Trinidad and Tobago",
          "Sudan",
          "Moldova",
          "Botswana",
          "Panama",
          "Macao",
          "Syrian Arab Republic",
          "Malawi",
          "Bahrain",
          "Côte d’Ivoire",
          "Palestine",
          "Burkina Faso",
          "Jamaica",
          "Bolivia",
          "Mongolia",
          "Madagascar",
          "Benin",
          "Zambia",
          "Libya",
          "Malta",
          "Fiji",
          "Congo",
          "Cambodia",
          "Mali",
          "New Caledonia",
          "Papua New Guinea",
          "Namibia",
          "Mozambique",
          "Yemen",
          "Gambia",
          "Montenegro",
          "Guatemala",
          "Mauritius",
          "Gabon",
          "Guadeloupe",
          "Myanmar",
          "Albania",
          "Barbados",
          "Monaco",
          "Brunei Darussalam",
          "Kyrgyzstan",
          "Laos",
          "Grenada",
          "Togo",
          "French Polynesia",
          "Niger",
          "Nicaragua",
          "Paraguay",
          "French Guiana",
          "Dominican Republic",
          "Liechtenstein",
          "Tajikistan",
          "Rwanda",
          "Eritrea",
          "Reunion",
          "Greenland",
          "El Salvador",
          "Honduras",
          "Seychelles",
          "Eswatini",
          "Angola",
          "Falkland Islands (Malvinas)",
          "Guam",
          "Bermuda",
          "Afghanistan",
          "Guyana",
          "Guinea",
          "Guinea-Bissau",
          "Haïti",
          "Lesotho",
          "Bahamas",
          "North Korea",
          "Central African Republic",
          "Martinique",
          "Mauritania",
          "Netherlands Antilles",
          "Chad",
          "Sierra Leone",
          "Burundi",
          "Federated States of Micronesia",
          "Bhutan",
          "Suriname",
          "Faroe Islands",
          "Democratic Republic Congo",
          "Palau",
          "Andorra",
          "Solomon Islands",
          "Virgin Islands (British)",
          "Maldives",
          "San Marino",
          "Djibouti",
          "Gibraltar",
          "Dominica",
          "Equatorial Guinea",
          "Saint Kitts and Nevis",
          "Antigua and Barbuda",
          "Samoa",
          "Virgin Islands (U.S.)",
          "Comoros",
          "Turkmenistan",
          "Belize",
          "Saint Lucia",
          "Vanuatu",
          "Tonga",
          "Liberia",
          "Mayotte",
          "American Samoa",
          "Marshall Islands",
          "Kiribati",
          "Timor-Leste",
          "Cook Islands",
          "Cape Verde",
          "Cayman Islands",
          "Saint Vincent and the Grenadines",
          "Montserrat",
          "Niue",
          "Cocos (Keeling) Islands",
          "Northern Mariana Islands",
          "Sao Tome and Principe",
          "Norfolk Island",
          "Turks and Caicos Islands",
          "Tuvalu",
          "Wallis and Futuna",
          "Svalbard and Jan Mayen",
          "Saint Pierre and Miquelon",
          "British Indian Ocean Territory",
          "Aruba",
          "United States Minor Outlying Islands",
          "Vatican City State",
          "Somalia"
         ],
         "locationmode": "country names",
         "locations": [
          "United States",
          "China",
          "United Kingdom",
          "Germany",
          "Japan",
          "France",
          "Canada",
          "Italy",
          "Spain",
          "India",
          "Australia",
          "South Korea",
          "Netherlands",
          "Brazil",
          "Russian Federation",
          "Taiwan",
          "Switzerland",
          "Poland",
          "Sweden",
          "Turkey",
          "Belgium",
          "Israel",
          "Austria",
          "Iran",
          "Greece",
          "Denmark",
          "Finland",
          "Czech Republic",
          "Hong Kong",
          "Mexico",
          "Norway",
          "Singapore",
          "Portugal",
          "New Zealand",
          "South Africa",
          "Hungary",
          "Ireland",
          "Argentina",
          "Ukraine",
          "Romania",
          "Thailand",
          "Egypt",
          "Malaysia",
          "Chile",
          "Croatia",
          "Pakistan",
          "Slovakia",
          "Slovenia",
          "Nigeria",
          "Bulgaria",
          "Tunisia",
          "Saudi Arabia",
          "Serbia",
          "Colombia",
          "Lithuania",
          "Algeria",
          "Venezuela",
          "Cuba",
          "Belarus",
          "Morocco",
          "Jordan",
          "Estonia",
          "United Arab Emirates",
          "Bangladesh",
          "Indonesia",
          "Kenya",
          "Viet Nam",
          "Lebanon",
          "Kuwait",
          "Philippines",
          "Puerto Rico",
          "Cyprus",
          "Peru",
          "Iceland",
          "Sri Lanka",
          "Latvia",
          "Armenia",
          "Tanzania",
          "Uruguay",
          "Oman",
          "Cameroon",
          "Ethiopia",
          "Nepal",
          "Georgia",
          "Uganda",
          "Ghana",
          "Azerbaijan",
          "Costa Rica",
          "Uzbekistan",
          "Luxembourg",
          "Macedonia",
          "Bosnia and Herzegovina",
          "Qatar",
          "Kazakhstan",
          "Zimbabwe",
          "Senegal",
          "Ecuador",
          "Iraq",
          "Trinidad and Tobago",
          "Sudan",
          "Moldova",
          "Botswana",
          "Panama",
          "Macao",
          "Syrian Arab Republic",
          "Malawi",
          "Bahrain",
          "Côte d’Ivoire",
          "Palestine",
          "Burkina Faso",
          "Jamaica",
          "Bolivia",
          "Mongolia",
          "Madagascar",
          "Benin",
          "Zambia",
          "Libya",
          "Malta",
          "Fiji",
          "Congo",
          "Cambodia",
          "Mali",
          "New Caledonia",
          "Papua New Guinea",
          "Namibia",
          "Mozambique",
          "Yemen",
          "Gambia",
          "Montenegro",
          "Guatemala",
          "Mauritius",
          "Gabon",
          "Guadeloupe",
          "Myanmar",
          "Albania",
          "Barbados",
          "Monaco",
          "Brunei Darussalam",
          "Kyrgyzstan",
          "Laos",
          "Grenada",
          "Togo",
          "French Polynesia",
          "Niger",
          "Nicaragua",
          "Paraguay",
          "French Guiana",
          "Dominican Republic",
          "Liechtenstein",
          "Tajikistan",
          "Rwanda",
          "Eritrea",
          "Reunion",
          "Greenland",
          "El Salvador",
          "Honduras",
          "Seychelles",
          "Eswatini",
          "Angola",
          "Falkland Islands (Malvinas)",
          "Guam",
          "Bermuda",
          "Afghanistan",
          "Guyana",
          "Guinea",
          "Guinea-Bissau",
          "Haïti",
          "Lesotho",
          "Bahamas",
          "North Korea",
          "Central African Republic",
          "Martinique",
          "Mauritania",
          "Netherlands Antilles",
          "Chad",
          "Sierra Leone",
          "Burundi",
          "Federated States of Micronesia",
          "Bhutan",
          "Suriname",
          "Faroe Islands",
          "Democratic Republic Congo",
          "Palau",
          "Andorra",
          "Solomon Islands",
          "Virgin Islands (British)",
          "Maldives",
          "San Marino",
          "Djibouti",
          "Gibraltar",
          "Dominica",
          "Equatorial Guinea",
          "Saint Kitts and Nevis",
          "Antigua and Barbuda",
          "Samoa",
          "Virgin Islands (U.S.)",
          "Comoros",
          "Turkmenistan",
          "Belize",
          "Saint Lucia",
          "Vanuatu",
          "Tonga",
          "Liberia",
          "Mayotte",
          "American Samoa",
          "Marshall Islands",
          "Kiribati",
          "Timor-Leste",
          "Cook Islands",
          "Cape Verde",
          "Cayman Islands",
          "Saint Vincent and the Grenadines",
          "Montserrat",
          "Niue",
          "Cocos (Keeling) Islands",
          "Northern Mariana Islands",
          "Sao Tome and Principe",
          "Norfolk Island",
          "Turks and Caicos Islands",
          "Tuvalu",
          "Wallis and Futuna",
          "Svalbard and Jan Mayen",
          "Saint Pierre and Miquelon",
          "British Indian Ocean Territory",
          "Aruba",
          "United States Minor Outlying Islands",
          "Vatican City State",
          "Somalia"
         ],
         "name": "",
         "type": "choropleth",
         "z": [
          469050,
          221145,
          129869,
          122165,
          120028,
          86318,
          70991,
          69013,
          54203,
          49684,
          48885,
          47437,
          37109,
          36242,
          35912,
          31287,
          27600,
          26409,
          24930,
          24318,
          20742,
          15387,
          15167,
          14968,
          14446,
          13799,
          13394,
          13073,
          12726,
          12613,
          11544,
          11013,
          10467,
          9179,
          8664,
          8200,
          8022,
          7837,
          6867,
          6655,
          6462,
          5839,
          5168,
          5106,
          4480,
          4164,
          4072,
          3900,
          3605,
          3545,
          3004,
          2824,
          2585,
          2440,
          2146,
          2045,
          1973,
          1784,
          1736,
          1586,
          1551,
          1498,
          1435,
          1420,
          1303,
          1162,
          1084,
          1063,
          970,
          889,
          881,
          799,
          765,
          737,
          694,
          688,
          650,
          644,
          640,
          628,
          602,
          590,
          586,
          559,
          555,
          513,
          502,
          490,
          481,
          460,
          427,
          425,
          374,
          364,
          352,
          351,
          335,
          323,
          296,
          279,
          278,
          273,
          272,
          266,
          260,
          259,
          255,
          252,
          248,
          243,
          242,
          222,
          219,
          209,
          201,
          185,
          183,
          176,
          169,
          159,
          143,
          142,
          126,
          122,
          112,
          109,
          99,
          96,
          95,
          93,
          93,
          90,
          81,
          80,
          80,
          80,
          79,
          78,
          75,
          71,
          66,
          64,
          63,
          63,
          62,
          61,
          60,
          56,
          56,
          55,
          55,
          52,
          47,
          46,
          39,
          37,
          36,
          35,
          34,
          34,
          34,
          31,
          30,
          30,
          30,
          29,
          28,
          26,
          26,
          26,
          24,
          24,
          23,
          22,
          21,
          21,
          21,
          19,
          18,
          18,
          18,
          18,
          16,
          15,
          15,
          15,
          14,
          12,
          11,
          11,
          10,
          10,
          10,
          10,
          9,
          9,
          9,
          9,
          9,
          8,
          8,
          8,
          8,
          8,
          7,
          7,
          7,
          7,
          6,
          6,
          6,
          6,
          5,
          5,
          4,
          4,
          3,
          2,
          2,
          2,
          2,
          2,
          1,
          1,
          1,
          1,
          0,
          0
         ]
        }
       ],
       "layout": {
        "coloraxis": {
         "colorbar": {
          "title": {
           "text": "Publications"
          }
         },
         "colorscale": [
          [
           0,
           "#0d0887"
          ],
          [
           0.1111111111111111,
           "#46039f"
          ],
          [
           0.2222222222222222,
           "#7201a8"
          ],
          [
           0.3333333333333333,
           "#9c179e"
          ],
          [
           0.4444444444444444,
           "#bd3786"
          ],
          [
           0.5555555555555556,
           "#d8576b"
          ],
          [
           0.6666666666666666,
           "#ed7953"
          ],
          [
           0.7777777777777778,
           "#fb9f3a"
          ],
          [
           0.8888888888888888,
           "#fdca26"
          ],
          [
           1,
           "#f0f921"
          ]
         ]
        },
        "geo": {
         "center": {},
         "domain": {
          "x": [
           0,
           1
          ],
          "y": [
           0,
           1
          ]
         },
         "projection": {
          "type": "equirectangular"
         },
         "showcoastlines": true,
         "showframe": false
        },
        "legend": {
         "tracegroupgap": 0
        },
        "margin": {
         "b": 0,
         "l": 0,
         "r": 0,
         "t": 50
        },
        "template": {
         "data": {
          "bar": [
           {
            "error_x": {
             "color": "#2a3f5f"
            },
            "error_y": {
             "color": "#2a3f5f"
            },
            "marker": {
             "line": {
              "color": "#E5ECF6",
              "width": 0.5
             },
             "pattern": {
              "fillmode": "overlay",
              "size": 10,
              "solidity": 0.2
             }
            },
            "type": "bar"
           }
          ],
          "barpolar": [
           {
            "marker": {
             "line": {
              "color": "#E5ECF6",
              "width": 0.5
             },
             "pattern": {
              "fillmode": "overlay",
              "size": 10,
              "solidity": 0.2
             }
            },
            "type": "barpolar"
           }
          ],
          "carpet": [
           {
            "aaxis": {
             "endlinecolor": "#2a3f5f",
             "gridcolor": "white",
             "linecolor": "white",
             "minorgridcolor": "white",
             "startlinecolor": "#2a3f5f"
            },
            "baxis": {
             "endlinecolor": "#2a3f5f",
             "gridcolor": "white",
             "linecolor": "white",
             "minorgridcolor": "white",
             "startlinecolor": "#2a3f5f"
            },
            "type": "carpet"
           }
          ],
          "choropleth": [
           {
            "colorbar": {
             "outlinewidth": 0,
             "ticks": ""
            },
            "type": "choropleth"
           }
          ],
          "contour": [
           {
            "colorbar": {
             "outlinewidth": 0,
             "ticks": ""
            },
            "colorscale": [
             [
              0,
              "#0d0887"
             ],
             [
              0.1111111111111111,
              "#46039f"
             ],
             [
              0.2222222222222222,
              "#7201a8"
             ],
             [
              0.3333333333333333,
              "#9c179e"
             ],
             [
              0.4444444444444444,
              "#bd3786"
             ],
             [
              0.5555555555555556,
              "#d8576b"
             ],
             [
              0.6666666666666666,
              "#ed7953"
             ],
             [
              0.7777777777777778,
              "#fb9f3a"
             ],
             [
              0.8888888888888888,
              "#fdca26"
             ],
             [
              1,
              "#f0f921"
             ]
            ],
            "type": "contour"
           }
          ],
          "contourcarpet": [
           {
            "colorbar": {
             "outlinewidth": 0,
             "ticks": ""
            },
            "type": "contourcarpet"
           }
          ],
          "heatmap": [
           {
            "colorbar": {
             "outlinewidth": 0,
             "ticks": ""
            },
            "colorscale": [
             [
              0,
              "#0d0887"
             ],
             [
              0.1111111111111111,
              "#46039f"
             ],
             [
              0.2222222222222222,
              "#7201a8"
             ],
             [
              0.3333333333333333,
              "#9c179e"
             ],
             [
              0.4444444444444444,
              "#bd3786"
             ],
             [
              0.5555555555555556,
              "#d8576b"
             ],
             [
              0.6666666666666666,
              "#ed7953"
             ],
             [
              0.7777777777777778,
              "#fb9f3a"
             ],
             [
              0.8888888888888888,
              "#fdca26"
             ],
             [
              1,
              "#f0f921"
             ]
            ],
            "type": "heatmap"
           }
          ],
          "heatmapgl": [
           {
            "colorbar": {
             "outlinewidth": 0,
             "ticks": ""
            },
            "colorscale": [
             [
              0,
              "#0d0887"
             ],
             [
              0.1111111111111111,
              "#46039f"
             ],
             [
              0.2222222222222222,
              "#7201a8"
             ],
             [
              0.3333333333333333,
              "#9c179e"
             ],
             [
              0.4444444444444444,
              "#bd3786"
             ],
             [
              0.5555555555555556,
              "#d8576b"
             ],
             [
              0.6666666666666666,
              "#ed7953"
             ],
             [
              0.7777777777777778,
              "#fb9f3a"
             ],
             [
              0.8888888888888888,
              "#fdca26"
             ],
             [
              1,
              "#f0f921"
             ]
            ],
            "type": "heatmapgl"
           }
          ],
          "histogram": [
           {
            "marker": {
             "pattern": {
              "fillmode": "overlay",
              "size": 10,
              "solidity": 0.2
             }
            },
            "type": "histogram"
           }
          ],
          "histogram2d": [
           {
            "colorbar": {
             "outlinewidth": 0,
             "ticks": ""
            },
            "colorscale": [
             [
              0,
              "#0d0887"
             ],
             [
              0.1111111111111111,
              "#46039f"
             ],
             [
              0.2222222222222222,
              "#7201a8"
             ],
             [
              0.3333333333333333,
              "#9c179e"
             ],
             [
              0.4444444444444444,
              "#bd3786"
             ],
             [
              0.5555555555555556,
              "#d8576b"
             ],
             [
              0.6666666666666666,
              "#ed7953"
             ],
             [
              0.7777777777777778,
              "#fb9f3a"
             ],
             [
              0.8888888888888888,
              "#fdca26"
             ],
             [
              1,
              "#f0f921"
             ]
            ],
            "type": "histogram2d"
           }
          ],
          "histogram2dcontour": [
           {
            "colorbar": {
             "outlinewidth": 0,
             "ticks": ""
            },
            "colorscale": [
             [
              0,
              "#0d0887"
             ],
             [
              0.1111111111111111,
              "#46039f"
             ],
             [
              0.2222222222222222,
              "#7201a8"
             ],
             [
              0.3333333333333333,
              "#9c179e"
             ],
             [
              0.4444444444444444,
              "#bd3786"
             ],
             [
              0.5555555555555556,
              "#d8576b"
             ],
             [
              0.6666666666666666,
              "#ed7953"
             ],
             [
              0.7777777777777778,
              "#fb9f3a"
             ],
             [
              0.8888888888888888,
              "#fdca26"
             ],
             [
              1,
              "#f0f921"
             ]
            ],
            "type": "histogram2dcontour"
           }
          ],
          "mesh3d": [
           {
            "colorbar": {
             "outlinewidth": 0,
             "ticks": ""
            },
            "type": "mesh3d"
           }
          ],
          "parcoords": [
           {
            "line": {
             "colorbar": {
              "outlinewidth": 0,
              "ticks": ""
             }
            },
            "type": "parcoords"
           }
          ],
          "pie": [
           {
            "automargin": true,
            "type": "pie"
           }
          ],
          "scatter": [
           {
            "fillpattern": {
             "fillmode": "overlay",
             "size": 10,
             "solidity": 0.2
            },
            "type": "scatter"
           }
          ],
          "scatter3d": [
           {
            "line": {
             "colorbar": {
              "outlinewidth": 0,
              "ticks": ""
             }
            },
            "marker": {
             "colorbar": {
              "outlinewidth": 0,
              "ticks": ""
             }
            },
            "type": "scatter3d"
           }
          ],
          "scattercarpet": [
           {
            "marker": {
             "colorbar": {
              "outlinewidth": 0,
              "ticks": ""
             }
            },
            "type": "scattercarpet"
           }
          ],
          "scattergeo": [
           {
            "marker": {
             "colorbar": {
              "outlinewidth": 0,
              "ticks": ""
             }
            },
            "type": "scattergeo"
           }
          ],
          "scattergl": [
           {
            "marker": {
             "colorbar": {
              "outlinewidth": 0,
              "ticks": ""
             }
            },
            "type": "scattergl"
           }
          ],
          "scattermapbox": [
           {
            "marker": {
             "colorbar": {
              "outlinewidth": 0,
              "ticks": ""
             }
            },
            "type": "scattermapbox"
           }
          ],
          "scatterpolar": [
           {
            "marker": {
             "colorbar": {
              "outlinewidth": 0,
              "ticks": ""
             }
            },
            "type": "scatterpolar"
           }
          ],
          "scatterpolargl": [
           {
            "marker": {
             "colorbar": {
              "outlinewidth": 0,
              "ticks": ""
             }
            },
            "type": "scatterpolargl"
           }
          ],
          "scatterternary": [
           {
            "marker": {
             "colorbar": {
              "outlinewidth": 0,
              "ticks": ""
             }
            },
            "type": "scatterternary"
           }
          ],
          "surface": [
           {
            "colorbar": {
             "outlinewidth": 0,
             "ticks": ""
            },
            "colorscale": [
             [
              0,
              "#0d0887"
             ],
             [
              0.1111111111111111,
              "#46039f"
             ],
             [
              0.2222222222222222,
              "#7201a8"
             ],
             [
              0.3333333333333333,
              "#9c179e"
             ],
             [
              0.4444444444444444,
              "#bd3786"
             ],
             [
              0.5555555555555556,
              "#d8576b"
             ],
             [
              0.6666666666666666,
              "#ed7953"
             ],
             [
              0.7777777777777778,
              "#fb9f3a"
             ],
             [
              0.8888888888888888,
              "#fdca26"
             ],
             [
              1,
              "#f0f921"
             ]
            ],
            "type": "surface"
           }
          ],
          "table": [
           {
            "cells": {
             "fill": {
              "color": "#EBF0F8"
             },
             "line": {
              "color": "white"
             }
            },
            "header": {
             "fill": {
              "color": "#C8D4E3"
             },
             "line": {
              "color": "white"
             }
            },
            "type": "table"
           }
          ]
         },
         "layout": {
          "annotationdefaults": {
           "arrowcolor": "#2a3f5f",
           "arrowhead": 0,
           "arrowwidth": 1
          },
          "autotypenumbers": "strict",
          "coloraxis": {
           "colorbar": {
            "outlinewidth": 0,
            "ticks": ""
           }
          },
          "colorscale": {
           "diverging": [
            [
             0,
             "#8e0152"
            ],
            [
             0.1,
             "#c51b7d"
            ],
            [
             0.2,
             "#de77ae"
            ],
            [
             0.3,
             "#f1b6da"
            ],
            [
             0.4,
             "#fde0ef"
            ],
            [
             0.5,
             "#f7f7f7"
            ],
            [
             0.6,
             "#e6f5d0"
            ],
            [
             0.7,
             "#b8e186"
            ],
            [
             0.8,
             "#7fbc41"
            ],
            [
             0.9,
             "#4d9221"
            ],
            [
             1,
             "#276419"
            ]
           ],
           "sequential": [
            [
             0,
             "#0d0887"
            ],
            [
             0.1111111111111111,
             "#46039f"
            ],
            [
             0.2222222222222222,
             "#7201a8"
            ],
            [
             0.3333333333333333,
             "#9c179e"
            ],
            [
             0.4444444444444444,
             "#bd3786"
            ],
            [
             0.5555555555555556,
             "#d8576b"
            ],
            [
             0.6666666666666666,
             "#ed7953"
            ],
            [
             0.7777777777777778,
             "#fb9f3a"
            ],
            [
             0.8888888888888888,
             "#fdca26"
            ],
            [
             1,
             "#f0f921"
            ]
           ],
           "sequentialminus": [
            [
             0,
             "#0d0887"
            ],
            [
             0.1111111111111111,
             "#46039f"
            ],
            [
             0.2222222222222222,
             "#7201a8"
            ],
            [
             0.3333333333333333,
             "#9c179e"
            ],
            [
             0.4444444444444444,
             "#bd3786"
            ],
            [
             0.5555555555555556,
             "#d8576b"
            ],
            [
             0.6666666666666666,
             "#ed7953"
            ],
            [
             0.7777777777777778,
             "#fb9f3a"
            ],
            [
             0.8888888888888888,
             "#fdca26"
            ],
            [
             1,
             "#f0f921"
            ]
           ]
          },
          "colorway": [
           "#636efa",
           "#EF553B",
           "#00cc96",
           "#ab63fa",
           "#FFA15A",
           "#19d3f3",
           "#FF6692",
           "#B6E880",
           "#FF97FF",
           "#FECB52"
          ],
          "font": {
           "color": "#2a3f5f"
          },
          "geo": {
           "bgcolor": "white",
           "lakecolor": "white",
           "landcolor": "#E5ECF6",
           "showlakes": true,
           "showland": true,
           "subunitcolor": "white"
          },
          "hoverlabel": {
           "align": "left"
          },
          "hovermode": "closest",
          "mapbox": {
           "style": "light"
          },
          "paper_bgcolor": "white",
          "plot_bgcolor": "#E5ECF6",
          "polar": {
           "angularaxis": {
            "gridcolor": "white",
            "linecolor": "white",
            "ticks": ""
           },
           "bgcolor": "#E5ECF6",
           "radialaxis": {
            "gridcolor": "white",
            "linecolor": "white",
            "ticks": ""
           }
          },
          "scene": {
           "xaxis": {
            "backgroundcolor": "#E5ECF6",
            "gridcolor": "white",
            "gridwidth": 2,
            "linecolor": "white",
            "showbackground": true,
            "ticks": "",
            "zerolinecolor": "white"
           },
           "yaxis": {
            "backgroundcolor": "#E5ECF6",
            "gridcolor": "white",
            "gridwidth": 2,
            "linecolor": "white",
            "showbackground": true,
            "ticks": "",
            "zerolinecolor": "white"
           },
           "zaxis": {
            "backgroundcolor": "#E5ECF6",
            "gridcolor": "white",
            "gridwidth": 2,
            "linecolor": "white",
            "showbackground": true,
            "ticks": "",
            "zerolinecolor": "white"
           }
          },
          "shapedefaults": {
           "line": {
            "color": "#2a3f5f"
           }
          },
          "ternary": {
           "aaxis": {
            "gridcolor": "white",
            "linecolor": "white",
            "ticks": ""
           },
           "baxis": {
            "gridcolor": "white",
            "linecolor": "white",
            "ticks": ""
           },
           "bgcolor": "#E5ECF6",
           "caxis": {
            "gridcolor": "white",
            "linecolor": "white",
            "ticks": ""
           }
          },
          "title": {
           "x": 0.05
          },
          "xaxis": {
           "automargin": true,
           "gridcolor": "white",
           "linecolor": "white",
           "ticks": "",
           "title": {
            "standoff": 15
           },
           "zerolinecolor": "white",
           "zerolinewidth": 2
          },
          "yaxis": {
           "automargin": true,
           "gridcolor": "white",
           "linecolor": "white",
           "ticks": "",
           "title": {
            "standoff": 15
           },
           "zerolinecolor": "white",
           "zerolinewidth": 2
          }
         }
        },
        "title": {
         "font": {
          "family": "Helvetica Neue, sans-serif",
          "size": 18
         },
         "text": "Number of Publications per Country",
         "x": 0.5,
         "y": 0.95
        }
       }
      }
     },
     "metadata": {},
     "output_type": "display_data"
    }
   ],
   "source": [
    "from src.utils.plots import plot_publications_map\n",
    "plot_publications_map(publications_per_country)"
   ]
  },
  {
   "cell_type": "code",
   "execution_count": null,
   "metadata": {},
   "outputs": [],
   "source": []
  }
 ],
 "metadata": {
  "kernelspec": {
   "display_name": "ml_env",
   "language": "python",
   "name": "python3"
  },
  "language_info": {
   "codemirror_mode": {
    "name": "ipython",
    "version": 3
   },
   "file_extension": ".py",
   "mimetype": "text/x-python",
   "name": "python",
   "nbconvert_exporter": "python",
   "pygments_lexer": "ipython3",
   "version": "3.11.5"
  }
 },
 "nbformat": 4,
 "nbformat_minor": 2
}
