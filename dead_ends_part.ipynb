{
 "cells": [
  {
   "cell_type": "markdown",
   "metadata": {},
   "source": [
    "# Analysing Dead-Ends in Wikispeedia"
   ]
  },
  {
   "cell_type": "markdown",
   "metadata": {},
   "source": [
    "## Imports"
   ]
  },
  {
   "cell_type": "code",
   "execution_count": 4,
   "metadata": {},
   "outputs": [],
   "source": [
    "import pandas as pd\n",
    "import matplotlib.pyplot as plt\n",
    "import seaborn as sns\n",
    "\n",
    "import statsmodels.formula.api as smf\n",
    "\n",
    "from src.data.dataloader import *\n",
    "from src.utils.plots import *\n",
    "from src.utils.functions import *"
   ]
  },
  {
   "cell_type": "code",
   "execution_count": 6,
   "metadata": {},
   "outputs": [],
   "source": [
    "path='data/wikispeedia_paths-and-graph/'\n",
    "articles = load_articles_dataframe(path=path)\n",
    "categories = load_categories_dataframe(path=path)\n",
    "finished_paths = load_path_finished_dataframe(path=path)\n",
    "unfinished_paths = load_path_unfinished_distance_dataframe(path=path)"
   ]
  },
  {
   "cell_type": "code",
   "execution_count": 8,
   "metadata": {},
   "outputs": [
    {
     "name": "stdout",
     "output_type": "stream",
     "text": [
      "Top Dead-End Articles (Most Likely to Cause Players to Stop):\n"
     ]
    },
    {
     "data": {
      "text/html": [
       "<div>\n",
       "<style scoped>\n",
       "    .dataframe tbody tr th:only-of-type {\n",
       "        vertical-align: middle;\n",
       "    }\n",
       "\n",
       "    .dataframe tbody tr th {\n",
       "        vertical-align: top;\n",
       "    }\n",
       "\n",
       "    .dataframe thead th {\n",
       "        text-align: right;\n",
       "    }\n",
       "</style>\n",
       "<table border=\"1\" class=\"dataframe\">\n",
       "  <thead>\n",
       "    <tr style=\"text-align: right;\">\n",
       "      <th></th>\n",
       "      <th>article</th>\n",
       "      <th>total_click_count</th>\n",
       "      <th>failure_ratio_unique</th>\n",
       "      <th>unique_failure_count</th>\n",
       "    </tr>\n",
       "  </thead>\n",
       "  <tbody>\n",
       "    <tr>\n",
       "      <th>4039</th>\n",
       "      <td>Hurricane_Gloria</td>\n",
       "      <td>4</td>\n",
       "      <td>1.0</td>\n",
       "      <td>4</td>\n",
       "    </tr>\n",
       "    <tr>\n",
       "      <th>4043</th>\n",
       "      <td>Hilda_of_Whitby</td>\n",
       "      <td>4</td>\n",
       "      <td>1.0</td>\n",
       "      <td>4</td>\n",
       "    </tr>\n",
       "    <tr>\n",
       "      <th>4078</th>\n",
       "      <td>Malwa_%28Madhya_Pradesh%29</td>\n",
       "      <td>4</td>\n",
       "      <td>1.0</td>\n",
       "      <td>4</td>\n",
       "    </tr>\n",
       "    <tr>\n",
       "      <th>4090</th>\n",
       "      <td>Eliminative_materialism</td>\n",
       "      <td>3</td>\n",
       "      <td>1.0</td>\n",
       "      <td>3</td>\n",
       "    </tr>\n",
       "    <tr>\n",
       "      <th>4105</th>\n",
       "      <td>San_Diego_and_Arizona_Railway</td>\n",
       "      <td>3</td>\n",
       "      <td>1.0</td>\n",
       "      <td>3</td>\n",
       "    </tr>\n",
       "    <tr>\n",
       "      <th>4111</th>\n",
       "      <td>Lynton_and_Barnstaple_Railway</td>\n",
       "      <td>2</td>\n",
       "      <td>1.0</td>\n",
       "      <td>2</td>\n",
       "    </tr>\n",
       "    <tr>\n",
       "      <th>4127</th>\n",
       "      <td>Battle_of_Smolensk_%281943%29</td>\n",
       "      <td>2</td>\n",
       "      <td>1.0</td>\n",
       "      <td>2</td>\n",
       "    </tr>\n",
       "    <tr>\n",
       "      <th>4129</th>\n",
       "      <td>Richard_O%27Connor</td>\n",
       "      <td>2</td>\n",
       "      <td>1.0</td>\n",
       "      <td>2</td>\n",
       "    </tr>\n",
       "    <tr>\n",
       "      <th>4150</th>\n",
       "      <td>Private_Peaceful</td>\n",
       "      <td>1</td>\n",
       "      <td>1.0</td>\n",
       "      <td>1</td>\n",
       "    </tr>\n",
       "    <tr>\n",
       "      <th>4156</th>\n",
       "      <td>Nadia_Com%C4%83neci</td>\n",
       "      <td>1</td>\n",
       "      <td>1.0</td>\n",
       "      <td>1</td>\n",
       "    </tr>\n",
       "  </tbody>\n",
       "</table>\n",
       "</div>"
      ],
      "text/plain": [
       "                            article  total_click_count  failure_ratio_unique  \\\n",
       "4039               Hurricane_Gloria                  4                   1.0   \n",
       "4043                Hilda_of_Whitby                  4                   1.0   \n",
       "4078     Malwa_%28Madhya_Pradesh%29                  4                   1.0   \n",
       "4090        Eliminative_materialism                  3                   1.0   \n",
       "4105  San_Diego_and_Arizona_Railway                  3                   1.0   \n",
       "4111  Lynton_and_Barnstaple_Railway                  2                   1.0   \n",
       "4127  Battle_of_Smolensk_%281943%29                  2                   1.0   \n",
       "4129             Richard_O%27Connor                  2                   1.0   \n",
       "4150               Private_Peaceful                  1                   1.0   \n",
       "4156            Nadia_Com%C4%83neci                  1                   1.0   \n",
       "\n",
       "      unique_failure_count  \n",
       "4039                     4  \n",
       "4043                     4  \n",
       "4078                     4  \n",
       "4090                     3  \n",
       "4105                     3  \n",
       "4111                     2  \n",
       "4127                     2  \n",
       "4129                     2  \n",
       "4150                     1  \n",
       "4156                     1  "
      ]
     },
     "execution_count": 8,
     "metadata": {},
     "output_type": "execute_result"
    }
   ],
   "source": [
    "df_articles_count = process_article_paths(finished_paths, unfinished_paths, articles)\n",
    "top_dead_end_articles = df_articles_count.sort_values(by=['failure_ratio_unique', 'total_click_count'], ascending=False)\n",
    "print(\"Top Dead-End Articles (Most Likely to Cause Players to Stop):\")\n",
    "top_dead_end_articles[['article', 'total_click_count', 'failure_ratio_unique', 'unique_failure_count']].head(10)"
   ]
  },
  {
   "cell_type": "markdown",
   "metadata": {},
   "source": [
    "## Find unique dead end countries \n",
    "We'd like to have unique countries in the dataframe to get a clear view of each country's overall impact as a dead-end article without redundancy.\n",
    "It's important to avoid duplicate entries, which would skew metrics like total click counts and success/failure ratios. \n",
    "\n",
    "The following approach creates a single, summarized entry for each country, preserving meaningful metrics and avoiding arbitrary duplicate drops. It allows for a comprehensive view of each country’s overall engagement and dead-end behavior within the dataset."
   ]
  },
  {
   "cell_type": "code",
   "execution_count": 9,
   "metadata": {},
   "outputs": [],
   "source": [
    "df_country_clicks_links = pd.read_csv('data/country_clicks_links.csv', index_col=0)"
   ]
  },
  {
   "cell_type": "code",
   "execution_count": 10,
   "metadata": {},
   "outputs": [
    {
     "name": "stdout",
     "output_type": "stream",
     "text": [
      "Top Dead-End Articles (Most Likely to Cause Players to Stop) related to link counts:\n"
     ]
    },
    {
     "data": {
      "text/html": [
       "<div>\n",
       "<style scoped>\n",
       "    .dataframe tbody tr th:only-of-type {\n",
       "        vertical-align: middle;\n",
       "    }\n",
       "\n",
       "    .dataframe tbody tr th {\n",
       "        vertical-align: top;\n",
       "    }\n",
       "\n",
       "    .dataframe thead th {\n",
       "        text-align: right;\n",
       "    }\n",
       "</style>\n",
       "<table border=\"1\" class=\"dataframe\">\n",
       "  <thead>\n",
       "    <tr style=\"text-align: right;\">\n",
       "      <th></th>\n",
       "      <th>article</th>\n",
       "      <th>num_links_in</th>\n",
       "      <th>num_links_out</th>\n",
       "      <th>failure_ratio_unique</th>\n",
       "    </tr>\n",
       "  </thead>\n",
       "  <tbody>\n",
       "    <tr>\n",
       "      <th>1925</th>\n",
       "      <td>Hilda_of_Whitby</td>\n",
       "      <td>2.0</td>\n",
       "      <td>16.0</td>\n",
       "      <td>1.0</td>\n",
       "    </tr>\n",
       "    <tr>\n",
       "      <th>2048</th>\n",
       "      <td>Hurricane_Gloria</td>\n",
       "      <td>2.0</td>\n",
       "      <td>6.0</td>\n",
       "      <td>1.0</td>\n",
       "    </tr>\n",
       "    <tr>\n",
       "      <th>2621</th>\n",
       "      <td>Malwa_%28Madhya_Pradesh%29</td>\n",
       "      <td>3.0</td>\n",
       "      <td>29.0</td>\n",
       "      <td>1.0</td>\n",
       "    </tr>\n",
       "    <tr>\n",
       "      <th>1353</th>\n",
       "      <td>Eliminative_materialism</td>\n",
       "      <td>1.0</td>\n",
       "      <td>12.0</td>\n",
       "      <td>1.0</td>\n",
       "    </tr>\n",
       "    <tr>\n",
       "      <th>3616</th>\n",
       "      <td>San_Diego_and_Arizona_Railway</td>\n",
       "      <td>2.0</td>\n",
       "      <td>8.0</td>\n",
       "      <td>1.0</td>\n",
       "    </tr>\n",
       "    <tr>\n",
       "      <th>504</th>\n",
       "      <td>Battle_of_Smolensk_%281943%29</td>\n",
       "      <td>2.0</td>\n",
       "      <td>13.0</td>\n",
       "      <td>1.0</td>\n",
       "    </tr>\n",
       "    <tr>\n",
       "      <th>2574</th>\n",
       "      <td>Lynton_and_Barnstaple_Railway</td>\n",
       "      <td>3.0</td>\n",
       "      <td>11.0</td>\n",
       "      <td>1.0</td>\n",
       "    </tr>\n",
       "    <tr>\n",
       "      <th>3490</th>\n",
       "      <td>Richard_O%27Connor</td>\n",
       "      <td>1.0</td>\n",
       "      <td>35.0</td>\n",
       "      <td>1.0</td>\n",
       "    </tr>\n",
       "    <tr>\n",
       "      <th>313</th>\n",
       "      <td>Architecture_of_Windows_NT</td>\n",
       "      <td>NaN</td>\n",
       "      <td>3.0</td>\n",
       "      <td>1.0</td>\n",
       "    </tr>\n",
       "    <tr>\n",
       "      <th>844</th>\n",
       "      <td>CF7</td>\n",
       "      <td>2.0</td>\n",
       "      <td>6.0</td>\n",
       "      <td>1.0</td>\n",
       "    </tr>\n",
       "  </tbody>\n",
       "</table>\n",
       "</div>"
      ],
      "text/plain": [
       "                            article  num_links_in  num_links_out  \\\n",
       "1925                Hilda_of_Whitby           2.0           16.0   \n",
       "2048               Hurricane_Gloria           2.0            6.0   \n",
       "2621     Malwa_%28Madhya_Pradesh%29           3.0           29.0   \n",
       "1353        Eliminative_materialism           1.0           12.0   \n",
       "3616  San_Diego_and_Arizona_Railway           2.0            8.0   \n",
       "504   Battle_of_Smolensk_%281943%29           2.0           13.0   \n",
       "2574  Lynton_and_Barnstaple_Railway           3.0           11.0   \n",
       "3490             Richard_O%27Connor           1.0           35.0   \n",
       "313      Architecture_of_Windows_NT           NaN            3.0   \n",
       "844                             CF7           2.0            6.0   \n",
       "\n",
       "      failure_ratio_unique  \n",
       "1925                   1.0  \n",
       "2048                   1.0  \n",
       "2621                   1.0  \n",
       "1353                   1.0  \n",
       "3616                   1.0  \n",
       "504                    1.0  \n",
       "2574                   1.0  \n",
       "3490                   1.0  \n",
       "313                    1.0  \n",
       "844                    1.0  "
      ]
     },
     "execution_count": 10,
     "metadata": {},
     "output_type": "execute_result"
    }
   ],
   "source": [
    "# prepare for merge\n",
    "df_country_click_links_reset = df_country_clicks_links.reset_index().rename(columns={'index': 'article'})\n",
    "\n",
    "# merge to get the country\n",
    "dead_end_countries = pd.merge(\n",
    "    df_country_click_links_reset, \n",
    "    top_dead_end_articles, \n",
    "    on='article', \n",
    "    how='inner'\n",
    ")\n",
    "\n",
    "print(\"Top Dead-End Articles (Most Likely to Cause Players to Stop) related to link counts:\")\n",
    "dead_end_countries.sort_values(by=['failure_ratio_unique','total_click_count'], ascending=False)[['article', 'num_links_in', 'num_links_out', 'failure_ratio_unique']].head(10)\n"
   ]
  },
  {
   "cell_type": "code",
   "execution_count": 11,
   "metadata": {},
   "outputs": [
    {
     "data": {
      "text/html": [
       "<div>\n",
       "<style scoped>\n",
       "    .dataframe tbody tr th:only-of-type {\n",
       "        vertical-align: middle;\n",
       "    }\n",
       "\n",
       "    .dataframe tbody tr th {\n",
       "        vertical-align: top;\n",
       "    }\n",
       "\n",
       "    .dataframe thead th {\n",
       "        text-align: right;\n",
       "    }\n",
       "</style>\n",
       "<table border=\"1\" class=\"dataframe\">\n",
       "  <thead>\n",
       "    <tr style=\"text-align: right;\">\n",
       "      <th></th>\n",
       "      <th>Top_1_name</th>\n",
       "      <th>click_count</th>\n",
       "      <th>sum_num_links_out</th>\n",
       "      <th>sum_num_links_in</th>\n",
       "      <th>unique_success_count</th>\n",
       "      <th>unique_failure_count</th>\n",
       "      <th>mean_success_ratio_total</th>\n",
       "      <th>mean_failure_ratio_total</th>\n",
       "      <th>mean_success_ratio_unique</th>\n",
       "      <th>mean_failure_ratio_unique</th>\n",
       "    </tr>\n",
       "  </thead>\n",
       "  <tbody>\n",
       "    <tr>\n",
       "      <th>185</th>\n",
       "      <td>united states</td>\n",
       "      <td>36078</td>\n",
       "      <td>11710</td>\n",
       "      <td>9562</td>\n",
       "      <td>34993</td>\n",
       "      <td>13220</td>\n",
       "      <td>0.604929</td>\n",
       "      <td>0.248900</td>\n",
       "      <td>0.609996</td>\n",
       "      <td>0.251265</td>\n",
       "    </tr>\n",
       "    <tr>\n",
       "      <th>184</th>\n",
       "      <td>united kingdom</td>\n",
       "      <td>17150</td>\n",
       "      <td>6453</td>\n",
       "      <td>6315</td>\n",
       "      <td>16252</td>\n",
       "      <td>5614</td>\n",
       "      <td>0.645435</td>\n",
       "      <td>0.249759</td>\n",
       "      <td>0.649921</td>\n",
       "      <td>0.251556</td>\n",
       "    </tr>\n",
       "    <tr>\n",
       "      <th>64</th>\n",
       "      <td>germany</td>\n",
       "      <td>9244</td>\n",
       "      <td>3284</td>\n",
       "      <td>3750</td>\n",
       "      <td>9448</td>\n",
       "      <td>3026</td>\n",
       "      <td>0.706367</td>\n",
       "      <td>0.220213</td>\n",
       "      <td>0.711659</td>\n",
       "      <td>0.222303</td>\n",
       "    </tr>\n",
       "    <tr>\n",
       "      <th>59</th>\n",
       "      <td>france</td>\n",
       "      <td>8476</td>\n",
       "      <td>3487</td>\n",
       "      <td>4487</td>\n",
       "      <td>7933</td>\n",
       "      <td>2912</td>\n",
       "      <td>0.670494</td>\n",
       "      <td>0.247028</td>\n",
       "      <td>0.676006</td>\n",
       "      <td>0.249227</td>\n",
       "    </tr>\n",
       "    <tr>\n",
       "      <th>87</th>\n",
       "      <td>italy</td>\n",
       "      <td>8288</td>\n",
       "      <td>2530</td>\n",
       "      <td>3152</td>\n",
       "      <td>7700</td>\n",
       "      <td>2928</td>\n",
       "      <td>0.657015</td>\n",
       "      <td>0.239025</td>\n",
       "      <td>0.661918</td>\n",
       "      <td>0.240995</td>\n",
       "    </tr>\n",
       "    <tr>\n",
       "      <th>39</th>\n",
       "      <td>china</td>\n",
       "      <td>6158</td>\n",
       "      <td>2454</td>\n",
       "      <td>2696</td>\n",
       "      <td>6449</td>\n",
       "      <td>2120</td>\n",
       "      <td>0.724648</td>\n",
       "      <td>0.222597</td>\n",
       "      <td>0.728767</td>\n",
       "      <td>0.224174</td>\n",
       "    </tr>\n",
       "    <tr>\n",
       "      <th>161</th>\n",
       "      <td>south africa</td>\n",
       "      <td>5815</td>\n",
       "      <td>1236</td>\n",
       "      <td>1261</td>\n",
       "      <td>5464</td>\n",
       "      <td>1418</td>\n",
       "      <td>0.730293</td>\n",
       "      <td>0.185385</td>\n",
       "      <td>0.734290</td>\n",
       "      <td>0.186762</td>\n",
       "    </tr>\n",
       "    <tr>\n",
       "      <th>10</th>\n",
       "      <td>australia</td>\n",
       "      <td>5814</td>\n",
       "      <td>2534</td>\n",
       "      <td>2241</td>\n",
       "      <td>5969</td>\n",
       "      <td>2102</td>\n",
       "      <td>0.638846</td>\n",
       "      <td>0.225703</td>\n",
       "      <td>0.643508</td>\n",
       "      <td>0.228051</td>\n",
       "    </tr>\n",
       "    <tr>\n",
       "      <th>67</th>\n",
       "      <td>greece</td>\n",
       "      <td>5599</td>\n",
       "      <td>1672</td>\n",
       "      <td>1732</td>\n",
       "      <td>5274</td>\n",
       "      <td>1892</td>\n",
       "      <td>0.675084</td>\n",
       "      <td>0.224611</td>\n",
       "      <td>0.683117</td>\n",
       "      <td>0.227597</td>\n",
       "    </tr>\n",
       "    <tr>\n",
       "      <th>80</th>\n",
       "      <td>india</td>\n",
       "      <td>5462</td>\n",
       "      <td>2767</td>\n",
       "      <td>2425</td>\n",
       "      <td>5535</td>\n",
       "      <td>1960</td>\n",
       "      <td>0.686685</td>\n",
       "      <td>0.228490</td>\n",
       "      <td>0.692581</td>\n",
       "      <td>0.230496</td>\n",
       "    </tr>\n",
       "  </tbody>\n",
       "</table>\n",
       "</div>"
      ],
      "text/plain": [
       "         Top_1_name  click_count  sum_num_links_out  sum_num_links_in  \\\n",
       "185   united states        36078              11710              9562   \n",
       "184  united kingdom        17150               6453              6315   \n",
       "64          germany         9244               3284              3750   \n",
       "59           france         8476               3487              4487   \n",
       "87            italy         8288               2530              3152   \n",
       "39            china         6158               2454              2696   \n",
       "161    south africa         5815               1236              1261   \n",
       "10        australia         5814               2534              2241   \n",
       "67           greece         5599               1672              1732   \n",
       "80            india         5462               2767              2425   \n",
       "\n",
       "     unique_success_count  unique_failure_count  mean_success_ratio_total  \\\n",
       "185                 34993                 13220                  0.604929   \n",
       "184                 16252                  5614                  0.645435   \n",
       "64                   9448                  3026                  0.706367   \n",
       "59                   7933                  2912                  0.670494   \n",
       "87                   7700                  2928                  0.657015   \n",
       "39                   6449                  2120                  0.724648   \n",
       "161                  5464                  1418                  0.730293   \n",
       "10                   5969                  2102                  0.638846   \n",
       "67                   5274                  1892                  0.675084   \n",
       "80                   5535                  1960                  0.686685   \n",
       "\n",
       "     mean_failure_ratio_total  mean_success_ratio_unique  \\\n",
       "185                  0.248900                   0.609996   \n",
       "184                  0.249759                   0.649921   \n",
       "64                   0.220213                   0.711659   \n",
       "59                   0.247028                   0.676006   \n",
       "87                   0.239025                   0.661918   \n",
       "39                   0.222597                   0.728767   \n",
       "161                  0.185385                   0.734290   \n",
       "10                   0.225703                   0.643508   \n",
       "67                   0.224611                   0.683117   \n",
       "80                   0.228490                   0.692581   \n",
       "\n",
       "     mean_failure_ratio_unique  \n",
       "185                   0.251265  \n",
       "184                   0.251556  \n",
       "64                    0.222303  \n",
       "59                    0.249227  \n",
       "87                    0.240995  \n",
       "39                    0.224174  \n",
       "161                   0.186762  \n",
       "10                    0.228051  \n",
       "67                    0.227597  \n",
       "80                    0.230496  "
      ]
     },
     "execution_count": 11,
     "metadata": {},
     "output_type": "execute_result"
    }
   ],
   "source": [
    "# group by 'Top_1_name' (country) and aggregate the data\n",
    "unique_dead_end_countries = (\n",
    "    dead_end_countries\n",
    "    .groupby('Top_1_name', as_index=False)\n",
    "    .agg({\n",
    "        'click_count': 'sum',             # Sum click counts to get total clicks per country\n",
    "        'num_links_out': lambda x: int(round(x.sum())),          # Sum of outgoing links\n",
    "        'num_links_in': lambda x: int(round(x.sum())),           # Sum of incoming links\n",
    "        'unique_success_count': 'sum',    # Sum of unique success counts per country\n",
    "        'unique_failure_count': 'sum',    # Sum of unique failure counts per country\n",
    "        'success_ratio_total': 'mean',    # Mean of total success ratios\n",
    "        'failure_ratio_total': 'mean',    # Mean of total failure ratios\n",
    "        'success_ratio_unique': 'mean',   # Mean of unique success ratios\n",
    "        'failure_ratio_unique': 'mean'    # Mean of unique failure ratios\n",
    "    }).rename(columns={\n",
    "        'num_links_out': 'sum_num_links_out',\n",
    "        'num_links_in': 'sum_num_links_in',\n",
    "        'success_ratio_total': 'mean_success_ratio_total',\n",
    "        'failure_ratio_total': 'mean_failure_ratio_total',\n",
    "        'success_ratio_unique': 'mean_success_ratio_unique',\n",
    "        'failure_ratio_unique': 'mean_failure_ratio_unique'\n",
    "    })\n",
    ")\n",
    "\n",
    "unique_dead_end_countries = unique_dead_end_countries.sort_values(by=['click_count'], ascending=False)\n",
    "\n",
    "unique_dead_end_countries.head(10)"
   ]
  },
  {
   "cell_type": "markdown",
   "metadata": {},
   "source": [
    "If we scale by the number of outgoing links, which places all countries at the same scale, we will have a better intuition on which countries player tend to stop playing the game the most "
   ]
  },
  {
   "cell_type": "code",
   "execution_count": 25,
   "metadata": {},
   "outputs": [],
   "source": [
    "# Scale the click count by the mean number of outgoing links\n",
    "unique_dead_end_countries[\"scaled_click_count\"] = unique_dead_end_countries[\"click_count\"] / unique_dead_end_countries[\"sum_num_links_out\"]"
   ]
  },
  {
   "cell_type": "code",
   "execution_count": 55,
   "metadata": {},
   "outputs": [],
   "source": [
    "import plotly.graph_objects as go\n",
    "\n",
    "# don't add title to the plot, will be added as html\n",
    "# TITLE = \"Top Country-Related Dead-End Articles (Before/After Scaling)\"\n",
    "import plotly.graph_objects as go\n",
    "\n",
    "def plot_top_dead_end_countries_plotly(unique_dead_end_countries, top_n=10):\n",
    "    \"\"\"\n",
    "    Plots the top country-related dead-end articles with an interactive button\n",
    "    to switch between before scaling and after scaling (scaled click counts).\n",
    "    \n",
    "    Args:\n",
    "        unique_dead_end_countries (pd.DataFrame): DataFrame containing dead-end \n",
    "                                                  country-related articles with click counts and link information.\n",
    "        top_n (int): Number of top articles to display (default is 10).\n",
    "    \"\"\"\n",
    "    # Get the top N data for both \"before scaling\" and \"after scaling\"\n",
    "    top_before_scaling = unique_dead_end_countries.sort_values(\n",
    "        by=\"click_count\", ascending=False\n",
    "    ).head(top_n)\n",
    "    top_after_scaling = unique_dead_end_countries.sort_values(\n",
    "        by=\"scaled_click_count\", ascending=False\n",
    "    ).head(top_n)\n",
    "    \n",
    "    # Get global min and max for \"Sum Links Out\" across both datasets\n",
    "    global_min = unique_dead_end_countries[\"sum_num_links_out\"].min()\n",
    "    global_max = unique_dead_end_countries[\"sum_num_links_out\"].max()\n",
    "    \n",
    "    # Create traces for before scaling\n",
    "    trace_before = go.Bar(\n",
    "        x=top_before_scaling[\"click_count\"],\n",
    "        y=top_before_scaling[\"Top_1_name\"],\n",
    "        orientation=\"h\",\n",
    "        marker=dict(\n",
    "            color=top_before_scaling[\"sum_num_links_out\"], \n",
    "            colorscale=\"YlGnBu\", \n",
    "            cmin=global_min,\n",
    "            cmax=global_max,\n",
    "            colorbar=dict(title=\"Sum Links Out\", x=1.02),  # Position color bar to the right\n",
    "        ),\n",
    "        name=\"Before Scaling\",\n",
    "    )\n",
    "\n",
    "    # Create traces for after scaling\n",
    "    trace_after = go.Bar(\n",
    "        x=top_after_scaling[\"scaled_click_count\"],\n",
    "        y=top_after_scaling[\"Top_1_name\"],\n",
    "        orientation=\"h\",\n",
    "        marker=dict(\n",
    "            color=top_after_scaling[\"sum_num_links_out\"], \n",
    "            colorscale=\"YlGnBu\",\n",
    "            cmin=global_min,\n",
    "            cmax=global_max,\n",
    "            colorbar=dict(title=\"Sum Links Out\", x=1.02),  # Hide duplicate color bar for this trace\n",
    "        ),\n",
    "        name=\"After Scaling\",\n",
    "    )\n",
    "\n",
    "    # Layout with updatemenus (buttons)\n",
    "    layout = go.Layout(\n",
    "        xaxis=dict(title=\"Click Count\"),\n",
    "        yaxis=dict(title=\"Country\"),\n",
    "        updatemenus=[\n",
    "            dict(\n",
    "                type=\"buttons\",\n",
    "                direction=\"left\",\n",
    "                x=0.7,\n",
    "                y=1.2,\n",
    "                showactive=True,\n",
    "                buttons=[\n",
    "                    dict(\n",
    "                        label=\"Before Scaling\",\n",
    "                        method=\"update\",\n",
    "                        args=[\n",
    "                            {\"visible\": [True, False]},  # Show first trace\n",
    "                        ],\n",
    "                    ),\n",
    "                    dict(\n",
    "                        label=\"After Scaling\",\n",
    "                        method=\"update\",\n",
    "                        args=[\n",
    "                            {\"visible\": [False, True]},  # Show second trace\n",
    "                        ],\n",
    "                    ),\n",
    "                ],\n",
    "            )\n",
    "        ],\n",
    "    )\n",
    "\n",
    "    # Combine traces\n",
    "    fig = go.Figure(data=[trace_before, trace_after], layout=layout)\n",
    "\n",
    "    # Initially set visibility\n",
    "    fig.data[0].visible = True  # Before scaling\n",
    "    fig.data[1].visible = False  # After scaling\n",
    "\n",
    "    # Show the interactive plot\n",
    "    fig.show()\n",
    "    #fig.write_html('graphs/top_country_dead_end_articles.html')"
   ]
  },
  {
   "cell_type": "code",
   "execution_count": 56,
   "metadata": {},
   "outputs": [
    {
     "data": {
      "application/vnd.plotly.v1+json": {
       "config": {
        "plotlyServerURL": "https://plot.ly"
       },
       "data": [
        {
         "marker": {
          "cmax": 11710,
          "cmin": 6,
          "color": [
           11710,
           6453,
           3284,
           3487,
           2530,
           2454,
           1236,
           2534,
           1672,
           2767
          ],
          "colorbar": {
           "title": {
            "text": "Sum Links Out"
           },
           "x": 1.02
          },
          "colorscale": [
           [
            0,
            "rgb(255,255,217)"
           ],
           [
            0.125,
            "rgb(237,248,177)"
           ],
           [
            0.25,
            "rgb(199,233,180)"
           ],
           [
            0.375,
            "rgb(127,205,187)"
           ],
           [
            0.5,
            "rgb(65,182,196)"
           ],
           [
            0.625,
            "rgb(29,145,192)"
           ],
           [
            0.75,
            "rgb(34,94,168)"
           ],
           [
            0.875,
            "rgb(37,52,148)"
           ],
           [
            1,
            "rgb(8,29,88)"
           ]
          ]
         },
         "name": "Before Scaling",
         "orientation": "h",
         "type": "bar",
         "visible": true,
         "x": [
          36078,
          17150,
          9244,
          8476,
          8288,
          6158,
          5815,
          5814,
          5599,
          5462
         ],
         "y": [
          "united states",
          "united kingdom",
          "germany",
          "france",
          "italy",
          "china",
          "south africa",
          "australia",
          "greece",
          "india"
         ]
        },
        {
         "marker": {
          "cmax": 11710,
          "cmin": 6,
          "color": [
           29,
           33,
           1236,
           844,
           660,
           101,
           166,
           201,
           1672,
           842
          ],
          "colorbar": {
           "title": {
            "text": "Sum Links Out"
           },
           "x": 1.02
          },
          "colorscale": [
           [
            0,
            "rgb(255,255,217)"
           ],
           [
            0.125,
            "rgb(237,248,177)"
           ],
           [
            0.25,
            "rgb(199,233,180)"
           ],
           [
            0.375,
            "rgb(127,205,187)"
           ],
           [
            0.5,
            "rgb(65,182,196)"
           ],
           [
            0.625,
            "rgb(29,145,192)"
           ],
           [
            0.75,
            "rgb(34,94,168)"
           ],
           [
            0.875,
            "rgb(37,52,148)"
           ],
           [
            1,
            "rgb(8,29,88)"
           ]
          ]
         },
         "name": "After Scaling",
         "orientation": "h",
         "type": "bar",
         "visible": false,
         "x": [
          32.10344827586207,
          4.757575757575758,
          4.7046925566343045,
          4.10781990521327,
          3.959090909090909,
          3.742574257425743,
          3.602409638554217,
          3.482587064676617,
          3.348684210526316,
          3.294536817102138
         ],
         "y": [
          "vatican city",
          "greenland",
          "south africa",
          "spain",
          "brazil",
          "bolivia",
          "iceland",
          "algeria",
          "greece",
          "egypt"
         ]
        }
       ],
       "layout": {
        "template": {
         "data": {
          "bar": [
           {
            "error_x": {
             "color": "#2a3f5f"
            },
            "error_y": {
             "color": "#2a3f5f"
            },
            "marker": {
             "line": {
              "color": "#E5ECF6",
              "width": 0.5
             },
             "pattern": {
              "fillmode": "overlay",
              "size": 10,
              "solidity": 0.2
             }
            },
            "type": "bar"
           }
          ],
          "barpolar": [
           {
            "marker": {
             "line": {
              "color": "#E5ECF6",
              "width": 0.5
             },
             "pattern": {
              "fillmode": "overlay",
              "size": 10,
              "solidity": 0.2
             }
            },
            "type": "barpolar"
           }
          ],
          "carpet": [
           {
            "aaxis": {
             "endlinecolor": "#2a3f5f",
             "gridcolor": "white",
             "linecolor": "white",
             "minorgridcolor": "white",
             "startlinecolor": "#2a3f5f"
            },
            "baxis": {
             "endlinecolor": "#2a3f5f",
             "gridcolor": "white",
             "linecolor": "white",
             "minorgridcolor": "white",
             "startlinecolor": "#2a3f5f"
            },
            "type": "carpet"
           }
          ],
          "choropleth": [
           {
            "colorbar": {
             "outlinewidth": 0,
             "ticks": ""
            },
            "type": "choropleth"
           }
          ],
          "contour": [
           {
            "colorbar": {
             "outlinewidth": 0,
             "ticks": ""
            },
            "colorscale": [
             [
              0,
              "#0d0887"
             ],
             [
              0.1111111111111111,
              "#46039f"
             ],
             [
              0.2222222222222222,
              "#7201a8"
             ],
             [
              0.3333333333333333,
              "#9c179e"
             ],
             [
              0.4444444444444444,
              "#bd3786"
             ],
             [
              0.5555555555555556,
              "#d8576b"
             ],
             [
              0.6666666666666666,
              "#ed7953"
             ],
             [
              0.7777777777777778,
              "#fb9f3a"
             ],
             [
              0.8888888888888888,
              "#fdca26"
             ],
             [
              1,
              "#f0f921"
             ]
            ],
            "type": "contour"
           }
          ],
          "contourcarpet": [
           {
            "colorbar": {
             "outlinewidth": 0,
             "ticks": ""
            },
            "type": "contourcarpet"
           }
          ],
          "heatmap": [
           {
            "colorbar": {
             "outlinewidth": 0,
             "ticks": ""
            },
            "colorscale": [
             [
              0,
              "#0d0887"
             ],
             [
              0.1111111111111111,
              "#46039f"
             ],
             [
              0.2222222222222222,
              "#7201a8"
             ],
             [
              0.3333333333333333,
              "#9c179e"
             ],
             [
              0.4444444444444444,
              "#bd3786"
             ],
             [
              0.5555555555555556,
              "#d8576b"
             ],
             [
              0.6666666666666666,
              "#ed7953"
             ],
             [
              0.7777777777777778,
              "#fb9f3a"
             ],
             [
              0.8888888888888888,
              "#fdca26"
             ],
             [
              1,
              "#f0f921"
             ]
            ],
            "type": "heatmap"
           }
          ],
          "heatmapgl": [
           {
            "colorbar": {
             "outlinewidth": 0,
             "ticks": ""
            },
            "colorscale": [
             [
              0,
              "#0d0887"
             ],
             [
              0.1111111111111111,
              "#46039f"
             ],
             [
              0.2222222222222222,
              "#7201a8"
             ],
             [
              0.3333333333333333,
              "#9c179e"
             ],
             [
              0.4444444444444444,
              "#bd3786"
             ],
             [
              0.5555555555555556,
              "#d8576b"
             ],
             [
              0.6666666666666666,
              "#ed7953"
             ],
             [
              0.7777777777777778,
              "#fb9f3a"
             ],
             [
              0.8888888888888888,
              "#fdca26"
             ],
             [
              1,
              "#f0f921"
             ]
            ],
            "type": "heatmapgl"
           }
          ],
          "histogram": [
           {
            "marker": {
             "pattern": {
              "fillmode": "overlay",
              "size": 10,
              "solidity": 0.2
             }
            },
            "type": "histogram"
           }
          ],
          "histogram2d": [
           {
            "colorbar": {
             "outlinewidth": 0,
             "ticks": ""
            },
            "colorscale": [
             [
              0,
              "#0d0887"
             ],
             [
              0.1111111111111111,
              "#46039f"
             ],
             [
              0.2222222222222222,
              "#7201a8"
             ],
             [
              0.3333333333333333,
              "#9c179e"
             ],
             [
              0.4444444444444444,
              "#bd3786"
             ],
             [
              0.5555555555555556,
              "#d8576b"
             ],
             [
              0.6666666666666666,
              "#ed7953"
             ],
             [
              0.7777777777777778,
              "#fb9f3a"
             ],
             [
              0.8888888888888888,
              "#fdca26"
             ],
             [
              1,
              "#f0f921"
             ]
            ],
            "type": "histogram2d"
           }
          ],
          "histogram2dcontour": [
           {
            "colorbar": {
             "outlinewidth": 0,
             "ticks": ""
            },
            "colorscale": [
             [
              0,
              "#0d0887"
             ],
             [
              0.1111111111111111,
              "#46039f"
             ],
             [
              0.2222222222222222,
              "#7201a8"
             ],
             [
              0.3333333333333333,
              "#9c179e"
             ],
             [
              0.4444444444444444,
              "#bd3786"
             ],
             [
              0.5555555555555556,
              "#d8576b"
             ],
             [
              0.6666666666666666,
              "#ed7953"
             ],
             [
              0.7777777777777778,
              "#fb9f3a"
             ],
             [
              0.8888888888888888,
              "#fdca26"
             ],
             [
              1,
              "#f0f921"
             ]
            ],
            "type": "histogram2dcontour"
           }
          ],
          "mesh3d": [
           {
            "colorbar": {
             "outlinewidth": 0,
             "ticks": ""
            },
            "type": "mesh3d"
           }
          ],
          "parcoords": [
           {
            "line": {
             "colorbar": {
              "outlinewidth": 0,
              "ticks": ""
             }
            },
            "type": "parcoords"
           }
          ],
          "pie": [
           {
            "automargin": true,
            "type": "pie"
           }
          ],
          "scatter": [
           {
            "fillpattern": {
             "fillmode": "overlay",
             "size": 10,
             "solidity": 0.2
            },
            "type": "scatter"
           }
          ],
          "scatter3d": [
           {
            "line": {
             "colorbar": {
              "outlinewidth": 0,
              "ticks": ""
             }
            },
            "marker": {
             "colorbar": {
              "outlinewidth": 0,
              "ticks": ""
             }
            },
            "type": "scatter3d"
           }
          ],
          "scattercarpet": [
           {
            "marker": {
             "colorbar": {
              "outlinewidth": 0,
              "ticks": ""
             }
            },
            "type": "scattercarpet"
           }
          ],
          "scattergeo": [
           {
            "marker": {
             "colorbar": {
              "outlinewidth": 0,
              "ticks": ""
             }
            },
            "type": "scattergeo"
           }
          ],
          "scattergl": [
           {
            "marker": {
             "colorbar": {
              "outlinewidth": 0,
              "ticks": ""
             }
            },
            "type": "scattergl"
           }
          ],
          "scattermapbox": [
           {
            "marker": {
             "colorbar": {
              "outlinewidth": 0,
              "ticks": ""
             }
            },
            "type": "scattermapbox"
           }
          ],
          "scatterpolar": [
           {
            "marker": {
             "colorbar": {
              "outlinewidth": 0,
              "ticks": ""
             }
            },
            "type": "scatterpolar"
           }
          ],
          "scatterpolargl": [
           {
            "marker": {
             "colorbar": {
              "outlinewidth": 0,
              "ticks": ""
             }
            },
            "type": "scatterpolargl"
           }
          ],
          "scatterternary": [
           {
            "marker": {
             "colorbar": {
              "outlinewidth": 0,
              "ticks": ""
             }
            },
            "type": "scatterternary"
           }
          ],
          "surface": [
           {
            "colorbar": {
             "outlinewidth": 0,
             "ticks": ""
            },
            "colorscale": [
             [
              0,
              "#0d0887"
             ],
             [
              0.1111111111111111,
              "#46039f"
             ],
             [
              0.2222222222222222,
              "#7201a8"
             ],
             [
              0.3333333333333333,
              "#9c179e"
             ],
             [
              0.4444444444444444,
              "#bd3786"
             ],
             [
              0.5555555555555556,
              "#d8576b"
             ],
             [
              0.6666666666666666,
              "#ed7953"
             ],
             [
              0.7777777777777778,
              "#fb9f3a"
             ],
             [
              0.8888888888888888,
              "#fdca26"
             ],
             [
              1,
              "#f0f921"
             ]
            ],
            "type": "surface"
           }
          ],
          "table": [
           {
            "cells": {
             "fill": {
              "color": "#EBF0F8"
             },
             "line": {
              "color": "white"
             }
            },
            "header": {
             "fill": {
              "color": "#C8D4E3"
             },
             "line": {
              "color": "white"
             }
            },
            "type": "table"
           }
          ]
         },
         "layout": {
          "annotationdefaults": {
           "arrowcolor": "#2a3f5f",
           "arrowhead": 0,
           "arrowwidth": 1
          },
          "autotypenumbers": "strict",
          "coloraxis": {
           "colorbar": {
            "outlinewidth": 0,
            "ticks": ""
           }
          },
          "colorscale": {
           "diverging": [
            [
             0,
             "#8e0152"
            ],
            [
             0.1,
             "#c51b7d"
            ],
            [
             0.2,
             "#de77ae"
            ],
            [
             0.3,
             "#f1b6da"
            ],
            [
             0.4,
             "#fde0ef"
            ],
            [
             0.5,
             "#f7f7f7"
            ],
            [
             0.6,
             "#e6f5d0"
            ],
            [
             0.7,
             "#b8e186"
            ],
            [
             0.8,
             "#7fbc41"
            ],
            [
             0.9,
             "#4d9221"
            ],
            [
             1,
             "#276419"
            ]
           ],
           "sequential": [
            [
             0,
             "#0d0887"
            ],
            [
             0.1111111111111111,
             "#46039f"
            ],
            [
             0.2222222222222222,
             "#7201a8"
            ],
            [
             0.3333333333333333,
             "#9c179e"
            ],
            [
             0.4444444444444444,
             "#bd3786"
            ],
            [
             0.5555555555555556,
             "#d8576b"
            ],
            [
             0.6666666666666666,
             "#ed7953"
            ],
            [
             0.7777777777777778,
             "#fb9f3a"
            ],
            [
             0.8888888888888888,
             "#fdca26"
            ],
            [
             1,
             "#f0f921"
            ]
           ],
           "sequentialminus": [
            [
             0,
             "#0d0887"
            ],
            [
             0.1111111111111111,
             "#46039f"
            ],
            [
             0.2222222222222222,
             "#7201a8"
            ],
            [
             0.3333333333333333,
             "#9c179e"
            ],
            [
             0.4444444444444444,
             "#bd3786"
            ],
            [
             0.5555555555555556,
             "#d8576b"
            ],
            [
             0.6666666666666666,
             "#ed7953"
            ],
            [
             0.7777777777777778,
             "#fb9f3a"
            ],
            [
             0.8888888888888888,
             "#fdca26"
            ],
            [
             1,
             "#f0f921"
            ]
           ]
          },
          "colorway": [
           "#636efa",
           "#EF553B",
           "#00cc96",
           "#ab63fa",
           "#FFA15A",
           "#19d3f3",
           "#FF6692",
           "#B6E880",
           "#FF97FF",
           "#FECB52"
          ],
          "font": {
           "color": "#2a3f5f"
          },
          "geo": {
           "bgcolor": "white",
           "lakecolor": "white",
           "landcolor": "#E5ECF6",
           "showlakes": true,
           "showland": true,
           "subunitcolor": "white"
          },
          "hoverlabel": {
           "align": "left"
          },
          "hovermode": "closest",
          "mapbox": {
           "style": "light"
          },
          "paper_bgcolor": "white",
          "plot_bgcolor": "#E5ECF6",
          "polar": {
           "angularaxis": {
            "gridcolor": "white",
            "linecolor": "white",
            "ticks": ""
           },
           "bgcolor": "#E5ECF6",
           "radialaxis": {
            "gridcolor": "white",
            "linecolor": "white",
            "ticks": ""
           }
          },
          "scene": {
           "xaxis": {
            "backgroundcolor": "#E5ECF6",
            "gridcolor": "white",
            "gridwidth": 2,
            "linecolor": "white",
            "showbackground": true,
            "ticks": "",
            "zerolinecolor": "white"
           },
           "yaxis": {
            "backgroundcolor": "#E5ECF6",
            "gridcolor": "white",
            "gridwidth": 2,
            "linecolor": "white",
            "showbackground": true,
            "ticks": "",
            "zerolinecolor": "white"
           },
           "zaxis": {
            "backgroundcolor": "#E5ECF6",
            "gridcolor": "white",
            "gridwidth": 2,
            "linecolor": "white",
            "showbackground": true,
            "ticks": "",
            "zerolinecolor": "white"
           }
          },
          "shapedefaults": {
           "line": {
            "color": "#2a3f5f"
           }
          },
          "ternary": {
           "aaxis": {
            "gridcolor": "white",
            "linecolor": "white",
            "ticks": ""
           },
           "baxis": {
            "gridcolor": "white",
            "linecolor": "white",
            "ticks": ""
           },
           "bgcolor": "#E5ECF6",
           "caxis": {
            "gridcolor": "white",
            "linecolor": "white",
            "ticks": ""
           }
          },
          "title": {
           "x": 0.05
          },
          "xaxis": {
           "automargin": true,
           "gridcolor": "white",
           "linecolor": "white",
           "ticks": "",
           "title": {
            "standoff": 15
           },
           "zerolinecolor": "white",
           "zerolinewidth": 2
          },
          "yaxis": {
           "automargin": true,
           "gridcolor": "white",
           "linecolor": "white",
           "ticks": "",
           "title": {
            "standoff": 15
           },
           "zerolinecolor": "white",
           "zerolinewidth": 2
          }
         }
        },
        "updatemenus": [
         {
          "buttons": [
           {
            "args": [
             {
              "visible": [
               true,
               false
              ]
             }
            ],
            "label": "Before Scaling",
            "method": "update"
           },
           {
            "args": [
             {
              "visible": [
               false,
               true
              ]
             }
            ],
            "label": "After Scaling",
            "method": "update"
           }
          ],
          "direction": "left",
          "showactive": true,
          "type": "buttons",
          "x": 0.7,
          "y": 1.2
         }
        ],
        "xaxis": {
         "title": {
          "text": "Click Count"
         }
        },
        "yaxis": {
         "title": {
          "text": "Country"
         }
        }
       }
      }
     },
     "metadata": {},
     "output_type": "display_data"
    }
   ],
   "source": [
    "plot_top_dead_end_countries_plotly(unique_dead_end_countries, top_n=10)"
   ]
  },
  {
   "cell_type": "markdown",
   "metadata": {},
   "source": [
    "This analysis again provides interesting insights!\n",
    "\n",
    "- In the first plot, we see that highly connected countries like the United States and United Kingdom frequently appear as the last countries in unfinished paths, likely due to their high click count and connectivity. Their numerous outgoing links make them common endpoints when players get stuck in navigation.\n",
    "- The scaled plot, however, reveals a different trend: countries with fewer outgoing links, such as the United Arab Emirates and French Polynesia, stand out as prominent dead ends. This indicates that users often land on these pages not merely due to connectivity but due to specific navigational patterns or interests that naturally lead them to these locations.\n",
    "\n",
    "Therefore scaling shows countries that serve as genuine dead ends, even with limited outgoing links, reflecting meaningful user engagement and specific pathways within the game and failure when encountering these articles countries."
   ]
  },
  {
   "cell_type": "markdown",
   "metadata": {},
   "source": [
    "### Pushing it further : \n",
    "#### Get the count of all articles that come before the \"<\" and link it with the failure ratio\n",
    "What country articles make players want to go back ?"
   ]
  },
  {
   "cell_type": "code",
   "execution_count": null,
   "metadata": {},
   "outputs": [],
   "source": []
  },
  {
   "cell_type": "markdown",
   "metadata": {},
   "source": [
    "### Dead ends analysis Text 1"
   ]
  },
  {
   "cell_type": "code",
   "execution_count": null,
   "metadata": {},
   "outputs": [],
   "source": []
  }
 ],
 "metadata": {
  "kernelspec": {
   "display_name": "ml_env",
   "language": "python",
   "name": "python3"
  },
  "language_info": {
   "codemirror_mode": {
    "name": "ipython",
    "version": 3
   },
   "file_extension": ".py",
   "mimetype": "text/x-python",
   "name": "python",
   "nbconvert_exporter": "python",
   "pygments_lexer": "ipython3",
   "version": "3.11.5"
  }
 },
 "nbformat": 4,
 "nbformat_minor": 2
}
