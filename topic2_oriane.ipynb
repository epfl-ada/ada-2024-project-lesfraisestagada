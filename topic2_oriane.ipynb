{
 "cells": [
  {
   "cell_type": "markdown",
   "metadata": {},
   "source": [
    "## Topic 2 - Naïve analysis of players click count (Players' Behavior Before Balancing)"
   ]
  },
  {
   "cell_type": "markdown",
   "metadata": {},
   "source": [
    "\n",
    "As seen previously, there is a unequal distribution of articles in Wikipedia, some countries are more represented than others. But, are those countries clicked more often by players within the Wikispeedia game? Or is there other countries that are clicked more often? We will now investigate if we see a bias independent from the coutries distribution and whether the click count can be a good approximation of player's intention. \n",
    "\n",
    "To do so, a first naïve approach is simply to detect countries with higher click counts (see Figure 1). With this approach, it seems that players are highly biased in their way to play Wikispeedia as some countries like United States, United Kingdom, and Australia are represented by enormous dots due to their higher click count while other are almost not visible on the map.\n",
    "\n",
    "However, a high click count can simply be due to the high number of articles associated to a particular country within the game. This does not necessarily tell us something about player's biases. Therefore, we rather focus on the ratio of click count divided by the number of articles to get a result closer to reality. On Figure 2, we see a overrepresentation of some countries like Vatican city, Brazil, or South Africa which are different from the previous ones. Therefore, part of the high click count can simply be explained by the high number of articles associated to a particular country. But there appear to be another factor influencing the click count per country as some countries remain more represented than other even when considering a scaled version of the click count.\n",
    "\n",
    "But, can we rationally explain a differentially distributed click count? Is there other factors influcing the click count that simply player's biases? Onto the next topic to figure it out!\n"
   ]
  },
  {
   "cell_type": "markdown",
   "metadata": {},
   "source": [
    "Plot - Interactive and fun way to represent players' behavior \n",
    "Map with dots for each country. Size of the dot corresponds to the click count per country while the color corresponds to the number of articles associated to a country. Edges drawn between dots are scaled based on the number of time that a player uses the link between two articles associated with the corresponding countries.\n",
    "before and after scaling"
   ]
  },
  {
   "cell_type": "code",
   "execution_count": 184,
   "metadata": {},
   "outputs": [
    {
     "name": "stdout",
     "output_type": "stream",
     "text": [
      "The autoreload extension is already loaded. To reload it, use:\n",
      "  %reload_ext autoreload\n"
     ]
    }
   ],
   "source": [
    "%load_ext autoreload\n",
    "%autoreload 2"
   ]
  },
  {
   "cell_type": "code",
   "execution_count": 185,
   "metadata": {},
   "outputs": [],
   "source": [
    "import matplotlib\n",
    "import matplotlib.pyplot as plt\n",
    "import pandas as pd\n",
    "import numpy as np\n",
    "\n",
    "from sklearn.preprocessing import MinMaxScaler\n",
    "import plotly.graph_objects as go\n",
    "from geopy.geocoders import Nominatim\n",
    "import folium\n",
    "\n",
    "from src.utils.functions import find_pairs\n",
    "from src.data.dataloader import *\n",
    "from src.scripts.graphs import geolocalization, overlap_world_map_clicks_before, overlap_world_map_clicks_after\n"
   ]
  },
  {
   "cell_type": "markdown",
   "metadata": {},
   "source": [
    "#### Import the data and do a basic preprocessing to have the data in the appropriate format"
   ]
  },
  {
   "cell_type": "code",
   "execution_count": 186,
   "metadata": {},
   "outputs": [],
   "source": [
    "data = pd.read_csv(\"data/country_clicks_links.csv\", index_col=0)\n",
    "articles = data.index.tolist()\n",
    "clicks = [f\"{data.click_count.iloc[i]} clicks\" for i in range(len(articles))]\n",
    "\n",
    "country_clicks = data.groupby('Top_1_name')['click_count'].sum().reset_index()\n",
    "top_1_counts = data['Top_1_name'].value_counts()\n",
    "country_clicks['occurrences'] = country_clicks['Top_1_name'].map(top_1_counts)\n",
    "country_clicks[\"scaled_click_count\"] = country_clicks[\"click_count\"] / country_clicks[\"occurrences\"]\n",
    "\n",
    "countries = country_clicks.Top_1_name.tolist()\n",
    "clicks = country_clicks.click_count.tolist()\n",
    "clicks_scaled = country_clicks.scaled_click_count.tolist()\n",
    "\n",
    "finished_paths = load_path_finished_dataframe()\n",
    "finished_paths_divided = finished_paths[\"path\"].apply(lambda row: row.split(';'))\n",
    "\n",
    "unfinished_paths = load_path_unfinished_distance_dataframe()\n",
    "unfinished_paths_divided = unfinished_paths[\"path\"].apply(lambda row: row.split(';'))"
   ]
  },
  {
   "cell_type": "markdown",
   "metadata": {},
   "source": [
    "#### Compute nodes characteristics (size and color based on the country click count)"
   ]
  },
  {
   "cell_type": "code",
   "execution_count": 187,
   "metadata": {},
   "outputs": [
    {
     "name": "stderr",
     "output_type": "stream",
     "text": [
      "Processing countries: 100%|██████████| 195/195 [04:08<00:00,  1.28s/country]\n",
      "C:\\Users\\orian\\AppData\\Local\\Temp\\ipykernel_27136\\3046315152.py:7: MatplotlibDeprecationWarning:\n",
      "\n",
      "The get_cmap function was deprecated in Matplotlib 3.7 and will be removed two minor releases later. Use ``matplotlib.colormaps[name]`` or ``matplotlib.colormaps.get_cmap(obj)`` instead.\n",
      "\n"
     ]
    }
   ],
   "source": [
    "# Get the geolocalisation of every country\n",
    "latitudes, longitudes = geolocalization(country_clicks)\n",
    "\n",
    "# color of nodes is proportional to the click count\n",
    "scaler = MinMaxScaler(feature_range=(0.25, 1.5))\n",
    "normalized_counts = scaler.fit_transform([[count] for count in clicks]).flatten()\n",
    "color_map = plt.cm.get_cmap('Purples')\n",
    "colors_hex_before = [matplotlib.colors.to_hex(color_map(norm)) for norm in normalized_counts]\n",
    "\n",
    "# size of nodes is proportional to the click count \n",
    "size_scaler = MinMaxScaler(feature_range=(9, 90))\n",
    "node_sizes = size_scaler.fit_transform([[count] for count in clicks]).flatten()"
   ]
  },
  {
   "cell_type": "markdown",
   "metadata": {},
   "source": [
    "#### Identify highway paths most often used by players"
   ]
  },
  {
   "cell_type": "code",
   "execution_count": 188,
   "metadata": {},
   "outputs": [],
   "source": [
    "# highway paths will define edges on our maps\n",
    "# Focus on finished paths first\n",
    "all_pairs_finished = find_pairs(finished_paths_divided)\n",
    "all_pairs_finished_df = pd.DataFrame({'1-unit long path': all_pairs_finished})\n",
    "\n",
    "# Then, focus on unfinished paths\n",
    "all_pairs_unfinished = find_pairs(unfinished_paths_divided)\n",
    "all_pairs_unfinished_df = pd.DataFrame({'1-unit long path': all_pairs_unfinished})\n",
    "\n",
    "# Combine finished and unfinished paths\n",
    "all_pairs_merged = pd.concat([all_pairs_finished_df, all_pairs_unfinished_df])\n",
    "\n",
    "# Divide pairs into 2 columns 'From' and 'To' > Split\n",
    "all_pairs_countries = all_pairs_merged.copy()\n",
    "all_pairs_countries['Article_from'] = all_pairs_merged['1-unit long path'].apply(lambda row: row[0].split(',')[0] if isinstance(row[0], str) else row)\n",
    "all_pairs_countries['Article_to'] = all_pairs_merged['1-unit long path'].apply(lambda row: row[1].split(',')[0] if isinstance(row[0], str) else row)\n",
    "\n",
    "# Associate each article from columns 'From' and 'To' to their Top_1_name country\n",
    "all_pairs_countries['Top1_country_From'] = all_pairs_countries['Article_from'].map(data['Top_1_name'])\n",
    "all_pairs_countries['Top1_country_To'] = all_pairs_countries['Article_to'].map(data['Top_1_name'])\n",
    "\n",
    "# Create a column with a pair of countries\n",
    "all_pairs_countries['1-unit long path - COUNTRIES'] = all_pairs_countries['Top1_country_From'] + \"-> \" + all_pairs_countries['Top1_country_To']\n",
    "\n",
    "# Normalize\n",
    "all_pairs_countries_normalized = all_pairs_countries[\"1-unit long path - COUNTRIES\"].value_counts() / all_pairs_countries[\"1-unit long path - COUNTRIES\"].value_counts().sum()\n"
   ]
  },
  {
   "cell_type": "markdown",
   "metadata": {},
   "source": [
    "#### Map 1 - Before scaling - with Folium library"
   ]
  },
  {
   "cell_type": "code",
   "execution_count": 189,
   "metadata": {},
   "outputs": [
    {
     "name": "stdout",
     "output_type": "stream",
     "text": [
      "Map is saved in world_click_counts_before_scaling.html!\n"
     ]
    }
   ],
   "source": [
    "# Create the world map of the click count per country and game path between countries before scaling\n",
    "overlap_world_map_clicks_before(\"world_click_counts_before_scaling.html\", clicks, all_pairs_countries_normalized, countries, latitudes,longitudes)"
   ]
  },
  {
   "cell_type": "markdown",
   "metadata": {},
   "source": [
    "#### Map 2 - After scaling - with Folium library"
   ]
  },
  {
   "cell_type": "code",
   "execution_count": 190,
   "metadata": {},
   "outputs": [
    {
     "name": "stdout",
     "output_type": "stream",
     "text": [
      "Map is saved in world_click_counts_after_scaling.html!\n"
     ]
    }
   ],
   "source": [
    "# Create the world map of the click count per country and game path between countries after scaling\n",
    "overlap_world_map_clicks_after(\"world_click_counts_after_scaling.html\", clicks_scaled, all_pairs_countries_normalized, countries, latitudes,longitudes)"
   ]
  }
 ],
 "metadata": {
  "kernelspec": {
   "display_name": "ada",
   "language": "python",
   "name": "python3"
  },
  "language_info": {
   "codemirror_mode": {
    "name": "ipython",
    "version": 3
   },
   "file_extension": ".py",
   "mimetype": "text/x-python",
   "name": "python",
   "nbconvert_exporter": "python",
   "pygments_lexer": "ipython3",
   "version": "3.11.9"
  }
 },
 "nbformat": 4,
 "nbformat_minor": 2
}
