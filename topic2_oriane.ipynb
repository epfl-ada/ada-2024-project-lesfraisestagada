{
 "cells": [
  {
   "cell_type": "markdown",
   "metadata": {},
   "source": [
    "## Topic 2 - Players' Behavior Before Balancing"
   ]
  },
  {
   "cell_type": "markdown",
   "metadata": {},
   "source": [
    "#### Question or interest: \n",
    "Are there countries that are clicked by players more often in Wikispeedia? \n",
    "\n",
    "#### Plot\n",
    "Interactive and fun way to represent players' behavior \n",
    "Map with dots for each country. Size of the dot corresponds to the click count per country while the color corresponds to the number of articles associated to a country. Edges drawn between dots are scaled based on the number of time that a player uses the link between two articles associated with the corresponding countries.\n",
    "\n",
    "#### What do we learn from this\n",
    "From this first naive approach, it seems that players are highly biased in their way to play Wikispeedia. Some countries like United States, United Kingdom, and Australia are overrepresented while other are underrepresented and almost not visible on the previous map.\n",
    "\n",
    "#### Transition to next topic\n",
    "Can we rationally explain this overrepresentation? Are there some confounding factors that influence the previous finding? Can a balancing be enough to get rid of the apparent bias? Multiple balancing methods such as accounting for the number of articles per country, for the number of links in toward articles, or for categories of articles are investigated. A linear regression based on different factors is also made to determine whether countries determine the number of clicks. Finally a PageRank algorithm is run to understand if players navigate Wikispeedia differently than a random walk.\n"
   ]
  },
  {
   "cell_type": "code",
   "execution_count": 44,
   "metadata": {},
   "outputs": [],
   "source": [
    "import matplotlib\n",
    "import matplotlib.pyplot as plt\n",
    "import pandas as pd\n",
    "import numpy as np\n",
    "\n",
    "from sklearn.preprocessing import MinMaxScaler\n",
    "import plotly.graph_objects as go\n",
    "from geopy.geocoders import Nominatim"
   ]
  },
  {
   "cell_type": "code",
   "execution_count": 23,
   "metadata": {},
   "outputs": [],
   "source": [
    "# Import dataset \n",
    "data = pd.read_csv(\"data/country_clicks_links.csv\", index_col=0)\n",
    "articles = data.index.tolist()\n",
    "clicks = [f\"{data.click_count.iloc[i]} clicks\" for i in range(len(articles))]\n",
    "\n",
    "country_clicks = data.groupby('Top_1_name')['click_count'].sum().reset_index()\n",
    "top_1_counts = data['Top_1_name'].value_counts()\n",
    "country_clicks['occurrences'] = country_clicks['Top_1_name'].map(top_1_counts)\n",
    "country_clicks[\"scaled_click_count\"] = country_clicks[\"click_count\"] / country_clicks[\"occurrences\"]\n",
    "\n",
    "countries = country_clicks.Top_1_name.tolist()\n",
    "clicks = country_clicks.click_count.tolist()\n",
    "\n",
    "#clicks_label = [f\"{clicks[i]} clicks\" for i in range(len(clicks))]\n",
    "num_articles = country_clicks.occurrences.tolist()"
   ]
  },
  {
   "cell_type": "code",
   "execution_count": null,
   "metadata": {},
   "outputs": [],
   "source": [
    "# Get a set of coordinates (latitude, longitude) for each country for visualisation purposes\n",
    "geolocator = Nominatim(user_agent=\"my_app\")\n",
    "\n",
    "def get_country_coordinates(country_name):\n",
    "    location = geolocator.geocode(country_name)\n",
    "    return (location.latitude, location.longitude)\n",
    "\n",
    "coords = []\n",
    "for country in countries: \n",
    "    coords.append(get_country_coordinates(country))\n",
    "\n",
    "latitudes = [coord[0] for coord in coords]\n",
    "longitudes = [coord[1] for coord in coords]"
   ]
  },
  {
   "cell_type": "code",
   "execution_count": null,
   "metadata": {},
   "outputs": [
    {
     "name": "stderr",
     "output_type": "stream",
     "text": [
      "C:\\Users\\orian\\AppData\\Local\\Temp\\ipykernel_27876\\818331157.py:7: MatplotlibDeprecationWarning:\n",
      "\n",
      "The get_cmap function was deprecated in Matplotlib 3.7 and will be removed two minor releases later. Use ``matplotlib.colormaps[name]`` or ``matplotlib.colormaps.get_cmap(obj)`` instead.\n",
      "\n"
     ]
    },
    {
     "data": {
      "application/vnd.plotly.v1+json": {
       "config": {
        "plotlyServerURL": "https://plot.ly"
       },
       "data": [
        {
         "customdata": [
          [
           161,
           16316
          ],
          [
           3,
           77
          ],
          [
           5,
           362
          ],
          [
           2,
           44
          ],
          [
           2,
           60
          ],
          [
           1,
           46
          ],
          [
           1,
           20
          ],
          [
           10,
           962
          ],
          [
           15,
           841
          ],
          [
           4,
           361
          ],
          [
           1,
           21
          ],
          [
           129,
           11051
          ],
          [
           21,
           1218
          ],
          [
           2,
           90
          ],
          [
           6,
           215
          ],
          [
           1,
           31
          ],
          [
           2,
           81
          ],
          [
           2,
           115
          ],
          [
           2,
           80
          ],
          [
           18,
           957
          ],
          [
           1,
           31
          ],
          [
           3,
           44
          ],
          [
           2,
           96
          ],
          [
           2,
           54
          ],
          [
           5,
           714
          ],
          [
           2,
           75
          ],
          [
           18,
           3181
          ],
          [
           2,
           31
          ],
          [
           1,
           43
          ],
          [
           1,
           30
          ],
          [
           2,
           147
          ],
          [
           4,
           167
          ],
          [
           1,
           30
          ],
          [
           3,
           127
          ],
          [
           3,
           240
          ],
          [
           71,
           6301
          ],
          [
           2,
           41
          ],
          [
           1,
           22
          ],
          [
           1,
           49
          ],
          [
           3,
           119
          ],
          [
           9,
           882
          ],
          [
           124,
           12314
          ],
          [
           5,
           281
          ],
          [
           1,
           17
          ],
          [
           1,
           45
          ],
          [
           1,
           74
          ],
          [
           1,
           73
          ],
          [
           3,
           368
          ],
          [
           2,
           119
          ],
          [
           1,
           56
          ],
          [
           25,
           2815
          ],
          [
           1,
           26
          ],
          [
           5,
           174
          ],
          [
           4,
           225
          ],
          [
           29,
           5234
          ],
          [
           1,
           44
          ],
          [
           1,
           32
          ],
          [
           1,
           28
          ],
          [
           3,
           184
          ],
          [
           14,
           481
          ],
          [
           2,
           44
          ],
          [
           1,
           35
          ],
          [
           10,
           804
          ],
          [
           131,
           13366
          ],
          [
           1,
           25
          ],
          [
           2,
           75
          ],
          [
           2,
           45
          ],
          [
           7,
           230
          ],
          [
           114,
           13652
          ],
          [
           5,
           199
          ],
          [
           2,
           129
          ],
          [
           58,
           7549
          ],
          [
           2,
           272
          ],
          [
           3,
           114
          ],
          [
           1,
           21
          ],
          [
           1,
           43
          ],
          [
           2,
           85
          ],
          [
           2,
           103
          ],
          [
           6,
           170
          ],
          [
           2,
           47
          ],
          [
           1,
           105
          ],
          [
           3,
           64
          ],
          [
           9,
           304
          ],
          [
           10,
           836
          ],
          [
           100,
           9036
          ],
          [
           18,
           1251
          ],
          [
           21,
           2567
          ],
          [
           15,
           1368
          ],
          [
           44,
           2116
          ],
          [
           2,
           72
          ],
          [
           22,
           3421
          ],
          [
           124,
           12107
          ],
          [
           4,
           331
          ],
          [
           62,
           6542
          ],
          [
           3,
           78
          ],
          [
           5,
           661
          ],
          [
           6,
           544
          ],
          [
           6,
           622
          ],
          [
           2,
           33
          ],
          [
           2,
           138
          ],
          [
           2,
           36
          ],
          [
           1,
           40
          ],
          [
           1,
           36
          ],
          [
           3,
           133
          ],
          [
           3,
           46
          ],
          [
           3,
           83
          ],
          [
           2,
           174
          ],
          [
           1,
           37
          ],
          [
           2,
           65
          ],
          [
           4,
           77
          ],
          [
           6,
           307
          ],
          [
           4,
           319
          ],
          [
           12,
           385
          ],
          [
           1,
           50
          ],
          [
           6,
           261
          ],
          [
           2,
           83
          ],
          [
           1,
           50
          ],
          [
           2,
           26
          ],
          [
           2,
           61
          ],
          [
           4,
           173
          ],
          [
           1,
           16
          ],
          [
           27,
           2518
          ],
          [
           1,
           18
          ],
          [
           2,
           55
          ],
          [
           3,
           131
          ],
          [
           10,
           548
          ],
          [
           1,
           41
          ],
          [
           1,
           31
          ],
          [
           15,
           1370
          ],
          [
           3,
           143
          ],
          [
           1,
           60
          ],
          [
           1,
           24
          ],
          [
           9,
           891
          ],
          [
           29,
           2098
          ],
          [
           1,
           24
          ],
          [
           21,
           995
          ],
          [
           1,
           36
          ],
          [
           7,
           267
          ],
          [
           1,
           17
          ],
          [
           3,
           167
          ],
          [
           1,
           32
          ],
          [
           21,
           2790
          ],
          [
           15,
           708
          ],
          [
           15,
           1176
          ],
          [
           1,
           22
          ],
          [
           3,
           199
          ],
          [
           2,
           74
          ],
          [
           12,
           591
          ],
          [
           13,
           644
          ],
          [
           2,
           60
          ],
          [
           26,
           892
          ],
          [
           11,
           567
          ],
          [
           7,
           332
          ],
          [
           3,
           99
          ],
          [
           79,
           5524
          ],
          [
           6,
           196
          ],
          [
           1,
           27
          ],
          [
           1,
           32
          ],
          [
           8,
           814
          ],
          [
           3,
           220
          ],
          [
           6,
           329
          ],
          [
           2,
           47
          ],
          [
           2,
           70
          ],
          [
           4,
           78
          ],
          [
           3,
           89
          ],
          [
           1,
           62
          ],
          [
           5,
           151
          ],
          [
           38,
           7001
          ],
          [
           4,
           155
          ],
          [
           31,
           4301
          ],
          [
           5,
           185
          ],
          [
           6,
           266
          ],
          [
           2,
           40
          ],
          [
           14,
           845
          ],
          [
           20,
           2445
          ],
          [
           6,
           211
          ],
          [
           3,
           286
          ],
          [
           3,
           110
          ],
          [
           6,
           432
          ],
          [
           4,
           205
          ],
          [
           1,
           23
          ],
          [
           2,
           31
          ],
          [
           1,
           34
          ],
          [
           2,
           119
          ],
          [
           16,
           1529
          ],
          [
           1,
           53
          ],
          [
           1,
           25
          ],
          [
           9,
           718
          ],
          [
           7,
           231
          ],
          [
           4,
           346
          ],
          [
           337,
           36052
          ],
          [
           686,
           61743
          ],
          [
           2,
           78
          ],
          [
           5,
           130
          ],
          [
           1,
           27
          ],
          [
           3,
           1160
          ],
          [
           4,
           555
          ],
          [
           6,
           526
          ],
          [
           1,
           88
          ],
          [
           1,
           57
          ],
          [
           6,
           232
          ],
          [
           5,
           236
          ],
          [
           2,
           7
          ]
         ],
         "hovertemplate": "<b>Country:</b> %{text}<br><b>Articles:</b> %{customdata[0]}<br><b>Clicks:</b> %{customdata[1]}<extra></extra>",
         "lat": [
          33.7680065,
          5.7587654,
          28.0000272,
          -14.297124,
          42.5407167,
          -11.8775768,
          18.1954947,
          -72.8438691,
          -34.9964963,
          4.491976149999999,
          12.5013629,
          -24.7761086,
          47.59397,
          40.3936294,
          24.7736546,
          26.030093,
          24.4769288,
          13.1500331,
          53.4250605,
          50.6402809,
          17.1204943,
          9.5293472,
          32.3040273,
          27.549511,
          -17.0568696,
          -23.1681782,
          -10.3333333,
          -5.3497093499999995,
          18.4024395,
          4.4137155,
          42.6073975,
          12.0753083,
          -3.426449,
          12.5433216,
          4.6125522,
          61.0666922,
          16.0000552,
          19.703182249999998,
          7.0323598,
          15.6134137,
          -31.7613365,
          35.0000663,
          4.099917,
          -12.2045176,
          -19.99697155,
          10.2735633,
          45.3658443,
          23.0131338,
          34.9174159,
          49.7439047,
          55.670249,
          11.8145966,
          15.4113138,
          -1.3397668,
          26.2540493,
          13.8000382,
          1.613172,
          15.9500319,
          58.7523778,
          10.2116702,
          -51.9492937,
          -18.1239696,
          63.2467777,
          46.603354,
          -17.0243749,
          -0.8999695,
          13.470062,
          32.3293809,
          51.1638175,
          8.0300284,
          36.1285933,
          38.9953683,
          43.0361995,
          12.1360374,
          16.2528827,
          13.4499943,
          15.5855545,
          49.46229125,
          10.7226226,
          4.8417097,
          19.1399952,
          15.2572432,
          47.1817585,
          64.9841821,
          22.3511148,
          -2.4833826,
          32.6475314,
          33.0955793,
          52.865196,
          54.1936805,
          30.8124247,
          42.6384261,
          18.1850507,
          36.5748441,
          49.2214561,
          44.6663146,
          48.1012954,
          1.4419683,
          0.3448612,
          29.3796532,
          41.5089324,
          20.0171109,
          56.8406494,
          40.375713,
          -29.6039267,
          5.7499721,
          26.8234472,
          47.1416307,
          55.3500003,
          49.6112768,
          -18.9249604,
          -13.2687204,
          4.5693754,
          3.7203503,
          16.3700359,
          35.8885993,
          8.230816999999998,
          14.6113732,
          20.2540382,
          -20.2759451,
          -12.823048,
          19.4326296,
          8.6062347,
          47.2879608,
          43.7323492,
          46.8250388,
          -29.6826112,
          16.7417041,
          28.3347722,
          -19.302233,
          -23.2335499,
          -0.5252306,
          28.3780464,
          52.2434979,
          -20.63784275,
          -41.5000831,
          12.6090157,
          17.7356214,
          -19.0536414,
          40.3736611,
          15.1753648,
          64.5731537,
          21.0000287,
          30.3308401,
          42.5717989,
          8.559559,
          -23.3165935,
          -6.8699697,
          12.7503486,
          -25.0657719,
          52.215933,
          39.6621648,
          18.2247706,
          25.3336984,
          64.6863136,
          -1.9646631,
          -13.7693895,
          43.9458623,
          25.6242618,
          14.4750607,
          44.024322850000004,
          -4.6574977,
          8.6400349,
          1.357107,
          48.7411522,
          46.1199444,
          -8.7053941,
          -28.8166236,
          36.638392,
          39.3260685,
          7.5554942,
          34.0678644,
          4.1413025,
          59.6749712,
          46.7985624,
          34.8147886,
          23.5983227,
          38.6281733,
          -6.5247123,
          14.8971921,
          -8.7443169,
          8.7800265,
          -19.9160819,
          36.8002068,
          38.9597594,
          39.3763807,
          -8.6405212,
          1.5333554,
          49.4871968,
          24.0002488,
          54.7023545,
          39.7837304,
          -32.8755548,
          41.32373,
          -16.5255069,
          41.903411,
          8.0018709,
          15.9266657,
          24.1797324,
          16.3471243,
          -14.5189121,
          -18.4554963,
          60.2166218
         ],
         "lon": [
          66.2385139,
          -73.9151617,
          2.9999825,
          -170.7131481,
          1.5732033,
          17.5691241,
          -63.0750234,
          0,
          -64.9672817,
          -75.74135085294314,
          -69.9618475,
          134.755,
          14.12456,
          47.7872508,
          -78.0000547,
          50.553336789123236,
          90.2934413,
          -59.5250305,
          27.6971358,
          4.6667145,
          -88.6859028,
          2.2584408,
          -64.7563086,
          90.5119273,
          -64.9912286,
          24.5928742,
          -53.2,
          71.86064227010121,
          -64.5661642,
          114.5653908,
          25.4856617,
          -1.6880314,
          29.9324519,
          104.8144914,
          13.1535811,
          -107.991707,
          -24.0083947,
          -79.9174627243246,
          19.9981227,
          19.0156172,
          -71.3187697,
          104.999955,
          -72.9088133,
          44.2832964,
          -157.78587140620786,
          -84.0739102,
          15.6575209,
          -80.8328748,
          32.889902651331866,
          15.3381061,
          10.3333283,
          42.8453061,
          -61.3653618,
          -79.3666965,
          29.2675469,
          -88.9140683,
          10.5170357,
          37.9999668,
          25.3319078,
          38.6521203,
          -59.5383657,
          179.0122737,
          25.9209164,
          1.8883335,
          -144.6434898,
          11.6899699,
          -15.4900464,
          -83.1137366,
          10.4478313,
          -1.0800271,
          -5.3474761,
          21.9877132,
          -70.8328322,
          -61.6904045,
          -61.5686855,
          144.7651677,
          -90.345759,
          -2.5812022503294356,
          -10.7083587,
          -58.6416891,
          -72.3570972,
          -86.0755145,
          19.5060937,
          -18.1059013,
          78.6677428,
          117.8902853,
          54.5643516,
          44.1749775,
          -7.9794599,
          -4.5591148,
          34.8594762,
          12.674297,
          -77.3947693,
          139.2394179,
          -2.1358386,
          -93.6261918,
          66.7780818,
          38.4313975,
          173.6641773,
          47.9734174,
          74.724091,
          103.378253,
          24.7537645,
          -76.4626118,
          28.3350193,
          -9.3658524,
          18.1236723,
          9.5531527,
          23.7499997,
          6.129799,
          46.4416422,
          33.9301963,
          102.2656823,
          73.2244152,
          -2.2900239,
          14.4476911,
          167.7953223704529,
          -60.9620777,
          -9.2399263,
          57.5703566,
          45.1520755,
          -99.1331785,
          151.832744331612,
          28.5670941,
          7.4276832,
          103.8499736,
          -51.4687455,
          -62.1916844,
          -10.371337908392647,
          34.9144977,
          17.3231107,
          166.9324426,
          83.9999901,
          5.6343227,
          161.21176261225781,
          172.8344077,
          -85.2936911,
          9.3238432,
          -169.861341,
          127.0870417,
          145.7379338,
          11.52803643954819,
          57.0036901,
          71.247499,
          2.9600905,
          -81.1308434,
          -58.1693445,
          -75.0458515,
          122.7312101,
          -130.101782,
          19.134422,
          -8.1353519,
          -66.4858295,
          51.2295295,
          97.7453061,
          30.0644358,
          -172.12005,
          12.458306,
          42.3528328,
          -14.4529612,
          21.07657433209902,
          55.4540146,
          -11.8400269,
          103.8194992,
          19.4528646,
          14.8153333,
          159.1070693851845,
          24.991639,
          127.6961188,
          -4.8379791,
          80.7137847,
          -102.524362,
          -56.0771187,
          14.5208584,
          8.2319736,
          38.42317811509885,
          120.83537694479215,
          70.8156541,
          35.7878438,
          100.83273,
          126.063482,
          1.0199765,
          -175.202642,
          10.1857757,
          34.9249653,
          59.3924609,
          179.1582918181797,
          32.2166578,
          31.2718321,
          53.9994829,
          -3.2765753,
          -100.445882,
          -56.0201525,
          63.9528098,
          168.1069154,
          12.4528527,
          -66.1109318,
          107.9650855,
          -13.7667848,
          47.8915271,
          27.5589884,
          29.7468414,
          19.9438638
         ],
         "marker": {
          "color": [
           "#fcc1a8",
           "#fff5f0",
           "#fff4ef",
           "#fff5f0",
           "#fff5f0",
           "#fff5f0",
           "#fff5f0",
           "#fff3ed",
           "#fff2eb",
           "#fff4ef",
           "#fff5f0",
           "#fdcebb",
           "#fff0e9",
           "#fff5f0",
           "#fff4ef",
           "#fff5f0",
           "#fff5f0",
           "#fff5f0",
           "#fff5f0",
           "#fff1ea",
           "#fff5f0",
           "#fff5f0",
           "#fff5f0",
           "#fff5f0",
           "#fff4ef",
           "#fff5f0",
           "#fff1ea",
           "#fff5f0",
           "#fff5f0",
           "#fff5f0",
           "#fff5f0",
           "#fff4ef",
           "#fff5f0",
           "#fff5f0",
           "#fff5f0",
           "#fee4d8",
           "#fff5f0",
           "#fff5f0",
           "#fff5f0",
           "#fff5f0",
           "#fff4ee",
           "#fdd1be",
           "#fff4ef",
           "#fff5f0",
           "#fff5f0",
           "#fff5f0",
           "#fff5f0",
           "#fff5f0",
           "#fff5f0",
           "#fff5f0",
           "#fff0e8",
           "#fff5f0",
           "#fff4ef",
           "#fff4ef",
           "#ffeee7",
           "#fff5f0",
           "#fff5f0",
           "#fff5f0",
           "#fff5f0",
           "#fff2ec",
           "#fff5f0",
           "#fff5f0",
           "#fff3ed",
           "#fdcdb9",
           "#fff5f0",
           "#fff5f0",
           "#fff5f0",
           "#fff4ee",
           "#fdd4c2",
           "#fff4ef",
           "#fff5f0",
           "#fee7dc",
           "#fff5f0",
           "#fff5f0",
           "#fff5f0",
           "#fff5f0",
           "#fff5f0",
           "#fff5f0",
           "#fff4ef",
           "#fff5f0",
           "#fff5f0",
           "#fff5f0",
           "#fff4ee",
           "#fff3ed",
           "#fedbcc",
           "#fff1ea",
           "#fff0e9",
           "#fff2eb",
           "#feeae1",
           "#fff5f0",
           "#fff0e9",
           "#fdd1be",
           "#fff4ef",
           "#fee7db",
           "#fff5f0",
           "#fff4ef",
           "#fff4ef",
           "#fff4ef",
           "#fff5f0",
           "#fff5f0",
           "#fff5f0",
           "#fff5f0",
           "#fff5f0",
           "#fff5f0",
           "#fff5f0",
           "#fff5f0",
           "#fff5f0",
           "#fff5f0",
           "#fff5f0",
           "#fff4ef",
           "#fff4ef",
           "#fff4ef",
           "#fff2ec",
           "#fff5f0",
           "#fff4ef",
           "#fff5f0",
           "#fff5f0",
           "#fff5f0",
           "#fff5f0",
           "#fff4ef",
           "#fff5f0",
           "#ffefe8",
           "#fff5f0",
           "#fff5f0",
           "#fff5f0",
           "#fff3ed",
           "#fff5f0",
           "#fff5f0",
           "#fff2eb",
           "#fff5f0",
           "#fff5f0",
           "#fff5f0",
           "#fff4ee",
           "#ffeee7",
           "#fff5f0",
           "#fff0e9",
           "#fff5f0",
           "#fff4ee",
           "#fff5f0",
           "#fff5f0",
           "#fff5f0",
           "#fff0e9",
           "#fff2eb",
           "#fff2eb",
           "#fff5f0",
           "#fff5f0",
           "#fff5f0",
           "#fff2ec",
           "#fff2ec",
           "#fff5f0",
           "#ffefe8",
           "#fff3ed",
           "#fff4ee",
           "#fff5f0",
           "#fee2d5",
           "#fff4ef",
           "#fff5f0",
           "#fff5f0",
           "#fff4ee",
           "#fff5f0",
           "#fff4ef",
           "#fff5f0",
           "#fff5f0",
           "#fff4ef",
           "#fff5f0",
           "#fff5f0",
           "#fff4ef",
           "#ffece4",
           "#fff4ef",
           "#ffeee6",
           "#fff4ef",
           "#fff4ef",
           "#fff5f0",
           "#fff2ec",
           "#fff0e9",
           "#fff4ef",
           "#fff5f0",
           "#fff5f0",
           "#fff4ef",
           "#fff4ef",
           "#fff5f0",
           "#fff5f0",
           "#fff5f0",
           "#fff5f0",
           "#fff2eb",
           "#fff5f0",
           "#fff5f0",
           "#fff4ee",
           "#fff4ee",
           "#fff4ef",
           "#fb6d4d",
           "#67000d",
           "#fff5f0",
           "#fff4ef",
           "#fff5f0",
           "#fff5f0",
           "#fff4ef",
           "#fff4ef",
           "#fff5f0",
           "#fff5f0",
           "#fff4ef",
           "#fff4ef",
           "#fff5f0"
          ],
          "line": {
           "color": "rgb(40,40,40)",
           "width": 0.5
          },
          "size": [
           23.912206816120253,
           2.3429765452896203,
           2.7215239082545026,
           2.2991447453673706,
           2.3203965271478553,
           2.301801218089931,
           2.2672670726966437,
           3.518465725022677,
           3.3577491253077616,
           2.7201956718932223,
           2.268595309057924,
           16.919042373979526,
           3.8584942335104313,
           2.360243617986264,
           2.5262731631463002,
           2.281877672670727,
           2.348289490734741,
           2.393449527018271,
           2.346961254373461,
           3.5118245432162754,
           2.281877672670727,
           2.2991447453673706,
           2.3682130361539455,
           2.3124271089801733,
           3.1890631074251647,
           2.3403200725670597,
           6.4658222107036405,
           2.281877672670727,
           2.2978165090060902,
           2.2805494363094465,
           2.4359530905792406,
           2.462517817804846,
           2.2805494363094465,
           2.4093883633536346,
           2.5594790721783074,
           10.609919657898146,
           2.2951600362835296,
           2.269923545419204,
           2.305785927173772,
           2.3987624724633925,
           3.4122068161202534,
           18.59660489827653,
           2.6139367629907992,
           2.2632823636128028,
           2.300472981728651,
           2.3389918362057793,
           2.337663599844499,
           2.7294933264221846,
           2.3987624724633925,
           2.315083581702734,
           5.979687702475054,
           2.2752364908643252,
           2.4718154723338084,
           2.539555526759103,
           9.192691460412076,
           2.2991447453673706,
           2.283205909032007,
           2.277892963586886,
           2.485097835946611,
           2.8795840352468574,
           2.2991447453673706,
           2.287190618115848,
           3.308604379940391,
           19.993909550343396,
           2.273908254503045,
           2.3403200725670597,
           2.300472981728651,
           2.5461967085655046,
           20.373785149669562,
           2.5050213813658155,
           2.4120448360761952,
           12.267558636775949,
           2.601982635739277,
           2.392121290656991,
           2.268595309057924,
           2.2978165090060902,
           2.3536024361798624,
           2.3775106906829078,
           2.466502526888687,
           2.3031294544512115,
           2.3801671634054684,
           2.325709472592976,
           2.644486199300246,
           3.3511079435013604,
           14.24264610599974,
           3.902326033432681,
           5.6502850848775426,
           4.057729687702475,
           5.051250485940132,
           2.3363353634832187,
           6.784598937410911,
           18.321659971491513,
           2.680348581054814,
           10.930024620966696,
           2.3443047816509,
           3.1186665802773095,
           2.9632629260075154,
           3.0668653621873783,
           2.2845341453932875,
           2.4239989633277177,
           2.288518854477128,
           2.2938317999222493,
           2.288518854477128,
           2.4173577815213165,
           2.301801218089931,
           2.350945963457302,
           2.4718154723338084,
           2.2898470908384083,
           2.3270377089542564,
           2.3429765452896203,
           2.6484709083840867,
           2.66440974471945,
           2.7520733445639496,
           2.307114163535052,
           2.5873720357651937,
           2.350945963457302,
           2.307114163535052,
           2.2752364908643252,
           2.3217247635091356,
           2.470487235972528,
           2.2619541272515225,
           5.585201503174808,
           2.264610599974083,
           2.3137553453414537,
           2.414701308798756,
           2.9685758714526367,
           2.2951600362835296,
           2.281877672670727,
           4.060386160425035,
           2.4306401451341193,
           2.3203965271478553,
           2.2725800181417646,
           3.4241609433717763,
           5.027342231437086,
           2.2725800181417646,
           3.5622975249449267,
           2.288518854477128,
           2.595341453932875,
           2.2632823636128028,
           2.462517817804846,
           2.283205909032007,
           5.946481793443047,
           3.1810936892574833,
           3.802708306336659,
           2.269923545419204,
           2.5050213813658155,
           2.3389918362057793,
           3.025690034987689,
           3.096086562135545,
           2.3203965271478553,
           3.4254891797330567,
           2.9938123623169623,
           2.6816768174160943,
           2.3721977452377865,
           9.57788000518336,
           2.5010366722819746,
           2.2765647272256055,
           2.283205909032007,
           3.3218867435531942,
           2.5329143449527014,
           2.6776921083322534,
           2.3031294544512115,
           2.333678890760658,
           2.3443047816509,
           2.3589153816249837,
           2.323052999870416,
           2.4412660360243614,
           11.539685110794348,
           2.4465789814694827,
           7.953446935337565,
           2.4864260723078915,
           2.594013217571595,
           2.2938317999222493,
           3.363062070752883,
           5.488240248801347,
           2.520960217701179,
           2.620577944797201,
           2.3868083452118696,
           2.814500453544123,
           2.5129907995334975,
           2.2712517817804843,
           2.281877672670727,
           2.285862381754568,
           2.3987624724633925,
           4.271575741868602,
           2.311098872618893,
           2.273908254503045,
           3.194376052870286,
           2.547524944926785,
           2.700272126474018,
           50.12627964234806,
           84.24999999999999,
           2.3443047816509,
           2.4133730724374756,
           2.2765647272256055,
           3.7814565245561744,
           2.977873525981599,
           2.9393546715044705,
           2.3575871452637034,
           2.3164118180640143,
           2.5488531812880653,
           2.554166126733186,
           2.25
          ]
         },
         "mode": "markers",
         "text": [
          "afghanistan",
          "albania",
          "algeria",
          "american samoa",
          "andorra",
          "angola",
          "anguilla",
          "antarctica",
          "argentina",
          "armenia",
          "aruba",
          "australia",
          "austria",
          "azerbaijan",
          "bahamas",
          "bahrain",
          "bangladesh",
          "barbados",
          "belarus",
          "belgium",
          "belize",
          "benin",
          "bermuda",
          "bhutan",
          "bolivia",
          "botswana",
          "brazil",
          "british indian ocean territory",
          "british virgin islands",
          "brunei",
          "bulgaria",
          "burkina faso",
          "burundi",
          "cambodia",
          "cameroon",
          "canada",
          "cape verde",
          "cayman islands",
          "central african republic",
          "chad",
          "chile",
          "china",
          "colombia",
          "comoros",
          "cook islands",
          "costa rica",
          "croatia",
          "cuba",
          "cyprus",
          "czechia",
          "denmark",
          "djibouti",
          "dominica",
          "ecuador",
          "egypt",
          "el salvador",
          "equatorial guinea",
          "eritrea",
          "estonia",
          "ethiopia",
          "falkland islands",
          "fiji",
          "finland",
          "france",
          "french polynesia",
          "gabon",
          "gambia",
          "georgia",
          "germany",
          "ghana",
          "gibraltar",
          "greece",
          "greenland",
          "grenada",
          "guadeloupe",
          "guam",
          "guatemala",
          "guernsey",
          "guinea",
          "guyana",
          "haiti",
          "honduras",
          "hungary",
          "iceland",
          "india",
          "indonesia",
          "iran",
          "iraq",
          "ireland",
          "isle of man",
          "israel",
          "italy",
          "jamaica",
          "japan",
          "jersey",
          "jordan",
          "kazakhstan",
          "kenya",
          "kiribati",
          "kuwait",
          "kyrgyzstan",
          "laos",
          "latvia",
          "lebanon",
          "lesotho",
          "liberia",
          "libya",
          "liechtenstein",
          "lithuania",
          "luxembourg",
          "madagascar",
          "malawi",
          "malaysia",
          "maldives",
          "mali",
          "malta",
          "marshall islands",
          "martinique",
          "mauritania",
          "mauritius",
          "mayotte",
          "mexico",
          "micronesia",
          "moldova",
          "monaco",
          "mongolia",
          "montenegro",
          "montserrat",
          "morocco",
          "mozambique",
          "namibia",
          "nauru",
          "nepal",
          "netherlands",
          "new caledonia",
          "new zealand",
          "nicaragua",
          "niger",
          "niue",
          "north korea",
          "northern mariana islands",
          "norway",
          "oman",
          "pakistan",
          "palau",
          "panama",
          "paraguay",
          "peru",
          "philippines",
          "pitcairn islands",
          "poland",
          "portugal",
          "puerto rico",
          "qatar",
          "russia",
          "rwanda",
          "samoa",
          "san marino",
          "saudi arabia",
          "senegal",
          "serbia",
          "seychelles",
          "sierra leone",
          "singapore",
          "slovakia",
          "slovenia",
          "solomon islands",
          "south africa",
          "south korea",
          "spain",
          "sri lanka",
          "sudan",
          "suriname",
          "sweden",
          "switzerland",
          "syria",
          "taiwan",
          "tajikistan",
          "tanzania",
          "thailand",
          "timor-leste",
          "togo",
          "tonga",
          "tunisia",
          "turkey",
          "turkmenistan",
          "tuvalu",
          "uganda",
          "ukraine",
          "united arab emirates",
          "united kingdom",
          "united states",
          "uruguay",
          "uzbekistan",
          "vanuatu",
          "vatican city",
          "venezuela",
          "vietnam",
          "western sahara",
          "yemen",
          "zambia",
          "zimbabwe",
          "åland islands"
         ],
         "type": "scattergeo"
        }
       ],
       "layout": {
        "geo": {
         "landcolor": "rgb(243, 243, 243)",
         "projection": {
          "type": "equirectangular"
         },
         "scope": "world",
         "showland": true
        },
        "showlegend": false,
        "template": {
         "data": {
          "bar": [
           {
            "error_x": {
             "color": "#2a3f5f"
            },
            "error_y": {
             "color": "#2a3f5f"
            },
            "marker": {
             "line": {
              "color": "#E5ECF6",
              "width": 0.5
             },
             "pattern": {
              "fillmode": "overlay",
              "size": 10,
              "solidity": 0.2
             }
            },
            "type": "bar"
           }
          ],
          "barpolar": [
           {
            "marker": {
             "line": {
              "color": "#E5ECF6",
              "width": 0.5
             },
             "pattern": {
              "fillmode": "overlay",
              "size": 10,
              "solidity": 0.2
             }
            },
            "type": "barpolar"
           }
          ],
          "carpet": [
           {
            "aaxis": {
             "endlinecolor": "#2a3f5f",
             "gridcolor": "white",
             "linecolor": "white",
             "minorgridcolor": "white",
             "startlinecolor": "#2a3f5f"
            },
            "baxis": {
             "endlinecolor": "#2a3f5f",
             "gridcolor": "white",
             "linecolor": "white",
             "minorgridcolor": "white",
             "startlinecolor": "#2a3f5f"
            },
            "type": "carpet"
           }
          ],
          "choropleth": [
           {
            "colorbar": {
             "outlinewidth": 0,
             "ticks": ""
            },
            "type": "choropleth"
           }
          ],
          "contour": [
           {
            "colorbar": {
             "outlinewidth": 0,
             "ticks": ""
            },
            "colorscale": [
             [
              0,
              "#0d0887"
             ],
             [
              0.1111111111111111,
              "#46039f"
             ],
             [
              0.2222222222222222,
              "#7201a8"
             ],
             [
              0.3333333333333333,
              "#9c179e"
             ],
             [
              0.4444444444444444,
              "#bd3786"
             ],
             [
              0.5555555555555556,
              "#d8576b"
             ],
             [
              0.6666666666666666,
              "#ed7953"
             ],
             [
              0.7777777777777778,
              "#fb9f3a"
             ],
             [
              0.8888888888888888,
              "#fdca26"
             ],
             [
              1,
              "#f0f921"
             ]
            ],
            "type": "contour"
           }
          ],
          "contourcarpet": [
           {
            "colorbar": {
             "outlinewidth": 0,
             "ticks": ""
            },
            "type": "contourcarpet"
           }
          ],
          "heatmap": [
           {
            "colorbar": {
             "outlinewidth": 0,
             "ticks": ""
            },
            "colorscale": [
             [
              0,
              "#0d0887"
             ],
             [
              0.1111111111111111,
              "#46039f"
             ],
             [
              0.2222222222222222,
              "#7201a8"
             ],
             [
              0.3333333333333333,
              "#9c179e"
             ],
             [
              0.4444444444444444,
              "#bd3786"
             ],
             [
              0.5555555555555556,
              "#d8576b"
             ],
             [
              0.6666666666666666,
              "#ed7953"
             ],
             [
              0.7777777777777778,
              "#fb9f3a"
             ],
             [
              0.8888888888888888,
              "#fdca26"
             ],
             [
              1,
              "#f0f921"
             ]
            ],
            "type": "heatmap"
           }
          ],
          "heatmapgl": [
           {
            "colorbar": {
             "outlinewidth": 0,
             "ticks": ""
            },
            "colorscale": [
             [
              0,
              "#0d0887"
             ],
             [
              0.1111111111111111,
              "#46039f"
             ],
             [
              0.2222222222222222,
              "#7201a8"
             ],
             [
              0.3333333333333333,
              "#9c179e"
             ],
             [
              0.4444444444444444,
              "#bd3786"
             ],
             [
              0.5555555555555556,
              "#d8576b"
             ],
             [
              0.6666666666666666,
              "#ed7953"
             ],
             [
              0.7777777777777778,
              "#fb9f3a"
             ],
             [
              0.8888888888888888,
              "#fdca26"
             ],
             [
              1,
              "#f0f921"
             ]
            ],
            "type": "heatmapgl"
           }
          ],
          "histogram": [
           {
            "marker": {
             "pattern": {
              "fillmode": "overlay",
              "size": 10,
              "solidity": 0.2
             }
            },
            "type": "histogram"
           }
          ],
          "histogram2d": [
           {
            "colorbar": {
             "outlinewidth": 0,
             "ticks": ""
            },
            "colorscale": [
             [
              0,
              "#0d0887"
             ],
             [
              0.1111111111111111,
              "#46039f"
             ],
             [
              0.2222222222222222,
              "#7201a8"
             ],
             [
              0.3333333333333333,
              "#9c179e"
             ],
             [
              0.4444444444444444,
              "#bd3786"
             ],
             [
              0.5555555555555556,
              "#d8576b"
             ],
             [
              0.6666666666666666,
              "#ed7953"
             ],
             [
              0.7777777777777778,
              "#fb9f3a"
             ],
             [
              0.8888888888888888,
              "#fdca26"
             ],
             [
              1,
              "#f0f921"
             ]
            ],
            "type": "histogram2d"
           }
          ],
          "histogram2dcontour": [
           {
            "colorbar": {
             "outlinewidth": 0,
             "ticks": ""
            },
            "colorscale": [
             [
              0,
              "#0d0887"
             ],
             [
              0.1111111111111111,
              "#46039f"
             ],
             [
              0.2222222222222222,
              "#7201a8"
             ],
             [
              0.3333333333333333,
              "#9c179e"
             ],
             [
              0.4444444444444444,
              "#bd3786"
             ],
             [
              0.5555555555555556,
              "#d8576b"
             ],
             [
              0.6666666666666666,
              "#ed7953"
             ],
             [
              0.7777777777777778,
              "#fb9f3a"
             ],
             [
              0.8888888888888888,
              "#fdca26"
             ],
             [
              1,
              "#f0f921"
             ]
            ],
            "type": "histogram2dcontour"
           }
          ],
          "mesh3d": [
           {
            "colorbar": {
             "outlinewidth": 0,
             "ticks": ""
            },
            "type": "mesh3d"
           }
          ],
          "parcoords": [
           {
            "line": {
             "colorbar": {
              "outlinewidth": 0,
              "ticks": ""
             }
            },
            "type": "parcoords"
           }
          ],
          "pie": [
           {
            "automargin": true,
            "type": "pie"
           }
          ],
          "scatter": [
           {
            "fillpattern": {
             "fillmode": "overlay",
             "size": 10,
             "solidity": 0.2
            },
            "type": "scatter"
           }
          ],
          "scatter3d": [
           {
            "line": {
             "colorbar": {
              "outlinewidth": 0,
              "ticks": ""
             }
            },
            "marker": {
             "colorbar": {
              "outlinewidth": 0,
              "ticks": ""
             }
            },
            "type": "scatter3d"
           }
          ],
          "scattercarpet": [
           {
            "marker": {
             "colorbar": {
              "outlinewidth": 0,
              "ticks": ""
             }
            },
            "type": "scattercarpet"
           }
          ],
          "scattergeo": [
           {
            "marker": {
             "colorbar": {
              "outlinewidth": 0,
              "ticks": ""
             }
            },
            "type": "scattergeo"
           }
          ],
          "scattergl": [
           {
            "marker": {
             "colorbar": {
              "outlinewidth": 0,
              "ticks": ""
             }
            },
            "type": "scattergl"
           }
          ],
          "scattermapbox": [
           {
            "marker": {
             "colorbar": {
              "outlinewidth": 0,
              "ticks": ""
             }
            },
            "type": "scattermapbox"
           }
          ],
          "scatterpolar": [
           {
            "marker": {
             "colorbar": {
              "outlinewidth": 0,
              "ticks": ""
             }
            },
            "type": "scatterpolar"
           }
          ],
          "scatterpolargl": [
           {
            "marker": {
             "colorbar": {
              "outlinewidth": 0,
              "ticks": ""
             }
            },
            "type": "scatterpolargl"
           }
          ],
          "scatterternary": [
           {
            "marker": {
             "colorbar": {
              "outlinewidth": 0,
              "ticks": ""
             }
            },
            "type": "scatterternary"
           }
          ],
          "surface": [
           {
            "colorbar": {
             "outlinewidth": 0,
             "ticks": ""
            },
            "colorscale": [
             [
              0,
              "#0d0887"
             ],
             [
              0.1111111111111111,
              "#46039f"
             ],
             [
              0.2222222222222222,
              "#7201a8"
             ],
             [
              0.3333333333333333,
              "#9c179e"
             ],
             [
              0.4444444444444444,
              "#bd3786"
             ],
             [
              0.5555555555555556,
              "#d8576b"
             ],
             [
              0.6666666666666666,
              "#ed7953"
             ],
             [
              0.7777777777777778,
              "#fb9f3a"
             ],
             [
              0.8888888888888888,
              "#fdca26"
             ],
             [
              1,
              "#f0f921"
             ]
            ],
            "type": "surface"
           }
          ],
          "table": [
           {
            "cells": {
             "fill": {
              "color": "#EBF0F8"
             },
             "line": {
              "color": "white"
             }
            },
            "header": {
             "fill": {
              "color": "#C8D4E3"
             },
             "line": {
              "color": "white"
             }
            },
            "type": "table"
           }
          ]
         },
         "layout": {
          "annotationdefaults": {
           "arrowcolor": "#2a3f5f",
           "arrowhead": 0,
           "arrowwidth": 1
          },
          "autotypenumbers": "strict",
          "coloraxis": {
           "colorbar": {
            "outlinewidth": 0,
            "ticks": ""
           }
          },
          "colorscale": {
           "diverging": [
            [
             0,
             "#8e0152"
            ],
            [
             0.1,
             "#c51b7d"
            ],
            [
             0.2,
             "#de77ae"
            ],
            [
             0.3,
             "#f1b6da"
            ],
            [
             0.4,
             "#fde0ef"
            ],
            [
             0.5,
             "#f7f7f7"
            ],
            [
             0.6,
             "#e6f5d0"
            ],
            [
             0.7,
             "#b8e186"
            ],
            [
             0.8,
             "#7fbc41"
            ],
            [
             0.9,
             "#4d9221"
            ],
            [
             1,
             "#276419"
            ]
           ],
           "sequential": [
            [
             0,
             "#0d0887"
            ],
            [
             0.1111111111111111,
             "#46039f"
            ],
            [
             0.2222222222222222,
             "#7201a8"
            ],
            [
             0.3333333333333333,
             "#9c179e"
            ],
            [
             0.4444444444444444,
             "#bd3786"
            ],
            [
             0.5555555555555556,
             "#d8576b"
            ],
            [
             0.6666666666666666,
             "#ed7953"
            ],
            [
             0.7777777777777778,
             "#fb9f3a"
            ],
            [
             0.8888888888888888,
             "#fdca26"
            ],
            [
             1,
             "#f0f921"
            ]
           ],
           "sequentialminus": [
            [
             0,
             "#0d0887"
            ],
            [
             0.1111111111111111,
             "#46039f"
            ],
            [
             0.2222222222222222,
             "#7201a8"
            ],
            [
             0.3333333333333333,
             "#9c179e"
            ],
            [
             0.4444444444444444,
             "#bd3786"
            ],
            [
             0.5555555555555556,
             "#d8576b"
            ],
            [
             0.6666666666666666,
             "#ed7953"
            ],
            [
             0.7777777777777778,
             "#fb9f3a"
            ],
            [
             0.8888888888888888,
             "#fdca26"
            ],
            [
             1,
             "#f0f921"
            ]
           ]
          },
          "colorway": [
           "#636efa",
           "#EF553B",
           "#00cc96",
           "#ab63fa",
           "#FFA15A",
           "#19d3f3",
           "#FF6692",
           "#B6E880",
           "#FF97FF",
           "#FECB52"
          ],
          "font": {
           "color": "#2a3f5f"
          },
          "geo": {
           "bgcolor": "white",
           "lakecolor": "white",
           "landcolor": "#E5ECF6",
           "showlakes": true,
           "showland": true,
           "subunitcolor": "white"
          },
          "hoverlabel": {
           "align": "left"
          },
          "hovermode": "closest",
          "mapbox": {
           "style": "light"
          },
          "paper_bgcolor": "white",
          "plot_bgcolor": "#E5ECF6",
          "polar": {
           "angularaxis": {
            "gridcolor": "white",
            "linecolor": "white",
            "ticks": ""
           },
           "bgcolor": "#E5ECF6",
           "radialaxis": {
            "gridcolor": "white",
            "linecolor": "white",
            "ticks": ""
           }
          },
          "scene": {
           "xaxis": {
            "backgroundcolor": "#E5ECF6",
            "gridcolor": "white",
            "gridwidth": 2,
            "linecolor": "white",
            "showbackground": true,
            "ticks": "",
            "zerolinecolor": "white"
           },
           "yaxis": {
            "backgroundcolor": "#E5ECF6",
            "gridcolor": "white",
            "gridwidth": 2,
            "linecolor": "white",
            "showbackground": true,
            "ticks": "",
            "zerolinecolor": "white"
           },
           "zaxis": {
            "backgroundcolor": "#E5ECF6",
            "gridcolor": "white",
            "gridwidth": 2,
            "linecolor": "white",
            "showbackground": true,
            "ticks": "",
            "zerolinecolor": "white"
           }
          },
          "shapedefaults": {
           "line": {
            "color": "#2a3f5f"
           }
          },
          "ternary": {
           "aaxis": {
            "gridcolor": "white",
            "linecolor": "white",
            "ticks": ""
           },
           "baxis": {
            "gridcolor": "white",
            "linecolor": "white",
            "ticks": ""
           },
           "bgcolor": "#E5ECF6",
           "caxis": {
            "gridcolor": "white",
            "linecolor": "white",
            "ticks": ""
           }
          },
          "title": {
           "x": 0.05
          },
          "xaxis": {
           "automargin": true,
           "gridcolor": "white",
           "linecolor": "white",
           "ticks": "",
           "title": {
            "standoff": 15
           },
           "zerolinecolor": "white",
           "zerolinewidth": 2
          },
          "yaxis": {
           "automargin": true,
           "gridcolor": "white",
           "linecolor": "white",
           "ticks": "",
           "title": {
            "standoff": 15
           },
           "zerolinecolor": "white",
           "zerolinewidth": 2
          }
         }
        },
        "title": {
         "text": "World map of the number of articles and the click count per country before scaling"
        }
       }
      }
     },
     "metadata": {},
     "output_type": "display_data"
    },
    {
     "ename": "FileNotFoundError",
     "evalue": "[Errno 2] No such file or directory: '\\\\graphs\\\\world_counts_and_articles_before_scaling.html'",
     "output_type": "error",
     "traceback": [
      "\u001b[1;31m---------------------------------------------------------------------------\u001b[0m",
      "\u001b[1;31mFileNotFoundError\u001b[0m                         Traceback (most recent call last)",
      "Cell \u001b[1;32mIn[79], line 48\u001b[0m\n\u001b[0;32m     46\u001b[0m \u001b[38;5;66;03m# Show the plot\u001b[39;00m\n\u001b[0;32m     47\u001b[0m fig\u001b[38;5;241m.\u001b[39mshow()\n\u001b[1;32m---> 48\u001b[0m \u001b[43mfig\u001b[49m\u001b[38;5;241;43m.\u001b[39;49m\u001b[43mwrite_html\u001b[49m\u001b[43m(\u001b[49m\u001b[38;5;124;43m\"\u001b[39;49m\u001b[38;5;124;43m/graphs/world_counts_and_articles_before_scaling.html\u001b[39;49m\u001b[38;5;124;43m\"\u001b[39;49m\u001b[43m)\u001b[49m\n",
      "File \u001b[1;32mc:\\Anaconda\\envs\\ada\\Lib\\site-packages\\plotly\\basedatatypes.py:3714\u001b[0m, in \u001b[0;36mBaseFigure.write_html\u001b[1;34m(self, *args, **kwargs)\u001b[0m\n\u001b[0;32m   3605\u001b[0m \u001b[38;5;250m\u001b[39m\u001b[38;5;124;03m\"\"\"\u001b[39;00m\n\u001b[0;32m   3606\u001b[0m \u001b[38;5;124;03mWrite a figure to an HTML file representation\u001b[39;00m\n\u001b[0;32m   3607\u001b[0m \n\u001b[1;32m   (...)\u001b[0m\n\u001b[0;32m   3710\u001b[0m \u001b[38;5;124;03mNone\u001b[39;00m\n\u001b[0;32m   3711\u001b[0m \u001b[38;5;124;03m\"\"\"\u001b[39;00m\n\u001b[0;32m   3712\u001b[0m \u001b[38;5;28;01mimport\u001b[39;00m \u001b[38;5;21;01mplotly\u001b[39;00m\u001b[38;5;21;01m.\u001b[39;00m\u001b[38;5;21;01mio\u001b[39;00m \u001b[38;5;28;01mas\u001b[39;00m \u001b[38;5;21;01mpio\u001b[39;00m\n\u001b[1;32m-> 3714\u001b[0m \u001b[38;5;28;01mreturn\u001b[39;00m \u001b[43mpio\u001b[49m\u001b[38;5;241;43m.\u001b[39;49m\u001b[43mwrite_html\u001b[49m\u001b[43m(\u001b[49m\u001b[38;5;28;43mself\u001b[39;49m\u001b[43m,\u001b[49m\u001b[43m \u001b[49m\u001b[38;5;241;43m*\u001b[39;49m\u001b[43margs\u001b[49m\u001b[43m,\u001b[49m\u001b[43m \u001b[49m\u001b[38;5;241;43m*\u001b[39;49m\u001b[38;5;241;43m*\u001b[39;49m\u001b[43mkwargs\u001b[49m\u001b[43m)\u001b[49m\n",
      "File \u001b[1;32mc:\\Anaconda\\envs\\ada\\Lib\\site-packages\\plotly\\io\\_html.py:535\u001b[0m, in \u001b[0;36mwrite_html\u001b[1;34m(fig, file, config, auto_play, include_plotlyjs, include_mathjax, post_script, full_html, animation_opts, validate, default_width, default_height, auto_open, div_id)\u001b[0m\n\u001b[0;32m    532\u001b[0m \u001b[38;5;66;03m# Write HTML string\u001b[39;00m\n\u001b[0;32m    533\u001b[0m \u001b[38;5;28;01mif\u001b[39;00m path \u001b[38;5;129;01mis\u001b[39;00m \u001b[38;5;129;01mnot\u001b[39;00m \u001b[38;5;28;01mNone\u001b[39;00m:\n\u001b[0;32m    534\u001b[0m     \u001b[38;5;66;03m# To use a different file encoding, pass a file descriptor\u001b[39;00m\n\u001b[1;32m--> 535\u001b[0m     \u001b[43mpath\u001b[49m\u001b[38;5;241;43m.\u001b[39;49m\u001b[43mwrite_text\u001b[49m\u001b[43m(\u001b[49m\u001b[43mhtml_str\u001b[49m\u001b[43m,\u001b[49m\u001b[43m \u001b[49m\u001b[38;5;124;43m\"\u001b[39;49m\u001b[38;5;124;43mutf-8\u001b[39;49m\u001b[38;5;124;43m\"\u001b[39;49m\u001b[43m)\u001b[49m\n\u001b[0;32m    536\u001b[0m \u001b[38;5;28;01melse\u001b[39;00m:\n\u001b[0;32m    537\u001b[0m     file\u001b[38;5;241m.\u001b[39mwrite(html_str)\n",
      "File \u001b[1;32mc:\\Anaconda\\envs\\ada\\Lib\\pathlib.py:1078\u001b[0m, in \u001b[0;36mPath.write_text\u001b[1;34m(self, data, encoding, errors, newline)\u001b[0m\n\u001b[0;32m   1075\u001b[0m     \u001b[38;5;28;01mraise\u001b[39;00m \u001b[38;5;167;01mTypeError\u001b[39;00m(\u001b[38;5;124m'\u001b[39m\u001b[38;5;124mdata must be str, not \u001b[39m\u001b[38;5;132;01m%s\u001b[39;00m\u001b[38;5;124m'\u001b[39m \u001b[38;5;241m%\u001b[39m\n\u001b[0;32m   1076\u001b[0m                     data\u001b[38;5;241m.\u001b[39m\u001b[38;5;18m__class__\u001b[39m\u001b[38;5;241m.\u001b[39m\u001b[38;5;18m__name__\u001b[39m)\n\u001b[0;32m   1077\u001b[0m encoding \u001b[38;5;241m=\u001b[39m io\u001b[38;5;241m.\u001b[39mtext_encoding(encoding)\n\u001b[1;32m-> 1078\u001b[0m \u001b[38;5;28;01mwith\u001b[39;00m \u001b[38;5;28;43mself\u001b[39;49m\u001b[38;5;241;43m.\u001b[39;49m\u001b[43mopen\u001b[49m\u001b[43m(\u001b[49m\u001b[43mmode\u001b[49m\u001b[38;5;241;43m=\u001b[39;49m\u001b[38;5;124;43m'\u001b[39;49m\u001b[38;5;124;43mw\u001b[39;49m\u001b[38;5;124;43m'\u001b[39;49m\u001b[43m,\u001b[49m\u001b[43m \u001b[49m\u001b[43mencoding\u001b[49m\u001b[38;5;241;43m=\u001b[39;49m\u001b[43mencoding\u001b[49m\u001b[43m,\u001b[49m\u001b[43m \u001b[49m\u001b[43merrors\u001b[49m\u001b[38;5;241;43m=\u001b[39;49m\u001b[43merrors\u001b[49m\u001b[43m,\u001b[49m\u001b[43m \u001b[49m\u001b[43mnewline\u001b[49m\u001b[38;5;241;43m=\u001b[39;49m\u001b[43mnewline\u001b[49m\u001b[43m)\u001b[49m \u001b[38;5;28;01mas\u001b[39;00m f:\n\u001b[0;32m   1079\u001b[0m     \u001b[38;5;28;01mreturn\u001b[39;00m f\u001b[38;5;241m.\u001b[39mwrite(data)\n",
      "File \u001b[1;32mc:\\Anaconda\\envs\\ada\\Lib\\pathlib.py:1044\u001b[0m, in \u001b[0;36mPath.open\u001b[1;34m(self, mode, buffering, encoding, errors, newline)\u001b[0m\n\u001b[0;32m   1042\u001b[0m \u001b[38;5;28;01mif\u001b[39;00m \u001b[38;5;124m\"\u001b[39m\u001b[38;5;124mb\u001b[39m\u001b[38;5;124m\"\u001b[39m \u001b[38;5;129;01mnot\u001b[39;00m \u001b[38;5;129;01min\u001b[39;00m mode:\n\u001b[0;32m   1043\u001b[0m     encoding \u001b[38;5;241m=\u001b[39m io\u001b[38;5;241m.\u001b[39mtext_encoding(encoding)\n\u001b[1;32m-> 1044\u001b[0m \u001b[38;5;28;01mreturn\u001b[39;00m io\u001b[38;5;241m.\u001b[39mopen(\u001b[38;5;28mself\u001b[39m, mode, buffering, encoding, errors, newline)\n",
      "\u001b[1;31mFileNotFoundError\u001b[0m: [Errno 2] No such file or directory: '\\\\graphs\\\\world_counts_and_articles_before_scaling.html'"
     ]
    }
   ],
   "source": [
    "# Main plot - World map\n",
    "\n",
    "# color of nodes is proportional to number of articles associated with the node (country)\n",
    "scaler = MinMaxScaler()\n",
    "normalized_counts = scaler.fit_transform([[count] for count in num_articles]).flatten()\n",
    "\n",
    "color_map = plt.cm.get_cmap('Reds')\n",
    "colors_hex = [matplotlib.colors.to_hex(color_map(norm)) for norm in normalized_counts]\n",
    "\n",
    "# size of nodes is proportional to the click count \n",
    "size_scaler = MinMaxScaler(feature_range=(9, 337))\n",
    "node_sizes = size_scaler.fit_transform([[count] for count in clicks]).flatten()\n",
    "\n",
    "# Create the nodes\n",
    "node_trace = go.Scattergeo(\n",
    "    lon=longitudes,\n",
    "    lat=latitudes,\n",
    "    text=countries,\n",
    "    mode='markers',\n",
    "    marker=dict(\n",
    "        size=node_sizes/4,\n",
    "        color=colors_hex,\n",
    "        line=dict(width=0.5, color='rgb(40,40,40)')\n",
    "    ),\n",
    "    hovertemplate='<b>Country:</b> %{text}<br>' +\n",
    "                  '<b>Articles:</b> %{customdata[0]}<br>' +\n",
    "                  '<b>Clicks:</b> %{customdata[1]}<extra></extra>',\n",
    "    customdata=np.column_stack((num_articles, clicks))\n",
    ")\n",
    "\n",
    "# Create the world map\n",
    "layout = go.Layout(\n",
    "    title='World map of the number of articles and the click count per country before scaling',\n",
    "    showlegend=False,\n",
    "    geo=dict(\n",
    "        scope='world',\n",
    "        projection_type='equirectangular',\n",
    "        showland=True,\n",
    "        landcolor='rgb(243, 243, 243)',\n",
    "    ),\n",
    ")\n",
    "\n",
    "# Create the figure\n",
    "fig = go.Figure(data=[node_trace], layout=layout)\n",
    "\n",
    "# Show the plot\n",
    "fig.show()\n",
    "fig.write_html(\"world_counts_and_articles_before_scaling.html\")"
   ]
  },
  {
   "cell_type": "code",
   "execution_count": 76,
   "metadata": {},
   "outputs": [
    {
     "data": {
      "application/vnd.plotly.v1+json": {
       "config": {
        "plotlyServerURL": "https://plot.ly"
       },
       "data": [
        {
         "customdata": [
          [
           161,
           101.3416149068323
          ],
          [
           3,
           25.666666666666668
          ],
          [
           5,
           72.4
          ],
          [
           2,
           22
          ],
          [
           2,
           30
          ],
          [
           1,
           46
          ],
          [
           1,
           20
          ],
          [
           10,
           96.2
          ],
          [
           15,
           56.06666666666667
          ],
          [
           4,
           90.25
          ],
          [
           1,
           21
          ],
          [
           129,
           85.66666666666667
          ],
          [
           21,
           58
          ],
          [
           2,
           45
          ],
          [
           6,
           35.833333333333336
          ],
          [
           1,
           31
          ],
          [
           2,
           40.5
          ],
          [
           2,
           57.5
          ],
          [
           2,
           40
          ],
          [
           18,
           53.166666666666664
          ],
          [
           1,
           31
          ],
          [
           3,
           14.666666666666666
          ],
          [
           2,
           48
          ],
          [
           2,
           27
          ],
          [
           5,
           142.8
          ],
          [
           2,
           37.5
          ],
          [
           18,
           176.72222222222223
          ],
          [
           2,
           15.5
          ],
          [
           1,
           43
          ],
          [
           1,
           30
          ],
          [
           2,
           73.5
          ],
          [
           4,
           41.75
          ],
          [
           1,
           30
          ],
          [
           3,
           42.333333333333336
          ],
          [
           3,
           80
          ],
          [
           71,
           88.74647887323944
          ],
          [
           2,
           20.5
          ],
          [
           1,
           22
          ],
          [
           1,
           49
          ],
          [
           3,
           39.666666666666664
          ],
          [
           9,
           98
          ],
          [
           124,
           99.30645161290323
          ],
          [
           5,
           56.2
          ],
          [
           1,
           17
          ],
          [
           1,
           45
          ],
          [
           1,
           74
          ],
          [
           1,
           73
          ],
          [
           3,
           122.66666666666667
          ],
          [
           2,
           59.5
          ],
          [
           1,
           56
          ],
          [
           25,
           112.6
          ],
          [
           1,
           26
          ],
          [
           5,
           34.8
          ],
          [
           4,
           56.25
          ],
          [
           29,
           180.48275862068965
          ],
          [
           1,
           44
          ],
          [
           1,
           32
          ],
          [
           1,
           28
          ],
          [
           3,
           61.333333333333336
          ],
          [
           14,
           34.357142857142854
          ],
          [
           2,
           22
          ],
          [
           1,
           35
          ],
          [
           10,
           80.4
          ],
          [
           131,
           102.03053435114504
          ],
          [
           1,
           25
          ],
          [
           2,
           37.5
          ],
          [
           2,
           22.5
          ],
          [
           7,
           32.857142857142854
          ],
          [
           114,
           119.75438596491227
          ],
          [
           5,
           39.8
          ],
          [
           2,
           64.5
          ],
          [
           58,
           130.1551724137931
          ],
          [
           2,
           136
          ],
          [
           3,
           38
          ],
          [
           1,
           21
          ],
          [
           1,
           43
          ],
          [
           2,
           42.5
          ],
          [
           2,
           51.5
          ],
          [
           6,
           28.333333333333332
          ],
          [
           2,
           23.5
          ],
          [
           1,
           105
          ],
          [
           3,
           21.333333333333332
          ],
          [
           9,
           33.77777777777778
          ],
          [
           10,
           83.6
          ],
          [
           100,
           90.36
          ],
          [
           18,
           69.5
          ],
          [
           21,
           122.23809523809524
          ],
          [
           15,
           91.2
          ],
          [
           44,
           48.09090909090909
          ],
          [
           2,
           36
          ],
          [
           22,
           155.5
          ],
          [
           124,
           97.63709677419355
          ],
          [
           4,
           82.75
          ],
          [
           62,
           105.51612903225806
          ],
          [
           3,
           26
          ],
          [
           5,
           132.2
          ],
          [
           6,
           90.66666666666667
          ],
          [
           6,
           103.66666666666667
          ],
          [
           2,
           16.5
          ],
          [
           2,
           69
          ],
          [
           2,
           18
          ],
          [
           1,
           40
          ],
          [
           1,
           36
          ],
          [
           3,
           44.333333333333336
          ],
          [
           3,
           15.333333333333334
          ],
          [
           3,
           27.666666666666668
          ],
          [
           2,
           87
          ],
          [
           1,
           37
          ],
          [
           2,
           32.5
          ],
          [
           4,
           19.25
          ],
          [
           6,
           51.166666666666664
          ],
          [
           4,
           79.75
          ],
          [
           12,
           32.083333333333336
          ],
          [
           1,
           50
          ],
          [
           6,
           43.5
          ],
          [
           2,
           41.5
          ],
          [
           1,
           50
          ],
          [
           2,
           13
          ],
          [
           2,
           30.5
          ],
          [
           4,
           43.25
          ],
          [
           1,
           16
          ],
          [
           27,
           93.25925925925925
          ],
          [
           1,
           18
          ],
          [
           2,
           27.5
          ],
          [
           3,
           43.666666666666664
          ],
          [
           10,
           54.8
          ],
          [
           1,
           41
          ],
          [
           1,
           31
          ],
          [
           15,
           91.33333333333333
          ],
          [
           3,
           47.666666666666664
          ],
          [
           1,
           60
          ],
          [
           1,
           24
          ],
          [
           9,
           99
          ],
          [
           29,
           72.34482758620689
          ],
          [
           1,
           24
          ],
          [
           21,
           47.38095238095238
          ],
          [
           1,
           36
          ],
          [
           7,
           38.142857142857146
          ],
          [
           1,
           17
          ],
          [
           3,
           55.666666666666664
          ],
          [
           1,
           32
          ],
          [
           21,
           132.85714285714286
          ],
          [
           15,
           47.2
          ],
          [
           15,
           78.4
          ],
          [
           1,
           22
          ],
          [
           3,
           66.33333333333333
          ],
          [
           2,
           37
          ],
          [
           12,
           49.25
          ],
          [
           13,
           49.53846153846154
          ],
          [
           2,
           30
          ],
          [
           26,
           34.30769230769231
          ],
          [
           11,
           51.54545454545455
          ],
          [
           7,
           47.42857142857143
          ],
          [
           3,
           33
          ],
          [
           79,
           69.92405063291139
          ],
          [
           6,
           32.666666666666664
          ],
          [
           1,
           27
          ],
          [
           1,
           32
          ],
          [
           8,
           101.75
          ],
          [
           3,
           73.33333333333333
          ],
          [
           6,
           54.833333333333336
          ],
          [
           2,
           23.5
          ],
          [
           2,
           35
          ],
          [
           4,
           19.5
          ],
          [
           3,
           29.666666666666668
          ],
          [
           1,
           62
          ],
          [
           5,
           30.2
          ],
          [
           38,
           184.23684210526315
          ],
          [
           4,
           38.75
          ],
          [
           31,
           138.74193548387098
          ],
          [
           5,
           37
          ],
          [
           6,
           44.333333333333336
          ],
          [
           2,
           20
          ],
          [
           14,
           60.357142857142854
          ],
          [
           20,
           122.25
          ],
          [
           6,
           35.166666666666664
          ],
          [
           3,
           95.33333333333333
          ],
          [
           3,
           36.666666666666664
          ],
          [
           6,
           72
          ],
          [
           4,
           51.25
          ],
          [
           1,
           23
          ],
          [
           2,
           15.5
          ],
          [
           1,
           34
          ],
          [
           2,
           59.5
          ],
          [
           16,
           95.5625
          ],
          [
           1,
           53
          ],
          [
           1,
           25
          ],
          [
           9,
           79.77777777777777
          ],
          [
           7,
           33
          ],
          [
           4,
           86.5
          ],
          [
           337,
           106.97922848664689
          ],
          [
           686,
           90.00437317784257
          ],
          [
           2,
           39
          ],
          [
           5,
           26
          ],
          [
           1,
           27
          ],
          [
           3,
           386.6666666666667
          ],
          [
           4,
           138.75
          ],
          [
           6,
           87.66666666666667
          ],
          [
           1,
           88
          ],
          [
           1,
           57
          ],
          [
           6,
           38.666666666666664
          ],
          [
           5,
           47.2
          ],
          [
           2,
           3.5
          ]
         ],
         "hovertemplate": "<b>Country:</b> %{text}<br><b>Articles:</b> %{customdata[0]}<br><b>Clicks:</b> %{customdata[1]}<extra></extra>",
         "lat": [
          33.7680065,
          5.7587654,
          28.0000272,
          -14.297124,
          42.5407167,
          -11.8775768,
          18.1954947,
          -72.8438691,
          -34.9964963,
          4.491976149999999,
          12.5013629,
          -24.7761086,
          47.59397,
          40.3936294,
          24.7736546,
          26.030093,
          24.4769288,
          13.1500331,
          53.4250605,
          50.6402809,
          17.1204943,
          9.5293472,
          32.3040273,
          27.549511,
          -17.0568696,
          -23.1681782,
          -10.3333333,
          -5.3497093499999995,
          18.4024395,
          4.4137155,
          42.6073975,
          12.0753083,
          -3.426449,
          12.5433216,
          4.6125522,
          61.0666922,
          16.0000552,
          19.703182249999998,
          7.0323598,
          15.6134137,
          -31.7613365,
          35.0000663,
          4.099917,
          -12.2045176,
          -19.99697155,
          10.2735633,
          45.3658443,
          23.0131338,
          34.9174159,
          49.7439047,
          55.670249,
          11.8145966,
          15.4113138,
          -1.3397668,
          26.2540493,
          13.8000382,
          1.613172,
          15.9500319,
          58.7523778,
          10.2116702,
          -51.9492937,
          -18.1239696,
          63.2467777,
          46.603354,
          -17.0243749,
          -0.8999695,
          13.470062,
          32.3293809,
          51.1638175,
          8.0300284,
          36.1285933,
          38.9953683,
          43.0361995,
          12.1360374,
          16.2528827,
          13.4499943,
          15.5855545,
          49.46229125,
          10.7226226,
          4.8417097,
          19.1399952,
          15.2572432,
          47.1817585,
          64.9841821,
          22.3511148,
          -2.4833826,
          32.6475314,
          33.0955793,
          52.865196,
          54.1936805,
          30.8124247,
          42.6384261,
          18.1850507,
          36.5748441,
          49.2214561,
          44.6663146,
          48.1012954,
          1.4419683,
          0.3448612,
          29.3796532,
          41.5089324,
          20.0171109,
          56.8406494,
          40.375713,
          -29.6039267,
          5.7499721,
          26.8234472,
          47.1416307,
          55.3500003,
          49.6112768,
          -18.9249604,
          -13.2687204,
          4.5693754,
          3.7203503,
          16.3700359,
          35.8885993,
          8.230816999999998,
          14.6113732,
          20.2540382,
          -20.2759451,
          -12.823048,
          19.4326296,
          8.6062347,
          47.2879608,
          43.7323492,
          46.8250388,
          -29.6826112,
          16.7417041,
          28.3347722,
          -19.302233,
          -23.2335499,
          -0.5252306,
          28.3780464,
          52.2434979,
          -20.63784275,
          -41.5000831,
          12.6090157,
          17.7356214,
          -19.0536414,
          40.3736611,
          15.1753648,
          64.5731537,
          21.0000287,
          30.3308401,
          42.5717989,
          8.559559,
          -23.3165935,
          -6.8699697,
          12.7503486,
          -25.0657719,
          52.215933,
          39.6621648,
          18.2247706,
          25.3336984,
          64.6863136,
          -1.9646631,
          -13.7693895,
          43.9458623,
          25.6242618,
          14.4750607,
          44.024322850000004,
          -4.6574977,
          8.6400349,
          1.357107,
          48.7411522,
          46.1199444,
          -8.7053941,
          -28.8166236,
          36.638392,
          39.3260685,
          7.5554942,
          34.0678644,
          4.1413025,
          59.6749712,
          46.7985624,
          34.8147886,
          23.5983227,
          38.6281733,
          -6.5247123,
          14.8971921,
          -8.7443169,
          8.7800265,
          -19.9160819,
          36.8002068,
          38.9597594,
          39.3763807,
          -8.6405212,
          1.5333554,
          49.4871968,
          24.0002488,
          54.7023545,
          39.7837304,
          -32.8755548,
          41.32373,
          -16.5255069,
          41.903411,
          8.0018709,
          15.9266657,
          24.1797324,
          16.3471243,
          -14.5189121,
          -18.4554963,
          60.2166218
         ],
         "lon": [
          66.2385139,
          -73.9151617,
          2.9999825,
          -170.7131481,
          1.5732033,
          17.5691241,
          -63.0750234,
          0,
          -64.9672817,
          -75.74135085294314,
          -69.9618475,
          134.755,
          14.12456,
          47.7872508,
          -78.0000547,
          50.553336789123236,
          90.2934413,
          -59.5250305,
          27.6971358,
          4.6667145,
          -88.6859028,
          2.2584408,
          -64.7563086,
          90.5119273,
          -64.9912286,
          24.5928742,
          -53.2,
          71.86064227010121,
          -64.5661642,
          114.5653908,
          25.4856617,
          -1.6880314,
          29.9324519,
          104.8144914,
          13.1535811,
          -107.991707,
          -24.0083947,
          -79.9174627243246,
          19.9981227,
          19.0156172,
          -71.3187697,
          104.999955,
          -72.9088133,
          44.2832964,
          -157.78587140620786,
          -84.0739102,
          15.6575209,
          -80.8328748,
          32.889902651331866,
          15.3381061,
          10.3333283,
          42.8453061,
          -61.3653618,
          -79.3666965,
          29.2675469,
          -88.9140683,
          10.5170357,
          37.9999668,
          25.3319078,
          38.6521203,
          -59.5383657,
          179.0122737,
          25.9209164,
          1.8883335,
          -144.6434898,
          11.6899699,
          -15.4900464,
          -83.1137366,
          10.4478313,
          -1.0800271,
          -5.3474761,
          21.9877132,
          -70.8328322,
          -61.6904045,
          -61.5686855,
          144.7651677,
          -90.345759,
          -2.5812022503294356,
          -10.7083587,
          -58.6416891,
          -72.3570972,
          -86.0755145,
          19.5060937,
          -18.1059013,
          78.6677428,
          117.8902853,
          54.5643516,
          44.1749775,
          -7.9794599,
          -4.5591148,
          34.8594762,
          12.674297,
          -77.3947693,
          139.2394179,
          -2.1358386,
          -93.6261918,
          66.7780818,
          38.4313975,
          173.6641773,
          47.9734174,
          74.724091,
          103.378253,
          24.7537645,
          -76.4626118,
          28.3350193,
          -9.3658524,
          18.1236723,
          9.5531527,
          23.7499997,
          6.129799,
          46.4416422,
          33.9301963,
          102.2656823,
          73.2244152,
          -2.2900239,
          14.4476911,
          167.7953223704529,
          -60.9620777,
          -9.2399263,
          57.5703566,
          45.1520755,
          -99.1331785,
          151.832744331612,
          28.5670941,
          7.4276832,
          103.8499736,
          -51.4687455,
          -62.1916844,
          -10.371337908392647,
          34.9144977,
          17.3231107,
          166.9324426,
          83.9999901,
          5.6343227,
          161.21176261225781,
          172.8344077,
          -85.2936911,
          9.3238432,
          -169.861341,
          127.0870417,
          145.7379338,
          11.52803643954819,
          57.0036901,
          71.247499,
          2.9600905,
          -81.1308434,
          -58.1693445,
          -75.0458515,
          122.7312101,
          -130.101782,
          19.134422,
          -8.1353519,
          -66.4858295,
          51.2295295,
          97.7453061,
          30.0644358,
          -172.12005,
          12.458306,
          42.3528328,
          -14.4529612,
          21.07657433209902,
          55.4540146,
          -11.8400269,
          103.8194992,
          19.4528646,
          14.8153333,
          159.1070693851845,
          24.991639,
          127.6961188,
          -4.8379791,
          80.7137847,
          -102.524362,
          -56.0771187,
          14.5208584,
          8.2319736,
          38.42317811509885,
          120.83537694479215,
          70.8156541,
          35.7878438,
          100.83273,
          126.063482,
          1.0199765,
          -175.202642,
          10.1857757,
          34.9249653,
          59.3924609,
          179.1582918181797,
          32.2166578,
          31.2718321,
          53.9994829,
          -3.2765753,
          -100.445882,
          -56.0201525,
          63.9528098,
          168.1069154,
          12.4528527,
          -66.1109318,
          107.9650855,
          -13.7667848,
          47.8915271,
          27.5589884,
          29.7468414,
          19.9438638
         ],
         "marker": {
          "color": [
           "#fcc1a8",
           "#fff5f0",
           "#fff4ef",
           "#fff5f0",
           "#fff5f0",
           "#fff5f0",
           "#fff5f0",
           "#fff3ed",
           "#fff2eb",
           "#fff4ef",
           "#fff5f0",
           "#fdcebb",
           "#fff0e9",
           "#fff5f0",
           "#fff4ef",
           "#fff5f0",
           "#fff5f0",
           "#fff5f0",
           "#fff5f0",
           "#fff1ea",
           "#fff5f0",
           "#fff5f0",
           "#fff5f0",
           "#fff5f0",
           "#fff4ef",
           "#fff5f0",
           "#fff1ea",
           "#fff5f0",
           "#fff5f0",
           "#fff5f0",
           "#fff5f0",
           "#fff4ef",
           "#fff5f0",
           "#fff5f0",
           "#fff5f0",
           "#fee4d8",
           "#fff5f0",
           "#fff5f0",
           "#fff5f0",
           "#fff5f0",
           "#fff4ee",
           "#fdd1be",
           "#fff4ef",
           "#fff5f0",
           "#fff5f0",
           "#fff5f0",
           "#fff5f0",
           "#fff5f0",
           "#fff5f0",
           "#fff5f0",
           "#fff0e8",
           "#fff5f0",
           "#fff4ef",
           "#fff4ef",
           "#ffeee7",
           "#fff5f0",
           "#fff5f0",
           "#fff5f0",
           "#fff5f0",
           "#fff2ec",
           "#fff5f0",
           "#fff5f0",
           "#fff3ed",
           "#fdcdb9",
           "#fff5f0",
           "#fff5f0",
           "#fff5f0",
           "#fff4ee",
           "#fdd4c2",
           "#fff4ef",
           "#fff5f0",
           "#fee7dc",
           "#fff5f0",
           "#fff5f0",
           "#fff5f0",
           "#fff5f0",
           "#fff5f0",
           "#fff5f0",
           "#fff4ef",
           "#fff5f0",
           "#fff5f0",
           "#fff5f0",
           "#fff4ee",
           "#fff3ed",
           "#fedbcc",
           "#fff1ea",
           "#fff0e9",
           "#fff2eb",
           "#feeae1",
           "#fff5f0",
           "#fff0e9",
           "#fdd1be",
           "#fff4ef",
           "#fee7db",
           "#fff5f0",
           "#fff4ef",
           "#fff4ef",
           "#fff4ef",
           "#fff5f0",
           "#fff5f0",
           "#fff5f0",
           "#fff5f0",
           "#fff5f0",
           "#fff5f0",
           "#fff5f0",
           "#fff5f0",
           "#fff5f0",
           "#fff5f0",
           "#fff5f0",
           "#fff4ef",
           "#fff4ef",
           "#fff4ef",
           "#fff2ec",
           "#fff5f0",
           "#fff4ef",
           "#fff5f0",
           "#fff5f0",
           "#fff5f0",
           "#fff5f0",
           "#fff4ef",
           "#fff5f0",
           "#ffefe8",
           "#fff5f0",
           "#fff5f0",
           "#fff5f0",
           "#fff3ed",
           "#fff5f0",
           "#fff5f0",
           "#fff2eb",
           "#fff5f0",
           "#fff5f0",
           "#fff5f0",
           "#fff4ee",
           "#ffeee7",
           "#fff5f0",
           "#fff0e9",
           "#fff5f0",
           "#fff4ee",
           "#fff5f0",
           "#fff5f0",
           "#fff5f0",
           "#fff0e9",
           "#fff2eb",
           "#fff2eb",
           "#fff5f0",
           "#fff5f0",
           "#fff5f0",
           "#fff2ec",
           "#fff2ec",
           "#fff5f0",
           "#ffefe8",
           "#fff3ed",
           "#fff4ee",
           "#fff5f0",
           "#fee2d5",
           "#fff4ef",
           "#fff5f0",
           "#fff5f0",
           "#fff4ee",
           "#fff5f0",
           "#fff4ef",
           "#fff5f0",
           "#fff5f0",
           "#fff4ef",
           "#fff5f0",
           "#fff5f0",
           "#fff4ef",
           "#ffece4",
           "#fff4ef",
           "#ffeee6",
           "#fff4ef",
           "#fff4ef",
           "#fff5f0",
           "#fff2ec",
           "#fff0e9",
           "#fff4ef",
           "#fff5f0",
           "#fff5f0",
           "#fff4ef",
           "#fff4ef",
           "#fff5f0",
           "#fff5f0",
           "#fff5f0",
           "#fff5f0",
           "#fff2eb",
           "#fff5f0",
           "#fff5f0",
           "#fff4ee",
           "#fff4ee",
           "#fff4ef",
           "#fb6d4d",
           "#67000d",
           "#fff5f0",
           "#fff4ef",
           "#fff5f0",
           "#fff5f0",
           "#fff4ef",
           "#fff4ef",
           "#fff5f0",
           "#fff5f0",
           "#fff4ef",
           "#fff4ef",
           "#fff5f0"
          ],
          "line": {
           "color": "rgb(40,40,40)",
           "width": 0.5
          },
          "size": [
           23.188701406768807,
           6.993801652892562,
           16.99501957372771,
           6.209112657677251,
           7.921161374510657,
           11.34525880817747,
           5.7811004784688995,
           22.088364506307087,
           13.499586776859505,
           20.81502827316224,
           5.995106568073075,
           19.834167029143106,
           13.913331883427578,
           11.131252718573293,
           9.169530230535015,
           8.135167464114833,
           10.168225315354501,
           13.80632883862549,
           10.061222270552413,
           12.878969117007394,
           8.135167464114833,
           4.639734667246628,
           11.773270987385818,
           7.27914310569813,
           32.06104828186168,
           9.526207046541973,
           39.32061041032333,
           4.818073075250108,
           10.703240539364941,
           7.921161374510657,
           17.230426272292302,
           10.43573292735972,
           7.921161374510657,
           10.560569812962157,
           18.621465854719442,
           20.49326559618695,
           5.8881035232709875,
           6.209112657677251,
           11.987277076989994,
           9.989886907351021,
           22.473575467594603,
           22.75316406852909,
           13.528120922140062,
           5.139082209656372,
           11.131252718573293,
           17.337429317094387,
           17.123423227490214,
           27.752392344497608,
           14.234341017833842,
           13.485319704219226,
           25.598064375815568,
           7.065137016093954,
           8.9483906046107,
           13.538821226620268,
           40.12538809977352,
           10.917246628969117,
           8.349173553719009,
           7.493149195302305,
           14.626685515441498,
           8.853616479214566,
           6.209112657677251,
           8.991191822531535,
           18.707068290561114,
           23.336134363098456,
           6.851130926489778,
           9.526207046541973,
           6.316115702479339,
           8.532607344808302,
           27.129146539685443,
           10.018421052631577,
           15.304371465854718,
           29.35497817641853,
           30.60580687255328,
           9.633210091344061,
           5.995106568073075,
           10.703240539364941,
           10.596237494562853,
           12.522292301000434,
           7.564484558503697,
           6.530121792083515,
           23.971618094823835,
           6.066441931274467,
           8.729628824126433,
           19.391887777294475,
           20.838568943018704,
           16.374401913875598,
           27.660675448952958,
           21.01833405828621,
           11.792726086440744,
           9.205197912135711,
           34.77892561983471,
           22.395911967335024,
           19.209982601130925,
           24.08207285074857,
           7.065137016093954,
           29.792583732057413,
           20.904197477163983,
           23.686276642018267,
           5.032079164854284,
           16.26739886907351,
           5.353088299260548,
           10.061222270552413,
           9.205197912135711,
           10.98858199217051,
           4.782405393649412,
           7.421813832100914,
           20.11950848194867,
           9.419204001739885,
           8.456176598521097,
           5.6205959112657675,
           12.450956937799042,
           18.567964332318397,
           8.367007394519357,
           12.20128316659417,
           10.81024358416703,
           10.382231404958677,
           12.20128316659417,
           4.283057851239669,
           8.028164419312745,
           10.756742061765983,
           4.925076120052196,
           21.459028079841474,
           5.353088299260548,
           7.386146150500217,
           10.845911265767725,
           13.228512396694214,
           10.27522836015659,
           8.135167464114833,
           21.046868203566767,
           11.701935624184426,
           14.34134406263593,
           6.637124836885602,
           22.68758155719878,
           16.98321234119782,
           6.637124836885602,
           11.640791027154663,
           9.205197912135711,
           9.663782389858945,
           5.139082209656372,
           13.413984341017834,
           8.349173553719009,
           29.933216305225873,
           11.602066115702481,
           18.279056111352762,
           6.209112657677251,
           15.696715963462374,
           9.419204001739885,
           12.04077859939104,
           12.102511125238397,
           7.921161374510657,
           8.843033760497875,
           12.532019850527899,
           11.650981793326292,
           8.563179643323185,
           16.46515133161914,
           8.491844280121791,
           7.27914310569813,
           8.349173553719009,
           23.276098303610265,
           17.194758590691603,
           13.235645933014354,
           6.530121792083515,
           8.991191822531535,
           5.6740974336668115,
           7.849826011309265,
           14.769356241844278,
           7.963962592431492,
           40.92878482635471,
           9.793714658547195,
           31.19259776340344,
           9.419204001739885,
           10.98858199217051,
           5.7811004784688995,
           14.417774808923134,
           27.663223140495866,
           9.02685950413223,
           21.902892561983467,
           9.347868638538493,
           16.909417137886038,
           12.468790778599391,
           6.423118747281427,
           4.818073075250108,
           8.777185732927359,
           14.234341017833842,
           21.951935624184426,
           12.843301435406698,
           6.851130926489778,
           18.57390894591851,
           8.563179643323185,
           20.012505437146583,
           24.395185043684325,
           20.76246263745043,
           9.847216180948237,
           7.065137016093954,
           7.27914310569813,
           84.25,
           31.194323618964766,
           20.262179208351455,
           20.333514571552847,
           13.699325793823402,
           9.775880817746845,
           11.602066115702481,
           2.25
          ]
         },
         "mode": "markers",
         "text": [
          "afghanistan",
          "albania",
          "algeria",
          "american samoa",
          "andorra",
          "angola",
          "anguilla",
          "antarctica",
          "argentina",
          "armenia",
          "aruba",
          "australia",
          "austria",
          "azerbaijan",
          "bahamas",
          "bahrain",
          "bangladesh",
          "barbados",
          "belarus",
          "belgium",
          "belize",
          "benin",
          "bermuda",
          "bhutan",
          "bolivia",
          "botswana",
          "brazil",
          "british indian ocean territory",
          "british virgin islands",
          "brunei",
          "bulgaria",
          "burkina faso",
          "burundi",
          "cambodia",
          "cameroon",
          "canada",
          "cape verde",
          "cayman islands",
          "central african republic",
          "chad",
          "chile",
          "china",
          "colombia",
          "comoros",
          "cook islands",
          "costa rica",
          "croatia",
          "cuba",
          "cyprus",
          "czechia",
          "denmark",
          "djibouti",
          "dominica",
          "ecuador",
          "egypt",
          "el salvador",
          "equatorial guinea",
          "eritrea",
          "estonia",
          "ethiopia",
          "falkland islands",
          "fiji",
          "finland",
          "france",
          "french polynesia",
          "gabon",
          "gambia",
          "georgia",
          "germany",
          "ghana",
          "gibraltar",
          "greece",
          "greenland",
          "grenada",
          "guadeloupe",
          "guam",
          "guatemala",
          "guernsey",
          "guinea",
          "guyana",
          "haiti",
          "honduras",
          "hungary",
          "iceland",
          "india",
          "indonesia",
          "iran",
          "iraq",
          "ireland",
          "isle of man",
          "israel",
          "italy",
          "jamaica",
          "japan",
          "jersey",
          "jordan",
          "kazakhstan",
          "kenya",
          "kiribati",
          "kuwait",
          "kyrgyzstan",
          "laos",
          "latvia",
          "lebanon",
          "lesotho",
          "liberia",
          "libya",
          "liechtenstein",
          "lithuania",
          "luxembourg",
          "madagascar",
          "malawi",
          "malaysia",
          "maldives",
          "mali",
          "malta",
          "marshall islands",
          "martinique",
          "mauritania",
          "mauritius",
          "mayotte",
          "mexico",
          "micronesia",
          "moldova",
          "monaco",
          "mongolia",
          "montenegro",
          "montserrat",
          "morocco",
          "mozambique",
          "namibia",
          "nauru",
          "nepal",
          "netherlands",
          "new caledonia",
          "new zealand",
          "nicaragua",
          "niger",
          "niue",
          "north korea",
          "northern mariana islands",
          "norway",
          "oman",
          "pakistan",
          "palau",
          "panama",
          "paraguay",
          "peru",
          "philippines",
          "pitcairn islands",
          "poland",
          "portugal",
          "puerto rico",
          "qatar",
          "russia",
          "rwanda",
          "samoa",
          "san marino",
          "saudi arabia",
          "senegal",
          "serbia",
          "seychelles",
          "sierra leone",
          "singapore",
          "slovakia",
          "slovenia",
          "solomon islands",
          "south africa",
          "south korea",
          "spain",
          "sri lanka",
          "sudan",
          "suriname",
          "sweden",
          "switzerland",
          "syria",
          "taiwan",
          "tajikistan",
          "tanzania",
          "thailand",
          "timor-leste",
          "togo",
          "tonga",
          "tunisia",
          "turkey",
          "turkmenistan",
          "tuvalu",
          "uganda",
          "ukraine",
          "united arab emirates",
          "united kingdom",
          "united states",
          "uruguay",
          "uzbekistan",
          "vanuatu",
          "vatican city",
          "venezuela",
          "vietnam",
          "western sahara",
          "yemen",
          "zambia",
          "zimbabwe",
          "åland islands"
         ],
         "type": "scattergeo"
        }
       ],
       "layout": {
        "geo": {
         "landcolor": "rgb(243, 243, 243)",
         "projection": {
          "type": "equirectangular"
         },
         "scope": "world",
         "showland": true
        },
        "showlegend": false,
        "template": {
         "data": {
          "bar": [
           {
            "error_x": {
             "color": "#2a3f5f"
            },
            "error_y": {
             "color": "#2a3f5f"
            },
            "marker": {
             "line": {
              "color": "#E5ECF6",
              "width": 0.5
             },
             "pattern": {
              "fillmode": "overlay",
              "size": 10,
              "solidity": 0.2
             }
            },
            "type": "bar"
           }
          ],
          "barpolar": [
           {
            "marker": {
             "line": {
              "color": "#E5ECF6",
              "width": 0.5
             },
             "pattern": {
              "fillmode": "overlay",
              "size": 10,
              "solidity": 0.2
             }
            },
            "type": "barpolar"
           }
          ],
          "carpet": [
           {
            "aaxis": {
             "endlinecolor": "#2a3f5f",
             "gridcolor": "white",
             "linecolor": "white",
             "minorgridcolor": "white",
             "startlinecolor": "#2a3f5f"
            },
            "baxis": {
             "endlinecolor": "#2a3f5f",
             "gridcolor": "white",
             "linecolor": "white",
             "minorgridcolor": "white",
             "startlinecolor": "#2a3f5f"
            },
            "type": "carpet"
           }
          ],
          "choropleth": [
           {
            "colorbar": {
             "outlinewidth": 0,
             "ticks": ""
            },
            "type": "choropleth"
           }
          ],
          "contour": [
           {
            "colorbar": {
             "outlinewidth": 0,
             "ticks": ""
            },
            "colorscale": [
             [
              0,
              "#0d0887"
             ],
             [
              0.1111111111111111,
              "#46039f"
             ],
             [
              0.2222222222222222,
              "#7201a8"
             ],
             [
              0.3333333333333333,
              "#9c179e"
             ],
             [
              0.4444444444444444,
              "#bd3786"
             ],
             [
              0.5555555555555556,
              "#d8576b"
             ],
             [
              0.6666666666666666,
              "#ed7953"
             ],
             [
              0.7777777777777778,
              "#fb9f3a"
             ],
             [
              0.8888888888888888,
              "#fdca26"
             ],
             [
              1,
              "#f0f921"
             ]
            ],
            "type": "contour"
           }
          ],
          "contourcarpet": [
           {
            "colorbar": {
             "outlinewidth": 0,
             "ticks": ""
            },
            "type": "contourcarpet"
           }
          ],
          "heatmap": [
           {
            "colorbar": {
             "outlinewidth": 0,
             "ticks": ""
            },
            "colorscale": [
             [
              0,
              "#0d0887"
             ],
             [
              0.1111111111111111,
              "#46039f"
             ],
             [
              0.2222222222222222,
              "#7201a8"
             ],
             [
              0.3333333333333333,
              "#9c179e"
             ],
             [
              0.4444444444444444,
              "#bd3786"
             ],
             [
              0.5555555555555556,
              "#d8576b"
             ],
             [
              0.6666666666666666,
              "#ed7953"
             ],
             [
              0.7777777777777778,
              "#fb9f3a"
             ],
             [
              0.8888888888888888,
              "#fdca26"
             ],
             [
              1,
              "#f0f921"
             ]
            ],
            "type": "heatmap"
           }
          ],
          "heatmapgl": [
           {
            "colorbar": {
             "outlinewidth": 0,
             "ticks": ""
            },
            "colorscale": [
             [
              0,
              "#0d0887"
             ],
             [
              0.1111111111111111,
              "#46039f"
             ],
             [
              0.2222222222222222,
              "#7201a8"
             ],
             [
              0.3333333333333333,
              "#9c179e"
             ],
             [
              0.4444444444444444,
              "#bd3786"
             ],
             [
              0.5555555555555556,
              "#d8576b"
             ],
             [
              0.6666666666666666,
              "#ed7953"
             ],
             [
              0.7777777777777778,
              "#fb9f3a"
             ],
             [
              0.8888888888888888,
              "#fdca26"
             ],
             [
              1,
              "#f0f921"
             ]
            ],
            "type": "heatmapgl"
           }
          ],
          "histogram": [
           {
            "marker": {
             "pattern": {
              "fillmode": "overlay",
              "size": 10,
              "solidity": 0.2
             }
            },
            "type": "histogram"
           }
          ],
          "histogram2d": [
           {
            "colorbar": {
             "outlinewidth": 0,
             "ticks": ""
            },
            "colorscale": [
             [
              0,
              "#0d0887"
             ],
             [
              0.1111111111111111,
              "#46039f"
             ],
             [
              0.2222222222222222,
              "#7201a8"
             ],
             [
              0.3333333333333333,
              "#9c179e"
             ],
             [
              0.4444444444444444,
              "#bd3786"
             ],
             [
              0.5555555555555556,
              "#d8576b"
             ],
             [
              0.6666666666666666,
              "#ed7953"
             ],
             [
              0.7777777777777778,
              "#fb9f3a"
             ],
             [
              0.8888888888888888,
              "#fdca26"
             ],
             [
              1,
              "#f0f921"
             ]
            ],
            "type": "histogram2d"
           }
          ],
          "histogram2dcontour": [
           {
            "colorbar": {
             "outlinewidth": 0,
             "ticks": ""
            },
            "colorscale": [
             [
              0,
              "#0d0887"
             ],
             [
              0.1111111111111111,
              "#46039f"
             ],
             [
              0.2222222222222222,
              "#7201a8"
             ],
             [
              0.3333333333333333,
              "#9c179e"
             ],
             [
              0.4444444444444444,
              "#bd3786"
             ],
             [
              0.5555555555555556,
              "#d8576b"
             ],
             [
              0.6666666666666666,
              "#ed7953"
             ],
             [
              0.7777777777777778,
              "#fb9f3a"
             ],
             [
              0.8888888888888888,
              "#fdca26"
             ],
             [
              1,
              "#f0f921"
             ]
            ],
            "type": "histogram2dcontour"
           }
          ],
          "mesh3d": [
           {
            "colorbar": {
             "outlinewidth": 0,
             "ticks": ""
            },
            "type": "mesh3d"
           }
          ],
          "parcoords": [
           {
            "line": {
             "colorbar": {
              "outlinewidth": 0,
              "ticks": ""
             }
            },
            "type": "parcoords"
           }
          ],
          "pie": [
           {
            "automargin": true,
            "type": "pie"
           }
          ],
          "scatter": [
           {
            "fillpattern": {
             "fillmode": "overlay",
             "size": 10,
             "solidity": 0.2
            },
            "type": "scatter"
           }
          ],
          "scatter3d": [
           {
            "line": {
             "colorbar": {
              "outlinewidth": 0,
              "ticks": ""
             }
            },
            "marker": {
             "colorbar": {
              "outlinewidth": 0,
              "ticks": ""
             }
            },
            "type": "scatter3d"
           }
          ],
          "scattercarpet": [
           {
            "marker": {
             "colorbar": {
              "outlinewidth": 0,
              "ticks": ""
             }
            },
            "type": "scattercarpet"
           }
          ],
          "scattergeo": [
           {
            "marker": {
             "colorbar": {
              "outlinewidth": 0,
              "ticks": ""
             }
            },
            "type": "scattergeo"
           }
          ],
          "scattergl": [
           {
            "marker": {
             "colorbar": {
              "outlinewidth": 0,
              "ticks": ""
             }
            },
            "type": "scattergl"
           }
          ],
          "scattermapbox": [
           {
            "marker": {
             "colorbar": {
              "outlinewidth": 0,
              "ticks": ""
             }
            },
            "type": "scattermapbox"
           }
          ],
          "scatterpolar": [
           {
            "marker": {
             "colorbar": {
              "outlinewidth": 0,
              "ticks": ""
             }
            },
            "type": "scatterpolar"
           }
          ],
          "scatterpolargl": [
           {
            "marker": {
             "colorbar": {
              "outlinewidth": 0,
              "ticks": ""
             }
            },
            "type": "scatterpolargl"
           }
          ],
          "scatterternary": [
           {
            "marker": {
             "colorbar": {
              "outlinewidth": 0,
              "ticks": ""
             }
            },
            "type": "scatterternary"
           }
          ],
          "surface": [
           {
            "colorbar": {
             "outlinewidth": 0,
             "ticks": ""
            },
            "colorscale": [
             [
              0,
              "#0d0887"
             ],
             [
              0.1111111111111111,
              "#46039f"
             ],
             [
              0.2222222222222222,
              "#7201a8"
             ],
             [
              0.3333333333333333,
              "#9c179e"
             ],
             [
              0.4444444444444444,
              "#bd3786"
             ],
             [
              0.5555555555555556,
              "#d8576b"
             ],
             [
              0.6666666666666666,
              "#ed7953"
             ],
             [
              0.7777777777777778,
              "#fb9f3a"
             ],
             [
              0.8888888888888888,
              "#fdca26"
             ],
             [
              1,
              "#f0f921"
             ]
            ],
            "type": "surface"
           }
          ],
          "table": [
           {
            "cells": {
             "fill": {
              "color": "#EBF0F8"
             },
             "line": {
              "color": "white"
             }
            },
            "header": {
             "fill": {
              "color": "#C8D4E3"
             },
             "line": {
              "color": "white"
             }
            },
            "type": "table"
           }
          ]
         },
         "layout": {
          "annotationdefaults": {
           "arrowcolor": "#2a3f5f",
           "arrowhead": 0,
           "arrowwidth": 1
          },
          "autotypenumbers": "strict",
          "coloraxis": {
           "colorbar": {
            "outlinewidth": 0,
            "ticks": ""
           }
          },
          "colorscale": {
           "diverging": [
            [
             0,
             "#8e0152"
            ],
            [
             0.1,
             "#c51b7d"
            ],
            [
             0.2,
             "#de77ae"
            ],
            [
             0.3,
             "#f1b6da"
            ],
            [
             0.4,
             "#fde0ef"
            ],
            [
             0.5,
             "#f7f7f7"
            ],
            [
             0.6,
             "#e6f5d0"
            ],
            [
             0.7,
             "#b8e186"
            ],
            [
             0.8,
             "#7fbc41"
            ],
            [
             0.9,
             "#4d9221"
            ],
            [
             1,
             "#276419"
            ]
           ],
           "sequential": [
            [
             0,
             "#0d0887"
            ],
            [
             0.1111111111111111,
             "#46039f"
            ],
            [
             0.2222222222222222,
             "#7201a8"
            ],
            [
             0.3333333333333333,
             "#9c179e"
            ],
            [
             0.4444444444444444,
             "#bd3786"
            ],
            [
             0.5555555555555556,
             "#d8576b"
            ],
            [
             0.6666666666666666,
             "#ed7953"
            ],
            [
             0.7777777777777778,
             "#fb9f3a"
            ],
            [
             0.8888888888888888,
             "#fdca26"
            ],
            [
             1,
             "#f0f921"
            ]
           ],
           "sequentialminus": [
            [
             0,
             "#0d0887"
            ],
            [
             0.1111111111111111,
             "#46039f"
            ],
            [
             0.2222222222222222,
             "#7201a8"
            ],
            [
             0.3333333333333333,
             "#9c179e"
            ],
            [
             0.4444444444444444,
             "#bd3786"
            ],
            [
             0.5555555555555556,
             "#d8576b"
            ],
            [
             0.6666666666666666,
             "#ed7953"
            ],
            [
             0.7777777777777778,
             "#fb9f3a"
            ],
            [
             0.8888888888888888,
             "#fdca26"
            ],
            [
             1,
             "#f0f921"
            ]
           ]
          },
          "colorway": [
           "#636efa",
           "#EF553B",
           "#00cc96",
           "#ab63fa",
           "#FFA15A",
           "#19d3f3",
           "#FF6692",
           "#B6E880",
           "#FF97FF",
           "#FECB52"
          ],
          "font": {
           "color": "#2a3f5f"
          },
          "geo": {
           "bgcolor": "white",
           "lakecolor": "white",
           "landcolor": "#E5ECF6",
           "showlakes": true,
           "showland": true,
           "subunitcolor": "white"
          },
          "hoverlabel": {
           "align": "left"
          },
          "hovermode": "closest",
          "mapbox": {
           "style": "light"
          },
          "paper_bgcolor": "white",
          "plot_bgcolor": "#E5ECF6",
          "polar": {
           "angularaxis": {
            "gridcolor": "white",
            "linecolor": "white",
            "ticks": ""
           },
           "bgcolor": "#E5ECF6",
           "radialaxis": {
            "gridcolor": "white",
            "linecolor": "white",
            "ticks": ""
           }
          },
          "scene": {
           "xaxis": {
            "backgroundcolor": "#E5ECF6",
            "gridcolor": "white",
            "gridwidth": 2,
            "linecolor": "white",
            "showbackground": true,
            "ticks": "",
            "zerolinecolor": "white"
           },
           "yaxis": {
            "backgroundcolor": "#E5ECF6",
            "gridcolor": "white",
            "gridwidth": 2,
            "linecolor": "white",
            "showbackground": true,
            "ticks": "",
            "zerolinecolor": "white"
           },
           "zaxis": {
            "backgroundcolor": "#E5ECF6",
            "gridcolor": "white",
            "gridwidth": 2,
            "linecolor": "white",
            "showbackground": true,
            "ticks": "",
            "zerolinecolor": "white"
           }
          },
          "shapedefaults": {
           "line": {
            "color": "#2a3f5f"
           }
          },
          "ternary": {
           "aaxis": {
            "gridcolor": "white",
            "linecolor": "white",
            "ticks": ""
           },
           "baxis": {
            "gridcolor": "white",
            "linecolor": "white",
            "ticks": ""
           },
           "bgcolor": "#E5ECF6",
           "caxis": {
            "gridcolor": "white",
            "linecolor": "white",
            "ticks": ""
           }
          },
          "title": {
           "x": 0.05
          },
          "xaxis": {
           "automargin": true,
           "gridcolor": "white",
           "linecolor": "white",
           "ticks": "",
           "title": {
            "standoff": 15
           },
           "zerolinecolor": "white",
           "zerolinewidth": 2
          },
          "yaxis": {
           "automargin": true,
           "gridcolor": "white",
           "linecolor": "white",
           "ticks": "",
           "title": {
            "standoff": 15
           },
           "zerolinecolor": "white",
           "zerolinewidth": 2
          }
         }
        },
        "title": {
         "text": "World map of the number of articles and the click count per country before scaling"
        }
       }
      }
     },
     "metadata": {},
     "output_type": "display_data"
    }
   ],
   "source": [
    "# Account for the number of articles per country\n",
    "clicks_sclaled = country_clicks.scaled_click_count.tolist()\n",
    "\n",
    "# size of nodes is proportional to the scaled click count \n",
    "size_scaler = MinMaxScaler(feature_range=(9, 337))\n",
    "node_sizes_scaled = size_scaler.fit_transform([[count] for count in clicks_sclaled]).flatten()\n",
    "\n",
    "# Main plot - World map but with scaled click count\n",
    "# Create the nodes\n",
    "node_trace = go.Scattergeo(\n",
    "    lon=longitudes,\n",
    "    lat=latitudes,\n",
    "    text=countries,\n",
    "    mode='markers',\n",
    "    marker=dict(\n",
    "        size=node_sizes_scaled/4,\n",
    "        color=colors_hex,\n",
    "        line=dict(width=0.5, color='rgb(40,40,40)')\n",
    "    ),\n",
    "    hovertemplate='<b>Country:</b> %{text}<br>' +\n",
    "                  '<b>Articles:</b> %{customdata[0]}<br>' +\n",
    "                  '<b>Clicks:</b> %{customdata[1]}<extra></extra>',\n",
    "    customdata=np.column_stack((num_articles, clicks_sclaled))\n",
    ")\n",
    "\n",
    "# Create the world map\n",
    "layout = go.Layout(\n",
    "    title='World map of the number of articles and the click count per country before scaling',\n",
    "    showlegend=False,\n",
    "    geo=dict(\n",
    "        scope='world',\n",
    "        projection_type='equirectangular',\n",
    "        showland=True,\n",
    "        landcolor='rgb(243, 243, 243)',\n",
    "    ),\n",
    ")\n",
    "\n",
    "# Create the figure\n",
    "fig = go.Figure(data=[node_trace], layout=layout)\n",
    "\n",
    "# Show the plot\n",
    "fig.show()\n",
    "fig.write_html(\"world_counts_and_articles_after_scaling.html\")"
   ]
  }
 ],
 "metadata": {
  "kernelspec": {
   "display_name": "ada",
   "language": "python",
   "name": "python3"
  },
  "language_info": {
   "codemirror_mode": {
    "name": "ipython",
    "version": 3
   },
   "file_extension": ".py",
   "mimetype": "text/x-python",
   "name": "python",
   "nbconvert_exporter": "python",
   "pygments_lexer": "ipython3",
   "version": "3.11.9"
  }
 },
 "nbformat": 4,
 "nbformat_minor": 2
}
