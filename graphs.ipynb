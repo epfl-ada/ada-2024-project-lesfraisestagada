{
 "cells": [
  {
   "cell_type": "markdown",
   "metadata": {},
   "source": [
    "# Imports"
   ]
  },
  {
   "cell_type": "code",
   "execution_count": 2,
   "metadata": {},
   "outputs": [],
   "source": [
    "%load_ext autoreload\n",
    "%autoreload 2"
   ]
  },
  {
   "cell_type": "code",
   "execution_count": 31,
   "metadata": {},
   "outputs": [
    {
     "name": "stderr",
     "output_type": "stream",
     "text": [
      "C:\\Users\\fricl\\AppData\\Local\\Temp\\ipykernel_17568\\634483913.py:7: DeprecationWarning: Importing display from IPython.core.display is deprecated since IPython 7.14, please import from IPython display\n",
      "  from IPython.core.display import display, HTML\n"
     ]
    }
   ],
   "source": [
    "import matplotlib.pyplot as plt\n",
    "import pandas as pd\n",
    "\n",
    "import networkx as nx\n",
    "from pyvis.network import Network\n",
    "\n",
    "from IPython.core.display import display, HTML\n",
    "\n",
    "from sklearn.preprocessing import MinMaxScaler\n",
    "\n",
    "import base64\n",
    "from io import BytesIO"
   ]
  },
  {
   "cell_type": "code",
   "execution_count": 4,
   "metadata": {},
   "outputs": [],
   "source": [
    "#!pip install pyvis\n",
    "#!pip install jinja2"
   ]
  },
  {
   "cell_type": "markdown",
   "metadata": {},
   "source": [
    "[Tutorial](https://pyvis.readthedocs.io/en/latest/tutorial.html#getting-started)"
   ]
  },
  {
   "cell_type": "code",
   "execution_count": 50,
   "metadata": {},
   "outputs": [],
   "source": [
    "data = pd.read_csv(\"data/country_clicks_links.csv\", index_col=0)\n",
    "articles = data.index.tolist()\n",
    "clicks = [f\"{data.click_count.iloc[i]} clicks\" for i in range(len(articles))]\n",
    "\n",
    "country_clicks = data.groupby('Top_1_name')['click_count'].sum().reset_index()\n",
    "top_1_counts = data['Top_1_name'].value_counts()\n",
    "country_clicks['occurrences'] = country_clicks['Top_1_name'].map(top_1_counts)\n",
    "country_clicks[\"scaled_click_count\"] = country_clicks[\"click_count\"] / country_clicks[\"occurrences\"]\n",
    "\n",
    "countries = country_clicks.Top_1_name.tolist()\n",
    "clicks = country_clicks.scaled_click_count.tolist()\n",
    "#clicks = country_clicks.click_count.tolist()\n",
    "clicks_label = [f\"{clicks[i]} clicks\" for i in range(len(clicks))]\n",
    "num_articles = country_clicks.occurrences.tolist()"
   ]
  },
  {
   "cell_type": "code",
   "execution_count": 43,
   "metadata": {},
   "outputs": [
    {
     "data": {
      "text/html": [
       "<div>\n",
       "<style scoped>\n",
       "    .dataframe tbody tr th:only-of-type {\n",
       "        vertical-align: middle;\n",
       "    }\n",
       "\n",
       "    .dataframe tbody tr th {\n",
       "        vertical-align: top;\n",
       "    }\n",
       "\n",
       "    .dataframe thead th {\n",
       "        text-align: right;\n",
       "    }\n",
       "</style>\n",
       "<table border=\"1\" class=\"dataframe\">\n",
       "  <thead>\n",
       "    <tr style=\"text-align: right;\">\n",
       "      <th></th>\n",
       "      <th>Top_1_name</th>\n",
       "      <th>click_count</th>\n",
       "      <th>occurrences</th>\n",
       "      <th>scaled_click_count</th>\n",
       "    </tr>\n",
       "  </thead>\n",
       "  <tbody>\n",
       "    <tr>\n",
       "      <th>6</th>\n",
       "      <td>antarctica</td>\n",
       "      <td>8066</td>\n",
       "      <td>24</td>\n",
       "      <td>336.083333</td>\n",
       "    </tr>\n",
       "    <tr>\n",
       "      <th>73</th>\n",
       "      <td>gibraltar</td>\n",
       "      <td>1753</td>\n",
       "      <td>6</td>\n",
       "      <td>292.166667</td>\n",
       "    </tr>\n",
       "    <tr>\n",
       "      <th>102</th>\n",
       "      <td>kuwait</td>\n",
       "      <td>778</td>\n",
       "      <td>3</td>\n",
       "      <td>259.333333</td>\n",
       "    </tr>\n",
       "    <tr>\n",
       "      <th>160</th>\n",
       "      <td>russia</td>\n",
       "      <td>13688</td>\n",
       "      <td>83</td>\n",
       "      <td>164.915663</td>\n",
       "    </tr>\n",
       "    <tr>\n",
       "      <th>100</th>\n",
       "      <td>kenya</td>\n",
       "      <td>1803</td>\n",
       "      <td>11</td>\n",
       "      <td>163.909091</td>\n",
       "    </tr>\n",
       "    <tr>\n",
       "      <th>...</th>\n",
       "      <td>...</td>\n",
       "      <td>...</td>\n",
       "      <td>...</td>\n",
       "      <td>...</td>\n",
       "    </tr>\n",
       "    <tr>\n",
       "      <th>120</th>\n",
       "      <td>martinique</td>\n",
       "      <td>26</td>\n",
       "      <td>2</td>\n",
       "      <td>13.000000</td>\n",
       "    </tr>\n",
       "    <tr>\n",
       "      <th>9</th>\n",
       "      <td>aruba</td>\n",
       "      <td>26</td>\n",
       "      <td>2</td>\n",
       "      <td>13.000000</td>\n",
       "    </tr>\n",
       "    <tr>\n",
       "      <th>27</th>\n",
       "      <td>british indian ocean territory</td>\n",
       "      <td>12</td>\n",
       "      <td>1</td>\n",
       "      <td>12.000000</td>\n",
       "    </tr>\n",
       "    <tr>\n",
       "      <th>190</th>\n",
       "      <td>togo</td>\n",
       "      <td>31</td>\n",
       "      <td>3</td>\n",
       "      <td>10.333333</td>\n",
       "    </tr>\n",
       "    <tr>\n",
       "      <th>191</th>\n",
       "      <td>tokelau</td>\n",
       "      <td>19</td>\n",
       "      <td>2</td>\n",
       "      <td>9.500000</td>\n",
       "    </tr>\n",
       "  </tbody>\n",
       "</table>\n",
       "<p>212 rows × 4 columns</p>\n",
       "</div>"
      ],
      "text/plain": [
       "                         Top_1_name  click_count  occurrences  \\\n",
       "6                        antarctica         8066           24   \n",
       "73                        gibraltar         1753            6   \n",
       "102                          kuwait          778            3   \n",
       "160                          russia        13688           83   \n",
       "100                           kenya         1803           11   \n",
       "..                              ...          ...          ...   \n",
       "120                      martinique           26            2   \n",
       "9                             aruba           26            2   \n",
       "27   british indian ocean territory           12            1   \n",
       "190                            togo           31            3   \n",
       "191                         tokelau           19            2   \n",
       "\n",
       "     scaled_click_count  \n",
       "6            336.083333  \n",
       "73           292.166667  \n",
       "102          259.333333  \n",
       "160          164.915663  \n",
       "100          163.909091  \n",
       "..                  ...  \n",
       "120           13.000000  \n",
       "9             13.000000  \n",
       "27            12.000000  \n",
       "190           10.333333  \n",
       "191            9.500000  \n",
       "\n",
       "[212 rows x 4 columns]"
      ]
     },
     "execution_count": 43,
     "metadata": {},
     "output_type": "execute_result"
    }
   ],
   "source": [
    "country_clicks.sort_values(by='scaled_click_count', ascending=False)"
   ]
  },
  {
   "cell_type": "markdown",
   "metadata": {},
   "source": [
    "Let's construct a graph in which: \n",
    "- each node is a country \n",
    "- the size of a node is proportional to the click count \n",
    "- the color of a node is proportional to the number of articles on a grey-to-red scale"
   ]
  },
  {
   "cell_type": "code",
   "execution_count": 52,
   "metadata": {},
   "outputs": [
    {
     "name": "stdout",
     "output_type": "stream",
     "text": [
      "Warning: When  cdn_resources is 'local' jupyter notebook has issues displaying graphics on chrome/safari. Use cdn_resources='in_line' or cdn_resources='remote' if you have issues viewing graphics in a notebook.\n",
      "graph_scaled.html\n"
     ]
    },
    {
     "name": "stderr",
     "output_type": "stream",
     "text": [
      "C:\\Users\\fricl\\AppData\\Local\\Temp\\ipykernel_17568\\3119077137.py:5: MatplotlibDeprecationWarning: The get_cmap function was deprecated in Matplotlib 3.7 and will be removed in 3.11. Use ``matplotlib.colormaps[name]`` or ``matplotlib.colormaps.get_cmap()`` or ``pyplot.get_cmap()`` instead.\n",
      "  color_map = plt.cm.get_cmap('Reds')\n"
     ]
    },
    {
     "data": {
      "text/html": [
       "\n",
       "        <iframe\n",
       "            width=\"100%\"\n",
       "            height=\"600px\"\n",
       "            src=\"graph_scaled.html\"\n",
       "            frameborder=\"0\"\n",
       "            allowfullscreen\n",
       "            \n",
       "        ></iframe>\n",
       "        "
      ],
      "text/plain": [
       "<IPython.lib.display.IFrame at 0x25c1c750710>"
      ]
     },
     "execution_count": 52,
     "metadata": {},
     "output_type": "execute_result"
    }
   ],
   "source": [
    "# color of nodes is proportional to number of articles associated with the node (country)\n",
    "scaler = MinMaxScaler()\n",
    "normalized_counts = scaler.fit_transform([[count] for count in num_articles]).flatten()\n",
    "\n",
    "color_map = plt.cm.get_cmap('Reds')\n",
    "colors_hex = [matplotlib.colors.to_hex(color_map(norm)) for norm in normalized_counts]\n",
    "\n",
    "# size of nodes is proportional to the click count \n",
    "size_scaler = MinMaxScaler(feature_range=(9, 337))\n",
    "node_sizes = size_scaler.fit_transform([[count] for count in clicks]).flatten()\n",
    "\n",
    "\n",
    "net = Network(directed=True, \n",
    "              notebook=True, \n",
    "              font_color='#10000000')\n",
    "\n",
    "net.add_nodes(countries, \n",
    "              title=countries, \n",
    "              color=colors_hex, \n",
    "              size=node_sizes)\n",
    "\n",
    "\"\"\"\n",
    "# Let's add edges between articles that are connected in Wikipedia\n",
    "for i, article1 in enumerate(articles[:50]):\n",
    "    print(article1)\n",
    "    name_links_out = country_clicks.name_links_out.iloc[i]\n",
    "    print(name_links_out)\n",
    "\n",
    "    if pd.notna(name_links_out):\n",
    "        for article2 in articles[:50]: \n",
    "            if article2 in name_links_out:\n",
    "                print(article2, \"is an out link from\", article1)\n",
    "                net.add_edge(article1, article2)\n",
    "        print(\"---------\")\n",
    "\"\"\"\n",
    "\n",
    "net.show(\"graph_scaled.html\")"
   ]
  }
 ],
 "metadata": {
  "kernelspec": {
   "display_name": "ada",
   "language": "python",
   "name": "python3"
  },
  "language_info": {
   "codemirror_mode": {
    "name": "ipython",
    "version": 3
   },
   "file_extension": ".py",
   "mimetype": "text/x-python",
   "name": "python",
   "nbconvert_exporter": "python",
   "pygments_lexer": "ipython3",
   "version": "3.11.10"
  }
 },
 "nbformat": 4,
 "nbformat_minor": 2
}
