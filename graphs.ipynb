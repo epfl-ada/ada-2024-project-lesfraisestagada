{
 "cells": [
  {
   "cell_type": "markdown",
   "metadata": {},
   "source": [
    "# Imports"
   ]
  },
  {
   "cell_type": "code",
   "execution_count": 1,
   "metadata": {},
   "outputs": [],
   "source": [
    "%load_ext autoreload\n",
    "%autoreload 2"
   ]
  },
  {
   "cell_type": "code",
   "execution_count": 94,
   "metadata": {},
   "outputs": [],
   "source": [
    "import matplotlib.pyplot as plt\n",
    "import matplotlib\n",
    "import pandas as pd\n",
    "\n",
    "import plotly.express as px\n",
    "\n",
    "from pyvis.network import Network\n",
    "import plotly.graph_objects as go\n",
    "from geopy.geocoders import Nominatim\n",
    "\n",
    "from sklearn.preprocessing import MinMaxScaler"
   ]
  },
  {
   "cell_type": "code",
   "execution_count": 1,
   "metadata": {},
   "outputs": [],
   "source": [
    "#!pip install pyvis\n",
    "#!pip install jinja2\n",
    "#!pip install geopy"
   ]
  },
  {
   "cell_type": "markdown",
   "metadata": {},
   "source": [
    "## Questions of interest \n",
    "\n",
    "0) What are the most clicked articles?\n",
    "1) What is the distribution of countries in the Wikipedia graph? \n",
    "2) What is the distribution of countries among start and stop articles? \n",
    "3) What is the distribution of in and out degrees per country? "
   ]
  },
  {
   "cell_type": "markdown",
   "metadata": {},
   "source": [
    "## 0. What are the most clicked articles? "
   ]
  },
  {
   "cell_type": "markdown",
   "metadata": {},
   "source": [
    "Let's first import the data `country_clicks_links.csv` with which we will be working."
   ]
  },
  {
   "cell_type": "code",
   "execution_count": 25,
   "metadata": {},
   "outputs": [],
   "source": [
    "data = pd.read_csv(\"data/country_clicks_links.csv\", index_col=0)"
   ]
  },
  {
   "cell_type": "markdown",
   "metadata": {},
   "source": [
    "Now we define the variables that we need."
   ]
  },
  {
   "cell_type": "code",
   "execution_count": 96,
   "metadata": {},
   "outputs": [],
   "source": [
    "data_sorted = data.sort_values(by='click_count', ascending=False)\n",
    "data_sorted = data_sorted[data_sorted['click_count'] != 0]\n",
    "articles = data_sorted.index.tolist()\n",
    "click_count = data_sorted.click_count.tolist()\n",
    "in_degree = data_sorted.num_links_in.tolist()\n",
    "out_degree = data_sorted.num_links_out.tolist()"
   ]
  },
  {
   "cell_type": "markdown",
   "metadata": {},
   "source": [
    "Let's construct a graph in which: \n",
    "- each node is an article\n",
    "    - 20 most clicked articles \n",
    "    - 20 least clicked articles "
   ]
  },
  {
   "cell_type": "code",
   "execution_count": 102,
   "metadata": {},
   "outputs": [],
   "source": [
    "most_clicked_articles = articles[:20]\n",
    "most_clicked_counts = click_count[:20]\n",
    "most_in_degree = in_degree[:20]\n",
    "most_out_degree = out_degree[:20]\n",
    "\n",
    "least_clicked_articles = articles[-20:]\n",
    "least_clicked_counts = click_count[-20:]\n",
    "least_in_degree = in_degree[-20:]\n",
    "least_out_degree = out_degree[-20:]"
   ]
  },
  {
   "cell_type": "markdown",
   "metadata": {},
   "source": [
    "- the size and color of a node is proportional to the number of clicks associtated to that node\n",
    "- each edge represents an out link\n",
    "\n",
    "We are also interested in the in and out degree of each article\n",
    "- in degree = num_links_in \n",
    "- out degree = num_links_out"
   ]
  },
  {
   "cell_type": "markdown",
   "metadata": {},
   "source": [
    "Let's first look at the most clicked articles:"
   ]
  },
  {
   "cell_type": "code",
   "execution_count": 101,
   "metadata": {},
   "outputs": [
    {
     "name": "stdout",
     "output_type": "stream",
     "text": [
      "Warning: When  cdn_resources is 'local' jupyter notebook has issues displaying graphics on chrome/safari. Use cdn_resources='in_line' or cdn_resources='remote' if you have issues viewing graphics in a notebook.\n",
      "United_States\n",
      "['Abraham_Lincoln', 'Advertising', 'Agriculture', 'American_Civil_War', 'American_English', 'American_Revolutionary_War', 'American_Samoa', 'American_football', 'American_popular_music', 'Amtrak', 'Anguilla', 'Antarctica', 'Antigua_and_Barbuda', 'Apollo_11', 'Arctic_Ocean', 'Argentina', 'Aruba', 'Atlanta%2C_Georgia', 'Atlantic_Ocean', 'Attack_on_Pearl_Harbor', 'Auto_racing', 'Bah%C3%A1%27%C3%AD_Faith', 'Baker_Island', 'Bald_Eagle', 'Baltimore%2C_Maryland', 'Barbados', 'Baseball', 'Basketball', 'Battle_of_Gettysburg', 'Belize', 'Benin', 'Bermuda', 'Boston%2C_Massachusetts', 'Brazil', 'British_Virgin_Islands', 'Broadcasting', 'Brunei', 'Buddhism', 'C%C3%B4te_d%27Ivoire', 'California', 'Cambodia', 'Cameroon', 'Canada', 'Cape_Verde', 'Capitalism', 'Caribbean_Sea', 'Cayman_Islands', 'Chicago', 'China', 'Chinese_language', 'Christopher_Columbus', 'Cinema_of_the_United_States', 'Coal', 'Cold_War', 'Colombia', 'Communism', 'Computer', 'Corporation', 'Costa_Rica', 'Country', 'Crime', 'Cuba', 'Currency', 'Dallas%2C_Texas', 'Denmark', 'Denver%2C_Colorado', 'Desert', 'Detroit%2C_Michigan', 'Dominica', 'Dominican_Republic', 'Ecuador', 'Education', 'Education_in_the_United_States', 'El_Salvador', 'Electronics', 'Elvis_Presley', 'Equatorial_Guinea', 'Erie_Canal', 'Ethnic_group', 'Europe', 'Federal_Bureau_of_Investigation', 'Federated_States_of_Micronesia', 'Film', 'Finance', 'Fine_art', 'Florida', 'Football_%28soccer%29', 'France', 'French_Guiana', 'French_language', 'Gabon', 'George_W._Bush', 'George_Washington', 'German_language', 'Germany', 'Ghana', 'Gibraltar', 'Grand_Canyon', 'Great_Lakes', 'Greece', 'Greenland', 'Grenada', 'Guadeloupe', 'Guam', 'Guatemala', 'Guernsey', 'Guinea', 'Guinea-Bissau', 'Gulf_of_Mexico', 'Guyana', 'Haiti', 'Hinduism', 'Hip_hop_music', 'History_of_slavery', 'Holy_Roman_Empire', 'Honduras', 'Hong_Kong', 'Household_income_in_the_United_States', 'Houston%2C_Texas', 'Howland_Island', 'Ice_hockey', 'Iceland', 'India', 'Indonesia', 'International_Red_Cross_and_Red_Crescent_Movement', 'Internet', 'Interpol', 'Iran', 'Iraq', 'Irish_people', 'Islam', 'Isle_of_Man', 'Italy', 'Jamaica', 'Japan', 'Jarvis_Island', 'Jazz', 'Jersey', 'John_F._Kennedy', 'Johnston_Atoll', 'Judaism', 'Kingman_Reef', 'Kiribati', 'Las_Vegas%2C_Nevada', 'Latin', 'Latin_America', 'Liberal_democracy', 'Liberia', 'List_of_areas_in_the_National_Park_System_of_the_United_States', 'List_of_countries', 'List_of_countries_by_system_of_government', 'List_of_rivers_by_length', 'List_of_sovereign_states', 'Los_Angeles%2C_California', 'Macau', 'Maize', 'Malaysia', 'Manifest_Destiny', 'Marshall_Islands', 'Martin_Luther_King%2C_Jr.', 'Martinique', 'Mauritania', 'Medicine', 'Mexico', 'Miami%2C_Florida', 'Middle_East', 'Midway_Atoll', 'Mining', 'Minneapolis%2C_Minnesota', 'Minnesota', 'Mississippi_River', 'Missouri_River', 'Montserrat', 'Moon', 'Morocco', 'Multiculturalism', 'Music_of_the_United_States', 'NATO', 'Natural_gas', 'Navassa_Island', 'Neil_Armstrong', 'Netherlands', 'Netherlands_Antilles', 'New_York_City', 'Nicaragua', 'Nigeria', 'North_Africa', 'North_America', 'North_Korea', 'Northern_Mariana_Islands', 'Nuclear_power', 'Nuclear_weapon', 'Oceania', 'Olympic_Games', 'Oregon', 'Pacific_Ocean', 'Palau', 'Palmyra_Atoll', 'Panama', 'Peace', 'People%27s_Republic_of_China', 'Peru', 'Petroleum', 'Philadelphia', 'Philippines', 'Plymouth', 'Poetry_of_the_United_States', 'Poland', 'Portugal', 'Potato', 'President_of_the_United_States', 'Property', 'Publishing', 'Puerto_Rico', 'Qatar', 'Religious_Society_of_Friends', 'Republic_of_China', 'Republic_of_Ireland', 'Republic_of_the_Congo', 'Rhode_Island', 'Rhythm_and_blues', 'Rice', 'Rocky_Mountains', 'Russia', 'S%C3%A3o_Tom%C3%A9_and_Pr%C3%ADncipe', 'Saint-Pierre_and_Miquelon', 'Saint_Kitts_and_Nevis', 'Saint_Lucia', 'Saint_Vincent_and_the_Grenadines', 'San_Francisco%2C_California', 'Seattle%2C_Washington', 'Senegal', 'September_11%2C_2001_attacks', 'Sequoia', 'Sierra_Leone', 'Sikhism', 'Singapore', 'Slovakia', 'South_Korea', 'Southern_United_States', 'Soviet_Union', 'Space_Shuttle_Columbia', 'Spain', 'Spanish_language', 'Sport', 'Steel', 'Sudan', 'Supreme_Court_of_the_United_States', 'Suriname', 'Sweden', 'Tanzania', 'Television', 'Tennis', 'Terrorism', 'Thailand', 'The_Bahamas', 'The_Gambia', 'Thomas_Jefferson', 'Time_zone', 'Togo', 'Tourism', 'Treaty_of_Versailles', 'Trinidad_and_Tobago', 'Turkey_%28bird%29', 'Turks_and_Caicos_Islands', 'U.S._state', 'United_Kingdom', 'United_Nations', 'United_States_Bill_of_Rights', 'United_States_Congress', 'United_States_Constitution', 'United_States_Declaration_of_Independence', 'United_States_House_of_Representatives', 'United_States_Senate', 'United_States_Virgin_Islands', 'United_States_dollar', 'Venezuela', 'Vietnam', 'Vietnam_War', 'Volcano', 'Wake_Island', 'Wall_Street', 'Walt_Whitman', 'War', 'Washington%2C_D.C.', 'West_Virginia', 'Western_Sahara', 'Wheat', 'World_Health_Organization', 'World_Heritage_Site', 'World_Trade_Organization', 'World_War_I', 'World_War_II', 'Yellowstone_National_Park']\n",
      "Europe\n",
      "['18th_century', 'Africa', 'Albania', 'Amsterdam', 'Ancient_Greece', 'Andorra', 'Anglicanism', 'Arabic_language', 'Arctic_Ocean', 'Armenia', 'Asia', 'Athens', 'Atlantic_Ocean', 'Austria', 'Azerbaijan', 'Baltic_Sea', 'Barcelona', 'Belarus', 'Belgium', 'Berlin', 'Berlin_Wall', 'Black_Sea', 'Bosnia_and_Herzegovina', 'Bratislava', 'British_Isles', 'Brussels', 'Bucharest', 'Budapest', 'Buddhism', 'Bulgaria', 'Byzantine_Empire', 'Capital', 'Carnivore', 'Caspian_Sea', 'Christianity', 'Cold_War', 'Communism', 'Copenhagen', 'Croatia', 'Crustacean', 'Culture', 'Cyprus', 'Czech_Republic', 'Dark_Ages', 'Democracy', 'Denmark', 'Dolphin', 'Dublin', 'Earth', 'England', 'Estonia', 'European_Union', 'Faroe_Islands', 'Finland', 'Fish', 'Flanders', 'Forest', 'Fox', 'France', 'French_Revolution', 'French_language', 'Geology', 'Georgia_%28country%29', 'Germany', 'Gibraltar', 'Greece', 'Greek_mythology', 'Greenland', 'Guernsey', 'Hawk', 'Hebrew_language', 'Helsinki', 'Herbivore', 'Hinduism', 'Holy_Roman_Empire', 'Homer', 'Hungary', 'Ice_age', 'Iceland', 'India', 'Industrial_Revolution', 'Iran', 'Iraq', 'Ireland', 'Islam', 'Isle_of_Man', 'Italy', 'Jackal', 'Jersey', 'Judaism', 'Kazakhstan', 'Kiev', 'Kosovo', 'Latin', 'Latvia', 'Liechtenstein', 'Lisbon', 'Lithuania', 'London', 'Luxembourg', 'Luxembourg_%28city%29', 'Madrid', 'Malta', 'Mammal', 'Mediterranean_Sea', 'Middle_Ages', 'Middle_East', 'Moldova', 'Monaco', 'Montenegro', 'Moscow', 'NATO', 'Napoleon_I_of_France', 'Netherlands', 'North_America', 'North_Sea', 'Northern_Ireland', 'Norway', 'Oslo', 'Ottoman_Empire', 'Owl', 'Paris', 'Poland', 'Portugal', 'Prague', 'Rainforest', 'Renaissance', 'Republic_of_Ireland', 'Republic_of_Macedonia', 'Romania', 'Rome', 'Russia', 'San_Marino', 'Sarajevo', 'Scotland', 'Serbia', 'Sikhism', 'Slovakia', 'Slovenia', 'Soviet_Union', 'Spain', 'Stockholm', 'Suez_Canal', 'Svalbard', 'Sweden', 'Switzerland', 'Syria', 'Turkey', 'Turkish_Republic_of_Northern_Cyprus', 'Ukraine', 'United_Kingdom', 'United_Nations', 'Vatican_City', 'Vienna', 'Wales', 'Warsaw', 'Wild_cat', 'World_War_II', 'Zeus']\n",
      "United_Kingdom\n",
      "['Acts_of_Union_1707', 'Adam_Smith', 'Airbus', 'Anglican_Communion', 'Anne_of_Great_Britain', 'Archbishop_of_Canterbury', 'Arctic_Monkeys', 'Argentina', 'Arsenal_F.C.', 'Atlantic_Ocean', 'BAE_Systems', 'Bangladesh', 'Belfast', 'Ben_Jonson', 'Ben_Nevis', 'Benjamin_Britten', 'Bermuda', 'Bertrand_Russell', 'Bicycle', 'British_Empire', 'British_House_of_Commons', 'British_Isles', 'British_monarchy', 'Buckingham_Palace', 'Canada', 'Canterbury_Cathedral', 'Capitalism', 'Cardiff', 'Celtic_F.C.', 'Channel_Islands', 'Charles_Darwin', 'Charles_Dickens', 'Charles_II_of_England', 'Chelsea_F.C.', 'Christianity', 'Christopher_Wren', 'Church_of_England', 'Church_of_Ireland', 'City_status_in_the_United_Kingdom', 'Computer', 'Constitutional_monarchy', 'Cotswolds', 'Cricket', 'Currency', 'DNA', 'Damon_Hill', 'Earth', 'Edinburgh', 'Electron', 'Elizabeth_II_of_the_United_Kingdom', 'England', 'English_Channel', 'English_language', 'Euro', 'Europe', 'European_Union', 'Football_%28soccer%29', 'Formula_One', 'France', 'Francis_Crick', 'French_language', 'Germany', 'Giant%27s_Causeway', 'Gibraltar', 'Glasgow', 'GlaxoSmithKline', 'Gordon_Brown', 'Grand_Slam_%28tennis%29', 'Gravitation', 'Great_Britain', 'Guernsey', 'HSBC', 'Hebrides', 'Henry_Purcell', 'Henry_VIII_of_England', 'Hindi', 'Hinduism', 'House_of_Lords', 'Hydrogen', 'India', 'Industrial_Revolution', 'Ireland', 'Irish_Sea', 'Iron_Maiden', 'Isambard_Kingdom_Brunel', 'Islam', 'Isle_of_Man', 'Italy', 'J._K._Rowling', 'J._M._W._Turner', 'J._R._R._Tolkien', 'James_Clerk_Maxwell', 'Jane_Austen', 'Jersey', 'Jet_engine', 'John_Milton', 'Judaism', 'Kylie_Minogue', 'Lake_District', 'Latin', 'Laws_in_Wales_Acts_1535%E2%80%931542', 'Lion', 'List_of_countries_by_system_of_government', 'Liverpool_F.C.', 'Local_government_in_the_United_Kingdom', 'Loch', 'London', 'Manchester_United_F.C.', 'Market', 'Michael_Faraday', 'Monarchy', 'Montserrat', 'NATO', 'Natural_gas', 'North_Sea', 'Northern_Ireland', 'Novel', 'Oasis_%28band%29', 'Olympic_Games', 'Opera', 'Orkney', 'Pakistan', 'Palace_of_Westminster', 'Parliament_of_the_United_Kingdom', 'Parliamentary_system', 'Peak_District', 'Petroleum', 'Plymouth', 'Pound_sterling', 'Prime_Minister_of_the_United_Kingdom', 'Principality', 'Queen_%28band%29', 'Republic_of_Ireland', 'River_Thames', 'Roman_Britain', 'Royal_Air_Force', 'Royal_Marines', 'Royal_Navy', 'Rugby_World_Cup', 'Rugby_football', 'Saint_Helena', 'Scotland', 'Scots_language', 'Scottish_Gaelic_language', 'Scottish_Highlands', 'Sikhism', 'Somalia', 'Spain', 'Sport', 'Steel', 'T._S._Eliot', 'Television', 'Tennis', 'The_Beatles', 'The_Championships%2C_Wimbledon', 'The_Rolling_Stones', 'Time_zone', 'Tony_Blair', 'Trafalgar_Square', 'United_Nations', 'United_States_dollar', 'University_of_Cambridge', 'Wales', 'Westminster_Abbey', 'William_Shakespeare', 'World_Heritage_Site', 'World_War_I', 'World_War_II']\n",
      "England\n",
      "['10th_century', '19th_century', 'Acts_of_Union_1707', 'Age_of_Enlightenment', 'Alfred_the_Great', 'Anglicanism', 'Anno_Domini', 'Archbishop_of_Canterbury', 'Architecture', 'Atlantic_Ocean', 'BBC', 'Badminton', 'Battle_of_Hastings', 'Bede', 'Belgium', 'Ben_Jonson', 'Benjamin_Britten', 'Birmingham', 'Bridge', 'Brighton', 'Bristol', 'British_Empire', 'British_Isles', 'Bronze_Age', 'Buckingham_Palace', 'Canterbury_Cathedral', 'Canute_the_Great', 'Charles_Darwin', 'Charles_Dickens', 'Chinese_language', 'Christianity', 'Christopher_Wren', 'Church_of_England', 'City', 'Commonwealth_Games', 'Coventry', 'Cricket', 'Crusades', 'Culture', 'Currency', 'Denmark', 'Domesday_Book', 'Drum_and_bass', 'Dutch_language', 'Edward_the_Confessor', 'English_Channel', 'English_language', 'Europe', 'FIFA', 'FIFA_World_Cup', 'Finance', 'Football', 'Football_%28soccer%29', 'France', 'Francis_Bacon', 'French_language', 'Genoa', 'George_Eliot', 'Georgia_%28country%29', 'German_language', 'Germany', 'Great_Britain', 'Greece', 'Gustav_Holst', 'Hebrew_language', 'Henry_I_of_England', 'Henry_Purcell', 'Henry_VIII_of_England', 'Hinduism', 'History_of_Anglo-Saxon_England', 'Indonesian_language', 'Industrial_Revolution', 'Ireland', 'Irish_Sea', 'Iron_Maiden', 'Isambard_Kingdom_Brunel', 'Islam', 'Isle_of_Wight', 'Italy', 'James_I_of_England', 'Jane_Austen', 'Jet_engine', 'John_Constable', 'John_Locke', 'John_Milton', 'King_Arthur', 'L._S._Lowry', 'Lake_District', 'Latin', 'Leeds', 'Leicester', 'Linguistics', 'Lion', 'Liverpool', 'London', 'London_Underground', 'Manchester', 'Mercia', 'Middle_Ages', 'Middle_East', 'Milan', 'National_parks_of_England_and_Wales', 'Netherlands', 'Newcastle_upon_Tyne', 'Norfolk', 'Norman_conquest_of_England', 'North_Sea', 'Northern_Ireland', 'Norway', 'Nottingham', 'Oasis_%28band%29', 'Old_English_language', 'Olympic_Games', 'Oslo', 'Palace_of_Westminster', 'Portsmouth', 'Portuguese_language', 'Pound_sterling', 'Ptolemy', 'Queen_%28band%29', 'Rain', 'Religious_Society_of_Friends', 'Renaissance', 'Republic_of_Ireland', 'Richard_I_of_England', 'River_Severn', 'River_Thames', 'Roman_Empire', 'Rome', 'Royal_Navy', 'Rudyard_Kipling', 'Rugby_football', 'Russian_language', 'Samuel_Taylor_Coleridge', 'Scotland', 'Scots_language', 'Scurvy', 'Season', 'Sheffield', 'Sikhism', 'Snow', 'Socialism', 'Spain', 'Spanish_language', 'Stephen_Hawking', 'Stonehenge', 'Sutton_Hoo', 'Tamil_language', 'Tennis', 'The_Beatles', 'The_Fens', 'The_Rolling_Stones', 'Thomas_Hobbes', 'Tim_Berners-Lee', 'Time_zone', 'Tourism', 'Tower_of_London', 'United_Kingdom', 'Victoria_of_the_United_Kingdom', 'Wales', 'Wars_of_the_Roses', 'Wessex', 'Westminster_Abbey', 'White_cliffs_of_Dover', 'William_Hogarth', 'William_I_of_England', 'William_Shakespeare', 'Wind', 'Windsor_Castle', 'Winston_Churchill', 'Winter', 'York']\n",
      "Earth\n",
      "['Acid_rain', 'Africa', 'Afrikaans', 'Aluminium', 'Animal', 'Antarctica', 'Apollo_8', 'Arabic_language', 'Arctic_Circle', 'Arctic_Ocean', 'Argon', 'Asia', 'Asteroid', 'Atlantic_Ocean', 'Australia', 'Biosphere', 'Calcium', 'Cambrian_explosion', 'Canada', 'Carbon_dioxide', 'Carl_Sagan', 'China', 'Climate', 'Comet', 'Crust_%28geology%29', 'Day', 'Dead_Sea', 'Deity', 'Desert', 'Devonian', 'Dinosaur', 'Drought', 'Dutch_language', 'Earth%27s_atmosphere', 'Earthquake', 'East_Africa', 'Ecuador', 'Energy', 'Europe', 'Evolution', 'Extinction', 'Flat_Earth', 'Flood', 'Food', 'French_language', 'Geography', 'German_language', 'Glacier', 'Global_warming', 'Government', 'Gravitation', 'Greenhouse_effect', 'Hebrew_language', 'Human', 'Hydrogen', 'Ice_age', 'Indian_Ocean', 'International_Space_Station', 'International_law', 'Invasive_species', 'Iron', 'Latin_America', 'Life', 'Lunar_eclipse', 'Magnesium', 'Mammal', 'Meteor', 'Middle_Ages', 'Middle_East', 'Moon', 'Mount_Everest', 'Nickel', 'Nitrogen', 'Norse_mythology', 'North_Africa', 'North_America', 'Ocean', 'Organism', 'Oxygen', 'Pacific_Ocean', 'Photosynthesis', 'Pi', 'Planet', 'Plant', 'Plasma_%28physics%29', 'Plate_tectonics', 'Pluto', 'Pollution', 'Red_giant', 'Russian_language', 'Sanskrit', 'Season', 'Silicon', 'Snowball_Earth', 'Soil', 'Soils_retrogression_and_degradation', 'Solar_System', 'Solar_eclipse', 'South_America', 'Southern_Africa', 'Southern_Ocean', 'Spanish_language', 'Sun', 'Tellurium', 'Temperate', 'Thomas_Aquinas', 'Thor', 'Tide', 'Tornado', 'Tropical_cyclone', 'Tsunami', 'Ultraviolet', 'United_Nations', 'United_States', 'Universe', 'Volcano', 'Water', 'Weather']\n",
      "Africa\n",
      "['Abidjan', 'Abuja', 'Accra', 'Addis_Ababa', 'African_Great_Lakes', 'African_Union', 'Afrikaans', 'Agriculture', 'Algeria', 'Algiers', 'Ancient_Egypt', 'Ancient_Greece', 'Ancient_Rome', 'Anglican_Communion', 'Angola', 'Antananarivo', 'Anthropology', 'Arabic_language', 'Asia', 'Atlantic_Ocean', 'Atlantic_slave_trade', 'Bamako', 'Banjul', 'Bantu', 'Belgium', 'Benin', 'Bissau', 'Botswana', 'Burkina_Faso', 'Burundi', 'C%C3%B4te_d%27Ivoire', 'Cairo', 'Camel', 'Cameroon', 'Cape_Town', 'Cape_Verde', 'Capital', 'Carnivore', 'Central_African_Republic', 'Chad', 'Cheetah', 'China', 'Christianity', 'Civilization', 'Cocoa', 'Coffee', 'Cold_War', 'Comoros', 'Conakry', 'Congo_River', 'Continent', 'Cotton', 'Crocodile', 'Culture', 'Dakar', 'David_Livingstone', 'Deity', 'Democracy', 'Democratic_Republic_of_the_Congo', 'Desert', 'Despotism', 'Diamond', 'Djibouti', 'Earth', 'East_Africa', 'Egypt', 'El_Aai%C3%BAn', 'Elephant', 'English_language', 'Equatorial_Guinea', 'Eritrea', 'Ethiopia', 'Europe', 'Famine', 'Flute', 'Fossil', 'France', 'Freetown', 'French_language', 'Funchal', 'Gabon', 'Gaborone', 'Ghana', 'Giraffe', 'Glacier', 'Gold', 'Great_Pyramid_of_Giza', 'Guinea', 'Guinea-Bissau', 'HIV', 'Harare', 'Henry_Morton_Stanley', 'Herbivore', 'Horn_of_Africa', 'Human', 'Hutu', 'Hyena', 'India', 'Indian_Ocean', 'Irrigation', 'Ishango_bone', 'Islam', 'Jazz', 'Judaism', 'Kenya', 'Khartoum', 'Kigali', 'Lake_Tanganyika', 'Lake_Victoria', 'Language', 'Las_Palmas_de_Gran_Canaria', 'Latin', 'Latin_America', 'Lesotho', 'Liberal_democracy', 'Liberia', 'Libreville', 'Libya', 'Lilongwe', 'Lion', 'Lom%C3%A9', 'Lusaka', 'Madagascar', 'Malawi', 'Mali', 'Maputo', 'Maseru', 'Mauritania', 'Mauritius', 'Mayotte', 'Mbabane', 'Mediterranean_Sea', 'Middle_Ages', 'Military_dictatorship', 'Mitochondrial_Eve', 'Mogadishu', 'Monrovia', 'Morocco', 'Mozambique', 'Nairobi', 'Namibia', 'Netherlands', 'Niger', 'Nigeria', 'Nile', 'North_Africa', 'Nouakchott', 'Ouagadougou', 'Palm_oil', 'Persian_Empire', 'Pope', 'Port_Louis', 'Porto-Novo', 'Portugal', 'Portuguese_language', 'Poverty', 'Praia', 'Pretoria', 'Ptolemy', 'R%C3%A9union', 'Rabat', 'Rainforest', 'Red_Sea', 'Reggae', 'Republic_of_the_Congo', 'Rice', 'Richard_Francis_Burton', 'Royal_Navy', 'Rwanda', 'S%C3%A3o_Tom%C3%A9', 'S%C3%A3o_Tom%C3%A9_and_Pr%C3%ADncipe', 'Saint_Helena', 'Scramble_for_Africa', 'Second_Congo_War', 'Senegal', 'Seychelles', 'Sierra_Leone', 'Somalia', 'Sorghum', 'Soukous', 'South_Africa', 'Southern_Africa', 'Soviet_Union', 'Spain', 'Sub-Saharan_Africa', 'Sudan', 'Suez_Canal', 'Swaziland', 'Tanzania', 'Temperate', 'The_Gambia', 'Timbuktu', 'Togo', 'Tripoli', 'Trumpet', 'Tunis', 'Tunisia', 'Tutsi', 'Uganda', 'United_Kingdom', 'United_Nations', 'United_States', 'United_States_Senate', 'Victoria%2C_Seychelles', 'Western_Sahara', 'World_War_I', 'World_War_II', 'Yamoussoukro', 'Zambia', 'Zheng_He', 'Zimbabwe', 'Zulu']\n",
      "World_War_II\n",
      "['Adolf_Hitler', 'Aircraft', 'Aircraft_carrier', 'Albania', 'Antwerp', 'Armia_Krajowa', 'Attack_on_Pearl_Harbor', 'Austria', 'Baltic_Sea', 'Battle_of_Britain', 'Battle_of_Leyte_Gulf', 'Battle_of_Midway', 'Battle_of_Moscow', 'Battle_of_Normandy', 'Battle_of_Stalingrad', 'Battle_of_the_Bulge', 'Beijing', 'Belgium', 'Benito_Mussolini', 'Blitzkrieg', 'British_Empire', 'Bucharest', 'Bulgaria', 'Canada', 'China', 'Cold_War', 'Communism', 'Damascus', 'Denmark', 'Egypt', 'Election', 'English_Channel', 'Enigma_machine', 'Erwin_Rommel', 'Estonia', 'Europe', 'Finland', 'Flanders', 'France', 'Franklin_D._Roosevelt', 'Germany', 'Gibraltar', 'Great_Britain', 'Guam', 'Harry_S._Truman', 'Hirohito', 'Ho_Chi_Minh_City', 'Hong_Kong', 'Hungary', 'Imperial_Japanese_Navy', 'India', 'Iraq', 'Israel', 'Japan', 'Japanese_war_crimes', 'Jet_engine', 'Jew', 'Joseph_Stalin', 'Korea', 'Latvia', 'League_of_Nations', 'Lebanon', 'Libya', 'Lithuania', 'Luftwaffe', 'Luxembourg', 'Malta', 'Mao_Zedong', 'Marshall_Islands', 'Marshall_Plan', 'Milan', 'Montevideo', 'Moscow', 'Myanmar', 'Naval_Battle_of_Guadalcanal', 'Nazi_Germany', 'Nazism', 'Netherlands', 'New_Zealand', 'North_Africa', 'North_Korea', 'Norway', 'Nuclear_weapon', 'Pakistan', 'Paris', 'People%27s_Republic_of_China', 'Philippines', 'Poland', 'Prime_Minister_of_the_United_Kingdom', 'Radar', 'Republic_of_China', 'Rhine', 'Romania', 'Rome', 'Royal_Air_Force', 'Royal_Navy', 'San_Francisco%2C_California', 'Singapore', 'Slavery', 'Solomon_Islands', 'Soviet_Union', 'Suez_Canal', 'Supermarine_Spitfire', 'Syria', 'Taiwan', 'Tank', 'The_Blitz', 'The_Holocaust', 'Treaty_of_Versailles', 'Tunisia', 'United_Kingdom', 'United_Nations', 'United_States', 'United_States_Congress', 'Vietnam', 'War', 'Warsaw', 'Winston_Churchill', 'Yugoslavia']\n",
      "North_America\n",
      "['Africa', 'Anguilla', 'Antigua_and_Barbuda', 'Arctic_Ocean', 'Aruba', 'Asia', 'Atlantic_Ocean', 'Barbados', 'Belize', 'Bermuda', 'British_Virgin_Islands', 'California', 'Canada', 'Capital', 'Caribbean_Sea', 'Cayman_Islands', 'Continent', 'Costa_Rica', 'Craton', 'Cuba', 'Denmark', 'Dominica', 'Dominican_Republic', 'Earth', 'El_Salvador', 'English_language', 'Europe', 'European_Union', 'Florida', 'France', 'French_language', 'Great_Britain', 'Greenland', 'Grenada', 'Guadeloupe', 'Guatemala', 'Gulf_of_Mexico', 'Guyana', 'Haiti', 'Honduras', 'Hudson_Bay', 'Jamaica', 'John_Cabot', 'Latin_America', 'Martinique', 'Mestizo', 'Mexico', 'Mexico_City', 'Montserrat', 'Navassa_Island', 'Netherlands', 'Netherlands_Antilles', 'Nicaragua', 'Oceania', 'Oregon', 'Ottawa', 'Pacific_Ocean', 'Panama', 'Panama_Canal', 'Plate_tectonics', 'Portuguese_language', 'Puerto_Rico', 'Rocky_Mountains', 'Saint-Pierre_and_Miquelon', 'Saint_Kitts_and_Nevis', 'Saint_Lucia', 'Saint_Vincent_and_the_Grenadines', 'South_America', 'Spain', 'Spanish_language', 'The_Bahamas', 'Trinidad_and_Tobago', 'Turks_and_Caicos_Islands', 'United_Kingdom', 'United_Nations', 'United_States', 'Washington%2C_D.C.']\n",
      "Animal\n",
      "['Aristotle', 'Australian_Green_Tree_Frog', 'Bacteria', 'Bird', 'Cambrian', 'Cambrian_explosion', 'Carbon_dioxide', 'Carolus_Linnaeus', 'Chordate', 'Energy', 'Eukaryote', 'Fish', 'Fungus', 'Human', 'Insect', 'Latin', 'Magellanic_Penguin', 'Mammal', 'Organism', 'Oxygen', 'Photosynthesis', 'Plant', 'Precambrian', 'Reptile', 'Scientific_classification', 'Spider', 'Sunlight', 'Vertebrate', 'Water']\n",
      "Human\n",
      "['AIDS', 'Aesthetics', 'Africa', 'Agriculture', 'Animal', 'Antarctica', 'Anthropology', 'Ape', 'Arabic_language', 'Archaeology', 'Architecture', 'Arctic', 'Aristotle', 'Art', 'Asia', 'Auguste_Rodin', 'Bonobo', 'Brain', 'Buddhism', 'Cameroon', 'Caravaggio', 'Carnivore', 'Carolus_Linnaeus', 'Cell_%28biology%29', 'Chad', 'Chimpanzee', 'Chordate', 'Christianity', 'City', 'Civilization', 'Clothing', 'Communication', 'Conflict', 'Corporation', 'Crime', 'Culture', 'DNA', 'Deity', 'Democracy', 'Dolphin', 'Dove', 'Drama', 'Earth', 'Economics', 'Elephant', 'Emotion', 'English_language', 'Ethics', 'Ethnic_group', 'Eukaryote', 'Euro', 'Europe', 'Family', 'Fiction', 'Folklore', 'Gabon', 'Genetics', 'God', 'Gorilla', 'Government', 'Guatemala', 'Herbivore', 'Hindi', 'Hinduism', 'Humanism', 'India', 'International_Space_Station', 'Irrigation', 'Islam', 'Japanese_yen', 'Language', 'Latin', 'Law', 'Leonardo_da_Vinci', 'Life', 'Linguistics', 'List_of_circulating_currencies', 'Literature', 'Logic', 'Love', 'Madrid', 'Mammal', 'Manufacturing', 'Market', 'Max_Weber', 'Metallurgy', 'Mexico_City', 'Military_dictatorship', 'Mind', 'Monaco', 'Monarchy', 'Money', 'Music', 'Mythology', 'New_York_City', 'Oceania', 'Organism', 'Organization', 'Philosophy', 'Physics', 'Pigment', 'Plato', 'Poetry', 'Politics', 'Pollution', 'Pottery', 'Pound_sterling', 'Propaganda', 'Psychology', 'Race', 'Raphael', 'Religion', 'Science', 'Scientific_classification', 'Seoul', 'Shanghai', 'Sigmund_Freud', 'Sleep', 'Society', 'Sociology', 'Space_exploration', 'Spanish_language', 'Supply_and_demand', 'Swaziland', 'Technology', 'Time', 'Tokyo', 'Transport', 'Uganda', 'Ultraviolet', 'United_Nations', 'United_States_dollar', 'Universe', 'Water_resources', 'Weapon', 'World_War_II', 'Writing']\n",
      "Mammal\n",
      "['20th_century', 'Animal', 'Australia', 'Bat', 'Bird', 'Brain', 'Cambrian', 'Carboniferous', 'Carolus_Linnaeus', 'China', 'Chordate', 'Cretaceous', 'Cretaceous-Tertiary_extinction_event', 'Devonian', 'Dimetrodon', 'Dinosaur', 'Dolphin', 'Elephant', 'Elephant_shrew', 'Fossil_record', 'Hippopotamus', 'Horse', 'Human', 'Jurassic', 'Landform', 'Lion', 'Milk', 'North_America', 'Oligocene', 'Ordovician', 'Paleocene', 'Paleontology', 'Pelycosaur', 'Permian', 'Pig', 'Platypus', 'Scientific_classification', 'South_America', 'Triassic', 'Vertebrate', 'Whale', 'Zebra']\n",
      "France\n",
      "['AIDS', 'Airbus', 'Airbus_A380', 'Algeria', 'Andorra', 'Antarctica', 'Arabic_language', 'Atlantic_Ocean', 'Australia', 'Belgium', 'Berber_languages', 'Brazil', 'British_Empire', 'Brussels', 'Buddhism', 'California', 'Charlemagne', 'China', 'Constitutional_monarchy', 'Country', 'Currency', 'Democracy', 'Eastern_Orthodox_Church', 'English_Channel', 'Euro', 'European_Union', 'Franks', 'French_Revolution', 'French_language', 'German_language', 'Germany', 'God', 'Indian_Ocean', 'Internet', 'Interpol', 'Islam', 'Italy', 'Japan', 'Judaism', 'Julius_Caesar', 'Kenya', 'Latin', 'Lille', 'List_of_countries_by_system_of_government', 'Louis_XIV_of_France', 'Luxembourg', 'Lyon', 'Maghreb', 'Marseille', 'Mediterranean_Sea', 'Middle_Ages', 'Monaco', 'Myanmar', 'Napoleon_I_of_France', 'Napoleonic_Wars', 'Netherlands_Antilles', 'New_Caledonia', 'North_America', 'North_Sea', 'Pacific_Ocean', 'Paris', 'Portuguese_language', 'Republic_of_Ireland', 'Rhine', 'River', 'Roman_Catholic_Church', 'Roman_Empire', 'Russia', 'South_America', 'Spain', 'Spanish_language', 'Sub-Saharan_Africa', 'Suriname', 'Switzerland', 'Thailand', 'Time_zone', 'Tunisia', 'United_Kingdom', 'United_Nations', 'United_States', 'Western_Roman_Empire', 'World_Bank_Group', 'World_War_I', 'World_War_II', 'Yemen']\n",
      "Germany\n",
      "['Adolf_Hitler', 'Afghanistan', 'Agnosticism', 'Albania', 'Albert_Einstein', 'Andorra', 'Arabic_language', 'Armenia', 'Asia', 'Atheism', 'Atlantic_Ocean', 'Attack_on_Pearl_Harbor', 'Augustus', 'Austria', 'Automobile', 'Azerbaijan', 'Baltic_Sea', 'Battle_of_Stalingrad', 'Belarus', 'Belgium', 'Berlin', 'Berlin_Wall', 'Blitzkrieg', 'Bosnia_and_Herzegovina', 'Brothers_Grimm', 'Bulgaria', 'Canada', 'Capital', 'Capitalism', 'Carbon_dioxide', 'Carl_Friedrich_Gauss', 'Charlemagne', 'Chinese_language', 'Coal', 'Cologne', 'Country', 'Croatia', 'Currency', 'Cyprus', 'Czech_Republic', 'D%C3%BCsseldorf', 'Danube', 'David_Hilbert', 'Democratic_Republic_of_the_Congo', 'Denmark', 'Dresden', 'England', 'English_language', 'Estonia', 'Euro', 'Europe', 'European_Union', 'Family', 'Faroe_Islands', 'Felix_Mendelssohn', 'Finland', 'France', 'Frankfurt', 'Franks', 'Franz_Kafka', 'French_Revolution', 'French_language', 'Friedrich_Nietzsche', 'Georg_Cantor', 'George_W._Bush', 'Georgia_%28country%29', 'German_language', 'German_reunification', 'Gottfried_Leibniz', 'Government', 'Great_Britain', 'Greece', 'Greenhouse_effect', 'Hamburg', 'Holy_Roman_Empire', 'Hungary', 'Iceland', 'Immanuel_Kant', 'India', 'Industrial_Revolution', 'Internet', 'Iranian_peoples', 'Israel', 'Italy', 'Japan', 'Jew', 'Johann_Sebastian_Bach', 'Johannes_Gutenberg', 'Johannes_Kepler', 'Karl_Benz', 'Karl_Marx', 'Kazakhstan', 'Kosovo', 'Latin', 'Latvia', 'Lebanon', 'Liechtenstein', 'List_of_countries', 'List_of_countries_by_system_of_government', 'Lithuania', 'London', 'Ludwig_van_Beethoven', 'Luftwaffe', 'Luxembourg', 'Malta', 'Marshall_Plan', 'Martin_Luther', 'Max_Planck', 'Max_Weber', 'Medicine', 'Mediterranean_Sea', 'Moldova', 'Monaco', 'Montenegro', 'Moscow', 'Munich', 'NATO', 'Napoleonic_Wars', 'Natural_gas', 'Nazism', 'Netherlands', 'North_Sea', 'Norway', 'Nuclear_power', 'Otto_von_Bismarck', 'Paris', 'People%27s_Republic_of_China', 'Poland', 'Pope', 'Portugal', 'Prime_Minister_of_the_United_Kingdom', 'Republic_of_Ireland', 'Republic_of_Macedonia', 'Rhine', 'Richard_Wagner', 'River', 'Robert_Schumann', 'Roman_Empire', 'Roman_law', 'Romania', 'Russia', 'Russian_language', 'San_Marino', 'Scotland', 'Serbia', 'Slovakia', 'Slovenia', 'Soviet_Union', 'Spain', 'Spanish_language', 'Stuttgart', 'Sweden', 'Switzerland', 'The_Holocaust', 'Time_zone', 'Treaty_of_Versailles', 'Turkey', 'Ukraine', 'United_Kingdom', 'United_Nations', 'United_States', 'University', 'Vatican_City', 'Wernher_von_Braun', 'Wolfgang_Amadeus_Mozart', 'World_Trade_Organization', 'World_War_I', 'World_War_II', 'Yugoslavia']\n",
      "English_language\n",
      "['15th_century', '5th_century', 'Acts_of_Union_1707', 'American_English', 'Anguilla', 'Antigua_and_Barbuda', 'Australia', 'Australian_English', 'Barbados', 'Belize', 'Bermuda', 'Boston%2C_Massachusetts', 'British_Empire', 'British_English', 'British_Indian_Ocean_Territory', 'British_Isles', 'British_Virgin_Islands', 'Cameroon', 'Canada', 'Canadian_English', 'Cattle', 'Cayman_Islands', 'Channel_Islands', 'Dominica', 'Drama', 'Dutch_language', 'England', 'Esperanto', 'European_Union', 'Falkland_Islands', 'Federated_States_of_Micronesia', 'Fiji', 'French_language', 'German_language', 'Germany', 'Ghana', 'Gibraltar', 'Great_Britain', 'Grenada', 'Guernsey', 'Guyana', 'HTTP_cookie', 'Hindi', 'Hong_Kong', 'India', 'Internet', 'Ireland', 'Isle_of_Man', 'Israel', 'Jamaica', 'Japan', 'Jersey', 'Kenya', 'Kiribati', 'Kosovo', 'Language', 'Latin', 'Latin_alphabet', 'Lesotho', 'Liberia', 'Liverpool', 'Malaysia', 'Malta', 'Marshall_Islands', 'Mauritius', 'Montserrat', 'Namibia', 'Nauru', 'Netherlands', 'New_Zealand', 'Nigeria', 'Northern_Ireland', 'Old_English_language', 'Pakistan', 'Papua_New_Guinea', 'People%27s_Republic_of_China', 'Philippines', 'Picts', 'Pig', 'Pitcairn_Islands', 'Poetry', 'Puerto_Rico', 'Republic_of_Ireland', 'Rwanda', 'Saint_Helena', 'Saint_Kitts_and_Nevis', 'Saint_Lucia', 'Saint_Vincent_and_the_Grenadines', 'Samoa', 'Scotland', 'Scots_language', 'Sierra_Leone', 'Singapore', 'Solomon_Islands', 'South_Africa', 'South_Georgia_and_the_South_Sandwich_Islands', 'South_Korea', 'Spanish_language', 'Sri_Lanka', 'Swaziland', 'Taiwan', 'Tanzania', 'The_Bahamas', 'The_Gambia', 'Trinidad_and_Tobago', 'Turks_and_Caicos_Islands', 'Uganda', 'United_Kingdom', 'United_Nations', 'United_States', 'United_States_Virgin_Islands', 'University', 'Viking', 'Wales', 'William_Shakespeare', 'World_War_II', 'Zambia', 'Zimbabwe']\n",
      "Science\n",
      "['Age_of_Enlightenment', 'Archaeology', 'Atom', 'Bertrand_Russell', 'Biology', 'Calculus', 'Chemistry', 'Computer_science', 'Engineering', 'Ethics', 'History_of_science', 'Italy', 'John_Locke', 'Karl_Popper', 'Latin', 'Linguistics', 'Manufacturing', 'Mathematics', 'Middle_Ages', 'Nature', 'Paleontology', 'Philosophy', 'Physical_science', 'Physics', 'Political_science', 'Pollution', 'Quantum_mechanics', 'Renaissance', 'Richard_Feynman', 'Sanskrit', 'Society', 'Statistics', 'Technology', 'Thomas_Samuel_Kuhn', 'Tobacco_smoking', 'Topology', 'United_States', 'Universe', 'University', 'World_Wide_Web']\n",
      "India\n",
      "['Africa', 'Asia', 'Bah%C3%A1%27%C3%AD_Faith', 'Bangalore', 'Bangladesh', 'Bay_of_Bengal', 'Bhutan', 'Biodiversity', 'British_East_India_Company', 'Buddhism', 'Chennai', 'Chess', 'Christianity', 'Cold_War', 'Cricket', 'Currency', 'Delhi', 'English_language', 'Europe', 'European_Union', 'Extinction', 'Flag_of_India', 'Football_%28soccer%29', 'France', 'Ganges_River', 'Gautama_Buddha', 'Goa', 'Himalayas', 'Hindi', 'Hinduism', 'Indian_Ocean', 'Indian_Standard_Time', 'Indian_independence_movement', 'Indira_Gandhi', 'Indonesia', 'Indus_River', 'Indus_Valley_Civilization', 'Japan', 'Jew', 'Kargil_War', 'Kerala', 'Kolkata', 'Liberal_democracy', 'List_of_countries_by_system_of_government', 'Mahabharata', 'Mahatma_Gandhi', 'Maldives', 'Mammal', 'Mango', 'Mumbai', 'Myanmar', 'Nepal', 'Netherlands', 'New_Delhi', 'Pakistan', 'People%27s_Republic_of_China', 'Plate_tectonics', 'Portugal', 'Rabindranath_Tagore', 'Ramayana', 'Reptile', 'Rice', 'Sanskrit', 'Sikhism', 'Sikkim', 'Socialism', 'South_America', 'Soviet_Union', 'Sri_Lanka', 'Stone_Age', 'Taj_Mahal', 'Tamil_language', 'Tennis', 'Time_zone', 'United_Arab_Emirates', 'United_Kingdom', 'United_Nations', 'United_States', 'United_States_dollar', 'Westminster_System', 'Wheat']\n",
      "Atlantic_Ocean\n",
      "['Aberdeen', 'Abidjan', 'Accra', 'Africa', 'Airship', 'Albatross', 'Amazon_River', 'Amsterdam', 'Angola', 'Antarctica', 'Antwerp', 'Arctic_Ocean', 'Argentina', 'Baltic_Sea', 'Baltimore%2C_Maryland', 'Banjul', 'Belfast', 'Belgium', 'Benin', 'Bermuda', 'Bissau', 'Black_Sea', 'Boston%2C_Massachusetts', 'Brazil', 'Bristol', 'C%C3%B4te_d%27Ivoire', 'Cameroon', 'Canada', 'Cape_Town', 'Cape_Verde', 'Caribbean_Sea', 'Chile', 'Christopher_Columbus', 'Cod', 'Conakry', 'Dakar', 'Dolphin', 'Earth', 'Edinburgh', 'English_Channel', 'Equatorial_Guinea', 'Europe', 'Falkland_Islands', 'Faroe_Islands', 'France', 'French_Guiana', 'Funchal', 'Gabon', 'Georgetown%2C_Guyana', 'Germany', 'Ghana', 'Glasgow', 'Gothenburg', 'Great_Britain', 'Greek_mythology', 'Greenland', 'Guadeloupe', 'Guinea', 'Guinea-Bissau', 'Gulf_of_Mexico', 'Hamburg', 'Herodotus', 'Honduras', 'Houston%2C_Texas', 'Iceland', 'Indian_Ocean', 'Ireland', 'Irish_Sea', 'Lagos', 'Las_Palmas_de_Gran_Canaria', 'Liberia', 'Libreville', 'Lisbon', 'Liverpool', 'Lom%C3%A9', 'London', 'Mauritania', 'Mediterranean_Sea', 'Monrovia', 'Morocco', 'Namibia', 'Netherlands', 'New_York_City', 'Newcastle_upon_Tyne', 'Nigeria', 'North_Sea', 'Norway', 'Nouakchott', 'Ocean', 'Oslo', 'Pacific_Ocean', 'Panama_Canal', 'Paris', 'Peru', 'Petroleum', 'Porto-Novo', 'Portsmouth', 'Portugal', 'Praia', 'RMS_Titanic', 'Rabat', 'Republic_of_Ireland', 'Rio_de_Janeiro', 'Rockall', 'Rotterdam', 'S%C3%A3o_Paulo', 'Sea', 'Senegal', 'South_Africa', 'South_Georgia_and_the_South_Sandwich_Islands', 'Southampton', 'Southern_Ocean', 'Spain', 'Suriname', 'Sweden', 'Telephone', 'The_Gambia', 'Tide', 'Togo', 'Tropical_cyclone', 'Turtle', 'United_Kingdom', 'United_States', 'Viking', 'Whale']\n",
      "Agriculture\n",
      "['Africa', 'Alcohol', 'Ammonia', 'Andes', 'Arable_land', 'Barley', 'Beekeeping', 'Biodiesel', 'Botany', 'Cereal', 'Cocoa', 'Coffee', 'Cotton', 'Egg_%28food%29', 'Egypt', 'Ethanol', 'Fertile_Crescent', 'Fertilizer', 'Fish', 'Flower', 'Food', 'Fossil_fuel', 'France', 'Fruit', 'Germany', 'Global_warming', 'History_of_the_world', 'Honey', 'Horse', 'Indonesia', 'Irrigation', 'Maize', 'Meat', 'Mesopotamia', 'Middle_Ages', 'Milk', 'Nitrogen', 'Nutrition', 'Pea', 'Phosphorus', 'Potato', 'Rice', 'River', 'Soil', 'Soil_salination', 'Sorghum', 'South_America', 'Soybean', 'Sugar', 'Sumer', 'Sweden', 'Tea', 'Tobacco', 'Vegetable', 'Virgil', 'Weed', 'Wheat']\n",
      "Plant\n",
      "['Agriculture', 'Alcohol', 'Amber', 'Animal', 'Ant', 'Arecaceae', 'Aristotle', 'Beer', 'Biofuel', 'Canola', 'Carbon_dioxide', 'Carolus_Linnaeus', 'Coal', 'Coffee', 'Cotton', 'Cretaceous', 'Devonian', 'Eukaryote', 'Fern', 'Fertilizer', 'Flower', 'Forest', 'Fossil', 'Fruit', 'Fungus', 'Gardening', 'Glasgow', 'Gregor_Mendel', 'Herbivore', 'Invasive_species', 'Jurassic', 'Life', 'Light', 'Lung_cancer', 'Maize', 'Mitochondrion', 'Morphine', 'Moss', 'Nitrogen', 'Nitrogen_cycle', 'Nitrogen_fixation', 'Ordovician', 'Organism', 'Permian', 'Petroleum', 'Phosphorus', 'Photosynthesis', 'Potato', 'Rice', 'Safflower', 'Scientific_classification', 'Scotland', 'Seed', 'Silurian', 'Soil', 'Soybean', 'Sugar', 'Sugar_beet', 'Sundew', 'Sunflower', 'Sunlight', 'Tea', 'Temperate', 'Tobacco', 'Tree', 'Triassic', 'Weed', 'Wheat', 'Wine', 'Wood']\n",
      "Computer\n",
      "['Abacus', 'Automobile', 'BASIC', 'Boolean_logic', 'C%2B%2B', 'CPU_cache', 'Central_processing_unit', 'Charles_Babbage', 'Computer_and_video_games', 'Computer_programming', 'Cryptography', 'Electrical_engineering', 'Electricity', 'Electronics', 'Floppy_disk', 'GNOME', 'GNU', 'Great_Britain', 'History_of_computing_hardware', 'Integrated_circuit', 'Internet', 'John_von_Neumann', 'Linux', 'Matrix_%28mathematics%29', 'Microsoft_Windows', 'Middle_Ages', 'Perl', 'Python_%28programming_language%29', 'Quantum_computer', 'Telephone', 'Television', 'Toy', 'Trigonometry', 'Unix', 'Watch', 'World_Wide_Web']\n",
      "most_used_articles_graph.html\n"
     ]
    },
    {
     "name": "stderr",
     "output_type": "stream",
     "text": [
      "C:\\Users\\fricl\\AppData\\Local\\Temp\\ipykernel_26120\\2798329486.py:1: MatplotlibDeprecationWarning:\n",
      "\n",
      "The get_cmap function was deprecated in Matplotlib 3.7 and will be removed in 3.11. Use ``matplotlib.colormaps[name]`` or ``matplotlib.colormaps.get_cmap()`` or ``pyplot.get_cmap()`` instead.\n",
      "\n"
     ]
    },
    {
     "data": {
      "text/html": [
       "\n",
       "        <iframe\n",
       "            width=\"100%\"\n",
       "            height=\"600px\"\n",
       "            src=\"most_used_articles_graph.html\"\n",
       "            frameborder=\"0\"\n",
       "            allowfullscreen\n",
       "            \n",
       "        ></iframe>\n",
       "        "
      ],
      "text/plain": [
       "<IPython.lib.display.IFrame at 0x1e044e8f0d0>"
      ]
     },
     "execution_count": 101,
     "metadata": {},
     "output_type": "execute_result"
    }
   ],
   "source": [
    "color_map = plt.cm.get_cmap('Reds')\n",
    "\n",
    "# Normalize the log_counts to [0, 1]\n",
    "norm = matplotlib.colors.Normalize(vmin=min(most_clicked_counts), vmax=max(most_clicked_counts))\n",
    "most_colors_hex = [matplotlib.colors.to_hex(color_map(norm(count))) for count in most_clicked_counts]\n",
    "\n",
    "least_colors_hex = [matplotlib.colors.to_hex(color_map(norm(count))) for count in least_clicked_counts]\n",
    "\n",
    "net = Network(directed=True, \n",
    "              notebook=True, \n",
    "              font_color='#10000000')\n",
    "\n",
    "# Turn off physics so nodes stay fixed\n",
    "net.barnes_hut(gravity=-10000,  # Controls the strength of repulsion between nodes\n",
    "               central_gravity=0.01,  # Weak central gravity so nodes spread out\n",
    "               spring_length=300000,  # Increase distance between connected nodes\n",
    "               spring_strength=0.05)  # Adjust spring tightness\n",
    "net.toggle_physics(False)\n",
    "\n",
    "# write the title of each node\n",
    "titles = [f\"article: {most_clicked_articles[i]} \\n click count: {most_clicked_counts[i]} \\n in degree: {most_in_degree[i]} \\n out degree: {most_out_degree[i]}\" for i in range(len(most_clicked_articles))]\n",
    "\n",
    "net.add_nodes(most_clicked_articles, \n",
    "              title=titles, \n",
    "              color=most_colors_hex)\n",
    "\n",
    "\n",
    "# Let's add edges between articles that are connected in Wikipedia\n",
    "for i, article1 in enumerate(most_clicked_articles):\n",
    "    print(article1)\n",
    "    name_links_out = data_sorted.name_links_out.iloc[i]\n",
    "    print(name_links_out)\n",
    "\n",
    "    if pd.notna(name_links_out):\n",
    "        for article2 in most_clicked_articles: \n",
    "            if article2 in name_links_out:\n",
    "                net.add_edge(article1, article2)\n",
    "\n",
    "\n",
    "net.show(\"most_used_articles_graph.html\")"
   ]
  },
  {
   "cell_type": "code",
   "execution_count": 99,
   "metadata": {},
   "outputs": [
    {
     "data": {
      "text/plain": [
       "\"article: ['United_States', 'Europe', 'United_Kingdom', 'England', 'Earth', 'Africa', 'World_War_II', 'North_America', 'Animal', 'Human', 'Mammal', 'France', 'Germany', 'English_language', 'Science', 'India', 'Atlantic_Ocean', 'Agriculture', 'Plant', 'Computer'] \\n click count: [12370, 5553, 5278, 4304, 4134, 3464, 2846, 2503, 2396, 2334, 2292, 2201, 2121, 1956, 1855, 1722, 1706, 1698, 1648, 1640] \\n in degree: [1551.0, 933.0, 972.0, 751.0, 269.0, 477.0, 751.0, 410.0, 492.0, 165.0, 199.0, 959.0, 743.0, 598.0, 135.0, 611.0, 250.0, 241.0, 185.0, 87.0] \\n out degree: [294.0, 159.0, 168.0, 172.0, 118.0, 212.0, 119.0, 77.0, 29.0, 137.0, 42.0, 85.0, 169.0, 118.0, 40.0, 81.0, 125.0, 57.0, 70.0, 36.0]\""
      ]
     },
     "execution_count": 99,
     "metadata": {},
     "output_type": "execute_result"
    }
   ],
   "source": [
    "titles"
   ]
  },
  {
   "cell_type": "markdown",
   "metadata": {},
   "source": [
    "An now let's look at the least clicked articles: "
   ]
  },
  {
   "cell_type": "code",
   "execution_count": 107,
   "metadata": {},
   "outputs": [
    {
     "name": "stdout",
     "output_type": "stream",
     "text": [
      "Warning: When  cdn_resources is 'local' jupyter notebook has issues displaying graphics on chrome/safari. Use cdn_resources='in_line' or cdn_resources='remote' if you have issues viewing graphics in a notebook.\n",
      "Magpie\n",
      "['Abraham_Lincoln', 'Advertising', 'Agriculture', 'American_Civil_War', 'American_English', 'American_Revolutionary_War', 'American_Samoa', 'American_football', 'American_popular_music', 'Amtrak', 'Anguilla', 'Antarctica', 'Antigua_and_Barbuda', 'Apollo_11', 'Arctic_Ocean', 'Argentina', 'Aruba', 'Atlanta%2C_Georgia', 'Atlantic_Ocean', 'Attack_on_Pearl_Harbor', 'Auto_racing', 'Bah%C3%A1%27%C3%AD_Faith', 'Baker_Island', 'Bald_Eagle', 'Baltimore%2C_Maryland', 'Barbados', 'Baseball', 'Basketball', 'Battle_of_Gettysburg', 'Belize', 'Benin', 'Bermuda', 'Boston%2C_Massachusetts', 'Brazil', 'British_Virgin_Islands', 'Broadcasting', 'Brunei', 'Buddhism', 'C%C3%B4te_d%27Ivoire', 'California', 'Cambodia', 'Cameroon', 'Canada', 'Cape_Verde', 'Capitalism', 'Caribbean_Sea', 'Cayman_Islands', 'Chicago', 'China', 'Chinese_language', 'Christopher_Columbus', 'Cinema_of_the_United_States', 'Coal', 'Cold_War', 'Colombia', 'Communism', 'Computer', 'Corporation', 'Costa_Rica', 'Country', 'Crime', 'Cuba', 'Currency', 'Dallas%2C_Texas', 'Denmark', 'Denver%2C_Colorado', 'Desert', 'Detroit%2C_Michigan', 'Dominica', 'Dominican_Republic', 'Ecuador', 'Education', 'Education_in_the_United_States', 'El_Salvador', 'Electronics', 'Elvis_Presley', 'Equatorial_Guinea', 'Erie_Canal', 'Ethnic_group', 'Europe', 'Federal_Bureau_of_Investigation', 'Federated_States_of_Micronesia', 'Film', 'Finance', 'Fine_art', 'Florida', 'Football_%28soccer%29', 'France', 'French_Guiana', 'French_language', 'Gabon', 'George_W._Bush', 'George_Washington', 'German_language', 'Germany', 'Ghana', 'Gibraltar', 'Grand_Canyon', 'Great_Lakes', 'Greece', 'Greenland', 'Grenada', 'Guadeloupe', 'Guam', 'Guatemala', 'Guernsey', 'Guinea', 'Guinea-Bissau', 'Gulf_of_Mexico', 'Guyana', 'Haiti', 'Hinduism', 'Hip_hop_music', 'History_of_slavery', 'Holy_Roman_Empire', 'Honduras', 'Hong_Kong', 'Household_income_in_the_United_States', 'Houston%2C_Texas', 'Howland_Island', 'Ice_hockey', 'Iceland', 'India', 'Indonesia', 'International_Red_Cross_and_Red_Crescent_Movement', 'Internet', 'Interpol', 'Iran', 'Iraq', 'Irish_people', 'Islam', 'Isle_of_Man', 'Italy', 'Jamaica', 'Japan', 'Jarvis_Island', 'Jazz', 'Jersey', 'John_F._Kennedy', 'Johnston_Atoll', 'Judaism', 'Kingman_Reef', 'Kiribati', 'Las_Vegas%2C_Nevada', 'Latin', 'Latin_America', 'Liberal_democracy', 'Liberia', 'List_of_areas_in_the_National_Park_System_of_the_United_States', 'List_of_countries', 'List_of_countries_by_system_of_government', 'List_of_rivers_by_length', 'List_of_sovereign_states', 'Los_Angeles%2C_California', 'Macau', 'Maize', 'Malaysia', 'Manifest_Destiny', 'Marshall_Islands', 'Martin_Luther_King%2C_Jr.', 'Martinique', 'Mauritania', 'Medicine', 'Mexico', 'Miami%2C_Florida', 'Middle_East', 'Midway_Atoll', 'Mining', 'Minneapolis%2C_Minnesota', 'Minnesota', 'Mississippi_River', 'Missouri_River', 'Montserrat', 'Moon', 'Morocco', 'Multiculturalism', 'Music_of_the_United_States', 'NATO', 'Natural_gas', 'Navassa_Island', 'Neil_Armstrong', 'Netherlands', 'Netherlands_Antilles', 'New_York_City', 'Nicaragua', 'Nigeria', 'North_Africa', 'North_America', 'North_Korea', 'Northern_Mariana_Islands', 'Nuclear_power', 'Nuclear_weapon', 'Oceania', 'Olympic_Games', 'Oregon', 'Pacific_Ocean', 'Palau', 'Palmyra_Atoll', 'Panama', 'Peace', 'People%27s_Republic_of_China', 'Peru', 'Petroleum', 'Philadelphia', 'Philippines', 'Plymouth', 'Poetry_of_the_United_States', 'Poland', 'Portugal', 'Potato', 'President_of_the_United_States', 'Property', 'Publishing', 'Puerto_Rico', 'Qatar', 'Religious_Society_of_Friends', 'Republic_of_China', 'Republic_of_Ireland', 'Republic_of_the_Congo', 'Rhode_Island', 'Rhythm_and_blues', 'Rice', 'Rocky_Mountains', 'Russia', 'S%C3%A3o_Tom%C3%A9_and_Pr%C3%ADncipe', 'Saint-Pierre_and_Miquelon', 'Saint_Kitts_and_Nevis', 'Saint_Lucia', 'Saint_Vincent_and_the_Grenadines', 'San_Francisco%2C_California', 'Seattle%2C_Washington', 'Senegal', 'September_11%2C_2001_attacks', 'Sequoia', 'Sierra_Leone', 'Sikhism', 'Singapore', 'Slovakia', 'South_Korea', 'Southern_United_States', 'Soviet_Union', 'Space_Shuttle_Columbia', 'Spain', 'Spanish_language', 'Sport', 'Steel', 'Sudan', 'Supreme_Court_of_the_United_States', 'Suriname', 'Sweden', 'Tanzania', 'Television', 'Tennis', 'Terrorism', 'Thailand', 'The_Bahamas', 'The_Gambia', 'Thomas_Jefferson', 'Time_zone', 'Togo', 'Tourism', 'Treaty_of_Versailles', 'Trinidad_and_Tobago', 'Turkey_%28bird%29', 'Turks_and_Caicos_Islands', 'U.S._state', 'United_Kingdom', 'United_Nations', 'United_States_Bill_of_Rights', 'United_States_Congress', 'United_States_Constitution', 'United_States_Declaration_of_Independence', 'United_States_House_of_Representatives', 'United_States_Senate', 'United_States_Virgin_Islands', 'United_States_dollar', 'Venezuela', 'Vietnam', 'Vietnam_War', 'Volcano', 'Wake_Island', 'Wall_Street', 'Walt_Whitman', 'War', 'Washington%2C_D.C.', 'West_Virginia', 'Western_Sahara', 'Wheat', 'World_Health_Organization', 'World_Heritage_Site', 'World_Trade_Organization', 'World_War_I', 'World_War_II', 'Yellowstone_National_Park']\n",
      "Tropical_Storm_Delta_%282005%29\n",
      "['18th_century', 'Africa', 'Albania', 'Amsterdam', 'Ancient_Greece', 'Andorra', 'Anglicanism', 'Arabic_language', 'Arctic_Ocean', 'Armenia', 'Asia', 'Athens', 'Atlantic_Ocean', 'Austria', 'Azerbaijan', 'Baltic_Sea', 'Barcelona', 'Belarus', 'Belgium', 'Berlin', 'Berlin_Wall', 'Black_Sea', 'Bosnia_and_Herzegovina', 'Bratislava', 'British_Isles', 'Brussels', 'Bucharest', 'Budapest', 'Buddhism', 'Bulgaria', 'Byzantine_Empire', 'Capital', 'Carnivore', 'Caspian_Sea', 'Christianity', 'Cold_War', 'Communism', 'Copenhagen', 'Croatia', 'Crustacean', 'Culture', 'Cyprus', 'Czech_Republic', 'Dark_Ages', 'Democracy', 'Denmark', 'Dolphin', 'Dublin', 'Earth', 'England', 'Estonia', 'European_Union', 'Faroe_Islands', 'Finland', 'Fish', 'Flanders', 'Forest', 'Fox', 'France', 'French_Revolution', 'French_language', 'Geology', 'Georgia_%28country%29', 'Germany', 'Gibraltar', 'Greece', 'Greek_mythology', 'Greenland', 'Guernsey', 'Hawk', 'Hebrew_language', 'Helsinki', 'Herbivore', 'Hinduism', 'Holy_Roman_Empire', 'Homer', 'Hungary', 'Ice_age', 'Iceland', 'India', 'Industrial_Revolution', 'Iran', 'Iraq', 'Ireland', 'Islam', 'Isle_of_Man', 'Italy', 'Jackal', 'Jersey', 'Judaism', 'Kazakhstan', 'Kiev', 'Kosovo', 'Latin', 'Latvia', 'Liechtenstein', 'Lisbon', 'Lithuania', 'London', 'Luxembourg', 'Luxembourg_%28city%29', 'Madrid', 'Malta', 'Mammal', 'Mediterranean_Sea', 'Middle_Ages', 'Middle_East', 'Moldova', 'Monaco', 'Montenegro', 'Moscow', 'NATO', 'Napoleon_I_of_France', 'Netherlands', 'North_America', 'North_Sea', 'Northern_Ireland', 'Norway', 'Oslo', 'Ottoman_Empire', 'Owl', 'Paris', 'Poland', 'Portugal', 'Prague', 'Rainforest', 'Renaissance', 'Republic_of_Ireland', 'Republic_of_Macedonia', 'Romania', 'Rome', 'Russia', 'San_Marino', 'Sarajevo', 'Scotland', 'Serbia', 'Sikhism', 'Slovakia', 'Slovenia', 'Soviet_Union', 'Spain', 'Stockholm', 'Suez_Canal', 'Svalbard', 'Sweden', 'Switzerland', 'Syria', 'Turkey', 'Turkish_Republic_of_Northern_Cyprus', 'Ukraine', 'United_Kingdom', 'United_Nations', 'Vatican_City', 'Vienna', 'Wales', 'Warsaw', 'Wild_cat', 'World_War_II', 'Zeus']\n",
      "Lhasa\n",
      "['Acts_of_Union_1707', 'Adam_Smith', 'Airbus', 'Anglican_Communion', 'Anne_of_Great_Britain', 'Archbishop_of_Canterbury', 'Arctic_Monkeys', 'Argentina', 'Arsenal_F.C.', 'Atlantic_Ocean', 'BAE_Systems', 'Bangladesh', 'Belfast', 'Ben_Jonson', 'Ben_Nevis', 'Benjamin_Britten', 'Bermuda', 'Bertrand_Russell', 'Bicycle', 'British_Empire', 'British_House_of_Commons', 'British_Isles', 'British_monarchy', 'Buckingham_Palace', 'Canada', 'Canterbury_Cathedral', 'Capitalism', 'Cardiff', 'Celtic_F.C.', 'Channel_Islands', 'Charles_Darwin', 'Charles_Dickens', 'Charles_II_of_England', 'Chelsea_F.C.', 'Christianity', 'Christopher_Wren', 'Church_of_England', 'Church_of_Ireland', 'City_status_in_the_United_Kingdom', 'Computer', 'Constitutional_monarchy', 'Cotswolds', 'Cricket', 'Currency', 'DNA', 'Damon_Hill', 'Earth', 'Edinburgh', 'Electron', 'Elizabeth_II_of_the_United_Kingdom', 'England', 'English_Channel', 'English_language', 'Euro', 'Europe', 'European_Union', 'Football_%28soccer%29', 'Formula_One', 'France', 'Francis_Crick', 'French_language', 'Germany', 'Giant%27s_Causeway', 'Gibraltar', 'Glasgow', 'GlaxoSmithKline', 'Gordon_Brown', 'Grand_Slam_%28tennis%29', 'Gravitation', 'Great_Britain', 'Guernsey', 'HSBC', 'Hebrides', 'Henry_Purcell', 'Henry_VIII_of_England', 'Hindi', 'Hinduism', 'House_of_Lords', 'Hydrogen', 'India', 'Industrial_Revolution', 'Ireland', 'Irish_Sea', 'Iron_Maiden', 'Isambard_Kingdom_Brunel', 'Islam', 'Isle_of_Man', 'Italy', 'J._K._Rowling', 'J._M._W._Turner', 'J._R._R._Tolkien', 'James_Clerk_Maxwell', 'Jane_Austen', 'Jersey', 'Jet_engine', 'John_Milton', 'Judaism', 'Kylie_Minogue', 'Lake_District', 'Latin', 'Laws_in_Wales_Acts_1535%E2%80%931542', 'Lion', 'List_of_countries_by_system_of_government', 'Liverpool_F.C.', 'Local_government_in_the_United_Kingdom', 'Loch', 'London', 'Manchester_United_F.C.', 'Market', 'Michael_Faraday', 'Monarchy', 'Montserrat', 'NATO', 'Natural_gas', 'North_Sea', 'Northern_Ireland', 'Novel', 'Oasis_%28band%29', 'Olympic_Games', 'Opera', 'Orkney', 'Pakistan', 'Palace_of_Westminster', 'Parliament_of_the_United_Kingdom', 'Parliamentary_system', 'Peak_District', 'Petroleum', 'Plymouth', 'Pound_sterling', 'Prime_Minister_of_the_United_Kingdom', 'Principality', 'Queen_%28band%29', 'Republic_of_Ireland', 'River_Thames', 'Roman_Britain', 'Royal_Air_Force', 'Royal_Marines', 'Royal_Navy', 'Rugby_World_Cup', 'Rugby_football', 'Saint_Helena', 'Scotland', 'Scots_language', 'Scottish_Gaelic_language', 'Scottish_Highlands', 'Sikhism', 'Somalia', 'Spain', 'Sport', 'Steel', 'T._S._Eliot', 'Television', 'Tennis', 'The_Beatles', 'The_Championships%2C_Wimbledon', 'The_Rolling_Stones', 'Time_zone', 'Tony_Blair', 'Trafalgar_Square', 'United_Nations', 'United_States_dollar', 'University_of_Cambridge', 'Wales', 'Westminster_Abbey', 'William_Shakespeare', 'World_Heritage_Site', 'World_War_I', 'World_War_II']\n",
      "Gothenburg\n",
      "['10th_century', '19th_century', 'Acts_of_Union_1707', 'Age_of_Enlightenment', 'Alfred_the_Great', 'Anglicanism', 'Anno_Domini', 'Archbishop_of_Canterbury', 'Architecture', 'Atlantic_Ocean', 'BBC', 'Badminton', 'Battle_of_Hastings', 'Bede', 'Belgium', 'Ben_Jonson', 'Benjamin_Britten', 'Birmingham', 'Bridge', 'Brighton', 'Bristol', 'British_Empire', 'British_Isles', 'Bronze_Age', 'Buckingham_Palace', 'Canterbury_Cathedral', 'Canute_the_Great', 'Charles_Darwin', 'Charles_Dickens', 'Chinese_language', 'Christianity', 'Christopher_Wren', 'Church_of_England', 'City', 'Commonwealth_Games', 'Coventry', 'Cricket', 'Crusades', 'Culture', 'Currency', 'Denmark', 'Domesday_Book', 'Drum_and_bass', 'Dutch_language', 'Edward_the_Confessor', 'English_Channel', 'English_language', 'Europe', 'FIFA', 'FIFA_World_Cup', 'Finance', 'Football', 'Football_%28soccer%29', 'France', 'Francis_Bacon', 'French_language', 'Genoa', 'George_Eliot', 'Georgia_%28country%29', 'German_language', 'Germany', 'Great_Britain', 'Greece', 'Gustav_Holst', 'Hebrew_language', 'Henry_I_of_England', 'Henry_Purcell', 'Henry_VIII_of_England', 'Hinduism', 'History_of_Anglo-Saxon_England', 'Indonesian_language', 'Industrial_Revolution', 'Ireland', 'Irish_Sea', 'Iron_Maiden', 'Isambard_Kingdom_Brunel', 'Islam', 'Isle_of_Wight', 'Italy', 'James_I_of_England', 'Jane_Austen', 'Jet_engine', 'John_Constable', 'John_Locke', 'John_Milton', 'King_Arthur', 'L._S._Lowry', 'Lake_District', 'Latin', 'Leeds', 'Leicester', 'Linguistics', 'Lion', 'Liverpool', 'London', 'London_Underground', 'Manchester', 'Mercia', 'Middle_Ages', 'Middle_East', 'Milan', 'National_parks_of_England_and_Wales', 'Netherlands', 'Newcastle_upon_Tyne', 'Norfolk', 'Norman_conquest_of_England', 'North_Sea', 'Northern_Ireland', 'Norway', 'Nottingham', 'Oasis_%28band%29', 'Old_English_language', 'Olympic_Games', 'Oslo', 'Palace_of_Westminster', 'Portsmouth', 'Portuguese_language', 'Pound_sterling', 'Ptolemy', 'Queen_%28band%29', 'Rain', 'Religious_Society_of_Friends', 'Renaissance', 'Republic_of_Ireland', 'Richard_I_of_England', 'River_Severn', 'River_Thames', 'Roman_Empire', 'Rome', 'Royal_Navy', 'Rudyard_Kipling', 'Rugby_football', 'Russian_language', 'Samuel_Taylor_Coleridge', 'Scotland', 'Scots_language', 'Scurvy', 'Season', 'Sheffield', 'Sikhism', 'Snow', 'Socialism', 'Spain', 'Spanish_language', 'Stephen_Hawking', 'Stonehenge', 'Sutton_Hoo', 'Tamil_language', 'Tennis', 'The_Beatles', 'The_Fens', 'The_Rolling_Stones', 'Thomas_Hobbes', 'Tim_Berners-Lee', 'Time_zone', 'Tourism', 'Tower_of_London', 'United_Kingdom', 'Victoria_of_the_United_Kingdom', 'Wales', 'Wars_of_the_Roses', 'Wessex', 'Westminster_Abbey', 'White_cliffs_of_Dover', 'William_Hogarth', 'William_I_of_England', 'William_Shakespeare', 'Wind', 'Windsor_Castle', 'Winston_Churchill', 'Winter', 'York']\n",
      "Shoe_polish\n",
      "['Acid_rain', 'Africa', 'Afrikaans', 'Aluminium', 'Animal', 'Antarctica', 'Apollo_8', 'Arabic_language', 'Arctic_Circle', 'Arctic_Ocean', 'Argon', 'Asia', 'Asteroid', 'Atlantic_Ocean', 'Australia', 'Biosphere', 'Calcium', 'Cambrian_explosion', 'Canada', 'Carbon_dioxide', 'Carl_Sagan', 'China', 'Climate', 'Comet', 'Crust_%28geology%29', 'Day', 'Dead_Sea', 'Deity', 'Desert', 'Devonian', 'Dinosaur', 'Drought', 'Dutch_language', 'Earth%27s_atmosphere', 'Earthquake', 'East_Africa', 'Ecuador', 'Energy', 'Europe', 'Evolution', 'Extinction', 'Flat_Earth', 'Flood', 'Food', 'French_language', 'Geography', 'German_language', 'Glacier', 'Global_warming', 'Government', 'Gravitation', 'Greenhouse_effect', 'Hebrew_language', 'Human', 'Hydrogen', 'Ice_age', 'Indian_Ocean', 'International_Space_Station', 'International_law', 'Invasive_species', 'Iron', 'Latin_America', 'Life', 'Lunar_eclipse', 'Magnesium', 'Mammal', 'Meteor', 'Middle_Ages', 'Middle_East', 'Moon', 'Mount_Everest', 'Nickel', 'Nitrogen', 'Norse_mythology', 'North_Africa', 'North_America', 'Ocean', 'Organism', 'Oxygen', 'Pacific_Ocean', 'Photosynthesis', 'Pi', 'Planet', 'Plant', 'Plasma_%28physics%29', 'Plate_tectonics', 'Pluto', 'Pollution', 'Red_giant', 'Russian_language', 'Sanskrit', 'Season', 'Silicon', 'Snowball_Earth', 'Soil', 'Soils_retrogression_and_degradation', 'Solar_System', 'Solar_eclipse', 'South_America', 'Southern_Africa', 'Southern_Ocean', 'Spanish_language', 'Sun', 'Tellurium', 'Temperate', 'Thomas_Aquinas', 'Thor', 'Tide', 'Tornado', 'Tropical_cyclone', 'Tsunami', 'Ultraviolet', 'United_Nations', 'United_States', 'Universe', 'Volcano', 'Water', 'Weather']\n",
      "Northern_Pacific_Railway\n",
      "['Abidjan', 'Abuja', 'Accra', 'Addis_Ababa', 'African_Great_Lakes', 'African_Union', 'Afrikaans', 'Agriculture', 'Algeria', 'Algiers', 'Ancient_Egypt', 'Ancient_Greece', 'Ancient_Rome', 'Anglican_Communion', 'Angola', 'Antananarivo', 'Anthropology', 'Arabic_language', 'Asia', 'Atlantic_Ocean', 'Atlantic_slave_trade', 'Bamako', 'Banjul', 'Bantu', 'Belgium', 'Benin', 'Bissau', 'Botswana', 'Burkina_Faso', 'Burundi', 'C%C3%B4te_d%27Ivoire', 'Cairo', 'Camel', 'Cameroon', 'Cape_Town', 'Cape_Verde', 'Capital', 'Carnivore', 'Central_African_Republic', 'Chad', 'Cheetah', 'China', 'Christianity', 'Civilization', 'Cocoa', 'Coffee', 'Cold_War', 'Comoros', 'Conakry', 'Congo_River', 'Continent', 'Cotton', 'Crocodile', 'Culture', 'Dakar', 'David_Livingstone', 'Deity', 'Democracy', 'Democratic_Republic_of_the_Congo', 'Desert', 'Despotism', 'Diamond', 'Djibouti', 'Earth', 'East_Africa', 'Egypt', 'El_Aai%C3%BAn', 'Elephant', 'English_language', 'Equatorial_Guinea', 'Eritrea', 'Ethiopia', 'Europe', 'Famine', 'Flute', 'Fossil', 'France', 'Freetown', 'French_language', 'Funchal', 'Gabon', 'Gaborone', 'Ghana', 'Giraffe', 'Glacier', 'Gold', 'Great_Pyramid_of_Giza', 'Guinea', 'Guinea-Bissau', 'HIV', 'Harare', 'Henry_Morton_Stanley', 'Herbivore', 'Horn_of_Africa', 'Human', 'Hutu', 'Hyena', 'India', 'Indian_Ocean', 'Irrigation', 'Ishango_bone', 'Islam', 'Jazz', 'Judaism', 'Kenya', 'Khartoum', 'Kigali', 'Lake_Tanganyika', 'Lake_Victoria', 'Language', 'Las_Palmas_de_Gran_Canaria', 'Latin', 'Latin_America', 'Lesotho', 'Liberal_democracy', 'Liberia', 'Libreville', 'Libya', 'Lilongwe', 'Lion', 'Lom%C3%A9', 'Lusaka', 'Madagascar', 'Malawi', 'Mali', 'Maputo', 'Maseru', 'Mauritania', 'Mauritius', 'Mayotte', 'Mbabane', 'Mediterranean_Sea', 'Middle_Ages', 'Military_dictatorship', 'Mitochondrial_Eve', 'Mogadishu', 'Monrovia', 'Morocco', 'Mozambique', 'Nairobi', 'Namibia', 'Netherlands', 'Niger', 'Nigeria', 'Nile', 'North_Africa', 'Nouakchott', 'Ouagadougou', 'Palm_oil', 'Persian_Empire', 'Pope', 'Port_Louis', 'Porto-Novo', 'Portugal', 'Portuguese_language', 'Poverty', 'Praia', 'Pretoria', 'Ptolemy', 'R%C3%A9union', 'Rabat', 'Rainforest', 'Red_Sea', 'Reggae', 'Republic_of_the_Congo', 'Rice', 'Richard_Francis_Burton', 'Royal_Navy', 'Rwanda', 'S%C3%A3o_Tom%C3%A9', 'S%C3%A3o_Tom%C3%A9_and_Pr%C3%ADncipe', 'Saint_Helena', 'Scramble_for_Africa', 'Second_Congo_War', 'Senegal', 'Seychelles', 'Sierra_Leone', 'Somalia', 'Sorghum', 'Soukous', 'South_Africa', 'Southern_Africa', 'Soviet_Union', 'Spain', 'Sub-Saharan_Africa', 'Sudan', 'Suez_Canal', 'Swaziland', 'Tanzania', 'Temperate', 'The_Gambia', 'Timbuktu', 'Togo', 'Tripoli', 'Trumpet', 'Tunis', 'Tunisia', 'Tutsi', 'Uganda', 'United_Kingdom', 'United_Nations', 'United_States', 'United_States_Senate', 'Victoria%2C_Seychelles', 'Western_Sahara', 'World_War_I', 'World_War_II', 'Yamoussoukro', 'Zambia', 'Zheng_He', 'Zimbabwe', 'Zulu']\n",
      "Sri_Lankan_Civil_War\n",
      "['Adolf_Hitler', 'Aircraft', 'Aircraft_carrier', 'Albania', 'Antwerp', 'Armia_Krajowa', 'Attack_on_Pearl_Harbor', 'Austria', 'Baltic_Sea', 'Battle_of_Britain', 'Battle_of_Leyte_Gulf', 'Battle_of_Midway', 'Battle_of_Moscow', 'Battle_of_Normandy', 'Battle_of_Stalingrad', 'Battle_of_the_Bulge', 'Beijing', 'Belgium', 'Benito_Mussolini', 'Blitzkrieg', 'British_Empire', 'Bucharest', 'Bulgaria', 'Canada', 'China', 'Cold_War', 'Communism', 'Damascus', 'Denmark', 'Egypt', 'Election', 'English_Channel', 'Enigma_machine', 'Erwin_Rommel', 'Estonia', 'Europe', 'Finland', 'Flanders', 'France', 'Franklin_D._Roosevelt', 'Germany', 'Gibraltar', 'Great_Britain', 'Guam', 'Harry_S._Truman', 'Hirohito', 'Ho_Chi_Minh_City', 'Hong_Kong', 'Hungary', 'Imperial_Japanese_Navy', 'India', 'Iraq', 'Israel', 'Japan', 'Japanese_war_crimes', 'Jet_engine', 'Jew', 'Joseph_Stalin', 'Korea', 'Latvia', 'League_of_Nations', 'Lebanon', 'Libya', 'Lithuania', 'Luftwaffe', 'Luxembourg', 'Malta', 'Mao_Zedong', 'Marshall_Islands', 'Marshall_Plan', 'Milan', 'Montevideo', 'Moscow', 'Myanmar', 'Naval_Battle_of_Guadalcanal', 'Nazi_Germany', 'Nazism', 'Netherlands', 'New_Zealand', 'North_Africa', 'North_Korea', 'Norway', 'Nuclear_weapon', 'Pakistan', 'Paris', 'People%27s_Republic_of_China', 'Philippines', 'Poland', 'Prime_Minister_of_the_United_Kingdom', 'Radar', 'Republic_of_China', 'Rhine', 'Romania', 'Rome', 'Royal_Air_Force', 'Royal_Navy', 'San_Francisco%2C_California', 'Singapore', 'Slavery', 'Solomon_Islands', 'Soviet_Union', 'Suez_Canal', 'Supermarine_Spitfire', 'Syria', 'Taiwan', 'Tank', 'The_Blitz', 'The_Holocaust', 'Treaty_of_Versailles', 'Tunisia', 'United_Kingdom', 'United_Nations', 'United_States', 'United_States_Congress', 'Vietnam', 'War', 'Warsaw', 'Winston_Churchill', 'Yugoslavia']\n",
      "Lerwick\n",
      "['Africa', 'Anguilla', 'Antigua_and_Barbuda', 'Arctic_Ocean', 'Aruba', 'Asia', 'Atlantic_Ocean', 'Barbados', 'Belize', 'Bermuda', 'British_Virgin_Islands', 'California', 'Canada', 'Capital', 'Caribbean_Sea', 'Cayman_Islands', 'Continent', 'Costa_Rica', 'Craton', 'Cuba', 'Denmark', 'Dominica', 'Dominican_Republic', 'Earth', 'El_Salvador', 'English_language', 'Europe', 'European_Union', 'Florida', 'France', 'French_language', 'Great_Britain', 'Greenland', 'Grenada', 'Guadeloupe', 'Guatemala', 'Gulf_of_Mexico', 'Guyana', 'Haiti', 'Honduras', 'Hudson_Bay', 'Jamaica', 'John_Cabot', 'Latin_America', 'Martinique', 'Mestizo', 'Mexico', 'Mexico_City', 'Montserrat', 'Navassa_Island', 'Netherlands', 'Netherlands_Antilles', 'Nicaragua', 'Oceania', 'Oregon', 'Ottawa', 'Pacific_Ocean', 'Panama', 'Panama_Canal', 'Plate_tectonics', 'Portuguese_language', 'Puerto_Rico', 'Rocky_Mountains', 'Saint-Pierre_and_Miquelon', 'Saint_Kitts_and_Nevis', 'Saint_Lucia', 'Saint_Vincent_and_the_Grenadines', 'South_America', 'Spain', 'Spanish_language', 'The_Bahamas', 'Trinidad_and_Tobago', 'Turks_and_Caicos_Islands', 'United_Kingdom', 'United_Nations', 'United_States', 'Washington%2C_D.C.']\n",
      "Shining_Path\n",
      "['Aristotle', 'Australian_Green_Tree_Frog', 'Bacteria', 'Bird', 'Cambrian', 'Cambrian_explosion', 'Carbon_dioxide', 'Carolus_Linnaeus', 'Chordate', 'Energy', 'Eukaryote', 'Fish', 'Fungus', 'Human', 'Insect', 'Latin', 'Magellanic_Penguin', 'Mammal', 'Organism', 'Oxygen', 'Photosynthesis', 'Plant', 'Precambrian', 'Reptile', 'Scientific_classification', 'Spider', 'Sunlight', 'Vertebrate', 'Water']\n",
      "War_of_the_League_of_Cambrai\n",
      "['AIDS', 'Aesthetics', 'Africa', 'Agriculture', 'Animal', 'Antarctica', 'Anthropology', 'Ape', 'Arabic_language', 'Archaeology', 'Architecture', 'Arctic', 'Aristotle', 'Art', 'Asia', 'Auguste_Rodin', 'Bonobo', 'Brain', 'Buddhism', 'Cameroon', 'Caravaggio', 'Carnivore', 'Carolus_Linnaeus', 'Cell_%28biology%29', 'Chad', 'Chimpanzee', 'Chordate', 'Christianity', 'City', 'Civilization', 'Clothing', 'Communication', 'Conflict', 'Corporation', 'Crime', 'Culture', 'DNA', 'Deity', 'Democracy', 'Dolphin', 'Dove', 'Drama', 'Earth', 'Economics', 'Elephant', 'Emotion', 'English_language', 'Ethics', 'Ethnic_group', 'Eukaryote', 'Euro', 'Europe', 'Family', 'Fiction', 'Folklore', 'Gabon', 'Genetics', 'God', 'Gorilla', 'Government', 'Guatemala', 'Herbivore', 'Hindi', 'Hinduism', 'Humanism', 'India', 'International_Space_Station', 'Irrigation', 'Islam', 'Japanese_yen', 'Language', 'Latin', 'Law', 'Leonardo_da_Vinci', 'Life', 'Linguistics', 'List_of_circulating_currencies', 'Literature', 'Logic', 'Love', 'Madrid', 'Mammal', 'Manufacturing', 'Market', 'Max_Weber', 'Metallurgy', 'Mexico_City', 'Military_dictatorship', 'Mind', 'Monaco', 'Monarchy', 'Money', 'Music', 'Mythology', 'New_York_City', 'Oceania', 'Organism', 'Organization', 'Philosophy', 'Physics', 'Pigment', 'Plato', 'Poetry', 'Politics', 'Pollution', 'Pottery', 'Pound_sterling', 'Propaganda', 'Psychology', 'Race', 'Raphael', 'Religion', 'Science', 'Scientific_classification', 'Seoul', 'Shanghai', 'Sigmund_Freud', 'Sleep', 'Society', 'Sociology', 'Space_exploration', 'Spanish_language', 'Supply_and_demand', 'Swaziland', 'Technology', 'Time', 'Tokyo', 'Transport', 'Uganda', 'Ultraviolet', 'United_Nations', 'United_States_dollar', 'Universe', 'Water_resources', 'Weapon', 'World_War_II', 'Writing']\n",
      "Tropical_Storm_Leslie_%282000%29\n",
      "['20th_century', 'Animal', 'Australia', 'Bat', 'Bird', 'Brain', 'Cambrian', 'Carboniferous', 'Carolus_Linnaeus', 'China', 'Chordate', 'Cretaceous', 'Cretaceous-Tertiary_extinction_event', 'Devonian', 'Dimetrodon', 'Dinosaur', 'Dolphin', 'Elephant', 'Elephant_shrew', 'Fossil_record', 'Hippopotamus', 'Horse', 'Human', 'Jurassic', 'Landform', 'Lion', 'Milk', 'North_America', 'Oligocene', 'Ordovician', 'Paleocene', 'Paleontology', 'Pelycosaur', 'Permian', 'Pig', 'Platypus', 'Scientific_classification', 'South_America', 'Triassic', 'Vertebrate', 'Whale', 'Zebra']\n",
      "Children%27s_Crusade\n",
      "['AIDS', 'Airbus', 'Airbus_A380', 'Algeria', 'Andorra', 'Antarctica', 'Arabic_language', 'Atlantic_Ocean', 'Australia', 'Belgium', 'Berber_languages', 'Brazil', 'British_Empire', 'Brussels', 'Buddhism', 'California', 'Charlemagne', 'China', 'Constitutional_monarchy', 'Country', 'Currency', 'Democracy', 'Eastern_Orthodox_Church', 'English_Channel', 'Euro', 'European_Union', 'Franks', 'French_Revolution', 'French_language', 'German_language', 'Germany', 'God', 'Indian_Ocean', 'Internet', 'Interpol', 'Islam', 'Italy', 'Japan', 'Judaism', 'Julius_Caesar', 'Kenya', 'Latin', 'Lille', 'List_of_countries_by_system_of_government', 'Louis_XIV_of_France', 'Luxembourg', 'Lyon', 'Maghreb', 'Marseille', 'Mediterranean_Sea', 'Middle_Ages', 'Monaco', 'Myanmar', 'Napoleon_I_of_France', 'Napoleonic_Wars', 'Netherlands_Antilles', 'New_Caledonia', 'North_America', 'North_Sea', 'Pacific_Ocean', 'Paris', 'Portuguese_language', 'Republic_of_Ireland', 'Rhine', 'River', 'Roman_Catholic_Church', 'Roman_Empire', 'Russia', 'South_America', 'Spain', 'Spanish_language', 'Sub-Saharan_Africa', 'Suriname', 'Switzerland', 'Thailand', 'Time_zone', 'Tunisia', 'United_Kingdom', 'United_Nations', 'United_States', 'Western_Roman_Empire', 'World_Bank_Group', 'World_War_I', 'World_War_II', 'Yemen']\n",
      "Nikolai_Rimsky-Korsakov\n",
      "['Adolf_Hitler', 'Afghanistan', 'Agnosticism', 'Albania', 'Albert_Einstein', 'Andorra', 'Arabic_language', 'Armenia', 'Asia', 'Atheism', 'Atlantic_Ocean', 'Attack_on_Pearl_Harbor', 'Augustus', 'Austria', 'Automobile', 'Azerbaijan', 'Baltic_Sea', 'Battle_of_Stalingrad', 'Belarus', 'Belgium', 'Berlin', 'Berlin_Wall', 'Blitzkrieg', 'Bosnia_and_Herzegovina', 'Brothers_Grimm', 'Bulgaria', 'Canada', 'Capital', 'Capitalism', 'Carbon_dioxide', 'Carl_Friedrich_Gauss', 'Charlemagne', 'Chinese_language', 'Coal', 'Cologne', 'Country', 'Croatia', 'Currency', 'Cyprus', 'Czech_Republic', 'D%C3%BCsseldorf', 'Danube', 'David_Hilbert', 'Democratic_Republic_of_the_Congo', 'Denmark', 'Dresden', 'England', 'English_language', 'Estonia', 'Euro', 'Europe', 'European_Union', 'Family', 'Faroe_Islands', 'Felix_Mendelssohn', 'Finland', 'France', 'Frankfurt', 'Franks', 'Franz_Kafka', 'French_Revolution', 'French_language', 'Friedrich_Nietzsche', 'Georg_Cantor', 'George_W._Bush', 'Georgia_%28country%29', 'German_language', 'German_reunification', 'Gottfried_Leibniz', 'Government', 'Great_Britain', 'Greece', 'Greenhouse_effect', 'Hamburg', 'Holy_Roman_Empire', 'Hungary', 'Iceland', 'Immanuel_Kant', 'India', 'Industrial_Revolution', 'Internet', 'Iranian_peoples', 'Israel', 'Italy', 'Japan', 'Jew', 'Johann_Sebastian_Bach', 'Johannes_Gutenberg', 'Johannes_Kepler', 'Karl_Benz', 'Karl_Marx', 'Kazakhstan', 'Kosovo', 'Latin', 'Latvia', 'Lebanon', 'Liechtenstein', 'List_of_countries', 'List_of_countries_by_system_of_government', 'Lithuania', 'London', 'Ludwig_van_Beethoven', 'Luftwaffe', 'Luxembourg', 'Malta', 'Marshall_Plan', 'Martin_Luther', 'Max_Planck', 'Max_Weber', 'Medicine', 'Mediterranean_Sea', 'Moldova', 'Monaco', 'Montenegro', 'Moscow', 'Munich', 'NATO', 'Napoleonic_Wars', 'Natural_gas', 'Nazism', 'Netherlands', 'North_Sea', 'Norway', 'Nuclear_power', 'Otto_von_Bismarck', 'Paris', 'People%27s_Republic_of_China', 'Poland', 'Pope', 'Portugal', 'Prime_Minister_of_the_United_Kingdom', 'Republic_of_Ireland', 'Republic_of_Macedonia', 'Rhine', 'Richard_Wagner', 'River', 'Robert_Schumann', 'Roman_Empire', 'Roman_law', 'Romania', 'Russia', 'Russian_language', 'San_Marino', 'Scotland', 'Serbia', 'Slovakia', 'Slovenia', 'Soviet_Union', 'Spain', 'Spanish_language', 'Stuttgart', 'Sweden', 'Switzerland', 'The_Holocaust', 'Time_zone', 'Treaty_of_Versailles', 'Turkey', 'Ukraine', 'United_Kingdom', 'United_Nations', 'United_States', 'University', 'Vatican_City', 'Wernher_von_Braun', 'Wolfgang_Amadeus_Mozart', 'World_Trade_Organization', 'World_War_I', 'World_War_II', 'Yugoslavia']\n",
      "Common_Cuckoo\n",
      "['15th_century', '5th_century', 'Acts_of_Union_1707', 'American_English', 'Anguilla', 'Antigua_and_Barbuda', 'Australia', 'Australian_English', 'Barbados', 'Belize', 'Bermuda', 'Boston%2C_Massachusetts', 'British_Empire', 'British_English', 'British_Indian_Ocean_Territory', 'British_Isles', 'British_Virgin_Islands', 'Cameroon', 'Canada', 'Canadian_English', 'Cattle', 'Cayman_Islands', 'Channel_Islands', 'Dominica', 'Drama', 'Dutch_language', 'England', 'Esperanto', 'European_Union', 'Falkland_Islands', 'Federated_States_of_Micronesia', 'Fiji', 'French_language', 'German_language', 'Germany', 'Ghana', 'Gibraltar', 'Great_Britain', 'Grenada', 'Guernsey', 'Guyana', 'HTTP_cookie', 'Hindi', 'Hong_Kong', 'India', 'Internet', 'Ireland', 'Isle_of_Man', 'Israel', 'Jamaica', 'Japan', 'Jersey', 'Kenya', 'Kiribati', 'Kosovo', 'Language', 'Latin', 'Latin_alphabet', 'Lesotho', 'Liberia', 'Liverpool', 'Malaysia', 'Malta', 'Marshall_Islands', 'Mauritius', 'Montserrat', 'Namibia', 'Nauru', 'Netherlands', 'New_Zealand', 'Nigeria', 'Northern_Ireland', 'Old_English_language', 'Pakistan', 'Papua_New_Guinea', 'People%27s_Republic_of_China', 'Philippines', 'Picts', 'Pig', 'Pitcairn_Islands', 'Poetry', 'Puerto_Rico', 'Republic_of_Ireland', 'Rwanda', 'Saint_Helena', 'Saint_Kitts_and_Nevis', 'Saint_Lucia', 'Saint_Vincent_and_the_Grenadines', 'Samoa', 'Scotland', 'Scots_language', 'Sierra_Leone', 'Singapore', 'Solomon_Islands', 'South_Africa', 'South_Georgia_and_the_South_Sandwich_Islands', 'South_Korea', 'Spanish_language', 'Sri_Lanka', 'Swaziland', 'Taiwan', 'Tanzania', 'The_Bahamas', 'The_Gambia', 'Trinidad_and_Tobago', 'Turks_and_Caicos_Islands', 'Uganda', 'United_Kingdom', 'United_Nations', 'United_States', 'United_States_Virgin_Islands', 'University', 'Viking', 'Wales', 'William_Shakespeare', 'World_War_II', 'Zambia', 'Zimbabwe']\n",
      "Glynn_Lunney\n",
      "['Age_of_Enlightenment', 'Archaeology', 'Atom', 'Bertrand_Russell', 'Biology', 'Calculus', 'Chemistry', 'Computer_science', 'Engineering', 'Ethics', 'History_of_science', 'Italy', 'John_Locke', 'Karl_Popper', 'Latin', 'Linguistics', 'Manufacturing', 'Mathematics', 'Middle_Ages', 'Nature', 'Paleontology', 'Philosophy', 'Physical_science', 'Physics', 'Political_science', 'Pollution', 'Quantum_mechanics', 'Renaissance', 'Richard_Feynman', 'Sanskrit', 'Society', 'Statistics', 'Technology', 'Thomas_Samuel_Kuhn', 'Tobacco_smoking', 'Topology', 'United_States', 'Universe', 'University', 'World_Wide_Web']\n",
      "Lightning_rod\n",
      "['Africa', 'Asia', 'Bah%C3%A1%27%C3%AD_Faith', 'Bangalore', 'Bangladesh', 'Bay_of_Bengal', 'Bhutan', 'Biodiversity', 'British_East_India_Company', 'Buddhism', 'Chennai', 'Chess', 'Christianity', 'Cold_War', 'Cricket', 'Currency', 'Delhi', 'English_language', 'Europe', 'European_Union', 'Extinction', 'Flag_of_India', 'Football_%28soccer%29', 'France', 'Ganges_River', 'Gautama_Buddha', 'Goa', 'Himalayas', 'Hindi', 'Hinduism', 'Indian_Ocean', 'Indian_Standard_Time', 'Indian_independence_movement', 'Indira_Gandhi', 'Indonesia', 'Indus_River', 'Indus_Valley_Civilization', 'Japan', 'Jew', 'Kargil_War', 'Kerala', 'Kolkata', 'Liberal_democracy', 'List_of_countries_by_system_of_government', 'Mahabharata', 'Mahatma_Gandhi', 'Maldives', 'Mammal', 'Mango', 'Mumbai', 'Myanmar', 'Nepal', 'Netherlands', 'New_Delhi', 'Pakistan', 'People%27s_Republic_of_China', 'Plate_tectonics', 'Portugal', 'Rabindranath_Tagore', 'Ramayana', 'Reptile', 'Rice', 'Sanskrit', 'Sikhism', 'Sikkim', 'Socialism', 'South_America', 'Soviet_Union', 'Sri_Lanka', 'Stone_Age', 'Taj_Mahal', 'Tamil_language', 'Tennis', 'Time_zone', 'United_Arab_Emirates', 'United_Kingdom', 'United_Nations', 'United_States', 'United_States_dollar', 'Westminster_System', 'Wheat']\n",
      "Nobiin_language\n",
      "['Aberdeen', 'Abidjan', 'Accra', 'Africa', 'Airship', 'Albatross', 'Amazon_River', 'Amsterdam', 'Angola', 'Antarctica', 'Antwerp', 'Arctic_Ocean', 'Argentina', 'Baltic_Sea', 'Baltimore%2C_Maryland', 'Banjul', 'Belfast', 'Belgium', 'Benin', 'Bermuda', 'Bissau', 'Black_Sea', 'Boston%2C_Massachusetts', 'Brazil', 'Bristol', 'C%C3%B4te_d%27Ivoire', 'Cameroon', 'Canada', 'Cape_Town', 'Cape_Verde', 'Caribbean_Sea', 'Chile', 'Christopher_Columbus', 'Cod', 'Conakry', 'Dakar', 'Dolphin', 'Earth', 'Edinburgh', 'English_Channel', 'Equatorial_Guinea', 'Europe', 'Falkland_Islands', 'Faroe_Islands', 'France', 'French_Guiana', 'Funchal', 'Gabon', 'Georgetown%2C_Guyana', 'Germany', 'Ghana', 'Glasgow', 'Gothenburg', 'Great_Britain', 'Greek_mythology', 'Greenland', 'Guadeloupe', 'Guinea', 'Guinea-Bissau', 'Gulf_of_Mexico', 'Hamburg', 'Herodotus', 'Honduras', 'Houston%2C_Texas', 'Iceland', 'Indian_Ocean', 'Ireland', 'Irish_Sea', 'Lagos', 'Las_Palmas_de_Gran_Canaria', 'Liberia', 'Libreville', 'Lisbon', 'Liverpool', 'Lom%C3%A9', 'London', 'Mauritania', 'Mediterranean_Sea', 'Monrovia', 'Morocco', 'Namibia', 'Netherlands', 'New_York_City', 'Newcastle_upon_Tyne', 'Nigeria', 'North_Sea', 'Norway', 'Nouakchott', 'Ocean', 'Oslo', 'Pacific_Ocean', 'Panama_Canal', 'Paris', 'Peru', 'Petroleum', 'Porto-Novo', 'Portsmouth', 'Portugal', 'Praia', 'RMS_Titanic', 'Rabat', 'Republic_of_Ireland', 'Rio_de_Janeiro', 'Rockall', 'Rotterdam', 'S%C3%A3o_Paulo', 'Sea', 'Senegal', 'South_Africa', 'South_Georgia_and_the_South_Sandwich_Islands', 'Southampton', 'Southern_Ocean', 'Spain', 'Suriname', 'Sweden', 'Telephone', 'The_Gambia', 'Tide', 'Togo', 'Tropical_cyclone', 'Turtle', 'United_Kingdom', 'United_States', 'Viking', 'Whale']\n",
      "Post-glacial_rebound\n",
      "['Africa', 'Alcohol', 'Ammonia', 'Andes', 'Arable_land', 'Barley', 'Beekeeping', 'Biodiesel', 'Botany', 'Cereal', 'Cocoa', 'Coffee', 'Cotton', 'Egg_%28food%29', 'Egypt', 'Ethanol', 'Fertile_Crescent', 'Fertilizer', 'Fish', 'Flower', 'Food', 'Fossil_fuel', 'France', 'Fruit', 'Germany', 'Global_warming', 'History_of_the_world', 'Honey', 'Horse', 'Indonesia', 'Irrigation', 'Maize', 'Meat', 'Mesopotamia', 'Middle_Ages', 'Milk', 'Nitrogen', 'Nutrition', 'Pea', 'Phosphorus', 'Potato', 'Rice', 'River', 'Soil', 'Soil_salination', 'Sorghum', 'South_America', 'Soybean', 'Sugar', 'Sumer', 'Sweden', 'Tea', 'Tobacco', 'Vegetable', 'Virgil', 'Weed', 'Wheat']\n",
      "Afghan_Hound\n",
      "['Agriculture', 'Alcohol', 'Amber', 'Animal', 'Ant', 'Arecaceae', 'Aristotle', 'Beer', 'Biofuel', 'Canola', 'Carbon_dioxide', 'Carolus_Linnaeus', 'Coal', 'Coffee', 'Cotton', 'Cretaceous', 'Devonian', 'Eukaryote', 'Fern', 'Fertilizer', 'Flower', 'Forest', 'Fossil', 'Fruit', 'Fungus', 'Gardening', 'Glasgow', 'Gregor_Mendel', 'Herbivore', 'Invasive_species', 'Jurassic', 'Life', 'Light', 'Lung_cancer', 'Maize', 'Mitochondrion', 'Morphine', 'Moss', 'Nitrogen', 'Nitrogen_cycle', 'Nitrogen_fixation', 'Ordovician', 'Organism', 'Permian', 'Petroleum', 'Phosphorus', 'Photosynthesis', 'Potato', 'Rice', 'Safflower', 'Scientific_classification', 'Scotland', 'Seed', 'Silurian', 'Soil', 'Soybean', 'Sugar', 'Sugar_beet', 'Sundew', 'Sunflower', 'Sunlight', 'Tea', 'Temperate', 'Tobacco', 'Tree', 'Triassic', 'Weed', 'Wheat', 'Wine', 'Wood']\n",
      "Giganotosaurus\n",
      "['Abacus', 'Automobile', 'BASIC', 'Boolean_logic', 'C%2B%2B', 'CPU_cache', 'Central_processing_unit', 'Charles_Babbage', 'Computer_and_video_games', 'Computer_programming', 'Cryptography', 'Electrical_engineering', 'Electricity', 'Electronics', 'Floppy_disk', 'GNOME', 'GNU', 'Great_Britain', 'History_of_computing_hardware', 'Integrated_circuit', 'Internet', 'John_von_Neumann', 'Linux', 'Matrix_%28mathematics%29', 'Microsoft_Windows', 'Middle_Ages', 'Perl', 'Python_%28programming_language%29', 'Quantum_computer', 'Telephone', 'Television', 'Toy', 'Trigonometry', 'Unix', 'Watch', 'World_Wide_Web']\n",
      "least_used_articles_graph.html\n"
     ]
    },
    {
     "name": "stderr",
     "output_type": "stream",
     "text": [
      "C:\\Users\\fricl\\AppData\\Local\\Temp\\ipykernel_26120\\845543194.py:1: MatplotlibDeprecationWarning:\n",
      "\n",
      "The get_cmap function was deprecated in Matplotlib 3.7 and will be removed in 3.11. Use ``matplotlib.colormaps[name]`` or ``matplotlib.colormaps.get_cmap()`` or ``pyplot.get_cmap()`` instead.\n",
      "\n"
     ]
    },
    {
     "data": {
      "text/html": [
       "\n",
       "        <iframe\n",
       "            width=\"100%\"\n",
       "            height=\"600px\"\n",
       "            src=\"least_used_articles_graph.html\"\n",
       "            frameborder=\"0\"\n",
       "            allowfullscreen\n",
       "            \n",
       "        ></iframe>\n",
       "        "
      ],
      "text/plain": [
       "<IPython.lib.display.IFrame at 0x1e0458c3510>"
      ]
     },
     "execution_count": 107,
     "metadata": {},
     "output_type": "execute_result"
    }
   ],
   "source": [
    "color_map = plt.cm.get_cmap('Reds')\n",
    "\n",
    "# Normalize the log_counts to [0, 1]\n",
    "norm = matplotlib.colors.Normalize(vmin=min(least_clicked_counts), vmax=max(least_clicked_counts))\n",
    "least_colors_hex = [matplotlib.colors.to_hex(color_map(norm(count))) for count in least_clicked_counts]\n",
    "\n",
    "net = Network(directed=True, \n",
    "              notebook=True, \n",
    "              font_color='#10000000')\n",
    "\n",
    "# Turn off physics so nodes stay fixed\n",
    "net.barnes_hut(overlap=1)  # Adjust spring tightness\n",
    "net.toggle_physics(False)\n",
    "\n",
    "# write the title of each node\n",
    "titles = [f\"article: {least_clicked_articles[i]} \\n click count: {least_clicked_counts[i]} \\n in degree: {least_in_degree[i]} \\n out degree: {least_out_degree[i]}\" for i in range(len(least_clicked_articles))]\n",
    "\n",
    "net.add_nodes(least_clicked_articles, \n",
    "              title=titles, \n",
    "              color=least_colors_hex)\n",
    "\n",
    "\n",
    "# Let's add edges between articles that are connected in Wikipedia\n",
    "for i, article1 in enumerate(least_clicked_articles):\n",
    "    print(article1)\n",
    "    name_links_out = data_sorted.name_links_out.iloc[i]\n",
    "    print(name_links_out)\n",
    "\n",
    "    if pd.notna(name_links_out):\n",
    "        for article2 in least_clicked_articles: \n",
    "            if article2 in name_links_out:\n",
    "                net.add_edge(article1, article2)\n",
    "\n",
    "\n",
    "net.show(\"least_used_articles_graph.html\")"
   ]
  },
  {
   "cell_type": "markdown",
   "metadata": {},
   "source": [
    "You can separate all nodes to get an idea of which articles are well connected and which are isolated!! \n",
    "\n",
    "We see that a lot of western countries are present within the most clicked articles and many oriental subjects are in the least clicked countries. This motivates our project in which we will associate each article to it's corresponding country and analyse the distributions of those countries within the Wikipedia graph. In the end, we are ultimately interested in whether players of the Wikispeedia game really tend to click more on articles that are associated with western countries or if this feature is due to the properties of the Wikipedia graph itself. "
   ]
  },
  {
   "cell_type": "markdown",
   "metadata": {},
   "source": [
    "## 1. What is the distribution of countries in the Wikipedia graph?"
   ]
  },
  {
   "cell_type": "markdown",
   "metadata": {},
   "source": [
    "Now that all (most) articles are associated to a country, we can look at the distribution of those countries. Is there a country that is associated to more articles (we have our little idea haha but let's check). "
   ]
  },
  {
   "cell_type": "markdown",
   "metadata": {},
   "source": [
    "In order to find the distribution of countries in the Wikipedia graph, we need the number of articles that are associated to each of the represented countries."
   ]
  },
  {
   "cell_type": "code",
   "execution_count": 124,
   "metadata": {},
   "outputs": [],
   "source": [
    "countries_occurrences = data.groupby(\"Top_1_name\").size().reset_index()\n",
    "data_countries = data.groupby(\"Top_1_name\").sum().reset_index()\n",
    "data_countries[\"occurrence\"] = countries_occurrences.iloc[:,1].tolist()\n",
    "\n",
    "# percent of articles that belong to each country\n",
    "data_countries[\"percent\"] = data_countries[\"occurrence\"] / sum(data_countries[\"occurrence\"])"
   ]
  },
  {
   "cell_type": "code",
   "execution_count": 123,
   "metadata": {},
   "outputs": [
    {
     "data": {
      "text/html": [
       "<div>\n",
       "<style scoped>\n",
       "    .dataframe tbody tr th:only-of-type {\n",
       "        vertical-align: middle;\n",
       "    }\n",
       "\n",
       "    .dataframe tbody tr th {\n",
       "        vertical-align: top;\n",
       "    }\n",
       "\n",
       "    .dataframe thead th {\n",
       "        text-align: right;\n",
       "    }\n",
       "</style>\n",
       "<table border=\"1\" class=\"dataframe\">\n",
       "  <thead>\n",
       "    <tr style=\"text-align: right;\">\n",
       "      <th></th>\n",
       "      <th>Top_1_name</th>\n",
       "      <th>click_count</th>\n",
       "      <th>num_links_in</th>\n",
       "      <th>name_links_in</th>\n",
       "      <th>num_links_out</th>\n",
       "      <th>name_links_out</th>\n",
       "      <th>occurrence</th>\n",
       "      <th>percent</th>\n",
       "    </tr>\n",
       "  </thead>\n",
       "  <tbody>\n",
       "    <tr>\n",
       "      <th>0</th>\n",
       "      <td>afghanistan</td>\n",
       "      <td>629</td>\n",
       "      <td>313.0</td>\n",
       "      <td>['15th_Marine_Expeditionary_Unit', '18th_centu...</td>\n",
       "      <td>732.0</td>\n",
       "      <td>['18th_century', 'Afghan_Hound', 'Alexander_th...</td>\n",
       "      <td>10</td>\n",
       "      <td>0.003858</td>\n",
       "    </tr>\n",
       "    <tr>\n",
       "      <th>1</th>\n",
       "      <td>albania</td>\n",
       "      <td>21</td>\n",
       "      <td>85.0</td>\n",
       "      <td>['AK-47', 'Armenia', 'Atheism', 'Athens', 'Aze...</td>\n",
       "      <td>153.0</td>\n",
       "      <td>['Afghanistan', 'Agriculture', 'Algeria', 'Anc...</td>\n",
       "      <td>2</td>\n",
       "      <td>0.000772</td>\n",
       "    </tr>\n",
       "    <tr>\n",
       "      <th>2</th>\n",
       "      <td>algeria</td>\n",
       "      <td>700</td>\n",
       "      <td>263.0</td>\n",
       "      <td>['10th_century', '1973_oil_crisis', 'Africa', ...</td>\n",
       "      <td>201.0</td>\n",
       "      <td>['Africa', 'Agriculture', 'Algerian_Civil_War'...</td>\n",
       "      <td>6</td>\n",
       "      <td>0.002315</td>\n",
       "    </tr>\n",
       "    <tr>\n",
       "      <th>3</th>\n",
       "      <td>andorra</td>\n",
       "      <td>6</td>\n",
       "      <td>41.0</td>\n",
       "      <td>['Albania', 'Armenia', 'Azerbaijan', 'Biodiver...</td>\n",
       "      <td>54.0</td>\n",
       "      <td>['Agriculture', 'Algeria', 'Argentina', 'Brazi...</td>\n",
       "      <td>1</td>\n",
       "      <td>0.000386</td>\n",
       "    </tr>\n",
       "    <tr>\n",
       "      <th>4</th>\n",
       "      <td>angola</td>\n",
       "      <td>28</td>\n",
       "      <td>80.0</td>\n",
       "      <td>['13th_century', '2005_Lake_Tanganyika_earthqu...</td>\n",
       "      <td>21.0</td>\n",
       "      <td>['Africa', 'Atlantic_Ocean', 'Bantu', 'Cold_Wa...</td>\n",
       "      <td>1</td>\n",
       "      <td>0.000386</td>\n",
       "    </tr>\n",
       "    <tr>\n",
       "      <th>...</th>\n",
       "      <td>...</td>\n",
       "      <td>...</td>\n",
       "      <td>...</td>\n",
       "      <td>...</td>\n",
       "      <td>...</td>\n",
       "      <td>...</td>\n",
       "      <td>...</td>\n",
       "      <td>...</td>\n",
       "    </tr>\n",
       "    <tr>\n",
       "      <th>190</th>\n",
       "      <td>venezuela</td>\n",
       "      <td>447</td>\n",
       "      <td>180.0</td>\n",
       "      <td>['El_Hatillo_Municipality%2C_Miranda', 'Global...</td>\n",
       "      <td>150.0</td>\n",
       "      <td>['Baroque', 'Baseball', 'Capital', 'Caribbean_...</td>\n",
       "      <td>5</td>\n",
       "      <td>0.001929</td>\n",
       "    </tr>\n",
       "    <tr>\n",
       "      <th>191</th>\n",
       "      <td>vietnam</td>\n",
       "      <td>287</td>\n",
       "      <td>281.0</td>\n",
       "      <td>['Asia', 'Beijing', 'Global_city', 'Ho_Chi_Min...</td>\n",
       "      <td>171.0</td>\n",
       "      <td>['Agriculture', 'Australia', 'Capital', 'Confu...</td>\n",
       "      <td>6</td>\n",
       "      <td>0.002315</td>\n",
       "    </tr>\n",
       "    <tr>\n",
       "      <th>192</th>\n",
       "      <td>yemen</td>\n",
       "      <td>19</td>\n",
       "      <td>68.0</td>\n",
       "      <td>['Albania', 'Arab_League', 'Arabic_language', ...</td>\n",
       "      <td>140.0</td>\n",
       "      <td>['11th_century', '16th_century', '19th_century...</td>\n",
       "      <td>1</td>\n",
       "      <td>0.000386</td>\n",
       "    </tr>\n",
       "    <tr>\n",
       "      <th>193</th>\n",
       "      <td>zambia</td>\n",
       "      <td>121</td>\n",
       "      <td>122.0</td>\n",
       "      <td>['Zambezi']['Africa', 'Henry_Morton_Stanley', ...</td>\n",
       "      <td>206.0</td>\n",
       "      <td>['AIDS', 'Copper', 'Mining', 'Zambezi', 'Zambi...</td>\n",
       "      <td>6</td>\n",
       "      <td>0.002315</td>\n",
       "    </tr>\n",
       "    <tr>\n",
       "      <th>194</th>\n",
       "      <td>zimbabwe</td>\n",
       "      <td>99</td>\n",
       "      <td>92.0</td>\n",
       "      <td>['Africa', 'Global_city', 'Munich', 'Nottingha...</td>\n",
       "      <td>80.0</td>\n",
       "      <td>['Capital', 'Citrus', 'City', 'Cotton', 'Fruit...</td>\n",
       "      <td>2</td>\n",
       "      <td>0.000772</td>\n",
       "    </tr>\n",
       "  </tbody>\n",
       "</table>\n",
       "<p>195 rows × 8 columns</p>\n",
       "</div>"
      ],
      "text/plain": [
       "      Top_1_name  click_count  num_links_in  \\\n",
       "0    afghanistan          629         313.0   \n",
       "1        albania           21          85.0   \n",
       "2        algeria          700         263.0   \n",
       "3        andorra            6          41.0   \n",
       "4         angola           28          80.0   \n",
       "..           ...          ...           ...   \n",
       "190    venezuela          447         180.0   \n",
       "191      vietnam          287         281.0   \n",
       "192        yemen           19          68.0   \n",
       "193       zambia          121         122.0   \n",
       "194     zimbabwe           99          92.0   \n",
       "\n",
       "                                         name_links_in  num_links_out  \\\n",
       "0    ['15th_Marine_Expeditionary_Unit', '18th_centu...          732.0   \n",
       "1    ['AK-47', 'Armenia', 'Atheism', 'Athens', 'Aze...          153.0   \n",
       "2    ['10th_century', '1973_oil_crisis', 'Africa', ...          201.0   \n",
       "3    ['Albania', 'Armenia', 'Azerbaijan', 'Biodiver...           54.0   \n",
       "4    ['13th_century', '2005_Lake_Tanganyika_earthqu...           21.0   \n",
       "..                                                 ...            ...   \n",
       "190  ['El_Hatillo_Municipality%2C_Miranda', 'Global...          150.0   \n",
       "191  ['Asia', 'Beijing', 'Global_city', 'Ho_Chi_Min...          171.0   \n",
       "192  ['Albania', 'Arab_League', 'Arabic_language', ...          140.0   \n",
       "193  ['Zambezi']['Africa', 'Henry_Morton_Stanley', ...          206.0   \n",
       "194  ['Africa', 'Global_city', 'Munich', 'Nottingha...           80.0   \n",
       "\n",
       "                                        name_links_out  occurrence   percent  \n",
       "0    ['18th_century', 'Afghan_Hound', 'Alexander_th...          10  0.003858  \n",
       "1    ['Afghanistan', 'Agriculture', 'Algeria', 'Anc...           2  0.000772  \n",
       "2    ['Africa', 'Agriculture', 'Algerian_Civil_War'...           6  0.002315  \n",
       "3    ['Agriculture', 'Algeria', 'Argentina', 'Brazi...           1  0.000386  \n",
       "4    ['Africa', 'Atlantic_Ocean', 'Bantu', 'Cold_Wa...           1  0.000386  \n",
       "..                                                 ...         ...       ...  \n",
       "190  ['Baroque', 'Baseball', 'Capital', 'Caribbean_...           5  0.001929  \n",
       "191  ['Agriculture', 'Australia', 'Capital', 'Confu...           6  0.002315  \n",
       "192  ['11th_century', '16th_century', '19th_century...           1  0.000386  \n",
       "193  ['AIDS', 'Copper', 'Mining', 'Zambezi', 'Zambi...           6  0.002315  \n",
       "194  ['Capital', 'Citrus', 'City', 'Cotton', 'Fruit...           2  0.000772  \n",
       "\n",
       "[195 rows x 8 columns]"
      ]
     },
     "execution_count": 123,
     "metadata": {},
     "output_type": "execute_result"
    }
   ],
   "source": [
    "data_countries"
   ]
  },
  {
   "cell_type": "code",
   "execution_count": 128,
   "metadata": {},
   "outputs": [
    {
     "data": {
      "application/vnd.plotly.v1+json": {
       "config": {
        "plotlyServerURL": "https://plot.ly"
       },
       "data": [
        {
         "domain": {
          "x": [
           0,
           1
          ],
          "y": [
           0,
           1
          ]
         },
         "hovertemplate": "Top_1_name=%{label}<br>percent=%{value}<extra></extra>",
         "labels": [
          "afghanistan",
          "albania",
          "algeria",
          "andorra",
          "angola",
          "anguilla",
          "antarctica",
          "argentina",
          "armenia",
          "aruba",
          "australia",
          "austria",
          "azerbaijan",
          "bahamas",
          "bahrain",
          "bangladesh",
          "barbados",
          "belarus",
          "belgium",
          "belize",
          "benin",
          "bermuda",
          "bhutan",
          "bolivia",
          "botswana",
          "brazil",
          "british virgin islands",
          "brunei",
          "bulgaria",
          "burkina faso",
          "burundi",
          "cambodia",
          "cameroon",
          "canada",
          "cape verde",
          "cayman islands",
          "central african republic",
          "chad",
          "chile",
          "china",
          "colombia",
          "comoros",
          "cook islands",
          "costa rica",
          "croatia",
          "cuba",
          "cyprus",
          "denmark",
          "djibouti",
          "dominica",
          "ecuador",
          "egypt",
          "el salvador",
          "eritrea",
          "estonia",
          "ethiopia",
          "falkland islands",
          "fiji",
          "finland",
          "france",
          "french polynesia",
          "gabon",
          "gambia",
          "georgia",
          "germany",
          "ghana",
          "gibraltar",
          "greece",
          "greenland",
          "grenada",
          "guadeloupe",
          "guam",
          "guatemala",
          "guernsey",
          "guinea",
          "guyana",
          "haiti",
          "honduras",
          "hungary",
          "iceland",
          "india",
          "indonesia",
          "iran",
          "iraq",
          "ireland",
          "isle of man",
          "israel",
          "italy",
          "jamaica",
          "japan",
          "jersey",
          "jordan",
          "kazakhstan",
          "kenya",
          "kiribati",
          "kuwait",
          "kyrgyzstan",
          "laos",
          "latvia",
          "lebanon",
          "lesotho",
          "liberia",
          "libya",
          "liechtenstein",
          "lithuania",
          "luxembourg",
          "madagascar",
          "malawi",
          "malaysia",
          "maldives",
          "mali",
          "malta",
          "marshall islands",
          "martinique",
          "mauritania",
          "mauritius",
          "mexico",
          "micronesia",
          "moldova",
          "monaco",
          "mongolia",
          "montenegro",
          "montserrat",
          "morocco",
          "mozambique",
          "namibia",
          "nauru",
          "nepal",
          "netherlands",
          "new zealand",
          "nicaragua",
          "niger",
          "niue",
          "north korea",
          "northern mariana islands",
          "norway",
          "oman",
          "pakistan",
          "palau",
          "panama",
          "paraguay",
          "peru",
          "philippines",
          "pitcairn islands",
          "poland",
          "portugal",
          "puerto rico",
          "qatar",
          "russia",
          "rwanda",
          "samoa",
          "san marino",
          "saudi arabia",
          "senegal",
          "serbia",
          "seychelles",
          "sierra leone",
          "singapore",
          "slovakia",
          "slovenia",
          "solomon islands",
          "south africa",
          "south korea",
          "spain",
          "sri lanka",
          "sudan",
          "suriname",
          "sweden",
          "switzerland",
          "syria",
          "taiwan",
          "tajikistan",
          "tanzania",
          "thailand",
          "timor-leste",
          "togo",
          "tonga",
          "tunisia",
          "turkey",
          "turkmenistan",
          "tuvalu",
          "uganda",
          "ukraine",
          "united arab emirates",
          "united kingdom",
          "united states",
          "uruguay",
          "uzbekistan",
          "vanuatu",
          "vatican city",
          "venezuela",
          "vietnam",
          "yemen",
          "zambia",
          "zimbabwe"
         ],
         "legendgroup": "",
         "name": "",
         "showlegend": true,
         "textposition": "inside",
         "type": "pie",
         "values": [
          0.0038580246913580245,
          0.0007716049382716049,
          0.0023148148148148147,
          0.00038580246913580245,
          0.00038580246913580245,
          0.00038580246913580245,
          0.002700617283950617,
          0.005787037037037037,
          0.0011574074074074073,
          0.00038580246913580245,
          0.04205246913580247,
          0.006558641975308642,
          0.0007716049382716049,
          0.0019290123456790122,
          0.00038580246913580245,
          0.0007716049382716049,
          0.0007716049382716049,
          0.0007716049382716049,
          0.006172839506172839,
          0.00038580246913580245,
          0.0011574074074074073,
          0.0007716049382716049,
          0.00038580246913580245,
          0.0015432098765432098,
          0.0011574074074074073,
          0.006944444444444444,
          0.00038580246913580245,
          0.00038580246913580245,
          0.00038580246913580245,
          0.0015432098765432098,
          0.00038580246913580245,
          0.0011574074074074073,
          0.0011574074074074073,
          0.02662037037037037,
          0.0007716049382716049,
          0.00038580246913580245,
          0.00038580246913580245,
          0.0011574074074074073,
          0.003472222222222222,
          0.03279320987654321,
          0.0015432098765432098,
          0.00038580246913580245,
          0.00038580246913580245,
          0.00038580246913580245,
          0.00038580246913580245,
          0.0011574074074074073,
          0.0007716049382716049,
          0.008101851851851851,
          0.00038580246913580245,
          0.0007716049382716049,
          0.0015432098765432098,
          0.011188271604938271,
          0.00038580246913580245,
          0.00038580246913580245,
          0.0011574074074074073,
          0.005401234567901234,
          0.0007716049382716049,
          0.00038580246913580245,
          0.002700617283950617,
          0.04128086419753087,
          0.00038580246913580245,
          0.0007716049382716049,
          0.0007716049382716049,
          0.0023148148148148147,
          0.04089506172839506,
          0.0015432098765432098,
          0.0007716049382716049,
          0.021604938271604937,
          0.0007716049382716049,
          0.0011574074074074073,
          0.00038580246913580245,
          0.00038580246913580245,
          0.0007716049382716049,
          0.0007716049382716049,
          0.00038580246913580245,
          0.0007716049382716049,
          0.00038580246913580245,
          0.0011574074074074073,
          0.003472222222222222,
          0.003472222222222222,
          0.03510802469135803,
          0.006558641975308642,
          0.006944444444444444,
          0.005401234567901234,
          0.015817901234567902,
          0.0007716049382716049,
          0.007716049382716049,
          0.03973765432098766,
          0.0015432098765432098,
          0.022376543209876542,
          0.0011574074074074073,
          0.0015432098765432098,
          0.0015432098765432098,
          0.002700617283950617,
          0.0007716049382716049,
          0.0007716049382716049,
          0.0007716049382716049,
          0.00038580246913580245,
          0.00038580246913580245,
          0.0011574074074074073,
          0.0011574074074074073,
          0.0011574074074074073,
          0.0007716049382716049,
          0.00038580246913580245,
          0.00038580246913580245,
          0.0015432098765432098,
          0.0023148148148148147,
          0.0015432098765432098,
          0.0038580246913580245,
          0.00038580246913580245,
          0.0011574074074074073,
          0.00038580246913580245,
          0.00038580246913580245,
          0.0007716049382716049,
          0.0007716049382716049,
          0.0015432098765432098,
          0.010416666666666666,
          0.00038580246913580245,
          0.0007716049382716049,
          0.0011574074074074073,
          0.003472222222222222,
          0.00038580246913580245,
          0.00038580246913580245,
          0.004629629629629629,
          0.0011574074074074073,
          0.00038580246913580245,
          0.00038580246913580245,
          0.002700617283950617,
          0.011188271604938271,
          0.008101851851851851,
          0.00038580246913580245,
          0.00038580246913580245,
          0.00038580246913580245,
          0.0011574074074074073,
          0.00038580246913580245,
          0.0073302469135802465,
          0.0011574074074074073,
          0.005787037037037037,
          0.00038580246913580245,
          0.0011574074074074073,
          0.0007716049382716049,
          0.004243827160493827,
          0.004629629629629629,
          0.00038580246913580245,
          0.010030864197530864,
          0.0038580246913580245,
          0.0023148148148148147,
          0.0011574074074074073,
          0.026234567901234566,
          0.0023148148148148147,
          0.00038580246913580245,
          0.00038580246913580245,
          0.002700617283950617,
          0.0007716049382716049,
          0.0023148148148148147,
          0.0007716049382716049,
          0.0007716049382716049,
          0.0015432098765432098,
          0.0011574074074074073,
          0.00038580246913580245,
          0.0019290123456790122,
          0.014660493827160493,
          0.0011574074074074073,
          0.011188271604938271,
          0.0015432098765432098,
          0.0023148148148148147,
          0.0007716049382716049,
          0.005015432098765432,
          0.007716049382716049,
          0.0019290123456790122,
          0.0011574074074074073,
          0.00038580246913580245,
          0.0015432098765432098,
          0.0015432098765432098,
          0.00038580246913580245,
          0.0007716049382716049,
          0.00038580246913580245,
          0.0007716049382716049,
          0.005787037037037037,
          0.00038580246913580245,
          0.00038580246913580245,
          0.0030864197530864196,
          0.002700617283950617,
          0.0015432098765432098,
          0.0783179012345679,
          0.21412037037037038,
          0.0007716049382716049,
          0.0023148148148148147,
          0.00038580246913580245,
          0.00038580246913580245,
          0.0019290123456790122,
          0.0023148148148148147,
          0.00038580246913580245,
          0.0023148148148148147,
          0.0007716049382716049
         ]
        }
       ],
       "layout": {
        "legend": {
         "tracegroupgap": 0
        },
        "template": {
         "data": {
          "bar": [
           {
            "error_x": {
             "color": "#2a3f5f"
            },
            "error_y": {
             "color": "#2a3f5f"
            },
            "marker": {
             "line": {
              "color": "#E5ECF6",
              "width": 0.5
             },
             "pattern": {
              "fillmode": "overlay",
              "size": 10,
              "solidity": 0.2
             }
            },
            "type": "bar"
           }
          ],
          "barpolar": [
           {
            "marker": {
             "line": {
              "color": "#E5ECF6",
              "width": 0.5
             },
             "pattern": {
              "fillmode": "overlay",
              "size": 10,
              "solidity": 0.2
             }
            },
            "type": "barpolar"
           }
          ],
          "carpet": [
           {
            "aaxis": {
             "endlinecolor": "#2a3f5f",
             "gridcolor": "white",
             "linecolor": "white",
             "minorgridcolor": "white",
             "startlinecolor": "#2a3f5f"
            },
            "baxis": {
             "endlinecolor": "#2a3f5f",
             "gridcolor": "white",
             "linecolor": "white",
             "minorgridcolor": "white",
             "startlinecolor": "#2a3f5f"
            },
            "type": "carpet"
           }
          ],
          "choropleth": [
           {
            "colorbar": {
             "outlinewidth": 0,
             "ticks": ""
            },
            "type": "choropleth"
           }
          ],
          "contour": [
           {
            "colorbar": {
             "outlinewidth": 0,
             "ticks": ""
            },
            "colorscale": [
             [
              0,
              "#0d0887"
             ],
             [
              0.1111111111111111,
              "#46039f"
             ],
             [
              0.2222222222222222,
              "#7201a8"
             ],
             [
              0.3333333333333333,
              "#9c179e"
             ],
             [
              0.4444444444444444,
              "#bd3786"
             ],
             [
              0.5555555555555556,
              "#d8576b"
             ],
             [
              0.6666666666666666,
              "#ed7953"
             ],
             [
              0.7777777777777778,
              "#fb9f3a"
             ],
             [
              0.8888888888888888,
              "#fdca26"
             ],
             [
              1,
              "#f0f921"
             ]
            ],
            "type": "contour"
           }
          ],
          "contourcarpet": [
           {
            "colorbar": {
             "outlinewidth": 0,
             "ticks": ""
            },
            "type": "contourcarpet"
           }
          ],
          "heatmap": [
           {
            "colorbar": {
             "outlinewidth": 0,
             "ticks": ""
            },
            "colorscale": [
             [
              0,
              "#0d0887"
             ],
             [
              0.1111111111111111,
              "#46039f"
             ],
             [
              0.2222222222222222,
              "#7201a8"
             ],
             [
              0.3333333333333333,
              "#9c179e"
             ],
             [
              0.4444444444444444,
              "#bd3786"
             ],
             [
              0.5555555555555556,
              "#d8576b"
             ],
             [
              0.6666666666666666,
              "#ed7953"
             ],
             [
              0.7777777777777778,
              "#fb9f3a"
             ],
             [
              0.8888888888888888,
              "#fdca26"
             ],
             [
              1,
              "#f0f921"
             ]
            ],
            "type": "heatmap"
           }
          ],
          "heatmapgl": [
           {
            "colorbar": {
             "outlinewidth": 0,
             "ticks": ""
            },
            "colorscale": [
             [
              0,
              "#0d0887"
             ],
             [
              0.1111111111111111,
              "#46039f"
             ],
             [
              0.2222222222222222,
              "#7201a8"
             ],
             [
              0.3333333333333333,
              "#9c179e"
             ],
             [
              0.4444444444444444,
              "#bd3786"
             ],
             [
              0.5555555555555556,
              "#d8576b"
             ],
             [
              0.6666666666666666,
              "#ed7953"
             ],
             [
              0.7777777777777778,
              "#fb9f3a"
             ],
             [
              0.8888888888888888,
              "#fdca26"
             ],
             [
              1,
              "#f0f921"
             ]
            ],
            "type": "heatmapgl"
           }
          ],
          "histogram": [
           {
            "marker": {
             "pattern": {
              "fillmode": "overlay",
              "size": 10,
              "solidity": 0.2
             }
            },
            "type": "histogram"
           }
          ],
          "histogram2d": [
           {
            "colorbar": {
             "outlinewidth": 0,
             "ticks": ""
            },
            "colorscale": [
             [
              0,
              "#0d0887"
             ],
             [
              0.1111111111111111,
              "#46039f"
             ],
             [
              0.2222222222222222,
              "#7201a8"
             ],
             [
              0.3333333333333333,
              "#9c179e"
             ],
             [
              0.4444444444444444,
              "#bd3786"
             ],
             [
              0.5555555555555556,
              "#d8576b"
             ],
             [
              0.6666666666666666,
              "#ed7953"
             ],
             [
              0.7777777777777778,
              "#fb9f3a"
             ],
             [
              0.8888888888888888,
              "#fdca26"
             ],
             [
              1,
              "#f0f921"
             ]
            ],
            "type": "histogram2d"
           }
          ],
          "histogram2dcontour": [
           {
            "colorbar": {
             "outlinewidth": 0,
             "ticks": ""
            },
            "colorscale": [
             [
              0,
              "#0d0887"
             ],
             [
              0.1111111111111111,
              "#46039f"
             ],
             [
              0.2222222222222222,
              "#7201a8"
             ],
             [
              0.3333333333333333,
              "#9c179e"
             ],
             [
              0.4444444444444444,
              "#bd3786"
             ],
             [
              0.5555555555555556,
              "#d8576b"
             ],
             [
              0.6666666666666666,
              "#ed7953"
             ],
             [
              0.7777777777777778,
              "#fb9f3a"
             ],
             [
              0.8888888888888888,
              "#fdca26"
             ],
             [
              1,
              "#f0f921"
             ]
            ],
            "type": "histogram2dcontour"
           }
          ],
          "mesh3d": [
           {
            "colorbar": {
             "outlinewidth": 0,
             "ticks": ""
            },
            "type": "mesh3d"
           }
          ],
          "parcoords": [
           {
            "line": {
             "colorbar": {
              "outlinewidth": 0,
              "ticks": ""
             }
            },
            "type": "parcoords"
           }
          ],
          "pie": [
           {
            "automargin": true,
            "type": "pie"
           }
          ],
          "scatter": [
           {
            "fillpattern": {
             "fillmode": "overlay",
             "size": 10,
             "solidity": 0.2
            },
            "type": "scatter"
           }
          ],
          "scatter3d": [
           {
            "line": {
             "colorbar": {
              "outlinewidth": 0,
              "ticks": ""
             }
            },
            "marker": {
             "colorbar": {
              "outlinewidth": 0,
              "ticks": ""
             }
            },
            "type": "scatter3d"
           }
          ],
          "scattercarpet": [
           {
            "marker": {
             "colorbar": {
              "outlinewidth": 0,
              "ticks": ""
             }
            },
            "type": "scattercarpet"
           }
          ],
          "scattergeo": [
           {
            "marker": {
             "colorbar": {
              "outlinewidth": 0,
              "ticks": ""
             }
            },
            "type": "scattergeo"
           }
          ],
          "scattergl": [
           {
            "marker": {
             "colorbar": {
              "outlinewidth": 0,
              "ticks": ""
             }
            },
            "type": "scattergl"
           }
          ],
          "scattermapbox": [
           {
            "marker": {
             "colorbar": {
              "outlinewidth": 0,
              "ticks": ""
             }
            },
            "type": "scattermapbox"
           }
          ],
          "scatterpolar": [
           {
            "marker": {
             "colorbar": {
              "outlinewidth": 0,
              "ticks": ""
             }
            },
            "type": "scatterpolar"
           }
          ],
          "scatterpolargl": [
           {
            "marker": {
             "colorbar": {
              "outlinewidth": 0,
              "ticks": ""
             }
            },
            "type": "scatterpolargl"
           }
          ],
          "scatterternary": [
           {
            "marker": {
             "colorbar": {
              "outlinewidth": 0,
              "ticks": ""
             }
            },
            "type": "scatterternary"
           }
          ],
          "surface": [
           {
            "colorbar": {
             "outlinewidth": 0,
             "ticks": ""
            },
            "colorscale": [
             [
              0,
              "#0d0887"
             ],
             [
              0.1111111111111111,
              "#46039f"
             ],
             [
              0.2222222222222222,
              "#7201a8"
             ],
             [
              0.3333333333333333,
              "#9c179e"
             ],
             [
              0.4444444444444444,
              "#bd3786"
             ],
             [
              0.5555555555555556,
              "#d8576b"
             ],
             [
              0.6666666666666666,
              "#ed7953"
             ],
             [
              0.7777777777777778,
              "#fb9f3a"
             ],
             [
              0.8888888888888888,
              "#fdca26"
             ],
             [
              1,
              "#f0f921"
             ]
            ],
            "type": "surface"
           }
          ],
          "table": [
           {
            "cells": {
             "fill": {
              "color": "#EBF0F8"
             },
             "line": {
              "color": "white"
             }
            },
            "header": {
             "fill": {
              "color": "#C8D4E3"
             },
             "line": {
              "color": "white"
             }
            },
            "type": "table"
           }
          ]
         },
         "layout": {
          "annotationdefaults": {
           "arrowcolor": "#2a3f5f",
           "arrowhead": 0,
           "arrowwidth": 1
          },
          "autotypenumbers": "strict",
          "coloraxis": {
           "colorbar": {
            "outlinewidth": 0,
            "ticks": ""
           }
          },
          "colorscale": {
           "diverging": [
            [
             0,
             "#8e0152"
            ],
            [
             0.1,
             "#c51b7d"
            ],
            [
             0.2,
             "#de77ae"
            ],
            [
             0.3,
             "#f1b6da"
            ],
            [
             0.4,
             "#fde0ef"
            ],
            [
             0.5,
             "#f7f7f7"
            ],
            [
             0.6,
             "#e6f5d0"
            ],
            [
             0.7,
             "#b8e186"
            ],
            [
             0.8,
             "#7fbc41"
            ],
            [
             0.9,
             "#4d9221"
            ],
            [
             1,
             "#276419"
            ]
           ],
           "sequential": [
            [
             0,
             "#0d0887"
            ],
            [
             0.1111111111111111,
             "#46039f"
            ],
            [
             0.2222222222222222,
             "#7201a8"
            ],
            [
             0.3333333333333333,
             "#9c179e"
            ],
            [
             0.4444444444444444,
             "#bd3786"
            ],
            [
             0.5555555555555556,
             "#d8576b"
            ],
            [
             0.6666666666666666,
             "#ed7953"
            ],
            [
             0.7777777777777778,
             "#fb9f3a"
            ],
            [
             0.8888888888888888,
             "#fdca26"
            ],
            [
             1,
             "#f0f921"
            ]
           ],
           "sequentialminus": [
            [
             0,
             "#0d0887"
            ],
            [
             0.1111111111111111,
             "#46039f"
            ],
            [
             0.2222222222222222,
             "#7201a8"
            ],
            [
             0.3333333333333333,
             "#9c179e"
            ],
            [
             0.4444444444444444,
             "#bd3786"
            ],
            [
             0.5555555555555556,
             "#d8576b"
            ],
            [
             0.6666666666666666,
             "#ed7953"
            ],
            [
             0.7777777777777778,
             "#fb9f3a"
            ],
            [
             0.8888888888888888,
             "#fdca26"
            ],
            [
             1,
             "#f0f921"
            ]
           ]
          },
          "colorway": [
           "#636efa",
           "#EF553B",
           "#00cc96",
           "#ab63fa",
           "#FFA15A",
           "#19d3f3",
           "#FF6692",
           "#B6E880",
           "#FF97FF",
           "#FECB52"
          ],
          "font": {
           "color": "#2a3f5f"
          },
          "geo": {
           "bgcolor": "white",
           "lakecolor": "white",
           "landcolor": "#E5ECF6",
           "showlakes": true,
           "showland": true,
           "subunitcolor": "white"
          },
          "hoverlabel": {
           "align": "left"
          },
          "hovermode": "closest",
          "mapbox": {
           "style": "light"
          },
          "paper_bgcolor": "white",
          "plot_bgcolor": "#E5ECF6",
          "polar": {
           "angularaxis": {
            "gridcolor": "white",
            "linecolor": "white",
            "ticks": ""
           },
           "bgcolor": "#E5ECF6",
           "radialaxis": {
            "gridcolor": "white",
            "linecolor": "white",
            "ticks": ""
           }
          },
          "scene": {
           "xaxis": {
            "backgroundcolor": "#E5ECF6",
            "gridcolor": "white",
            "gridwidth": 2,
            "linecolor": "white",
            "showbackground": true,
            "ticks": "",
            "zerolinecolor": "white"
           },
           "yaxis": {
            "backgroundcolor": "#E5ECF6",
            "gridcolor": "white",
            "gridwidth": 2,
            "linecolor": "white",
            "showbackground": true,
            "ticks": "",
            "zerolinecolor": "white"
           },
           "zaxis": {
            "backgroundcolor": "#E5ECF6",
            "gridcolor": "white",
            "gridwidth": 2,
            "linecolor": "white",
            "showbackground": true,
            "ticks": "",
            "zerolinecolor": "white"
           }
          },
          "shapedefaults": {
           "line": {
            "color": "#2a3f5f"
           }
          },
          "ternary": {
           "aaxis": {
            "gridcolor": "white",
            "linecolor": "white",
            "ticks": ""
           },
           "baxis": {
            "gridcolor": "white",
            "linecolor": "white",
            "ticks": ""
           },
           "bgcolor": "#E5ECF6",
           "caxis": {
            "gridcolor": "white",
            "linecolor": "white",
            "ticks": ""
           }
          },
          "title": {
           "x": 0.05
          },
          "xaxis": {
           "automargin": true,
           "gridcolor": "white",
           "linecolor": "white",
           "ticks": "",
           "title": {
            "standoff": 15
           },
           "zerolinecolor": "white",
           "zerolinewidth": 2
          },
          "yaxis": {
           "automargin": true,
           "gridcolor": "white",
           "linecolor": "white",
           "ticks": "",
           "title": {
            "standoff": 15
           },
           "zerolinecolor": "white",
           "zerolinewidth": 2
          }
         }
        },
        "title": {
         "text": "Distribution of countries in Wikipedia"
        },
        "uniformtext": {
         "minsize": 12,
         "mode": "hide"
        }
       }
      }
     },
     "metadata": {},
     "output_type": "display_data"
    }
   ],
   "source": [
    "fig = px.pie(data_countries, values='percent', names='Top_1_name', title='Distribution of countries in Wikipedia')\n",
    "fig.update_traces(textposition='inside')\n",
    "fig.update_layout(uniformtext_minsize=12, uniformtext_mode='hide')\n",
    "fig.show()"
   ]
  },
  {
   "cell_type": "markdown",
   "metadata": {},
   "source": [
    "We see that 8 countries make up for 1/2 of the articles in Wikipedia, namely the US, UK, Australia, France, Germany, Italy, India and China. Those are all in the top10 of countries that publish the most!!"
   ]
  },
  {
   "cell_type": "markdown",
   "metadata": {},
   "source": [
    "## 3. What is the distribution of in and out degrees? \n",
    "\n",
    "For fun, we are also interested in the in and out degree of each country. \n",
    "\n",
    "> **_NOTE:_**  The in degree of a country is defined as the sum of the in degrees of its articles. Same for out degrees. "
   ]
  },
  {
   "cell_type": "code",
   "execution_count": 140,
   "metadata": {},
   "outputs": [
    {
     "data": {
      "application/vnd.plotly.v1+json": {
       "config": {
        "plotlyServerURL": "https://plot.ly"
       },
       "data": [
        {
         "alignmentgroup": "True",
         "hovertemplate": "variable=num_links_in<br>Top_1_name=%{x}<br>value=%{y}<extra></extra>",
         "legendgroup": "num_links_in",
         "marker": {
          "color": "#636efa",
          "pattern": {
           "shape": ""
          }
         },
         "name": "num_links_in",
         "offsetgroup": "num_links_in",
         "orientation": "v",
         "showlegend": true,
         "textposition": "auto",
         "type": "bar",
         "x": [
          "united states",
          "united kingdom",
          "australia",
          "france",
          "germany",
          "italy",
          "india",
          "china"
         ],
         "xaxis": "x",
         "y": [
          9562,
          6315,
          2241,
          4487,
          3750,
          3152,
          2425,
          2696
         ],
         "yaxis": "y"
        },
        {
         "alignmentgroup": "True",
         "hovertemplate": "variable=num_links_out<br>Top_1_name=%{x}<br>value=%{y}<extra></extra>",
         "legendgroup": "num_links_out",
         "marker": {
          "color": "#EF553B",
          "pattern": {
           "shape": ""
          }
         },
         "name": "num_links_out",
         "offsetgroup": "num_links_out",
         "orientation": "v",
         "showlegend": true,
         "textposition": "auto",
         "type": "bar",
         "x": [
          "united states",
          "united kingdom",
          "australia",
          "france",
          "germany",
          "italy",
          "india",
          "china"
         ],
         "xaxis": "x",
         "y": [
          11710,
          6453,
          2534,
          3487,
          3284,
          2530,
          2767,
          2454
         ],
         "yaxis": "y"
        }
       ],
       "layout": {
        "barmode": "relative",
        "legend": {
         "title": {
          "text": "variable"
         },
         "tracegroupgap": 0
        },
        "template": {
         "data": {
          "bar": [
           {
            "error_x": {
             "color": "#2a3f5f"
            },
            "error_y": {
             "color": "#2a3f5f"
            },
            "marker": {
             "line": {
              "color": "#E5ECF6",
              "width": 0.5
             },
             "pattern": {
              "fillmode": "overlay",
              "size": 10,
              "solidity": 0.2
             }
            },
            "type": "bar"
           }
          ],
          "barpolar": [
           {
            "marker": {
             "line": {
              "color": "#E5ECF6",
              "width": 0.5
             },
             "pattern": {
              "fillmode": "overlay",
              "size": 10,
              "solidity": 0.2
             }
            },
            "type": "barpolar"
           }
          ],
          "carpet": [
           {
            "aaxis": {
             "endlinecolor": "#2a3f5f",
             "gridcolor": "white",
             "linecolor": "white",
             "minorgridcolor": "white",
             "startlinecolor": "#2a3f5f"
            },
            "baxis": {
             "endlinecolor": "#2a3f5f",
             "gridcolor": "white",
             "linecolor": "white",
             "minorgridcolor": "white",
             "startlinecolor": "#2a3f5f"
            },
            "type": "carpet"
           }
          ],
          "choropleth": [
           {
            "colorbar": {
             "outlinewidth": 0,
             "ticks": ""
            },
            "type": "choropleth"
           }
          ],
          "contour": [
           {
            "colorbar": {
             "outlinewidth": 0,
             "ticks": ""
            },
            "colorscale": [
             [
              0,
              "#0d0887"
             ],
             [
              0.1111111111111111,
              "#46039f"
             ],
             [
              0.2222222222222222,
              "#7201a8"
             ],
             [
              0.3333333333333333,
              "#9c179e"
             ],
             [
              0.4444444444444444,
              "#bd3786"
             ],
             [
              0.5555555555555556,
              "#d8576b"
             ],
             [
              0.6666666666666666,
              "#ed7953"
             ],
             [
              0.7777777777777778,
              "#fb9f3a"
             ],
             [
              0.8888888888888888,
              "#fdca26"
             ],
             [
              1,
              "#f0f921"
             ]
            ],
            "type": "contour"
           }
          ],
          "contourcarpet": [
           {
            "colorbar": {
             "outlinewidth": 0,
             "ticks": ""
            },
            "type": "contourcarpet"
           }
          ],
          "heatmap": [
           {
            "colorbar": {
             "outlinewidth": 0,
             "ticks": ""
            },
            "colorscale": [
             [
              0,
              "#0d0887"
             ],
             [
              0.1111111111111111,
              "#46039f"
             ],
             [
              0.2222222222222222,
              "#7201a8"
             ],
             [
              0.3333333333333333,
              "#9c179e"
             ],
             [
              0.4444444444444444,
              "#bd3786"
             ],
             [
              0.5555555555555556,
              "#d8576b"
             ],
             [
              0.6666666666666666,
              "#ed7953"
             ],
             [
              0.7777777777777778,
              "#fb9f3a"
             ],
             [
              0.8888888888888888,
              "#fdca26"
             ],
             [
              1,
              "#f0f921"
             ]
            ],
            "type": "heatmap"
           }
          ],
          "heatmapgl": [
           {
            "colorbar": {
             "outlinewidth": 0,
             "ticks": ""
            },
            "colorscale": [
             [
              0,
              "#0d0887"
             ],
             [
              0.1111111111111111,
              "#46039f"
             ],
             [
              0.2222222222222222,
              "#7201a8"
             ],
             [
              0.3333333333333333,
              "#9c179e"
             ],
             [
              0.4444444444444444,
              "#bd3786"
             ],
             [
              0.5555555555555556,
              "#d8576b"
             ],
             [
              0.6666666666666666,
              "#ed7953"
             ],
             [
              0.7777777777777778,
              "#fb9f3a"
             ],
             [
              0.8888888888888888,
              "#fdca26"
             ],
             [
              1,
              "#f0f921"
             ]
            ],
            "type": "heatmapgl"
           }
          ],
          "histogram": [
           {
            "marker": {
             "pattern": {
              "fillmode": "overlay",
              "size": 10,
              "solidity": 0.2
             }
            },
            "type": "histogram"
           }
          ],
          "histogram2d": [
           {
            "colorbar": {
             "outlinewidth": 0,
             "ticks": ""
            },
            "colorscale": [
             [
              0,
              "#0d0887"
             ],
             [
              0.1111111111111111,
              "#46039f"
             ],
             [
              0.2222222222222222,
              "#7201a8"
             ],
             [
              0.3333333333333333,
              "#9c179e"
             ],
             [
              0.4444444444444444,
              "#bd3786"
             ],
             [
              0.5555555555555556,
              "#d8576b"
             ],
             [
              0.6666666666666666,
              "#ed7953"
             ],
             [
              0.7777777777777778,
              "#fb9f3a"
             ],
             [
              0.8888888888888888,
              "#fdca26"
             ],
             [
              1,
              "#f0f921"
             ]
            ],
            "type": "histogram2d"
           }
          ],
          "histogram2dcontour": [
           {
            "colorbar": {
             "outlinewidth": 0,
             "ticks": ""
            },
            "colorscale": [
             [
              0,
              "#0d0887"
             ],
             [
              0.1111111111111111,
              "#46039f"
             ],
             [
              0.2222222222222222,
              "#7201a8"
             ],
             [
              0.3333333333333333,
              "#9c179e"
             ],
             [
              0.4444444444444444,
              "#bd3786"
             ],
             [
              0.5555555555555556,
              "#d8576b"
             ],
             [
              0.6666666666666666,
              "#ed7953"
             ],
             [
              0.7777777777777778,
              "#fb9f3a"
             ],
             [
              0.8888888888888888,
              "#fdca26"
             ],
             [
              1,
              "#f0f921"
             ]
            ],
            "type": "histogram2dcontour"
           }
          ],
          "mesh3d": [
           {
            "colorbar": {
             "outlinewidth": 0,
             "ticks": ""
            },
            "type": "mesh3d"
           }
          ],
          "parcoords": [
           {
            "line": {
             "colorbar": {
              "outlinewidth": 0,
              "ticks": ""
             }
            },
            "type": "parcoords"
           }
          ],
          "pie": [
           {
            "automargin": true,
            "type": "pie"
           }
          ],
          "scatter": [
           {
            "fillpattern": {
             "fillmode": "overlay",
             "size": 10,
             "solidity": 0.2
            },
            "type": "scatter"
           }
          ],
          "scatter3d": [
           {
            "line": {
             "colorbar": {
              "outlinewidth": 0,
              "ticks": ""
             }
            },
            "marker": {
             "colorbar": {
              "outlinewidth": 0,
              "ticks": ""
             }
            },
            "type": "scatter3d"
           }
          ],
          "scattercarpet": [
           {
            "marker": {
             "colorbar": {
              "outlinewidth": 0,
              "ticks": ""
             }
            },
            "type": "scattercarpet"
           }
          ],
          "scattergeo": [
           {
            "marker": {
             "colorbar": {
              "outlinewidth": 0,
              "ticks": ""
             }
            },
            "type": "scattergeo"
           }
          ],
          "scattergl": [
           {
            "marker": {
             "colorbar": {
              "outlinewidth": 0,
              "ticks": ""
             }
            },
            "type": "scattergl"
           }
          ],
          "scattermapbox": [
           {
            "marker": {
             "colorbar": {
              "outlinewidth": 0,
              "ticks": ""
             }
            },
            "type": "scattermapbox"
           }
          ],
          "scatterpolar": [
           {
            "marker": {
             "colorbar": {
              "outlinewidth": 0,
              "ticks": ""
             }
            },
            "type": "scatterpolar"
           }
          ],
          "scatterpolargl": [
           {
            "marker": {
             "colorbar": {
              "outlinewidth": 0,
              "ticks": ""
             }
            },
            "type": "scatterpolargl"
           }
          ],
          "scatterternary": [
           {
            "marker": {
             "colorbar": {
              "outlinewidth": 0,
              "ticks": ""
             }
            },
            "type": "scatterternary"
           }
          ],
          "surface": [
           {
            "colorbar": {
             "outlinewidth": 0,
             "ticks": ""
            },
            "colorscale": [
             [
              0,
              "#0d0887"
             ],
             [
              0.1111111111111111,
              "#46039f"
             ],
             [
              0.2222222222222222,
              "#7201a8"
             ],
             [
              0.3333333333333333,
              "#9c179e"
             ],
             [
              0.4444444444444444,
              "#bd3786"
             ],
             [
              0.5555555555555556,
              "#d8576b"
             ],
             [
              0.6666666666666666,
              "#ed7953"
             ],
             [
              0.7777777777777778,
              "#fb9f3a"
             ],
             [
              0.8888888888888888,
              "#fdca26"
             ],
             [
              1,
              "#f0f921"
             ]
            ],
            "type": "surface"
           }
          ],
          "table": [
           {
            "cells": {
             "fill": {
              "color": "#EBF0F8"
             },
             "line": {
              "color": "white"
             }
            },
            "header": {
             "fill": {
              "color": "#C8D4E3"
             },
             "line": {
              "color": "white"
             }
            },
            "type": "table"
           }
          ]
         },
         "layout": {
          "annotationdefaults": {
           "arrowcolor": "#2a3f5f",
           "arrowhead": 0,
           "arrowwidth": 1
          },
          "autotypenumbers": "strict",
          "coloraxis": {
           "colorbar": {
            "outlinewidth": 0,
            "ticks": ""
           }
          },
          "colorscale": {
           "diverging": [
            [
             0,
             "#8e0152"
            ],
            [
             0.1,
             "#c51b7d"
            ],
            [
             0.2,
             "#de77ae"
            ],
            [
             0.3,
             "#f1b6da"
            ],
            [
             0.4,
             "#fde0ef"
            ],
            [
             0.5,
             "#f7f7f7"
            ],
            [
             0.6,
             "#e6f5d0"
            ],
            [
             0.7,
             "#b8e186"
            ],
            [
             0.8,
             "#7fbc41"
            ],
            [
             0.9,
             "#4d9221"
            ],
            [
             1,
             "#276419"
            ]
           ],
           "sequential": [
            [
             0,
             "#0d0887"
            ],
            [
             0.1111111111111111,
             "#46039f"
            ],
            [
             0.2222222222222222,
             "#7201a8"
            ],
            [
             0.3333333333333333,
             "#9c179e"
            ],
            [
             0.4444444444444444,
             "#bd3786"
            ],
            [
             0.5555555555555556,
             "#d8576b"
            ],
            [
             0.6666666666666666,
             "#ed7953"
            ],
            [
             0.7777777777777778,
             "#fb9f3a"
            ],
            [
             0.8888888888888888,
             "#fdca26"
            ],
            [
             1,
             "#f0f921"
            ]
           ],
           "sequentialminus": [
            [
             0,
             "#0d0887"
            ],
            [
             0.1111111111111111,
             "#46039f"
            ],
            [
             0.2222222222222222,
             "#7201a8"
            ],
            [
             0.3333333333333333,
             "#9c179e"
            ],
            [
             0.4444444444444444,
             "#bd3786"
            ],
            [
             0.5555555555555556,
             "#d8576b"
            ],
            [
             0.6666666666666666,
             "#ed7953"
            ],
            [
             0.7777777777777778,
             "#fb9f3a"
            ],
            [
             0.8888888888888888,
             "#fdca26"
            ],
            [
             1,
             "#f0f921"
            ]
           ]
          },
          "colorway": [
           "#636efa",
           "#EF553B",
           "#00cc96",
           "#ab63fa",
           "#FFA15A",
           "#19d3f3",
           "#FF6692",
           "#B6E880",
           "#FF97FF",
           "#FECB52"
          ],
          "font": {
           "color": "#2a3f5f"
          },
          "geo": {
           "bgcolor": "white",
           "lakecolor": "white",
           "landcolor": "#E5ECF6",
           "showlakes": true,
           "showland": true,
           "subunitcolor": "white"
          },
          "hoverlabel": {
           "align": "left"
          },
          "hovermode": "closest",
          "mapbox": {
           "style": "light"
          },
          "paper_bgcolor": "white",
          "plot_bgcolor": "#E5ECF6",
          "polar": {
           "angularaxis": {
            "gridcolor": "white",
            "linecolor": "white",
            "ticks": ""
           },
           "bgcolor": "#E5ECF6",
           "radialaxis": {
            "gridcolor": "white",
            "linecolor": "white",
            "ticks": ""
           }
          },
          "scene": {
           "xaxis": {
            "backgroundcolor": "#E5ECF6",
            "gridcolor": "white",
            "gridwidth": 2,
            "linecolor": "white",
            "showbackground": true,
            "ticks": "",
            "zerolinecolor": "white"
           },
           "yaxis": {
            "backgroundcolor": "#E5ECF6",
            "gridcolor": "white",
            "gridwidth": 2,
            "linecolor": "white",
            "showbackground": true,
            "ticks": "",
            "zerolinecolor": "white"
           },
           "zaxis": {
            "backgroundcolor": "#E5ECF6",
            "gridcolor": "white",
            "gridwidth": 2,
            "linecolor": "white",
            "showbackground": true,
            "ticks": "",
            "zerolinecolor": "white"
           }
          },
          "shapedefaults": {
           "line": {
            "color": "#2a3f5f"
           }
          },
          "ternary": {
           "aaxis": {
            "gridcolor": "white",
            "linecolor": "white",
            "ticks": ""
           },
           "baxis": {
            "gridcolor": "white",
            "linecolor": "white",
            "ticks": ""
           },
           "bgcolor": "#E5ECF6",
           "caxis": {
            "gridcolor": "white",
            "linecolor": "white",
            "ticks": ""
           }
          },
          "title": {
           "x": 0.05
          },
          "xaxis": {
           "automargin": true,
           "gridcolor": "white",
           "linecolor": "white",
           "ticks": "",
           "title": {
            "standoff": 15
           },
           "zerolinecolor": "white",
           "zerolinewidth": 2
          },
          "yaxis": {
           "automargin": true,
           "gridcolor": "white",
           "linecolor": "white",
           "ticks": "",
           "title": {
            "standoff": 15
           },
           "zerolinecolor": "white",
           "zerolinewidth": 2
          }
         }
        },
        "title": {
         "text": "Connectivity of most occuring countries"
        },
        "updatemenus": [
         {
          "buttons": [
           {
            "args": [
             {
              "visible": [
               true,
               false
              ]
             },
             {
              "title": "Connectivity of most occurring countries"
             }
            ],
            "label": "Most Occurring Countries",
            "method": "update"
           },
           {
            "args": [
             {
              "visible": [
               false,
               true
              ]
             },
             {
              "title": "Connectivity of least occurring countries"
             }
            ],
            "label": "Least Occurring Countries",
            "method": "update"
           }
          ],
          "direction": "left",
          "pad": {
           "r": 10,
           "t": 10
          },
          "showactive": true,
          "type": "buttons",
          "x": 0.11,
          "xanchor": "left",
          "y": 1.1,
          "yanchor": "middle"
         }
        ],
        "xaxis": {
         "anchor": "y",
         "domain": [
          0,
          1
         ],
         "title": {
          "text": "Top_1_name"
         }
        },
        "yaxis": {
         "anchor": "x",
         "domain": [
          0,
          1
         ],
         "title": {
          "text": "value"
         }
        }
       }
      }
     },
     "metadata": {},
     "output_type": "display_data"
    }
   ],
   "source": [
    "sorted_data_countries = data_countries.sort_values(by='occurrence', ascending=False)\n",
    "fig1 = px.bar(sorted_data_countries.iloc[:8,:], x=\"Top_1_name\", y=[\"num_links_in\", \"num_links_out\"], title=\"Connectivity of most occuring countries\")\n",
    "\n",
    "sorted_data_countries = data_countries.sort_values(by='occurrence', ascending=True)\n",
    "fig2 = px.bar(sorted_data_countries.iloc[:8,:], x=\"Top_1_name\", y=[\"num_links_in\", \"num_links_out\"], title=\"Connectivity of least occuring countries\")\n",
    "\n",
    "# Create buttons to toggle between the two bar charts\n",
    "fig1.update_layout(\n",
    "    updatemenus=[\n",
    "        dict(\n",
    "            type=\"buttons\",\n",
    "            direction=\"left\",\n",
    "            buttons=[\n",
    "                dict(\n",
    "                    label=\"Most Occurring Countries\",\n",
    "                    method=\"update\",\n",
    "                    args=[{\"visible\": [True, False]},  # Show first chart, hide second\n",
    "                          {\"title\": \"Connectivity of most occurring countries\"}]\n",
    "                ),\n",
    "                dict(\n",
    "                    label=\"Least Occurring Countries\",\n",
    "                    method=\"update\",\n",
    "                    args=[{\"visible\": [False, True]},  # Hide first chart, show second\n",
    "                          {\"title\": \"Connectivity of least occurring countries\"}]\n",
    "                ),\n",
    "            ],\n",
    "            pad={\"r\": 10, \"t\": 10},\n",
    "            showactive=True,\n",
    "            x=0.11,\n",
    "            xanchor=\"left\",\n",
    "            y=1.1,\n",
    "            yanchor=\"middle\"\n",
    "        ),\n",
    "    ]\n",
    ")\n",
    "\n",
    "# Show the figure\n",
    "fig1.show()"
   ]
  },
  {
   "cell_type": "code",
   "execution_count": null,
   "metadata": {},
   "outputs": [],
   "source": [
    "for idx, row in df.iterrows():\n",
    "        links_out_list = list(row[\"name_links_out\"])\n",
    "        for out_link in links_out_list:\n",
    "            try:\n",
    "                l.append(f\"{row['Top_1_name']} -> {df.loc[out_link]['Top_1_name']}\")\n",
    "            except:\n",
    "                pass"
   ]
  },
  {
   "cell_type": "markdown",
   "metadata": {},
   "source": [
    "We also need the position (i.e. longitude and latitude) of each country on a world map, since each country will be a node on a world map."
   ]
  },
  {
   "cell_type": "code",
   "execution_count": 18,
   "metadata": {},
   "outputs": [
    {
     "data": {
      "text/plain": [
       "195"
      ]
     },
     "execution_count": 18,
     "metadata": {},
     "output_type": "execute_result"
    }
   ],
   "source": [
    "# Get a set of coordinates (latitude, longitude) for each country for visualisation purposes\n",
    "geolocator = Nominatim(user_agent=\"my_app\")\n",
    "\n",
    "def get_country_coordinates(country_name):\n",
    "    location = geolocator.geocode(country_name)\n",
    "    return (location.latitude, location.longitude)\n",
    "\n",
    "coords = []\n",
    "for country in countries: \n",
    "    coords.append(get_country_coordinates(country))\n",
    "\n",
    "len(coords)"
   ]
  },
  {
   "cell_type": "code",
   "execution_count": 19,
   "metadata": {},
   "outputs": [],
   "source": [
    "latitudes = [coord[0] for coord in coords]\n",
    "longitudes = [coord[1] for coord in coords]"
   ]
  },
  {
   "cell_type": "code",
   "execution_count": null,
   "metadata": {},
   "outputs": [],
   "source": [
    "# Create the nodes\n",
    "node_trace = go.Scattergeo(\n",
    "    lon=longitudes,\n",
    "    lat=latitudes,\n",
    "    text=countries,\n",
    "    mode='markers',\n",
    "    marker=dict(\n",
    "        size=node_sizes/4,\n",
    "        color=colors_hex,\n",
    "        line=dict(width=0.5, color='rgb(40,40,40)')\n",
    "    ),\n",
    "    hovertemplate='<b>Country:</b> %{text}<br>' +\n",
    "                  '<b>Articles:</b> %{customdata[0]}<br>' +\n",
    "                  '<b>Clicks:</b> %{customdata[1]}<extra></extra>',\n",
    "    customdata=np.column_stack((num_articles, clicks))\n",
    ")\n",
    "\n",
    "# Create edges (path between articles based on their associated country)\n",
    "edges = all_pairs_countries_normalized.index\n",
    "edge_traces = []\n",
    "for edge, weight in all_pairs_countries_normalized.items():\n",
    "    country_from, country_to = edge.split('-> ')\n",
    "    \n",
    "    # Get coordinates for both countries\n",
    "    lon1, lat1 = longitudes[countries.index(country_from)], latitudes[countries.index(country_from)]\n",
    "    lon2, lat2 = longitudes[countries.index(country_to)], latitudes[countries.index(country_to)]\n",
    "    \n",
    "    # Create edge trace\n",
    "    edge_trace = go.Scattergeo(\n",
    "        lon = [lon1, lon2, None],\n",
    "        lat = [lat1, lat2, None],\n",
    "        mode = 'lines',\n",
    "        showlegend=False,\n",
    "        line = dict(width = weight * 1000, color = 'rgba(0, 128, 0, 0.1)'),\n",
    "        hoverinfo = 'none'\n",
    "    )\n",
    "    \n",
    "    edge_traces.append(edge_trace)\n",
    "\n",
    "# Create the world map\n",
    "layout = go.Layout(\n",
    "    title='World map of the number of articles and the click count per country before scaling',\n",
    "    showlegend=False,\n",
    "    geo=dict(\n",
    "        scope='world',\n",
    "        projection_type='equirectangular',\n",
    "        showland=True,\n",
    "        landcolor='rgb(243, 243, 243)',\n",
    "    ),\n",
    ")\n",
    "\n",
    "# Create the figure\n",
    "fig = go.Figure(data=[node_trace] + edge_traces, layout=layout)\n",
    "\n",
    "# Implement toggling visibility\n",
    "fig.update_layout(\n",
    "    updatemenus=[\n",
    "        {\n",
    "            'buttons': [\n",
    "                {\n",
    "                    'label': 'Show Both Nodes and Edges',\n",
    "                    'method': 'update',\n",
    "                    'args': [{'visible': [True] + [True] * len(edge_traces)}]\n",
    "                },\n",
    "                {\n",
    "                    'label': 'Show Nodes Only',\n",
    "                    'method': 'update',\n",
    "                    'args': [{'visible': [True] + [False] * len(edge_traces)}]\n",
    "                },\n",
    "                {\n",
    "                    'label': 'Show Edges Only',\n",
    "                    'method': 'update',\n",
    "                    'args': [{'visible': [False] + [True] * len(edge_traces)}]\n",
    "                },\n",
    "                {\n",
    "                    'label': 'Hide All',\n",
    "                    'method': 'update',\n",
    "                    'args': [{'visible': [False] * (1 + len(edge_traces))}]\n",
    "                }\n",
    "            ],\n",
    "            'direction': 'down',\n",
    "        }\n",
    "    ]\n",
    ")\n",
    "\n",
    "# Show the plot\n",
    "fig.show()\n",
    "fig.write_html(\"world_counts_and_articles_before_scaling.html\")"
   ]
  },
  {
   "cell_type": "markdown",
   "metadata": {},
   "source": [
    "[Tutorial](https://pyvis.readthedocs.io/en/latest/tutorial.html#getting-started)"
   ]
  },
  {
   "cell_type": "markdown",
   "metadata": {},
   "source": [
    "Let's construct a graph in which: \n",
    "- each node is a country \n",
    "- the size and color of a node is proportional to the number of articles associtated to that node"
   ]
  },
  {
   "cell_type": "code",
   "execution_count": 24,
   "metadata": {},
   "outputs": [
    {
     "name": "stdout",
     "output_type": "stream",
     "text": [
      "Warning: When  cdn_resources is 'local' jupyter notebook has issues displaying graphics on chrome/safari. Use cdn_resources='in_line' or cdn_resources='remote' if you have issues viewing graphics in a notebook.\n",
      "country_graph.html\n"
     ]
    },
    {
     "name": "stderr",
     "output_type": "stream",
     "text": [
      "C:\\Users\\fricl\\AppData\\Local\\Temp\\ipykernel_26120\\1036322718.py:1: MatplotlibDeprecationWarning: The get_cmap function was deprecated in Matplotlib 3.7 and will be removed in 3.11. Use ``matplotlib.colormaps[name]`` or ``matplotlib.colormaps.get_cmap()`` or ``pyplot.get_cmap()`` instead.\n",
      "  color_map = plt.cm.get_cmap('Reds')\n"
     ]
    },
    {
     "data": {
      "text/html": [
       "\n",
       "        <iframe\n",
       "            width=\"100%\"\n",
       "            height=\"600px\"\n",
       "            src=\"country_graph.html\"\n",
       "            frameborder=\"0\"\n",
       "            allowfullscreen\n",
       "            \n",
       "        ></iframe>\n",
       "        "
      ],
      "text/plain": [
       "<IPython.lib.display.IFrame at 0x1e044ccd110>"
      ]
     },
     "execution_count": 24,
     "metadata": {},
     "output_type": "execute_result"
    }
   ],
   "source": [
    "color_map = plt.cm.get_cmap('Reds')\n",
    "colors_hex = [matplotlib.colors.to_hex(color_map(num)) for num in occurrences]\n",
    "\n",
    "net = Network(directed=True, \n",
    "              notebook=True, \n",
    "              font_color='#10000000')\n",
    "\n",
    "# Turn off physics so nodes stay fixed\n",
    "net.barnes_hut()\n",
    "net.toggle_physics(False)\n",
    "\n",
    "x_positions = [coord[1] * 50 for coord in coords]  # Scaling for better spacing\n",
    "y_positions = [coord[0] * -50 for coord in coords] # Negate to align correctly\n",
    "\n",
    "net.add_nodes(countries, \n",
    "              title=countries, \n",
    "              color=colors_hex, \n",
    "              size=occurrences, \n",
    "              x = x_positions, \n",
    "              y = y_positions)\n",
    "\n",
    "\"\"\"\n",
    "# Let's add edges between articles that are connected in Wikipedia\n",
    "for i, article1 in enumerate(articles[:50]):\n",
    "    print(article1)\n",
    "    name_links_out = country_clicks.name_links_out.iloc[i]\n",
    "    print(name_links_out)\n",
    "\n",
    "    if pd.notna(name_links_out):\n",
    "        for article2 in articles[:50]: \n",
    "            if article2 in name_links_out:\n",
    "                print(article2, \"is an out link from\", article1)\n",
    "                net.add_edge(article1, article2)\n",
    "        print(\"---------\")\n",
    "\"\"\"\n",
    "\n",
    "net.show(\"country_graph.html\")"
   ]
  }
 ],
 "metadata": {
  "kernelspec": {
   "display_name": "ada",
   "language": "python",
   "name": "python3"
  },
  "language_info": {
   "codemirror_mode": {
    "name": "ipython",
    "version": 3
   },
   "file_extension": ".py",
   "mimetype": "text/x-python",
   "name": "python",
   "nbconvert_exporter": "python",
   "pygments_lexer": "ipython3",
   "version": "3.11.10"
  }
 },
 "nbformat": 4,
 "nbformat_minor": 2
}
