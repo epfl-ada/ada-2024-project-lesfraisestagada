{
 "cells": [
  {
   "cell_type": "markdown",
   "metadata": {},
   "source": [
    "# Imports"
   ]
  },
  {
   "cell_type": "code",
   "execution_count": 1,
   "metadata": {},
   "outputs": [],
   "source": [
    "%load_ext autoreload\n",
    "%autoreload 2"
   ]
  },
  {
   "cell_type": "code",
   "execution_count": 24,
   "metadata": {},
   "outputs": [],
   "source": [
    "import os\n",
    "\n",
    "import matplotlib.pyplot as plt\n",
    "import matplotlib\n",
    "import pandas as pd\n",
    "import numpy as np\n",
    "\n",
    "from ast import literal_eval\n",
    "\n",
    "import plotly.express as px\n",
    "import plotly.io as pio\n",
    "\n",
    "from pyvis.network import Network\n",
    "import plotly.graph_objects as go\n",
    "from geopy.geocoders import Nominatim\n",
    "\n",
    "import folium"
   ]
  },
  {
   "cell_type": "code",
   "execution_count": 3,
   "metadata": {},
   "outputs": [],
   "source": [
    "#!pip install pyvis\n",
    "#!pip install jinja2\n",
    "#!pip install geopy\n",
    "#!pip install folium"
   ]
  },
  {
   "cell_type": "code",
   "execution_count": 26,
   "metadata": {},
   "outputs": [
    {
     "data": {
      "text/plain": [
       "'c:\\\\Users\\\\fricl\\\\OneDrive\\\\Documents\\\\Suisse\\\\EPFL\\\\Cours\\\\MA3\\\\ADA\\\\ada-2024-project-lesfraisestagada'"
      ]
     },
     "execution_count": 26,
     "metadata": {},
     "output_type": "execute_result"
    }
   ],
   "source": [
    "project_path = os.getcwd()\n",
    "project_path"
   ]
  },
  {
   "cell_type": "markdown",
   "metadata": {},
   "source": [
    "## Questions of interest \n",
    "\n",
    "0) What are the most clicked articles?\n",
    "1) What is the distribution of countries in the Wikipedia graph? \n",
    "3) What is the distribution of in and out degrees per country? "
   ]
  },
  {
   "cell_type": "markdown",
   "metadata": {},
   "source": [
    "## 0. What are the most clicked articles? "
   ]
  },
  {
   "cell_type": "markdown",
   "metadata": {},
   "source": [
    "Let's first import the data `country_clicks_links.csv` with which we will be working."
   ]
  },
  {
   "cell_type": "code",
   "execution_count": 4,
   "metadata": {},
   "outputs": [],
   "source": [
    "data = pd.read_csv(\"data/country_clicks_links.csv\", index_col=0)"
   ]
  },
  {
   "cell_type": "markdown",
   "metadata": {},
   "source": [
    "Now we define the variables that we need."
   ]
  },
  {
   "cell_type": "code",
   "execution_count": 5,
   "metadata": {},
   "outputs": [],
   "source": [
    "data_sorted = data.sort_values(by='click_count', ascending=False)\n",
    "data_sorted = data_sorted[data_sorted['click_count'] != 0]\n",
    "articles = data_sorted.index.tolist()\n",
    "click_count = data_sorted.click_count.tolist()\n",
    "in_degree = data_sorted.num_links_in.tolist()\n",
    "out_degree = data_sorted.num_links_out.tolist()"
   ]
  },
  {
   "cell_type": "markdown",
   "metadata": {},
   "source": [
    "Let's construct a graph in which: \n",
    "- each node is an article\n",
    "    - 20 most clicked articles \n",
    "    - 20 least clicked articles "
   ]
  },
  {
   "cell_type": "code",
   "execution_count": 6,
   "metadata": {},
   "outputs": [],
   "source": [
    "most_clicked_articles = articles[:20]\n",
    "most_clicked_counts = click_count[:20]\n",
    "most_in_degree = in_degree[:20]\n",
    "most_out_degree = out_degree[:20]\n",
    "\n",
    "least_clicked_articles = articles[-20:]\n",
    "least_clicked_counts = click_count[-20:]\n",
    "least_in_degree = in_degree[-20:]\n",
    "least_out_degree = out_degree[-20:]"
   ]
  },
  {
   "cell_type": "markdown",
   "metadata": {},
   "source": [
    "- the size and color of a node is proportional to the number of clicks associtated to that node\n",
    "- each edge represents an out link\n",
    "\n",
    "We are also interested in the in and out degree of each article\n",
    "- in degree = num_links_in \n",
    "- out degree = num_links_out"
   ]
  },
  {
   "cell_type": "markdown",
   "metadata": {},
   "source": [
    "Let's first look at the most clicked articles:"
   ]
  },
  {
   "cell_type": "code",
   "execution_count": 7,
   "metadata": {},
   "outputs": [],
   "source": [
    "# define a global color map\n",
    "color_map = plt.get_cmap('Reds')"
   ]
  },
  {
   "cell_type": "code",
   "execution_count": 8,
   "metadata": {},
   "outputs": [],
   "source": [
    "# Define a color gradient to represent the number of clicks for each article\n",
    "norm = matplotlib.colors.Normalize(vmin=min(most_clicked_counts), vmax=max(most_clicked_counts))\n",
    "most_colors_hex = [matplotlib.colors.to_hex(color_map(norm(count))) for count in most_clicked_counts]"
   ]
  },
  {
   "cell_type": "code",
   "execution_count": 18,
   "metadata": {},
   "outputs": [],
   "source": [
    "import webbrowser"
   ]
  },
  {
   "cell_type": "code",
   "execution_count": 28,
   "metadata": {},
   "outputs": [
    {
     "name": "stdout",
     "output_type": "stream",
     "text": [
      "graphs/topic_1/most_used_articles_graph.html\n"
     ]
    },
    {
     "data": {
      "text/plain": [
       "True"
      ]
     },
     "execution_count": 28,
     "metadata": {},
     "output_type": "execute_result"
    }
   ],
   "source": [
    "net = Network(directed=True, \n",
    "              notebook=True, \n",
    "              font_color='#10000000', \n",
    "              cdn_resources='in_line')\n",
    "\n",
    "# Turn off physics so nodes stay fixed\n",
    "net.barnes_hut(gravity=-10000,  # Controls the strength of repulsion between nodes\n",
    "               central_gravity=0.01,  # Weak central gravity so nodes spread out\n",
    "               spring_length=300000,  # Increase distance between connected nodes\n",
    "               spring_strength=0.05)  # Adjust spring tightness\n",
    "net.toggle_physics(False)\n",
    "\n",
    "# write the title of each node\n",
    "titles = [f\"article: {most_clicked_articles[i]} \\n click count: {most_clicked_counts[i]} \\n in degree: {most_in_degree[i]} \\n out degree: {most_out_degree[i]}\" for i in range(len(most_clicked_articles))]\n",
    "\n",
    "# define position of nodes \n",
    "num_nodes = len(most_clicked_articles)\n",
    "\n",
    "# Define a circular layout for the nodes\n",
    "radius = 500  # Adjust the radius of the circle\n",
    "angles = np.linspace(0, 2 * np.pi, num_nodes, endpoint=False)  # Evenly spaced angles\n",
    "x_positions = radius * np.cos(angles)  # x-coordinates\n",
    "y_positions = radius * np.sin(angles)  # y-coordinates\n",
    "\n",
    "net.add_nodes(most_clicked_articles, \n",
    "              title=titles, \n",
    "              color=most_colors_hex, \n",
    "              x=x_positions, \n",
    "              y=y_positions)\n",
    "\n",
    "\n",
    "# Let's add edges between articles that are connected in Wikipedia\n",
    "for i, article1 in enumerate(most_clicked_articles):\n",
    "    name_links_out = data_sorted.name_links_out.iloc[i]\n",
    "\n",
    "    if pd.notna(name_links_out):\n",
    "        for article2 in most_clicked_articles: \n",
    "            if article2 in name_links_out:\n",
    "                net.add_edge(article1, article2)\n",
    "\n",
    "# save to html for visualization on our website\n",
    "net.show(\"graphs/topic_1/most_used_articles_graph.html\")\n",
    "\n",
    "# open the graph in browser\n",
    "webbrowser.open(f\"{project_path}/graphs/topic_1/most_used_articles_graph.html\")"
   ]
  },
  {
   "cell_type": "markdown",
   "metadata": {},
   "source": [
    "An now let's look at the least clicked articles: "
   ]
  },
  {
   "cell_type": "code",
   "execution_count": 30,
   "metadata": {},
   "outputs": [
    {
     "name": "stdout",
     "output_type": "stream",
     "text": [
      "graphs/topic_1/least_used_articles_graph.html\n"
     ]
    },
    {
     "data": {
      "text/plain": [
       "True"
      ]
     },
     "execution_count": 30,
     "metadata": {},
     "output_type": "execute_result"
    }
   ],
   "source": [
    "# Normalize the log_counts to [0, 1]\n",
    "norm = matplotlib.colors.Normalize(vmin=min(least_clicked_counts), vmax=max(least_clicked_counts))\n",
    "least_colors_hex = [matplotlib.colors.to_hex(color_map(norm(count))) for count in least_clicked_counts]\n",
    "\n",
    "net = Network(directed=True, \n",
    "              notebook=True, \n",
    "              font_color='#10000000', \n",
    "              cdn_resources='in_line')\n",
    "\n",
    "# Turn off physics so nodes stay fixed\n",
    "net.barnes_hut(overlap=0)  # Adjust spring tightness\n",
    "net.toggle_physics(False)\n",
    "\n",
    "# write the title of each node\n",
    "titles = [f\"article: {least_clicked_articles[i]} \\n click count: {least_clicked_counts[i]} \\n in degree: {least_in_degree[i]} \\n out degree: {least_out_degree[i]}\" for i in range(len(least_clicked_articles))]\n",
    "\n",
    "# define position of nodes \n",
    "num_nodes = len(least_clicked_articles)\n",
    "\n",
    "# Define a circular layout for the nodes\n",
    "radius = 500  # Adjust the radius of the circle\n",
    "angles = np.linspace(0, 2 * np.pi, num_nodes, endpoint=False)  # Evenly spaced angles\n",
    "x_positions = radius * np.cos(angles)  # x-coordinates\n",
    "y_positions = radius * np.sin(angles)  # y-coordinates\n",
    "\n",
    "net.add_nodes(least_clicked_articles, \n",
    "              title=titles, \n",
    "              color=least_colors_hex,\n",
    "              x=x_positions, \n",
    "              y=y_positions)\n",
    "\n",
    "\n",
    "# Let's add edges between articles that are connected in Wikipedia\n",
    "for i, article1 in enumerate(least_clicked_articles):\n",
    "    name_links_out = data_sorted.name_links_out.iloc[i]\n",
    "\n",
    "    if pd.notna(name_links_out):\n",
    "        for article2 in least_clicked_articles: \n",
    "            if article2 in name_links_out:\n",
    "                net.add_edge(article1, article2)\n",
    "\n",
    "\n",
    "net.show(\"graphs/topic_1/least_used_articles_graph.html\")\n",
    "\n",
    "# open the graph in browser\n",
    "webbrowser.open(f\"{project_path}/graphs/topic_1/least_used_articles_graph.html\")"
   ]
  },
  {
   "cell_type": "markdown",
   "metadata": {},
   "source": [
    "We see that a lot of western countries are present within the most clicked articles and many oriental subjects are in the least clicked countries. This motivates our project in which we will associate each article to it's corresponding country and analyse the distributions of those countries within the Wikipedia graph. In the end, we are ultimately interested in whether players of the Wikispeedia game really tend to click more on articles that are associated with western countries or if this feature is due to the properties of the Wikipedia graph itself. "
   ]
  },
  {
   "cell_type": "markdown",
   "metadata": {},
   "source": [
    "## 1. What is the distribution of countries in the Wikipedia graph?"
   ]
  },
  {
   "cell_type": "markdown",
   "metadata": {},
   "source": [
    "Now that all (most) articles are associated to a country, we can look at the distribution of those countries. Is there a country that is associated to more articles? (we have our little idea haha but let's check). "
   ]
  },
  {
   "cell_type": "markdown",
   "metadata": {},
   "source": [
    "In order to find the distribution of countries in the Wikipedia graph, we need the number of articles that are associated to each of the represented countries."
   ]
  },
  {
   "cell_type": "code",
   "execution_count": 31,
   "metadata": {},
   "outputs": [
    {
     "data": {
      "text/html": [
       "<div>\n",
       "<style scoped>\n",
       "    .dataframe tbody tr th:only-of-type {\n",
       "        vertical-align: middle;\n",
       "    }\n",
       "\n",
       "    .dataframe tbody tr th {\n",
       "        vertical-align: top;\n",
       "    }\n",
       "\n",
       "    .dataframe thead th {\n",
       "        text-align: right;\n",
       "    }\n",
       "</style>\n",
       "<table border=\"1\" class=\"dataframe\">\n",
       "  <thead>\n",
       "    <tr style=\"text-align: right;\">\n",
       "      <th></th>\n",
       "      <th>Top_1_name</th>\n",
       "      <th>click_count</th>\n",
       "      <th>num_links_in</th>\n",
       "      <th>name_links_in</th>\n",
       "      <th>num_links_out</th>\n",
       "      <th>name_links_out</th>\n",
       "      <th>occurrence</th>\n",
       "      <th>percent</th>\n",
       "    </tr>\n",
       "  </thead>\n",
       "  <tbody>\n",
       "    <tr>\n",
       "      <th>0</th>\n",
       "      <td>afghanistan</td>\n",
       "      <td>629</td>\n",
       "      <td>313.0</td>\n",
       "      <td>['15th_Marine_Expeditionary_Unit', '18th_centu...</td>\n",
       "      <td>732.0</td>\n",
       "      <td>[18th_century, Afghan_Hound, Alexander_the_Gre...</td>\n",
       "      <td>10</td>\n",
       "      <td>0.003858</td>\n",
       "    </tr>\n",
       "    <tr>\n",
       "      <th>1</th>\n",
       "      <td>albania</td>\n",
       "      <td>21</td>\n",
       "      <td>85.0</td>\n",
       "      <td>['AK-47', 'Armenia', 'Atheism', 'Athens', 'Aze...</td>\n",
       "      <td>153.0</td>\n",
       "      <td>[Afghanistan, Agriculture, Algeria, Ancient_Ro...</td>\n",
       "      <td>2</td>\n",
       "      <td>0.000772</td>\n",
       "    </tr>\n",
       "    <tr>\n",
       "      <th>2</th>\n",
       "      <td>algeria</td>\n",
       "      <td>700</td>\n",
       "      <td>263.0</td>\n",
       "      <td>['10th_century', '1973_oil_crisis', 'Africa', ...</td>\n",
       "      <td>201.0</td>\n",
       "      <td>[Africa, Agriculture, Algerian_Civil_War, Algi...</td>\n",
       "      <td>6</td>\n",
       "      <td>0.002315</td>\n",
       "    </tr>\n",
       "    <tr>\n",
       "      <th>3</th>\n",
       "      <td>andorra</td>\n",
       "      <td>6</td>\n",
       "      <td>41.0</td>\n",
       "      <td>['Albania', 'Armenia', 'Azerbaijan', 'Biodiver...</td>\n",
       "      <td>54.0</td>\n",
       "      <td>[Agriculture, Algeria, Argentina, Brazil, Cana...</td>\n",
       "      <td>1</td>\n",
       "      <td>0.000386</td>\n",
       "    </tr>\n",
       "    <tr>\n",
       "      <th>4</th>\n",
       "      <td>angola</td>\n",
       "      <td>28</td>\n",
       "      <td>80.0</td>\n",
       "      <td>['13th_century', '2005_Lake_Tanganyika_earthqu...</td>\n",
       "      <td>21.0</td>\n",
       "      <td>[Africa, Atlantic_Ocean, Bantu, Cold_War, Cuba...</td>\n",
       "      <td>1</td>\n",
       "      <td>0.000386</td>\n",
       "    </tr>\n",
       "    <tr>\n",
       "      <th>...</th>\n",
       "      <td>...</td>\n",
       "      <td>...</td>\n",
       "      <td>...</td>\n",
       "      <td>...</td>\n",
       "      <td>...</td>\n",
       "      <td>...</td>\n",
       "      <td>...</td>\n",
       "      <td>...</td>\n",
       "    </tr>\n",
       "    <tr>\n",
       "      <th>190</th>\n",
       "      <td>venezuela</td>\n",
       "      <td>447</td>\n",
       "      <td>180.0</td>\n",
       "      <td>['El_Hatillo_Municipality%2C_Miranda', 'Global...</td>\n",
       "      <td>150.0</td>\n",
       "      <td>[Baroque, Baseball, Capital, Caribbean_Sea, Ch...</td>\n",
       "      <td>5</td>\n",
       "      <td>0.001929</td>\n",
       "    </tr>\n",
       "    <tr>\n",
       "      <th>191</th>\n",
       "      <td>vietnam</td>\n",
       "      <td>287</td>\n",
       "      <td>281.0</td>\n",
       "      <td>['Asia', 'Beijing', 'Global_city', 'Ho_Chi_Min...</td>\n",
       "      <td>171.0</td>\n",
       "      <td>[Agriculture, Australia, Capital, Confucianism...</td>\n",
       "      <td>6</td>\n",
       "      <td>0.002315</td>\n",
       "    </tr>\n",
       "    <tr>\n",
       "      <th>192</th>\n",
       "      <td>yemen</td>\n",
       "      <td>19</td>\n",
       "      <td>68.0</td>\n",
       "      <td>['Albania', 'Arab_League', 'Arabic_language', ...</td>\n",
       "      <td>140.0</td>\n",
       "      <td>[11th_century, 16th_century, 19th_century, 7th...</td>\n",
       "      <td>1</td>\n",
       "      <td>0.000386</td>\n",
       "    </tr>\n",
       "    <tr>\n",
       "      <th>193</th>\n",
       "      <td>zambia</td>\n",
       "      <td>121</td>\n",
       "      <td>122.0</td>\n",
       "      <td>['Zambezi']['Africa', 'Henry_Morton_Stanley', ...</td>\n",
       "      <td>206.0</td>\n",
       "      <td>[AIDS, Copper, Mining, Zambezi, Zambia, Africa...</td>\n",
       "      <td>6</td>\n",
       "      <td>0.002315</td>\n",
       "    </tr>\n",
       "    <tr>\n",
       "      <th>194</th>\n",
       "      <td>zimbabwe</td>\n",
       "      <td>99</td>\n",
       "      <td>92.0</td>\n",
       "      <td>['Africa', 'Global_city', 'Munich', 'Nottingha...</td>\n",
       "      <td>80.0</td>\n",
       "      <td>[Capital, Citrus, City, Cotton, Fruit, Germany...</td>\n",
       "      <td>2</td>\n",
       "      <td>0.000772</td>\n",
       "    </tr>\n",
       "  </tbody>\n",
       "</table>\n",
       "<p>195 rows × 8 columns</p>\n",
       "</div>"
      ],
      "text/plain": [
       "      Top_1_name  click_count  num_links_in  \\\n",
       "0    afghanistan          629         313.0   \n",
       "1        albania           21          85.0   \n",
       "2        algeria          700         263.0   \n",
       "3        andorra            6          41.0   \n",
       "4         angola           28          80.0   \n",
       "..           ...          ...           ...   \n",
       "190    venezuela          447         180.0   \n",
       "191      vietnam          287         281.0   \n",
       "192        yemen           19          68.0   \n",
       "193       zambia          121         122.0   \n",
       "194     zimbabwe           99          92.0   \n",
       "\n",
       "                                         name_links_in  num_links_out  \\\n",
       "0    ['15th_Marine_Expeditionary_Unit', '18th_centu...          732.0   \n",
       "1    ['AK-47', 'Armenia', 'Atheism', 'Athens', 'Aze...          153.0   \n",
       "2    ['10th_century', '1973_oil_crisis', 'Africa', ...          201.0   \n",
       "3    ['Albania', 'Armenia', 'Azerbaijan', 'Biodiver...           54.0   \n",
       "4    ['13th_century', '2005_Lake_Tanganyika_earthqu...           21.0   \n",
       "..                                                 ...            ...   \n",
       "190  ['El_Hatillo_Municipality%2C_Miranda', 'Global...          150.0   \n",
       "191  ['Asia', 'Beijing', 'Global_city', 'Ho_Chi_Min...          171.0   \n",
       "192  ['Albania', 'Arab_League', 'Arabic_language', ...          140.0   \n",
       "193  ['Zambezi']['Africa', 'Henry_Morton_Stanley', ...          206.0   \n",
       "194  ['Africa', 'Global_city', 'Munich', 'Nottingha...           80.0   \n",
       "\n",
       "                                        name_links_out  occurrence   percent  \n",
       "0    [18th_century, Afghan_Hound, Alexander_the_Gre...          10  0.003858  \n",
       "1    [Afghanistan, Agriculture, Algeria, Ancient_Ro...           2  0.000772  \n",
       "2    [Africa, Agriculture, Algerian_Civil_War, Algi...           6  0.002315  \n",
       "3    [Agriculture, Algeria, Argentina, Brazil, Cana...           1  0.000386  \n",
       "4    [Africa, Atlantic_Ocean, Bantu, Cold_War, Cuba...           1  0.000386  \n",
       "..                                                 ...         ...       ...  \n",
       "190  [Baroque, Baseball, Capital, Caribbean_Sea, Ch...           5  0.001929  \n",
       "191  [Agriculture, Australia, Capital, Confucianism...           6  0.002315  \n",
       "192  [11th_century, 16th_century, 19th_century, 7th...           1  0.000386  \n",
       "193  [AIDS, Copper, Mining, Zambezi, Zambia, Africa...           6  0.002315  \n",
       "194  [Capital, Citrus, City, Cotton, Fruit, Germany...           2  0.000772  \n",
       "\n",
       "[195 rows x 8 columns]"
      ]
     },
     "execution_count": 31,
     "metadata": {},
     "output_type": "execute_result"
    }
   ],
   "source": [
    "countries_occurrences = data.groupby(\"Top_1_name\").size().reset_index()\n",
    "data_countries = data.groupby(\"Top_1_name\").sum().reset_index()\n",
    "data_countries[\"occurrence\"] = countries_occurrences.iloc[:,1].tolist()\n",
    "\n",
    "# percent of articles that belong to each country\n",
    "data_countries[\"percent\"] = data_countries[\"occurrence\"] / sum(data_countries[\"occurrence\"])\n",
    "data_countries"
   ]
  },
  {
   "cell_type": "code",
   "execution_count": 45,
   "metadata": {},
   "outputs": [
    {
     "data": {
      "application/vnd.plotly.v1+json": {
       "config": {
        "plotlyServerURL": "https://plot.ly"
       },
       "data": [
        {
         "customdata": [
          "Country: afghanistan<br>Percentage: 0.39%",
          "Country: albania<br>Percentage: 0.08%",
          "Country: algeria<br>Percentage: 0.23%",
          "Country: andorra<br>Percentage: 0.04%",
          "Country: angola<br>Percentage: 0.04%",
          "Country: anguilla<br>Percentage: 0.04%",
          "Country: antarctica<br>Percentage: 0.27%",
          "Country: argentina<br>Percentage: 0.58%",
          "Country: armenia<br>Percentage: 0.12%",
          "Country: aruba<br>Percentage: 0.04%",
          "Country: australia<br>Percentage: 4.21%",
          "Country: austria<br>Percentage: 0.66%",
          "Country: azerbaijan<br>Percentage: 0.08%",
          "Country: bahamas<br>Percentage: 0.19%",
          "Country: bahrain<br>Percentage: 0.04%",
          "Country: bangladesh<br>Percentage: 0.08%",
          "Country: barbados<br>Percentage: 0.08%",
          "Country: belarus<br>Percentage: 0.08%",
          "Country: belgium<br>Percentage: 0.62%",
          "Country: belize<br>Percentage: 0.04%",
          "Country: benin<br>Percentage: 0.12%",
          "Country: bermuda<br>Percentage: 0.08%",
          "Country: bhutan<br>Percentage: 0.04%",
          "Country: bolivia<br>Percentage: 0.15%",
          "Country: botswana<br>Percentage: 0.12%",
          "Country: brazil<br>Percentage: 0.69%",
          "Country: british virgin islands<br>Percentage: 0.04%",
          "Country: brunei<br>Percentage: 0.04%",
          "Country: bulgaria<br>Percentage: 0.04%",
          "Country: burkina faso<br>Percentage: 0.15%",
          "Country: burundi<br>Percentage: 0.04%",
          "Country: cambodia<br>Percentage: 0.12%",
          "Country: cameroon<br>Percentage: 0.12%",
          "Country: canada<br>Percentage: 2.66%",
          "Country: cape verde<br>Percentage: 0.08%",
          "Country: cayman islands<br>Percentage: 0.04%",
          "Country: central african republic<br>Percentage: 0.04%",
          "Country: chad<br>Percentage: 0.12%",
          "Country: chile<br>Percentage: 0.35%",
          "Country: china<br>Percentage: 3.28%",
          "Country: colombia<br>Percentage: 0.15%",
          "Country: comoros<br>Percentage: 0.04%",
          "Country: cook islands<br>Percentage: 0.04%",
          "Country: costa rica<br>Percentage: 0.04%",
          "Country: croatia<br>Percentage: 0.04%",
          "Country: cuba<br>Percentage: 0.12%",
          "Country: cyprus<br>Percentage: 0.08%",
          "Country: denmark<br>Percentage: 0.81%",
          "Country: djibouti<br>Percentage: 0.04%",
          "Country: dominica<br>Percentage: 0.08%",
          "Country: ecuador<br>Percentage: 0.15%",
          "Country: egypt<br>Percentage: 1.12%",
          "Country: el salvador<br>Percentage: 0.04%",
          "Country: eritrea<br>Percentage: 0.04%",
          "Country: estonia<br>Percentage: 0.12%",
          "Country: ethiopia<br>Percentage: 0.54%",
          "Country: falkland islands<br>Percentage: 0.08%",
          "Country: fiji<br>Percentage: 0.04%",
          "Country: finland<br>Percentage: 0.27%",
          "Country: france<br>Percentage: 4.13%",
          "Country: french polynesia<br>Percentage: 0.04%",
          "Country: gabon<br>Percentage: 0.08%",
          "Country: gambia<br>Percentage: 0.08%",
          "Country: georgia<br>Percentage: 0.23%",
          "Country: germany<br>Percentage: 4.09%",
          "Country: ghana<br>Percentage: 0.15%",
          "Country: gibraltar<br>Percentage: 0.08%",
          "Country: greece<br>Percentage: 2.16%",
          "Country: greenland<br>Percentage: 0.08%",
          "Country: grenada<br>Percentage: 0.12%",
          "Country: guadeloupe<br>Percentage: 0.04%",
          "Country: guam<br>Percentage: 0.04%",
          "Country: guatemala<br>Percentage: 0.08%",
          "Country: guernsey<br>Percentage: 0.08%",
          "Country: guinea<br>Percentage: 0.04%",
          "Country: guyana<br>Percentage: 0.08%",
          "Country: haiti<br>Percentage: 0.04%",
          "Country: honduras<br>Percentage: 0.12%",
          "Country: hungary<br>Percentage: 0.35%",
          "Country: iceland<br>Percentage: 0.35%",
          "Country: india<br>Percentage: 3.51%",
          "Country: indonesia<br>Percentage: 0.66%",
          "Country: iran<br>Percentage: 0.69%",
          "Country: iraq<br>Percentage: 0.54%",
          "Country: ireland<br>Percentage: 1.58%",
          "Country: isle of man<br>Percentage: 0.08%",
          "Country: israel<br>Percentage: 0.77%",
          "Country: italy<br>Percentage: 3.97%",
          "Country: jamaica<br>Percentage: 0.15%",
          "Country: japan<br>Percentage: 2.24%",
          "Country: jersey<br>Percentage: 0.12%",
          "Country: jordan<br>Percentage: 0.15%",
          "Country: kazakhstan<br>Percentage: 0.15%",
          "Country: kenya<br>Percentage: 0.27%",
          "Country: kiribati<br>Percentage: 0.08%",
          "Country: kuwait<br>Percentage: 0.08%",
          "Country: kyrgyzstan<br>Percentage: 0.08%",
          "Country: laos<br>Percentage: 0.04%",
          "Country: latvia<br>Percentage: 0.04%",
          "Country: lebanon<br>Percentage: 0.12%",
          "Country: lesotho<br>Percentage: 0.12%",
          "Country: liberia<br>Percentage: 0.12%",
          "Country: libya<br>Percentage: 0.08%",
          "Country: liechtenstein<br>Percentage: 0.04%",
          "Country: lithuania<br>Percentage: 0.04%",
          "Country: luxembourg<br>Percentage: 0.15%",
          "Country: madagascar<br>Percentage: 0.23%",
          "Country: malawi<br>Percentage: 0.15%",
          "Country: malaysia<br>Percentage: 0.39%",
          "Country: maldives<br>Percentage: 0.04%",
          "Country: mali<br>Percentage: 0.12%",
          "Country: malta<br>Percentage: 0.04%",
          "Country: marshall islands<br>Percentage: 0.04%",
          "Country: martinique<br>Percentage: 0.08%",
          "Country: mauritania<br>Percentage: 0.08%",
          "Country: mauritius<br>Percentage: 0.15%",
          "Country: mexico<br>Percentage: 1.04%",
          "Country: micronesia<br>Percentage: 0.04%",
          "Country: moldova<br>Percentage: 0.08%",
          "Country: monaco<br>Percentage: 0.12%",
          "Country: mongolia<br>Percentage: 0.35%",
          "Country: montenegro<br>Percentage: 0.04%",
          "Country: montserrat<br>Percentage: 0.04%",
          "Country: morocco<br>Percentage: 0.46%",
          "Country: mozambique<br>Percentage: 0.12%",
          "Country: namibia<br>Percentage: 0.04%",
          "Country: nauru<br>Percentage: 0.04%",
          "Country: nepal<br>Percentage: 0.27%",
          "Country: netherlands<br>Percentage: 1.12%",
          "Country: new zealand<br>Percentage: 0.81%",
          "Country: nicaragua<br>Percentage: 0.04%",
          "Country: niger<br>Percentage: 0.04%",
          "Country: niue<br>Percentage: 0.04%",
          "Country: north korea<br>Percentage: 0.12%",
          "Country: northern mariana islands<br>Percentage: 0.04%",
          "Country: norway<br>Percentage: 0.73%",
          "Country: oman<br>Percentage: 0.12%",
          "Country: pakistan<br>Percentage: 0.58%",
          "Country: palau<br>Percentage: 0.04%",
          "Country: panama<br>Percentage: 0.12%",
          "Country: paraguay<br>Percentage: 0.08%",
          "Country: peru<br>Percentage: 0.42%",
          "Country: philippines<br>Percentage: 0.46%",
          "Country: pitcairn islands<br>Percentage: 0.04%",
          "Country: poland<br>Percentage: 1.0%",
          "Country: portugal<br>Percentage: 0.39%",
          "Country: puerto rico<br>Percentage: 0.23%",
          "Country: qatar<br>Percentage: 0.12%",
          "Country: russia<br>Percentage: 2.62%",
          "Country: rwanda<br>Percentage: 0.23%",
          "Country: samoa<br>Percentage: 0.04%",
          "Country: san marino<br>Percentage: 0.04%",
          "Country: saudi arabia<br>Percentage: 0.27%",
          "Country: senegal<br>Percentage: 0.08%",
          "Country: serbia<br>Percentage: 0.23%",
          "Country: seychelles<br>Percentage: 0.08%",
          "Country: sierra leone<br>Percentage: 0.08%",
          "Country: singapore<br>Percentage: 0.15%",
          "Country: slovakia<br>Percentage: 0.12%",
          "Country: slovenia<br>Percentage: 0.04%",
          "Country: solomon islands<br>Percentage: 0.19%",
          "Country: south africa<br>Percentage: 1.47%",
          "Country: south korea<br>Percentage: 0.12%",
          "Country: spain<br>Percentage: 1.12%",
          "Country: sri lanka<br>Percentage: 0.15%",
          "Country: sudan<br>Percentage: 0.23%",
          "Country: suriname<br>Percentage: 0.08%",
          "Country: sweden<br>Percentage: 0.5%",
          "Country: switzerland<br>Percentage: 0.77%",
          "Country: syria<br>Percentage: 0.19%",
          "Country: taiwan<br>Percentage: 0.12%",
          "Country: tajikistan<br>Percentage: 0.04%",
          "Country: tanzania<br>Percentage: 0.15%",
          "Country: thailand<br>Percentage: 0.15%",
          "Country: timor-leste<br>Percentage: 0.04%",
          "Country: togo<br>Percentage: 0.08%",
          "Country: tonga<br>Percentage: 0.04%",
          "Country: tunisia<br>Percentage: 0.08%",
          "Country: turkey<br>Percentage: 0.58%",
          "Country: turkmenistan<br>Percentage: 0.04%",
          "Country: tuvalu<br>Percentage: 0.04%",
          "Country: uganda<br>Percentage: 0.31%",
          "Country: ukraine<br>Percentage: 0.27%",
          "Country: united arab emirates<br>Percentage: 0.15%",
          "Country: united kingdom<br>Percentage: 7.83%",
          "Country: united states<br>Percentage: 21.41%",
          "Country: uruguay<br>Percentage: 0.08%",
          "Country: uzbekistan<br>Percentage: 0.23%",
          "Country: vanuatu<br>Percentage: 0.04%",
          "Country: vatican city<br>Percentage: 0.04%",
          "Country: venezuela<br>Percentage: 0.19%",
          "Country: vietnam<br>Percentage: 0.23%",
          "Country: yemen<br>Percentage: 0.04%",
          "Country: zambia<br>Percentage: 0.23%",
          "Country: zimbabwe<br>Percentage: 0.08%"
         ],
         "domain": {
          "x": [
           0,
           1
          ],
          "y": [
           0,
           1
          ]
         },
         "hovertemplate": "<b>%{customdata}</b><extra></extra>",
         "labels": [
          "afghanistan",
          "albania",
          "algeria",
          "andorra",
          "angola",
          "anguilla",
          "antarctica",
          "argentina",
          "armenia",
          "aruba",
          "australia",
          "austria",
          "azerbaijan",
          "bahamas",
          "bahrain",
          "bangladesh",
          "barbados",
          "belarus",
          "belgium",
          "belize",
          "benin",
          "bermuda",
          "bhutan",
          "bolivia",
          "botswana",
          "brazil",
          "british virgin islands",
          "brunei",
          "bulgaria",
          "burkina faso",
          "burundi",
          "cambodia",
          "cameroon",
          "canada",
          "cape verde",
          "cayman islands",
          "central african republic",
          "chad",
          "chile",
          "china",
          "colombia",
          "comoros",
          "cook islands",
          "costa rica",
          "croatia",
          "cuba",
          "cyprus",
          "denmark",
          "djibouti",
          "dominica",
          "ecuador",
          "egypt",
          "el salvador",
          "eritrea",
          "estonia",
          "ethiopia",
          "falkland islands",
          "fiji",
          "finland",
          "france",
          "french polynesia",
          "gabon",
          "gambia",
          "georgia",
          "germany",
          "ghana",
          "gibraltar",
          "greece",
          "greenland",
          "grenada",
          "guadeloupe",
          "guam",
          "guatemala",
          "guernsey",
          "guinea",
          "guyana",
          "haiti",
          "honduras",
          "hungary",
          "iceland",
          "india",
          "indonesia",
          "iran",
          "iraq",
          "ireland",
          "isle of man",
          "israel",
          "italy",
          "jamaica",
          "japan",
          "jersey",
          "jordan",
          "kazakhstan",
          "kenya",
          "kiribati",
          "kuwait",
          "kyrgyzstan",
          "laos",
          "latvia",
          "lebanon",
          "lesotho",
          "liberia",
          "libya",
          "liechtenstein",
          "lithuania",
          "luxembourg",
          "madagascar",
          "malawi",
          "malaysia",
          "maldives",
          "mali",
          "malta",
          "marshall islands",
          "martinique",
          "mauritania",
          "mauritius",
          "mexico",
          "micronesia",
          "moldova",
          "monaco",
          "mongolia",
          "montenegro",
          "montserrat",
          "morocco",
          "mozambique",
          "namibia",
          "nauru",
          "nepal",
          "netherlands",
          "new zealand",
          "nicaragua",
          "niger",
          "niue",
          "north korea",
          "northern mariana islands",
          "norway",
          "oman",
          "pakistan",
          "palau",
          "panama",
          "paraguay",
          "peru",
          "philippines",
          "pitcairn islands",
          "poland",
          "portugal",
          "puerto rico",
          "qatar",
          "russia",
          "rwanda",
          "samoa",
          "san marino",
          "saudi arabia",
          "senegal",
          "serbia",
          "seychelles",
          "sierra leone",
          "singapore",
          "slovakia",
          "slovenia",
          "solomon islands",
          "south africa",
          "south korea",
          "spain",
          "sri lanka",
          "sudan",
          "suriname",
          "sweden",
          "switzerland",
          "syria",
          "taiwan",
          "tajikistan",
          "tanzania",
          "thailand",
          "timor-leste",
          "togo",
          "tonga",
          "tunisia",
          "turkey",
          "turkmenistan",
          "tuvalu",
          "uganda",
          "ukraine",
          "united arab emirates",
          "united kingdom",
          "united states",
          "uruguay",
          "uzbekistan",
          "vanuatu",
          "vatican city",
          "venezuela",
          "vietnam",
          "yemen",
          "zambia",
          "zimbabwe"
         ],
         "legendgroup": "",
         "name": "",
         "showlegend": true,
         "textposition": "inside",
         "type": "pie",
         "values": [
          0.0038580246913580245,
          0.0007716049382716049,
          0.0023148148148148147,
          0.00038580246913580245,
          0.00038580246913580245,
          0.00038580246913580245,
          0.002700617283950617,
          0.005787037037037037,
          0.0011574074074074073,
          0.00038580246913580245,
          0.04205246913580247,
          0.006558641975308642,
          0.0007716049382716049,
          0.0019290123456790122,
          0.00038580246913580245,
          0.0007716049382716049,
          0.0007716049382716049,
          0.0007716049382716049,
          0.006172839506172839,
          0.00038580246913580245,
          0.0011574074074074073,
          0.0007716049382716049,
          0.00038580246913580245,
          0.0015432098765432098,
          0.0011574074074074073,
          0.006944444444444444,
          0.00038580246913580245,
          0.00038580246913580245,
          0.00038580246913580245,
          0.0015432098765432098,
          0.00038580246913580245,
          0.0011574074074074073,
          0.0011574074074074073,
          0.02662037037037037,
          0.0007716049382716049,
          0.00038580246913580245,
          0.00038580246913580245,
          0.0011574074074074073,
          0.003472222222222222,
          0.03279320987654321,
          0.0015432098765432098,
          0.00038580246913580245,
          0.00038580246913580245,
          0.00038580246913580245,
          0.00038580246913580245,
          0.0011574074074074073,
          0.0007716049382716049,
          0.008101851851851851,
          0.00038580246913580245,
          0.0007716049382716049,
          0.0015432098765432098,
          0.011188271604938271,
          0.00038580246913580245,
          0.00038580246913580245,
          0.0011574074074074073,
          0.005401234567901234,
          0.0007716049382716049,
          0.00038580246913580245,
          0.002700617283950617,
          0.04128086419753087,
          0.00038580246913580245,
          0.0007716049382716049,
          0.0007716049382716049,
          0.0023148148148148147,
          0.04089506172839506,
          0.0015432098765432098,
          0.0007716049382716049,
          0.021604938271604937,
          0.0007716049382716049,
          0.0011574074074074073,
          0.00038580246913580245,
          0.00038580246913580245,
          0.0007716049382716049,
          0.0007716049382716049,
          0.00038580246913580245,
          0.0007716049382716049,
          0.00038580246913580245,
          0.0011574074074074073,
          0.003472222222222222,
          0.003472222222222222,
          0.03510802469135803,
          0.006558641975308642,
          0.006944444444444444,
          0.005401234567901234,
          0.015817901234567902,
          0.0007716049382716049,
          0.007716049382716049,
          0.03973765432098766,
          0.0015432098765432098,
          0.022376543209876542,
          0.0011574074074074073,
          0.0015432098765432098,
          0.0015432098765432098,
          0.002700617283950617,
          0.0007716049382716049,
          0.0007716049382716049,
          0.0007716049382716049,
          0.00038580246913580245,
          0.00038580246913580245,
          0.0011574074074074073,
          0.0011574074074074073,
          0.0011574074074074073,
          0.0007716049382716049,
          0.00038580246913580245,
          0.00038580246913580245,
          0.0015432098765432098,
          0.0023148148148148147,
          0.0015432098765432098,
          0.0038580246913580245,
          0.00038580246913580245,
          0.0011574074074074073,
          0.00038580246913580245,
          0.00038580246913580245,
          0.0007716049382716049,
          0.0007716049382716049,
          0.0015432098765432098,
          0.010416666666666666,
          0.00038580246913580245,
          0.0007716049382716049,
          0.0011574074074074073,
          0.003472222222222222,
          0.00038580246913580245,
          0.00038580246913580245,
          0.004629629629629629,
          0.0011574074074074073,
          0.00038580246913580245,
          0.00038580246913580245,
          0.002700617283950617,
          0.011188271604938271,
          0.008101851851851851,
          0.00038580246913580245,
          0.00038580246913580245,
          0.00038580246913580245,
          0.0011574074074074073,
          0.00038580246913580245,
          0.0073302469135802465,
          0.0011574074074074073,
          0.005787037037037037,
          0.00038580246913580245,
          0.0011574074074074073,
          0.0007716049382716049,
          0.004243827160493827,
          0.004629629629629629,
          0.00038580246913580245,
          0.010030864197530864,
          0.0038580246913580245,
          0.0023148148148148147,
          0.0011574074074074073,
          0.026234567901234566,
          0.0023148148148148147,
          0.00038580246913580245,
          0.00038580246913580245,
          0.002700617283950617,
          0.0007716049382716049,
          0.0023148148148148147,
          0.0007716049382716049,
          0.0007716049382716049,
          0.0015432098765432098,
          0.0011574074074074073,
          0.00038580246913580245,
          0.0019290123456790122,
          0.014660493827160493,
          0.0011574074074074073,
          0.011188271604938271,
          0.0015432098765432098,
          0.0023148148148148147,
          0.0007716049382716049,
          0.005015432098765432,
          0.007716049382716049,
          0.0019290123456790122,
          0.0011574074074074073,
          0.00038580246913580245,
          0.0015432098765432098,
          0.0015432098765432098,
          0.00038580246913580245,
          0.0007716049382716049,
          0.00038580246913580245,
          0.0007716049382716049,
          0.005787037037037037,
          0.00038580246913580245,
          0.00038580246913580245,
          0.0030864197530864196,
          0.002700617283950617,
          0.0015432098765432098,
          0.0783179012345679,
          0.21412037037037038,
          0.0007716049382716049,
          0.0023148148148148147,
          0.00038580246913580245,
          0.00038580246913580245,
          0.0019290123456790122,
          0.0023148148148148147,
          0.00038580246913580245,
          0.0023148148148148147,
          0.0007716049382716049
         ]
        }
       ],
       "layout": {
        "legend": {
         "tracegroupgap": 0
        },
        "margin": {
         "t": 60
        },
        "showlegend": false,
        "template": {
         "data": {
          "bar": [
           {
            "error_x": {
             "color": "#2a3f5f"
            },
            "error_y": {
             "color": "#2a3f5f"
            },
            "marker": {
             "line": {
              "color": "#E5ECF6",
              "width": 0.5
             },
             "pattern": {
              "fillmode": "overlay",
              "size": 10,
              "solidity": 0.2
             }
            },
            "type": "bar"
           }
          ],
          "barpolar": [
           {
            "marker": {
             "line": {
              "color": "#E5ECF6",
              "width": 0.5
             },
             "pattern": {
              "fillmode": "overlay",
              "size": 10,
              "solidity": 0.2
             }
            },
            "type": "barpolar"
           }
          ],
          "carpet": [
           {
            "aaxis": {
             "endlinecolor": "#2a3f5f",
             "gridcolor": "white",
             "linecolor": "white",
             "minorgridcolor": "white",
             "startlinecolor": "#2a3f5f"
            },
            "baxis": {
             "endlinecolor": "#2a3f5f",
             "gridcolor": "white",
             "linecolor": "white",
             "minorgridcolor": "white",
             "startlinecolor": "#2a3f5f"
            },
            "type": "carpet"
           }
          ],
          "choropleth": [
           {
            "colorbar": {
             "outlinewidth": 0,
             "ticks": ""
            },
            "type": "choropleth"
           }
          ],
          "contour": [
           {
            "colorbar": {
             "outlinewidth": 0,
             "ticks": ""
            },
            "colorscale": [
             [
              0,
              "#0d0887"
             ],
             [
              0.1111111111111111,
              "#46039f"
             ],
             [
              0.2222222222222222,
              "#7201a8"
             ],
             [
              0.3333333333333333,
              "#9c179e"
             ],
             [
              0.4444444444444444,
              "#bd3786"
             ],
             [
              0.5555555555555556,
              "#d8576b"
             ],
             [
              0.6666666666666666,
              "#ed7953"
             ],
             [
              0.7777777777777778,
              "#fb9f3a"
             ],
             [
              0.8888888888888888,
              "#fdca26"
             ],
             [
              1,
              "#f0f921"
             ]
            ],
            "type": "contour"
           }
          ],
          "contourcarpet": [
           {
            "colorbar": {
             "outlinewidth": 0,
             "ticks": ""
            },
            "type": "contourcarpet"
           }
          ],
          "heatmap": [
           {
            "colorbar": {
             "outlinewidth": 0,
             "ticks": ""
            },
            "colorscale": [
             [
              0,
              "#0d0887"
             ],
             [
              0.1111111111111111,
              "#46039f"
             ],
             [
              0.2222222222222222,
              "#7201a8"
             ],
             [
              0.3333333333333333,
              "#9c179e"
             ],
             [
              0.4444444444444444,
              "#bd3786"
             ],
             [
              0.5555555555555556,
              "#d8576b"
             ],
             [
              0.6666666666666666,
              "#ed7953"
             ],
             [
              0.7777777777777778,
              "#fb9f3a"
             ],
             [
              0.8888888888888888,
              "#fdca26"
             ],
             [
              1,
              "#f0f921"
             ]
            ],
            "type": "heatmap"
           }
          ],
          "heatmapgl": [
           {
            "colorbar": {
             "outlinewidth": 0,
             "ticks": ""
            },
            "colorscale": [
             [
              0,
              "#0d0887"
             ],
             [
              0.1111111111111111,
              "#46039f"
             ],
             [
              0.2222222222222222,
              "#7201a8"
             ],
             [
              0.3333333333333333,
              "#9c179e"
             ],
             [
              0.4444444444444444,
              "#bd3786"
             ],
             [
              0.5555555555555556,
              "#d8576b"
             ],
             [
              0.6666666666666666,
              "#ed7953"
             ],
             [
              0.7777777777777778,
              "#fb9f3a"
             ],
             [
              0.8888888888888888,
              "#fdca26"
             ],
             [
              1,
              "#f0f921"
             ]
            ],
            "type": "heatmapgl"
           }
          ],
          "histogram": [
           {
            "marker": {
             "pattern": {
              "fillmode": "overlay",
              "size": 10,
              "solidity": 0.2
             }
            },
            "type": "histogram"
           }
          ],
          "histogram2d": [
           {
            "colorbar": {
             "outlinewidth": 0,
             "ticks": ""
            },
            "colorscale": [
             [
              0,
              "#0d0887"
             ],
             [
              0.1111111111111111,
              "#46039f"
             ],
             [
              0.2222222222222222,
              "#7201a8"
             ],
             [
              0.3333333333333333,
              "#9c179e"
             ],
             [
              0.4444444444444444,
              "#bd3786"
             ],
             [
              0.5555555555555556,
              "#d8576b"
             ],
             [
              0.6666666666666666,
              "#ed7953"
             ],
             [
              0.7777777777777778,
              "#fb9f3a"
             ],
             [
              0.8888888888888888,
              "#fdca26"
             ],
             [
              1,
              "#f0f921"
             ]
            ],
            "type": "histogram2d"
           }
          ],
          "histogram2dcontour": [
           {
            "colorbar": {
             "outlinewidth": 0,
             "ticks": ""
            },
            "colorscale": [
             [
              0,
              "#0d0887"
             ],
             [
              0.1111111111111111,
              "#46039f"
             ],
             [
              0.2222222222222222,
              "#7201a8"
             ],
             [
              0.3333333333333333,
              "#9c179e"
             ],
             [
              0.4444444444444444,
              "#bd3786"
             ],
             [
              0.5555555555555556,
              "#d8576b"
             ],
             [
              0.6666666666666666,
              "#ed7953"
             ],
             [
              0.7777777777777778,
              "#fb9f3a"
             ],
             [
              0.8888888888888888,
              "#fdca26"
             ],
             [
              1,
              "#f0f921"
             ]
            ],
            "type": "histogram2dcontour"
           }
          ],
          "mesh3d": [
           {
            "colorbar": {
             "outlinewidth": 0,
             "ticks": ""
            },
            "type": "mesh3d"
           }
          ],
          "parcoords": [
           {
            "line": {
             "colorbar": {
              "outlinewidth": 0,
              "ticks": ""
             }
            },
            "type": "parcoords"
           }
          ],
          "pie": [
           {
            "automargin": true,
            "type": "pie"
           }
          ],
          "scatter": [
           {
            "fillpattern": {
             "fillmode": "overlay",
             "size": 10,
             "solidity": 0.2
            },
            "type": "scatter"
           }
          ],
          "scatter3d": [
           {
            "line": {
             "colorbar": {
              "outlinewidth": 0,
              "ticks": ""
             }
            },
            "marker": {
             "colorbar": {
              "outlinewidth": 0,
              "ticks": ""
             }
            },
            "type": "scatter3d"
           }
          ],
          "scattercarpet": [
           {
            "marker": {
             "colorbar": {
              "outlinewidth": 0,
              "ticks": ""
             }
            },
            "type": "scattercarpet"
           }
          ],
          "scattergeo": [
           {
            "marker": {
             "colorbar": {
              "outlinewidth": 0,
              "ticks": ""
             }
            },
            "type": "scattergeo"
           }
          ],
          "scattergl": [
           {
            "marker": {
             "colorbar": {
              "outlinewidth": 0,
              "ticks": ""
             }
            },
            "type": "scattergl"
           }
          ],
          "scattermapbox": [
           {
            "marker": {
             "colorbar": {
              "outlinewidth": 0,
              "ticks": ""
             }
            },
            "type": "scattermapbox"
           }
          ],
          "scatterpolar": [
           {
            "marker": {
             "colorbar": {
              "outlinewidth": 0,
              "ticks": ""
             }
            },
            "type": "scatterpolar"
           }
          ],
          "scatterpolargl": [
           {
            "marker": {
             "colorbar": {
              "outlinewidth": 0,
              "ticks": ""
             }
            },
            "type": "scatterpolargl"
           }
          ],
          "scatterternary": [
           {
            "marker": {
             "colorbar": {
              "outlinewidth": 0,
              "ticks": ""
             }
            },
            "type": "scatterternary"
           }
          ],
          "surface": [
           {
            "colorbar": {
             "outlinewidth": 0,
             "ticks": ""
            },
            "colorscale": [
             [
              0,
              "#0d0887"
             ],
             [
              0.1111111111111111,
              "#46039f"
             ],
             [
              0.2222222222222222,
              "#7201a8"
             ],
             [
              0.3333333333333333,
              "#9c179e"
             ],
             [
              0.4444444444444444,
              "#bd3786"
             ],
             [
              0.5555555555555556,
              "#d8576b"
             ],
             [
              0.6666666666666666,
              "#ed7953"
             ],
             [
              0.7777777777777778,
              "#fb9f3a"
             ],
             [
              0.8888888888888888,
              "#fdca26"
             ],
             [
              1,
              "#f0f921"
             ]
            ],
            "type": "surface"
           }
          ],
          "table": [
           {
            "cells": {
             "fill": {
              "color": "#EBF0F8"
             },
             "line": {
              "color": "white"
             }
            },
            "header": {
             "fill": {
              "color": "#C8D4E3"
             },
             "line": {
              "color": "white"
             }
            },
            "type": "table"
           }
          ]
         },
         "layout": {
          "annotationdefaults": {
           "arrowcolor": "#2a3f5f",
           "arrowhead": 0,
           "arrowwidth": 1
          },
          "autotypenumbers": "strict",
          "coloraxis": {
           "colorbar": {
            "outlinewidth": 0,
            "ticks": ""
           }
          },
          "colorscale": {
           "diverging": [
            [
             0,
             "#8e0152"
            ],
            [
             0.1,
             "#c51b7d"
            ],
            [
             0.2,
             "#de77ae"
            ],
            [
             0.3,
             "#f1b6da"
            ],
            [
             0.4,
             "#fde0ef"
            ],
            [
             0.5,
             "#f7f7f7"
            ],
            [
             0.6,
             "#e6f5d0"
            ],
            [
             0.7,
             "#b8e186"
            ],
            [
             0.8,
             "#7fbc41"
            ],
            [
             0.9,
             "#4d9221"
            ],
            [
             1,
             "#276419"
            ]
           ],
           "sequential": [
            [
             0,
             "#0d0887"
            ],
            [
             0.1111111111111111,
             "#46039f"
            ],
            [
             0.2222222222222222,
             "#7201a8"
            ],
            [
             0.3333333333333333,
             "#9c179e"
            ],
            [
             0.4444444444444444,
             "#bd3786"
            ],
            [
             0.5555555555555556,
             "#d8576b"
            ],
            [
             0.6666666666666666,
             "#ed7953"
            ],
            [
             0.7777777777777778,
             "#fb9f3a"
            ],
            [
             0.8888888888888888,
             "#fdca26"
            ],
            [
             1,
             "#f0f921"
            ]
           ],
           "sequentialminus": [
            [
             0,
             "#0d0887"
            ],
            [
             0.1111111111111111,
             "#46039f"
            ],
            [
             0.2222222222222222,
             "#7201a8"
            ],
            [
             0.3333333333333333,
             "#9c179e"
            ],
            [
             0.4444444444444444,
             "#bd3786"
            ],
            [
             0.5555555555555556,
             "#d8576b"
            ],
            [
             0.6666666666666666,
             "#ed7953"
            ],
            [
             0.7777777777777778,
             "#fb9f3a"
            ],
            [
             0.8888888888888888,
             "#fdca26"
            ],
            [
             1,
             "#f0f921"
            ]
           ]
          },
          "colorway": [
           "#636efa",
           "#EF553B",
           "#00cc96",
           "#ab63fa",
           "#FFA15A",
           "#19d3f3",
           "#FF6692",
           "#B6E880",
           "#FF97FF",
           "#FECB52"
          ],
          "font": {
           "color": "#2a3f5f"
          },
          "geo": {
           "bgcolor": "white",
           "lakecolor": "white",
           "landcolor": "#E5ECF6",
           "showlakes": true,
           "showland": true,
           "subunitcolor": "white"
          },
          "hoverlabel": {
           "align": "left"
          },
          "hovermode": "closest",
          "mapbox": {
           "style": "light"
          },
          "paper_bgcolor": "white",
          "plot_bgcolor": "#E5ECF6",
          "polar": {
           "angularaxis": {
            "gridcolor": "white",
            "linecolor": "white",
            "ticks": ""
           },
           "bgcolor": "#E5ECF6",
           "radialaxis": {
            "gridcolor": "white",
            "linecolor": "white",
            "ticks": ""
           }
          },
          "scene": {
           "xaxis": {
            "backgroundcolor": "#E5ECF6",
            "gridcolor": "white",
            "gridwidth": 2,
            "linecolor": "white",
            "showbackground": true,
            "ticks": "",
            "zerolinecolor": "white"
           },
           "yaxis": {
            "backgroundcolor": "#E5ECF6",
            "gridcolor": "white",
            "gridwidth": 2,
            "linecolor": "white",
            "showbackground": true,
            "ticks": "",
            "zerolinecolor": "white"
           },
           "zaxis": {
            "backgroundcolor": "#E5ECF6",
            "gridcolor": "white",
            "gridwidth": 2,
            "linecolor": "white",
            "showbackground": true,
            "ticks": "",
            "zerolinecolor": "white"
           }
          },
          "shapedefaults": {
           "line": {
            "color": "#2a3f5f"
           }
          },
          "ternary": {
           "aaxis": {
            "gridcolor": "white",
            "linecolor": "white",
            "ticks": ""
           },
           "baxis": {
            "gridcolor": "white",
            "linecolor": "white",
            "ticks": ""
           },
           "bgcolor": "#E5ECF6",
           "caxis": {
            "gridcolor": "white",
            "linecolor": "white",
            "ticks": ""
           }
          },
          "title": {
           "x": 0.05
          },
          "xaxis": {
           "automargin": true,
           "gridcolor": "white",
           "linecolor": "white",
           "ticks": "",
           "title": {
            "standoff": 15
           },
           "zerolinecolor": "white",
           "zerolinewidth": 2
          },
          "yaxis": {
           "automargin": true,
           "gridcolor": "white",
           "linecolor": "white",
           "ticks": "",
           "title": {
            "standoff": 15
           },
           "zerolinecolor": "white",
           "zerolinewidth": 2
          }
         }
        },
        "title": {
         "text": "Figure 1: Proportion of articles per country in Wikispeedia (2007)",
         "x": 0.5,
         "xanchor": "center",
         "yanchor": "top"
        },
        "uniformtext": {
         "minsize": 8,
         "mode": "hide"
        }
       }
      }
     },
     "metadata": {},
     "output_type": "display_data"
    }
   ],
   "source": [
    "data_countries['custom_text'] = (\n",
    "    \"Country: \" + data_countries['Top_1_name'] +\n",
    "    \"<br>Percentage: \" + round(data_countries['percent'] * 100, 2).astype(str) + \"%\"\n",
    ")\n",
    "\n",
    "fig = px.pie(data_countries, values='percent', names='Top_1_name')\n",
    "fig.update_traces(textposition='inside', \n",
    "                  customdata=data_countries['custom_text'],  # Add custom data for hover\n",
    "                  hovertemplate=\"<b>%{customdata}</b><extra></extra>\")\n",
    "fig.update_layout(title={'text': 'Figure 1: Proportion of articles per country in Wikispeedia (2007)', 'x': 0.5, 'xanchor': 'center', 'yanchor': 'top'},\n",
    "                  uniformtext_minsize=8, \n",
    "                  uniformtext_mode='hide', \n",
    "                  showlegend=False)\n",
    "fig.show()\n",
    "\n",
    "# Export the figure to an HTML file\n",
    "pio.write_html(fig, file='graphs/topic_1/pie_plot_distribution_of_countries.html', auto_open=False)"
   ]
  },
  {
   "cell_type": "markdown",
   "metadata": {},
   "source": [
    "We see that 8 countries make up for 1/2 of the articles in Wikipedia, namely the US, UK, Australia, France, Germany, Italy, India and China. Those are all in the top10 of countries that publish the most!!\n",
    "\n",
    "With Figure 1, we get a first intuition of the cultural bias that is present in the Wikipeedia graph: countries that publish most are also represented by more articles. When players play on this already biased graph, they will obviously click most on articles from those countries. So, later, when we analyze the behavior of the players, we will have to keep this in mind and normalize the click counts of the players by the number of articles per country! But this is for later, let's go on here!"
   ]
  },
  {
   "cell_type": "markdown",
   "metadata": {},
   "source": [
    "Let's now look at the connectivity between countries. \n",
    "\n",
    "> **_NOTE:_** Two countries are said to be *connected* if at least one article from the first country contains a link to an article associated to the other country, and the other way around for the 2 same articles. "
   ]
  },
  {
   "cell_type": "markdown",
   "metadata": {},
   "source": [
    "We first need to prepare the data, so to find which countries are connected and how often those connections appear in the Wikipedia graph! We basically go through each row of the `country_clicks_links.csv` data, and for each row/article we look at the name of the articles to which the current article leads (i.e. *name_links_out*). Then, we construct pair like this: \n",
    "- (country associated to current article, country associated to 1st name_links_out)\n",
    "- (country associated to current article, country associated to 2nd name_links_out)\n",
    "- ... \n",
    "\n",
    "And we do this for each article that is references by the current article. After repeating this process for each row/article of the DataFrame we end up with a large number (8767) number of country pairs in the form (start country, end country). Those pairs will then later be read as edges on a world map!! "
   ]
  },
  {
   "cell_type": "code",
   "execution_count": 46,
   "metadata": {},
   "outputs": [],
   "source": [
    "data = pd.read_csv(\"data/country_clicks_links.csv\", index_col=0)\n",
    "\n",
    "data.dropna(subset=[\"Top_1_name\"], inplace=True)\n",
    "data[\"name_links_out\"] = data[\"name_links_out\"].fillna(\"[]\")\n",
    "data[\"num_links_in\"] = data[\"num_links_in\"].fillna(0)\n",
    "data[\"num_links_out\"] = data[\"num_links_out\"].fillna(0)\n",
    "data[\"name_links_out\"] = data[\"name_links_out\"].apply(literal_eval)\n",
    "\n",
    "start_country = []\n",
    "end_country = []\n",
    "\n",
    "for idx, row in data.iterrows():\n",
    "    links_out_list = list(row[\"name_links_out\"])\n",
    "    for out_link in links_out_list:\n",
    "        try:\n",
    "            start_country.append(row[\"Top_1_name\"])\n",
    "            end_country.append(data.loc[out_link][\"Top_1_name\"])\n",
    "        except:\n",
    "            pass\n",
    "\n",
    "df = pd.DataFrame(list(zip(start_country, end_country)),\n",
    "              columns=['start_country','end_country'])"
   ]
  },
  {
   "cell_type": "markdown",
   "metadata": {},
   "source": [
    "Let's construct a DataFrame that contains the connections between countries and also a count variable that tracts how often a connection occurs. This count variable will later be used to assess the importance of an edge (i.e. if *count* i is large, it means that the pair (start country i, end country i) appears very often in the graph and so those 2 countries are very much *connected*)"
   ]
  },
  {
   "cell_type": "code",
   "execution_count": 47,
   "metadata": {},
   "outputs": [
    {
     "data": {
      "text/html": [
       "<div>\n",
       "<style scoped>\n",
       "    .dataframe tbody tr th:only-of-type {\n",
       "        vertical-align: middle;\n",
       "    }\n",
       "\n",
       "    .dataframe tbody tr th {\n",
       "        vertical-align: top;\n",
       "    }\n",
       "\n",
       "    .dataframe thead th {\n",
       "        text-align: right;\n",
       "    }\n",
       "</style>\n",
       "<table border=\"1\" class=\"dataframe\">\n",
       "  <thead>\n",
       "    <tr style=\"text-align: right;\">\n",
       "      <th></th>\n",
       "      <th>start_country</th>\n",
       "      <th>end_country</th>\n",
       "      <th>count</th>\n",
       "    </tr>\n",
       "  </thead>\n",
       "  <tbody>\n",
       "    <tr>\n",
       "      <th>0</th>\n",
       "      <td>united states</td>\n",
       "      <td>united states</td>\n",
       "      <td>1006</td>\n",
       "    </tr>\n",
       "    <tr>\n",
       "      <th>1</th>\n",
       "      <td>united states</td>\n",
       "      <td>united kingdom</td>\n",
       "      <td>619</td>\n",
       "    </tr>\n",
       "    <tr>\n",
       "      <th>2</th>\n",
       "      <td>united kingdom</td>\n",
       "      <td>united states</td>\n",
       "      <td>522</td>\n",
       "    </tr>\n",
       "    <tr>\n",
       "      <th>3</th>\n",
       "      <td>united states</td>\n",
       "      <td>france</td>\n",
       "      <td>454</td>\n",
       "    </tr>\n",
       "    <tr>\n",
       "      <th>4</th>\n",
       "      <td>united states</td>\n",
       "      <td>germany</td>\n",
       "      <td>397</td>\n",
       "    </tr>\n",
       "    <tr>\n",
       "      <th>...</th>\n",
       "      <td>...</td>\n",
       "      <td>...</td>\n",
       "      <td>...</td>\n",
       "    </tr>\n",
       "    <tr>\n",
       "      <th>8762</th>\n",
       "      <td>indonesia</td>\n",
       "      <td>puerto rico</td>\n",
       "      <td>1</td>\n",
       "    </tr>\n",
       "    <tr>\n",
       "      <th>8763</th>\n",
       "      <td>indonesia</td>\n",
       "      <td>philippines</td>\n",
       "      <td>1</td>\n",
       "    </tr>\n",
       "    <tr>\n",
       "      <th>8764</th>\n",
       "      <td>indonesia</td>\n",
       "      <td>peru</td>\n",
       "      <td>1</td>\n",
       "    </tr>\n",
       "    <tr>\n",
       "      <th>8765</th>\n",
       "      <td>indonesia</td>\n",
       "      <td>panama</td>\n",
       "      <td>1</td>\n",
       "    </tr>\n",
       "    <tr>\n",
       "      <th>8766</th>\n",
       "      <td>zimbabwe</td>\n",
       "      <td>zimbabwe</td>\n",
       "      <td>1</td>\n",
       "    </tr>\n",
       "  </tbody>\n",
       "</table>\n",
       "<p>8767 rows × 3 columns</p>\n",
       "</div>"
      ],
      "text/plain": [
       "       start_country     end_country  count\n",
       "0      united states   united states   1006\n",
       "1      united states  united kingdom    619\n",
       "2     united kingdom   united states    522\n",
       "3      united states          france    454\n",
       "4      united states         germany    397\n",
       "...              ...             ...    ...\n",
       "8762       indonesia     puerto rico      1\n",
       "8763       indonesia     philippines      1\n",
       "8764       indonesia            peru      1\n",
       "8765       indonesia          panama      1\n",
       "8766        zimbabwe        zimbabwe      1\n",
       "\n",
       "[8767 rows x 3 columns]"
      ]
     },
     "execution_count": 47,
     "metadata": {},
     "output_type": "execute_result"
    }
   ],
   "source": [
    "country_connexions = df.groupby([\"start_country\", \"end_country\"]).size().sort_values(ascending=False).reset_index()\n",
    "country_connexions = country_connexions.rename(columns={country_connexions.columns[-1]: 'count'})\n",
    "country_connexions"
   ]
  },
  {
   "cell_type": "markdown",
   "metadata": {},
   "source": [
    "Great, well done! \n",
    "\n",
    "Now we will add this information as edges on a graph representing the countries, their associated number of articles and their connections!\n",
    "- each node is a country \n",
    "- the size and color of a node is proportional to the number of articles associtated to that node\n",
    "- edges represent connnections between countries in the Wikipedia graph"
   ]
  },
  {
   "cell_type": "markdown",
   "metadata": {},
   "source": [
    "We need the position (i.e. longitude and latitude) of each country on a world map, since each country will be a node on a world map."
   ]
  },
  {
   "cell_type": "code",
   "execution_count": 48,
   "metadata": {},
   "outputs": [
    {
     "name": "stdout",
     "output_type": "stream",
     "text": [
      "before: (34.0678644, -102.524362)\n",
      "after (15.531178050000001, 32.5666937354618)\n"
     ]
    }
   ],
   "source": [
    "# Get a set of coordinates (latitude, longitude) for each country for visualisation purposes\n",
    "geolocator = Nominatim(user_agent=\"my_app\", timeout=10)\n",
    "\n",
    "def get_country_coordinates(country_name):\n",
    "    location = geolocator.geocode(country_name)\n",
    "    return (location.latitude, location.longitude)\n",
    "\n",
    "countries = data_countries.Top_1_name.tolist()\n",
    "coords = []\n",
    "for country in countries: \n",
    "    # handle ambiguous cases (the geolocator function tends to place ambiguous countries in the US!)\n",
    "    if country == \"sudan\": \n",
    "        print(\"before:\", get_country_coordinates(\"sudan\"))\n",
    "        print(\"after\", get_country_coordinates(\"Sudan, Africa\"))\n",
    "        coords.append(get_country_coordinates(\"Sudan, Africa\"))\n",
    "    elif country == \"georgia\": \n",
    "        coords.append(get_country_coordinates(\"Georgia, Caucasus\"))\n",
    "    elif country == \"lebanon\": \n",
    "        coords.append(get_country_coordinates(\"Lebanon, Asia\"))\n",
    "    elif country == \"greenland\": \n",
    "        coords.append(get_country_coordinates(\"Greenland, North America\"))\n",
    "    elif country == \"jordan\": \n",
    "        coords.append(get_country_coordinates(\"Jordan, Middle East\"))\n",
    "    else:\n",
    "        coords.append(get_country_coordinates(country))\n",
    "\n",
    "latitudes = [coord[0] for coord in coords]\n",
    "longitudes = [coord[1] for coord in coords]"
   ]
  },
  {
   "cell_type": "markdown",
   "metadata": {},
   "source": [
    "We need to overlay our graph on a world map. For this we will use Leaflet and more preceisely [Follium](#https://python-visualization.github.io/folium/latest/) in Python! "
   ]
  },
  {
   "cell_type": "code",
   "execution_count": 59,
   "metadata": {},
   "outputs": [],
   "source": [
    "def overlap_world_map(out_path, edge=True):\n",
    "    # Create a base map centered on an average coordinate (e.g., latitude 0, longitude 0)\n",
    "    map_center = [0, 0]\n",
    "    world_map = folium.Map(location=map_center, zoom_start=2, tiles='cartodbpositron')\n",
    "\n",
    "    # define color gradient for node color\n",
    "    colors_hex = [matplotlib.colors.to_hex(color_map(num + 100)) for num in data_countries.occurrence.tolist()]\n",
    "\n",
    "    # Add each country node as a CircleMarker with scaled sizes\n",
    "    for country, lat, lon, color, size in zip(countries, latitudes, longitudes, colors_hex, data_countries.occurrence.tolist()):\n",
    "        folium.CircleMarker(\n",
    "            location=[lat, lon],  # Use latitude and longitude\n",
    "            radius=size/10,         # Scaled size based on occurrence\n",
    "            color=color,\n",
    "            fill=True,\n",
    "            fill_opacity=0.7,\n",
    "            popup=folium.Popup(\n",
    "                f\"<b>{country}</b><br>{size} articles\",\n",
    "                max_width=100, \n",
    "                min_width=50\n",
    "            )\n",
    "        ).add_to(world_map)\n",
    "\n",
    "    # Add a slider for threshold\n",
    "    slider_html = '''\n",
    "        <div style=\"position: absolute; top: 10px; left: 100px; z-index: 9999;\">\n",
    "            <label for=\"threshold_slider\" style=\"font-size: 14px; color: black;\">Edge occurrence:</label>\n",
    "            <input type=\"range\" id=\"threshold_slider\" min=\"1\" max=\"611\" value=\"1\" step=\"10\" style=\"width: 200px;\">\n",
    "            <span id=\"threshold_value\" style=\"font-size: 14px; color: black;\">1</span>\n",
    "        </div>\n",
    "    '''\n",
    "    \n",
    "    # Add the slider to the map as an HTML element\n",
    "    world_map.get_root().html.add_child(folium.Element(slider_html))\n",
    "\n",
    "    # JavaScript to update edges based on the slider value\n",
    "    slider_js = '''\n",
    "        <script>\n",
    "            document.getElementById(\"threshold_slider\").oninput = function() {\n",
    "                var threshold = parseInt(this.value);\n",
    "                document.getElementById(\"threshold_value\").innerText = threshold;\n",
    "                // Filter edges based on the threshold value\n",
    "                var lines = document.querySelectorAll('path[stroke=\"blue\"]');\n",
    "                lines.forEach(function(line) {\n",
    "                    var opacity = parseFloat(line.getAttribute(\"stroke-opacity\"));\n",
    "                    if (opacity >= (threshold / 1006)) {\n",
    "                        line.style.display = \"block\";  // Show the edge\n",
    "                    } else {\n",
    "                        line.style.display = \"none\";   // Hide the edge\n",
    "                    }\n",
    "                });\n",
    "            };\n",
    "        </script>\n",
    "    '''\n",
    "    \n",
    "    # Add the JavaScript to the map\n",
    "    world_map.get_root().html.add_child(folium.Element(slider_js))\n",
    "\n",
    "    if edge:\n",
    "        for i in range(len(country_connexions)):\n",
    "            start_country = country_connexions[\"start_country\"].iloc[i]\n",
    "            end_country = country_connexions[\"end_country\"].iloc[i]\n",
    "            count = country_connexions[\"count\"].iloc[i]\n",
    "            \n",
    "            # Get coordinates for both countries\n",
    "            try:\n",
    "                start_idx = countries.index(start_country)\n",
    "                end_idx = countries.index(end_country)\n",
    "                start_coords = [latitudes[start_idx], longitudes[start_idx]]\n",
    "                end_coords = [latitudes[end_idx], longitudes[end_idx]]\n",
    "                \n",
    "                # Add a line (edge) between the two countries\n",
    "                folium.PolyLine(\n",
    "                    locations=[start_coords, end_coords], \n",
    "                    color='blue',\n",
    "                    weight=2, \n",
    "                    opacity=count/1006,   # Line transparency\n",
    "                ).add_to(world_map)\n",
    "            except ValueError:\n",
    "                print(f\"Connection skipped: {start_country} -> {end_country} (one of them not found in countries list)\")\n",
    "\n",
    "    # Save the combined map to an HTML file\n",
    "    world_map.save(out_path)\n",
    "\n",
    "    print(f\"Map is saved in {out_path}!\")"
   ]
  },
  {
   "cell_type": "markdown",
   "metadata": {},
   "source": [
    "Let's finally create our world map with edges representing connections between countries in the Wikispeedia graph! Don't forget that two countries are said to be *connected* is an article from the first country contains a link to an article associated to the other country. "
   ]
  },
  {
   "cell_type": "code",
   "execution_count": 60,
   "metadata": {},
   "outputs": [
    {
     "name": "stdout",
     "output_type": "stream",
     "text": [
      "Map is saved in graphs/topic_1/world_graph_map.html!\n"
     ]
    }
   ],
   "source": [
    "# just nodes\n",
    "overlap_world_map(\"graphs/topic_1/world_graph_map.html\", edge=True)"
   ]
  },
  {
   "cell_type": "markdown",
   "metadata": {},
   "source": [
    "With the slider on the top right part of the map we can select edges that occur more than a certain amount of times. We can see that edges that appear most (above 130 times) are those connecting countries that are associated to the most articles (e.g. USA, UK, France, Germany, Italy, India, Australia, China and Russia).\n",
    "\n",
    "We also see that those same countries are central hubs of the network. They are part of most edges and are also connected to most other countries. This makes sense since the more articles there are, the more out-links there are and ultimately the higher the chance to be referenced by other articles. "
   ]
  },
  {
   "cell_type": "markdown",
   "metadata": {},
   "source": [
    "## 3. What is the distribution of in and out degrees? \n",
    "\n",
    "Lastly, let's look at the in and out degree of each country. \n",
    "\n",
    "> **_NOTE:_**  The in degree of a country is defined as the sum of the in degrees of its articles. Same for out degrees. The higher the in degree of a country, the more central it is meaning that the more it is accessible from other countries. "
   ]
  },
  {
   "cell_type": "code",
   "execution_count": 74,
   "metadata": {},
   "outputs": [
    {
     "data": {
      "application/vnd.plotly.v1+json": {
       "config": {
        "plotlyServerURL": "https://plot.ly"
       },
       "data": [
        {
         "hovertemplate": "<b>Country:</b> %{x}<br><b>In degree:</b> %{y}<br><extra></extra>",
         "marker": {
          "color": "blue"
         },
         "name": "in degree",
         "type": "bar",
         "x": [
          "united states",
          "united kingdom",
          "australia",
          "france",
          "germany",
          "italy",
          "india",
          "china"
         ],
         "y": [
          9562,
          6315,
          2241,
          4487,
          3750,
          3152,
          2425,
          2696
         ]
        },
        {
         "hovertemplate": "<b>Country:</b> %{x}<br><b>In degree:</b> %{y}<br><extra></extra>",
         "marker": {
          "color": "red"
         },
         "name": "out degree",
         "type": "bar",
         "x": [
          "united states",
          "united kingdom",
          "australia",
          "france",
          "germany",
          "italy",
          "india",
          "china"
         ],
         "y": [
          11710,
          6453,
          2534,
          3487,
          3284,
          2530,
          2767,
          2454
         ]
        },
        {
         "hovertemplate": "<b>Country:</b> %{x}<br><b>In degree:</b> %{y}<br><extra></extra>",
         "marker": {
          "color": "blue"
         },
         "name": "in degree",
         "type": "bar",
         "visible": false,
         "x": [
          "laos",
          "niue",
          "cayman islands",
          "guam",
          "niger",
          "nicaragua",
          "nauru",
          "namibia"
         ],
         "y": [
          65,
          17,
          22,
          43,
          65,
          76,
          28,
          73
         ]
        },
        {
         "hovertemplate": "<b>Country:</b> %{x}<br><b>In degree:</b> %{y}<br><extra></extra>",
         "marker": {
          "color": "red"
         },
         "name": "out degree",
         "type": "bar",
         "visible": false,
         "x": [
          "laos",
          "niue",
          "cayman islands",
          "guam",
          "niger",
          "nicaragua",
          "nauru",
          "namibia"
         ],
         "y": [
          31,
          15,
          22,
          26,
          44,
          47,
          35,
          43
         ]
        }
       ],
       "layout": {
        "barmode": "stack",
        "template": {
         "data": {
          "bar": [
           {
            "error_x": {
             "color": "#2a3f5f"
            },
            "error_y": {
             "color": "#2a3f5f"
            },
            "marker": {
             "line": {
              "color": "#E5ECF6",
              "width": 0.5
             },
             "pattern": {
              "fillmode": "overlay",
              "size": 10,
              "solidity": 0.2
             }
            },
            "type": "bar"
           }
          ],
          "barpolar": [
           {
            "marker": {
             "line": {
              "color": "#E5ECF6",
              "width": 0.5
             },
             "pattern": {
              "fillmode": "overlay",
              "size": 10,
              "solidity": 0.2
             }
            },
            "type": "barpolar"
           }
          ],
          "carpet": [
           {
            "aaxis": {
             "endlinecolor": "#2a3f5f",
             "gridcolor": "white",
             "linecolor": "white",
             "minorgridcolor": "white",
             "startlinecolor": "#2a3f5f"
            },
            "baxis": {
             "endlinecolor": "#2a3f5f",
             "gridcolor": "white",
             "linecolor": "white",
             "minorgridcolor": "white",
             "startlinecolor": "#2a3f5f"
            },
            "type": "carpet"
           }
          ],
          "choropleth": [
           {
            "colorbar": {
             "outlinewidth": 0,
             "ticks": ""
            },
            "type": "choropleth"
           }
          ],
          "contour": [
           {
            "colorbar": {
             "outlinewidth": 0,
             "ticks": ""
            },
            "colorscale": [
             [
              0,
              "#0d0887"
             ],
             [
              0.1111111111111111,
              "#46039f"
             ],
             [
              0.2222222222222222,
              "#7201a8"
             ],
             [
              0.3333333333333333,
              "#9c179e"
             ],
             [
              0.4444444444444444,
              "#bd3786"
             ],
             [
              0.5555555555555556,
              "#d8576b"
             ],
             [
              0.6666666666666666,
              "#ed7953"
             ],
             [
              0.7777777777777778,
              "#fb9f3a"
             ],
             [
              0.8888888888888888,
              "#fdca26"
             ],
             [
              1,
              "#f0f921"
             ]
            ],
            "type": "contour"
           }
          ],
          "contourcarpet": [
           {
            "colorbar": {
             "outlinewidth": 0,
             "ticks": ""
            },
            "type": "contourcarpet"
           }
          ],
          "heatmap": [
           {
            "colorbar": {
             "outlinewidth": 0,
             "ticks": ""
            },
            "colorscale": [
             [
              0,
              "#0d0887"
             ],
             [
              0.1111111111111111,
              "#46039f"
             ],
             [
              0.2222222222222222,
              "#7201a8"
             ],
             [
              0.3333333333333333,
              "#9c179e"
             ],
             [
              0.4444444444444444,
              "#bd3786"
             ],
             [
              0.5555555555555556,
              "#d8576b"
             ],
             [
              0.6666666666666666,
              "#ed7953"
             ],
             [
              0.7777777777777778,
              "#fb9f3a"
             ],
             [
              0.8888888888888888,
              "#fdca26"
             ],
             [
              1,
              "#f0f921"
             ]
            ],
            "type": "heatmap"
           }
          ],
          "heatmapgl": [
           {
            "colorbar": {
             "outlinewidth": 0,
             "ticks": ""
            },
            "colorscale": [
             [
              0,
              "#0d0887"
             ],
             [
              0.1111111111111111,
              "#46039f"
             ],
             [
              0.2222222222222222,
              "#7201a8"
             ],
             [
              0.3333333333333333,
              "#9c179e"
             ],
             [
              0.4444444444444444,
              "#bd3786"
             ],
             [
              0.5555555555555556,
              "#d8576b"
             ],
             [
              0.6666666666666666,
              "#ed7953"
             ],
             [
              0.7777777777777778,
              "#fb9f3a"
             ],
             [
              0.8888888888888888,
              "#fdca26"
             ],
             [
              1,
              "#f0f921"
             ]
            ],
            "type": "heatmapgl"
           }
          ],
          "histogram": [
           {
            "marker": {
             "pattern": {
              "fillmode": "overlay",
              "size": 10,
              "solidity": 0.2
             }
            },
            "type": "histogram"
           }
          ],
          "histogram2d": [
           {
            "colorbar": {
             "outlinewidth": 0,
             "ticks": ""
            },
            "colorscale": [
             [
              0,
              "#0d0887"
             ],
             [
              0.1111111111111111,
              "#46039f"
             ],
             [
              0.2222222222222222,
              "#7201a8"
             ],
             [
              0.3333333333333333,
              "#9c179e"
             ],
             [
              0.4444444444444444,
              "#bd3786"
             ],
             [
              0.5555555555555556,
              "#d8576b"
             ],
             [
              0.6666666666666666,
              "#ed7953"
             ],
             [
              0.7777777777777778,
              "#fb9f3a"
             ],
             [
              0.8888888888888888,
              "#fdca26"
             ],
             [
              1,
              "#f0f921"
             ]
            ],
            "type": "histogram2d"
           }
          ],
          "histogram2dcontour": [
           {
            "colorbar": {
             "outlinewidth": 0,
             "ticks": ""
            },
            "colorscale": [
             [
              0,
              "#0d0887"
             ],
             [
              0.1111111111111111,
              "#46039f"
             ],
             [
              0.2222222222222222,
              "#7201a8"
             ],
             [
              0.3333333333333333,
              "#9c179e"
             ],
             [
              0.4444444444444444,
              "#bd3786"
             ],
             [
              0.5555555555555556,
              "#d8576b"
             ],
             [
              0.6666666666666666,
              "#ed7953"
             ],
             [
              0.7777777777777778,
              "#fb9f3a"
             ],
             [
              0.8888888888888888,
              "#fdca26"
             ],
             [
              1,
              "#f0f921"
             ]
            ],
            "type": "histogram2dcontour"
           }
          ],
          "mesh3d": [
           {
            "colorbar": {
             "outlinewidth": 0,
             "ticks": ""
            },
            "type": "mesh3d"
           }
          ],
          "parcoords": [
           {
            "line": {
             "colorbar": {
              "outlinewidth": 0,
              "ticks": ""
             }
            },
            "type": "parcoords"
           }
          ],
          "pie": [
           {
            "automargin": true,
            "type": "pie"
           }
          ],
          "scatter": [
           {
            "fillpattern": {
             "fillmode": "overlay",
             "size": 10,
             "solidity": 0.2
            },
            "type": "scatter"
           }
          ],
          "scatter3d": [
           {
            "line": {
             "colorbar": {
              "outlinewidth": 0,
              "ticks": ""
             }
            },
            "marker": {
             "colorbar": {
              "outlinewidth": 0,
              "ticks": ""
             }
            },
            "type": "scatter3d"
           }
          ],
          "scattercarpet": [
           {
            "marker": {
             "colorbar": {
              "outlinewidth": 0,
              "ticks": ""
             }
            },
            "type": "scattercarpet"
           }
          ],
          "scattergeo": [
           {
            "marker": {
             "colorbar": {
              "outlinewidth": 0,
              "ticks": ""
             }
            },
            "type": "scattergeo"
           }
          ],
          "scattergl": [
           {
            "marker": {
             "colorbar": {
              "outlinewidth": 0,
              "ticks": ""
             }
            },
            "type": "scattergl"
           }
          ],
          "scattermapbox": [
           {
            "marker": {
             "colorbar": {
              "outlinewidth": 0,
              "ticks": ""
             }
            },
            "type": "scattermapbox"
           }
          ],
          "scatterpolar": [
           {
            "marker": {
             "colorbar": {
              "outlinewidth": 0,
              "ticks": ""
             }
            },
            "type": "scatterpolar"
           }
          ],
          "scatterpolargl": [
           {
            "marker": {
             "colorbar": {
              "outlinewidth": 0,
              "ticks": ""
             }
            },
            "type": "scatterpolargl"
           }
          ],
          "scatterternary": [
           {
            "marker": {
             "colorbar": {
              "outlinewidth": 0,
              "ticks": ""
             }
            },
            "type": "scatterternary"
           }
          ],
          "surface": [
           {
            "colorbar": {
             "outlinewidth": 0,
             "ticks": ""
            },
            "colorscale": [
             [
              0,
              "#0d0887"
             ],
             [
              0.1111111111111111,
              "#46039f"
             ],
             [
              0.2222222222222222,
              "#7201a8"
             ],
             [
              0.3333333333333333,
              "#9c179e"
             ],
             [
              0.4444444444444444,
              "#bd3786"
             ],
             [
              0.5555555555555556,
              "#d8576b"
             ],
             [
              0.6666666666666666,
              "#ed7953"
             ],
             [
              0.7777777777777778,
              "#fb9f3a"
             ],
             [
              0.8888888888888888,
              "#fdca26"
             ],
             [
              1,
              "#f0f921"
             ]
            ],
            "type": "surface"
           }
          ],
          "table": [
           {
            "cells": {
             "fill": {
              "color": "#EBF0F8"
             },
             "line": {
              "color": "white"
             }
            },
            "header": {
             "fill": {
              "color": "#C8D4E3"
             },
             "line": {
              "color": "white"
             }
            },
            "type": "table"
           }
          ]
         },
         "layout": {
          "annotationdefaults": {
           "arrowcolor": "#2a3f5f",
           "arrowhead": 0,
           "arrowwidth": 1
          },
          "autotypenumbers": "strict",
          "coloraxis": {
           "colorbar": {
            "outlinewidth": 0,
            "ticks": ""
           }
          },
          "colorscale": {
           "diverging": [
            [
             0,
             "#8e0152"
            ],
            [
             0.1,
             "#c51b7d"
            ],
            [
             0.2,
             "#de77ae"
            ],
            [
             0.3,
             "#f1b6da"
            ],
            [
             0.4,
             "#fde0ef"
            ],
            [
             0.5,
             "#f7f7f7"
            ],
            [
             0.6,
             "#e6f5d0"
            ],
            [
             0.7,
             "#b8e186"
            ],
            [
             0.8,
             "#7fbc41"
            ],
            [
             0.9,
             "#4d9221"
            ],
            [
             1,
             "#276419"
            ]
           ],
           "sequential": [
            [
             0,
             "#0d0887"
            ],
            [
             0.1111111111111111,
             "#46039f"
            ],
            [
             0.2222222222222222,
             "#7201a8"
            ],
            [
             0.3333333333333333,
             "#9c179e"
            ],
            [
             0.4444444444444444,
             "#bd3786"
            ],
            [
             0.5555555555555556,
             "#d8576b"
            ],
            [
             0.6666666666666666,
             "#ed7953"
            ],
            [
             0.7777777777777778,
             "#fb9f3a"
            ],
            [
             0.8888888888888888,
             "#fdca26"
            ],
            [
             1,
             "#f0f921"
            ]
           ],
           "sequentialminus": [
            [
             0,
             "#0d0887"
            ],
            [
             0.1111111111111111,
             "#46039f"
            ],
            [
             0.2222222222222222,
             "#7201a8"
            ],
            [
             0.3333333333333333,
             "#9c179e"
            ],
            [
             0.4444444444444444,
             "#bd3786"
            ],
            [
             0.5555555555555556,
             "#d8576b"
            ],
            [
             0.6666666666666666,
             "#ed7953"
            ],
            [
             0.7777777777777778,
             "#fb9f3a"
            ],
            [
             0.8888888888888888,
             "#fdca26"
            ],
            [
             1,
             "#f0f921"
            ]
           ]
          },
          "colorway": [
           "#636efa",
           "#EF553B",
           "#00cc96",
           "#ab63fa",
           "#FFA15A",
           "#19d3f3",
           "#FF6692",
           "#B6E880",
           "#FF97FF",
           "#FECB52"
          ],
          "font": {
           "color": "#2a3f5f"
          },
          "geo": {
           "bgcolor": "white",
           "lakecolor": "white",
           "landcolor": "#E5ECF6",
           "showlakes": true,
           "showland": true,
           "subunitcolor": "white"
          },
          "hoverlabel": {
           "align": "left"
          },
          "hovermode": "closest",
          "mapbox": {
           "style": "light"
          },
          "paper_bgcolor": "white",
          "plot_bgcolor": "#E5ECF6",
          "polar": {
           "angularaxis": {
            "gridcolor": "white",
            "linecolor": "white",
            "ticks": ""
           },
           "bgcolor": "#E5ECF6",
           "radialaxis": {
            "gridcolor": "white",
            "linecolor": "white",
            "ticks": ""
           }
          },
          "scene": {
           "xaxis": {
            "backgroundcolor": "#E5ECF6",
            "gridcolor": "white",
            "gridwidth": 2,
            "linecolor": "white",
            "showbackground": true,
            "ticks": "",
            "zerolinecolor": "white"
           },
           "yaxis": {
            "backgroundcolor": "#E5ECF6",
            "gridcolor": "white",
            "gridwidth": 2,
            "linecolor": "white",
            "showbackground": true,
            "ticks": "",
            "zerolinecolor": "white"
           },
           "zaxis": {
            "backgroundcolor": "#E5ECF6",
            "gridcolor": "white",
            "gridwidth": 2,
            "linecolor": "white",
            "showbackground": true,
            "ticks": "",
            "zerolinecolor": "white"
           }
          },
          "shapedefaults": {
           "line": {
            "color": "#2a3f5f"
           }
          },
          "ternary": {
           "aaxis": {
            "gridcolor": "white",
            "linecolor": "white",
            "ticks": ""
           },
           "baxis": {
            "gridcolor": "white",
            "linecolor": "white",
            "ticks": ""
           },
           "bgcolor": "#E5ECF6",
           "caxis": {
            "gridcolor": "white",
            "linecolor": "white",
            "ticks": ""
           }
          },
          "title": {
           "x": 0.05
          },
          "xaxis": {
           "automargin": true,
           "gridcolor": "white",
           "linecolor": "white",
           "ticks": "",
           "title": {
            "standoff": 15
           },
           "zerolinecolor": "white",
           "zerolinewidth": 2
          },
          "yaxis": {
           "automargin": true,
           "gridcolor": "white",
           "linecolor": "white",
           "ticks": "",
           "title": {
            "standoff": 15
           },
           "zerolinecolor": "white",
           "zerolinewidth": 2
          }
         }
        },
        "title": {
         "text": "Node degree of countries",
         "x": 0.5,
         "xanchor": "center",
         "yanchor": "top"
        },
        "updatemenus": [
         {
          "buttons": [
           {
            "args": [
             {
              "visible": [
               true,
               true,
               false,
               false
              ]
             }
            ],
            "label": "Most occurring countries",
            "method": "update"
           },
           {
            "args": [
             {
              "visible": [
               false,
               false,
               true,
               true
              ]
             }
            ],
            "label": "Least occurring countries",
            "method": "update"
           }
          ],
          "direction": "left",
          "pad": {
           "r": 10,
           "t": 10
          },
          "showactive": true,
          "type": "buttons",
          "x": 0.11,
          "xanchor": "left",
          "y": 1.1,
          "yanchor": "middle"
         }
        ]
       }
      }
     },
     "metadata": {},
     "output_type": "display_data"
    }
   ],
   "source": [
    "sorted_data_countries = data_countries.sort_values(by='occurrence', ascending=False).iloc[:8:,]\n",
    "\n",
    "# create bar plot for most occuring countries\n",
    "trace_most_in = go.Bar(x=sorted_data_countries[\"Top_1_name\"], \n",
    "                       y=sorted_data_countries[\"num_links_in\"],\n",
    "                        name=\"in degree\",\n",
    "                        marker_color=\"blue\", \n",
    "                        hovertemplate=( \"<b>Country:</b> %{x}<br>\" \n",
    "                                        \"<b>In degree:</b> %{y}<br>\" \n",
    "                                        \"<extra></extra>\")    \n",
    "                        )\n",
    "\n",
    "trace_most_out = go.Bar(x=sorted_data_countries[\"Top_1_name\"], \n",
    "                       y=sorted_data_countries[\"num_links_out\"],\n",
    "                        name=\"out degree\",\n",
    "                        marker_color=\"red\", \n",
    "                        hovertemplate=( \"<b>Country:</b> %{x}<br>\" \n",
    "                                        \"<b>In degree:</b> %{y}<br>\" \n",
    "                                        \"<extra></extra>\")    \n",
    "                        )\n",
    "\n",
    "\n",
    "# create bar plot for least occuring countries\n",
    "sorted_data_countries = data_countries.sort_values(by='occurrence', ascending=True).iloc[:8:,]\n",
    "\n",
    "trace_least_in = go.Bar(x=sorted_data_countries[\"Top_1_name\"], \n",
    "                       y=sorted_data_countries[\"num_links_in\"],\n",
    "                        name=\"in degree\",\n",
    "                        marker_color=\"blue\", \n",
    "                        hovertemplate=( \"<b>Country:</b> %{x}<br>\" \n",
    "                                        \"<b>In degree:</b> %{y}<br>\" \n",
    "                                        \"<extra></extra>\") )\n",
    "\n",
    "trace_least_out = go.Bar(x=sorted_data_countries[\"Top_1_name\"], \n",
    "                       y=sorted_data_countries[\"num_links_out\"],\n",
    "                        name=\"out degree\",\n",
    "                        marker_color=\"red\", \n",
    "                        hovertemplate=( \"<b>Country:</b> %{x}<br>\" \n",
    "                                        \"<b>In degree:</b> %{y}<br>\" \n",
    "                                        \"<extra></extra>\") )\n",
    "\n",
    "# create figures\n",
    "fig = go.Figure()\n",
    "\n",
    "# add traces\n",
    "fig.add_trace(trace_most_in)\n",
    "fig.add_trace(trace_most_out)\n",
    "fig.add_trace(trace_least_in.update(visible=False))\n",
    "fig.add_trace(trace_least_out.update(visible=False))\n",
    "\n",
    "\n",
    "# Create buttons to toggle between the two bar charts\n",
    "fig.update_layout(\n",
    "    barmode='stack',\n",
    "    title={\n",
    "        'text': \"Node degree of countries\",  # The title text\n",
    "        'x': 0.5,  # Center the title horizontally\n",
    "        'xanchor': 'center',  # Anchor it to the center\n",
    "        'yanchor': 'top'  # Anchor it to the top\n",
    "    },\n",
    "    updatemenus=[\n",
    "        dict(\n",
    "            type=\"buttons\",\n",
    "            direction=\"left\",\n",
    "            buttons=[\n",
    "                dict(\n",
    "                    label=\"Most occurring countries\",\n",
    "                    method=\"update\",\n",
    "                    args=[{\"visible\": [True, True, False, False]}],  # Show first chart, hide second\n",
    "                ),\n",
    "                dict(\n",
    "                    label=\"Least occurring countries\",\n",
    "                    method=\"update\",\n",
    "                    args=[{\"visible\": [False, False, True, True]}],  # Hide first chart, show second\n",
    "                ),\n",
    "            ],\n",
    "            pad={\"r\": 10, \"t\": 10},\n",
    "            showactive=True,\n",
    "            x=0.11,\n",
    "            xanchor=\"left\",\n",
    "            y=1.1,\n",
    "            yanchor=\"middle\"\n",
    "        ),\n",
    "    ]\n",
    ")\n",
    "\n",
    "# Show the figure\n",
    "fig.show()\n",
    "\n",
    "# Export the figure to an HTML file\n",
    "pio.write_html(fig, file='graphs/topic_1/bar_plot_distribution_of_degrees.html', auto_open=False)"
   ]
  },
  {
   "cell_type": "markdown",
   "metadata": {},
   "source": [
    "We observe that countries that occur more often in Wikipedia (i.e. many articles are associated with those countries), are immensely more connected, so have much more links that lead in and out of them. Those articles are so called \"central hubs\" of the Wikipedia graph. "
   ]
  }
 ],
 "metadata": {
  "kernelspec": {
   "display_name": "ada",
   "language": "python",
   "name": "python3"
  },
  "language_info": {
   "codemirror_mode": {
    "name": "ipython",
    "version": 3
   },
   "file_extension": ".py",
   "mimetype": "text/x-python",
   "name": "python",
   "nbconvert_exporter": "python",
   "pygments_lexer": "ipython3",
   "version": "3.11.10"
  }
 },
 "nbformat": 4,
 "nbformat_minor": 2
}
