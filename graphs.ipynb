{
 "cells": [
  {
   "cell_type": "markdown",
   "metadata": {},
   "source": [
    "# Imports"
   ]
  },
  {
   "cell_type": "code",
   "execution_count": 1,
   "metadata": {},
   "outputs": [],
   "source": [
    "%load_ext autoreload\n",
    "%autoreload 2"
   ]
  },
  {
   "cell_type": "code",
   "execution_count": 24,
   "metadata": {},
   "outputs": [],
   "source": [
    "import os\n",
    "\n",
    "import matplotlib.pyplot as plt\n",
    "import matplotlib\n",
    "import pandas as pd\n",
    "import numpy as np\n",
    "\n",
    "from ast import literal_eval\n",
    "\n",
    "import plotly.express as px\n",
    "import plotly.io as pio\n",
    "\n",
    "from pyvis.network import Network\n",
    "import plotly.graph_objects as go\n",
    "from geopy.geocoders import Nominatim\n",
    "\n",
    "import folium"
   ]
  },
  {
   "cell_type": "code",
   "execution_count": 3,
   "metadata": {},
   "outputs": [],
   "source": [
    "#!pip install pyvis\n",
    "#!pip install jinja2\n",
    "#!pip install geopy\n",
    "#!pip install folium"
   ]
  },
  {
   "cell_type": "code",
   "execution_count": 26,
   "metadata": {},
   "outputs": [
    {
     "data": {
      "text/plain": [
       "'c:\\\\Users\\\\fricl\\\\OneDrive\\\\Documents\\\\Suisse\\\\EPFL\\\\Cours\\\\MA3\\\\ADA\\\\ada-2024-project-lesfraisestagada'"
      ]
     },
     "execution_count": 26,
     "metadata": {},
     "output_type": "execute_result"
    }
   ],
   "source": [
    "project_path = os.getcwd()\n",
    "project_path"
   ]
  },
  {
   "cell_type": "markdown",
   "metadata": {},
   "source": [
    "## Questions of interest \n",
    "\n",
    "0) What are the most clicked articles?\n",
    "1) What is the distribution of countries in the Wikipedia graph? \n",
    "3) What is the distribution of in and out degrees per country? "
   ]
  },
  {
   "cell_type": "markdown",
   "metadata": {},
   "source": [
    "## 0. What are the most clicked articles? "
   ]
  },
  {
   "cell_type": "markdown",
   "metadata": {},
   "source": [
    "Let's first import the data `country_clicks_links.csv` with which we will be working."
   ]
  },
  {
   "cell_type": "code",
   "execution_count": 4,
   "metadata": {},
   "outputs": [],
   "source": [
    "data = pd.read_csv(\"data/country_clicks_links.csv\", index_col=0)"
   ]
  },
  {
   "cell_type": "markdown",
   "metadata": {},
   "source": [
    "Now we define the variables that we need."
   ]
  },
  {
   "cell_type": "code",
   "execution_count": 5,
   "metadata": {},
   "outputs": [],
   "source": [
    "data_sorted = data.sort_values(by='click_count', ascending=False)\n",
    "data_sorted = data_sorted[data_sorted['click_count'] != 0]\n",
    "articles = data_sorted.index.tolist()\n",
    "click_count = data_sorted.click_count.tolist()\n",
    "in_degree = data_sorted.num_links_in.tolist()\n",
    "out_degree = data_sorted.num_links_out.tolist()"
   ]
  },
  {
   "cell_type": "markdown",
   "metadata": {},
   "source": [
    "Let's construct a graph in which: \n",
    "- each node is an article\n",
    "    - 20 most clicked articles \n",
    "    - 20 least clicked articles "
   ]
  },
  {
   "cell_type": "code",
   "execution_count": 6,
   "metadata": {},
   "outputs": [],
   "source": [
    "most_clicked_articles = articles[:20]\n",
    "most_clicked_counts = click_count[:20]\n",
    "most_in_degree = in_degree[:20]\n",
    "most_out_degree = out_degree[:20]\n",
    "\n",
    "least_clicked_articles = articles[-20:]\n",
    "least_clicked_counts = click_count[-20:]\n",
    "least_in_degree = in_degree[-20:]\n",
    "least_out_degree = out_degree[-20:]"
   ]
  },
  {
   "cell_type": "markdown",
   "metadata": {},
   "source": [
    "- the size and color of a node is proportional to the number of clicks associtated to that node\n",
    "- each edge represents an out link\n",
    "\n",
    "We are also interested in the in and out degree of each article\n",
    "- in degree = num_links_in \n",
    "- out degree = num_links_out"
   ]
  },
  {
   "cell_type": "markdown",
   "metadata": {},
   "source": [
    "Let's first look at the most clicked articles:"
   ]
  },
  {
   "cell_type": "code",
   "execution_count": 7,
   "metadata": {},
   "outputs": [],
   "source": [
    "# define a global color map\n",
    "color_map = plt.get_cmap('Reds')"
   ]
  },
  {
   "cell_type": "code",
   "execution_count": 8,
   "metadata": {},
   "outputs": [],
   "source": [
    "# Define a color gradient to represent the number of clicks for each article\n",
    "norm = matplotlib.colors.Normalize(vmin=min(most_clicked_counts), vmax=max(most_clicked_counts))\n",
    "most_colors_hex = [matplotlib.colors.to_hex(color_map(norm(count))) for count in most_clicked_counts]"
   ]
  },
  {
   "cell_type": "code",
   "execution_count": 18,
   "metadata": {},
   "outputs": [],
   "source": [
    "import webbrowser"
   ]
  },
  {
   "cell_type": "code",
   "execution_count": 28,
   "metadata": {},
   "outputs": [
    {
     "name": "stdout",
     "output_type": "stream",
     "text": [
      "graphs/topic_1/most_used_articles_graph.html\n"
     ]
    },
    {
     "data": {
      "text/plain": [
       "True"
      ]
     },
     "execution_count": 28,
     "metadata": {},
     "output_type": "execute_result"
    }
   ],
   "source": [
    "net = Network(directed=True, \n",
    "              notebook=True, \n",
    "              font_color='#10000000', \n",
    "              cdn_resources='in_line')\n",
    "\n",
    "# Turn off physics so nodes stay fixed\n",
    "net.barnes_hut(gravity=-10000,  # Controls the strength of repulsion between nodes\n",
    "               central_gravity=0.01,  # Weak central gravity so nodes spread out\n",
    "               spring_length=300000,  # Increase distance between connected nodes\n",
    "               spring_strength=0.05)  # Adjust spring tightness\n",
    "net.toggle_physics(False)\n",
    "\n",
    "# write the title of each node\n",
    "titles = [f\"article: {most_clicked_articles[i]} \\n click count: {most_clicked_counts[i]} \\n in degree: {most_in_degree[i]} \\n out degree: {most_out_degree[i]}\" for i in range(len(most_clicked_articles))]\n",
    "\n",
    "# define position of nodes \n",
    "num_nodes = len(most_clicked_articles)\n",
    "\n",
    "# Define a circular layout for the nodes\n",
    "radius = 500  # Adjust the radius of the circle\n",
    "angles = np.linspace(0, 2 * np.pi, num_nodes, endpoint=False)  # Evenly spaced angles\n",
    "x_positions = radius * np.cos(angles)  # x-coordinates\n",
    "y_positions = radius * np.sin(angles)  # y-coordinates\n",
    "\n",
    "net.add_nodes(most_clicked_articles, \n",
    "              title=titles, \n",
    "              color=most_colors_hex, \n",
    "              x=x_positions, \n",
    "              y=y_positions)\n",
    "\n",
    "\n",
    "# Let's add edges between articles that are connected in Wikipedia\n",
    "for i, article1 in enumerate(most_clicked_articles):\n",
    "    name_links_out = data_sorted.name_links_out.iloc[i]\n",
    "\n",
    "    if pd.notna(name_links_out):\n",
    "        for article2 in most_clicked_articles: \n",
    "            if article2 in name_links_out:\n",
    "                net.add_edge(article1, article2)\n",
    "\n",
    "# save to html for visualization on our website\n",
    "net.show(\"graphs/topic_1/most_used_articles_graph.html\")\n",
    "\n",
    "# open the graph in browser\n",
    "webbrowser.open(f\"{project_path}/graphs/topic_1/most_used_articles_graph.html\")"
   ]
  },
  {
   "cell_type": "markdown",
   "metadata": {},
   "source": [
    "An now let's look at the least clicked articles: "
   ]
  },
  {
   "cell_type": "code",
   "execution_count": 30,
   "metadata": {},
   "outputs": [
    {
     "name": "stdout",
     "output_type": "stream",
     "text": [
      "graphs/topic_1/least_used_articles_graph.html\n"
     ]
    },
    {
     "data": {
      "text/plain": [
       "True"
      ]
     },
     "execution_count": 30,
     "metadata": {},
     "output_type": "execute_result"
    }
   ],
   "source": [
    "# Normalize the log_counts to [0, 1]\n",
    "norm = matplotlib.colors.Normalize(vmin=min(least_clicked_counts), vmax=max(least_clicked_counts))\n",
    "least_colors_hex = [matplotlib.colors.to_hex(color_map(norm(count))) for count in least_clicked_counts]\n",
    "\n",
    "net = Network(directed=True, \n",
    "              notebook=True, \n",
    "              font_color='#10000000', \n",
    "              cdn_resources='in_line')\n",
    "\n",
    "# Turn off physics so nodes stay fixed\n",
    "net.barnes_hut(overlap=0)  # Adjust spring tightness\n",
    "net.toggle_physics(False)\n",
    "\n",
    "# write the title of each node\n",
    "titles = [f\"article: {least_clicked_articles[i]} \\n click count: {least_clicked_counts[i]} \\n in degree: {least_in_degree[i]} \\n out degree: {least_out_degree[i]}\" for i in range(len(least_clicked_articles))]\n",
    "\n",
    "# define position of nodes \n",
    "num_nodes = len(least_clicked_articles)\n",
    "\n",
    "# Define a circular layout for the nodes\n",
    "radius = 500  # Adjust the radius of the circle\n",
    "angles = np.linspace(0, 2 * np.pi, num_nodes, endpoint=False)  # Evenly spaced angles\n",
    "x_positions = radius * np.cos(angles)  # x-coordinates\n",
    "y_positions = radius * np.sin(angles)  # y-coordinates\n",
    "\n",
    "net.add_nodes(least_clicked_articles, \n",
    "              title=titles, \n",
    "              color=least_colors_hex,\n",
    "              x=x_positions, \n",
    "              y=y_positions)\n",
    "\n",
    "\n",
    "# Let's add edges between articles that are connected in Wikipedia\n",
    "for i, article1 in enumerate(least_clicked_articles):\n",
    "    name_links_out = data_sorted.name_links_out.iloc[i]\n",
    "\n",
    "    if pd.notna(name_links_out):\n",
    "        for article2 in least_clicked_articles: \n",
    "            if article2 in name_links_out:\n",
    "                net.add_edge(article1, article2)\n",
    "\n",
    "\n",
    "net.show(\"graphs/topic_1/least_used_articles_graph.html\")\n",
    "\n",
    "# open the graph in browser\n",
    "webbrowser.open(f\"{project_path}/graphs/topic_1/least_used_articles_graph.html\")"
   ]
  },
  {
   "cell_type": "markdown",
   "metadata": {},
   "source": [
    "We see that a lot of western countries are present within the most clicked articles and many oriental subjects are in the least clicked countries. This motivates our project in which we will associate each article to it's corresponding country and analyse the distributions of those countries within the Wikipedia graph. In the end, we are ultimately interested in whether players of the Wikispeedia game really tend to click more on articles that are associated with western countries or if this feature is due to the properties of the Wikipedia graph itself. "
   ]
  },
  {
   "cell_type": "markdown",
   "metadata": {},
   "source": [
    "## 1. What is the distribution of countries in the Wikipedia graph?"
   ]
  },
  {
   "cell_type": "markdown",
   "metadata": {},
   "source": [
    "Now that all (most) articles are associated to a country, we can look at the distribution of those countries. Is there a country that is associated to more articles (we have our little idea haha but let's check). "
   ]
  },
  {
   "cell_type": "markdown",
   "metadata": {},
   "source": [
    "In order to find the distribution of countries in the Wikipedia graph, we need the number of articles that are associated to each of the represented countries."
   ]
  },
  {
   "cell_type": "code",
   "execution_count": 31,
   "metadata": {},
   "outputs": [
    {
     "data": {
      "text/html": [
       "<div>\n",
       "<style scoped>\n",
       "    .dataframe tbody tr th:only-of-type {\n",
       "        vertical-align: middle;\n",
       "    }\n",
       "\n",
       "    .dataframe tbody tr th {\n",
       "        vertical-align: top;\n",
       "    }\n",
       "\n",
       "    .dataframe thead th {\n",
       "        text-align: right;\n",
       "    }\n",
       "</style>\n",
       "<table border=\"1\" class=\"dataframe\">\n",
       "  <thead>\n",
       "    <tr style=\"text-align: right;\">\n",
       "      <th></th>\n",
       "      <th>Top_1_name</th>\n",
       "      <th>click_count</th>\n",
       "      <th>num_links_in</th>\n",
       "      <th>name_links_in</th>\n",
       "      <th>num_links_out</th>\n",
       "      <th>name_links_out</th>\n",
       "      <th>occurrence</th>\n",
       "      <th>percent</th>\n",
       "    </tr>\n",
       "  </thead>\n",
       "  <tbody>\n",
       "    <tr>\n",
       "      <th>0</th>\n",
       "      <td>afghanistan</td>\n",
       "      <td>629</td>\n",
       "      <td>313.0</td>\n",
       "      <td>['15th_Marine_Expeditionary_Unit', '18th_centu...</td>\n",
       "      <td>732.0</td>\n",
       "      <td>[18th_century, Afghan_Hound, Alexander_the_Gre...</td>\n",
       "      <td>10</td>\n",
       "      <td>0.003858</td>\n",
       "    </tr>\n",
       "    <tr>\n",
       "      <th>1</th>\n",
       "      <td>albania</td>\n",
       "      <td>21</td>\n",
       "      <td>85.0</td>\n",
       "      <td>['AK-47', 'Armenia', 'Atheism', 'Athens', 'Aze...</td>\n",
       "      <td>153.0</td>\n",
       "      <td>[Afghanistan, Agriculture, Algeria, Ancient_Ro...</td>\n",
       "      <td>2</td>\n",
       "      <td>0.000772</td>\n",
       "    </tr>\n",
       "    <tr>\n",
       "      <th>2</th>\n",
       "      <td>algeria</td>\n",
       "      <td>700</td>\n",
       "      <td>263.0</td>\n",
       "      <td>['10th_century', '1973_oil_crisis', 'Africa', ...</td>\n",
       "      <td>201.0</td>\n",
       "      <td>[Africa, Agriculture, Algerian_Civil_War, Algi...</td>\n",
       "      <td>6</td>\n",
       "      <td>0.002315</td>\n",
       "    </tr>\n",
       "    <tr>\n",
       "      <th>3</th>\n",
       "      <td>andorra</td>\n",
       "      <td>6</td>\n",
       "      <td>41.0</td>\n",
       "      <td>['Albania', 'Armenia', 'Azerbaijan', 'Biodiver...</td>\n",
       "      <td>54.0</td>\n",
       "      <td>[Agriculture, Algeria, Argentina, Brazil, Cana...</td>\n",
       "      <td>1</td>\n",
       "      <td>0.000386</td>\n",
       "    </tr>\n",
       "    <tr>\n",
       "      <th>4</th>\n",
       "      <td>angola</td>\n",
       "      <td>28</td>\n",
       "      <td>80.0</td>\n",
       "      <td>['13th_century', '2005_Lake_Tanganyika_earthqu...</td>\n",
       "      <td>21.0</td>\n",
       "      <td>[Africa, Atlantic_Ocean, Bantu, Cold_War, Cuba...</td>\n",
       "      <td>1</td>\n",
       "      <td>0.000386</td>\n",
       "    </tr>\n",
       "    <tr>\n",
       "      <th>...</th>\n",
       "      <td>...</td>\n",
       "      <td>...</td>\n",
       "      <td>...</td>\n",
       "      <td>...</td>\n",
       "      <td>...</td>\n",
       "      <td>...</td>\n",
       "      <td>...</td>\n",
       "      <td>...</td>\n",
       "    </tr>\n",
       "    <tr>\n",
       "      <th>190</th>\n",
       "      <td>venezuela</td>\n",
       "      <td>447</td>\n",
       "      <td>180.0</td>\n",
       "      <td>['El_Hatillo_Municipality%2C_Miranda', 'Global...</td>\n",
       "      <td>150.0</td>\n",
       "      <td>[Baroque, Baseball, Capital, Caribbean_Sea, Ch...</td>\n",
       "      <td>5</td>\n",
       "      <td>0.001929</td>\n",
       "    </tr>\n",
       "    <tr>\n",
       "      <th>191</th>\n",
       "      <td>vietnam</td>\n",
       "      <td>287</td>\n",
       "      <td>281.0</td>\n",
       "      <td>['Asia', 'Beijing', 'Global_city', 'Ho_Chi_Min...</td>\n",
       "      <td>171.0</td>\n",
       "      <td>[Agriculture, Australia, Capital, Confucianism...</td>\n",
       "      <td>6</td>\n",
       "      <td>0.002315</td>\n",
       "    </tr>\n",
       "    <tr>\n",
       "      <th>192</th>\n",
       "      <td>yemen</td>\n",
       "      <td>19</td>\n",
       "      <td>68.0</td>\n",
       "      <td>['Albania', 'Arab_League', 'Arabic_language', ...</td>\n",
       "      <td>140.0</td>\n",
       "      <td>[11th_century, 16th_century, 19th_century, 7th...</td>\n",
       "      <td>1</td>\n",
       "      <td>0.000386</td>\n",
       "    </tr>\n",
       "    <tr>\n",
       "      <th>193</th>\n",
       "      <td>zambia</td>\n",
       "      <td>121</td>\n",
       "      <td>122.0</td>\n",
       "      <td>['Zambezi']['Africa', 'Henry_Morton_Stanley', ...</td>\n",
       "      <td>206.0</td>\n",
       "      <td>[AIDS, Copper, Mining, Zambezi, Zambia, Africa...</td>\n",
       "      <td>6</td>\n",
       "      <td>0.002315</td>\n",
       "    </tr>\n",
       "    <tr>\n",
       "      <th>194</th>\n",
       "      <td>zimbabwe</td>\n",
       "      <td>99</td>\n",
       "      <td>92.0</td>\n",
       "      <td>['Africa', 'Global_city', 'Munich', 'Nottingha...</td>\n",
       "      <td>80.0</td>\n",
       "      <td>[Capital, Citrus, City, Cotton, Fruit, Germany...</td>\n",
       "      <td>2</td>\n",
       "      <td>0.000772</td>\n",
       "    </tr>\n",
       "  </tbody>\n",
       "</table>\n",
       "<p>195 rows × 8 columns</p>\n",
       "</div>"
      ],
      "text/plain": [
       "      Top_1_name  click_count  num_links_in  \\\n",
       "0    afghanistan          629         313.0   \n",
       "1        albania           21          85.0   \n",
       "2        algeria          700         263.0   \n",
       "3        andorra            6          41.0   \n",
       "4         angola           28          80.0   \n",
       "..           ...          ...           ...   \n",
       "190    venezuela          447         180.0   \n",
       "191      vietnam          287         281.0   \n",
       "192        yemen           19          68.0   \n",
       "193       zambia          121         122.0   \n",
       "194     zimbabwe           99          92.0   \n",
       "\n",
       "                                         name_links_in  num_links_out  \\\n",
       "0    ['15th_Marine_Expeditionary_Unit', '18th_centu...          732.0   \n",
       "1    ['AK-47', 'Armenia', 'Atheism', 'Athens', 'Aze...          153.0   \n",
       "2    ['10th_century', '1973_oil_crisis', 'Africa', ...          201.0   \n",
       "3    ['Albania', 'Armenia', 'Azerbaijan', 'Biodiver...           54.0   \n",
       "4    ['13th_century', '2005_Lake_Tanganyika_earthqu...           21.0   \n",
       "..                                                 ...            ...   \n",
       "190  ['El_Hatillo_Municipality%2C_Miranda', 'Global...          150.0   \n",
       "191  ['Asia', 'Beijing', 'Global_city', 'Ho_Chi_Min...          171.0   \n",
       "192  ['Albania', 'Arab_League', 'Arabic_language', ...          140.0   \n",
       "193  ['Zambezi']['Africa', 'Henry_Morton_Stanley', ...          206.0   \n",
       "194  ['Africa', 'Global_city', 'Munich', 'Nottingha...           80.0   \n",
       "\n",
       "                                        name_links_out  occurrence   percent  \n",
       "0    [18th_century, Afghan_Hound, Alexander_the_Gre...          10  0.003858  \n",
       "1    [Afghanistan, Agriculture, Algeria, Ancient_Ro...           2  0.000772  \n",
       "2    [Africa, Agriculture, Algerian_Civil_War, Algi...           6  0.002315  \n",
       "3    [Agriculture, Algeria, Argentina, Brazil, Cana...           1  0.000386  \n",
       "4    [Africa, Atlantic_Ocean, Bantu, Cold_War, Cuba...           1  0.000386  \n",
       "..                                                 ...         ...       ...  \n",
       "190  [Baroque, Baseball, Capital, Caribbean_Sea, Ch...           5  0.001929  \n",
       "191  [Agriculture, Australia, Capital, Confucianism...           6  0.002315  \n",
       "192  [11th_century, 16th_century, 19th_century, 7th...           1  0.000386  \n",
       "193  [AIDS, Copper, Mining, Zambezi, Zambia, Africa...           6  0.002315  \n",
       "194  [Capital, Citrus, City, Cotton, Fruit, Germany...           2  0.000772  \n",
       "\n",
       "[195 rows x 8 columns]"
      ]
     },
     "execution_count": 31,
     "metadata": {},
     "output_type": "execute_result"
    }
   ],
   "source": [
    "countries_occurrences = data.groupby(\"Top_1_name\").size().reset_index()\n",
    "data_countries = data.groupby(\"Top_1_name\").sum().reset_index()\n",
    "data_countries[\"occurrence\"] = countries_occurrences.iloc[:,1].tolist()\n",
    "\n",
    "# percent of articles that belong to each country\n",
    "data_countries[\"percent\"] = data_countries[\"occurrence\"] / sum(data_countries[\"occurrence\"])\n",
    "data_countries"
   ]
  },
  {
   "cell_type": "code",
   "execution_count": 14,
   "metadata": {},
   "outputs": [
    {
     "data": {
      "application/vnd.plotly.v1+json": {
       "config": {
        "plotlyServerURL": "https://plot.ly"
       },
       "data": [
        {
         "domain": {
          "x": [
           0,
           1
          ],
          "y": [
           0,
           1
          ]
         },
         "hovertemplate": "Top_1_name=%{label}<br>percent=%{value}<extra></extra>",
         "labels": [
          "afghanistan",
          "albania",
          "algeria",
          "andorra",
          "angola",
          "anguilla",
          "antarctica",
          "argentina",
          "armenia",
          "aruba",
          "australia",
          "austria",
          "azerbaijan",
          "bahamas",
          "bahrain",
          "bangladesh",
          "barbados",
          "belarus",
          "belgium",
          "belize",
          "benin",
          "bermuda",
          "bhutan",
          "bolivia",
          "botswana",
          "brazil",
          "british virgin islands",
          "brunei",
          "bulgaria",
          "burkina faso",
          "burundi",
          "cambodia",
          "cameroon",
          "canada",
          "cape verde",
          "cayman islands",
          "central african republic",
          "chad",
          "chile",
          "china",
          "colombia",
          "comoros",
          "cook islands",
          "costa rica",
          "croatia",
          "cuba",
          "cyprus",
          "denmark",
          "djibouti",
          "dominica",
          "ecuador",
          "egypt",
          "el salvador",
          "eritrea",
          "estonia",
          "ethiopia",
          "falkland islands",
          "fiji",
          "finland",
          "france",
          "french polynesia",
          "gabon",
          "gambia",
          "georgia",
          "germany",
          "ghana",
          "gibraltar",
          "greece",
          "greenland",
          "grenada",
          "guadeloupe",
          "guam",
          "guatemala",
          "guernsey",
          "guinea",
          "guyana",
          "haiti",
          "honduras",
          "hungary",
          "iceland",
          "india",
          "indonesia",
          "iran",
          "iraq",
          "ireland",
          "isle of man",
          "israel",
          "italy",
          "jamaica",
          "japan",
          "jersey",
          "jordan",
          "kazakhstan",
          "kenya",
          "kiribati",
          "kuwait",
          "kyrgyzstan",
          "laos",
          "latvia",
          "lebanon",
          "lesotho",
          "liberia",
          "libya",
          "liechtenstein",
          "lithuania",
          "luxembourg",
          "madagascar",
          "malawi",
          "malaysia",
          "maldives",
          "mali",
          "malta",
          "marshall islands",
          "martinique",
          "mauritania",
          "mauritius",
          "mexico",
          "micronesia",
          "moldova",
          "monaco",
          "mongolia",
          "montenegro",
          "montserrat",
          "morocco",
          "mozambique",
          "namibia",
          "nauru",
          "nepal",
          "netherlands",
          "new zealand",
          "nicaragua",
          "niger",
          "niue",
          "north korea",
          "northern mariana islands",
          "norway",
          "oman",
          "pakistan",
          "palau",
          "panama",
          "paraguay",
          "peru",
          "philippines",
          "pitcairn islands",
          "poland",
          "portugal",
          "puerto rico",
          "qatar",
          "russia",
          "rwanda",
          "samoa",
          "san marino",
          "saudi arabia",
          "senegal",
          "serbia",
          "seychelles",
          "sierra leone",
          "singapore",
          "slovakia",
          "slovenia",
          "solomon islands",
          "south africa",
          "south korea",
          "spain",
          "sri lanka",
          "sudan",
          "suriname",
          "sweden",
          "switzerland",
          "syria",
          "taiwan",
          "tajikistan",
          "tanzania",
          "thailand",
          "timor-leste",
          "togo",
          "tonga",
          "tunisia",
          "turkey",
          "turkmenistan",
          "tuvalu",
          "uganda",
          "ukraine",
          "united arab emirates",
          "united kingdom",
          "united states",
          "uruguay",
          "uzbekistan",
          "vanuatu",
          "vatican city",
          "venezuela",
          "vietnam",
          "yemen",
          "zambia",
          "zimbabwe"
         ],
         "legendgroup": "",
         "name": "",
         "showlegend": true,
         "textposition": "inside",
         "type": "pie",
         "values": [
          0.0038580246913580245,
          0.0007716049382716049,
          0.0023148148148148147,
          0.00038580246913580245,
          0.00038580246913580245,
          0.00038580246913580245,
          0.002700617283950617,
          0.005787037037037037,
          0.0011574074074074073,
          0.00038580246913580245,
          0.04205246913580247,
          0.006558641975308642,
          0.0007716049382716049,
          0.0019290123456790122,
          0.00038580246913580245,
          0.0007716049382716049,
          0.0007716049382716049,
          0.0007716049382716049,
          0.006172839506172839,
          0.00038580246913580245,
          0.0011574074074074073,
          0.0007716049382716049,
          0.00038580246913580245,
          0.0015432098765432098,
          0.0011574074074074073,
          0.006944444444444444,
          0.00038580246913580245,
          0.00038580246913580245,
          0.00038580246913580245,
          0.0015432098765432098,
          0.00038580246913580245,
          0.0011574074074074073,
          0.0011574074074074073,
          0.02662037037037037,
          0.0007716049382716049,
          0.00038580246913580245,
          0.00038580246913580245,
          0.0011574074074074073,
          0.003472222222222222,
          0.03279320987654321,
          0.0015432098765432098,
          0.00038580246913580245,
          0.00038580246913580245,
          0.00038580246913580245,
          0.00038580246913580245,
          0.0011574074074074073,
          0.0007716049382716049,
          0.008101851851851851,
          0.00038580246913580245,
          0.0007716049382716049,
          0.0015432098765432098,
          0.011188271604938271,
          0.00038580246913580245,
          0.00038580246913580245,
          0.0011574074074074073,
          0.005401234567901234,
          0.0007716049382716049,
          0.00038580246913580245,
          0.002700617283950617,
          0.04128086419753087,
          0.00038580246913580245,
          0.0007716049382716049,
          0.0007716049382716049,
          0.0023148148148148147,
          0.04089506172839506,
          0.0015432098765432098,
          0.0007716049382716049,
          0.021604938271604937,
          0.0007716049382716049,
          0.0011574074074074073,
          0.00038580246913580245,
          0.00038580246913580245,
          0.0007716049382716049,
          0.0007716049382716049,
          0.00038580246913580245,
          0.0007716049382716049,
          0.00038580246913580245,
          0.0011574074074074073,
          0.003472222222222222,
          0.003472222222222222,
          0.03510802469135803,
          0.006558641975308642,
          0.006944444444444444,
          0.005401234567901234,
          0.015817901234567902,
          0.0007716049382716049,
          0.007716049382716049,
          0.03973765432098766,
          0.0015432098765432098,
          0.022376543209876542,
          0.0011574074074074073,
          0.0015432098765432098,
          0.0015432098765432098,
          0.002700617283950617,
          0.0007716049382716049,
          0.0007716049382716049,
          0.0007716049382716049,
          0.00038580246913580245,
          0.00038580246913580245,
          0.0011574074074074073,
          0.0011574074074074073,
          0.0011574074074074073,
          0.0007716049382716049,
          0.00038580246913580245,
          0.00038580246913580245,
          0.0015432098765432098,
          0.0023148148148148147,
          0.0015432098765432098,
          0.0038580246913580245,
          0.00038580246913580245,
          0.0011574074074074073,
          0.00038580246913580245,
          0.00038580246913580245,
          0.0007716049382716049,
          0.0007716049382716049,
          0.0015432098765432098,
          0.010416666666666666,
          0.00038580246913580245,
          0.0007716049382716049,
          0.0011574074074074073,
          0.003472222222222222,
          0.00038580246913580245,
          0.00038580246913580245,
          0.004629629629629629,
          0.0011574074074074073,
          0.00038580246913580245,
          0.00038580246913580245,
          0.002700617283950617,
          0.011188271604938271,
          0.008101851851851851,
          0.00038580246913580245,
          0.00038580246913580245,
          0.00038580246913580245,
          0.0011574074074074073,
          0.00038580246913580245,
          0.0073302469135802465,
          0.0011574074074074073,
          0.005787037037037037,
          0.00038580246913580245,
          0.0011574074074074073,
          0.0007716049382716049,
          0.004243827160493827,
          0.004629629629629629,
          0.00038580246913580245,
          0.010030864197530864,
          0.0038580246913580245,
          0.0023148148148148147,
          0.0011574074074074073,
          0.026234567901234566,
          0.0023148148148148147,
          0.00038580246913580245,
          0.00038580246913580245,
          0.002700617283950617,
          0.0007716049382716049,
          0.0023148148148148147,
          0.0007716049382716049,
          0.0007716049382716049,
          0.0015432098765432098,
          0.0011574074074074073,
          0.00038580246913580245,
          0.0019290123456790122,
          0.014660493827160493,
          0.0011574074074074073,
          0.011188271604938271,
          0.0015432098765432098,
          0.0023148148148148147,
          0.0007716049382716049,
          0.005015432098765432,
          0.007716049382716049,
          0.0019290123456790122,
          0.0011574074074074073,
          0.00038580246913580245,
          0.0015432098765432098,
          0.0015432098765432098,
          0.00038580246913580245,
          0.0007716049382716049,
          0.00038580246913580245,
          0.0007716049382716049,
          0.005787037037037037,
          0.00038580246913580245,
          0.00038580246913580245,
          0.0030864197530864196,
          0.002700617283950617,
          0.0015432098765432098,
          0.0783179012345679,
          0.21412037037037038,
          0.0007716049382716049,
          0.0023148148148148147,
          0.00038580246913580245,
          0.00038580246913580245,
          0.0019290123456790122,
          0.0023148148148148147,
          0.00038580246913580245,
          0.0023148148148148147,
          0.0007716049382716049
         ]
        }
       ],
       "layout": {
        "legend": {
         "tracegroupgap": 0
        },
        "template": {
         "data": {
          "bar": [
           {
            "error_x": {
             "color": "#2a3f5f"
            },
            "error_y": {
             "color": "#2a3f5f"
            },
            "marker": {
             "line": {
              "color": "#E5ECF6",
              "width": 0.5
             },
             "pattern": {
              "fillmode": "overlay",
              "size": 10,
              "solidity": 0.2
             }
            },
            "type": "bar"
           }
          ],
          "barpolar": [
           {
            "marker": {
             "line": {
              "color": "#E5ECF6",
              "width": 0.5
             },
             "pattern": {
              "fillmode": "overlay",
              "size": 10,
              "solidity": 0.2
             }
            },
            "type": "barpolar"
           }
          ],
          "carpet": [
           {
            "aaxis": {
             "endlinecolor": "#2a3f5f",
             "gridcolor": "white",
             "linecolor": "white",
             "minorgridcolor": "white",
             "startlinecolor": "#2a3f5f"
            },
            "baxis": {
             "endlinecolor": "#2a3f5f",
             "gridcolor": "white",
             "linecolor": "white",
             "minorgridcolor": "white",
             "startlinecolor": "#2a3f5f"
            },
            "type": "carpet"
           }
          ],
          "choropleth": [
           {
            "colorbar": {
             "outlinewidth": 0,
             "ticks": ""
            },
            "type": "choropleth"
           }
          ],
          "contour": [
           {
            "colorbar": {
             "outlinewidth": 0,
             "ticks": ""
            },
            "colorscale": [
             [
              0,
              "#0d0887"
             ],
             [
              0.1111111111111111,
              "#46039f"
             ],
             [
              0.2222222222222222,
              "#7201a8"
             ],
             [
              0.3333333333333333,
              "#9c179e"
             ],
             [
              0.4444444444444444,
              "#bd3786"
             ],
             [
              0.5555555555555556,
              "#d8576b"
             ],
             [
              0.6666666666666666,
              "#ed7953"
             ],
             [
              0.7777777777777778,
              "#fb9f3a"
             ],
             [
              0.8888888888888888,
              "#fdca26"
             ],
             [
              1,
              "#f0f921"
             ]
            ],
            "type": "contour"
           }
          ],
          "contourcarpet": [
           {
            "colorbar": {
             "outlinewidth": 0,
             "ticks": ""
            },
            "type": "contourcarpet"
           }
          ],
          "heatmap": [
           {
            "colorbar": {
             "outlinewidth": 0,
             "ticks": ""
            },
            "colorscale": [
             [
              0,
              "#0d0887"
             ],
             [
              0.1111111111111111,
              "#46039f"
             ],
             [
              0.2222222222222222,
              "#7201a8"
             ],
             [
              0.3333333333333333,
              "#9c179e"
             ],
             [
              0.4444444444444444,
              "#bd3786"
             ],
             [
              0.5555555555555556,
              "#d8576b"
             ],
             [
              0.6666666666666666,
              "#ed7953"
             ],
             [
              0.7777777777777778,
              "#fb9f3a"
             ],
             [
              0.8888888888888888,
              "#fdca26"
             ],
             [
              1,
              "#f0f921"
             ]
            ],
            "type": "heatmap"
           }
          ],
          "heatmapgl": [
           {
            "colorbar": {
             "outlinewidth": 0,
             "ticks": ""
            },
            "colorscale": [
             [
              0,
              "#0d0887"
             ],
             [
              0.1111111111111111,
              "#46039f"
             ],
             [
              0.2222222222222222,
              "#7201a8"
             ],
             [
              0.3333333333333333,
              "#9c179e"
             ],
             [
              0.4444444444444444,
              "#bd3786"
             ],
             [
              0.5555555555555556,
              "#d8576b"
             ],
             [
              0.6666666666666666,
              "#ed7953"
             ],
             [
              0.7777777777777778,
              "#fb9f3a"
             ],
             [
              0.8888888888888888,
              "#fdca26"
             ],
             [
              1,
              "#f0f921"
             ]
            ],
            "type": "heatmapgl"
           }
          ],
          "histogram": [
           {
            "marker": {
             "pattern": {
              "fillmode": "overlay",
              "size": 10,
              "solidity": 0.2
             }
            },
            "type": "histogram"
           }
          ],
          "histogram2d": [
           {
            "colorbar": {
             "outlinewidth": 0,
             "ticks": ""
            },
            "colorscale": [
             [
              0,
              "#0d0887"
             ],
             [
              0.1111111111111111,
              "#46039f"
             ],
             [
              0.2222222222222222,
              "#7201a8"
             ],
             [
              0.3333333333333333,
              "#9c179e"
             ],
             [
              0.4444444444444444,
              "#bd3786"
             ],
             [
              0.5555555555555556,
              "#d8576b"
             ],
             [
              0.6666666666666666,
              "#ed7953"
             ],
             [
              0.7777777777777778,
              "#fb9f3a"
             ],
             [
              0.8888888888888888,
              "#fdca26"
             ],
             [
              1,
              "#f0f921"
             ]
            ],
            "type": "histogram2d"
           }
          ],
          "histogram2dcontour": [
           {
            "colorbar": {
             "outlinewidth": 0,
             "ticks": ""
            },
            "colorscale": [
             [
              0,
              "#0d0887"
             ],
             [
              0.1111111111111111,
              "#46039f"
             ],
             [
              0.2222222222222222,
              "#7201a8"
             ],
             [
              0.3333333333333333,
              "#9c179e"
             ],
             [
              0.4444444444444444,
              "#bd3786"
             ],
             [
              0.5555555555555556,
              "#d8576b"
             ],
             [
              0.6666666666666666,
              "#ed7953"
             ],
             [
              0.7777777777777778,
              "#fb9f3a"
             ],
             [
              0.8888888888888888,
              "#fdca26"
             ],
             [
              1,
              "#f0f921"
             ]
            ],
            "type": "histogram2dcontour"
           }
          ],
          "mesh3d": [
           {
            "colorbar": {
             "outlinewidth": 0,
             "ticks": ""
            },
            "type": "mesh3d"
           }
          ],
          "parcoords": [
           {
            "line": {
             "colorbar": {
              "outlinewidth": 0,
              "ticks": ""
             }
            },
            "type": "parcoords"
           }
          ],
          "pie": [
           {
            "automargin": true,
            "type": "pie"
           }
          ],
          "scatter": [
           {
            "fillpattern": {
             "fillmode": "overlay",
             "size": 10,
             "solidity": 0.2
            },
            "type": "scatter"
           }
          ],
          "scatter3d": [
           {
            "line": {
             "colorbar": {
              "outlinewidth": 0,
              "ticks": ""
             }
            },
            "marker": {
             "colorbar": {
              "outlinewidth": 0,
              "ticks": ""
             }
            },
            "type": "scatter3d"
           }
          ],
          "scattercarpet": [
           {
            "marker": {
             "colorbar": {
              "outlinewidth": 0,
              "ticks": ""
             }
            },
            "type": "scattercarpet"
           }
          ],
          "scattergeo": [
           {
            "marker": {
             "colorbar": {
              "outlinewidth": 0,
              "ticks": ""
             }
            },
            "type": "scattergeo"
           }
          ],
          "scattergl": [
           {
            "marker": {
             "colorbar": {
              "outlinewidth": 0,
              "ticks": ""
             }
            },
            "type": "scattergl"
           }
          ],
          "scattermapbox": [
           {
            "marker": {
             "colorbar": {
              "outlinewidth": 0,
              "ticks": ""
             }
            },
            "type": "scattermapbox"
           }
          ],
          "scatterpolar": [
           {
            "marker": {
             "colorbar": {
              "outlinewidth": 0,
              "ticks": ""
             }
            },
            "type": "scatterpolar"
           }
          ],
          "scatterpolargl": [
           {
            "marker": {
             "colorbar": {
              "outlinewidth": 0,
              "ticks": ""
             }
            },
            "type": "scatterpolargl"
           }
          ],
          "scatterternary": [
           {
            "marker": {
             "colorbar": {
              "outlinewidth": 0,
              "ticks": ""
             }
            },
            "type": "scatterternary"
           }
          ],
          "surface": [
           {
            "colorbar": {
             "outlinewidth": 0,
             "ticks": ""
            },
            "colorscale": [
             [
              0,
              "#0d0887"
             ],
             [
              0.1111111111111111,
              "#46039f"
             ],
             [
              0.2222222222222222,
              "#7201a8"
             ],
             [
              0.3333333333333333,
              "#9c179e"
             ],
             [
              0.4444444444444444,
              "#bd3786"
             ],
             [
              0.5555555555555556,
              "#d8576b"
             ],
             [
              0.6666666666666666,
              "#ed7953"
             ],
             [
              0.7777777777777778,
              "#fb9f3a"
             ],
             [
              0.8888888888888888,
              "#fdca26"
             ],
             [
              1,
              "#f0f921"
             ]
            ],
            "type": "surface"
           }
          ],
          "table": [
           {
            "cells": {
             "fill": {
              "color": "#EBF0F8"
             },
             "line": {
              "color": "white"
             }
            },
            "header": {
             "fill": {
              "color": "#C8D4E3"
             },
             "line": {
              "color": "white"
             }
            },
            "type": "table"
           }
          ]
         },
         "layout": {
          "annotationdefaults": {
           "arrowcolor": "#2a3f5f",
           "arrowhead": 0,
           "arrowwidth": 1
          },
          "autotypenumbers": "strict",
          "coloraxis": {
           "colorbar": {
            "outlinewidth": 0,
            "ticks": ""
           }
          },
          "colorscale": {
           "diverging": [
            [
             0,
             "#8e0152"
            ],
            [
             0.1,
             "#c51b7d"
            ],
            [
             0.2,
             "#de77ae"
            ],
            [
             0.3,
             "#f1b6da"
            ],
            [
             0.4,
             "#fde0ef"
            ],
            [
             0.5,
             "#f7f7f7"
            ],
            [
             0.6,
             "#e6f5d0"
            ],
            [
             0.7,
             "#b8e186"
            ],
            [
             0.8,
             "#7fbc41"
            ],
            [
             0.9,
             "#4d9221"
            ],
            [
             1,
             "#276419"
            ]
           ],
           "sequential": [
            [
             0,
             "#0d0887"
            ],
            [
             0.1111111111111111,
             "#46039f"
            ],
            [
             0.2222222222222222,
             "#7201a8"
            ],
            [
             0.3333333333333333,
             "#9c179e"
            ],
            [
             0.4444444444444444,
             "#bd3786"
            ],
            [
             0.5555555555555556,
             "#d8576b"
            ],
            [
             0.6666666666666666,
             "#ed7953"
            ],
            [
             0.7777777777777778,
             "#fb9f3a"
            ],
            [
             0.8888888888888888,
             "#fdca26"
            ],
            [
             1,
             "#f0f921"
            ]
           ],
           "sequentialminus": [
            [
             0,
             "#0d0887"
            ],
            [
             0.1111111111111111,
             "#46039f"
            ],
            [
             0.2222222222222222,
             "#7201a8"
            ],
            [
             0.3333333333333333,
             "#9c179e"
            ],
            [
             0.4444444444444444,
             "#bd3786"
            ],
            [
             0.5555555555555556,
             "#d8576b"
            ],
            [
             0.6666666666666666,
             "#ed7953"
            ],
            [
             0.7777777777777778,
             "#fb9f3a"
            ],
            [
             0.8888888888888888,
             "#fdca26"
            ],
            [
             1,
             "#f0f921"
            ]
           ]
          },
          "colorway": [
           "#636efa",
           "#EF553B",
           "#00cc96",
           "#ab63fa",
           "#FFA15A",
           "#19d3f3",
           "#FF6692",
           "#B6E880",
           "#FF97FF",
           "#FECB52"
          ],
          "font": {
           "color": "#2a3f5f"
          },
          "geo": {
           "bgcolor": "white",
           "lakecolor": "white",
           "landcolor": "#E5ECF6",
           "showlakes": true,
           "showland": true,
           "subunitcolor": "white"
          },
          "hoverlabel": {
           "align": "left"
          },
          "hovermode": "closest",
          "mapbox": {
           "style": "light"
          },
          "paper_bgcolor": "white",
          "plot_bgcolor": "#E5ECF6",
          "polar": {
           "angularaxis": {
            "gridcolor": "white",
            "linecolor": "white",
            "ticks": ""
           },
           "bgcolor": "#E5ECF6",
           "radialaxis": {
            "gridcolor": "white",
            "linecolor": "white",
            "ticks": ""
           }
          },
          "scene": {
           "xaxis": {
            "backgroundcolor": "#E5ECF6",
            "gridcolor": "white",
            "gridwidth": 2,
            "linecolor": "white",
            "showbackground": true,
            "ticks": "",
            "zerolinecolor": "white"
           },
           "yaxis": {
            "backgroundcolor": "#E5ECF6",
            "gridcolor": "white",
            "gridwidth": 2,
            "linecolor": "white",
            "showbackground": true,
            "ticks": "",
            "zerolinecolor": "white"
           },
           "zaxis": {
            "backgroundcolor": "#E5ECF6",
            "gridcolor": "white",
            "gridwidth": 2,
            "linecolor": "white",
            "showbackground": true,
            "ticks": "",
            "zerolinecolor": "white"
           }
          },
          "shapedefaults": {
           "line": {
            "color": "#2a3f5f"
           }
          },
          "ternary": {
           "aaxis": {
            "gridcolor": "white",
            "linecolor": "white",
            "ticks": ""
           },
           "baxis": {
            "gridcolor": "white",
            "linecolor": "white",
            "ticks": ""
           },
           "bgcolor": "#E5ECF6",
           "caxis": {
            "gridcolor": "white",
            "linecolor": "white",
            "ticks": ""
           }
          },
          "title": {
           "x": 0.05
          },
          "xaxis": {
           "automargin": true,
           "gridcolor": "white",
           "linecolor": "white",
           "ticks": "",
           "title": {
            "standoff": 15
           },
           "zerolinecolor": "white",
           "zerolinewidth": 2
          },
          "yaxis": {
           "automargin": true,
           "gridcolor": "white",
           "linecolor": "white",
           "ticks": "",
           "title": {
            "standoff": 15
           },
           "zerolinecolor": "white",
           "zerolinewidth": 2
          }
         }
        },
        "title": {
         "text": "Distribution of countries in Wikipedia"
        },
        "uniformtext": {
         "minsize": 12,
         "mode": "hide"
        }
       }
      }
     },
     "metadata": {},
     "output_type": "display_data"
    }
   ],
   "source": [
    "fig = px.pie(data_countries, values='percent', names='Top_1_name', title='Distribution of countries in Wikipedia')\n",
    "fig.update_traces(textposition='inside')\n",
    "fig.update_layout(uniformtext_minsize=12, uniformtext_mode='hide')\n",
    "fig.show()\n",
    "\n",
    "# Export the figure to an HTML file\n",
    "pio.write_html(fig, file='graphs/topic_1/pie_plot_distribution_of_countries.html', auto_open=False)"
   ]
  },
  {
   "cell_type": "markdown",
   "metadata": {},
   "source": [
    "We see that 8 countries make up for 1/2 of the articles in Wikipedia, namely the US, UK, Australia, France, Germany, Italy, India and China. Those are all in the top10 of countries that publish the most!!"
   ]
  },
  {
   "cell_type": "markdown",
   "metadata": {},
   "source": [
    "Let's now look at the connectivity between countries. \n",
    "\n",
    "> **_NOTE:_** Two countries are said to be *connected* if at least one article from the first country contains a link to an article associated to the other country, and the other way around for the 2 same articles. "
   ]
  },
  {
   "cell_type": "markdown",
   "metadata": {},
   "source": [
    "We first need to prepare the data, so to find which countries are connected and how often those connections appear in the Wikipedia graph! "
   ]
  },
  {
   "cell_type": "code",
   "execution_count": 15,
   "metadata": {},
   "outputs": [],
   "source": [
    "data = pd.read_csv(\"data/country_clicks_links.csv\", index_col=0)\n",
    "\n",
    "data.dropna(subset=[\"Top_1_name\"], inplace=True)\n",
    "data[\"name_links_out\"] = data[\"name_links_out\"].fillna(\"[]\")\n",
    "data[\"num_links_in\"] = data[\"num_links_in\"].fillna(0)\n",
    "data[\"num_links_out\"] = data[\"num_links_out\"].fillna(0)\n",
    "data[\"name_links_out\"] = data[\"name_links_out\"].apply(literal_eval)\n",
    "\n",
    "start_country = []\n",
    "end_country = []\n",
    "\n",
    "for idx, row in data.iterrows():\n",
    "    links_out_list = list(row[\"name_links_out\"])\n",
    "    for out_link in links_out_list:\n",
    "        try:\n",
    "            start_country.append(row[\"Top_1_name\"])\n",
    "            end_country.append(data.loc[out_link][\"Top_1_name\"])\n",
    "        except:\n",
    "            pass\n",
    "\n",
    "df = pd.DataFrame(list(zip(start_country, end_country)),\n",
    "              columns=['start_country','end_country'])"
   ]
  },
  {
   "cell_type": "markdown",
   "metadata": {},
   "source": [
    "Let's construct a DataFrame that contains the connections between countries and also a count variable that tract how often a connection occurs. "
   ]
  },
  {
   "cell_type": "code",
   "execution_count": 16,
   "metadata": {},
   "outputs": [
    {
     "data": {
      "text/html": [
       "<div>\n",
       "<style scoped>\n",
       "    .dataframe tbody tr th:only-of-type {\n",
       "        vertical-align: middle;\n",
       "    }\n",
       "\n",
       "    .dataframe tbody tr th {\n",
       "        vertical-align: top;\n",
       "    }\n",
       "\n",
       "    .dataframe thead th {\n",
       "        text-align: right;\n",
       "    }\n",
       "</style>\n",
       "<table border=\"1\" class=\"dataframe\">\n",
       "  <thead>\n",
       "    <tr style=\"text-align: right;\">\n",
       "      <th></th>\n",
       "      <th>start_country</th>\n",
       "      <th>end_country</th>\n",
       "      <th>count</th>\n",
       "    </tr>\n",
       "  </thead>\n",
       "  <tbody>\n",
       "    <tr>\n",
       "      <th>0</th>\n",
       "      <td>united states</td>\n",
       "      <td>united states</td>\n",
       "      <td>1006</td>\n",
       "    </tr>\n",
       "    <tr>\n",
       "      <th>1</th>\n",
       "      <td>united states</td>\n",
       "      <td>united kingdom</td>\n",
       "      <td>619</td>\n",
       "    </tr>\n",
       "    <tr>\n",
       "      <th>2</th>\n",
       "      <td>united kingdom</td>\n",
       "      <td>united states</td>\n",
       "      <td>522</td>\n",
       "    </tr>\n",
       "    <tr>\n",
       "      <th>3</th>\n",
       "      <td>united states</td>\n",
       "      <td>france</td>\n",
       "      <td>454</td>\n",
       "    </tr>\n",
       "    <tr>\n",
       "      <th>4</th>\n",
       "      <td>united states</td>\n",
       "      <td>germany</td>\n",
       "      <td>397</td>\n",
       "    </tr>\n",
       "    <tr>\n",
       "      <th>...</th>\n",
       "      <td>...</td>\n",
       "      <td>...</td>\n",
       "      <td>...</td>\n",
       "    </tr>\n",
       "    <tr>\n",
       "      <th>8762</th>\n",
       "      <td>indonesia</td>\n",
       "      <td>puerto rico</td>\n",
       "      <td>1</td>\n",
       "    </tr>\n",
       "    <tr>\n",
       "      <th>8763</th>\n",
       "      <td>indonesia</td>\n",
       "      <td>philippines</td>\n",
       "      <td>1</td>\n",
       "    </tr>\n",
       "    <tr>\n",
       "      <th>8764</th>\n",
       "      <td>indonesia</td>\n",
       "      <td>peru</td>\n",
       "      <td>1</td>\n",
       "    </tr>\n",
       "    <tr>\n",
       "      <th>8765</th>\n",
       "      <td>indonesia</td>\n",
       "      <td>panama</td>\n",
       "      <td>1</td>\n",
       "    </tr>\n",
       "    <tr>\n",
       "      <th>8766</th>\n",
       "      <td>zimbabwe</td>\n",
       "      <td>zimbabwe</td>\n",
       "      <td>1</td>\n",
       "    </tr>\n",
       "  </tbody>\n",
       "</table>\n",
       "<p>8767 rows × 3 columns</p>\n",
       "</div>"
      ],
      "text/plain": [
       "       start_country     end_country  count\n",
       "0      united states   united states   1006\n",
       "1      united states  united kingdom    619\n",
       "2     united kingdom   united states    522\n",
       "3      united states          france    454\n",
       "4      united states         germany    397\n",
       "...              ...             ...    ...\n",
       "8762       indonesia     puerto rico      1\n",
       "8763       indonesia     philippines      1\n",
       "8764       indonesia            peru      1\n",
       "8765       indonesia          panama      1\n",
       "8766        zimbabwe        zimbabwe      1\n",
       "\n",
       "[8767 rows x 3 columns]"
      ]
     },
     "execution_count": 16,
     "metadata": {},
     "output_type": "execute_result"
    }
   ],
   "source": [
    "country_connexions = df.groupby([\"start_country\", \"end_country\"]).size().sort_values(ascending=False).reset_index()\n",
    "country_connexions = country_connexions.rename(columns={country_connexions.columns[-1]: 'count'})\n",
    "country_connexions"
   ]
  },
  {
   "cell_type": "markdown",
   "metadata": {},
   "source": [
    "Great, well done! \n",
    "\n",
    "Now we will add this information as edges on a graph representing the countries, their associated number of articles and their connections!\n",
    "- each node is a country \n",
    "- the size and color of a node is proportional to the number of articles associtated to that node\n",
    "- edges represent connnections between countries in the Wikipedia graph"
   ]
  },
  {
   "cell_type": "markdown",
   "metadata": {},
   "source": [
    "We need the position (i.e. longitude and latitude) of each country on a world map, since each country will be a node on a world map."
   ]
  },
  {
   "cell_type": "code",
   "execution_count": 32,
   "metadata": {},
   "outputs": [
    {
     "ename": "KeyboardInterrupt",
     "evalue": "",
     "output_type": "error",
     "traceback": [
      "\u001b[1;31m---------------------------------------------------------------------------\u001b[0m",
      "\u001b[1;31mKeyboardInterrupt\u001b[0m                         Traceback (most recent call last)",
      "Cell \u001b[1;32mIn[32], line 25\u001b[0m\n\u001b[0;32m     23\u001b[0m         coords\u001b[38;5;241m.\u001b[39mappend(get_country_coordinates(\u001b[38;5;124m\"\u001b[39m\u001b[38;5;124mJordan, Middle East\u001b[39m\u001b[38;5;124m\"\u001b[39m))\n\u001b[0;32m     24\u001b[0m     \u001b[38;5;28;01melse\u001b[39;00m:\n\u001b[1;32m---> 25\u001b[0m         coords\u001b[38;5;241m.\u001b[39mappend(\u001b[43mget_country_coordinates\u001b[49m\u001b[43m(\u001b[49m\u001b[43mcountry\u001b[49m\u001b[43m)\u001b[49m)\n\u001b[0;32m     27\u001b[0m latitudes \u001b[38;5;241m=\u001b[39m [coord[\u001b[38;5;241m0\u001b[39m] \u001b[38;5;28;01mfor\u001b[39;00m coord \u001b[38;5;129;01min\u001b[39;00m coords]\n\u001b[0;32m     28\u001b[0m longitudes \u001b[38;5;241m=\u001b[39m [coord[\u001b[38;5;241m1\u001b[39m] \u001b[38;5;28;01mfor\u001b[39;00m coord \u001b[38;5;129;01min\u001b[39;00m coords]\n",
      "Cell \u001b[1;32mIn[32], line 5\u001b[0m, in \u001b[0;36mget_country_coordinates\u001b[1;34m(country_name)\u001b[0m\n\u001b[0;32m      4\u001b[0m \u001b[38;5;28;01mdef\u001b[39;00m \u001b[38;5;21mget_country_coordinates\u001b[39m(country_name):\n\u001b[1;32m----> 5\u001b[0m     location \u001b[38;5;241m=\u001b[39m \u001b[43mgeolocator\u001b[49m\u001b[38;5;241;43m.\u001b[39;49m\u001b[43mgeocode\u001b[49m\u001b[43m(\u001b[49m\u001b[43mcountry_name\u001b[49m\u001b[43m)\u001b[49m\n\u001b[0;32m      6\u001b[0m     \u001b[38;5;28;01mreturn\u001b[39;00m (location\u001b[38;5;241m.\u001b[39mlatitude, location\u001b[38;5;241m.\u001b[39mlongitude)\n",
      "File \u001b[1;32mc:\\Users\\fricl\\anaconda3\\envs\\ada\\Lib\\site-packages\\geopy\\geocoders\\nominatim.py:297\u001b[0m, in \u001b[0;36mNominatim.geocode\u001b[1;34m(self, query, exactly_one, timeout, limit, addressdetails, language, geometry, extratags, country_codes, viewbox, bounded, featuretype, namedetails)\u001b[0m\n\u001b[0;32m    295\u001b[0m logger\u001b[38;5;241m.\u001b[39mdebug(\u001b[38;5;124m\"\u001b[39m\u001b[38;5;132;01m%s\u001b[39;00m\u001b[38;5;124m.geocode: \u001b[39m\u001b[38;5;132;01m%s\u001b[39;00m\u001b[38;5;124m\"\u001b[39m, \u001b[38;5;28mself\u001b[39m\u001b[38;5;241m.\u001b[39m\u001b[38;5;18m__class__\u001b[39m\u001b[38;5;241m.\u001b[39m\u001b[38;5;18m__name__\u001b[39m, url)\n\u001b[0;32m    296\u001b[0m callback \u001b[38;5;241m=\u001b[39m partial(\u001b[38;5;28mself\u001b[39m\u001b[38;5;241m.\u001b[39m_parse_json, exactly_one\u001b[38;5;241m=\u001b[39mexactly_one)\n\u001b[1;32m--> 297\u001b[0m \u001b[38;5;28;01mreturn\u001b[39;00m \u001b[38;5;28;43mself\u001b[39;49m\u001b[38;5;241;43m.\u001b[39;49m\u001b[43m_call_geocoder\u001b[49m\u001b[43m(\u001b[49m\u001b[43murl\u001b[49m\u001b[43m,\u001b[49m\u001b[43m \u001b[49m\u001b[43mcallback\u001b[49m\u001b[43m,\u001b[49m\u001b[43m \u001b[49m\u001b[43mtimeout\u001b[49m\u001b[38;5;241;43m=\u001b[39;49m\u001b[43mtimeout\u001b[49m\u001b[43m)\u001b[49m\n",
      "File \u001b[1;32mc:\\Users\\fricl\\anaconda3\\envs\\ada\\Lib\\site-packages\\geopy\\geocoders\\base.py:368\u001b[0m, in \u001b[0;36mGeocoder._call_geocoder\u001b[1;34m(self, url, callback, timeout, is_json, headers)\u001b[0m\n\u001b[0;32m    366\u001b[0m \u001b[38;5;28;01mtry\u001b[39;00m:\n\u001b[0;32m    367\u001b[0m     \u001b[38;5;28;01mif\u001b[39;00m is_json:\n\u001b[1;32m--> 368\u001b[0m         result \u001b[38;5;241m=\u001b[39m \u001b[38;5;28;43mself\u001b[39;49m\u001b[38;5;241;43m.\u001b[39;49m\u001b[43madapter\u001b[49m\u001b[38;5;241;43m.\u001b[39;49m\u001b[43mget_json\u001b[49m\u001b[43m(\u001b[49m\u001b[43murl\u001b[49m\u001b[43m,\u001b[49m\u001b[43m \u001b[49m\u001b[43mtimeout\u001b[49m\u001b[38;5;241;43m=\u001b[39;49m\u001b[43mtimeout\u001b[49m\u001b[43m,\u001b[49m\u001b[43m \u001b[49m\u001b[43mheaders\u001b[49m\u001b[38;5;241;43m=\u001b[39;49m\u001b[43mreq_headers\u001b[49m\u001b[43m)\u001b[49m\n\u001b[0;32m    369\u001b[0m     \u001b[38;5;28;01melse\u001b[39;00m:\n\u001b[0;32m    370\u001b[0m         result \u001b[38;5;241m=\u001b[39m \u001b[38;5;28mself\u001b[39m\u001b[38;5;241m.\u001b[39madapter\u001b[38;5;241m.\u001b[39mget_text(url, timeout\u001b[38;5;241m=\u001b[39mtimeout, headers\u001b[38;5;241m=\u001b[39mreq_headers)\n",
      "File \u001b[1;32mc:\\Users\\fricl\\anaconda3\\envs\\ada\\Lib\\site-packages\\geopy\\adapters.py:472\u001b[0m, in \u001b[0;36mRequestsAdapter.get_json\u001b[1;34m(self, url, timeout, headers)\u001b[0m\n\u001b[0;32m    471\u001b[0m \u001b[38;5;28;01mdef\u001b[39;00m \u001b[38;5;21mget_json\u001b[39m(\u001b[38;5;28mself\u001b[39m, url, \u001b[38;5;241m*\u001b[39m, timeout, headers):\n\u001b[1;32m--> 472\u001b[0m     resp \u001b[38;5;241m=\u001b[39m \u001b[38;5;28;43mself\u001b[39;49m\u001b[38;5;241;43m.\u001b[39;49m\u001b[43m_request\u001b[49m\u001b[43m(\u001b[49m\u001b[43murl\u001b[49m\u001b[43m,\u001b[49m\u001b[43m \u001b[49m\u001b[43mtimeout\u001b[49m\u001b[38;5;241;43m=\u001b[39;49m\u001b[43mtimeout\u001b[49m\u001b[43m,\u001b[49m\u001b[43m \u001b[49m\u001b[43mheaders\u001b[49m\u001b[38;5;241;43m=\u001b[39;49m\u001b[43mheaders\u001b[49m\u001b[43m)\u001b[49m\n\u001b[0;32m    473\u001b[0m     \u001b[38;5;28;01mtry\u001b[39;00m:\n\u001b[0;32m    474\u001b[0m         \u001b[38;5;28;01mreturn\u001b[39;00m resp\u001b[38;5;241m.\u001b[39mjson()\n",
      "File \u001b[1;32mc:\\Users\\fricl\\anaconda3\\envs\\ada\\Lib\\site-packages\\geopy\\adapters.py:482\u001b[0m, in \u001b[0;36mRequestsAdapter._request\u001b[1;34m(self, url, timeout, headers)\u001b[0m\n\u001b[0;32m    480\u001b[0m \u001b[38;5;28;01mdef\u001b[39;00m \u001b[38;5;21m_request\u001b[39m(\u001b[38;5;28mself\u001b[39m, url, \u001b[38;5;241m*\u001b[39m, timeout, headers):\n\u001b[0;32m    481\u001b[0m     \u001b[38;5;28;01mtry\u001b[39;00m:\n\u001b[1;32m--> 482\u001b[0m         resp \u001b[38;5;241m=\u001b[39m \u001b[38;5;28;43mself\u001b[39;49m\u001b[38;5;241;43m.\u001b[39;49m\u001b[43msession\u001b[49m\u001b[38;5;241;43m.\u001b[39;49m\u001b[43mget\u001b[49m\u001b[43m(\u001b[49m\u001b[43murl\u001b[49m\u001b[43m,\u001b[49m\u001b[43m \u001b[49m\u001b[43mtimeout\u001b[49m\u001b[38;5;241;43m=\u001b[39;49m\u001b[43mtimeout\u001b[49m\u001b[43m,\u001b[49m\u001b[43m \u001b[49m\u001b[43mheaders\u001b[49m\u001b[38;5;241;43m=\u001b[39;49m\u001b[43mheaders\u001b[49m\u001b[43m)\u001b[49m\n\u001b[0;32m    483\u001b[0m     \u001b[38;5;28;01mexcept\u001b[39;00m \u001b[38;5;167;01mException\u001b[39;00m \u001b[38;5;28;01mas\u001b[39;00m error:\n\u001b[0;32m    484\u001b[0m         message \u001b[38;5;241m=\u001b[39m \u001b[38;5;28mstr\u001b[39m(error)\n",
      "File \u001b[1;32mc:\\Users\\fricl\\anaconda3\\envs\\ada\\Lib\\site-packages\\requests\\sessions.py:602\u001b[0m, in \u001b[0;36mSession.get\u001b[1;34m(self, url, **kwargs)\u001b[0m\n\u001b[0;32m    594\u001b[0m \u001b[38;5;250m\u001b[39m\u001b[38;5;124mr\u001b[39m\u001b[38;5;124;03m\"\"\"Sends a GET request. Returns :class:`Response` object.\u001b[39;00m\n\u001b[0;32m    595\u001b[0m \n\u001b[0;32m    596\u001b[0m \u001b[38;5;124;03m:param url: URL for the new :class:`Request` object.\u001b[39;00m\n\u001b[0;32m    597\u001b[0m \u001b[38;5;124;03m:param \\*\\*kwargs: Optional arguments that ``request`` takes.\u001b[39;00m\n\u001b[0;32m    598\u001b[0m \u001b[38;5;124;03m:rtype: requests.Response\u001b[39;00m\n\u001b[0;32m    599\u001b[0m \u001b[38;5;124;03m\"\"\"\u001b[39;00m\n\u001b[0;32m    601\u001b[0m kwargs\u001b[38;5;241m.\u001b[39msetdefault(\u001b[38;5;124m\"\u001b[39m\u001b[38;5;124mallow_redirects\u001b[39m\u001b[38;5;124m\"\u001b[39m, \u001b[38;5;28;01mTrue\u001b[39;00m)\n\u001b[1;32m--> 602\u001b[0m \u001b[38;5;28;01mreturn\u001b[39;00m \u001b[38;5;28;43mself\u001b[39;49m\u001b[38;5;241;43m.\u001b[39;49m\u001b[43mrequest\u001b[49m\u001b[43m(\u001b[49m\u001b[38;5;124;43m\"\u001b[39;49m\u001b[38;5;124;43mGET\u001b[39;49m\u001b[38;5;124;43m\"\u001b[39;49m\u001b[43m,\u001b[49m\u001b[43m \u001b[49m\u001b[43murl\u001b[49m\u001b[43m,\u001b[49m\u001b[43m \u001b[49m\u001b[38;5;241;43m*\u001b[39;49m\u001b[38;5;241;43m*\u001b[39;49m\u001b[43mkwargs\u001b[49m\u001b[43m)\u001b[49m\n",
      "File \u001b[1;32mc:\\Users\\fricl\\anaconda3\\envs\\ada\\Lib\\site-packages\\requests\\sessions.py:589\u001b[0m, in \u001b[0;36mSession.request\u001b[1;34m(self, method, url, params, data, headers, cookies, files, auth, timeout, allow_redirects, proxies, hooks, stream, verify, cert, json)\u001b[0m\n\u001b[0;32m    584\u001b[0m send_kwargs \u001b[38;5;241m=\u001b[39m {\n\u001b[0;32m    585\u001b[0m     \u001b[38;5;124m\"\u001b[39m\u001b[38;5;124mtimeout\u001b[39m\u001b[38;5;124m\"\u001b[39m: timeout,\n\u001b[0;32m    586\u001b[0m     \u001b[38;5;124m\"\u001b[39m\u001b[38;5;124mallow_redirects\u001b[39m\u001b[38;5;124m\"\u001b[39m: allow_redirects,\n\u001b[0;32m    587\u001b[0m }\n\u001b[0;32m    588\u001b[0m send_kwargs\u001b[38;5;241m.\u001b[39mupdate(settings)\n\u001b[1;32m--> 589\u001b[0m resp \u001b[38;5;241m=\u001b[39m \u001b[38;5;28;43mself\u001b[39;49m\u001b[38;5;241;43m.\u001b[39;49m\u001b[43msend\u001b[49m\u001b[43m(\u001b[49m\u001b[43mprep\u001b[49m\u001b[43m,\u001b[49m\u001b[43m \u001b[49m\u001b[38;5;241;43m*\u001b[39;49m\u001b[38;5;241;43m*\u001b[39;49m\u001b[43msend_kwargs\u001b[49m\u001b[43m)\u001b[49m\n\u001b[0;32m    591\u001b[0m \u001b[38;5;28;01mreturn\u001b[39;00m resp\n",
      "File \u001b[1;32mc:\\Users\\fricl\\anaconda3\\envs\\ada\\Lib\\site-packages\\requests\\sessions.py:703\u001b[0m, in \u001b[0;36mSession.send\u001b[1;34m(self, request, **kwargs)\u001b[0m\n\u001b[0;32m    700\u001b[0m start \u001b[38;5;241m=\u001b[39m preferred_clock()\n\u001b[0;32m    702\u001b[0m \u001b[38;5;66;03m# Send the request\u001b[39;00m\n\u001b[1;32m--> 703\u001b[0m r \u001b[38;5;241m=\u001b[39m \u001b[43madapter\u001b[49m\u001b[38;5;241;43m.\u001b[39;49m\u001b[43msend\u001b[49m\u001b[43m(\u001b[49m\u001b[43mrequest\u001b[49m\u001b[43m,\u001b[49m\u001b[43m \u001b[49m\u001b[38;5;241;43m*\u001b[39;49m\u001b[38;5;241;43m*\u001b[39;49m\u001b[43mkwargs\u001b[49m\u001b[43m)\u001b[49m\n\u001b[0;32m    705\u001b[0m \u001b[38;5;66;03m# Total elapsed time of the request (approximately)\u001b[39;00m\n\u001b[0;32m    706\u001b[0m elapsed \u001b[38;5;241m=\u001b[39m preferred_clock() \u001b[38;5;241m-\u001b[39m start\n",
      "File \u001b[1;32mc:\\Users\\fricl\\anaconda3\\envs\\ada\\Lib\\site-packages\\requests\\adapters.py:667\u001b[0m, in \u001b[0;36mHTTPAdapter.send\u001b[1;34m(self, request, stream, timeout, verify, cert, proxies)\u001b[0m\n\u001b[0;32m    664\u001b[0m     timeout \u001b[38;5;241m=\u001b[39m TimeoutSauce(connect\u001b[38;5;241m=\u001b[39mtimeout, read\u001b[38;5;241m=\u001b[39mtimeout)\n\u001b[0;32m    666\u001b[0m \u001b[38;5;28;01mtry\u001b[39;00m:\n\u001b[1;32m--> 667\u001b[0m     resp \u001b[38;5;241m=\u001b[39m \u001b[43mconn\u001b[49m\u001b[38;5;241;43m.\u001b[39;49m\u001b[43murlopen\u001b[49m\u001b[43m(\u001b[49m\n\u001b[0;32m    668\u001b[0m \u001b[43m        \u001b[49m\u001b[43mmethod\u001b[49m\u001b[38;5;241;43m=\u001b[39;49m\u001b[43mrequest\u001b[49m\u001b[38;5;241;43m.\u001b[39;49m\u001b[43mmethod\u001b[49m\u001b[43m,\u001b[49m\n\u001b[0;32m    669\u001b[0m \u001b[43m        \u001b[49m\u001b[43murl\u001b[49m\u001b[38;5;241;43m=\u001b[39;49m\u001b[43murl\u001b[49m\u001b[43m,\u001b[49m\n\u001b[0;32m    670\u001b[0m \u001b[43m        \u001b[49m\u001b[43mbody\u001b[49m\u001b[38;5;241;43m=\u001b[39;49m\u001b[43mrequest\u001b[49m\u001b[38;5;241;43m.\u001b[39;49m\u001b[43mbody\u001b[49m\u001b[43m,\u001b[49m\n\u001b[0;32m    671\u001b[0m \u001b[43m        \u001b[49m\u001b[43mheaders\u001b[49m\u001b[38;5;241;43m=\u001b[39;49m\u001b[43mrequest\u001b[49m\u001b[38;5;241;43m.\u001b[39;49m\u001b[43mheaders\u001b[49m\u001b[43m,\u001b[49m\n\u001b[0;32m    672\u001b[0m \u001b[43m        \u001b[49m\u001b[43mredirect\u001b[49m\u001b[38;5;241;43m=\u001b[39;49m\u001b[38;5;28;43;01mFalse\u001b[39;49;00m\u001b[43m,\u001b[49m\n\u001b[0;32m    673\u001b[0m \u001b[43m        \u001b[49m\u001b[43massert_same_host\u001b[49m\u001b[38;5;241;43m=\u001b[39;49m\u001b[38;5;28;43;01mFalse\u001b[39;49;00m\u001b[43m,\u001b[49m\n\u001b[0;32m    674\u001b[0m \u001b[43m        \u001b[49m\u001b[43mpreload_content\u001b[49m\u001b[38;5;241;43m=\u001b[39;49m\u001b[38;5;28;43;01mFalse\u001b[39;49;00m\u001b[43m,\u001b[49m\n\u001b[0;32m    675\u001b[0m \u001b[43m        \u001b[49m\u001b[43mdecode_content\u001b[49m\u001b[38;5;241;43m=\u001b[39;49m\u001b[38;5;28;43;01mFalse\u001b[39;49;00m\u001b[43m,\u001b[49m\n\u001b[0;32m    676\u001b[0m \u001b[43m        \u001b[49m\u001b[43mretries\u001b[49m\u001b[38;5;241;43m=\u001b[39;49m\u001b[38;5;28;43mself\u001b[39;49m\u001b[38;5;241;43m.\u001b[39;49m\u001b[43mmax_retries\u001b[49m\u001b[43m,\u001b[49m\n\u001b[0;32m    677\u001b[0m \u001b[43m        \u001b[49m\u001b[43mtimeout\u001b[49m\u001b[38;5;241;43m=\u001b[39;49m\u001b[43mtimeout\u001b[49m\u001b[43m,\u001b[49m\n\u001b[0;32m    678\u001b[0m \u001b[43m        \u001b[49m\u001b[43mchunked\u001b[49m\u001b[38;5;241;43m=\u001b[39;49m\u001b[43mchunked\u001b[49m\u001b[43m,\u001b[49m\n\u001b[0;32m    679\u001b[0m \u001b[43m    \u001b[49m\u001b[43m)\u001b[49m\n\u001b[0;32m    681\u001b[0m \u001b[38;5;28;01mexcept\u001b[39;00m (ProtocolError, \u001b[38;5;167;01mOSError\u001b[39;00m) \u001b[38;5;28;01mas\u001b[39;00m err:\n\u001b[0;32m    682\u001b[0m     \u001b[38;5;28;01mraise\u001b[39;00m \u001b[38;5;167;01mConnectionError\u001b[39;00m(err, request\u001b[38;5;241m=\u001b[39mrequest)\n",
      "File \u001b[1;32mc:\\Users\\fricl\\anaconda3\\envs\\ada\\Lib\\site-packages\\urllib3\\connectionpool.py:789\u001b[0m, in \u001b[0;36mHTTPConnectionPool.urlopen\u001b[1;34m(self, method, url, body, headers, retries, redirect, assert_same_host, timeout, pool_timeout, release_conn, chunked, body_pos, preload_content, decode_content, **response_kw)\u001b[0m\n\u001b[0;32m    786\u001b[0m response_conn \u001b[38;5;241m=\u001b[39m conn \u001b[38;5;28;01mif\u001b[39;00m \u001b[38;5;129;01mnot\u001b[39;00m release_conn \u001b[38;5;28;01melse\u001b[39;00m \u001b[38;5;28;01mNone\u001b[39;00m\n\u001b[0;32m    788\u001b[0m \u001b[38;5;66;03m# Make the request on the HTTPConnection object\u001b[39;00m\n\u001b[1;32m--> 789\u001b[0m response \u001b[38;5;241m=\u001b[39m \u001b[38;5;28;43mself\u001b[39;49m\u001b[38;5;241;43m.\u001b[39;49m\u001b[43m_make_request\u001b[49m\u001b[43m(\u001b[49m\n\u001b[0;32m    790\u001b[0m \u001b[43m    \u001b[49m\u001b[43mconn\u001b[49m\u001b[43m,\u001b[49m\n\u001b[0;32m    791\u001b[0m \u001b[43m    \u001b[49m\u001b[43mmethod\u001b[49m\u001b[43m,\u001b[49m\n\u001b[0;32m    792\u001b[0m \u001b[43m    \u001b[49m\u001b[43murl\u001b[49m\u001b[43m,\u001b[49m\n\u001b[0;32m    793\u001b[0m \u001b[43m    \u001b[49m\u001b[43mtimeout\u001b[49m\u001b[38;5;241;43m=\u001b[39;49m\u001b[43mtimeout_obj\u001b[49m\u001b[43m,\u001b[49m\n\u001b[0;32m    794\u001b[0m \u001b[43m    \u001b[49m\u001b[43mbody\u001b[49m\u001b[38;5;241;43m=\u001b[39;49m\u001b[43mbody\u001b[49m\u001b[43m,\u001b[49m\n\u001b[0;32m    795\u001b[0m \u001b[43m    \u001b[49m\u001b[43mheaders\u001b[49m\u001b[38;5;241;43m=\u001b[39;49m\u001b[43mheaders\u001b[49m\u001b[43m,\u001b[49m\n\u001b[0;32m    796\u001b[0m \u001b[43m    \u001b[49m\u001b[43mchunked\u001b[49m\u001b[38;5;241;43m=\u001b[39;49m\u001b[43mchunked\u001b[49m\u001b[43m,\u001b[49m\n\u001b[0;32m    797\u001b[0m \u001b[43m    \u001b[49m\u001b[43mretries\u001b[49m\u001b[38;5;241;43m=\u001b[39;49m\u001b[43mretries\u001b[49m\u001b[43m,\u001b[49m\n\u001b[0;32m    798\u001b[0m \u001b[43m    \u001b[49m\u001b[43mresponse_conn\u001b[49m\u001b[38;5;241;43m=\u001b[39;49m\u001b[43mresponse_conn\u001b[49m\u001b[43m,\u001b[49m\n\u001b[0;32m    799\u001b[0m \u001b[43m    \u001b[49m\u001b[43mpreload_content\u001b[49m\u001b[38;5;241;43m=\u001b[39;49m\u001b[43mpreload_content\u001b[49m\u001b[43m,\u001b[49m\n\u001b[0;32m    800\u001b[0m \u001b[43m    \u001b[49m\u001b[43mdecode_content\u001b[49m\u001b[38;5;241;43m=\u001b[39;49m\u001b[43mdecode_content\u001b[49m\u001b[43m,\u001b[49m\n\u001b[0;32m    801\u001b[0m \u001b[43m    \u001b[49m\u001b[38;5;241;43m*\u001b[39;49m\u001b[38;5;241;43m*\u001b[39;49m\u001b[43mresponse_kw\u001b[49m\u001b[43m,\u001b[49m\n\u001b[0;32m    802\u001b[0m \u001b[43m\u001b[49m\u001b[43m)\u001b[49m\n\u001b[0;32m    804\u001b[0m \u001b[38;5;66;03m# Everything went great!\u001b[39;00m\n\u001b[0;32m    805\u001b[0m clean_exit \u001b[38;5;241m=\u001b[39m \u001b[38;5;28;01mTrue\u001b[39;00m\n",
      "File \u001b[1;32mc:\\Users\\fricl\\anaconda3\\envs\\ada\\Lib\\site-packages\\urllib3\\connectionpool.py:536\u001b[0m, in \u001b[0;36mHTTPConnectionPool._make_request\u001b[1;34m(self, conn, method, url, body, headers, retries, timeout, chunked, response_conn, preload_content, decode_content, enforce_content_length)\u001b[0m\n\u001b[0;32m    534\u001b[0m \u001b[38;5;66;03m# Receive the response from the server\u001b[39;00m\n\u001b[0;32m    535\u001b[0m \u001b[38;5;28;01mtry\u001b[39;00m:\n\u001b[1;32m--> 536\u001b[0m     response \u001b[38;5;241m=\u001b[39m \u001b[43mconn\u001b[49m\u001b[38;5;241;43m.\u001b[39;49m\u001b[43mgetresponse\u001b[49m\u001b[43m(\u001b[49m\u001b[43m)\u001b[49m\n\u001b[0;32m    537\u001b[0m \u001b[38;5;28;01mexcept\u001b[39;00m (BaseSSLError, \u001b[38;5;167;01mOSError\u001b[39;00m) \u001b[38;5;28;01mas\u001b[39;00m e:\n\u001b[0;32m    538\u001b[0m     \u001b[38;5;28mself\u001b[39m\u001b[38;5;241m.\u001b[39m_raise_timeout(err\u001b[38;5;241m=\u001b[39me, url\u001b[38;5;241m=\u001b[39murl, timeout_value\u001b[38;5;241m=\u001b[39mread_timeout)\n",
      "File \u001b[1;32mc:\\Users\\fricl\\anaconda3\\envs\\ada\\Lib\\site-packages\\urllib3\\connection.py:507\u001b[0m, in \u001b[0;36mHTTPConnection.getresponse\u001b[1;34m(self)\u001b[0m\n\u001b[0;32m    504\u001b[0m \u001b[38;5;28;01mfrom\u001b[39;00m \u001b[38;5;21;01m.\u001b[39;00m\u001b[38;5;21;01mresponse\u001b[39;00m \u001b[38;5;28;01mimport\u001b[39;00m HTTPResponse\n\u001b[0;32m    506\u001b[0m \u001b[38;5;66;03m# Get the response from http.client.HTTPConnection\u001b[39;00m\n\u001b[1;32m--> 507\u001b[0m httplib_response \u001b[38;5;241m=\u001b[39m \u001b[38;5;28;43msuper\u001b[39;49m\u001b[43m(\u001b[49m\u001b[43m)\u001b[49m\u001b[38;5;241;43m.\u001b[39;49m\u001b[43mgetresponse\u001b[49m\u001b[43m(\u001b[49m\u001b[43m)\u001b[49m\n\u001b[0;32m    509\u001b[0m \u001b[38;5;28;01mtry\u001b[39;00m:\n\u001b[0;32m    510\u001b[0m     assert_header_parsing(httplib_response\u001b[38;5;241m.\u001b[39mmsg)\n",
      "File \u001b[1;32mc:\\Users\\fricl\\anaconda3\\envs\\ada\\Lib\\http\\client.py:1395\u001b[0m, in \u001b[0;36mHTTPConnection.getresponse\u001b[1;34m(self)\u001b[0m\n\u001b[0;32m   1393\u001b[0m \u001b[38;5;28;01mtry\u001b[39;00m:\n\u001b[0;32m   1394\u001b[0m     \u001b[38;5;28;01mtry\u001b[39;00m:\n\u001b[1;32m-> 1395\u001b[0m         \u001b[43mresponse\u001b[49m\u001b[38;5;241;43m.\u001b[39;49m\u001b[43mbegin\u001b[49m\u001b[43m(\u001b[49m\u001b[43m)\u001b[49m\n\u001b[0;32m   1396\u001b[0m     \u001b[38;5;28;01mexcept\u001b[39;00m \u001b[38;5;167;01mConnectionError\u001b[39;00m:\n\u001b[0;32m   1397\u001b[0m         \u001b[38;5;28mself\u001b[39m\u001b[38;5;241m.\u001b[39mclose()\n",
      "File \u001b[1;32mc:\\Users\\fricl\\anaconda3\\envs\\ada\\Lib\\http\\client.py:325\u001b[0m, in \u001b[0;36mHTTPResponse.begin\u001b[1;34m(self)\u001b[0m\n\u001b[0;32m    323\u001b[0m \u001b[38;5;66;03m# read until we get a non-100 response\u001b[39;00m\n\u001b[0;32m    324\u001b[0m \u001b[38;5;28;01mwhile\u001b[39;00m \u001b[38;5;28;01mTrue\u001b[39;00m:\n\u001b[1;32m--> 325\u001b[0m     version, status, reason \u001b[38;5;241m=\u001b[39m \u001b[38;5;28;43mself\u001b[39;49m\u001b[38;5;241;43m.\u001b[39;49m\u001b[43m_read_status\u001b[49m\u001b[43m(\u001b[49m\u001b[43m)\u001b[49m\n\u001b[0;32m    326\u001b[0m     \u001b[38;5;28;01mif\u001b[39;00m status \u001b[38;5;241m!=\u001b[39m CONTINUE:\n\u001b[0;32m    327\u001b[0m         \u001b[38;5;28;01mbreak\u001b[39;00m\n",
      "File \u001b[1;32mc:\\Users\\fricl\\anaconda3\\envs\\ada\\Lib\\http\\client.py:286\u001b[0m, in \u001b[0;36mHTTPResponse._read_status\u001b[1;34m(self)\u001b[0m\n\u001b[0;32m    285\u001b[0m \u001b[38;5;28;01mdef\u001b[39;00m \u001b[38;5;21m_read_status\u001b[39m(\u001b[38;5;28mself\u001b[39m):\n\u001b[1;32m--> 286\u001b[0m     line \u001b[38;5;241m=\u001b[39m \u001b[38;5;28mstr\u001b[39m(\u001b[38;5;28mself\u001b[39m\u001b[38;5;241m.\u001b[39mfp\u001b[38;5;241m.\u001b[39mreadline(_MAXLINE \u001b[38;5;241m+\u001b[39m \u001b[38;5;241m1\u001b[39m), \u001b[38;5;124m\"\u001b[39m\u001b[38;5;124miso-8859-1\u001b[39m\u001b[38;5;124m\"\u001b[39m)\n\u001b[0;32m    287\u001b[0m     \u001b[38;5;28;01mif\u001b[39;00m \u001b[38;5;28mlen\u001b[39m(line) \u001b[38;5;241m>\u001b[39m _MAXLINE:\n\u001b[0;32m    288\u001b[0m         \u001b[38;5;28;01mraise\u001b[39;00m LineTooLong(\u001b[38;5;124m\"\u001b[39m\u001b[38;5;124mstatus line\u001b[39m\u001b[38;5;124m\"\u001b[39m)\n",
      "File \u001b[1;32mc:\\Users\\fricl\\anaconda3\\envs\\ada\\Lib\\socket.py:718\u001b[0m, in \u001b[0;36mSocketIO.readinto\u001b[1;34m(self, b)\u001b[0m\n\u001b[0;32m    716\u001b[0m \u001b[38;5;28;01mwhile\u001b[39;00m \u001b[38;5;28;01mTrue\u001b[39;00m:\n\u001b[0;32m    717\u001b[0m     \u001b[38;5;28;01mtry\u001b[39;00m:\n\u001b[1;32m--> 718\u001b[0m         \u001b[38;5;28;01mreturn\u001b[39;00m \u001b[38;5;28;43mself\u001b[39;49m\u001b[38;5;241;43m.\u001b[39;49m\u001b[43m_sock\u001b[49m\u001b[38;5;241;43m.\u001b[39;49m\u001b[43mrecv_into\u001b[49m\u001b[43m(\u001b[49m\u001b[43mb\u001b[49m\u001b[43m)\u001b[49m\n\u001b[0;32m    719\u001b[0m     \u001b[38;5;28;01mexcept\u001b[39;00m timeout:\n\u001b[0;32m    720\u001b[0m         \u001b[38;5;28mself\u001b[39m\u001b[38;5;241m.\u001b[39m_timeout_occurred \u001b[38;5;241m=\u001b[39m \u001b[38;5;28;01mTrue\u001b[39;00m\n",
      "File \u001b[1;32mc:\\Users\\fricl\\anaconda3\\envs\\ada\\Lib\\ssl.py:1314\u001b[0m, in \u001b[0;36mSSLSocket.recv_into\u001b[1;34m(self, buffer, nbytes, flags)\u001b[0m\n\u001b[0;32m   1310\u001b[0m     \u001b[38;5;28;01mif\u001b[39;00m flags \u001b[38;5;241m!=\u001b[39m \u001b[38;5;241m0\u001b[39m:\n\u001b[0;32m   1311\u001b[0m         \u001b[38;5;28;01mraise\u001b[39;00m \u001b[38;5;167;01mValueError\u001b[39;00m(\n\u001b[0;32m   1312\u001b[0m           \u001b[38;5;124m\"\u001b[39m\u001b[38;5;124mnon-zero flags not allowed in calls to recv_into() on \u001b[39m\u001b[38;5;132;01m%s\u001b[39;00m\u001b[38;5;124m\"\u001b[39m \u001b[38;5;241m%\u001b[39m\n\u001b[0;32m   1313\u001b[0m           \u001b[38;5;28mself\u001b[39m\u001b[38;5;241m.\u001b[39m\u001b[38;5;18m__class__\u001b[39m)\n\u001b[1;32m-> 1314\u001b[0m     \u001b[38;5;28;01mreturn\u001b[39;00m \u001b[38;5;28;43mself\u001b[39;49m\u001b[38;5;241;43m.\u001b[39;49m\u001b[43mread\u001b[49m\u001b[43m(\u001b[49m\u001b[43mnbytes\u001b[49m\u001b[43m,\u001b[49m\u001b[43m \u001b[49m\u001b[43mbuffer\u001b[49m\u001b[43m)\u001b[49m\n\u001b[0;32m   1315\u001b[0m \u001b[38;5;28;01melse\u001b[39;00m:\n\u001b[0;32m   1316\u001b[0m     \u001b[38;5;28;01mreturn\u001b[39;00m \u001b[38;5;28msuper\u001b[39m()\u001b[38;5;241m.\u001b[39mrecv_into(buffer, nbytes, flags)\n",
      "File \u001b[1;32mc:\\Users\\fricl\\anaconda3\\envs\\ada\\Lib\\ssl.py:1166\u001b[0m, in \u001b[0;36mSSLSocket.read\u001b[1;34m(self, len, buffer)\u001b[0m\n\u001b[0;32m   1164\u001b[0m \u001b[38;5;28;01mtry\u001b[39;00m:\n\u001b[0;32m   1165\u001b[0m     \u001b[38;5;28;01mif\u001b[39;00m buffer \u001b[38;5;129;01mis\u001b[39;00m \u001b[38;5;129;01mnot\u001b[39;00m \u001b[38;5;28;01mNone\u001b[39;00m:\n\u001b[1;32m-> 1166\u001b[0m         \u001b[38;5;28;01mreturn\u001b[39;00m \u001b[38;5;28;43mself\u001b[39;49m\u001b[38;5;241;43m.\u001b[39;49m\u001b[43m_sslobj\u001b[49m\u001b[38;5;241;43m.\u001b[39;49m\u001b[43mread\u001b[49m\u001b[43m(\u001b[49m\u001b[38;5;28;43mlen\u001b[39;49m\u001b[43m,\u001b[49m\u001b[43m \u001b[49m\u001b[43mbuffer\u001b[49m\u001b[43m)\u001b[49m\n\u001b[0;32m   1167\u001b[0m     \u001b[38;5;28;01melse\u001b[39;00m:\n\u001b[0;32m   1168\u001b[0m         \u001b[38;5;28;01mreturn\u001b[39;00m \u001b[38;5;28mself\u001b[39m\u001b[38;5;241m.\u001b[39m_sslobj\u001b[38;5;241m.\u001b[39mread(\u001b[38;5;28mlen\u001b[39m)\n",
      "\u001b[1;31mKeyboardInterrupt\u001b[0m: "
     ]
    }
   ],
   "source": [
    "# Get a set of coordinates (latitude, longitude) for each country for visualisation purposes\n",
    "geolocator = Nominatim(user_agent=\"my_app\", timeout=10)\n",
    "\n",
    "def get_country_coordinates(country_name):\n",
    "    location = geolocator.geocode(country_name)\n",
    "    return (location.latitude, location.longitude)\n",
    "\n",
    "countries = data_countries.Top_1_name.tolist()\n",
    "coords = []\n",
    "for country in countries: \n",
    "    # handle ambiguous cases (the geolocator function tends to place ambiguous countries in the US!)\n",
    "    if country == \"sudan\": \n",
    "        print(\"before:\", get_country_coordinates(\"sudan\"))\n",
    "        print(\"after\", get_country_coordinates(\"Sudan, Africa\"))\n",
    "        coords.append(get_country_coordinates(\"Sudan, Africa\"))\n",
    "    elif country == \"georgia\": \n",
    "        coords.append(get_country_coordinates(\"Georgia, Caucasus\"))\n",
    "    elif country == \"lebanon\": \n",
    "        coords.append(get_country_coordinates(\"Lebanon, Asia\"))\n",
    "    elif country == \"greenland\": \n",
    "        coords.append(get_country_coordinates(\"Greenland, North America\"))\n",
    "    elif country == \"jordan\": \n",
    "        coords.append(get_country_coordinates(\"Jordan, Middle East\"))\n",
    "    else:\n",
    "        coords.append(get_country_coordinates(country))\n",
    "\n",
    "latitudes = [coord[0] for coord in coords]\n",
    "longitudes = [coord[1] for coord in coords]"
   ]
  },
  {
   "cell_type": "markdown",
   "metadata": {},
   "source": [
    "Now let's construct the graph!"
   ]
  },
  {
   "cell_type": "code",
   "execution_count": 209,
   "metadata": {},
   "outputs": [
    {
     "name": "stdout",
     "output_type": "stream",
     "text": [
      "Warning: When  cdn_resources is 'local' jupyter notebook has issues displaying graphics on chrome/safari. Use cdn_resources='in_line' or cdn_resources='remote' if you have issues viewing graphics in a notebook.\n",
      "graphs/topic_1/country_graph_no_edge.html\n"
     ]
    },
    {
     "name": "stderr",
     "output_type": "stream",
     "text": [
      "C:\\Users\\fricl\\AppData\\Local\\Temp\\ipykernel_13016\\469119281.py:1: MatplotlibDeprecationWarning:\n",
      "\n",
      "The get_cmap function was deprecated in Matplotlib 3.7 and will be removed in 3.11. Use ``matplotlib.colormaps[name]`` or ``matplotlib.colormaps.get_cmap()`` or ``pyplot.get_cmap()`` instead.\n",
      "\n"
     ]
    },
    {
     "data": {
      "text/html": [
       "\n",
       "        <iframe\n",
       "            width=\"100%\"\n",
       "            height=\"600px\"\n",
       "            src=\"graphs/topic_1/country_graph_no_edge.html\"\n",
       "            frameborder=\"0\"\n",
       "            allowfullscreen\n",
       "            \n",
       "        ></iframe>\n",
       "        "
      ],
      "text/plain": [
       "<IPython.lib.display.IFrame at 0x11e02cb5390>"
      ]
     },
     "execution_count": 209,
     "metadata": {},
     "output_type": "execute_result"
    }
   ],
   "source": [
    "color_map = plt.cm.get_cmap('Reds')\n",
    "colors_hex = [matplotlib.colors.to_hex(color_map(num + 100)) for num in data_countries.occurrence.tolist()]\n",
    "\n",
    "net = Network(directed=True, \n",
    "              notebook=True, \n",
    "              font_color='#10000000')\n",
    "\n",
    "# Turn off physics so nodes stay fixed\n",
    "net.barnes_hut()\n",
    "net.toggle_physics(False)\n",
    "\n",
    "x_positions = [coord[1] * 50 for coord in coords]  # Scaling for better spacing\n",
    "y_positions = [coord[0] * -50 for coord in coords] # Negate to align correctly\n",
    "\n",
    "net.add_nodes(countries, \n",
    "              title=countries, \n",
    "              color=colors_hex, \n",
    "              size=data_countries.occurrence.tolist(), \n",
    "              x = x_positions, \n",
    "              y = y_positions)\n",
    "\n",
    "\n",
    "net.show(\"graphs/topic_1/country_graph_no_edge.html\")"
   ]
  },
  {
   "cell_type": "markdown",
   "metadata": {},
   "source": [
    "The last step is to overlay this nice graph on a world map. For this we will use Leaflet and more preceisely Follium in Python! "
   ]
  },
  {
   "cell_type": "code",
   "execution_count": 216,
   "metadata": {},
   "outputs": [],
   "source": [
    "def overlap_world_map(out_path, edge=True):\n",
    "    # Create a base map centered on an average coordinate (e.g., latitude 0, longitude 0)\n",
    "    map_center = [0, 0]  # Adjust center to fit your data better if needed\n",
    "    world_map = folium.Map(location=map_center, zoom_start=2, tiles='cartodbpositron')\n",
    "\n",
    "    # Add each country node as a CircleMarker with scaled sizes\n",
    "    for country, lat, lon, color, size in zip(countries, latitudes, longitudes, colors_hex, data_countries.occurrence.tolist()):\n",
    "        folium.CircleMarker(\n",
    "            location=[lat, lon],  # Use latitude and longitude\n",
    "            radius=size/10,         # Scaled size based on occurrence\n",
    "            color=color,           # Use the color from your PyVis graph\n",
    "            fill=True,\n",
    "            fill_opacity=0.7,\n",
    "            popup=folium.Popup(\n",
    "                f\"<b>{country}</b><br>{size} articles\",  # Popup content (HTML formatted for better display)\n",
    "                max_width=100,  # Set the maximum width of the popup\n",
    "                min_width=50    # Set a minimum width if desired\n",
    "            )\n",
    "        ).add_to(world_map)\n",
    "\n",
    "    # Add a slider for threshold (this one will be for dynamically changing the threshold value)\n",
    "    slider_html = '''\n",
    "        <div style=\"position: absolute; top: 10px; left: 100px; z-index: 9999;\">\n",
    "            <label for=\"threshold_slider\" style=\"font-size: 14px; color: black;\">Edge Threshold:</label>\n",
    "            <input type=\"range\" id=\"threshold_slider\" min=\"1\" max=\"611\" value=\"1\" step=\"10\" style=\"width: 200px;\">\n",
    "            <span id=\"threshold_value\" style=\"font-size: 14px; color: black;\">1</span>\n",
    "        </div>\n",
    "    '''\n",
    "    \n",
    "    # Add the slider to the map as an HTML element\n",
    "    world_map.get_root().html.add_child(folium.Element(slider_html))\n",
    "\n",
    "    # JavaScript to update edges based on the slider value\n",
    "    slider_js = '''\n",
    "        <script>\n",
    "            document.getElementById(\"threshold_slider\").oninput = function() {\n",
    "                var threshold = parseInt(this.value);\n",
    "                document.getElementById(\"threshold_value\").innerText = threshold;\n",
    "                // Filter edges based on the threshold value\n",
    "                var lines = document.querySelectorAll('path[stroke=\"blue\"]');\n",
    "                lines.forEach(function(line) {\n",
    "                    var opacity = parseFloat(line.getAttribute(\"stroke-opacity\"));\n",
    "                    if (opacity >= (threshold / 1006)) {\n",
    "                        line.style.display = \"block\";  // Show the edge\n",
    "                    } else {\n",
    "                        line.style.display = \"none\";   // Hide the edge\n",
    "                    }\n",
    "                });\n",
    "            };\n",
    "        </script>\n",
    "    '''\n",
    "    \n",
    "    # Add the JavaScript to the map\n",
    "    world_map.get_root().html.add_child(folium.Element(slider_js))\n",
    "\n",
    "    if edge:\n",
    "        \n",
    "        for i in range(len(country_connexions)):\n",
    "            start_country = country_connexions[\"start_country\"].iloc[i]\n",
    "            end_country = country_connexions[\"end_country\"].iloc[i]\n",
    "            count = country_connexions[\"count\"].iloc[i]\n",
    "            \n",
    "            # Get coordinates for both countries\n",
    "            try:\n",
    "                start_idx = countries.index(start_country)\n",
    "                end_idx = countries.index(end_country)\n",
    "                start_coords = [latitudes[start_idx], longitudes[start_idx]]\n",
    "                end_coords = [latitudes[end_idx], longitudes[end_idx]]\n",
    "                \n",
    "                # Add a line (edge) between the two countries\n",
    "                folium.PolyLine(\n",
    "                    locations=[start_coords, end_coords],  # List of [lat, lon] pairs\n",
    "                    color='blue',  # Line color\n",
    "                    weight=2,      # Line thickness\n",
    "                    opacity=count/1006,   # Line transparency\n",
    "                    class_name='edge-line',  # CSS class to target in JavaScript\n",
    "                    # Store the \"count\" in a data attribute for filtering\n",
    "                ).add_to(world_map)\n",
    "            except ValueError:\n",
    "                print(f\"Connection skipped: {start_country} -> {end_country} (one of them not found in countries list)\")\n",
    "\n",
    "    # Save the combined map to an HTML file\n",
    "    world_map.save(out_path)"
   ]
  },
  {
   "cell_type": "markdown",
   "metadata": {},
   "source": [
    "Let's finally create our world map without any edges because with the edges it is way too crowded!"
   ]
  },
  {
   "cell_type": "code",
   "execution_count": 217,
   "metadata": {},
   "outputs": [],
   "source": [
    "# just nodes\n",
    "overlap_world_map(\"graphs/topic_1/country_graph_no_edge.html\", \"graphs/topic_1/world_graph_map.html\", edge=True)"
   ]
  },
  {
   "cell_type": "markdown",
   "metadata": {},
   "source": [
    "## 3. What is the distribution of in and out degrees? \n",
    "\n",
    "For fun, we are also interested in the in and out degree of each country. \n",
    "\n",
    "> **_NOTE:_**  The in degree of a country is defined as the sum of the in degrees of its articles. Same for out degrees. The higher the in degree of a country, the more central it is meaning that the more it is accessible from other countries. "
   ]
  },
  {
   "cell_type": "code",
   "execution_count": 113,
   "metadata": {},
   "outputs": [
    {
     "data": {
      "application/vnd.plotly.v1+json": {
       "config": {
        "plotlyServerURL": "https://plot.ly"
       },
       "data": [
        {
         "marker": {
          "color": "blue"
         },
         "name": "in degree",
         "type": "bar",
         "x": [
          "united states",
          "united kingdom",
          "australia",
          "france",
          "germany",
          "italy",
          "india",
          "china"
         ],
         "y": [
          9562,
          6315,
          2241,
          4487,
          3750,
          3152,
          2425,
          2696
         ]
        },
        {
         "marker": {
          "color": "red"
         },
         "name": "out degree",
         "type": "bar",
         "x": [
          "united states",
          "united kingdom",
          "australia",
          "france",
          "germany",
          "italy",
          "india",
          "china"
         ],
         "y": [
          11710,
          6453,
          2534,
          3487,
          3284,
          2530,
          2767,
          2454
         ]
        },
        {
         "marker": {
          "color": "blue"
         },
         "name": "in degree",
         "type": "bar",
         "x": [
          "laos",
          "niue",
          "cayman islands",
          "guam",
          "niger",
          "nicaragua",
          "nauru",
          "namibia"
         ],
         "y": [
          65,
          17,
          22,
          43,
          65,
          76,
          28,
          73
         ]
        },
        {
         "marker": {
          "color": "red"
         },
         "name": "out degree",
         "type": "bar",
         "x": [
          "laos",
          "niue",
          "cayman islands",
          "guam",
          "niger",
          "nicaragua",
          "nauru",
          "namibia"
         ],
         "y": [
          31,
          15,
          22,
          26,
          44,
          47,
          35,
          43
         ]
        }
       ],
       "layout": {
        "barmode": "stack",
        "template": {
         "data": {
          "bar": [
           {
            "error_x": {
             "color": "#2a3f5f"
            },
            "error_y": {
             "color": "#2a3f5f"
            },
            "marker": {
             "line": {
              "color": "#E5ECF6",
              "width": 0.5
             },
             "pattern": {
              "fillmode": "overlay",
              "size": 10,
              "solidity": 0.2
             }
            },
            "type": "bar"
           }
          ],
          "barpolar": [
           {
            "marker": {
             "line": {
              "color": "#E5ECF6",
              "width": 0.5
             },
             "pattern": {
              "fillmode": "overlay",
              "size": 10,
              "solidity": 0.2
             }
            },
            "type": "barpolar"
           }
          ],
          "carpet": [
           {
            "aaxis": {
             "endlinecolor": "#2a3f5f",
             "gridcolor": "white",
             "linecolor": "white",
             "minorgridcolor": "white",
             "startlinecolor": "#2a3f5f"
            },
            "baxis": {
             "endlinecolor": "#2a3f5f",
             "gridcolor": "white",
             "linecolor": "white",
             "minorgridcolor": "white",
             "startlinecolor": "#2a3f5f"
            },
            "type": "carpet"
           }
          ],
          "choropleth": [
           {
            "colorbar": {
             "outlinewidth": 0,
             "ticks": ""
            },
            "type": "choropleth"
           }
          ],
          "contour": [
           {
            "colorbar": {
             "outlinewidth": 0,
             "ticks": ""
            },
            "colorscale": [
             [
              0,
              "#0d0887"
             ],
             [
              0.1111111111111111,
              "#46039f"
             ],
             [
              0.2222222222222222,
              "#7201a8"
             ],
             [
              0.3333333333333333,
              "#9c179e"
             ],
             [
              0.4444444444444444,
              "#bd3786"
             ],
             [
              0.5555555555555556,
              "#d8576b"
             ],
             [
              0.6666666666666666,
              "#ed7953"
             ],
             [
              0.7777777777777778,
              "#fb9f3a"
             ],
             [
              0.8888888888888888,
              "#fdca26"
             ],
             [
              1,
              "#f0f921"
             ]
            ],
            "type": "contour"
           }
          ],
          "contourcarpet": [
           {
            "colorbar": {
             "outlinewidth": 0,
             "ticks": ""
            },
            "type": "contourcarpet"
           }
          ],
          "heatmap": [
           {
            "colorbar": {
             "outlinewidth": 0,
             "ticks": ""
            },
            "colorscale": [
             [
              0,
              "#0d0887"
             ],
             [
              0.1111111111111111,
              "#46039f"
             ],
             [
              0.2222222222222222,
              "#7201a8"
             ],
             [
              0.3333333333333333,
              "#9c179e"
             ],
             [
              0.4444444444444444,
              "#bd3786"
             ],
             [
              0.5555555555555556,
              "#d8576b"
             ],
             [
              0.6666666666666666,
              "#ed7953"
             ],
             [
              0.7777777777777778,
              "#fb9f3a"
             ],
             [
              0.8888888888888888,
              "#fdca26"
             ],
             [
              1,
              "#f0f921"
             ]
            ],
            "type": "heatmap"
           }
          ],
          "heatmapgl": [
           {
            "colorbar": {
             "outlinewidth": 0,
             "ticks": ""
            },
            "colorscale": [
             [
              0,
              "#0d0887"
             ],
             [
              0.1111111111111111,
              "#46039f"
             ],
             [
              0.2222222222222222,
              "#7201a8"
             ],
             [
              0.3333333333333333,
              "#9c179e"
             ],
             [
              0.4444444444444444,
              "#bd3786"
             ],
             [
              0.5555555555555556,
              "#d8576b"
             ],
             [
              0.6666666666666666,
              "#ed7953"
             ],
             [
              0.7777777777777778,
              "#fb9f3a"
             ],
             [
              0.8888888888888888,
              "#fdca26"
             ],
             [
              1,
              "#f0f921"
             ]
            ],
            "type": "heatmapgl"
           }
          ],
          "histogram": [
           {
            "marker": {
             "pattern": {
              "fillmode": "overlay",
              "size": 10,
              "solidity": 0.2
             }
            },
            "type": "histogram"
           }
          ],
          "histogram2d": [
           {
            "colorbar": {
             "outlinewidth": 0,
             "ticks": ""
            },
            "colorscale": [
             [
              0,
              "#0d0887"
             ],
             [
              0.1111111111111111,
              "#46039f"
             ],
             [
              0.2222222222222222,
              "#7201a8"
             ],
             [
              0.3333333333333333,
              "#9c179e"
             ],
             [
              0.4444444444444444,
              "#bd3786"
             ],
             [
              0.5555555555555556,
              "#d8576b"
             ],
             [
              0.6666666666666666,
              "#ed7953"
             ],
             [
              0.7777777777777778,
              "#fb9f3a"
             ],
             [
              0.8888888888888888,
              "#fdca26"
             ],
             [
              1,
              "#f0f921"
             ]
            ],
            "type": "histogram2d"
           }
          ],
          "histogram2dcontour": [
           {
            "colorbar": {
             "outlinewidth": 0,
             "ticks": ""
            },
            "colorscale": [
             [
              0,
              "#0d0887"
             ],
             [
              0.1111111111111111,
              "#46039f"
             ],
             [
              0.2222222222222222,
              "#7201a8"
             ],
             [
              0.3333333333333333,
              "#9c179e"
             ],
             [
              0.4444444444444444,
              "#bd3786"
             ],
             [
              0.5555555555555556,
              "#d8576b"
             ],
             [
              0.6666666666666666,
              "#ed7953"
             ],
             [
              0.7777777777777778,
              "#fb9f3a"
             ],
             [
              0.8888888888888888,
              "#fdca26"
             ],
             [
              1,
              "#f0f921"
             ]
            ],
            "type": "histogram2dcontour"
           }
          ],
          "mesh3d": [
           {
            "colorbar": {
             "outlinewidth": 0,
             "ticks": ""
            },
            "type": "mesh3d"
           }
          ],
          "parcoords": [
           {
            "line": {
             "colorbar": {
              "outlinewidth": 0,
              "ticks": ""
             }
            },
            "type": "parcoords"
           }
          ],
          "pie": [
           {
            "automargin": true,
            "type": "pie"
           }
          ],
          "scatter": [
           {
            "fillpattern": {
             "fillmode": "overlay",
             "size": 10,
             "solidity": 0.2
            },
            "type": "scatter"
           }
          ],
          "scatter3d": [
           {
            "line": {
             "colorbar": {
              "outlinewidth": 0,
              "ticks": ""
             }
            },
            "marker": {
             "colorbar": {
              "outlinewidth": 0,
              "ticks": ""
             }
            },
            "type": "scatter3d"
           }
          ],
          "scattercarpet": [
           {
            "marker": {
             "colorbar": {
              "outlinewidth": 0,
              "ticks": ""
             }
            },
            "type": "scattercarpet"
           }
          ],
          "scattergeo": [
           {
            "marker": {
             "colorbar": {
              "outlinewidth": 0,
              "ticks": ""
             }
            },
            "type": "scattergeo"
           }
          ],
          "scattergl": [
           {
            "marker": {
             "colorbar": {
              "outlinewidth": 0,
              "ticks": ""
             }
            },
            "type": "scattergl"
           }
          ],
          "scattermapbox": [
           {
            "marker": {
             "colorbar": {
              "outlinewidth": 0,
              "ticks": ""
             }
            },
            "type": "scattermapbox"
           }
          ],
          "scatterpolar": [
           {
            "marker": {
             "colorbar": {
              "outlinewidth": 0,
              "ticks": ""
             }
            },
            "type": "scatterpolar"
           }
          ],
          "scatterpolargl": [
           {
            "marker": {
             "colorbar": {
              "outlinewidth": 0,
              "ticks": ""
             }
            },
            "type": "scatterpolargl"
           }
          ],
          "scatterternary": [
           {
            "marker": {
             "colorbar": {
              "outlinewidth": 0,
              "ticks": ""
             }
            },
            "type": "scatterternary"
           }
          ],
          "surface": [
           {
            "colorbar": {
             "outlinewidth": 0,
             "ticks": ""
            },
            "colorscale": [
             [
              0,
              "#0d0887"
             ],
             [
              0.1111111111111111,
              "#46039f"
             ],
             [
              0.2222222222222222,
              "#7201a8"
             ],
             [
              0.3333333333333333,
              "#9c179e"
             ],
             [
              0.4444444444444444,
              "#bd3786"
             ],
             [
              0.5555555555555556,
              "#d8576b"
             ],
             [
              0.6666666666666666,
              "#ed7953"
             ],
             [
              0.7777777777777778,
              "#fb9f3a"
             ],
             [
              0.8888888888888888,
              "#fdca26"
             ],
             [
              1,
              "#f0f921"
             ]
            ],
            "type": "surface"
           }
          ],
          "table": [
           {
            "cells": {
             "fill": {
              "color": "#EBF0F8"
             },
             "line": {
              "color": "white"
             }
            },
            "header": {
             "fill": {
              "color": "#C8D4E3"
             },
             "line": {
              "color": "white"
             }
            },
            "type": "table"
           }
          ]
         },
         "layout": {
          "annotationdefaults": {
           "arrowcolor": "#2a3f5f",
           "arrowhead": 0,
           "arrowwidth": 1
          },
          "autotypenumbers": "strict",
          "coloraxis": {
           "colorbar": {
            "outlinewidth": 0,
            "ticks": ""
           }
          },
          "colorscale": {
           "diverging": [
            [
             0,
             "#8e0152"
            ],
            [
             0.1,
             "#c51b7d"
            ],
            [
             0.2,
             "#de77ae"
            ],
            [
             0.3,
             "#f1b6da"
            ],
            [
             0.4,
             "#fde0ef"
            ],
            [
             0.5,
             "#f7f7f7"
            ],
            [
             0.6,
             "#e6f5d0"
            ],
            [
             0.7,
             "#b8e186"
            ],
            [
             0.8,
             "#7fbc41"
            ],
            [
             0.9,
             "#4d9221"
            ],
            [
             1,
             "#276419"
            ]
           ],
           "sequential": [
            [
             0,
             "#0d0887"
            ],
            [
             0.1111111111111111,
             "#46039f"
            ],
            [
             0.2222222222222222,
             "#7201a8"
            ],
            [
             0.3333333333333333,
             "#9c179e"
            ],
            [
             0.4444444444444444,
             "#bd3786"
            ],
            [
             0.5555555555555556,
             "#d8576b"
            ],
            [
             0.6666666666666666,
             "#ed7953"
            ],
            [
             0.7777777777777778,
             "#fb9f3a"
            ],
            [
             0.8888888888888888,
             "#fdca26"
            ],
            [
             1,
             "#f0f921"
            ]
           ],
           "sequentialminus": [
            [
             0,
             "#0d0887"
            ],
            [
             0.1111111111111111,
             "#46039f"
            ],
            [
             0.2222222222222222,
             "#7201a8"
            ],
            [
             0.3333333333333333,
             "#9c179e"
            ],
            [
             0.4444444444444444,
             "#bd3786"
            ],
            [
             0.5555555555555556,
             "#d8576b"
            ],
            [
             0.6666666666666666,
             "#ed7953"
            ],
            [
             0.7777777777777778,
             "#fb9f3a"
            ],
            [
             0.8888888888888888,
             "#fdca26"
            ],
            [
             1,
             "#f0f921"
            ]
           ]
          },
          "colorway": [
           "#636efa",
           "#EF553B",
           "#00cc96",
           "#ab63fa",
           "#FFA15A",
           "#19d3f3",
           "#FF6692",
           "#B6E880",
           "#FF97FF",
           "#FECB52"
          ],
          "font": {
           "color": "#2a3f5f"
          },
          "geo": {
           "bgcolor": "white",
           "lakecolor": "white",
           "landcolor": "#E5ECF6",
           "showlakes": true,
           "showland": true,
           "subunitcolor": "white"
          },
          "hoverlabel": {
           "align": "left"
          },
          "hovermode": "closest",
          "mapbox": {
           "style": "light"
          },
          "paper_bgcolor": "white",
          "plot_bgcolor": "#E5ECF6",
          "polar": {
           "angularaxis": {
            "gridcolor": "white",
            "linecolor": "white",
            "ticks": ""
           },
           "bgcolor": "#E5ECF6",
           "radialaxis": {
            "gridcolor": "white",
            "linecolor": "white",
            "ticks": ""
           }
          },
          "scene": {
           "xaxis": {
            "backgroundcolor": "#E5ECF6",
            "gridcolor": "white",
            "gridwidth": 2,
            "linecolor": "white",
            "showbackground": true,
            "ticks": "",
            "zerolinecolor": "white"
           },
           "yaxis": {
            "backgroundcolor": "#E5ECF6",
            "gridcolor": "white",
            "gridwidth": 2,
            "linecolor": "white",
            "showbackground": true,
            "ticks": "",
            "zerolinecolor": "white"
           },
           "zaxis": {
            "backgroundcolor": "#E5ECF6",
            "gridcolor": "white",
            "gridwidth": 2,
            "linecolor": "white",
            "showbackground": true,
            "ticks": "",
            "zerolinecolor": "white"
           }
          },
          "shapedefaults": {
           "line": {
            "color": "#2a3f5f"
           }
          },
          "ternary": {
           "aaxis": {
            "gridcolor": "white",
            "linecolor": "white",
            "ticks": ""
           },
           "baxis": {
            "gridcolor": "white",
            "linecolor": "white",
            "ticks": ""
           },
           "bgcolor": "#E5ECF6",
           "caxis": {
            "gridcolor": "white",
            "linecolor": "white",
            "ticks": ""
           }
          },
          "title": {
           "x": 0.05
          },
          "xaxis": {
           "automargin": true,
           "gridcolor": "white",
           "linecolor": "white",
           "ticks": "",
           "title": {
            "standoff": 15
           },
           "zerolinecolor": "white",
           "zerolinewidth": 2
          },
          "yaxis": {
           "automargin": true,
           "gridcolor": "white",
           "linecolor": "white",
           "ticks": "",
           "title": {
            "standoff": 15
           },
           "zerolinecolor": "white",
           "zerolinewidth": 2
          }
         }
        },
        "updatemenus": [
         {
          "buttons": [
           {
            "args": [
             {
              "visible": [
               true,
               true,
               false,
               false
              ]
             },
             {
              "title": "Connectivity of most occurring countries"
             }
            ],
            "label": "Most occurring countries",
            "method": "update"
           },
           {
            "args": [
             {
              "visible": [
               false,
               false,
               true,
               true
              ]
             },
             {
              "title": "Connectivity of least occurring countries"
             }
            ],
            "label": "Least occurring countries",
            "method": "update"
           }
          ],
          "direction": "left",
          "pad": {
           "r": 10,
           "t": 10
          },
          "showactive": true,
          "type": "buttons",
          "x": 0.11,
          "xanchor": "left",
          "y": 1.1,
          "yanchor": "middle"
         }
        ]
       }
      }
     },
     "metadata": {},
     "output_type": "display_data"
    }
   ],
   "source": [
    "sorted_data_countries = data_countries.sort_values(by='occurrence', ascending=False).iloc[:8:,]\n",
    "\n",
    "# create bar plot for most occuring countries\n",
    "trace_most_in = go.Bar(x=sorted_data_countries[\"Top_1_name\"], \n",
    "                       y=sorted_data_countries[\"num_links_in\"],\n",
    "                        name=\"in degree\",\n",
    "                        marker_color=\"blue\")\n",
    "\n",
    "trace_most_out = go.Bar(x=sorted_data_countries[\"Top_1_name\"], \n",
    "                       y=sorted_data_countries[\"num_links_out\"],\n",
    "                        name=\"out degree\",\n",
    "                        marker_color=\"red\")\n",
    "\n",
    "\n",
    "# create bar plot for least occuring countries\n",
    "sorted_data_countries = data_countries.sort_values(by='occurrence', ascending=True).iloc[:8:,]\n",
    "\n",
    "trace_least_in = go.Bar(x=sorted_data_countries[\"Top_1_name\"], \n",
    "                       y=sorted_data_countries[\"num_links_in\"],\n",
    "                        name=\"in degree\",\n",
    "                        marker_color=\"blue\")\n",
    "\n",
    "trace_least_out = go.Bar(x=sorted_data_countries[\"Top_1_name\"], \n",
    "                       y=sorted_data_countries[\"num_links_out\"],\n",
    "                        name=\"out degree\",\n",
    "                        marker_color=\"red\")\n",
    "\n",
    "# create figures\n",
    "fig = go.Figure()\n",
    "\n",
    "# add traces\n",
    "fig.add_trace(trace_most_in)\n",
    "fig.add_trace(trace_most_out)\n",
    "fig.add_trace(trace_least_in)\n",
    "fig.add_trace(trace_least_out)\n",
    "\n",
    "\n",
    "# Create buttons to toggle between the two bar charts\n",
    "fig.update_layout(\n",
    "    barmode='stack',\n",
    "    updatemenus=[\n",
    "        dict(\n",
    "            type=\"buttons\",\n",
    "            direction=\"left\",\n",
    "            buttons=[\n",
    "                dict(\n",
    "                    label=\"Most occurring countries\",\n",
    "                    method=\"update\",\n",
    "                    args=[{\"visible\": [True, True, False, False]},  # Show first chart, hide second\n",
    "                          {\"title\": \"Connectivity of most occurring countries\"}]\n",
    "                ),\n",
    "                dict(\n",
    "                    label=\"Least occurring countries\",\n",
    "                    method=\"update\",\n",
    "                    args=[{\"visible\": [False, False, True, True]},  # Hide first chart, show second\n",
    "                          {\"title\": \"Connectivity of least occurring countries\"}]\n",
    "                ),\n",
    "            ],\n",
    "            pad={\"r\": 10, \"t\": 10},\n",
    "            showactive=True,\n",
    "            x=0.11,\n",
    "            xanchor=\"left\",\n",
    "            y=1.1,\n",
    "            yanchor=\"middle\"\n",
    "        ),\n",
    "    ]\n",
    ")\n",
    "\n",
    "# Show the figure\n",
    "fig.show()\n",
    "\n",
    "# Export the figure to an HTML file\n",
    "pio.write_html(fig, file='graphs/topic_1/bar_plot_distribution_of_degrees.html', auto_open=False)"
   ]
  },
  {
   "cell_type": "markdown",
   "metadata": {},
   "source": [
    "We observe that countries that occur more often in Wikipedia (i.e. many articles are associated with those countries), are immensely more connected, so have much more links that lead in and out of them. Those articles are so called \"central hubs\" of the Wikipedia graph. "
   ]
  },
  {
   "cell_type": "markdown",
   "metadata": {},
   "source": [
    "Finally, we can look at the connectivity between the most occurring and least occuring countries! To visulize this we will draw a circle graph!"
   ]
  },
  {
   "cell_type": "code",
   "execution_count": null,
   "metadata": {},
   "outputs": [],
   "source": [
    "sorted_data_countries = data_countries.sort_values(by='occurrence', ascending=False)"
   ]
  },
  {
   "cell_type": "code",
   "execution_count": 127,
   "metadata": {},
   "outputs": [],
   "source": [
    "def draw_circle_graph(df, out_path):\n",
    "    color_map = plt.cm.get_cmap('Reds')\n",
    "\n",
    "    # Normalize the log_counts to [0, 1]\n",
    "    norm = matplotlib.colors.Normalize(vmin=min(df.occurrence.tolist()), vmax=max(df.occurrence.tolist()))\n",
    "    most_colors_hex = [matplotlib.colors.to_hex(color_map(norm(count))) for count in df.occurrence.tolist()]\n",
    "\n",
    "\n",
    "    net = Network(directed=True, \n",
    "                notebook=True, \n",
    "                font_color='#10000000')\n",
    "\n",
    "    # Turn off physics so nodes stay fixed\n",
    "    net.barnes_hut(gravity=-10000,  # Controls the strength of repulsion between nodes\n",
    "                central_gravity=0.01,  # Weak central gravity so nodes spread out\n",
    "                spring_length=300000,  # Increase distance between connected nodes\n",
    "                spring_strength=0.05)  # Adjust spring tightness\n",
    "    net.toggle_physics(False)\n",
    "\n",
    "    # write the title of each node\n",
    "    titles = [f\"country: {df.Top_1_name[i]} \\n articles: {df.occurrence[i]}\" for i in range(len(df))]\n",
    "\n",
    "    # define position of nodes \n",
    "    num_nodes = len(df)\n",
    "\n",
    "    # Define a circular layout for the nodes\n",
    "    radius = 500  # Adjust the radius of the circle\n",
    "    angles = np.linspace(0, 2 * np.pi, num_nodes, endpoint=False)  # Evenly spaced angles\n",
    "    x_positions = radius * np.cos(angles)  # x-coordinates\n",
    "    y_positions = radius * np.sin(angles)  # y-coordinates\n",
    "\n",
    "    net.add_nodes(df.Top_1_name.tolist(), \n",
    "                title=titles, \n",
    "                color=most_colors_hex, \n",
    "                x=x_positions, \n",
    "                y=y_positions)\n",
    "\n",
    "        \n",
    "    # Let's add edges between articles that are connected in Wikipedia\n",
    "    for i in range(len(country_connexions)):\n",
    "        start_country = country_connexions[\"start_country\"][i]\n",
    "        end_country = country_connexions[\"end_country\"][i]\n",
    "        if (start_country in df.Top_1_name.tolist()) and (end_country in df.Top_1_name.tolist()):\n",
    "            net.add_edge(start_country, end_country)\n",
    "\n",
    "    # save to HTML\n",
    "    net.show(out_path)"
   ]
  },
  {
   "cell_type": "code",
   "execution_count": 133,
   "metadata": {},
   "outputs": [
    {
     "name": "stderr",
     "output_type": "stream",
     "text": [
      "C:\\Users\\fricl\\AppData\\Local\\Temp\\ipykernel_13016\\1219461618.py:2: MatplotlibDeprecationWarning:\n",
      "\n",
      "The get_cmap function was deprecated in Matplotlib 3.7 and will be removed in 3.11. Use ``matplotlib.colormaps[name]`` or ``matplotlib.colormaps.get_cmap()`` or ``pyplot.get_cmap()`` instead.\n",
      "\n",
      "C:\\Users\\fricl\\AppData\\Local\\Temp\\ipykernel_13016\\1219461618.py:2: MatplotlibDeprecationWarning:\n",
      "\n",
      "The get_cmap function was deprecated in Matplotlib 3.7 and will be removed in 3.11. Use ``matplotlib.colormaps[name]`` or ``matplotlib.colormaps.get_cmap()`` or ``pyplot.get_cmap()`` instead.\n",
      "\n"
     ]
    },
    {
     "name": "stdout",
     "output_type": "stream",
     "text": [
      "Warning: When  cdn_resources is 'local' jupyter notebook has issues displaying graphics on chrome/safari. Use cdn_resources='in_line' or cdn_resources='remote' if you have issues viewing graphics in a notebook.\n",
      "graphs/topic_1/most_countries_graph_circle.html\n",
      "Warning: When  cdn_resources is 'local' jupyter notebook has issues displaying graphics on chrome/safari. Use cdn_resources='in_line' or cdn_resources='remote' if you have issues viewing graphics in a notebook.\n",
      "graphs/topic_1/least_countries_graph_circle.html\n",
      "Warning: When  cdn_resources is 'local' jupyter notebook has issues displaying graphics on chrome/safari. Use cdn_resources='in_line' or cdn_resources='remote' if you have issues viewing graphics in a notebook.\n",
      "graphs/topic_1/combined_countries_graph_circle.html\n"
     ]
    }
   ],
   "source": [
    "draw_circle_graph(sorted_data_countries.iloc[:10,].reset_index(), \"graphs/topic_1/most_countries_graph_circle.html\")\n",
    "draw_circle_graph(sorted_data_countries.iloc[-10:,].reset_index(), \"graphs/topic_1/least_countries_graph_circle.html\")\n",
    "\n",
    "combined_countries = pd.concat([\n",
    "    sorted_data_countries.iloc[:10,],\n",
    "    sorted_data_countries.iloc[-10:,]\n",
    "]).reset_index(drop=True)\n",
    "\n",
    "draw_circle_graph(combined_countries, \"graphs/topic_1/combined_countries_graph_circle.html\")"
   ]
  }
 ],
 "metadata": {
  "kernelspec": {
   "display_name": "ada",
   "language": "python",
   "name": "python3"
  },
  "language_info": {
   "codemirror_mode": {
    "name": "ipython",
    "version": 3
   },
   "file_extension": ".py",
   "mimetype": "text/x-python",
   "name": "python",
   "nbconvert_exporter": "python",
   "pygments_lexer": "ipython3",
   "version": "3.11.10"
  }
 },
 "nbformat": 4,
 "nbformat_minor": 2
}
