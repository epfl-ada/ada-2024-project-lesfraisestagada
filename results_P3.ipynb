{
 "cells": [
  {
   "cell_type": "markdown",
   "metadata": {},
   "source": [
    "# <span style=\"color:#9689d6\">ADA - Class Project - P3 deliverable</span>\n",
    "\n",
    "## Team: Les Fraises TagADA\n",
    "    Barghorn Jérémy\n",
    "    Friedrich Claire    \n",
    "    Gotti Bryan\n",
    "    Petit-Phar Oriane\n",
    "    Schifferli Théo \n",
    "    "
   ]
  },
  {
   "cell_type": "markdown",
   "metadata": {},
   "source": [
    "# Imports"
   ]
  },
  {
   "cell_type": "code",
   "execution_count": 1,
   "metadata": {},
   "outputs": [],
   "source": [
    "%load_ext autoreload\n",
    "%autoreload 2"
   ]
  },
  {
   "cell_type": "code",
   "execution_count": 44,
   "metadata": {},
   "outputs": [],
   "source": [
    "from src.scripts.article_to_country import *\n",
    "from src.data.dataloader import *\n",
    "from src.utils.plots import *\n",
    "from src.utils.functions import *\n",
    "from src.scripts.graphs import *\n",
    "\n",
    "\n",
    "from itertools import combinations\n",
    "\n",
    "import plotly.express as px\n",
    "from ast import literal_eval\n",
    "\n",
    "\n",
    "import matplotlib\n",
    "import matplotlib.pyplot as plt\n",
    "import pandas as pd\n",
    "import numpy as np\n",
    "\n",
    "from sklearn.preprocessing import MinMaxScaler"
   ]
  },
  {
   "cell_type": "code",
   "execution_count": 3,
   "metadata": {},
   "outputs": [
    {
     "data": {
      "text/plain": [
       "'c:\\\\Users\\\\brygo\\\\Documents\\\\ada-2024-project-lesfraisestagada'"
      ]
     },
     "execution_count": 3,
     "metadata": {},
     "output_type": "execute_result"
    }
   ],
   "source": [
    "project_path = os.getcwd()\n",
    "project_path"
   ]
  },
  {
   "cell_type": "markdown",
   "metadata": {},
   "source": [
    "0. Introduction\n",
    "1. Country classification analysis\n",
    "2. Analysis of the Wikipedia graph \n",
    "3. Analysing Dead-Ends in Wikispeedia\n",
    "4. Naïve analysis of players click count (Players' Behavior Before Balancing)\n",
    "5. Accounting for the influence of the graph structure"
   ]
  },
  {
   "cell_type": "markdown",
   "metadata": {},
   "source": [
    "# 0. Introduction\n",
    "Below you will finde the code to create the two figures presented in the introduction of the data story. The first one is based on the data from [Scimago Journal and Country Rank (SJR)](https://www.scimagojr.com/countryrank.php?year=2007), while the second one is based on our own assignment of articles to different countries, which is explained in details in part 1."
   ]
  },
  {
   "cell_type": "code",
   "execution_count": 4,
   "metadata": {},
   "outputs": [
    {
     "data": {
      "application/vnd.plotly.v1+json": {
       "config": {
        "plotlyServerURL": "https://plot.ly"
       },
       "data": [
        {
         "coloraxis": "coloraxis",
         "customdata": [
          [
           469050,
           "United States"
          ],
          [
           221145,
           "China"
          ],
          [
           129869,
           "United Kingdom"
          ],
          [
           122165,
           "Germany"
          ],
          [
           120028,
           "Japan"
          ],
          [
           86318,
           "France"
          ],
          [
           70991,
           "Canada"
          ],
          [
           69013,
           "Italy"
          ],
          [
           54203,
           "Spain"
          ],
          [
           49684,
           "India"
          ],
          [
           48885,
           "Australia"
          ],
          [
           47437,
           "South Korea"
          ],
          [
           37109,
           "Netherlands"
          ],
          [
           36242,
           "Brazil"
          ],
          [
           35912,
           "Russian Federation"
          ],
          [
           31287,
           "Taiwan"
          ],
          [
           27600,
           "Switzerland"
          ],
          [
           26409,
           "Poland"
          ],
          [
           24930,
           "Sweden"
          ],
          [
           24318,
           "Turkey"
          ],
          [
           20742,
           "Belgium"
          ],
          [
           15387,
           "Israel"
          ],
          [
           15167,
           "Austria"
          ],
          [
           14968,
           "Iran"
          ],
          [
           14446,
           "Greece"
          ],
          [
           13799,
           "Denmark"
          ],
          [
           13394,
           "Finland"
          ],
          [
           13073,
           "Czech Republic"
          ],
          [
           12726,
           "Hong Kong"
          ],
          [
           12613,
           "Mexico"
          ],
          [
           11544,
           "Norway"
          ],
          [
           11013,
           "Singapore"
          ],
          [
           10467,
           "Portugal"
          ],
          [
           9179,
           "New Zealand"
          ],
          [
           8664,
           "South Africa"
          ],
          [
           8200,
           "Hungary"
          ],
          [
           8022,
           "Ireland"
          ],
          [
           7837,
           "Argentina"
          ],
          [
           6867,
           "Ukraine"
          ],
          [
           6655,
           "Romania"
          ],
          [
           6462,
           "Thailand"
          ],
          [
           5839,
           "Egypt"
          ],
          [
           5168,
           "Malaysia"
          ],
          [
           5106,
           "Chile"
          ],
          [
           4480,
           "Croatia"
          ],
          [
           4164,
           "Pakistan"
          ],
          [
           4072,
           "Slovakia"
          ],
          [
           3900,
           "Slovenia"
          ],
          [
           3605,
           "Nigeria"
          ],
          [
           3545,
           "Bulgaria"
          ],
          [
           3004,
           "Tunisia"
          ],
          [
           2824,
           "Saudi Arabia"
          ],
          [
           2585,
           "Serbia"
          ],
          [
           2440,
           "Colombia"
          ],
          [
           2146,
           "Lithuania"
          ],
          [
           2045,
           "Algeria"
          ],
          [
           1973,
           "Venezuela"
          ],
          [
           1784,
           "Cuba"
          ],
          [
           1736,
           "Belarus"
          ],
          [
           1586,
           "Morocco"
          ],
          [
           1551,
           "Jordan"
          ],
          [
           1498,
           "Estonia"
          ],
          [
           1435,
           "United Arab Emirates"
          ],
          [
           1420,
           "Bangladesh"
          ],
          [
           1303,
           "Indonesia"
          ],
          [
           1162,
           "Kenya"
          ],
          [
           1084,
           "Viet Nam"
          ],
          [
           1063,
           "Lebanon"
          ],
          [
           970,
           "Kuwait"
          ],
          [
           889,
           "Philippines"
          ],
          [
           881,
           "Puerto Rico"
          ],
          [
           799,
           "Cyprus"
          ],
          [
           765,
           "Peru"
          ],
          [
           737,
           "Iceland"
          ],
          [
           694,
           "Sri Lanka"
          ],
          [
           688,
           "Latvia"
          ],
          [
           650,
           "Armenia"
          ],
          [
           644,
           "Tanzania"
          ],
          [
           640,
           "Uruguay"
          ],
          [
           628,
           "Oman"
          ],
          [
           602,
           "Cameroon"
          ],
          [
           590,
           "Ethiopia"
          ],
          [
           586,
           "Nepal"
          ],
          [
           559,
           "Georgia"
          ],
          [
           555,
           "Uganda"
          ],
          [
           513,
           "Ghana"
          ],
          [
           502,
           "Azerbaijan"
          ],
          [
           490,
           "Costa Rica"
          ],
          [
           481,
           "Uzbekistan"
          ],
          [
           460,
           "Luxembourg"
          ],
          [
           427,
           "Macedonia"
          ],
          [
           425,
           "Bosnia and Herzegovina"
          ],
          [
           374,
           "Qatar"
          ],
          [
           364,
           "Kazakhstan"
          ],
          [
           352,
           "Zimbabwe"
          ],
          [
           351,
           "Senegal"
          ],
          [
           335,
           "Ecuador"
          ],
          [
           323,
           "Iraq"
          ],
          [
           296,
           "Trinidad and Tobago"
          ],
          [
           279,
           "Sudan"
          ],
          [
           278,
           "Moldova"
          ],
          [
           273,
           "Botswana"
          ],
          [
           272,
           "Panama"
          ],
          [
           266,
           "Macao"
          ],
          [
           260,
           "Syrian Arab Republic"
          ],
          [
           259,
           "Malawi"
          ],
          [
           255,
           "Bahrain"
          ],
          [
           252,
           "Côte d’Ivoire"
          ],
          [
           248,
           "Palestine"
          ],
          [
           243,
           "Burkina Faso"
          ],
          [
           242,
           "Jamaica"
          ],
          [
           222,
           "Bolivia"
          ],
          [
           219,
           "Mongolia"
          ],
          [
           209,
           "Madagascar"
          ],
          [
           201,
           "Benin"
          ],
          [
           185,
           "Zambia"
          ],
          [
           183,
           "Libya"
          ],
          [
           176,
           "Malta"
          ],
          [
           169,
           "Fiji"
          ],
          [
           159,
           "Congo"
          ],
          [
           143,
           "Cambodia"
          ],
          [
           142,
           "Mali"
          ],
          [
           126,
           "New Caledonia"
          ],
          [
           122,
           "Papua New Guinea"
          ],
          [
           112,
           "Namibia"
          ],
          [
           109,
           "Mozambique"
          ],
          [
           99,
           "Yemen"
          ],
          [
           96,
           "Gambia"
          ],
          [
           95,
           "Montenegro"
          ],
          [
           93,
           "Guatemala"
          ],
          [
           93,
           "Mauritius"
          ],
          [
           90,
           "Gabon"
          ],
          [
           81,
           "Guadeloupe"
          ],
          [
           80,
           "Myanmar"
          ],
          [
           80,
           "Albania"
          ],
          [
           80,
           "Barbados"
          ],
          [
           79,
           "Monaco"
          ],
          [
           78,
           "Brunei Darussalam"
          ],
          [
           75,
           "Kyrgyzstan"
          ],
          [
           71,
           "Laos"
          ],
          [
           66,
           "Grenada"
          ],
          [
           64,
           "Togo"
          ],
          [
           63,
           "French Polynesia"
          ],
          [
           63,
           "Niger"
          ],
          [
           62,
           "Nicaragua"
          ],
          [
           61,
           "Paraguay"
          ],
          [
           60,
           "French Guiana"
          ],
          [
           56,
           "Dominican Republic"
          ],
          [
           56,
           "Liechtenstein"
          ],
          [
           55,
           "Tajikistan"
          ],
          [
           55,
           "Rwanda"
          ],
          [
           52,
           "Eritrea"
          ],
          [
           47,
           "Reunion"
          ],
          [
           46,
           "Greenland"
          ],
          [
           39,
           "El Salvador"
          ],
          [
           37,
           "Honduras"
          ],
          [
           36,
           "Seychelles"
          ],
          [
           35,
           "Eswatini"
          ],
          [
           34,
           "Angola"
          ],
          [
           34,
           "Falkland Islands (Malvinas)"
          ],
          [
           34,
           "Guam"
          ],
          [
           31,
           "Bermuda"
          ],
          [
           30,
           "Afghanistan"
          ],
          [
           30,
           "Guyana"
          ],
          [
           30,
           "Guinea"
          ],
          [
           29,
           "Guinea-Bissau"
          ],
          [
           28,
           "Haïti"
          ],
          [
           26,
           "Lesotho"
          ],
          [
           26,
           "Bahamas"
          ],
          [
           26,
           "North Korea"
          ],
          [
           24,
           "Central African Republic"
          ],
          [
           24,
           "Martinique"
          ],
          [
           23,
           "Mauritania"
          ],
          [
           22,
           "Netherlands Antilles"
          ],
          [
           21,
           "Chad"
          ],
          [
           21,
           "Sierra Leone"
          ],
          [
           21,
           "Burundi"
          ],
          [
           19,
           "Federated States of Micronesia"
          ],
          [
           18,
           "Bhutan"
          ],
          [
           18,
           "Suriname"
          ],
          [
           18,
           "Faroe Islands"
          ],
          [
           18,
           "Democratic Republic Congo"
          ],
          [
           16,
           "Palau"
          ],
          [
           15,
           "Andorra"
          ],
          [
           15,
           "Solomon Islands"
          ],
          [
           15,
           "Virgin Islands (British)"
          ],
          [
           14,
           "Maldives"
          ],
          [
           12,
           "San Marino"
          ],
          [
           11,
           "Djibouti"
          ],
          [
           11,
           "Gibraltar"
          ],
          [
           10,
           "Dominica"
          ],
          [
           10,
           "Equatorial Guinea"
          ],
          [
           10,
           "Saint Kitts and Nevis"
          ],
          [
           10,
           "Antigua and Barbuda"
          ],
          [
           9,
           "Samoa"
          ],
          [
           9,
           "Virgin Islands (U.S.)"
          ],
          [
           9,
           "Comoros"
          ],
          [
           9,
           "Turkmenistan"
          ],
          [
           9,
           "Belize"
          ],
          [
           8,
           "Saint Lucia"
          ],
          [
           8,
           "Vanuatu"
          ],
          [
           8,
           "Tonga"
          ],
          [
           8,
           "Liberia"
          ],
          [
           8,
           "Mayotte"
          ],
          [
           7,
           "American Samoa"
          ],
          [
           7,
           "Marshall Islands"
          ],
          [
           7,
           "Kiribati"
          ],
          [
           7,
           "Timor-Leste"
          ],
          [
           6,
           "Cook Islands"
          ],
          [
           6,
           "Cape Verde"
          ],
          [
           6,
           "Cayman Islands"
          ],
          [
           6,
           "Saint Vincent and the Grenadines"
          ],
          [
           5,
           "Montserrat"
          ],
          [
           5,
           "Niue"
          ],
          [
           4,
           "Cocos (Keeling) Islands"
          ],
          [
           4,
           "Northern Mariana Islands"
          ],
          [
           3,
           "Sao Tome and Principe"
          ],
          [
           2,
           "Norfolk Island"
          ],
          [
           2,
           "Turks and Caicos Islands"
          ],
          [
           2,
           "Tuvalu"
          ],
          [
           2,
           "Wallis and Futuna"
          ],
          [
           2,
           "Svalbard and Jan Mayen"
          ],
          [
           1,
           "Saint Pierre and Miquelon"
          ],
          [
           1,
           "British Indian Ocean Territory"
          ],
          [
           1,
           "Aruba"
          ],
          [
           1,
           "United States Minor Outlying Islands"
          ],
          [
           0,
           "Vatican City State"
          ],
          [
           0,
           "Somalia"
          ]
         ],
         "geo": "geo",
         "hoverlabel": {
          "bgcolor": "white",
          "font": {
           "family": "Helvetica Neue",
           "size": 12
          }
         },
         "hovertemplate": "<b>%{hovertext}</b><br><br>Publications=%{z:,.0f}<extra></extra>",
         "hovertext": [
          "United States",
          "China",
          "United Kingdom",
          "Germany",
          "Japan",
          "France",
          "Canada",
          "Italy",
          "Spain",
          "India",
          "Australia",
          "South Korea",
          "Netherlands",
          "Brazil",
          "Russian Federation",
          "Taiwan",
          "Switzerland",
          "Poland",
          "Sweden",
          "Turkey",
          "Belgium",
          "Israel",
          "Austria",
          "Iran",
          "Greece",
          "Denmark",
          "Finland",
          "Czech Republic",
          "Hong Kong",
          "Mexico",
          "Norway",
          "Singapore",
          "Portugal",
          "New Zealand",
          "South Africa",
          "Hungary",
          "Ireland",
          "Argentina",
          "Ukraine",
          "Romania",
          "Thailand",
          "Egypt",
          "Malaysia",
          "Chile",
          "Croatia",
          "Pakistan",
          "Slovakia",
          "Slovenia",
          "Nigeria",
          "Bulgaria",
          "Tunisia",
          "Saudi Arabia",
          "Serbia",
          "Colombia",
          "Lithuania",
          "Algeria",
          "Venezuela",
          "Cuba",
          "Belarus",
          "Morocco",
          "Jordan",
          "Estonia",
          "United Arab Emirates",
          "Bangladesh",
          "Indonesia",
          "Kenya",
          "Viet Nam",
          "Lebanon",
          "Kuwait",
          "Philippines",
          "Puerto Rico",
          "Cyprus",
          "Peru",
          "Iceland",
          "Sri Lanka",
          "Latvia",
          "Armenia",
          "Tanzania",
          "Uruguay",
          "Oman",
          "Cameroon",
          "Ethiopia",
          "Nepal",
          "Georgia",
          "Uganda",
          "Ghana",
          "Azerbaijan",
          "Costa Rica",
          "Uzbekistan",
          "Luxembourg",
          "Macedonia",
          "Bosnia and Herzegovina",
          "Qatar",
          "Kazakhstan",
          "Zimbabwe",
          "Senegal",
          "Ecuador",
          "Iraq",
          "Trinidad and Tobago",
          "Sudan",
          "Moldova",
          "Botswana",
          "Panama",
          "Macao",
          "Syrian Arab Republic",
          "Malawi",
          "Bahrain",
          "Côte d’Ivoire",
          "Palestine",
          "Burkina Faso",
          "Jamaica",
          "Bolivia",
          "Mongolia",
          "Madagascar",
          "Benin",
          "Zambia",
          "Libya",
          "Malta",
          "Fiji",
          "Congo",
          "Cambodia",
          "Mali",
          "New Caledonia",
          "Papua New Guinea",
          "Namibia",
          "Mozambique",
          "Yemen",
          "Gambia",
          "Montenegro",
          "Guatemala",
          "Mauritius",
          "Gabon",
          "Guadeloupe",
          "Myanmar",
          "Albania",
          "Barbados",
          "Monaco",
          "Brunei Darussalam",
          "Kyrgyzstan",
          "Laos",
          "Grenada",
          "Togo",
          "French Polynesia",
          "Niger",
          "Nicaragua",
          "Paraguay",
          "French Guiana",
          "Dominican Republic",
          "Liechtenstein",
          "Tajikistan",
          "Rwanda",
          "Eritrea",
          "Reunion",
          "Greenland",
          "El Salvador",
          "Honduras",
          "Seychelles",
          "Eswatini",
          "Angola",
          "Falkland Islands (Malvinas)",
          "Guam",
          "Bermuda",
          "Afghanistan",
          "Guyana",
          "Guinea",
          "Guinea-Bissau",
          "Haïti",
          "Lesotho",
          "Bahamas",
          "North Korea",
          "Central African Republic",
          "Martinique",
          "Mauritania",
          "Netherlands Antilles",
          "Chad",
          "Sierra Leone",
          "Burundi",
          "Federated States of Micronesia",
          "Bhutan",
          "Suriname",
          "Faroe Islands",
          "Democratic Republic Congo",
          "Palau",
          "Andorra",
          "Solomon Islands",
          "Virgin Islands (British)",
          "Maldives",
          "San Marino",
          "Djibouti",
          "Gibraltar",
          "Dominica",
          "Equatorial Guinea",
          "Saint Kitts and Nevis",
          "Antigua and Barbuda",
          "Samoa",
          "Virgin Islands (U.S.)",
          "Comoros",
          "Turkmenistan",
          "Belize",
          "Saint Lucia",
          "Vanuatu",
          "Tonga",
          "Liberia",
          "Mayotte",
          "American Samoa",
          "Marshall Islands",
          "Kiribati",
          "Timor-Leste",
          "Cook Islands",
          "Cape Verde",
          "Cayman Islands",
          "Saint Vincent and the Grenadines",
          "Montserrat",
          "Niue",
          "Cocos (Keeling) Islands",
          "Northern Mariana Islands",
          "Sao Tome and Principe",
          "Norfolk Island",
          "Turks and Caicos Islands",
          "Tuvalu",
          "Wallis and Futuna",
          "Svalbard and Jan Mayen",
          "Saint Pierre and Miquelon",
          "British Indian Ocean Territory",
          "Aruba",
          "United States Minor Outlying Islands",
          "Vatican City State",
          "Somalia"
         ],
         "locationmode": "country names",
         "locations": [
          "United States",
          "China",
          "United Kingdom",
          "Germany",
          "Japan",
          "France",
          "Canada",
          "Italy",
          "Spain",
          "India",
          "Australia",
          "South Korea",
          "Netherlands",
          "Brazil",
          "Russian Federation",
          "Taiwan",
          "Switzerland",
          "Poland",
          "Sweden",
          "Turkey",
          "Belgium",
          "Israel",
          "Austria",
          "Iran",
          "Greece",
          "Denmark",
          "Finland",
          "Czech Republic",
          "Hong Kong",
          "Mexico",
          "Norway",
          "Singapore",
          "Portugal",
          "New Zealand",
          "South Africa",
          "Hungary",
          "Ireland",
          "Argentina",
          "Ukraine",
          "Romania",
          "Thailand",
          "Egypt",
          "Malaysia",
          "Chile",
          "Croatia",
          "Pakistan",
          "Slovakia",
          "Slovenia",
          "Nigeria",
          "Bulgaria",
          "Tunisia",
          "Saudi Arabia",
          "Serbia",
          "Colombia",
          "Lithuania",
          "Algeria",
          "Venezuela",
          "Cuba",
          "Belarus",
          "Morocco",
          "Jordan",
          "Estonia",
          "United Arab Emirates",
          "Bangladesh",
          "Indonesia",
          "Kenya",
          "Viet Nam",
          "Lebanon",
          "Kuwait",
          "Philippines",
          "Puerto Rico",
          "Cyprus",
          "Peru",
          "Iceland",
          "Sri Lanka",
          "Latvia",
          "Armenia",
          "Tanzania",
          "Uruguay",
          "Oman",
          "Cameroon",
          "Ethiopia",
          "Nepal",
          "Georgia",
          "Uganda",
          "Ghana",
          "Azerbaijan",
          "Costa Rica",
          "Uzbekistan",
          "Luxembourg",
          "Macedonia",
          "Bosnia and Herzegovina",
          "Qatar",
          "Kazakhstan",
          "Zimbabwe",
          "Senegal",
          "Ecuador",
          "Iraq",
          "Trinidad and Tobago",
          "Sudan",
          "Moldova",
          "Botswana",
          "Panama",
          "Macao",
          "Syrian Arab Republic",
          "Malawi",
          "Bahrain",
          "Côte d’Ivoire",
          "Palestine",
          "Burkina Faso",
          "Jamaica",
          "Bolivia",
          "Mongolia",
          "Madagascar",
          "Benin",
          "Zambia",
          "Libya",
          "Malta",
          "Fiji",
          "Congo",
          "Cambodia",
          "Mali",
          "New Caledonia",
          "Papua New Guinea",
          "Namibia",
          "Mozambique",
          "Yemen",
          "Gambia",
          "Montenegro",
          "Guatemala",
          "Mauritius",
          "Gabon",
          "Guadeloupe",
          "Myanmar",
          "Albania",
          "Barbados",
          "Monaco",
          "Brunei Darussalam",
          "Kyrgyzstan",
          "Laos",
          "Grenada",
          "Togo",
          "French Polynesia",
          "Niger",
          "Nicaragua",
          "Paraguay",
          "French Guiana",
          "Dominican Republic",
          "Liechtenstein",
          "Tajikistan",
          "Rwanda",
          "Eritrea",
          "Reunion",
          "Greenland",
          "El Salvador",
          "Honduras",
          "Seychelles",
          "Eswatini",
          "Angola",
          "Falkland Islands (Malvinas)",
          "Guam",
          "Bermuda",
          "Afghanistan",
          "Guyana",
          "Guinea",
          "Guinea-Bissau",
          "Haïti",
          "Lesotho",
          "Bahamas",
          "North Korea",
          "Central African Republic",
          "Martinique",
          "Mauritania",
          "Netherlands Antilles",
          "Chad",
          "Sierra Leone",
          "Burundi",
          "Federated States of Micronesia",
          "Bhutan",
          "Suriname",
          "Faroe Islands",
          "Democratic Republic Congo",
          "Palau",
          "Andorra",
          "Solomon Islands",
          "Virgin Islands (British)",
          "Maldives",
          "San Marino",
          "Djibouti",
          "Gibraltar",
          "Dominica",
          "Equatorial Guinea",
          "Saint Kitts and Nevis",
          "Antigua and Barbuda",
          "Samoa",
          "Virgin Islands (U.S.)",
          "Comoros",
          "Turkmenistan",
          "Belize",
          "Saint Lucia",
          "Vanuatu",
          "Tonga",
          "Liberia",
          "Mayotte",
          "American Samoa",
          "Marshall Islands",
          "Kiribati",
          "Timor-Leste",
          "Cook Islands",
          "Cape Verde",
          "Cayman Islands",
          "Saint Vincent and the Grenadines",
          "Montserrat",
          "Niue",
          "Cocos (Keeling) Islands",
          "Northern Mariana Islands",
          "Sao Tome and Principe",
          "Norfolk Island",
          "Turks and Caicos Islands",
          "Tuvalu",
          "Wallis and Futuna",
          "Svalbard and Jan Mayen",
          "Saint Pierre and Miquelon",
          "British Indian Ocean Territory",
          "Aruba",
          "United States Minor Outlying Islands",
          "Vatican City State",
          "Somalia"
         ],
         "name": "",
         "type": "choropleth",
         "z": [
          469050,
          221145,
          129869,
          122165,
          120028,
          86318,
          70991,
          69013,
          54203,
          49684,
          48885,
          47437,
          37109,
          36242,
          35912,
          31287,
          27600,
          26409,
          24930,
          24318,
          20742,
          15387,
          15167,
          14968,
          14446,
          13799,
          13394,
          13073,
          12726,
          12613,
          11544,
          11013,
          10467,
          9179,
          8664,
          8200,
          8022,
          7837,
          6867,
          6655,
          6462,
          5839,
          5168,
          5106,
          4480,
          4164,
          4072,
          3900,
          3605,
          3545,
          3004,
          2824,
          2585,
          2440,
          2146,
          2045,
          1973,
          1784,
          1736,
          1586,
          1551,
          1498,
          1435,
          1420,
          1303,
          1162,
          1084,
          1063,
          970,
          889,
          881,
          799,
          765,
          737,
          694,
          688,
          650,
          644,
          640,
          628,
          602,
          590,
          586,
          559,
          555,
          513,
          502,
          490,
          481,
          460,
          427,
          425,
          374,
          364,
          352,
          351,
          335,
          323,
          296,
          279,
          278,
          273,
          272,
          266,
          260,
          259,
          255,
          252,
          248,
          243,
          242,
          222,
          219,
          209,
          201,
          185,
          183,
          176,
          169,
          159,
          143,
          142,
          126,
          122,
          112,
          109,
          99,
          96,
          95,
          93,
          93,
          90,
          81,
          80,
          80,
          80,
          79,
          78,
          75,
          71,
          66,
          64,
          63,
          63,
          62,
          61,
          60,
          56,
          56,
          55,
          55,
          52,
          47,
          46,
          39,
          37,
          36,
          35,
          34,
          34,
          34,
          31,
          30,
          30,
          30,
          29,
          28,
          26,
          26,
          26,
          24,
          24,
          23,
          22,
          21,
          21,
          21,
          19,
          18,
          18,
          18,
          18,
          16,
          15,
          15,
          15,
          14,
          12,
          11,
          11,
          10,
          10,
          10,
          10,
          9,
          9,
          9,
          9,
          9,
          8,
          8,
          8,
          8,
          8,
          7,
          7,
          7,
          7,
          6,
          6,
          6,
          6,
          5,
          5,
          4,
          4,
          3,
          2,
          2,
          2,
          2,
          2,
          1,
          1,
          1,
          1,
          0,
          0
         ]
        }
       ],
       "layout": {
        "coloraxis": {
         "colorbar": {
          "title": {
           "text": "Publications"
          }
         },
         "colorscale": [
          [
           0,
           "#0d0887"
          ],
          [
           0.1111111111111111,
           "#46039f"
          ],
          [
           0.2222222222222222,
           "#7201a8"
          ],
          [
           0.3333333333333333,
           "#9c179e"
          ],
          [
           0.4444444444444444,
           "#bd3786"
          ],
          [
           0.5555555555555556,
           "#d8576b"
          ],
          [
           0.6666666666666666,
           "#ed7953"
          ],
          [
           0.7777777777777778,
           "#fb9f3a"
          ],
          [
           0.8888888888888888,
           "#fdca26"
          ],
          [
           1,
           "#f0f921"
          ]
         ]
        },
        "geo": {
         "center": {},
         "domain": {
          "x": [
           0,
           1
          ],
          "y": [
           0,
           1
          ]
         },
         "projection": {
          "type": "equirectangular"
         },
         "showcoastlines": true,
         "showframe": false
        },
        "legend": {
         "tracegroupgap": 0
        },
        "margin": {
         "b": 0,
         "l": 0,
         "r": 0,
         "t": 50
        },
        "template": {
         "data": {
          "bar": [
           {
            "error_x": {
             "color": "#2a3f5f"
            },
            "error_y": {
             "color": "#2a3f5f"
            },
            "marker": {
             "line": {
              "color": "#E5ECF6",
              "width": 0.5
             },
             "pattern": {
              "fillmode": "overlay",
              "size": 10,
              "solidity": 0.2
             }
            },
            "type": "bar"
           }
          ],
          "barpolar": [
           {
            "marker": {
             "line": {
              "color": "#E5ECF6",
              "width": 0.5
             },
             "pattern": {
              "fillmode": "overlay",
              "size": 10,
              "solidity": 0.2
             }
            },
            "type": "barpolar"
           }
          ],
          "carpet": [
           {
            "aaxis": {
             "endlinecolor": "#2a3f5f",
             "gridcolor": "white",
             "linecolor": "white",
             "minorgridcolor": "white",
             "startlinecolor": "#2a3f5f"
            },
            "baxis": {
             "endlinecolor": "#2a3f5f",
             "gridcolor": "white",
             "linecolor": "white",
             "minorgridcolor": "white",
             "startlinecolor": "#2a3f5f"
            },
            "type": "carpet"
           }
          ],
          "choropleth": [
           {
            "colorbar": {
             "outlinewidth": 0,
             "ticks": ""
            },
            "type": "choropleth"
           }
          ],
          "contour": [
           {
            "colorbar": {
             "outlinewidth": 0,
             "ticks": ""
            },
            "colorscale": [
             [
              0,
              "#0d0887"
             ],
             [
              0.1111111111111111,
              "#46039f"
             ],
             [
              0.2222222222222222,
              "#7201a8"
             ],
             [
              0.3333333333333333,
              "#9c179e"
             ],
             [
              0.4444444444444444,
              "#bd3786"
             ],
             [
              0.5555555555555556,
              "#d8576b"
             ],
             [
              0.6666666666666666,
              "#ed7953"
             ],
             [
              0.7777777777777778,
              "#fb9f3a"
             ],
             [
              0.8888888888888888,
              "#fdca26"
             ],
             [
              1,
              "#f0f921"
             ]
            ],
            "type": "contour"
           }
          ],
          "contourcarpet": [
           {
            "colorbar": {
             "outlinewidth": 0,
             "ticks": ""
            },
            "type": "contourcarpet"
           }
          ],
          "heatmap": [
           {
            "colorbar": {
             "outlinewidth": 0,
             "ticks": ""
            },
            "colorscale": [
             [
              0,
              "#0d0887"
             ],
             [
              0.1111111111111111,
              "#46039f"
             ],
             [
              0.2222222222222222,
              "#7201a8"
             ],
             [
              0.3333333333333333,
              "#9c179e"
             ],
             [
              0.4444444444444444,
              "#bd3786"
             ],
             [
              0.5555555555555556,
              "#d8576b"
             ],
             [
              0.6666666666666666,
              "#ed7953"
             ],
             [
              0.7777777777777778,
              "#fb9f3a"
             ],
             [
              0.8888888888888888,
              "#fdca26"
             ],
             [
              1,
              "#f0f921"
             ]
            ],
            "type": "heatmap"
           }
          ],
          "heatmapgl": [
           {
            "colorbar": {
             "outlinewidth": 0,
             "ticks": ""
            },
            "colorscale": [
             [
              0,
              "#0d0887"
             ],
             [
              0.1111111111111111,
              "#46039f"
             ],
             [
              0.2222222222222222,
              "#7201a8"
             ],
             [
              0.3333333333333333,
              "#9c179e"
             ],
             [
              0.4444444444444444,
              "#bd3786"
             ],
             [
              0.5555555555555556,
              "#d8576b"
             ],
             [
              0.6666666666666666,
              "#ed7953"
             ],
             [
              0.7777777777777778,
              "#fb9f3a"
             ],
             [
              0.8888888888888888,
              "#fdca26"
             ],
             [
              1,
              "#f0f921"
             ]
            ],
            "type": "heatmapgl"
           }
          ],
          "histogram": [
           {
            "marker": {
             "pattern": {
              "fillmode": "overlay",
              "size": 10,
              "solidity": 0.2
             }
            },
            "type": "histogram"
           }
          ],
          "histogram2d": [
           {
            "colorbar": {
             "outlinewidth": 0,
             "ticks": ""
            },
            "colorscale": [
             [
              0,
              "#0d0887"
             ],
             [
              0.1111111111111111,
              "#46039f"
             ],
             [
              0.2222222222222222,
              "#7201a8"
             ],
             [
              0.3333333333333333,
              "#9c179e"
             ],
             [
              0.4444444444444444,
              "#bd3786"
             ],
             [
              0.5555555555555556,
              "#d8576b"
             ],
             [
              0.6666666666666666,
              "#ed7953"
             ],
             [
              0.7777777777777778,
              "#fb9f3a"
             ],
             [
              0.8888888888888888,
              "#fdca26"
             ],
             [
              1,
              "#f0f921"
             ]
            ],
            "type": "histogram2d"
           }
          ],
          "histogram2dcontour": [
           {
            "colorbar": {
             "outlinewidth": 0,
             "ticks": ""
            },
            "colorscale": [
             [
              0,
              "#0d0887"
             ],
             [
              0.1111111111111111,
              "#46039f"
             ],
             [
              0.2222222222222222,
              "#7201a8"
             ],
             [
              0.3333333333333333,
              "#9c179e"
             ],
             [
              0.4444444444444444,
              "#bd3786"
             ],
             [
              0.5555555555555556,
              "#d8576b"
             ],
             [
              0.6666666666666666,
              "#ed7953"
             ],
             [
              0.7777777777777778,
              "#fb9f3a"
             ],
             [
              0.8888888888888888,
              "#fdca26"
             ],
             [
              1,
              "#f0f921"
             ]
            ],
            "type": "histogram2dcontour"
           }
          ],
          "mesh3d": [
           {
            "colorbar": {
             "outlinewidth": 0,
             "ticks": ""
            },
            "type": "mesh3d"
           }
          ],
          "parcoords": [
           {
            "line": {
             "colorbar": {
              "outlinewidth": 0,
              "ticks": ""
             }
            },
            "type": "parcoords"
           }
          ],
          "pie": [
           {
            "automargin": true,
            "type": "pie"
           }
          ],
          "scatter": [
           {
            "fillpattern": {
             "fillmode": "overlay",
             "size": 10,
             "solidity": 0.2
            },
            "type": "scatter"
           }
          ],
          "scatter3d": [
           {
            "line": {
             "colorbar": {
              "outlinewidth": 0,
              "ticks": ""
             }
            },
            "marker": {
             "colorbar": {
              "outlinewidth": 0,
              "ticks": ""
             }
            },
            "type": "scatter3d"
           }
          ],
          "scattercarpet": [
           {
            "marker": {
             "colorbar": {
              "outlinewidth": 0,
              "ticks": ""
             }
            },
            "type": "scattercarpet"
           }
          ],
          "scattergeo": [
           {
            "marker": {
             "colorbar": {
              "outlinewidth": 0,
              "ticks": ""
             }
            },
            "type": "scattergeo"
           }
          ],
          "scattergl": [
           {
            "marker": {
             "colorbar": {
              "outlinewidth": 0,
              "ticks": ""
             }
            },
            "type": "scattergl"
           }
          ],
          "scattermapbox": [
           {
            "marker": {
             "colorbar": {
              "outlinewidth": 0,
              "ticks": ""
             }
            },
            "type": "scattermapbox"
           }
          ],
          "scatterpolar": [
           {
            "marker": {
             "colorbar": {
              "outlinewidth": 0,
              "ticks": ""
             }
            },
            "type": "scatterpolar"
           }
          ],
          "scatterpolargl": [
           {
            "marker": {
             "colorbar": {
              "outlinewidth": 0,
              "ticks": ""
             }
            },
            "type": "scatterpolargl"
           }
          ],
          "scatterternary": [
           {
            "marker": {
             "colorbar": {
              "outlinewidth": 0,
              "ticks": ""
             }
            },
            "type": "scatterternary"
           }
          ],
          "surface": [
           {
            "colorbar": {
             "outlinewidth": 0,
             "ticks": ""
            },
            "colorscale": [
             [
              0,
              "#0d0887"
             ],
             [
              0.1111111111111111,
              "#46039f"
             ],
             [
              0.2222222222222222,
              "#7201a8"
             ],
             [
              0.3333333333333333,
              "#9c179e"
             ],
             [
              0.4444444444444444,
              "#bd3786"
             ],
             [
              0.5555555555555556,
              "#d8576b"
             ],
             [
              0.6666666666666666,
              "#ed7953"
             ],
             [
              0.7777777777777778,
              "#fb9f3a"
             ],
             [
              0.8888888888888888,
              "#fdca26"
             ],
             [
              1,
              "#f0f921"
             ]
            ],
            "type": "surface"
           }
          ],
          "table": [
           {
            "cells": {
             "fill": {
              "color": "#EBF0F8"
             },
             "line": {
              "color": "white"
             }
            },
            "header": {
             "fill": {
              "color": "#C8D4E3"
             },
             "line": {
              "color": "white"
             }
            },
            "type": "table"
           }
          ]
         },
         "layout": {
          "annotationdefaults": {
           "arrowcolor": "#2a3f5f",
           "arrowhead": 0,
           "arrowwidth": 1
          },
          "autotypenumbers": "strict",
          "coloraxis": {
           "colorbar": {
            "outlinewidth": 0,
            "ticks": ""
           }
          },
          "colorscale": {
           "diverging": [
            [
             0,
             "#8e0152"
            ],
            [
             0.1,
             "#c51b7d"
            ],
            [
             0.2,
             "#de77ae"
            ],
            [
             0.3,
             "#f1b6da"
            ],
            [
             0.4,
             "#fde0ef"
            ],
            [
             0.5,
             "#f7f7f7"
            ],
            [
             0.6,
             "#e6f5d0"
            ],
            [
             0.7,
             "#b8e186"
            ],
            [
             0.8,
             "#7fbc41"
            ],
            [
             0.9,
             "#4d9221"
            ],
            [
             1,
             "#276419"
            ]
           ],
           "sequential": [
            [
             0,
             "#0d0887"
            ],
            [
             0.1111111111111111,
             "#46039f"
            ],
            [
             0.2222222222222222,
             "#7201a8"
            ],
            [
             0.3333333333333333,
             "#9c179e"
            ],
            [
             0.4444444444444444,
             "#bd3786"
            ],
            [
             0.5555555555555556,
             "#d8576b"
            ],
            [
             0.6666666666666666,
             "#ed7953"
            ],
            [
             0.7777777777777778,
             "#fb9f3a"
            ],
            [
             0.8888888888888888,
             "#fdca26"
            ],
            [
             1,
             "#f0f921"
            ]
           ],
           "sequentialminus": [
            [
             0,
             "#0d0887"
            ],
            [
             0.1111111111111111,
             "#46039f"
            ],
            [
             0.2222222222222222,
             "#7201a8"
            ],
            [
             0.3333333333333333,
             "#9c179e"
            ],
            [
             0.4444444444444444,
             "#bd3786"
            ],
            [
             0.5555555555555556,
             "#d8576b"
            ],
            [
             0.6666666666666666,
             "#ed7953"
            ],
            [
             0.7777777777777778,
             "#fb9f3a"
            ],
            [
             0.8888888888888888,
             "#fdca26"
            ],
            [
             1,
             "#f0f921"
            ]
           ]
          },
          "colorway": [
           "#636efa",
           "#EF553B",
           "#00cc96",
           "#ab63fa",
           "#FFA15A",
           "#19d3f3",
           "#FF6692",
           "#B6E880",
           "#FF97FF",
           "#FECB52"
          ],
          "font": {
           "color": "#2a3f5f"
          },
          "geo": {
           "bgcolor": "white",
           "lakecolor": "white",
           "landcolor": "#E5ECF6",
           "showlakes": true,
           "showland": true,
           "subunitcolor": "white"
          },
          "hoverlabel": {
           "align": "left"
          },
          "hovermode": "closest",
          "mapbox": {
           "style": "light"
          },
          "paper_bgcolor": "white",
          "plot_bgcolor": "#E5ECF6",
          "polar": {
           "angularaxis": {
            "gridcolor": "white",
            "linecolor": "white",
            "ticks": ""
           },
           "bgcolor": "#E5ECF6",
           "radialaxis": {
            "gridcolor": "white",
            "linecolor": "white",
            "ticks": ""
           }
          },
          "scene": {
           "xaxis": {
            "backgroundcolor": "#E5ECF6",
            "gridcolor": "white",
            "gridwidth": 2,
            "linecolor": "white",
            "showbackground": true,
            "ticks": "",
            "zerolinecolor": "white"
           },
           "yaxis": {
            "backgroundcolor": "#E5ECF6",
            "gridcolor": "white",
            "gridwidth": 2,
            "linecolor": "white",
            "showbackground": true,
            "ticks": "",
            "zerolinecolor": "white"
           },
           "zaxis": {
            "backgroundcolor": "#E5ECF6",
            "gridcolor": "white",
            "gridwidth": 2,
            "linecolor": "white",
            "showbackground": true,
            "ticks": "",
            "zerolinecolor": "white"
           }
          },
          "shapedefaults": {
           "line": {
            "color": "#2a3f5f"
           }
          },
          "ternary": {
           "aaxis": {
            "gridcolor": "white",
            "linecolor": "white",
            "ticks": ""
           },
           "baxis": {
            "gridcolor": "white",
            "linecolor": "white",
            "ticks": ""
           },
           "bgcolor": "#E5ECF6",
           "caxis": {
            "gridcolor": "white",
            "linecolor": "white",
            "ticks": ""
           }
          },
          "title": {
           "x": 0.05
          },
          "xaxis": {
           "automargin": true,
           "gridcolor": "white",
           "linecolor": "white",
           "ticks": "",
           "title": {
            "standoff": 15
           },
           "zerolinecolor": "white",
           "zerolinewidth": 2
          },
          "yaxis": {
           "automargin": true,
           "gridcolor": "white",
           "linecolor": "white",
           "ticks": "",
           "title": {
            "standoff": 15
           },
           "zerolinecolor": "white",
           "zerolinewidth": 2
          }
         }
        }
       }
      }
     },
     "metadata": {},
     "output_type": "display_data"
    }
   ],
   "source": [
    "publications_per_country = load_publications_dataframe()\n",
    "fig = plot_color_map(\n",
    "    publications_per_country,\n",
    "    'Publications',\n",
    ")\n",
    "\n",
    "fig.write_html(\"./graphs/intro/publications_intro_map.html\")\n",
    "fig.show()"
   ]
  },
  {
   "cell_type": "code",
   "execution_count": 5,
   "metadata": {},
   "outputs": [
    {
     "data": {
      "application/vnd.plotly.v1+json": {
       "config": {
        "plotlyServerURL": "https://plot.ly"
       },
       "data": [
        {
         "coloraxis": "coloraxis",
         "customdata": [
          [
           10,
           "afghanistan"
          ],
          [
           2,
           "albania"
          ],
          [
           6,
           "algeria"
          ],
          [
           1,
           "andorra"
          ],
          [
           1,
           "angola"
          ],
          [
           1,
           "anguilla"
          ],
          [
           7,
           "antarctica"
          ],
          [
           15,
           "argentina"
          ],
          [
           3,
           "armenia"
          ],
          [
           1,
           "aruba"
          ],
          [
           109,
           "australia"
          ],
          [
           17,
           "austria"
          ],
          [
           2,
           "azerbaijan"
          ],
          [
           5,
           "bahamas"
          ],
          [
           1,
           "bahrain"
          ],
          [
           2,
           "bangladesh"
          ],
          [
           2,
           "barbados"
          ],
          [
           2,
           "belarus"
          ],
          [
           16,
           "belgium"
          ],
          [
           1,
           "belize"
          ],
          [
           3,
           "benin"
          ],
          [
           2,
           "bermuda"
          ],
          [
           1,
           "bhutan"
          ],
          [
           4,
           "bolivia"
          ],
          [
           3,
           "botswana"
          ],
          [
           18,
           "brazil"
          ],
          [
           1,
           "british virgin islands"
          ],
          [
           1,
           "brunei"
          ],
          [
           1,
           "bulgaria"
          ],
          [
           4,
           "burkina faso"
          ],
          [
           1,
           "burundi"
          ],
          [
           3,
           "cambodia"
          ],
          [
           3,
           "cameroon"
          ],
          [
           69,
           "canada"
          ],
          [
           2,
           "cape verde"
          ],
          [
           1,
           "cayman islands"
          ],
          [
           1,
           "central african republic"
          ],
          [
           3,
           "chad"
          ],
          [
           9,
           "chile"
          ],
          [
           85,
           "china"
          ],
          [
           4,
           "colombia"
          ],
          [
           1,
           "comoros"
          ],
          [
           1,
           "cook islands"
          ],
          [
           1,
           "costa rica"
          ],
          [
           1,
           "croatia"
          ],
          [
           3,
           "cuba"
          ],
          [
           2,
           "cyprus"
          ],
          [
           21,
           "denmark"
          ],
          [
           1,
           "djibouti"
          ],
          [
           2,
           "dominica"
          ],
          [
           4,
           "ecuador"
          ],
          [
           29,
           "egypt"
          ],
          [
           1,
           "el salvador"
          ],
          [
           1,
           "eritrea"
          ],
          [
           3,
           "estonia"
          ],
          [
           14,
           "ethiopia"
          ],
          [
           2,
           "falkland islands"
          ],
          [
           1,
           "fiji"
          ],
          [
           7,
           "finland"
          ],
          [
           107,
           "france"
          ],
          [
           1,
           "french polynesia"
          ],
          [
           2,
           "gabon"
          ],
          [
           2,
           "gambia"
          ],
          [
           6,
           "georgia"
          ],
          [
           106,
           "germany"
          ],
          [
           4,
           "ghana"
          ],
          [
           2,
           "gibraltar"
          ],
          [
           56,
           "greece"
          ],
          [
           2,
           "greenland"
          ],
          [
           3,
           "grenada"
          ],
          [
           1,
           "guadeloupe"
          ],
          [
           1,
           "guam"
          ],
          [
           2,
           "guatemala"
          ],
          [
           2,
           "guernsey"
          ],
          [
           1,
           "guinea"
          ],
          [
           2,
           "guyana"
          ],
          [
           1,
           "haiti"
          ],
          [
           3,
           "honduras"
          ],
          [
           9,
           "hungary"
          ],
          [
           9,
           "iceland"
          ],
          [
           91,
           "india"
          ],
          [
           17,
           "indonesia"
          ],
          [
           18,
           "iran"
          ],
          [
           14,
           "iraq"
          ],
          [
           41,
           "ireland"
          ],
          [
           2,
           "isle of man"
          ],
          [
           20,
           "israel"
          ],
          [
           103,
           "italy"
          ],
          [
           4,
           "jamaica"
          ],
          [
           58,
           "japan"
          ],
          [
           3,
           "jersey"
          ],
          [
           4,
           "jordan"
          ],
          [
           4,
           "kazakhstan"
          ],
          [
           7,
           "kenya"
          ],
          [
           2,
           "kiribati"
          ],
          [
           2,
           "kuwait"
          ],
          [
           2,
           "kyrgyzstan"
          ],
          [
           1,
           "laos"
          ],
          [
           1,
           "latvia"
          ],
          [
           3,
           "lebanon"
          ],
          [
           3,
           "lesotho"
          ],
          [
           3,
           "liberia"
          ],
          [
           2,
           "libya"
          ],
          [
           1,
           "liechtenstein"
          ],
          [
           1,
           "lithuania"
          ],
          [
           4,
           "luxembourg"
          ],
          [
           6,
           "madagascar"
          ],
          [
           4,
           "malawi"
          ],
          [
           10,
           "malaysia"
          ],
          [
           1,
           "maldives"
          ],
          [
           3,
           "mali"
          ],
          [
           1,
           "malta"
          ],
          [
           1,
           "marshall islands"
          ],
          [
           2,
           "martinique"
          ],
          [
           2,
           "mauritania"
          ],
          [
           4,
           "mauritius"
          ],
          [
           27,
           "mexico"
          ],
          [
           1,
           "micronesia"
          ],
          [
           2,
           "moldova"
          ],
          [
           3,
           "monaco"
          ],
          [
           9,
           "mongolia"
          ],
          [
           1,
           "montenegro"
          ],
          [
           1,
           "montserrat"
          ],
          [
           12,
           "morocco"
          ],
          [
           3,
           "mozambique"
          ],
          [
           1,
           "namibia"
          ],
          [
           1,
           "nauru"
          ],
          [
           7,
           "nepal"
          ],
          [
           29,
           "netherlands"
          ],
          [
           21,
           "new zealand"
          ],
          [
           1,
           "nicaragua"
          ],
          [
           1,
           "niger"
          ],
          [
           1,
           "niue"
          ],
          [
           3,
           "north korea"
          ],
          [
           1,
           "northern mariana islands"
          ],
          [
           19,
           "norway"
          ],
          [
           3,
           "oman"
          ],
          [
           15,
           "pakistan"
          ],
          [
           1,
           "palau"
          ],
          [
           3,
           "panama"
          ],
          [
           2,
           "paraguay"
          ],
          [
           11,
           "peru"
          ],
          [
           12,
           "philippines"
          ],
          [
           1,
           "pitcairn islands"
          ],
          [
           26,
           "poland"
          ],
          [
           10,
           "portugal"
          ],
          [
           6,
           "puerto rico"
          ],
          [
           3,
           "qatar"
          ],
          [
           68,
           "russia"
          ],
          [
           6,
           "rwanda"
          ],
          [
           1,
           "samoa"
          ],
          [
           1,
           "san marino"
          ],
          [
           7,
           "saudi arabia"
          ],
          [
           2,
           "senegal"
          ],
          [
           6,
           "serbia"
          ],
          [
           2,
           "seychelles"
          ],
          [
           2,
           "sierra leone"
          ],
          [
           4,
           "singapore"
          ],
          [
           3,
           "slovakia"
          ],
          [
           1,
           "slovenia"
          ],
          [
           5,
           "solomon islands"
          ],
          [
           38,
           "south africa"
          ],
          [
           3,
           "south korea"
          ],
          [
           29,
           "spain"
          ],
          [
           4,
           "sri lanka"
          ],
          [
           6,
           "sudan"
          ],
          [
           2,
           "suriname"
          ],
          [
           13,
           "sweden"
          ],
          [
           20,
           "switzerland"
          ],
          [
           5,
           "syria"
          ],
          [
           3,
           "taiwan"
          ],
          [
           1,
           "tajikistan"
          ],
          [
           4,
           "tanzania"
          ],
          [
           4,
           "thailand"
          ],
          [
           1,
           "timor-leste"
          ],
          [
           2,
           "togo"
          ],
          [
           1,
           "tonga"
          ],
          [
           2,
           "tunisia"
          ],
          [
           15,
           "turkey"
          ],
          [
           1,
           "turkmenistan"
          ],
          [
           1,
           "tuvalu"
          ],
          [
           8,
           "uganda"
          ],
          [
           7,
           "ukraine"
          ],
          [
           4,
           "united arab emirates"
          ],
          [
           203,
           "united kingdom"
          ],
          [
           555,
           "united states"
          ],
          [
           2,
           "uruguay"
          ],
          [
           6,
           "uzbekistan"
          ],
          [
           1,
           "vanuatu"
          ],
          [
           1,
           "vatican city"
          ],
          [
           5,
           "venezuela"
          ],
          [
           6,
           "vietnam"
          ],
          [
           1,
           "yemen"
          ],
          [
           6,
           "zambia"
          ],
          [
           2,
           "zimbabwe"
          ]
         ],
         "geo": "geo",
         "hoverlabel": {
          "bgcolor": "white",
          "font": {
           "family": "Helvetica Neue",
           "size": 12
          }
         },
         "hovertemplate": "<b>%{hovertext}</b><br><br>Articles=%{z:,.0f}<extra></extra>",
         "hovertext": [
          "afghanistan",
          "albania",
          "algeria",
          "andorra",
          "angola",
          "anguilla",
          "antarctica",
          "argentina",
          "armenia",
          "aruba",
          "australia",
          "austria",
          "azerbaijan",
          "bahamas",
          "bahrain",
          "bangladesh",
          "barbados",
          "belarus",
          "belgium",
          "belize",
          "benin",
          "bermuda",
          "bhutan",
          "bolivia",
          "botswana",
          "brazil",
          "british virgin islands",
          "brunei",
          "bulgaria",
          "burkina faso",
          "burundi",
          "cambodia",
          "cameroon",
          "canada",
          "cape verde",
          "cayman islands",
          "central african republic",
          "chad",
          "chile",
          "china",
          "colombia",
          "comoros",
          "cook islands",
          "costa rica",
          "croatia",
          "cuba",
          "cyprus",
          "denmark",
          "djibouti",
          "dominica",
          "ecuador",
          "egypt",
          "el salvador",
          "eritrea",
          "estonia",
          "ethiopia",
          "falkland islands",
          "fiji",
          "finland",
          "france",
          "french polynesia",
          "gabon",
          "gambia",
          "georgia",
          "germany",
          "ghana",
          "gibraltar",
          "greece",
          "greenland",
          "grenada",
          "guadeloupe",
          "guam",
          "guatemala",
          "guernsey",
          "guinea",
          "guyana",
          "haiti",
          "honduras",
          "hungary",
          "iceland",
          "india",
          "indonesia",
          "iran",
          "iraq",
          "ireland",
          "isle of man",
          "israel",
          "italy",
          "jamaica",
          "japan",
          "jersey",
          "jordan",
          "kazakhstan",
          "kenya",
          "kiribati",
          "kuwait",
          "kyrgyzstan",
          "laos",
          "latvia",
          "lebanon",
          "lesotho",
          "liberia",
          "libya",
          "liechtenstein",
          "lithuania",
          "luxembourg",
          "madagascar",
          "malawi",
          "malaysia",
          "maldives",
          "mali",
          "malta",
          "marshall islands",
          "martinique",
          "mauritania",
          "mauritius",
          "mexico",
          "micronesia",
          "moldova",
          "monaco",
          "mongolia",
          "montenegro",
          "montserrat",
          "morocco",
          "mozambique",
          "namibia",
          "nauru",
          "nepal",
          "netherlands",
          "new zealand",
          "nicaragua",
          "niger",
          "niue",
          "north korea",
          "northern mariana islands",
          "norway",
          "oman",
          "pakistan",
          "palau",
          "panama",
          "paraguay",
          "peru",
          "philippines",
          "pitcairn islands",
          "poland",
          "portugal",
          "puerto rico",
          "qatar",
          "russia",
          "rwanda",
          "samoa",
          "san marino",
          "saudi arabia",
          "senegal",
          "serbia",
          "seychelles",
          "sierra leone",
          "singapore",
          "slovakia",
          "slovenia",
          "solomon islands",
          "south africa",
          "south korea",
          "spain",
          "sri lanka",
          "sudan",
          "suriname",
          "sweden",
          "switzerland",
          "syria",
          "taiwan",
          "tajikistan",
          "tanzania",
          "thailand",
          "timor-leste",
          "togo",
          "tonga",
          "tunisia",
          "turkey",
          "turkmenistan",
          "tuvalu",
          "uganda",
          "ukraine",
          "united arab emirates",
          "united kingdom",
          "united states",
          "uruguay",
          "uzbekistan",
          "vanuatu",
          "vatican city",
          "venezuela",
          "vietnam",
          "yemen",
          "zambia",
          "zimbabwe"
         ],
         "locationmode": "country names",
         "locations": [
          "afghanistan",
          "albania",
          "algeria",
          "andorra",
          "angola",
          "anguilla",
          "antarctica",
          "argentina",
          "armenia",
          "aruba",
          "australia",
          "austria",
          "azerbaijan",
          "bahamas",
          "bahrain",
          "bangladesh",
          "barbados",
          "belarus",
          "belgium",
          "belize",
          "benin",
          "bermuda",
          "bhutan",
          "bolivia",
          "botswana",
          "brazil",
          "british virgin islands",
          "brunei",
          "bulgaria",
          "burkina faso",
          "burundi",
          "cambodia",
          "cameroon",
          "canada",
          "cape verde",
          "cayman islands",
          "central african republic",
          "chad",
          "chile",
          "china",
          "colombia",
          "comoros",
          "cook islands",
          "costa rica",
          "croatia",
          "cuba",
          "cyprus",
          "denmark",
          "djibouti",
          "dominica",
          "ecuador",
          "egypt",
          "el salvador",
          "eritrea",
          "estonia",
          "ethiopia",
          "falkland islands",
          "fiji",
          "finland",
          "france",
          "french polynesia",
          "gabon",
          "gambia",
          "georgia",
          "germany",
          "ghana",
          "gibraltar",
          "greece",
          "greenland",
          "grenada",
          "guadeloupe",
          "guam",
          "guatemala",
          "guernsey",
          "guinea",
          "guyana",
          "haiti",
          "honduras",
          "hungary",
          "iceland",
          "india",
          "indonesia",
          "iran",
          "iraq",
          "ireland",
          "isle of man",
          "israel",
          "italy",
          "jamaica",
          "japan",
          "jersey",
          "jordan",
          "kazakhstan",
          "kenya",
          "kiribati",
          "kuwait",
          "kyrgyzstan",
          "laos",
          "latvia",
          "lebanon",
          "lesotho",
          "liberia",
          "libya",
          "liechtenstein",
          "lithuania",
          "luxembourg",
          "madagascar",
          "malawi",
          "malaysia",
          "maldives",
          "mali",
          "malta",
          "marshall islands",
          "martinique",
          "mauritania",
          "mauritius",
          "mexico",
          "micronesia",
          "moldova",
          "monaco",
          "mongolia",
          "montenegro",
          "montserrat",
          "morocco",
          "mozambique",
          "namibia",
          "nauru",
          "nepal",
          "netherlands",
          "new zealand",
          "nicaragua",
          "niger",
          "niue",
          "north korea",
          "northern mariana islands",
          "norway",
          "oman",
          "pakistan",
          "palau",
          "panama",
          "paraguay",
          "peru",
          "philippines",
          "pitcairn islands",
          "poland",
          "portugal",
          "puerto rico",
          "qatar",
          "russia",
          "rwanda",
          "samoa",
          "san marino",
          "saudi arabia",
          "senegal",
          "serbia",
          "seychelles",
          "sierra leone",
          "singapore",
          "slovakia",
          "slovenia",
          "solomon islands",
          "south africa",
          "south korea",
          "spain",
          "sri lanka",
          "sudan",
          "suriname",
          "sweden",
          "switzerland",
          "syria",
          "taiwan",
          "tajikistan",
          "tanzania",
          "thailand",
          "timor-leste",
          "togo",
          "tonga",
          "tunisia",
          "turkey",
          "turkmenistan",
          "tuvalu",
          "uganda",
          "ukraine",
          "united arab emirates",
          "united kingdom",
          "united states",
          "uruguay",
          "uzbekistan",
          "vanuatu",
          "vatican city",
          "venezuela",
          "vietnam",
          "yemen",
          "zambia",
          "zimbabwe"
         ],
         "name": "",
         "type": "choropleth",
         "z": [
          10,
          2,
          6,
          1,
          1,
          1,
          7,
          15,
          3,
          1,
          109,
          17,
          2,
          5,
          1,
          2,
          2,
          2,
          16,
          1,
          3,
          2,
          1,
          4,
          3,
          18,
          1,
          1,
          1,
          4,
          1,
          3,
          3,
          69,
          2,
          1,
          1,
          3,
          9,
          85,
          4,
          1,
          1,
          1,
          1,
          3,
          2,
          21,
          1,
          2,
          4,
          29,
          1,
          1,
          3,
          14,
          2,
          1,
          7,
          107,
          1,
          2,
          2,
          6,
          106,
          4,
          2,
          56,
          2,
          3,
          1,
          1,
          2,
          2,
          1,
          2,
          1,
          3,
          9,
          9,
          91,
          17,
          18,
          14,
          41,
          2,
          20,
          103,
          4,
          58,
          3,
          4,
          4,
          7,
          2,
          2,
          2,
          1,
          1,
          3,
          3,
          3,
          2,
          1,
          1,
          4,
          6,
          4,
          10,
          1,
          3,
          1,
          1,
          2,
          2,
          4,
          27,
          1,
          2,
          3,
          9,
          1,
          1,
          12,
          3,
          1,
          1,
          7,
          29,
          21,
          1,
          1,
          1,
          3,
          1,
          19,
          3,
          15,
          1,
          3,
          2,
          11,
          12,
          1,
          26,
          10,
          6,
          3,
          68,
          6,
          1,
          1,
          7,
          2,
          6,
          2,
          2,
          4,
          3,
          1,
          5,
          38,
          3,
          29,
          4,
          6,
          2,
          13,
          20,
          5,
          3,
          1,
          4,
          4,
          1,
          2,
          1,
          2,
          15,
          1,
          1,
          8,
          7,
          4,
          203,
          555,
          2,
          6,
          1,
          1,
          5,
          6,
          1,
          6,
          2
         ]
        }
       ],
       "layout": {
        "coloraxis": {
         "colorbar": {
          "title": {
           "text": "Articles"
          }
         },
         "colorscale": [
          [
           0,
           "#0d0887"
          ],
          [
           0.1111111111111111,
           "#46039f"
          ],
          [
           0.2222222222222222,
           "#7201a8"
          ],
          [
           0.3333333333333333,
           "#9c179e"
          ],
          [
           0.4444444444444444,
           "#bd3786"
          ],
          [
           0.5555555555555556,
           "#d8576b"
          ],
          [
           0.6666666666666666,
           "#ed7953"
          ],
          [
           0.7777777777777778,
           "#fb9f3a"
          ],
          [
           0.8888888888888888,
           "#fdca26"
          ],
          [
           1,
           "#f0f921"
          ]
         ]
        },
        "geo": {
         "center": {},
         "domain": {
          "x": [
           0,
           1
          ],
          "y": [
           0,
           1
          ]
         },
         "projection": {
          "type": "equirectangular"
         },
         "showcoastlines": true,
         "showframe": false
        },
        "legend": {
         "tracegroupgap": 0
        },
        "margin": {
         "b": 0,
         "l": 0,
         "r": 0,
         "t": 50
        },
        "template": {
         "data": {
          "bar": [
           {
            "error_x": {
             "color": "#2a3f5f"
            },
            "error_y": {
             "color": "#2a3f5f"
            },
            "marker": {
             "line": {
              "color": "#E5ECF6",
              "width": 0.5
             },
             "pattern": {
              "fillmode": "overlay",
              "size": 10,
              "solidity": 0.2
             }
            },
            "type": "bar"
           }
          ],
          "barpolar": [
           {
            "marker": {
             "line": {
              "color": "#E5ECF6",
              "width": 0.5
             },
             "pattern": {
              "fillmode": "overlay",
              "size": 10,
              "solidity": 0.2
             }
            },
            "type": "barpolar"
           }
          ],
          "carpet": [
           {
            "aaxis": {
             "endlinecolor": "#2a3f5f",
             "gridcolor": "white",
             "linecolor": "white",
             "minorgridcolor": "white",
             "startlinecolor": "#2a3f5f"
            },
            "baxis": {
             "endlinecolor": "#2a3f5f",
             "gridcolor": "white",
             "linecolor": "white",
             "minorgridcolor": "white",
             "startlinecolor": "#2a3f5f"
            },
            "type": "carpet"
           }
          ],
          "choropleth": [
           {
            "colorbar": {
             "outlinewidth": 0,
             "ticks": ""
            },
            "type": "choropleth"
           }
          ],
          "contour": [
           {
            "colorbar": {
             "outlinewidth": 0,
             "ticks": ""
            },
            "colorscale": [
             [
              0,
              "#0d0887"
             ],
             [
              0.1111111111111111,
              "#46039f"
             ],
             [
              0.2222222222222222,
              "#7201a8"
             ],
             [
              0.3333333333333333,
              "#9c179e"
             ],
             [
              0.4444444444444444,
              "#bd3786"
             ],
             [
              0.5555555555555556,
              "#d8576b"
             ],
             [
              0.6666666666666666,
              "#ed7953"
             ],
             [
              0.7777777777777778,
              "#fb9f3a"
             ],
             [
              0.8888888888888888,
              "#fdca26"
             ],
             [
              1,
              "#f0f921"
             ]
            ],
            "type": "contour"
           }
          ],
          "contourcarpet": [
           {
            "colorbar": {
             "outlinewidth": 0,
             "ticks": ""
            },
            "type": "contourcarpet"
           }
          ],
          "heatmap": [
           {
            "colorbar": {
             "outlinewidth": 0,
             "ticks": ""
            },
            "colorscale": [
             [
              0,
              "#0d0887"
             ],
             [
              0.1111111111111111,
              "#46039f"
             ],
             [
              0.2222222222222222,
              "#7201a8"
             ],
             [
              0.3333333333333333,
              "#9c179e"
             ],
             [
              0.4444444444444444,
              "#bd3786"
             ],
             [
              0.5555555555555556,
              "#d8576b"
             ],
             [
              0.6666666666666666,
              "#ed7953"
             ],
             [
              0.7777777777777778,
              "#fb9f3a"
             ],
             [
              0.8888888888888888,
              "#fdca26"
             ],
             [
              1,
              "#f0f921"
             ]
            ],
            "type": "heatmap"
           }
          ],
          "heatmapgl": [
           {
            "colorbar": {
             "outlinewidth": 0,
             "ticks": ""
            },
            "colorscale": [
             [
              0,
              "#0d0887"
             ],
             [
              0.1111111111111111,
              "#46039f"
             ],
             [
              0.2222222222222222,
              "#7201a8"
             ],
             [
              0.3333333333333333,
              "#9c179e"
             ],
             [
              0.4444444444444444,
              "#bd3786"
             ],
             [
              0.5555555555555556,
              "#d8576b"
             ],
             [
              0.6666666666666666,
              "#ed7953"
             ],
             [
              0.7777777777777778,
              "#fb9f3a"
             ],
             [
              0.8888888888888888,
              "#fdca26"
             ],
             [
              1,
              "#f0f921"
             ]
            ],
            "type": "heatmapgl"
           }
          ],
          "histogram": [
           {
            "marker": {
             "pattern": {
              "fillmode": "overlay",
              "size": 10,
              "solidity": 0.2
             }
            },
            "type": "histogram"
           }
          ],
          "histogram2d": [
           {
            "colorbar": {
             "outlinewidth": 0,
             "ticks": ""
            },
            "colorscale": [
             [
              0,
              "#0d0887"
             ],
             [
              0.1111111111111111,
              "#46039f"
             ],
             [
              0.2222222222222222,
              "#7201a8"
             ],
             [
              0.3333333333333333,
              "#9c179e"
             ],
             [
              0.4444444444444444,
              "#bd3786"
             ],
             [
              0.5555555555555556,
              "#d8576b"
             ],
             [
              0.6666666666666666,
              "#ed7953"
             ],
             [
              0.7777777777777778,
              "#fb9f3a"
             ],
             [
              0.8888888888888888,
              "#fdca26"
             ],
             [
              1,
              "#f0f921"
             ]
            ],
            "type": "histogram2d"
           }
          ],
          "histogram2dcontour": [
           {
            "colorbar": {
             "outlinewidth": 0,
             "ticks": ""
            },
            "colorscale": [
             [
              0,
              "#0d0887"
             ],
             [
              0.1111111111111111,
              "#46039f"
             ],
             [
              0.2222222222222222,
              "#7201a8"
             ],
             [
              0.3333333333333333,
              "#9c179e"
             ],
             [
              0.4444444444444444,
              "#bd3786"
             ],
             [
              0.5555555555555556,
              "#d8576b"
             ],
             [
              0.6666666666666666,
              "#ed7953"
             ],
             [
              0.7777777777777778,
              "#fb9f3a"
             ],
             [
              0.8888888888888888,
              "#fdca26"
             ],
             [
              1,
              "#f0f921"
             ]
            ],
            "type": "histogram2dcontour"
           }
          ],
          "mesh3d": [
           {
            "colorbar": {
             "outlinewidth": 0,
             "ticks": ""
            },
            "type": "mesh3d"
           }
          ],
          "parcoords": [
           {
            "line": {
             "colorbar": {
              "outlinewidth": 0,
              "ticks": ""
             }
            },
            "type": "parcoords"
           }
          ],
          "pie": [
           {
            "automargin": true,
            "type": "pie"
           }
          ],
          "scatter": [
           {
            "fillpattern": {
             "fillmode": "overlay",
             "size": 10,
             "solidity": 0.2
            },
            "type": "scatter"
           }
          ],
          "scatter3d": [
           {
            "line": {
             "colorbar": {
              "outlinewidth": 0,
              "ticks": ""
             }
            },
            "marker": {
             "colorbar": {
              "outlinewidth": 0,
              "ticks": ""
             }
            },
            "type": "scatter3d"
           }
          ],
          "scattercarpet": [
           {
            "marker": {
             "colorbar": {
              "outlinewidth": 0,
              "ticks": ""
             }
            },
            "type": "scattercarpet"
           }
          ],
          "scattergeo": [
           {
            "marker": {
             "colorbar": {
              "outlinewidth": 0,
              "ticks": ""
             }
            },
            "type": "scattergeo"
           }
          ],
          "scattergl": [
           {
            "marker": {
             "colorbar": {
              "outlinewidth": 0,
              "ticks": ""
             }
            },
            "type": "scattergl"
           }
          ],
          "scattermapbox": [
           {
            "marker": {
             "colorbar": {
              "outlinewidth": 0,
              "ticks": ""
             }
            },
            "type": "scattermapbox"
           }
          ],
          "scatterpolar": [
           {
            "marker": {
             "colorbar": {
              "outlinewidth": 0,
              "ticks": ""
             }
            },
            "type": "scatterpolar"
           }
          ],
          "scatterpolargl": [
           {
            "marker": {
             "colorbar": {
              "outlinewidth": 0,
              "ticks": ""
             }
            },
            "type": "scatterpolargl"
           }
          ],
          "scatterternary": [
           {
            "marker": {
             "colorbar": {
              "outlinewidth": 0,
              "ticks": ""
             }
            },
            "type": "scatterternary"
           }
          ],
          "surface": [
           {
            "colorbar": {
             "outlinewidth": 0,
             "ticks": ""
            },
            "colorscale": [
             [
              0,
              "#0d0887"
             ],
             [
              0.1111111111111111,
              "#46039f"
             ],
             [
              0.2222222222222222,
              "#7201a8"
             ],
             [
              0.3333333333333333,
              "#9c179e"
             ],
             [
              0.4444444444444444,
              "#bd3786"
             ],
             [
              0.5555555555555556,
              "#d8576b"
             ],
             [
              0.6666666666666666,
              "#ed7953"
             ],
             [
              0.7777777777777778,
              "#fb9f3a"
             ],
             [
              0.8888888888888888,
              "#fdca26"
             ],
             [
              1,
              "#f0f921"
             ]
            ],
            "type": "surface"
           }
          ],
          "table": [
           {
            "cells": {
             "fill": {
              "color": "#EBF0F8"
             },
             "line": {
              "color": "white"
             }
            },
            "header": {
             "fill": {
              "color": "#C8D4E3"
             },
             "line": {
              "color": "white"
             }
            },
            "type": "table"
           }
          ]
         },
         "layout": {
          "annotationdefaults": {
           "arrowcolor": "#2a3f5f",
           "arrowhead": 0,
           "arrowwidth": 1
          },
          "autotypenumbers": "strict",
          "coloraxis": {
           "colorbar": {
            "outlinewidth": 0,
            "ticks": ""
           }
          },
          "colorscale": {
           "diverging": [
            [
             0,
             "#8e0152"
            ],
            [
             0.1,
             "#c51b7d"
            ],
            [
             0.2,
             "#de77ae"
            ],
            [
             0.3,
             "#f1b6da"
            ],
            [
             0.4,
             "#fde0ef"
            ],
            [
             0.5,
             "#f7f7f7"
            ],
            [
             0.6,
             "#e6f5d0"
            ],
            [
             0.7,
             "#b8e186"
            ],
            [
             0.8,
             "#7fbc41"
            ],
            [
             0.9,
             "#4d9221"
            ],
            [
             1,
             "#276419"
            ]
           ],
           "sequential": [
            [
             0,
             "#0d0887"
            ],
            [
             0.1111111111111111,
             "#46039f"
            ],
            [
             0.2222222222222222,
             "#7201a8"
            ],
            [
             0.3333333333333333,
             "#9c179e"
            ],
            [
             0.4444444444444444,
             "#bd3786"
            ],
            [
             0.5555555555555556,
             "#d8576b"
            ],
            [
             0.6666666666666666,
             "#ed7953"
            ],
            [
             0.7777777777777778,
             "#fb9f3a"
            ],
            [
             0.8888888888888888,
             "#fdca26"
            ],
            [
             1,
             "#f0f921"
            ]
           ],
           "sequentialminus": [
            [
             0,
             "#0d0887"
            ],
            [
             0.1111111111111111,
             "#46039f"
            ],
            [
             0.2222222222222222,
             "#7201a8"
            ],
            [
             0.3333333333333333,
             "#9c179e"
            ],
            [
             0.4444444444444444,
             "#bd3786"
            ],
            [
             0.5555555555555556,
             "#d8576b"
            ],
            [
             0.6666666666666666,
             "#ed7953"
            ],
            [
             0.7777777777777778,
             "#fb9f3a"
            ],
            [
             0.8888888888888888,
             "#fdca26"
            ],
            [
             1,
             "#f0f921"
            ]
           ]
          },
          "colorway": [
           "#636efa",
           "#EF553B",
           "#00cc96",
           "#ab63fa",
           "#FFA15A",
           "#19d3f3",
           "#FF6692",
           "#B6E880",
           "#FF97FF",
           "#FECB52"
          ],
          "font": {
           "color": "#2a3f5f"
          },
          "geo": {
           "bgcolor": "white",
           "lakecolor": "white",
           "landcolor": "#E5ECF6",
           "showlakes": true,
           "showland": true,
           "subunitcolor": "white"
          },
          "hoverlabel": {
           "align": "left"
          },
          "hovermode": "closest",
          "mapbox": {
           "style": "light"
          },
          "paper_bgcolor": "white",
          "plot_bgcolor": "#E5ECF6",
          "polar": {
           "angularaxis": {
            "gridcolor": "white",
            "linecolor": "white",
            "ticks": ""
           },
           "bgcolor": "#E5ECF6",
           "radialaxis": {
            "gridcolor": "white",
            "linecolor": "white",
            "ticks": ""
           }
          },
          "scene": {
           "xaxis": {
            "backgroundcolor": "#E5ECF6",
            "gridcolor": "white",
            "gridwidth": 2,
            "linecolor": "white",
            "showbackground": true,
            "ticks": "",
            "zerolinecolor": "white"
           },
           "yaxis": {
            "backgroundcolor": "#E5ECF6",
            "gridcolor": "white",
            "gridwidth": 2,
            "linecolor": "white",
            "showbackground": true,
            "ticks": "",
            "zerolinecolor": "white"
           },
           "zaxis": {
            "backgroundcolor": "#E5ECF6",
            "gridcolor": "white",
            "gridwidth": 2,
            "linecolor": "white",
            "showbackground": true,
            "ticks": "",
            "zerolinecolor": "white"
           }
          },
          "shapedefaults": {
           "line": {
            "color": "#2a3f5f"
           }
          },
          "ternary": {
           "aaxis": {
            "gridcolor": "white",
            "linecolor": "white",
            "ticks": ""
           },
           "baxis": {
            "gridcolor": "white",
            "linecolor": "white",
            "ticks": ""
           },
           "bgcolor": "#E5ECF6",
           "caxis": {
            "gridcolor": "white",
            "linecolor": "white",
            "ticks": ""
           }
          },
          "title": {
           "x": 0.05
          },
          "xaxis": {
           "automargin": true,
           "gridcolor": "white",
           "linecolor": "white",
           "ticks": "",
           "title": {
            "standoff": 15
           },
           "zerolinecolor": "white",
           "zerolinewidth": 2
          },
          "yaxis": {
           "automargin": true,
           "gridcolor": "white",
           "linecolor": "white",
           "ticks": "",
           "title": {
            "standoff": 15
           },
           "zerolinecolor": "white",
           "zerolinewidth": 2
          }
         }
        }
       }
      }
     },
     "metadata": {},
     "output_type": "display_data"
    }
   ],
   "source": [
    "articles = pd.read_csv(\"data/country_clicks_links.csv\", index_col=0).reset_index().rename(columns={'index': 'Articles', 'Top_1_name': 'country'})\n",
    "articles_per_country = articles[['country', 'Articles']].groupby('country', as_index=False).count()\n",
    "fig = plot_color_map(\n",
    "    articles_per_country,\n",
    "    'Articles',\n",
    ")\n",
    "\n",
    "fig.write_html(\"./graphs/intro/articles_intro_map.html\")\n",
    "fig.show()"
   ]
  },
  {
   "cell_type": "markdown",
   "metadata": {},
   "source": [
    "# 1. Country classification Analysis"
   ]
  },
  {
   "cell_type": "markdown",
   "metadata": {},
   "source": [
    "</div><div class=\"alert alert-success\"> <strong>First glance at the distribution of knowledge worldwide :</strong> \n",
    "\n",
    "- Assign a country to each article\n",
    "- Try different methods and see how many articles can be classified\n",
    "- Verify these classification with human annotation \n",
    "- Select the best method for further analysis of the dataset\n",
    "</div>"
   ]
  },
  {
   "cell_type": "markdown",
   "metadata": {},
   "source": [
    "</div> <div class=\"alert alert-warning\">  <strong>Countries :</strong>\n",
    "\n",
    "In order to classify countries we used the standar ISO list with 249 countries and the following distribution: \n",
    "- UN Members: 193\n",
    "- UN Observer States: 2\n",
    "- States With Partial Recognition: 2\n",
    "- Inhabited Dependent Territories: 45\n",
    "- Uninhabited Territories: 6\n",
    "- Antarctica: 1\n",
    "</div>"
   ]
  },
  {
   "cell_type": "markdown",
   "metadata": {},
   "source": [
    "A naïve method was employed to classify articles to specific countries by performing a text search to identify occurrences of country names within the plaintext. This approach utilized basic regular expression matching to analyze the articles. However, it resulted in approximately 31% of the articles (1,412 out of 4,604) remaining unclassified, highlighting significant limitations.\n",
    "\n",
    "### Identified Issues with the Approach:\n",
    "1. **Over-classification on mentioned country names**: \n",
    "   The presence of a country name in an article does not necessarily imply that the article belongs to that country. This assumption leads to inaccuracies in classification.\n",
    "\n",
    "2. **Lack of contextual understanding**: \n",
    "   The text search method lacks the ability to discern the context in which a country name appears, resulting in potential misclassifications.\n",
    "\n",
    "3. **Observations**: \n",
    "   A review of the articles revealed a lot of incorrect or missing classifications. For example:\n",
    "   - The article *13th Century* was missclassified under China due to mentions of events occurring there during that period, despite the article lacking any specific association with China.\n",
    "   - Conversely, the article *4-2-0*, which details a type of railroad in the United States, was left unclassified despite its clear appartenance to that country.\n",
    "\n",
    "These findings show the limitations of the current text-matching methodology and highlight the need for a more robust, context-aware approach to accurately classify articles."
   ]
  },
  {
   "cell_type": "markdown",
   "metadata": {},
   "source": [
    "Given the limitations of the initial text-search-based approach, a decision was made to use Large Language Models (LLMs) to enhance the article classification process. LLMs, with their extensive general knowledge, have the capability to analyze articles and respond to queries with a deeper understanding. \n",
    "\n",
    "Unlike simple text searches, LLMs not only utilize the content of the article but also incorporate their pre-existing (trained) knowledge. This contextual understanding should enables more accurate classification.\n",
    "\n",
    "By employing LLMs, two potential strategies can be pursued:\n",
    "1. **Targeted classification of previously unclassified articles**: The 1,412 articles that remained unclassified under the initial approach can be reevaluated, allowing for a significant reduction in the unclassified proportion. After this step only 6% (283 out of 4604) were not classified.\n",
    "\n",
    "2. **Full Reclassification**: LLMs can be used to perform a complete reclassification of all articles, eliminating the biases and limitations inherent in the original text-search methodology. In order to test this two existing LLMs were used : [LLaMa](https://www.llama.com/) and [Qwen](https://qwen-ai.com/). These powerful models, with less than 8 billion parameters, offer significant computational efficiency and can be run locally on consumer hardware, making them accessible and cost-effective solutions compared to bigger models like ChatGPT and their paid API.\n",
    "\n",
    "This transition to LLM-based classification is expected to significantly improve the accuracy and reliability of the country assignment process."
   ]
  },
  {
   "cell_type": "markdown",
   "metadata": {},
   "source": [
    "The prompt used in order to make the models classify the articles was the following : \n",
    "\n",
    "```\n",
    "You will be given textual articles. For each article provide a single and unique country to which the article is related and should be classified to. Provide the answer in the form : country.\n",
    "If there is no country related to the article, please write 'None'. \n",
    "If the location is not on earth, please write 'None'. \n",
    "If the article is a general article where the content is not specifically related to a country, please write 'None'.\n",
    "You must be 100\\% sure this is a question of life.\n",
    "This is the list of coutnries that you are allowed to output don't output anything that is not in this list: {countries}\n",
    "```\n",
    "\n",
    "To test the accuracy of the model’s predictions compared to human judgment, each member of the group manually annotated 20 articles, with a 10-article overlap between annotators. As a result, each article was annotated by two members, yielding a total of 50 annotations. Among these, 36 annotations matched, resulting in an inter-annotator agreement of 72%. This annotated subset was used as a benchmark to evaluate various classification methods and establish an agreement metric.\n",
    "\n",
    "The highest agreement with human annotations (72%) was achieved using the \"Full Classification with LLaMa.\" However, a review of the assignments revealed that an excessively high number of articles (90%) were being classified, leading to potential overclassification. Some articles were misclassified because the system prompt provided the model with a list of all countries. This introduced a bias, leading the model to disproportionately classify articles under Afghanistan, as it appears first alphabetically in the list.\n",
    "\n",
    "To address this, the system prompt was iteratively refined to enhance agreement accuracy. After achieving improved agreement values, the refined prompt was used to reclassify the entire dataset. In order to remove the biases due to the ordering of countries in the list the classification was run 2 times with two different orders and then only the matching assignments were kept.\n",
    "\n",
    "The improved prompt is : \n",
    "\n",
    "```\n",
    "You will be given textual articles. For each article provide a single and unique country to which the article is related and should be classified to. Provide the answer in the form : country. \n",
    "If the article is related to an object, a place, a monument related to a country, please write the country.\n",
    "if the article is about a spieces, that lives in multiple countries, please write 'None'.\n",
    "If there is no country related to the article, please write 'None'. \n",
    "If the location is not on earth, please write 'None'. \n",
    "If the article is a general article where the content is not specifically related to a country, please write 'None'.\n",
    "You are allowed to use the article name to help you find the country.\n",
    "This is the list of coutnries that you are allowed to output don't output anything that is not in this list: {countries}\n",
    "```\n",
    "\n",
    "This refinement resulted in an improved agreement value of 78%% while reducing the proportion of classified articles to 56%, addressing the issue of overclassification. This proportion of classified articles matches our expectations and is possibly still a bit high since in our annotation 41% of articles were not classified.\n",
    "This final classification is then used for the whole project."
   ]
  },
  {
   "cell_type": "markdown",
   "metadata": {},
   "source": [
    "### Downsides and limitations : \n",
    "- **Limited number of annotated articles** : The analysis was based on a relatively small sample of 36 annotated articles, which may result in imprecise agreement values. To improve the accuracy and reliability of the findings, a larger dataset of annotated articles would be necessary. However, due to time constraints, expanding the dataset or engaging additional human annotators was not feasible.\n",
    "- **Small size of LLM** : The model used in this study was relatively small, which inherently limits its knowledge and performance. While larger language models are expected to perform better on such tasks, the decision to prioritize local execution and cost-effectiveness constrained the use of more powerful models."
   ]
  },
  {
   "cell_type": "markdown",
   "metadata": {},
   "source": [
    "### Below you will find the code showing how the annotation was done and how the plots were generated\n",
    "\n",
    "For more detailed informations about how the classifications were done please refer to the script ```article_to_country.py```"
   ]
  },
  {
   "cell_type": "code",
   "execution_count": 5,
   "metadata": {},
   "outputs": [
    {
     "name": "stdout",
     "output_type": "stream",
     "text": [
      "Number of articles with no countries before completion with llama: 1412\n",
      "Number of articles with no countries after completion with naive + llama: 283\n",
      "Number of articles with no countries after completion with Qwen: 2905\n",
      "Number of articles with no countries after completion with LLAMA: 479\n",
      "Number of articles with no countries after completion with LLAMA: 2010\n"
     ]
    }
   ],
   "source": [
    "results = {}\n",
    "country_data = pd.read_csv('data/country_data.csv', index_col=0)\n",
    "counts = filter_top_k(country_data, k=2, N=1)\n",
    "total_number_of_articles = len(counts)\n",
    "\n",
    "nan_df = counts[counts.isna().all(axis=1)]\n",
    "print(f\"Number of articles with no countries before completion with llama: {len(nan_df)}\")\n",
    "results[\"Text search\"] = (total_number_of_articles - len(nan_df)) / total_number_of_articles * 100\n",
    "\n",
    "refined_data = pd.read_csv(\"data/country_occurences.csv\", index_col=0)\n",
    "nan_df = refined_data[refined_data.isna().all(axis=1)]\n",
    "print(f\"Number of articles with no countries after completion with naive + llama: {len(nan_df)}\")\n",
    "results[\"Text search + missing articles classified with LlaMa\"] = (total_number_of_articles - len(nan_df)) / total_number_of_articles * 100\n",
    "\n",
    "qwen_country_data = pd.read_csv('data/country_data_full_qwen.csv', index_col=0)\n",
    "qwen_missing = len(qwen_country_data[qwen_country_data[\"Top_1_name\"].isna()])\n",
    "print(f\"Number of articles with no countries after completion with Qwen: {qwen_missing}\")\n",
    "results[\"Full classification with Qwen\"] = (total_number_of_articles - qwen_missing) / total_number_of_articles * 100\n",
    "\n",
    "\n",
    "llama_country_data = pd.read_csv('data/country_data_full_llama.csv', index_col=0)\n",
    "llama_missing = len(llama_country_data[llama_country_data[\"Top_1_name\"].isna()])\n",
    "print(f\"Number of articles with no countries after completion with LLAMA: {llama_missing}\")\n",
    "results[\"Full classification with LLaMa\"] = (total_number_of_articles - llama_missing) / total_number_of_articles * 100\n",
    "\n",
    "llama_country_data_imporved_normal = pd.read_csv('data/country_data_full_llama_improved_normal.csv', index_col=0)\n",
    "llama_country_data_imporved_reversed = pd.read_csv('data/country_data_full_llama_improved_reversed.csv', index_col=0)\n",
    "\n",
    "llama_country_data_imporved = pd.read_csv('data/country_data_full_llama_improved_reversed.csv', index_col=0)\n",
    "\n",
    "llama_country_data_imporved_normal[\"Top_1_name\"] = llama_country_data_imporved_normal[\"Top_1_name\"].where(llama_country_data_imporved_normal['Top_1_name'] == llama_country_data_imporved_reversed['Top_1_name'], np.nan)\n",
    "llama_country_data_imporved = llama_country_data_imporved_normal\n",
    "llama_missing_improved = len(llama_country_data_imporved[llama_country_data_imporved[\"Top_1_name\"].isna()])\n",
    "print(f\"Number of articles with no countries after completion with LLAMA: {llama_missing_improved}\")\n",
    "results[\"Improved classification with LLaMa\"] = (total_number_of_articles - llama_missing_improved) / total_number_of_articles * 100\n",
    "llama_country_data_imporved.drop(columns=[\"Predictions\"], inplace=True)\n",
    "llama_country_data_imporved.to_csv('data/country_data_full_llama_improved.csv')\n"
   ]
  },
  {
   "cell_type": "code",
   "execution_count": 6,
   "metadata": {},
   "outputs": [
    {
     "data": {
      "application/vnd.plotly.v1+json": {
       "config": {
        "plotlyServerURL": "https://plot.ly"
       },
       "data": [
        {
         "alignmentgroup": "True",
         "hovertemplate": "color=Text search<br>Classification Method=%{x}<br>% of articles assigned to a country=%{y}<extra></extra>",
         "legendgroup": "Text search",
         "marker": {
          "color": "#636efa",
          "pattern": {
           "shape": ""
          }
         },
         "name": "Text search",
         "offsetgroup": "Text search",
         "orientation": "v",
         "showlegend": true,
         "textposition": "auto",
         "type": "bar",
         "x": [
          "Text search"
         ],
         "xaxis": "x",
         "y": [
          69.33101650738487
         ],
         "yaxis": "y"
        },
        {
         "alignmentgroup": "True",
         "hovertemplate": "color=Text search + missing articles classified with LlaMa<br>Classification Method=%{x}<br>% of articles assigned to a country=%{y}<extra></extra>",
         "legendgroup": "Text search + missing articles classified with LlaMa",
         "marker": {
          "color": "#EF553B",
          "pattern": {
           "shape": ""
          }
         },
         "name": "Text search + missing articles classified with LlaMa",
         "offsetgroup": "Text search + missing articles classified with LlaMa",
         "orientation": "v",
         "showlegend": true,
         "textposition": "auto",
         "type": "bar",
         "x": [
          "Text search + missing articles classified with LlaMa"
         ],
         "xaxis": "x",
         "y": [
          93.85317115551695
         ],
         "yaxis": "y"
        },
        {
         "alignmentgroup": "True",
         "hovertemplate": "color=Full classification with Qwen<br>Classification Method=%{x}<br>% of articles assigned to a country=%{y}<extra></extra>",
         "legendgroup": "Full classification with Qwen",
         "marker": {
          "color": "#00cc96",
          "pattern": {
           "shape": ""
          }
         },
         "name": "Full classification with Qwen",
         "offsetgroup": "Full classification with Qwen",
         "orientation": "v",
         "showlegend": true,
         "textposition": "auto",
         "type": "bar",
         "x": [
          "Full classification with Qwen"
         ],
         "xaxis": "x",
         "y": [
          36.90269331016508
         ],
         "yaxis": "y"
        },
        {
         "alignmentgroup": "True",
         "hovertemplate": "color=Full classification with LLaMa<br>Classification Method=%{x}<br>% of articles assigned to a country=%{y}<extra></extra>",
         "legendgroup": "Full classification with LLaMa",
         "marker": {
          "color": "#ab63fa",
          "pattern": {
           "shape": ""
          }
         },
         "name": "Full classification with LLaMa",
         "offsetgroup": "Full classification with LLaMa",
         "orientation": "v",
         "showlegend": true,
         "textposition": "auto",
         "type": "bar",
         "x": [
          "Full classification with LLaMa"
         ],
         "xaxis": "x",
         "y": [
          89.59600347523893
         ],
         "yaxis": "y"
        },
        {
         "alignmentgroup": "True",
         "hovertemplate": "color=Improved classification with LLaMa<br>Classification Method=%{x}<br>% of articles assigned to a country=%{y}<extra></extra>",
         "legendgroup": "Improved classification with LLaMa",
         "marker": {
          "color": "#FFA15A",
          "pattern": {
           "shape": ""
          }
         },
         "name": "Improved classification with LLaMa",
         "offsetgroup": "Improved classification with LLaMa",
         "orientation": "v",
         "showlegend": true,
         "textposition": "auto",
         "type": "bar",
         "x": [
          "Improved classification with LLaMa"
         ],
         "xaxis": "x",
         "y": [
          56.342311033883576
         ],
         "yaxis": "y"
        }
       ],
       "layout": {
        "barmode": "relative",
        "legend": {
         "title": {
          "text": "color"
         },
         "tracegroupgap": 0
        },
        "margin": {
         "t": 60
        },
        "template": {
         "data": {
          "bar": [
           {
            "error_x": {
             "color": "#2a3f5f"
            },
            "error_y": {
             "color": "#2a3f5f"
            },
            "marker": {
             "line": {
              "color": "#E5ECF6",
              "width": 0.5
             },
             "pattern": {
              "fillmode": "overlay",
              "size": 10,
              "solidity": 0.2
             }
            },
            "type": "bar"
           }
          ],
          "barpolar": [
           {
            "marker": {
             "line": {
              "color": "#E5ECF6",
              "width": 0.5
             },
             "pattern": {
              "fillmode": "overlay",
              "size": 10,
              "solidity": 0.2
             }
            },
            "type": "barpolar"
           }
          ],
          "carpet": [
           {
            "aaxis": {
             "endlinecolor": "#2a3f5f",
             "gridcolor": "white",
             "linecolor": "white",
             "minorgridcolor": "white",
             "startlinecolor": "#2a3f5f"
            },
            "baxis": {
             "endlinecolor": "#2a3f5f",
             "gridcolor": "white",
             "linecolor": "white",
             "minorgridcolor": "white",
             "startlinecolor": "#2a3f5f"
            },
            "type": "carpet"
           }
          ],
          "choropleth": [
           {
            "colorbar": {
             "outlinewidth": 0,
             "ticks": ""
            },
            "type": "choropleth"
           }
          ],
          "contour": [
           {
            "colorbar": {
             "outlinewidth": 0,
             "ticks": ""
            },
            "colorscale": [
             [
              0,
              "#0d0887"
             ],
             [
              0.1111111111111111,
              "#46039f"
             ],
             [
              0.2222222222222222,
              "#7201a8"
             ],
             [
              0.3333333333333333,
              "#9c179e"
             ],
             [
              0.4444444444444444,
              "#bd3786"
             ],
             [
              0.5555555555555556,
              "#d8576b"
             ],
             [
              0.6666666666666666,
              "#ed7953"
             ],
             [
              0.7777777777777778,
              "#fb9f3a"
             ],
             [
              0.8888888888888888,
              "#fdca26"
             ],
             [
              1,
              "#f0f921"
             ]
            ],
            "type": "contour"
           }
          ],
          "contourcarpet": [
           {
            "colorbar": {
             "outlinewidth": 0,
             "ticks": ""
            },
            "type": "contourcarpet"
           }
          ],
          "heatmap": [
           {
            "colorbar": {
             "outlinewidth": 0,
             "ticks": ""
            },
            "colorscale": [
             [
              0,
              "#0d0887"
             ],
             [
              0.1111111111111111,
              "#46039f"
             ],
             [
              0.2222222222222222,
              "#7201a8"
             ],
             [
              0.3333333333333333,
              "#9c179e"
             ],
             [
              0.4444444444444444,
              "#bd3786"
             ],
             [
              0.5555555555555556,
              "#d8576b"
             ],
             [
              0.6666666666666666,
              "#ed7953"
             ],
             [
              0.7777777777777778,
              "#fb9f3a"
             ],
             [
              0.8888888888888888,
              "#fdca26"
             ],
             [
              1,
              "#f0f921"
             ]
            ],
            "type": "heatmap"
           }
          ],
          "heatmapgl": [
           {
            "colorbar": {
             "outlinewidth": 0,
             "ticks": ""
            },
            "colorscale": [
             [
              0,
              "#0d0887"
             ],
             [
              0.1111111111111111,
              "#46039f"
             ],
             [
              0.2222222222222222,
              "#7201a8"
             ],
             [
              0.3333333333333333,
              "#9c179e"
             ],
             [
              0.4444444444444444,
              "#bd3786"
             ],
             [
              0.5555555555555556,
              "#d8576b"
             ],
             [
              0.6666666666666666,
              "#ed7953"
             ],
             [
              0.7777777777777778,
              "#fb9f3a"
             ],
             [
              0.8888888888888888,
              "#fdca26"
             ],
             [
              1,
              "#f0f921"
             ]
            ],
            "type": "heatmapgl"
           }
          ],
          "histogram": [
           {
            "marker": {
             "pattern": {
              "fillmode": "overlay",
              "size": 10,
              "solidity": 0.2
             }
            },
            "type": "histogram"
           }
          ],
          "histogram2d": [
           {
            "colorbar": {
             "outlinewidth": 0,
             "ticks": ""
            },
            "colorscale": [
             [
              0,
              "#0d0887"
             ],
             [
              0.1111111111111111,
              "#46039f"
             ],
             [
              0.2222222222222222,
              "#7201a8"
             ],
             [
              0.3333333333333333,
              "#9c179e"
             ],
             [
              0.4444444444444444,
              "#bd3786"
             ],
             [
              0.5555555555555556,
              "#d8576b"
             ],
             [
              0.6666666666666666,
              "#ed7953"
             ],
             [
              0.7777777777777778,
              "#fb9f3a"
             ],
             [
              0.8888888888888888,
              "#fdca26"
             ],
             [
              1,
              "#f0f921"
             ]
            ],
            "type": "histogram2d"
           }
          ],
          "histogram2dcontour": [
           {
            "colorbar": {
             "outlinewidth": 0,
             "ticks": ""
            },
            "colorscale": [
             [
              0,
              "#0d0887"
             ],
             [
              0.1111111111111111,
              "#46039f"
             ],
             [
              0.2222222222222222,
              "#7201a8"
             ],
             [
              0.3333333333333333,
              "#9c179e"
             ],
             [
              0.4444444444444444,
              "#bd3786"
             ],
             [
              0.5555555555555556,
              "#d8576b"
             ],
             [
              0.6666666666666666,
              "#ed7953"
             ],
             [
              0.7777777777777778,
              "#fb9f3a"
             ],
             [
              0.8888888888888888,
              "#fdca26"
             ],
             [
              1,
              "#f0f921"
             ]
            ],
            "type": "histogram2dcontour"
           }
          ],
          "mesh3d": [
           {
            "colorbar": {
             "outlinewidth": 0,
             "ticks": ""
            },
            "type": "mesh3d"
           }
          ],
          "parcoords": [
           {
            "line": {
             "colorbar": {
              "outlinewidth": 0,
              "ticks": ""
             }
            },
            "type": "parcoords"
           }
          ],
          "pie": [
           {
            "automargin": true,
            "type": "pie"
           }
          ],
          "scatter": [
           {
            "fillpattern": {
             "fillmode": "overlay",
             "size": 10,
             "solidity": 0.2
            },
            "type": "scatter"
           }
          ],
          "scatter3d": [
           {
            "line": {
             "colorbar": {
              "outlinewidth": 0,
              "ticks": ""
             }
            },
            "marker": {
             "colorbar": {
              "outlinewidth": 0,
              "ticks": ""
             }
            },
            "type": "scatter3d"
           }
          ],
          "scattercarpet": [
           {
            "marker": {
             "colorbar": {
              "outlinewidth": 0,
              "ticks": ""
             }
            },
            "type": "scattercarpet"
           }
          ],
          "scattergeo": [
           {
            "marker": {
             "colorbar": {
              "outlinewidth": 0,
              "ticks": ""
             }
            },
            "type": "scattergeo"
           }
          ],
          "scattergl": [
           {
            "marker": {
             "colorbar": {
              "outlinewidth": 0,
              "ticks": ""
             }
            },
            "type": "scattergl"
           }
          ],
          "scattermapbox": [
           {
            "marker": {
             "colorbar": {
              "outlinewidth": 0,
              "ticks": ""
             }
            },
            "type": "scattermapbox"
           }
          ],
          "scatterpolar": [
           {
            "marker": {
             "colorbar": {
              "outlinewidth": 0,
              "ticks": ""
             }
            },
            "type": "scatterpolar"
           }
          ],
          "scatterpolargl": [
           {
            "marker": {
             "colorbar": {
              "outlinewidth": 0,
              "ticks": ""
             }
            },
            "type": "scatterpolargl"
           }
          ],
          "scatterternary": [
           {
            "marker": {
             "colorbar": {
              "outlinewidth": 0,
              "ticks": ""
             }
            },
            "type": "scatterternary"
           }
          ],
          "surface": [
           {
            "colorbar": {
             "outlinewidth": 0,
             "ticks": ""
            },
            "colorscale": [
             [
              0,
              "#0d0887"
             ],
             [
              0.1111111111111111,
              "#46039f"
             ],
             [
              0.2222222222222222,
              "#7201a8"
             ],
             [
              0.3333333333333333,
              "#9c179e"
             ],
             [
              0.4444444444444444,
              "#bd3786"
             ],
             [
              0.5555555555555556,
              "#d8576b"
             ],
             [
              0.6666666666666666,
              "#ed7953"
             ],
             [
              0.7777777777777778,
              "#fb9f3a"
             ],
             [
              0.8888888888888888,
              "#fdca26"
             ],
             [
              1,
              "#f0f921"
             ]
            ],
            "type": "surface"
           }
          ],
          "table": [
           {
            "cells": {
             "fill": {
              "color": "#EBF0F8"
             },
             "line": {
              "color": "white"
             }
            },
            "header": {
             "fill": {
              "color": "#C8D4E3"
             },
             "line": {
              "color": "white"
             }
            },
            "type": "table"
           }
          ]
         },
         "layout": {
          "annotationdefaults": {
           "arrowcolor": "#2a3f5f",
           "arrowhead": 0,
           "arrowwidth": 1
          },
          "autotypenumbers": "strict",
          "coloraxis": {
           "colorbar": {
            "outlinewidth": 0,
            "ticks": ""
           }
          },
          "colorscale": {
           "diverging": [
            [
             0,
             "#8e0152"
            ],
            [
             0.1,
             "#c51b7d"
            ],
            [
             0.2,
             "#de77ae"
            ],
            [
             0.3,
             "#f1b6da"
            ],
            [
             0.4,
             "#fde0ef"
            ],
            [
             0.5,
             "#f7f7f7"
            ],
            [
             0.6,
             "#e6f5d0"
            ],
            [
             0.7,
             "#b8e186"
            ],
            [
             0.8,
             "#7fbc41"
            ],
            [
             0.9,
             "#4d9221"
            ],
            [
             1,
             "#276419"
            ]
           ],
           "sequential": [
            [
             0,
             "#0d0887"
            ],
            [
             0.1111111111111111,
             "#46039f"
            ],
            [
             0.2222222222222222,
             "#7201a8"
            ],
            [
             0.3333333333333333,
             "#9c179e"
            ],
            [
             0.4444444444444444,
             "#bd3786"
            ],
            [
             0.5555555555555556,
             "#d8576b"
            ],
            [
             0.6666666666666666,
             "#ed7953"
            ],
            [
             0.7777777777777778,
             "#fb9f3a"
            ],
            [
             0.8888888888888888,
             "#fdca26"
            ],
            [
             1,
             "#f0f921"
            ]
           ],
           "sequentialminus": [
            [
             0,
             "#0d0887"
            ],
            [
             0.1111111111111111,
             "#46039f"
            ],
            [
             0.2222222222222222,
             "#7201a8"
            ],
            [
             0.3333333333333333,
             "#9c179e"
            ],
            [
             0.4444444444444444,
             "#bd3786"
            ],
            [
             0.5555555555555556,
             "#d8576b"
            ],
            [
             0.6666666666666666,
             "#ed7953"
            ],
            [
             0.7777777777777778,
             "#fb9f3a"
            ],
            [
             0.8888888888888888,
             "#fdca26"
            ],
            [
             1,
             "#f0f921"
            ]
           ]
          },
          "colorway": [
           "#636efa",
           "#EF553B",
           "#00cc96",
           "#ab63fa",
           "#FFA15A",
           "#19d3f3",
           "#FF6692",
           "#B6E880",
           "#FF97FF",
           "#FECB52"
          ],
          "font": {
           "color": "#2a3f5f"
          },
          "geo": {
           "bgcolor": "white",
           "lakecolor": "white",
           "landcolor": "#E5ECF6",
           "showlakes": true,
           "showland": true,
           "subunitcolor": "white"
          },
          "hoverlabel": {
           "align": "left"
          },
          "hovermode": "closest",
          "mapbox": {
           "style": "light"
          },
          "paper_bgcolor": "white",
          "plot_bgcolor": "#E5ECF6",
          "polar": {
           "angularaxis": {
            "gridcolor": "white",
            "linecolor": "white",
            "ticks": ""
           },
           "bgcolor": "#E5ECF6",
           "radialaxis": {
            "gridcolor": "white",
            "linecolor": "white",
            "ticks": ""
           }
          },
          "scene": {
           "xaxis": {
            "backgroundcolor": "#E5ECF6",
            "gridcolor": "white",
            "gridwidth": 2,
            "linecolor": "white",
            "showbackground": true,
            "ticks": "",
            "zerolinecolor": "white"
           },
           "yaxis": {
            "backgroundcolor": "#E5ECF6",
            "gridcolor": "white",
            "gridwidth": 2,
            "linecolor": "white",
            "showbackground": true,
            "ticks": "",
            "zerolinecolor": "white"
           },
           "zaxis": {
            "backgroundcolor": "#E5ECF6",
            "gridcolor": "white",
            "gridwidth": 2,
            "linecolor": "white",
            "showbackground": true,
            "ticks": "",
            "zerolinecolor": "white"
           }
          },
          "shapedefaults": {
           "line": {
            "color": "#2a3f5f"
           }
          },
          "ternary": {
           "aaxis": {
            "gridcolor": "white",
            "linecolor": "white",
            "ticks": ""
           },
           "baxis": {
            "gridcolor": "white",
            "linecolor": "white",
            "ticks": ""
           },
           "bgcolor": "#E5ECF6",
           "caxis": {
            "gridcolor": "white",
            "linecolor": "white",
            "ticks": ""
           }
          },
          "title": {
           "x": 0.05
          },
          "xaxis": {
           "automargin": true,
           "gridcolor": "white",
           "linecolor": "white",
           "ticks": "",
           "title": {
            "standoff": 15
           },
           "zerolinecolor": "white",
           "zerolinewidth": 2
          },
          "yaxis": {
           "automargin": true,
           "gridcolor": "white",
           "linecolor": "white",
           "ticks": "",
           "title": {
            "standoff": 15
           },
           "zerolinecolor": "white",
           "zerolinewidth": 2
          }
         }
        },
        "xaxis": {
         "anchor": "y",
         "domain": [
          0,
          1
         ],
         "showticklabels": false,
         "title": {
          "text": "Classification Method"
         }
        },
        "yaxis": {
         "anchor": "x",
         "domain": [
          0,
          1
         ],
         "range": [
          0,
          100
         ],
         "title": {
          "text": "% of articles assigned to a country"
         }
        }
       }
      }
     },
     "metadata": {},
     "output_type": "display_data"
    }
   ],
   "source": [
    "fig = px.bar(x=results.keys(), y=results.values(), color=results.keys(), labels={\"x\": \"Classification Method\", \"y\": \"% of articles assigned to a country\"})\n",
    "# fig.update_layout(title=\"Proportion of articles assigned to a country\") #legend is not shown since we want to write it directly on the website in HTML for better readability\n",
    "fig.update_xaxes(showticklabels=False)  # Remove x-axis tick labels\n",
    "fig.update_yaxes(range=[0, 100])\n",
    "fig.show()\n",
    "fig.write_html(\"./graphs/proportion_country_assignment.html\")"
   ]
  },
  {
   "cell_type": "code",
   "execution_count": 7,
   "metadata": {},
   "outputs": [
    {
     "data": {
      "application/vnd.plotly.v1+json": {
       "config": {
        "plotlyServerURL": "https://plot.ly"
       },
       "data": [
        {
         "coloraxis": "coloraxis",
         "hovertemplate": "Index: %{x}<br>Index: %{y}<br>Overlap: %{z}<extra></extra>",
         "name": "0",
         "texttemplate": "%{z}",
         "type": "heatmap",
         "x": [
          0,
          1,
          2,
          3,
          4
         ],
         "xaxis": "x",
         "y": [
          0,
          1,
          2,
          3,
          4
         ],
         "yaxis": "y",
         "z": [
          [
           1,
           null,
           null,
           null,
           null
          ],
          [
           0.65,
           1,
           null,
           null,
           null
          ],
          [
           0.22,
           0.26,
           1,
           null,
           null
          ],
          [
           0.37,
           0.6,
           0.32,
           1,
           null
          ],
          [
           0.33,
           0.4,
           0.29,
           0.51,
           1
          ]
         ]
        }
       ],
       "layout": {
        "annotations": [
         {
          "align": "left",
          "font": {
           "size": 12
          },
          "showarrow": false,
          "text": "<b>Legend:</b><br>0: Text search<br>1: Text search + missing articles classified with LlaMa<br>2: Full classification with Qwen<br>3: Full classification with LLaMa<br>4: Improved classification with LLaMa",
          "x": 0,
          "xref": "paper",
          "y": 0.5,
          "yref": "paper"
         }
        ],
        "coloraxis": {
         "colorbar": {
          "title": {
           "text": "Overlap"
          }
         },
         "colorscale": [
          [
           0,
           "rgb(247,251,255)"
          ],
          [
           0.125,
           "rgb(222,235,247)"
          ],
          [
           0.25,
           "rgb(198,219,239)"
          ],
          [
           0.375,
           "rgb(158,202,225)"
          ],
          [
           0.5,
           "rgb(107,174,214)"
          ],
          [
           0.625,
           "rgb(66,146,198)"
          ],
          [
           0.75,
           "rgb(33,113,181)"
          ],
          [
           0.875,
           "rgb(8,81,156)"
          ],
          [
           1,
           "rgb(8,48,107)"
          ]
         ],
         "showscale": false
        },
        "margin": {
         "t": 60
        },
        "template": {
         "data": {
          "bar": [
           {
            "error_x": {
             "color": "#2a3f5f"
            },
            "error_y": {
             "color": "#2a3f5f"
            },
            "marker": {
             "line": {
              "color": "#E5ECF6",
              "width": 0.5
             },
             "pattern": {
              "fillmode": "overlay",
              "size": 10,
              "solidity": 0.2
             }
            },
            "type": "bar"
           }
          ],
          "barpolar": [
           {
            "marker": {
             "line": {
              "color": "#E5ECF6",
              "width": 0.5
             },
             "pattern": {
              "fillmode": "overlay",
              "size": 10,
              "solidity": 0.2
             }
            },
            "type": "barpolar"
           }
          ],
          "carpet": [
           {
            "aaxis": {
             "endlinecolor": "#2a3f5f",
             "gridcolor": "white",
             "linecolor": "white",
             "minorgridcolor": "white",
             "startlinecolor": "#2a3f5f"
            },
            "baxis": {
             "endlinecolor": "#2a3f5f",
             "gridcolor": "white",
             "linecolor": "white",
             "minorgridcolor": "white",
             "startlinecolor": "#2a3f5f"
            },
            "type": "carpet"
           }
          ],
          "choropleth": [
           {
            "colorbar": {
             "outlinewidth": 0,
             "ticks": ""
            },
            "type": "choropleth"
           }
          ],
          "contour": [
           {
            "colorbar": {
             "outlinewidth": 0,
             "ticks": ""
            },
            "colorscale": [
             [
              0,
              "#0d0887"
             ],
             [
              0.1111111111111111,
              "#46039f"
             ],
             [
              0.2222222222222222,
              "#7201a8"
             ],
             [
              0.3333333333333333,
              "#9c179e"
             ],
             [
              0.4444444444444444,
              "#bd3786"
             ],
             [
              0.5555555555555556,
              "#d8576b"
             ],
             [
              0.6666666666666666,
              "#ed7953"
             ],
             [
              0.7777777777777778,
              "#fb9f3a"
             ],
             [
              0.8888888888888888,
              "#fdca26"
             ],
             [
              1,
              "#f0f921"
             ]
            ],
            "type": "contour"
           }
          ],
          "contourcarpet": [
           {
            "colorbar": {
             "outlinewidth": 0,
             "ticks": ""
            },
            "type": "contourcarpet"
           }
          ],
          "heatmap": [
           {
            "colorbar": {
             "outlinewidth": 0,
             "ticks": ""
            },
            "colorscale": [
             [
              0,
              "#0d0887"
             ],
             [
              0.1111111111111111,
              "#46039f"
             ],
             [
              0.2222222222222222,
              "#7201a8"
             ],
             [
              0.3333333333333333,
              "#9c179e"
             ],
             [
              0.4444444444444444,
              "#bd3786"
             ],
             [
              0.5555555555555556,
              "#d8576b"
             ],
             [
              0.6666666666666666,
              "#ed7953"
             ],
             [
              0.7777777777777778,
              "#fb9f3a"
             ],
             [
              0.8888888888888888,
              "#fdca26"
             ],
             [
              1,
              "#f0f921"
             ]
            ],
            "type": "heatmap"
           }
          ],
          "heatmapgl": [
           {
            "colorbar": {
             "outlinewidth": 0,
             "ticks": ""
            },
            "colorscale": [
             [
              0,
              "#0d0887"
             ],
             [
              0.1111111111111111,
              "#46039f"
             ],
             [
              0.2222222222222222,
              "#7201a8"
             ],
             [
              0.3333333333333333,
              "#9c179e"
             ],
             [
              0.4444444444444444,
              "#bd3786"
             ],
             [
              0.5555555555555556,
              "#d8576b"
             ],
             [
              0.6666666666666666,
              "#ed7953"
             ],
             [
              0.7777777777777778,
              "#fb9f3a"
             ],
             [
              0.8888888888888888,
              "#fdca26"
             ],
             [
              1,
              "#f0f921"
             ]
            ],
            "type": "heatmapgl"
           }
          ],
          "histogram": [
           {
            "marker": {
             "pattern": {
              "fillmode": "overlay",
              "size": 10,
              "solidity": 0.2
             }
            },
            "type": "histogram"
           }
          ],
          "histogram2d": [
           {
            "colorbar": {
             "outlinewidth": 0,
             "ticks": ""
            },
            "colorscale": [
             [
              0,
              "#0d0887"
             ],
             [
              0.1111111111111111,
              "#46039f"
             ],
             [
              0.2222222222222222,
              "#7201a8"
             ],
             [
              0.3333333333333333,
              "#9c179e"
             ],
             [
              0.4444444444444444,
              "#bd3786"
             ],
             [
              0.5555555555555556,
              "#d8576b"
             ],
             [
              0.6666666666666666,
              "#ed7953"
             ],
             [
              0.7777777777777778,
              "#fb9f3a"
             ],
             [
              0.8888888888888888,
              "#fdca26"
             ],
             [
              1,
              "#f0f921"
             ]
            ],
            "type": "histogram2d"
           }
          ],
          "histogram2dcontour": [
           {
            "colorbar": {
             "outlinewidth": 0,
             "ticks": ""
            },
            "colorscale": [
             [
              0,
              "#0d0887"
             ],
             [
              0.1111111111111111,
              "#46039f"
             ],
             [
              0.2222222222222222,
              "#7201a8"
             ],
             [
              0.3333333333333333,
              "#9c179e"
             ],
             [
              0.4444444444444444,
              "#bd3786"
             ],
             [
              0.5555555555555556,
              "#d8576b"
             ],
             [
              0.6666666666666666,
              "#ed7953"
             ],
             [
              0.7777777777777778,
              "#fb9f3a"
             ],
             [
              0.8888888888888888,
              "#fdca26"
             ],
             [
              1,
              "#f0f921"
             ]
            ],
            "type": "histogram2dcontour"
           }
          ],
          "mesh3d": [
           {
            "colorbar": {
             "outlinewidth": 0,
             "ticks": ""
            },
            "type": "mesh3d"
           }
          ],
          "parcoords": [
           {
            "line": {
             "colorbar": {
              "outlinewidth": 0,
              "ticks": ""
             }
            },
            "type": "parcoords"
           }
          ],
          "pie": [
           {
            "automargin": true,
            "type": "pie"
           }
          ],
          "scatter": [
           {
            "fillpattern": {
             "fillmode": "overlay",
             "size": 10,
             "solidity": 0.2
            },
            "type": "scatter"
           }
          ],
          "scatter3d": [
           {
            "line": {
             "colorbar": {
              "outlinewidth": 0,
              "ticks": ""
             }
            },
            "marker": {
             "colorbar": {
              "outlinewidth": 0,
              "ticks": ""
             }
            },
            "type": "scatter3d"
           }
          ],
          "scattercarpet": [
           {
            "marker": {
             "colorbar": {
              "outlinewidth": 0,
              "ticks": ""
             }
            },
            "type": "scattercarpet"
           }
          ],
          "scattergeo": [
           {
            "marker": {
             "colorbar": {
              "outlinewidth": 0,
              "ticks": ""
             }
            },
            "type": "scattergeo"
           }
          ],
          "scattergl": [
           {
            "marker": {
             "colorbar": {
              "outlinewidth": 0,
              "ticks": ""
             }
            },
            "type": "scattergl"
           }
          ],
          "scattermapbox": [
           {
            "marker": {
             "colorbar": {
              "outlinewidth": 0,
              "ticks": ""
             }
            },
            "type": "scattermapbox"
           }
          ],
          "scatterpolar": [
           {
            "marker": {
             "colorbar": {
              "outlinewidth": 0,
              "ticks": ""
             }
            },
            "type": "scatterpolar"
           }
          ],
          "scatterpolargl": [
           {
            "marker": {
             "colorbar": {
              "outlinewidth": 0,
              "ticks": ""
             }
            },
            "type": "scatterpolargl"
           }
          ],
          "scatterternary": [
           {
            "marker": {
             "colorbar": {
              "outlinewidth": 0,
              "ticks": ""
             }
            },
            "type": "scatterternary"
           }
          ],
          "surface": [
           {
            "colorbar": {
             "outlinewidth": 0,
             "ticks": ""
            },
            "colorscale": [
             [
              0,
              "#0d0887"
             ],
             [
              0.1111111111111111,
              "#46039f"
             ],
             [
              0.2222222222222222,
              "#7201a8"
             ],
             [
              0.3333333333333333,
              "#9c179e"
             ],
             [
              0.4444444444444444,
              "#bd3786"
             ],
             [
              0.5555555555555556,
              "#d8576b"
             ],
             [
              0.6666666666666666,
              "#ed7953"
             ],
             [
              0.7777777777777778,
              "#fb9f3a"
             ],
             [
              0.8888888888888888,
              "#fdca26"
             ],
             [
              1,
              "#f0f921"
             ]
            ],
            "type": "surface"
           }
          ],
          "table": [
           {
            "cells": {
             "fill": {
              "color": "#EBF0F8"
             },
             "line": {
              "color": "white"
             }
            },
            "header": {
             "fill": {
              "color": "#C8D4E3"
             },
             "line": {
              "color": "white"
             }
            },
            "type": "table"
           }
          ]
         },
         "layout": {
          "annotationdefaults": {
           "arrowcolor": "#2a3f5f",
           "arrowhead": 0,
           "arrowwidth": 1
          },
          "autotypenumbers": "strict",
          "coloraxis": {
           "colorbar": {
            "outlinewidth": 0,
            "ticks": ""
           }
          },
          "colorscale": {
           "diverging": [
            [
             0,
             "#8e0152"
            ],
            [
             0.1,
             "#c51b7d"
            ],
            [
             0.2,
             "#de77ae"
            ],
            [
             0.3,
             "#f1b6da"
            ],
            [
             0.4,
             "#fde0ef"
            ],
            [
             0.5,
             "#f7f7f7"
            ],
            [
             0.6,
             "#e6f5d0"
            ],
            [
             0.7,
             "#b8e186"
            ],
            [
             0.8,
             "#7fbc41"
            ],
            [
             0.9,
             "#4d9221"
            ],
            [
             1,
             "#276419"
            ]
           ],
           "sequential": [
            [
             0,
             "#0d0887"
            ],
            [
             0.1111111111111111,
             "#46039f"
            ],
            [
             0.2222222222222222,
             "#7201a8"
            ],
            [
             0.3333333333333333,
             "#9c179e"
            ],
            [
             0.4444444444444444,
             "#bd3786"
            ],
            [
             0.5555555555555556,
             "#d8576b"
            ],
            [
             0.6666666666666666,
             "#ed7953"
            ],
            [
             0.7777777777777778,
             "#fb9f3a"
            ],
            [
             0.8888888888888888,
             "#fdca26"
            ],
            [
             1,
             "#f0f921"
            ]
           ],
           "sequentialminus": [
            [
             0,
             "#0d0887"
            ],
            [
             0.1111111111111111,
             "#46039f"
            ],
            [
             0.2222222222222222,
             "#7201a8"
            ],
            [
             0.3333333333333333,
             "#9c179e"
            ],
            [
             0.4444444444444444,
             "#bd3786"
            ],
            [
             0.5555555555555556,
             "#d8576b"
            ],
            [
             0.6666666666666666,
             "#ed7953"
            ],
            [
             0.7777777777777778,
             "#fb9f3a"
            ],
            [
             0.8888888888888888,
             "#fdca26"
            ],
            [
             1,
             "#f0f921"
            ]
           ]
          },
          "colorway": [
           "#636efa",
           "#EF553B",
           "#00cc96",
           "#ab63fa",
           "#FFA15A",
           "#19d3f3",
           "#FF6692",
           "#B6E880",
           "#FF97FF",
           "#FECB52"
          ],
          "font": {
           "color": "#2a3f5f"
          },
          "geo": {
           "bgcolor": "white",
           "lakecolor": "white",
           "landcolor": "#E5ECF6",
           "showlakes": true,
           "showland": true,
           "subunitcolor": "white"
          },
          "hoverlabel": {
           "align": "left"
          },
          "hovermode": "closest",
          "mapbox": {
           "style": "light"
          },
          "paper_bgcolor": "white",
          "plot_bgcolor": "#E5ECF6",
          "polar": {
           "angularaxis": {
            "gridcolor": "white",
            "linecolor": "white",
            "ticks": ""
           },
           "bgcolor": "#E5ECF6",
           "radialaxis": {
            "gridcolor": "white",
            "linecolor": "white",
            "ticks": ""
           }
          },
          "scene": {
           "xaxis": {
            "backgroundcolor": "#E5ECF6",
            "gridcolor": "white",
            "gridwidth": 2,
            "linecolor": "white",
            "showbackground": true,
            "ticks": "",
            "zerolinecolor": "white"
           },
           "yaxis": {
            "backgroundcolor": "#E5ECF6",
            "gridcolor": "white",
            "gridwidth": 2,
            "linecolor": "white",
            "showbackground": true,
            "ticks": "",
            "zerolinecolor": "white"
           },
           "zaxis": {
            "backgroundcolor": "#E5ECF6",
            "gridcolor": "white",
            "gridwidth": 2,
            "linecolor": "white",
            "showbackground": true,
            "ticks": "",
            "zerolinecolor": "white"
           }
          },
          "shapedefaults": {
           "line": {
            "color": "#2a3f5f"
           }
          },
          "ternary": {
           "aaxis": {
            "gridcolor": "white",
            "linecolor": "white",
            "ticks": ""
           },
           "baxis": {
            "gridcolor": "white",
            "linecolor": "white",
            "ticks": ""
           },
           "bgcolor": "#E5ECF6",
           "caxis": {
            "gridcolor": "white",
            "linecolor": "white",
            "ticks": ""
           }
          },
          "title": {
           "x": 0.05
          },
          "xaxis": {
           "automargin": true,
           "gridcolor": "white",
           "linecolor": "white",
           "ticks": "",
           "title": {
            "standoff": 15
           },
           "zerolinecolor": "white",
           "zerolinewidth": 2
          },
          "yaxis": {
           "automargin": true,
           "gridcolor": "white",
           "linecolor": "white",
           "ticks": "",
           "title": {
            "standoff": 15
           },
           "zerolinecolor": "white",
           "zerolinewidth": 2
          }
         }
        },
        "title": {
         "text": "Overlap Between Classification Methods"
        },
        "xaxis": {
         "anchor": "y",
         "constrain": "domain",
         "domain": [
          0,
          1
         ],
         "dtick": 1,
         "scaleanchor": "y",
         "title": {
          "text": "Classification Method Index"
         }
        },
        "yaxis": {
         "anchor": "x",
         "autorange": "reversed",
         "constrain": "domain",
         "domain": [
          0,
          1
         ],
         "dtick": 1,
         "title": {
          "text": "Classification Method Index"
         }
        }
       }
      }
     },
     "metadata": {},
     "output_type": "display_data"
    }
   ],
   "source": [
    "import plotly.express as px\n",
    "import pandas as pd\n",
    "from itertools import combinations\n",
    "\n",
    "# Data preparation (same as yours)\n",
    "models = {\n",
    "    \"Text search\": counts,\n",
    "    \"Text search + missing articles classified with LlaMa\": refined_data,\n",
    "    \"Full classification with Qwen\": qwen_country_data,\n",
    "    \"Full classification with LLaMa\": llama_country_data,\n",
    "    \"Improved classification with LLaMa\": llama_country_data_imporved\n",
    "}\n",
    "\n",
    "heatmap_data = pd.DataFrame(index=models.keys(), columns=models.keys())\n",
    "\n",
    "for model in models.keys():\n",
    "    heatmap_data.loc[model, model] = 1.0\n",
    "\n",
    "for model1, model2 in combinations(models.keys(), 2):\n",
    "    df_1 = models[model1]\n",
    "    df_2 = models[model2]\n",
    "    overlap = (df_1[\"Top_1_name\"] == df_2[\"Top_1_name\"]).sum() / total_number_of_articles\n",
    "    heatmap_data.loc[model2, model1] = overlap.round(2)\n",
    "\n",
    "heatmap_data = heatmap_data.astype(float)\n",
    "\n",
    "# Replace row and column names with indices\n",
    "model_names = list(models.keys())\n",
    "index_to_name = {i: name for i, name in enumerate(model_names)}  # Create legend mapping\n",
    "\n",
    "# Create heatmap with indices\n",
    "heatmap_data.index = range(len(model_names))\n",
    "heatmap_data.columns = range(len(model_names))\n",
    "\n",
    "# Generate the heatmap\n",
    "fig = px.imshow(\n",
    "    heatmap_data.values,\n",
    "    labels={\"x\": \"Index\", \"y\": \"Index\", \"color\": \"Overlap\"},\n",
    "    x=heatmap_data.columns,\n",
    "    y=heatmap_data.index,\n",
    "    color_continuous_scale=\"Blues\",\n",
    "    text_auto=True,\n",
    ")\n",
    "\n",
    "fig.update_layout(\n",
    "    title=\"Overlap Between Classification Methods\",\n",
    "    xaxis_title=\"Classification Method Index\",\n",
    "    yaxis_title=\"Classification Method Index\",\n",
    "    coloraxis_colorbar=dict(title=\"Overlap\"),\n",
    ")\n",
    "\n",
    "fig.update_xaxes(dtick=1)  # Force x-axis to show every tick\n",
    "fig.update_yaxes(dtick=1)  # Force y-axis to show every tick\n",
    "fig.update_layout(coloraxis_showscale=False)  # Hide the color scale\n",
    "\n",
    "# Display legend associating indices to model names\n",
    "legend_text = \"<br>\".join([f\"{i}: {name}\" for i, name in index_to_name.items()])\n",
    "fig.add_annotation(\n",
    "    text=f\"<b>Legend:</b><br>{legend_text}\",\n",
    "    xref=\"paper\", yref=\"paper\",\n",
    "    x=0.0, y=0.5,\n",
    "    showarrow=False,\n",
    "    align=\"left\",\n",
    "    font=dict(size=12)\n",
    ")\n",
    "\n",
    "fig.show()\n",
    "# fig.write_html(\"./graphs/overlap_heatmap.html\")\n"
   ]
  },
  {
   "cell_type": "code",
   "execution_count": 8,
   "metadata": {},
   "outputs": [
    {
     "name": "stdout",
     "output_type": "stream",
     "text": [
      "Agreement between Claire and Oriane: 80%\n",
      "Agreement between Theo and Bryan: 60%\n",
      "Agreement between Claire and Jeremy: 80%\n",
      "Agreement between Theo and Oriane: 50%\n",
      "Agreement between Bryan and Jeremy: 90%\n"
     ]
    },
    {
     "data": {
      "text/plain": [
       "Hadrian%27s_Wall                                    nan\n",
       "Globe_Theatre                                       nan\n",
       "List_of_monarchs_in_the_British_Isles    united kingdom\n",
       "Aleksandr_Vasilevsky                             russia\n",
       "Pyongyang                                   north korea\n",
       "Ivory                                               nan\n",
       "Beep_%28SWBLW%29                          united states\n",
       "Fermium                                             nan\n",
       "Dwight_D._Eisenhower                                nan\n",
       "Invasion                                        grenada\n",
       "Scooby-Doo                                united states\n",
       "Bill_Clinton                              united states\n",
       "Frederick_Douglass                        united states\n",
       "Cambrian_explosion                                china\n",
       "CPU_cache                                           nan\n",
       "Cathedral_of_Magdeburg                          germany\n",
       "Anna_Karenina                                    russia\n",
       "Eurasian_Bullfinch                                  nan\n",
       "Common_Tern                                         nan\n",
       "Shenzhou_spacecraft                               china\n",
       "Geology_of_Dorset                                   nan\n",
       "Perth%2C_Western_Australia                    australia\n",
       "Sumo                                              japan\n",
       "London_Underground                       united kingdom\n",
       "Harry_Potter                                        nan\n",
       "EMD_BL2                                   united states\n",
       "Economic_inequality                                 nan\n",
       "Formic_acid                                         nan\n",
       "Upsilon_Andromedae_b                                nan\n",
       "Toraja                                        indonesia\n",
       "Motion_%28physics%29                                nan\n",
       "S%C3%B8ren_Kierkegaard                          denmark\n",
       "Friend_Directdebit                       united kingdom\n",
       "Bamako                                             mali\n",
       "Commodore_64                              united states\n",
       "Spherical_aberration                                nan\n",
       "Name: Top_1_name, dtype: object"
      ]
     },
     "execution_count": 8,
     "metadata": {},
     "output_type": "execute_result"
    }
   ],
   "source": [
    "articles = pd.DataFrame(counts.index)\n",
    "\n",
    "subset_1 = articles.sample(10, random_state=0).values.flatten().tolist()\n",
    "subset_2 = articles.sample(10, random_state=1).values.flatten().tolist()\n",
    "subset_3 = articles.sample(10, random_state=2).values.flatten().tolist()\n",
    "subset_4 = articles.sample(10, random_state=3).values.flatten().tolist()\n",
    "subset_5 = articles.sample(10, random_state=4).values.flatten().tolist()\n",
    "subset_6 = articles.sample(10, random_state=5).values.flatten().tolist()\n",
    "\n",
    "claire = subset_1 + subset_3\n",
    "theo = subset_2 + subset_4\n",
    "oriane = subset_1 + subset_4\n",
    "bryan = subset_2 + subset_5\n",
    "jeremy = subset_3 + subset_5\n",
    "\n",
    "claire = pd.DataFrame(index=claire, columns=[\"country\"])\n",
    "theo = pd.DataFrame(index=theo, columns=[\"country\"])\n",
    "oriane = pd.DataFrame(index=oriane, columns=[\"country\"])\n",
    "bryan= pd.DataFrame(index=bryan, columns=[\"country\"])\n",
    "jeremy = pd.DataFrame(index=jeremy, columns=[\"country\"])\n",
    "\n",
    "# pd.DataFrame(claire).to_csv(\"claire.csv\")\n",
    "# pd.DataFrame(theo).to_csv(\"theo.csv\")\n",
    "# pd.DataFrame(oriane).to_csv(\"oriane.csv\")\n",
    "# pd.DataFrame(bryan).to_csv(\"bryan.csv\")\n",
    "# pd.DataFrame(jeremy).to_csv(\"jeremy.csv\")\n",
    "\n",
    "# countries = list(dict(countries_for_language('en')).values())\n",
    "# pd.DataFrame(countries).to_csv(\"countries.csv\")\n",
    "\n",
    "annotation_path = \"./data/annotated/\"\n",
    "\n",
    "claire = pd.read_csv(annotation_path + \"subset_claire.csv\", index_col=0, na_values=\"None\")\n",
    "theo = pd.read_csv(annotation_path + \"subset_theo.csv\", index_col=0, na_values=\"None\")\n",
    "oriane = pd.read_csv(annotation_path + \"subset_oriane.csv\", index_col=0, na_values=\"None\")\n",
    "bryan = pd.read_csv(annotation_path + \"subset_bryan.csv\", index_col=0, na_values=\"None\")\n",
    "jeremy = pd.read_csv(annotation_path + \"subset_jeremy.csv\", index_col=0, na_values=\"None\")\n",
    "\n",
    "subset_1_c = claire[:10]\n",
    "subset_3_c = claire[10:]\n",
    "\n",
    "subset_2_t = theo[:10]\n",
    "subset_4_t = theo[10:]\n",
    "\n",
    "subset_1_o = oriane[:10]\n",
    "subset_4_o = oriane[10:]\n",
    "\n",
    "subset_2_b = bryan[:10]\n",
    "subset_5_b = bryan[10:]\n",
    "\n",
    "subset_3_j = jeremy[:10]\n",
    "subset_5_j = jeremy[10:]\n",
    "\n",
    "comparison1 = subset_1_c[\"country\"].str.lower().fillna(\"nan\") == subset_1_o[\"country\"].str.lower().fillna(\"nan\")\n",
    "print(f\"Agreement between Claire and Oriane: {comparison1.sum() * 10}%\")\n",
    "comparison2 = subset_2_t[\"country\"].str.lower().fillna(\"nan\") == subset_2_b[\"country\"].str.lower().fillna(\"nan\")\n",
    "print(f\"Agreement between Theo and Bryan: {comparison2.sum() * 10}%\")\n",
    "comparison3 = subset_3_c[\"country\"].str.lower().fillna(\"nan\") == subset_3_j[\"country\"].str.lower().fillna(\"nan\")\n",
    "print(f\"Agreement between Claire and Jeremy: {comparison3.sum() * 10}%\")\n",
    "comparison4 = subset_4_t[\"country\"].str.lower().fillna(\"nan\") == subset_4_o[\"country\"].str.lower().fillna(\"nan\")\n",
    "print(f\"Agreement between Theo and Oriane: {comparison4.sum() * 10}%\")\n",
    "comparison5 = subset_5_b[\"country\"].str.lower().fillna(\"nan\") == subset_5_j[\"country\"].str.lower().fillna(\"nan\")\n",
    "print(f\"Agreement between Bryan and Jeremy: {comparison5.sum() * 10}%\")\n",
    "\n",
    "df = pd.concat([\n",
    "    subset_1_c.loc[comparison1],\n",
    "    subset_2_b.loc[comparison2],\n",
    "    subset_3_c.loc[comparison3],\n",
    "    subset_4_t.loc[comparison4],\n",
    "    subset_5_b.loc[comparison5]\n",
    "], ignore_index=False)\n",
    "\n",
    "df.to_csv(\"data/annotated/consensus.csv\")\n",
    "llama_country_data_imporved.loc[df.index][\"Top_1_name\"].str.lower().fillna(\"nan\")"
   ]
  },
  {
   "cell_type": "code",
   "execution_count": 9,
   "metadata": {},
   "outputs": [
    {
     "data": {
      "application/vnd.plotly.v1+json": {
       "config": {
        "plotlyServerURL": "https://plot.ly"
       },
       "data": [
        {
         "alignmentgroup": "True",
         "hovertemplate": "color=Text search<br>Classification Method=%{x}<br>Agreement value in %=%{y}<extra></extra>",
         "legendgroup": "Text search",
         "marker": {
          "color": "#636efa",
          "pattern": {
           "shape": ""
          }
         },
         "name": "Text search",
         "offsetgroup": "Text search",
         "orientation": "v",
         "showlegend": true,
         "textposition": "auto",
         "type": "bar",
         "x": [
          "Text search"
         ],
         "xaxis": "x",
         "y": [
          63.888888888888886
         ],
         "yaxis": "y"
        },
        {
         "alignmentgroup": "True",
         "hovertemplate": "color=Text search + missing articles classified with LlaMa<br>Classification Method=%{x}<br>Agreement value in %=%{y}<extra></extra>",
         "legendgroup": "Text search + missing articles classified with LlaMa",
         "marker": {
          "color": "#EF553B",
          "pattern": {
           "shape": ""
          }
         },
         "name": "Text search + missing articles classified with LlaMa",
         "offsetgroup": "Text search + missing articles classified with LlaMa",
         "orientation": "v",
         "showlegend": true,
         "textposition": "auto",
         "type": "bar",
         "x": [
          "Text search + missing articles classified with LlaMa"
         ],
         "xaxis": "x",
         "y": [
          58.333333333333336
         ],
         "yaxis": "y"
        },
        {
         "alignmentgroup": "True",
         "hovertemplate": "color=Full classification with Qwen<br>Classification Method=%{x}<br>Agreement value in %=%{y}<extra></extra>",
         "legendgroup": "Full classification with Qwen",
         "marker": {
          "color": "#00cc96",
          "pattern": {
           "shape": ""
          }
         },
         "name": "Full classification with Qwen",
         "offsetgroup": "Full classification with Qwen",
         "orientation": "v",
         "showlegend": true,
         "textposition": "auto",
         "type": "bar",
         "x": [
          "Full classification with Qwen"
         ],
         "xaxis": "x",
         "y": [
          66.66666666666666
         ],
         "yaxis": "y"
        },
        {
         "alignmentgroup": "True",
         "hovertemplate": "color=Full classification with LLaMa<br>Classification Method=%{x}<br>Agreement value in %=%{y}<extra></extra>",
         "legendgroup": "Full classification with LLaMa",
         "marker": {
          "color": "#ab63fa",
          "pattern": {
           "shape": ""
          }
         },
         "name": "Full classification with LLaMa",
         "offsetgroup": "Full classification with LLaMa",
         "orientation": "v",
         "showlegend": true,
         "textposition": "auto",
         "type": "bar",
         "x": [
          "Full classification with LLaMa"
         ],
         "xaxis": "x",
         "y": [
          72.22222222222221
         ],
         "yaxis": "y"
        },
        {
         "alignmentgroup": "True",
         "hovertemplate": "color=Improved classification with LLaMa<br>Classification Method=%{x}<br>Agreement value in %=%{y}<extra></extra>",
         "legendgroup": "Improved classification with LLaMa",
         "marker": {
          "color": "#FFA15A",
          "pattern": {
           "shape": ""
          }
         },
         "name": "Improved classification with LLaMa",
         "offsetgroup": "Improved classification with LLaMa",
         "orientation": "v",
         "showlegend": true,
         "textposition": "auto",
         "type": "bar",
         "x": [
          "Improved classification with LLaMa"
         ],
         "xaxis": "x",
         "y": [
          77.77777777777779
         ],
         "yaxis": "y"
        }
       ],
       "layout": {
        "barmode": "relative",
        "legend": {
         "title": {
          "text": "color"
         },
         "tracegroupgap": 0
        },
        "template": {
         "data": {
          "bar": [
           {
            "error_x": {
             "color": "#2a3f5f"
            },
            "error_y": {
             "color": "#2a3f5f"
            },
            "marker": {
             "line": {
              "color": "#E5ECF6",
              "width": 0.5
             },
             "pattern": {
              "fillmode": "overlay",
              "size": 10,
              "solidity": 0.2
             }
            },
            "type": "bar"
           }
          ],
          "barpolar": [
           {
            "marker": {
             "line": {
              "color": "#E5ECF6",
              "width": 0.5
             },
             "pattern": {
              "fillmode": "overlay",
              "size": 10,
              "solidity": 0.2
             }
            },
            "type": "barpolar"
           }
          ],
          "carpet": [
           {
            "aaxis": {
             "endlinecolor": "#2a3f5f",
             "gridcolor": "white",
             "linecolor": "white",
             "minorgridcolor": "white",
             "startlinecolor": "#2a3f5f"
            },
            "baxis": {
             "endlinecolor": "#2a3f5f",
             "gridcolor": "white",
             "linecolor": "white",
             "minorgridcolor": "white",
             "startlinecolor": "#2a3f5f"
            },
            "type": "carpet"
           }
          ],
          "choropleth": [
           {
            "colorbar": {
             "outlinewidth": 0,
             "ticks": ""
            },
            "type": "choropleth"
           }
          ],
          "contour": [
           {
            "colorbar": {
             "outlinewidth": 0,
             "ticks": ""
            },
            "colorscale": [
             [
              0,
              "#0d0887"
             ],
             [
              0.1111111111111111,
              "#46039f"
             ],
             [
              0.2222222222222222,
              "#7201a8"
             ],
             [
              0.3333333333333333,
              "#9c179e"
             ],
             [
              0.4444444444444444,
              "#bd3786"
             ],
             [
              0.5555555555555556,
              "#d8576b"
             ],
             [
              0.6666666666666666,
              "#ed7953"
             ],
             [
              0.7777777777777778,
              "#fb9f3a"
             ],
             [
              0.8888888888888888,
              "#fdca26"
             ],
             [
              1,
              "#f0f921"
             ]
            ],
            "type": "contour"
           }
          ],
          "contourcarpet": [
           {
            "colorbar": {
             "outlinewidth": 0,
             "ticks": ""
            },
            "type": "contourcarpet"
           }
          ],
          "heatmap": [
           {
            "colorbar": {
             "outlinewidth": 0,
             "ticks": ""
            },
            "colorscale": [
             [
              0,
              "#0d0887"
             ],
             [
              0.1111111111111111,
              "#46039f"
             ],
             [
              0.2222222222222222,
              "#7201a8"
             ],
             [
              0.3333333333333333,
              "#9c179e"
             ],
             [
              0.4444444444444444,
              "#bd3786"
             ],
             [
              0.5555555555555556,
              "#d8576b"
             ],
             [
              0.6666666666666666,
              "#ed7953"
             ],
             [
              0.7777777777777778,
              "#fb9f3a"
             ],
             [
              0.8888888888888888,
              "#fdca26"
             ],
             [
              1,
              "#f0f921"
             ]
            ],
            "type": "heatmap"
           }
          ],
          "heatmapgl": [
           {
            "colorbar": {
             "outlinewidth": 0,
             "ticks": ""
            },
            "colorscale": [
             [
              0,
              "#0d0887"
             ],
             [
              0.1111111111111111,
              "#46039f"
             ],
             [
              0.2222222222222222,
              "#7201a8"
             ],
             [
              0.3333333333333333,
              "#9c179e"
             ],
             [
              0.4444444444444444,
              "#bd3786"
             ],
             [
              0.5555555555555556,
              "#d8576b"
             ],
             [
              0.6666666666666666,
              "#ed7953"
             ],
             [
              0.7777777777777778,
              "#fb9f3a"
             ],
             [
              0.8888888888888888,
              "#fdca26"
             ],
             [
              1,
              "#f0f921"
             ]
            ],
            "type": "heatmapgl"
           }
          ],
          "histogram": [
           {
            "marker": {
             "pattern": {
              "fillmode": "overlay",
              "size": 10,
              "solidity": 0.2
             }
            },
            "type": "histogram"
           }
          ],
          "histogram2d": [
           {
            "colorbar": {
             "outlinewidth": 0,
             "ticks": ""
            },
            "colorscale": [
             [
              0,
              "#0d0887"
             ],
             [
              0.1111111111111111,
              "#46039f"
             ],
             [
              0.2222222222222222,
              "#7201a8"
             ],
             [
              0.3333333333333333,
              "#9c179e"
             ],
             [
              0.4444444444444444,
              "#bd3786"
             ],
             [
              0.5555555555555556,
              "#d8576b"
             ],
             [
              0.6666666666666666,
              "#ed7953"
             ],
             [
              0.7777777777777778,
              "#fb9f3a"
             ],
             [
              0.8888888888888888,
              "#fdca26"
             ],
             [
              1,
              "#f0f921"
             ]
            ],
            "type": "histogram2d"
           }
          ],
          "histogram2dcontour": [
           {
            "colorbar": {
             "outlinewidth": 0,
             "ticks": ""
            },
            "colorscale": [
             [
              0,
              "#0d0887"
             ],
             [
              0.1111111111111111,
              "#46039f"
             ],
             [
              0.2222222222222222,
              "#7201a8"
             ],
             [
              0.3333333333333333,
              "#9c179e"
             ],
             [
              0.4444444444444444,
              "#bd3786"
             ],
             [
              0.5555555555555556,
              "#d8576b"
             ],
             [
              0.6666666666666666,
              "#ed7953"
             ],
             [
              0.7777777777777778,
              "#fb9f3a"
             ],
             [
              0.8888888888888888,
              "#fdca26"
             ],
             [
              1,
              "#f0f921"
             ]
            ],
            "type": "histogram2dcontour"
           }
          ],
          "mesh3d": [
           {
            "colorbar": {
             "outlinewidth": 0,
             "ticks": ""
            },
            "type": "mesh3d"
           }
          ],
          "parcoords": [
           {
            "line": {
             "colorbar": {
              "outlinewidth": 0,
              "ticks": ""
             }
            },
            "type": "parcoords"
           }
          ],
          "pie": [
           {
            "automargin": true,
            "type": "pie"
           }
          ],
          "scatter": [
           {
            "fillpattern": {
             "fillmode": "overlay",
             "size": 10,
             "solidity": 0.2
            },
            "type": "scatter"
           }
          ],
          "scatter3d": [
           {
            "line": {
             "colorbar": {
              "outlinewidth": 0,
              "ticks": ""
             }
            },
            "marker": {
             "colorbar": {
              "outlinewidth": 0,
              "ticks": ""
             }
            },
            "type": "scatter3d"
           }
          ],
          "scattercarpet": [
           {
            "marker": {
             "colorbar": {
              "outlinewidth": 0,
              "ticks": ""
             }
            },
            "type": "scattercarpet"
           }
          ],
          "scattergeo": [
           {
            "marker": {
             "colorbar": {
              "outlinewidth": 0,
              "ticks": ""
             }
            },
            "type": "scattergeo"
           }
          ],
          "scattergl": [
           {
            "marker": {
             "colorbar": {
              "outlinewidth": 0,
              "ticks": ""
             }
            },
            "type": "scattergl"
           }
          ],
          "scattermapbox": [
           {
            "marker": {
             "colorbar": {
              "outlinewidth": 0,
              "ticks": ""
             }
            },
            "type": "scattermapbox"
           }
          ],
          "scatterpolar": [
           {
            "marker": {
             "colorbar": {
              "outlinewidth": 0,
              "ticks": ""
             }
            },
            "type": "scatterpolar"
           }
          ],
          "scatterpolargl": [
           {
            "marker": {
             "colorbar": {
              "outlinewidth": 0,
              "ticks": ""
             }
            },
            "type": "scatterpolargl"
           }
          ],
          "scatterternary": [
           {
            "marker": {
             "colorbar": {
              "outlinewidth": 0,
              "ticks": ""
             }
            },
            "type": "scatterternary"
           }
          ],
          "surface": [
           {
            "colorbar": {
             "outlinewidth": 0,
             "ticks": ""
            },
            "colorscale": [
             [
              0,
              "#0d0887"
             ],
             [
              0.1111111111111111,
              "#46039f"
             ],
             [
              0.2222222222222222,
              "#7201a8"
             ],
             [
              0.3333333333333333,
              "#9c179e"
             ],
             [
              0.4444444444444444,
              "#bd3786"
             ],
             [
              0.5555555555555556,
              "#d8576b"
             ],
             [
              0.6666666666666666,
              "#ed7953"
             ],
             [
              0.7777777777777778,
              "#fb9f3a"
             ],
             [
              0.8888888888888888,
              "#fdca26"
             ],
             [
              1,
              "#f0f921"
             ]
            ],
            "type": "surface"
           }
          ],
          "table": [
           {
            "cells": {
             "fill": {
              "color": "#EBF0F8"
             },
             "line": {
              "color": "white"
             }
            },
            "header": {
             "fill": {
              "color": "#C8D4E3"
             },
             "line": {
              "color": "white"
             }
            },
            "type": "table"
           }
          ]
         },
         "layout": {
          "annotationdefaults": {
           "arrowcolor": "#2a3f5f",
           "arrowhead": 0,
           "arrowwidth": 1
          },
          "autotypenumbers": "strict",
          "coloraxis": {
           "colorbar": {
            "outlinewidth": 0,
            "ticks": ""
           }
          },
          "colorscale": {
           "diverging": [
            [
             0,
             "#8e0152"
            ],
            [
             0.1,
             "#c51b7d"
            ],
            [
             0.2,
             "#de77ae"
            ],
            [
             0.3,
             "#f1b6da"
            ],
            [
             0.4,
             "#fde0ef"
            ],
            [
             0.5,
             "#f7f7f7"
            ],
            [
             0.6,
             "#e6f5d0"
            ],
            [
             0.7,
             "#b8e186"
            ],
            [
             0.8,
             "#7fbc41"
            ],
            [
             0.9,
             "#4d9221"
            ],
            [
             1,
             "#276419"
            ]
           ],
           "sequential": [
            [
             0,
             "#0d0887"
            ],
            [
             0.1111111111111111,
             "#46039f"
            ],
            [
             0.2222222222222222,
             "#7201a8"
            ],
            [
             0.3333333333333333,
             "#9c179e"
            ],
            [
             0.4444444444444444,
             "#bd3786"
            ],
            [
             0.5555555555555556,
             "#d8576b"
            ],
            [
             0.6666666666666666,
             "#ed7953"
            ],
            [
             0.7777777777777778,
             "#fb9f3a"
            ],
            [
             0.8888888888888888,
             "#fdca26"
            ],
            [
             1,
             "#f0f921"
            ]
           ],
           "sequentialminus": [
            [
             0,
             "#0d0887"
            ],
            [
             0.1111111111111111,
             "#46039f"
            ],
            [
             0.2222222222222222,
             "#7201a8"
            ],
            [
             0.3333333333333333,
             "#9c179e"
            ],
            [
             0.4444444444444444,
             "#bd3786"
            ],
            [
             0.5555555555555556,
             "#d8576b"
            ],
            [
             0.6666666666666666,
             "#ed7953"
            ],
            [
             0.7777777777777778,
             "#fb9f3a"
            ],
            [
             0.8888888888888888,
             "#fdca26"
            ],
            [
             1,
             "#f0f921"
            ]
           ]
          },
          "colorway": [
           "#636efa",
           "#EF553B",
           "#00cc96",
           "#ab63fa",
           "#FFA15A",
           "#19d3f3",
           "#FF6692",
           "#B6E880",
           "#FF97FF",
           "#FECB52"
          ],
          "font": {
           "color": "#2a3f5f"
          },
          "geo": {
           "bgcolor": "white",
           "lakecolor": "white",
           "landcolor": "#E5ECF6",
           "showlakes": true,
           "showland": true,
           "subunitcolor": "white"
          },
          "hoverlabel": {
           "align": "left"
          },
          "hovermode": "closest",
          "mapbox": {
           "style": "light"
          },
          "paper_bgcolor": "white",
          "plot_bgcolor": "#E5ECF6",
          "polar": {
           "angularaxis": {
            "gridcolor": "white",
            "linecolor": "white",
            "ticks": ""
           },
           "bgcolor": "#E5ECF6",
           "radialaxis": {
            "gridcolor": "white",
            "linecolor": "white",
            "ticks": ""
           }
          },
          "scene": {
           "xaxis": {
            "backgroundcolor": "#E5ECF6",
            "gridcolor": "white",
            "gridwidth": 2,
            "linecolor": "white",
            "showbackground": true,
            "ticks": "",
            "zerolinecolor": "white"
           },
           "yaxis": {
            "backgroundcolor": "#E5ECF6",
            "gridcolor": "white",
            "gridwidth": 2,
            "linecolor": "white",
            "showbackground": true,
            "ticks": "",
            "zerolinecolor": "white"
           },
           "zaxis": {
            "backgroundcolor": "#E5ECF6",
            "gridcolor": "white",
            "gridwidth": 2,
            "linecolor": "white",
            "showbackground": true,
            "ticks": "",
            "zerolinecolor": "white"
           }
          },
          "shapedefaults": {
           "line": {
            "color": "#2a3f5f"
           }
          },
          "ternary": {
           "aaxis": {
            "gridcolor": "white",
            "linecolor": "white",
            "ticks": ""
           },
           "baxis": {
            "gridcolor": "white",
            "linecolor": "white",
            "ticks": ""
           },
           "bgcolor": "#E5ECF6",
           "caxis": {
            "gridcolor": "white",
            "linecolor": "white",
            "ticks": ""
           }
          },
          "title": {
           "x": 0.05
          },
          "xaxis": {
           "automargin": true,
           "gridcolor": "white",
           "linecolor": "white",
           "ticks": "",
           "title": {
            "standoff": 15
           },
           "zerolinecolor": "white",
           "zerolinewidth": 2
          },
          "yaxis": {
           "automargin": true,
           "gridcolor": "white",
           "linecolor": "white",
           "ticks": "",
           "title": {
            "standoff": 15
           },
           "zerolinecolor": "white",
           "zerolinewidth": 2
          }
         }
        },
        "title": {
         "text": "Agreement between annotators and classification method in %"
        },
        "xaxis": {
         "anchor": "y",
         "domain": [
          0,
          1
         ],
         "showticklabels": false,
         "title": {
          "text": "Classification Method"
         }
        },
        "yaxis": {
         "anchor": "x",
         "domain": [
          0,
          1
         ],
         "range": [
          0,
          100
         ],
         "title": {
          "text": "Agreement value in %"
         }
        }
       }
      }
     },
     "metadata": {},
     "output_type": "display_data"
    }
   ],
   "source": [
    "models = {\n",
    "    \"Text search\": counts,\n",
    "    \"Text search + missing articles classified with LlaMa\": refined_data,\n",
    "    \"Full classification with Qwen\": qwen_country_data,\n",
    "    \"Full classification with LLaMa\": llama_country_data,\n",
    "    \"Improved classification with LLaMa\": llama_country_data_imporved\n",
    "}\n",
    "\n",
    "values = []\n",
    "for model in models.keys():\n",
    "    agreement_value = (models[model].loc[df.index][\"Top_1_name\"].str.lower().fillna(\"nan\") == df[\"country\"].str.lower().fillna(\"nan\")).sum() / len(df) * 100\n",
    "    values.append(agreement_value)\n",
    "    \n",
    "fig = px.bar(\n",
    "    x=models.keys(), \n",
    "    y=values, \n",
    "    color=models.keys(),\n",
    "    title=\"Agreement between annotators and classification method in %\", \n",
    "    labels={\"x\": \"Classification Method\", \"y\": \"Agreement value in %\"}\n",
    "    )\n",
    "fig.update_xaxes(showticklabels=False)  # Remove x-axis tick labels\n",
    "\n",
    "fig.update_yaxes(range=[0, 100])\n",
    "fig.show()\n",
    "\n",
    "# fig.write_html(\"./graphs/agreement_bar_plot.html\")"
   ]
  },
  {
   "cell_type": "markdown",
   "metadata": {},
   "source": [
    "# 2. Analysis of the Wikipedia graph"
   ]
  },
  {
   "cell_type": "markdown",
   "metadata": {},
   "source": [
    "## Questions of interest \n",
    "\n",
    "0) What are the most clicked articles?\n",
    "1) What is the distribution of countries in the Wikipedia graph? \n",
    "3) What is the distribution of in and out degrees per country? "
   ]
  },
  {
   "cell_type": "markdown",
   "metadata": {},
   "source": [
    "## 2.0. What are the most clicked articles? "
   ]
  },
  {
   "cell_type": "markdown",
   "metadata": {},
   "source": [
    "Let's first import the data `country_clicks_links.csv` with which we will be working."
   ]
  },
  {
   "cell_type": "code",
   "execution_count": 86,
   "metadata": {},
   "outputs": [],
   "source": [
    "data = pd.read_csv(\"data/country_clicks_links.csv\", index_col=0)"
   ]
  },
  {
   "cell_type": "markdown",
   "metadata": {},
   "source": [
    "Now we define the variables that we need."
   ]
  },
  {
   "cell_type": "code",
   "execution_count": 87,
   "metadata": {},
   "outputs": [],
   "source": [
    "data_sorted = data.sort_values(by='click_count', ascending=False)\n",
    "data_sorted = data_sorted[data_sorted['click_count'] != 0]\n",
    "\n",
    "articles = data_sorted.index.tolist()\n",
    "click_count = data_sorted.click_count.tolist()\n",
    "in_degree = data_sorted.num_links_in.tolist()\n",
    "out_degree = data_sorted.num_links_out.tolist()"
   ]
  },
  {
   "cell_type": "markdown",
   "metadata": {},
   "source": [
    "Let's construct a graph in which: \n",
    "- each node is an article\n",
    "    - 20 most clicked articles \n",
    "    - 20 least clicked articles "
   ]
  },
  {
   "cell_type": "code",
   "execution_count": 88,
   "metadata": {},
   "outputs": [],
   "source": [
    "data_top20 = data_sorted.iloc[:20,]\n",
    "data_bottom20 = data_sorted.iloc[-20:,]"
   ]
  },
  {
   "cell_type": "markdown",
   "metadata": {},
   "source": [
    "- the size and color of a node is proportional to the number of clicks associtated to that node\n",
    "- each edge represents an out link\n",
    "\n",
    "We are also interested in the in and out degree of each article\n",
    "- in degree = num_links_in \n",
    "- out degree = num_links_out"
   ]
  },
  {
   "cell_type": "markdown",
   "metadata": {},
   "source": [
    "Let's first look at the most clicked articles:"
   ]
  },
  {
   "cell_type": "code",
   "execution_count": 90,
   "metadata": {},
   "outputs": [
    {
     "name": "stdout",
     "output_type": "stream",
     "text": [
      "graphs/topic_1/most_used_articles_graph.html\n",
      "Map is saved in graphs/topic_1/most_used_articles_graph.html!\n"
     ]
    }
   ],
   "source": [
    "draw_circle_graph(data_top20, \"graphs/topic_1/most_used_articles_graph.html\", project_path)"
   ]
  },
  {
   "cell_type": "markdown",
   "metadata": {},
   "source": [
    "An now let's look at the least clicked articles: "
   ]
  },
  {
   "cell_type": "code",
   "execution_count": 14,
   "metadata": {},
   "outputs": [
    {
     "name": "stdout",
     "output_type": "stream",
     "text": [
      "graphs/topic_1/least_used_articles_graph.html\n",
      "Map is saved in graphs/topic_1/least_used_articles_graph.html!\n"
     ]
    }
   ],
   "source": [
    "draw_circle_graph(data_bottom20, \"graphs/topic_1/least_used_articles_graph.html\", project_path)"
   ]
  },
  {
   "cell_type": "markdown",
   "metadata": {},
   "source": [
    "We see that almost all atricles among the top20 can be associated to a country (e.g. English_language to England). The same is true for the bottom20 articles (e.g. Afghan hound to Afghanistan). This motivates our project in which we will associate each article to it's corresponding country and analyse the distributions of those countries within the Wikipedia graph. In the end, we are ultimately interested in whether players of the Wikispeedia game really tend to click more on articles that are associated with western countries or if this feature is due to the properties of the Wikipedia graph itself. "
   ]
  },
  {
   "cell_type": "markdown",
   "metadata": {},
   "source": [
    "## 2.1. What is the distribution of countries in the Wikipedia graph?"
   ]
  },
  {
   "cell_type": "markdown",
   "metadata": {},
   "source": [
    "Now that all (most) articles are associated to a country, we can look at the distribution of those countries. Is there a country that is associated to more articles? (we have our little idea haha but let's check). "
   ]
  },
  {
   "cell_type": "markdown",
   "metadata": {},
   "source": [
    "In order to find the distribution of countries in the Wikipedia graph, we need the number of articles that are associated to each of the represented countries."
   ]
  },
  {
   "cell_type": "code",
   "execution_count": 15,
   "metadata": {},
   "outputs": [
    {
     "data": {
      "text/html": [
       "<div>\n",
       "<style scoped>\n",
       "    .dataframe tbody tr th:only-of-type {\n",
       "        vertical-align: middle;\n",
       "    }\n",
       "\n",
       "    .dataframe tbody tr th {\n",
       "        vertical-align: top;\n",
       "    }\n",
       "\n",
       "    .dataframe thead th {\n",
       "        text-align: right;\n",
       "    }\n",
       "</style>\n",
       "<table border=\"1\" class=\"dataframe\">\n",
       "  <thead>\n",
       "    <tr style=\"text-align: right;\">\n",
       "      <th></th>\n",
       "      <th>Top_1_name</th>\n",
       "      <th>click_count</th>\n",
       "      <th>num_links_in</th>\n",
       "      <th>name_links_in</th>\n",
       "      <th>num_links_out</th>\n",
       "      <th>name_links_out</th>\n",
       "      <th>occurrence</th>\n",
       "      <th>percent</th>\n",
       "    </tr>\n",
       "  </thead>\n",
       "  <tbody>\n",
       "    <tr>\n",
       "      <th>0</th>\n",
       "      <td>afghanistan</td>\n",
       "      <td>629</td>\n",
       "      <td>313.0</td>\n",
       "      <td>['15th_Marine_Expeditionary_Unit', '18th_centu...</td>\n",
       "      <td>732.0</td>\n",
       "      <td>['18th_century', 'Afghan_Hound', 'Alexander_th...</td>\n",
       "      <td>10</td>\n",
       "      <td>0.003858</td>\n",
       "    </tr>\n",
       "    <tr>\n",
       "      <th>1</th>\n",
       "      <td>albania</td>\n",
       "      <td>21</td>\n",
       "      <td>85.0</td>\n",
       "      <td>['AK-47', 'Armenia', 'Atheism', 'Athens', 'Aze...</td>\n",
       "      <td>153.0</td>\n",
       "      <td>['Afghanistan', 'Agriculture', 'Algeria', 'Anc...</td>\n",
       "      <td>2</td>\n",
       "      <td>0.000772</td>\n",
       "    </tr>\n",
       "    <tr>\n",
       "      <th>2</th>\n",
       "      <td>algeria</td>\n",
       "      <td>700</td>\n",
       "      <td>263.0</td>\n",
       "      <td>['10th_century', '1973_oil_crisis', 'Africa', ...</td>\n",
       "      <td>201.0</td>\n",
       "      <td>['Africa', 'Agriculture', 'Algerian_Civil_War'...</td>\n",
       "      <td>6</td>\n",
       "      <td>0.002315</td>\n",
       "    </tr>\n",
       "    <tr>\n",
       "      <th>3</th>\n",
       "      <td>andorra</td>\n",
       "      <td>6</td>\n",
       "      <td>41.0</td>\n",
       "      <td>['Albania', 'Armenia', 'Azerbaijan', 'Biodiver...</td>\n",
       "      <td>54.0</td>\n",
       "      <td>['Agriculture', 'Algeria', 'Argentina', 'Brazi...</td>\n",
       "      <td>1</td>\n",
       "      <td>0.000386</td>\n",
       "    </tr>\n",
       "    <tr>\n",
       "      <th>4</th>\n",
       "      <td>angola</td>\n",
       "      <td>28</td>\n",
       "      <td>80.0</td>\n",
       "      <td>['13th_century', '2005_Lake_Tanganyika_earthqu...</td>\n",
       "      <td>21.0</td>\n",
       "      <td>['Africa', 'Atlantic_Ocean', 'Bantu', 'Cold_Wa...</td>\n",
       "      <td>1</td>\n",
       "      <td>0.000386</td>\n",
       "    </tr>\n",
       "    <tr>\n",
       "      <th>...</th>\n",
       "      <td>...</td>\n",
       "      <td>...</td>\n",
       "      <td>...</td>\n",
       "      <td>...</td>\n",
       "      <td>...</td>\n",
       "      <td>...</td>\n",
       "      <td>...</td>\n",
       "      <td>...</td>\n",
       "    </tr>\n",
       "    <tr>\n",
       "      <th>190</th>\n",
       "      <td>venezuela</td>\n",
       "      <td>447</td>\n",
       "      <td>180.0</td>\n",
       "      <td>['El_Hatillo_Municipality%2C_Miranda', 'Global...</td>\n",
       "      <td>150.0</td>\n",
       "      <td>['Baroque', 'Baseball', 'Capital', 'Caribbean_...</td>\n",
       "      <td>5</td>\n",
       "      <td>0.001929</td>\n",
       "    </tr>\n",
       "    <tr>\n",
       "      <th>191</th>\n",
       "      <td>vietnam</td>\n",
       "      <td>287</td>\n",
       "      <td>281.0</td>\n",
       "      <td>['Asia', 'Beijing', 'Global_city', 'Ho_Chi_Min...</td>\n",
       "      <td>171.0</td>\n",
       "      <td>['Agriculture', 'Australia', 'Capital', 'Confu...</td>\n",
       "      <td>6</td>\n",
       "      <td>0.002315</td>\n",
       "    </tr>\n",
       "    <tr>\n",
       "      <th>192</th>\n",
       "      <td>yemen</td>\n",
       "      <td>19</td>\n",
       "      <td>68.0</td>\n",
       "      <td>['Albania', 'Arab_League', 'Arabic_language', ...</td>\n",
       "      <td>140.0</td>\n",
       "      <td>['11th_century', '16th_century', '19th_century...</td>\n",
       "      <td>1</td>\n",
       "      <td>0.000386</td>\n",
       "    </tr>\n",
       "    <tr>\n",
       "      <th>193</th>\n",
       "      <td>zambia</td>\n",
       "      <td>121</td>\n",
       "      <td>122.0</td>\n",
       "      <td>['Zambezi']['Africa', 'Henry_Morton_Stanley', ...</td>\n",
       "      <td>206.0</td>\n",
       "      <td>['AIDS', 'Copper', 'Mining', 'Zambezi', 'Zambi...</td>\n",
       "      <td>6</td>\n",
       "      <td>0.002315</td>\n",
       "    </tr>\n",
       "    <tr>\n",
       "      <th>194</th>\n",
       "      <td>zimbabwe</td>\n",
       "      <td>99</td>\n",
       "      <td>92.0</td>\n",
       "      <td>['Africa', 'Global_city', 'Munich', 'Nottingha...</td>\n",
       "      <td>80.0</td>\n",
       "      <td>['Capital', 'Citrus', 'City', 'Cotton', 'Fruit...</td>\n",
       "      <td>2</td>\n",
       "      <td>0.000772</td>\n",
       "    </tr>\n",
       "  </tbody>\n",
       "</table>\n",
       "<p>195 rows × 8 columns</p>\n",
       "</div>"
      ],
      "text/plain": [
       "      Top_1_name  click_count  num_links_in  \\\n",
       "0    afghanistan          629         313.0   \n",
       "1        albania           21          85.0   \n",
       "2        algeria          700         263.0   \n",
       "3        andorra            6          41.0   \n",
       "4         angola           28          80.0   \n",
       "..           ...          ...           ...   \n",
       "190    venezuela          447         180.0   \n",
       "191      vietnam          287         281.0   \n",
       "192        yemen           19          68.0   \n",
       "193       zambia          121         122.0   \n",
       "194     zimbabwe           99          92.0   \n",
       "\n",
       "                                         name_links_in  num_links_out  \\\n",
       "0    ['15th_Marine_Expeditionary_Unit', '18th_centu...          732.0   \n",
       "1    ['AK-47', 'Armenia', 'Atheism', 'Athens', 'Aze...          153.0   \n",
       "2    ['10th_century', '1973_oil_crisis', 'Africa', ...          201.0   \n",
       "3    ['Albania', 'Armenia', 'Azerbaijan', 'Biodiver...           54.0   \n",
       "4    ['13th_century', '2005_Lake_Tanganyika_earthqu...           21.0   \n",
       "..                                                 ...            ...   \n",
       "190  ['El_Hatillo_Municipality%2C_Miranda', 'Global...          150.0   \n",
       "191  ['Asia', 'Beijing', 'Global_city', 'Ho_Chi_Min...          171.0   \n",
       "192  ['Albania', 'Arab_League', 'Arabic_language', ...          140.0   \n",
       "193  ['Zambezi']['Africa', 'Henry_Morton_Stanley', ...          206.0   \n",
       "194  ['Africa', 'Global_city', 'Munich', 'Nottingha...           80.0   \n",
       "\n",
       "                                        name_links_out  occurrence   percent  \n",
       "0    ['18th_century', 'Afghan_Hound', 'Alexander_th...          10  0.003858  \n",
       "1    ['Afghanistan', 'Agriculture', 'Algeria', 'Anc...           2  0.000772  \n",
       "2    ['Africa', 'Agriculture', 'Algerian_Civil_War'...           6  0.002315  \n",
       "3    ['Agriculture', 'Algeria', 'Argentina', 'Brazi...           1  0.000386  \n",
       "4    ['Africa', 'Atlantic_Ocean', 'Bantu', 'Cold_Wa...           1  0.000386  \n",
       "..                                                 ...         ...       ...  \n",
       "190  ['Baroque', 'Baseball', 'Capital', 'Caribbean_...           5  0.001929  \n",
       "191  ['Agriculture', 'Australia', 'Capital', 'Confu...           6  0.002315  \n",
       "192  ['11th_century', '16th_century', '19th_century...           1  0.000386  \n",
       "193  ['AIDS', 'Copper', 'Mining', 'Zambezi', 'Zambi...           6  0.002315  \n",
       "194  ['Capital', 'Citrus', 'City', 'Cotton', 'Fruit...           2  0.000772  \n",
       "\n",
       "[195 rows x 8 columns]"
      ]
     },
     "execution_count": 15,
     "metadata": {},
     "output_type": "execute_result"
    }
   ],
   "source": [
    "countries_occurrences = data.groupby(\"Top_1_name\").size().reset_index()\n",
    "data_countries = data.groupby(\"Top_1_name\").sum().reset_index()\n",
    "data_countries[\"occurrence\"] = countries_occurrences.iloc[:,1].tolist()\n",
    "\n",
    "# percent of articles that belong to each country\n",
    "data_countries[\"percent\"] = data_countries[\"occurrence\"] / sum(data_countries[\"occurrence\"])\n",
    "data_countries"
   ]
  },
  {
   "cell_type": "code",
   "execution_count": 16,
   "metadata": {},
   "outputs": [
    {
     "data": {
      "application/vnd.plotly.v1+json": {
       "config": {
        "plotlyServerURL": "https://plot.ly"
       },
       "data": [
        {
         "customdata": [
          "Country: afghanistan<br>Percentage: 0.39%",
          "Country: albania<br>Percentage: 0.08%",
          "Country: algeria<br>Percentage: 0.23%",
          "Country: andorra<br>Percentage: 0.04%",
          "Country: angola<br>Percentage: 0.04%",
          "Country: anguilla<br>Percentage: 0.04%",
          "Country: antarctica<br>Percentage: 0.27%",
          "Country: argentina<br>Percentage: 0.58%",
          "Country: armenia<br>Percentage: 0.12%",
          "Country: aruba<br>Percentage: 0.04%",
          "Country: australia<br>Percentage: 4.21%",
          "Country: austria<br>Percentage: 0.66%",
          "Country: azerbaijan<br>Percentage: 0.08%",
          "Country: bahamas<br>Percentage: 0.19%",
          "Country: bahrain<br>Percentage: 0.04%",
          "Country: bangladesh<br>Percentage: 0.08%",
          "Country: barbados<br>Percentage: 0.08%",
          "Country: belarus<br>Percentage: 0.08%",
          "Country: belgium<br>Percentage: 0.62%",
          "Country: belize<br>Percentage: 0.04%",
          "Country: benin<br>Percentage: 0.12%",
          "Country: bermuda<br>Percentage: 0.08%",
          "Country: bhutan<br>Percentage: 0.04%",
          "Country: bolivia<br>Percentage: 0.15%",
          "Country: botswana<br>Percentage: 0.12%",
          "Country: brazil<br>Percentage: 0.69%",
          "Country: british virgin islands<br>Percentage: 0.04%",
          "Country: brunei<br>Percentage: 0.04%",
          "Country: bulgaria<br>Percentage: 0.04%",
          "Country: burkina faso<br>Percentage: 0.15%",
          "Country: burundi<br>Percentage: 0.04%",
          "Country: cambodia<br>Percentage: 0.12%",
          "Country: cameroon<br>Percentage: 0.12%",
          "Country: canada<br>Percentage: 2.66%",
          "Country: cape verde<br>Percentage: 0.08%",
          "Country: cayman islands<br>Percentage: 0.04%",
          "Country: central african republic<br>Percentage: 0.04%",
          "Country: chad<br>Percentage: 0.12%",
          "Country: chile<br>Percentage: 0.35%",
          "Country: china<br>Percentage: 3.28%",
          "Country: colombia<br>Percentage: 0.15%",
          "Country: comoros<br>Percentage: 0.04%",
          "Country: cook islands<br>Percentage: 0.04%",
          "Country: costa rica<br>Percentage: 0.04%",
          "Country: croatia<br>Percentage: 0.04%",
          "Country: cuba<br>Percentage: 0.12%",
          "Country: cyprus<br>Percentage: 0.08%",
          "Country: denmark<br>Percentage: 0.81%",
          "Country: djibouti<br>Percentage: 0.04%",
          "Country: dominica<br>Percentage: 0.08%",
          "Country: ecuador<br>Percentage: 0.15%",
          "Country: egypt<br>Percentage: 1.12%",
          "Country: el salvador<br>Percentage: 0.04%",
          "Country: eritrea<br>Percentage: 0.04%",
          "Country: estonia<br>Percentage: 0.12%",
          "Country: ethiopia<br>Percentage: 0.54%",
          "Country: falkland islands<br>Percentage: 0.08%",
          "Country: fiji<br>Percentage: 0.04%",
          "Country: finland<br>Percentage: 0.27%",
          "Country: france<br>Percentage: 4.13%",
          "Country: french polynesia<br>Percentage: 0.04%",
          "Country: gabon<br>Percentage: 0.08%",
          "Country: gambia<br>Percentage: 0.08%",
          "Country: georgia<br>Percentage: 0.23%",
          "Country: germany<br>Percentage: 4.09%",
          "Country: ghana<br>Percentage: 0.15%",
          "Country: gibraltar<br>Percentage: 0.08%",
          "Country: greece<br>Percentage: 2.16%",
          "Country: greenland<br>Percentage: 0.08%",
          "Country: grenada<br>Percentage: 0.12%",
          "Country: guadeloupe<br>Percentage: 0.04%",
          "Country: guam<br>Percentage: 0.04%",
          "Country: guatemala<br>Percentage: 0.08%",
          "Country: guernsey<br>Percentage: 0.08%",
          "Country: guinea<br>Percentage: 0.04%",
          "Country: guyana<br>Percentage: 0.08%",
          "Country: haiti<br>Percentage: 0.04%",
          "Country: honduras<br>Percentage: 0.12%",
          "Country: hungary<br>Percentage: 0.35%",
          "Country: iceland<br>Percentage: 0.35%",
          "Country: india<br>Percentage: 3.51%",
          "Country: indonesia<br>Percentage: 0.66%",
          "Country: iran<br>Percentage: 0.69%",
          "Country: iraq<br>Percentage: 0.54%",
          "Country: ireland<br>Percentage: 1.58%",
          "Country: isle of man<br>Percentage: 0.08%",
          "Country: israel<br>Percentage: 0.77%",
          "Country: italy<br>Percentage: 3.97%",
          "Country: jamaica<br>Percentage: 0.15%",
          "Country: japan<br>Percentage: 2.24%",
          "Country: jersey<br>Percentage: 0.12%",
          "Country: jordan<br>Percentage: 0.15%",
          "Country: kazakhstan<br>Percentage: 0.15%",
          "Country: kenya<br>Percentage: 0.27%",
          "Country: kiribati<br>Percentage: 0.08%",
          "Country: kuwait<br>Percentage: 0.08%",
          "Country: kyrgyzstan<br>Percentage: 0.08%",
          "Country: laos<br>Percentage: 0.04%",
          "Country: latvia<br>Percentage: 0.04%",
          "Country: lebanon<br>Percentage: 0.12%",
          "Country: lesotho<br>Percentage: 0.12%",
          "Country: liberia<br>Percentage: 0.12%",
          "Country: libya<br>Percentage: 0.08%",
          "Country: liechtenstein<br>Percentage: 0.04%",
          "Country: lithuania<br>Percentage: 0.04%",
          "Country: luxembourg<br>Percentage: 0.15%",
          "Country: madagascar<br>Percentage: 0.23%",
          "Country: malawi<br>Percentage: 0.15%",
          "Country: malaysia<br>Percentage: 0.39%",
          "Country: maldives<br>Percentage: 0.04%",
          "Country: mali<br>Percentage: 0.12%",
          "Country: malta<br>Percentage: 0.04%",
          "Country: marshall islands<br>Percentage: 0.04%",
          "Country: martinique<br>Percentage: 0.08%",
          "Country: mauritania<br>Percentage: 0.08%",
          "Country: mauritius<br>Percentage: 0.15%",
          "Country: mexico<br>Percentage: 1.04%",
          "Country: micronesia<br>Percentage: 0.04%",
          "Country: moldova<br>Percentage: 0.08%",
          "Country: monaco<br>Percentage: 0.12%",
          "Country: mongolia<br>Percentage: 0.35%",
          "Country: montenegro<br>Percentage: 0.04%",
          "Country: montserrat<br>Percentage: 0.04%",
          "Country: morocco<br>Percentage: 0.46%",
          "Country: mozambique<br>Percentage: 0.12%",
          "Country: namibia<br>Percentage: 0.04%",
          "Country: nauru<br>Percentage: 0.04%",
          "Country: nepal<br>Percentage: 0.27%",
          "Country: netherlands<br>Percentage: 1.12%",
          "Country: new zealand<br>Percentage: 0.81%",
          "Country: nicaragua<br>Percentage: 0.04%",
          "Country: niger<br>Percentage: 0.04%",
          "Country: niue<br>Percentage: 0.04%",
          "Country: north korea<br>Percentage: 0.12%",
          "Country: northern mariana islands<br>Percentage: 0.04%",
          "Country: norway<br>Percentage: 0.73%",
          "Country: oman<br>Percentage: 0.12%",
          "Country: pakistan<br>Percentage: 0.58%",
          "Country: palau<br>Percentage: 0.04%",
          "Country: panama<br>Percentage: 0.12%",
          "Country: paraguay<br>Percentage: 0.08%",
          "Country: peru<br>Percentage: 0.42%",
          "Country: philippines<br>Percentage: 0.46%",
          "Country: pitcairn islands<br>Percentage: 0.04%",
          "Country: poland<br>Percentage: 1.0%",
          "Country: portugal<br>Percentage: 0.39%",
          "Country: puerto rico<br>Percentage: 0.23%",
          "Country: qatar<br>Percentage: 0.12%",
          "Country: russia<br>Percentage: 2.62%",
          "Country: rwanda<br>Percentage: 0.23%",
          "Country: samoa<br>Percentage: 0.04%",
          "Country: san marino<br>Percentage: 0.04%",
          "Country: saudi arabia<br>Percentage: 0.27%",
          "Country: senegal<br>Percentage: 0.08%",
          "Country: serbia<br>Percentage: 0.23%",
          "Country: seychelles<br>Percentage: 0.08%",
          "Country: sierra leone<br>Percentage: 0.08%",
          "Country: singapore<br>Percentage: 0.15%",
          "Country: slovakia<br>Percentage: 0.12%",
          "Country: slovenia<br>Percentage: 0.04%",
          "Country: solomon islands<br>Percentage: 0.19%",
          "Country: south africa<br>Percentage: 1.47%",
          "Country: south korea<br>Percentage: 0.12%",
          "Country: spain<br>Percentage: 1.12%",
          "Country: sri lanka<br>Percentage: 0.15%",
          "Country: sudan<br>Percentage: 0.23%",
          "Country: suriname<br>Percentage: 0.08%",
          "Country: sweden<br>Percentage: 0.5%",
          "Country: switzerland<br>Percentage: 0.77%",
          "Country: syria<br>Percentage: 0.19%",
          "Country: taiwan<br>Percentage: 0.12%",
          "Country: tajikistan<br>Percentage: 0.04%",
          "Country: tanzania<br>Percentage: 0.15%",
          "Country: thailand<br>Percentage: 0.15%",
          "Country: timor-leste<br>Percentage: 0.04%",
          "Country: togo<br>Percentage: 0.08%",
          "Country: tonga<br>Percentage: 0.04%",
          "Country: tunisia<br>Percentage: 0.08%",
          "Country: turkey<br>Percentage: 0.58%",
          "Country: turkmenistan<br>Percentage: 0.04%",
          "Country: tuvalu<br>Percentage: 0.04%",
          "Country: uganda<br>Percentage: 0.31%",
          "Country: ukraine<br>Percentage: 0.27%",
          "Country: united arab emirates<br>Percentage: 0.15%",
          "Country: united kingdom<br>Percentage: 7.83%",
          "Country: united states<br>Percentage: 21.41%",
          "Country: uruguay<br>Percentage: 0.08%",
          "Country: uzbekistan<br>Percentage: 0.23%",
          "Country: vanuatu<br>Percentage: 0.04%",
          "Country: vatican city<br>Percentage: 0.04%",
          "Country: venezuela<br>Percentage: 0.19%",
          "Country: vietnam<br>Percentage: 0.23%",
          "Country: yemen<br>Percentage: 0.04%",
          "Country: zambia<br>Percentage: 0.23%",
          "Country: zimbabwe<br>Percentage: 0.08%"
         ],
         "domain": {
          "x": [
           0,
           1
          ],
          "y": [
           0,
           1
          ]
         },
         "hovertemplate": "<b>%{customdata}</b><extra></extra>",
         "labels": [
          "afghanistan",
          "albania",
          "algeria",
          "andorra",
          "angola",
          "anguilla",
          "antarctica",
          "argentina",
          "armenia",
          "aruba",
          "australia",
          "austria",
          "azerbaijan",
          "bahamas",
          "bahrain",
          "bangladesh",
          "barbados",
          "belarus",
          "belgium",
          "belize",
          "benin",
          "bermuda",
          "bhutan",
          "bolivia",
          "botswana",
          "brazil",
          "british virgin islands",
          "brunei",
          "bulgaria",
          "burkina faso",
          "burundi",
          "cambodia",
          "cameroon",
          "canada",
          "cape verde",
          "cayman islands",
          "central african republic",
          "chad",
          "chile",
          "china",
          "colombia",
          "comoros",
          "cook islands",
          "costa rica",
          "croatia",
          "cuba",
          "cyprus",
          "denmark",
          "djibouti",
          "dominica",
          "ecuador",
          "egypt",
          "el salvador",
          "eritrea",
          "estonia",
          "ethiopia",
          "falkland islands",
          "fiji",
          "finland",
          "france",
          "french polynesia",
          "gabon",
          "gambia",
          "georgia",
          "germany",
          "ghana",
          "gibraltar",
          "greece",
          "greenland",
          "grenada",
          "guadeloupe",
          "guam",
          "guatemala",
          "guernsey",
          "guinea",
          "guyana",
          "haiti",
          "honduras",
          "hungary",
          "iceland",
          "india",
          "indonesia",
          "iran",
          "iraq",
          "ireland",
          "isle of man",
          "israel",
          "italy",
          "jamaica",
          "japan",
          "jersey",
          "jordan",
          "kazakhstan",
          "kenya",
          "kiribati",
          "kuwait",
          "kyrgyzstan",
          "laos",
          "latvia",
          "lebanon",
          "lesotho",
          "liberia",
          "libya",
          "liechtenstein",
          "lithuania",
          "luxembourg",
          "madagascar",
          "malawi",
          "malaysia",
          "maldives",
          "mali",
          "malta",
          "marshall islands",
          "martinique",
          "mauritania",
          "mauritius",
          "mexico",
          "micronesia",
          "moldova",
          "monaco",
          "mongolia",
          "montenegro",
          "montserrat",
          "morocco",
          "mozambique",
          "namibia",
          "nauru",
          "nepal",
          "netherlands",
          "new zealand",
          "nicaragua",
          "niger",
          "niue",
          "north korea",
          "northern mariana islands",
          "norway",
          "oman",
          "pakistan",
          "palau",
          "panama",
          "paraguay",
          "peru",
          "philippines",
          "pitcairn islands",
          "poland",
          "portugal",
          "puerto rico",
          "qatar",
          "russia",
          "rwanda",
          "samoa",
          "san marino",
          "saudi arabia",
          "senegal",
          "serbia",
          "seychelles",
          "sierra leone",
          "singapore",
          "slovakia",
          "slovenia",
          "solomon islands",
          "south africa",
          "south korea",
          "spain",
          "sri lanka",
          "sudan",
          "suriname",
          "sweden",
          "switzerland",
          "syria",
          "taiwan",
          "tajikistan",
          "tanzania",
          "thailand",
          "timor-leste",
          "togo",
          "tonga",
          "tunisia",
          "turkey",
          "turkmenistan",
          "tuvalu",
          "uganda",
          "ukraine",
          "united arab emirates",
          "united kingdom",
          "united states",
          "uruguay",
          "uzbekistan",
          "vanuatu",
          "vatican city",
          "venezuela",
          "vietnam",
          "yemen",
          "zambia",
          "zimbabwe"
         ],
         "legendgroup": "",
         "name": "",
         "showlegend": true,
         "textposition": "inside",
         "type": "pie",
         "values": [
          0.0038580246913580245,
          0.0007716049382716049,
          0.0023148148148148147,
          0.00038580246913580245,
          0.00038580246913580245,
          0.00038580246913580245,
          0.002700617283950617,
          0.005787037037037037,
          0.0011574074074074073,
          0.00038580246913580245,
          0.04205246913580247,
          0.006558641975308642,
          0.0007716049382716049,
          0.0019290123456790122,
          0.00038580246913580245,
          0.0007716049382716049,
          0.0007716049382716049,
          0.0007716049382716049,
          0.006172839506172839,
          0.00038580246913580245,
          0.0011574074074074073,
          0.0007716049382716049,
          0.00038580246913580245,
          0.0015432098765432098,
          0.0011574074074074073,
          0.006944444444444444,
          0.00038580246913580245,
          0.00038580246913580245,
          0.00038580246913580245,
          0.0015432098765432098,
          0.00038580246913580245,
          0.0011574074074074073,
          0.0011574074074074073,
          0.02662037037037037,
          0.0007716049382716049,
          0.00038580246913580245,
          0.00038580246913580245,
          0.0011574074074074073,
          0.003472222222222222,
          0.03279320987654321,
          0.0015432098765432098,
          0.00038580246913580245,
          0.00038580246913580245,
          0.00038580246913580245,
          0.00038580246913580245,
          0.0011574074074074073,
          0.0007716049382716049,
          0.008101851851851851,
          0.00038580246913580245,
          0.0007716049382716049,
          0.0015432098765432098,
          0.011188271604938271,
          0.00038580246913580245,
          0.00038580246913580245,
          0.0011574074074074073,
          0.005401234567901234,
          0.0007716049382716049,
          0.00038580246913580245,
          0.002700617283950617,
          0.04128086419753087,
          0.00038580246913580245,
          0.0007716049382716049,
          0.0007716049382716049,
          0.0023148148148148147,
          0.04089506172839506,
          0.0015432098765432098,
          0.0007716049382716049,
          0.021604938271604937,
          0.0007716049382716049,
          0.0011574074074074073,
          0.00038580246913580245,
          0.00038580246913580245,
          0.0007716049382716049,
          0.0007716049382716049,
          0.00038580246913580245,
          0.0007716049382716049,
          0.00038580246913580245,
          0.0011574074074074073,
          0.003472222222222222,
          0.003472222222222222,
          0.03510802469135803,
          0.006558641975308642,
          0.006944444444444444,
          0.005401234567901234,
          0.015817901234567902,
          0.0007716049382716049,
          0.007716049382716049,
          0.03973765432098766,
          0.0015432098765432098,
          0.022376543209876542,
          0.0011574074074074073,
          0.0015432098765432098,
          0.0015432098765432098,
          0.002700617283950617,
          0.0007716049382716049,
          0.0007716049382716049,
          0.0007716049382716049,
          0.00038580246913580245,
          0.00038580246913580245,
          0.0011574074074074073,
          0.0011574074074074073,
          0.0011574074074074073,
          0.0007716049382716049,
          0.00038580246913580245,
          0.00038580246913580245,
          0.0015432098765432098,
          0.0023148148148148147,
          0.0015432098765432098,
          0.0038580246913580245,
          0.00038580246913580245,
          0.0011574074074074073,
          0.00038580246913580245,
          0.00038580246913580245,
          0.0007716049382716049,
          0.0007716049382716049,
          0.0015432098765432098,
          0.010416666666666666,
          0.00038580246913580245,
          0.0007716049382716049,
          0.0011574074074074073,
          0.003472222222222222,
          0.00038580246913580245,
          0.00038580246913580245,
          0.004629629629629629,
          0.0011574074074074073,
          0.00038580246913580245,
          0.00038580246913580245,
          0.002700617283950617,
          0.011188271604938271,
          0.008101851851851851,
          0.00038580246913580245,
          0.00038580246913580245,
          0.00038580246913580245,
          0.0011574074074074073,
          0.00038580246913580245,
          0.0073302469135802465,
          0.0011574074074074073,
          0.005787037037037037,
          0.00038580246913580245,
          0.0011574074074074073,
          0.0007716049382716049,
          0.004243827160493827,
          0.004629629629629629,
          0.00038580246913580245,
          0.010030864197530864,
          0.0038580246913580245,
          0.0023148148148148147,
          0.0011574074074074073,
          0.026234567901234566,
          0.0023148148148148147,
          0.00038580246913580245,
          0.00038580246913580245,
          0.002700617283950617,
          0.0007716049382716049,
          0.0023148148148148147,
          0.0007716049382716049,
          0.0007716049382716049,
          0.0015432098765432098,
          0.0011574074074074073,
          0.00038580246913580245,
          0.0019290123456790122,
          0.014660493827160493,
          0.0011574074074074073,
          0.011188271604938271,
          0.0015432098765432098,
          0.0023148148148148147,
          0.0007716049382716049,
          0.005015432098765432,
          0.007716049382716049,
          0.0019290123456790122,
          0.0011574074074074073,
          0.00038580246913580245,
          0.0015432098765432098,
          0.0015432098765432098,
          0.00038580246913580245,
          0.0007716049382716049,
          0.00038580246913580245,
          0.0007716049382716049,
          0.005787037037037037,
          0.00038580246913580245,
          0.00038580246913580245,
          0.0030864197530864196,
          0.002700617283950617,
          0.0015432098765432098,
          0.0783179012345679,
          0.21412037037037038,
          0.0007716049382716049,
          0.0023148148148148147,
          0.00038580246913580245,
          0.00038580246913580245,
          0.0019290123456790122,
          0.0023148148148148147,
          0.00038580246913580245,
          0.0023148148148148147,
          0.0007716049382716049
         ]
        }
       ],
       "layout": {
        "legend": {
         "tracegroupgap": 0
        },
        "margin": {
         "b": 10,
         "l": 0,
         "r": 0,
         "t": 50
        },
        "showlegend": false,
        "template": {
         "data": {
          "bar": [
           {
            "error_x": {
             "color": "#2a3f5f"
            },
            "error_y": {
             "color": "#2a3f5f"
            },
            "marker": {
             "line": {
              "color": "#E5ECF6",
              "width": 0.5
             },
             "pattern": {
              "fillmode": "overlay",
              "size": 10,
              "solidity": 0.2
             }
            },
            "type": "bar"
           }
          ],
          "barpolar": [
           {
            "marker": {
             "line": {
              "color": "#E5ECF6",
              "width": 0.5
             },
             "pattern": {
              "fillmode": "overlay",
              "size": 10,
              "solidity": 0.2
             }
            },
            "type": "barpolar"
           }
          ],
          "carpet": [
           {
            "aaxis": {
             "endlinecolor": "#2a3f5f",
             "gridcolor": "white",
             "linecolor": "white",
             "minorgridcolor": "white",
             "startlinecolor": "#2a3f5f"
            },
            "baxis": {
             "endlinecolor": "#2a3f5f",
             "gridcolor": "white",
             "linecolor": "white",
             "minorgridcolor": "white",
             "startlinecolor": "#2a3f5f"
            },
            "type": "carpet"
           }
          ],
          "choropleth": [
           {
            "colorbar": {
             "outlinewidth": 0,
             "ticks": ""
            },
            "type": "choropleth"
           }
          ],
          "contour": [
           {
            "colorbar": {
             "outlinewidth": 0,
             "ticks": ""
            },
            "colorscale": [
             [
              0,
              "#0d0887"
             ],
             [
              0.1111111111111111,
              "#46039f"
             ],
             [
              0.2222222222222222,
              "#7201a8"
             ],
             [
              0.3333333333333333,
              "#9c179e"
             ],
             [
              0.4444444444444444,
              "#bd3786"
             ],
             [
              0.5555555555555556,
              "#d8576b"
             ],
             [
              0.6666666666666666,
              "#ed7953"
             ],
             [
              0.7777777777777778,
              "#fb9f3a"
             ],
             [
              0.8888888888888888,
              "#fdca26"
             ],
             [
              1,
              "#f0f921"
             ]
            ],
            "type": "contour"
           }
          ],
          "contourcarpet": [
           {
            "colorbar": {
             "outlinewidth": 0,
             "ticks": ""
            },
            "type": "contourcarpet"
           }
          ],
          "heatmap": [
           {
            "colorbar": {
             "outlinewidth": 0,
             "ticks": ""
            },
            "colorscale": [
             [
              0,
              "#0d0887"
             ],
             [
              0.1111111111111111,
              "#46039f"
             ],
             [
              0.2222222222222222,
              "#7201a8"
             ],
             [
              0.3333333333333333,
              "#9c179e"
             ],
             [
              0.4444444444444444,
              "#bd3786"
             ],
             [
              0.5555555555555556,
              "#d8576b"
             ],
             [
              0.6666666666666666,
              "#ed7953"
             ],
             [
              0.7777777777777778,
              "#fb9f3a"
             ],
             [
              0.8888888888888888,
              "#fdca26"
             ],
             [
              1,
              "#f0f921"
             ]
            ],
            "type": "heatmap"
           }
          ],
          "heatmapgl": [
           {
            "colorbar": {
             "outlinewidth": 0,
             "ticks": ""
            },
            "colorscale": [
             [
              0,
              "#0d0887"
             ],
             [
              0.1111111111111111,
              "#46039f"
             ],
             [
              0.2222222222222222,
              "#7201a8"
             ],
             [
              0.3333333333333333,
              "#9c179e"
             ],
             [
              0.4444444444444444,
              "#bd3786"
             ],
             [
              0.5555555555555556,
              "#d8576b"
             ],
             [
              0.6666666666666666,
              "#ed7953"
             ],
             [
              0.7777777777777778,
              "#fb9f3a"
             ],
             [
              0.8888888888888888,
              "#fdca26"
             ],
             [
              1,
              "#f0f921"
             ]
            ],
            "type": "heatmapgl"
           }
          ],
          "histogram": [
           {
            "marker": {
             "pattern": {
              "fillmode": "overlay",
              "size": 10,
              "solidity": 0.2
             }
            },
            "type": "histogram"
           }
          ],
          "histogram2d": [
           {
            "colorbar": {
             "outlinewidth": 0,
             "ticks": ""
            },
            "colorscale": [
             [
              0,
              "#0d0887"
             ],
             [
              0.1111111111111111,
              "#46039f"
             ],
             [
              0.2222222222222222,
              "#7201a8"
             ],
             [
              0.3333333333333333,
              "#9c179e"
             ],
             [
              0.4444444444444444,
              "#bd3786"
             ],
             [
              0.5555555555555556,
              "#d8576b"
             ],
             [
              0.6666666666666666,
              "#ed7953"
             ],
             [
              0.7777777777777778,
              "#fb9f3a"
             ],
             [
              0.8888888888888888,
              "#fdca26"
             ],
             [
              1,
              "#f0f921"
             ]
            ],
            "type": "histogram2d"
           }
          ],
          "histogram2dcontour": [
           {
            "colorbar": {
             "outlinewidth": 0,
             "ticks": ""
            },
            "colorscale": [
             [
              0,
              "#0d0887"
             ],
             [
              0.1111111111111111,
              "#46039f"
             ],
             [
              0.2222222222222222,
              "#7201a8"
             ],
             [
              0.3333333333333333,
              "#9c179e"
             ],
             [
              0.4444444444444444,
              "#bd3786"
             ],
             [
              0.5555555555555556,
              "#d8576b"
             ],
             [
              0.6666666666666666,
              "#ed7953"
             ],
             [
              0.7777777777777778,
              "#fb9f3a"
             ],
             [
              0.8888888888888888,
              "#fdca26"
             ],
             [
              1,
              "#f0f921"
             ]
            ],
            "type": "histogram2dcontour"
           }
          ],
          "mesh3d": [
           {
            "colorbar": {
             "outlinewidth": 0,
             "ticks": ""
            },
            "type": "mesh3d"
           }
          ],
          "parcoords": [
           {
            "line": {
             "colorbar": {
              "outlinewidth": 0,
              "ticks": ""
             }
            },
            "type": "parcoords"
           }
          ],
          "pie": [
           {
            "automargin": true,
            "type": "pie"
           }
          ],
          "scatter": [
           {
            "fillpattern": {
             "fillmode": "overlay",
             "size": 10,
             "solidity": 0.2
            },
            "type": "scatter"
           }
          ],
          "scatter3d": [
           {
            "line": {
             "colorbar": {
              "outlinewidth": 0,
              "ticks": ""
             }
            },
            "marker": {
             "colorbar": {
              "outlinewidth": 0,
              "ticks": ""
             }
            },
            "type": "scatter3d"
           }
          ],
          "scattercarpet": [
           {
            "marker": {
             "colorbar": {
              "outlinewidth": 0,
              "ticks": ""
             }
            },
            "type": "scattercarpet"
           }
          ],
          "scattergeo": [
           {
            "marker": {
             "colorbar": {
              "outlinewidth": 0,
              "ticks": ""
             }
            },
            "type": "scattergeo"
           }
          ],
          "scattergl": [
           {
            "marker": {
             "colorbar": {
              "outlinewidth": 0,
              "ticks": ""
             }
            },
            "type": "scattergl"
           }
          ],
          "scattermapbox": [
           {
            "marker": {
             "colorbar": {
              "outlinewidth": 0,
              "ticks": ""
             }
            },
            "type": "scattermapbox"
           }
          ],
          "scatterpolar": [
           {
            "marker": {
             "colorbar": {
              "outlinewidth": 0,
              "ticks": ""
             }
            },
            "type": "scatterpolar"
           }
          ],
          "scatterpolargl": [
           {
            "marker": {
             "colorbar": {
              "outlinewidth": 0,
              "ticks": ""
             }
            },
            "type": "scatterpolargl"
           }
          ],
          "scatterternary": [
           {
            "marker": {
             "colorbar": {
              "outlinewidth": 0,
              "ticks": ""
             }
            },
            "type": "scatterternary"
           }
          ],
          "surface": [
           {
            "colorbar": {
             "outlinewidth": 0,
             "ticks": ""
            },
            "colorscale": [
             [
              0,
              "#0d0887"
             ],
             [
              0.1111111111111111,
              "#46039f"
             ],
             [
              0.2222222222222222,
              "#7201a8"
             ],
             [
              0.3333333333333333,
              "#9c179e"
             ],
             [
              0.4444444444444444,
              "#bd3786"
             ],
             [
              0.5555555555555556,
              "#d8576b"
             ],
             [
              0.6666666666666666,
              "#ed7953"
             ],
             [
              0.7777777777777778,
              "#fb9f3a"
             ],
             [
              0.8888888888888888,
              "#fdca26"
             ],
             [
              1,
              "#f0f921"
             ]
            ],
            "type": "surface"
           }
          ],
          "table": [
           {
            "cells": {
             "fill": {
              "color": "#EBF0F8"
             },
             "line": {
              "color": "white"
             }
            },
            "header": {
             "fill": {
              "color": "#C8D4E3"
             },
             "line": {
              "color": "white"
             }
            },
            "type": "table"
           }
          ]
         },
         "layout": {
          "annotationdefaults": {
           "arrowcolor": "#2a3f5f",
           "arrowhead": 0,
           "arrowwidth": 1
          },
          "autotypenumbers": "strict",
          "coloraxis": {
           "colorbar": {
            "outlinewidth": 0,
            "ticks": ""
           }
          },
          "colorscale": {
           "diverging": [
            [
             0,
             "#8e0152"
            ],
            [
             0.1,
             "#c51b7d"
            ],
            [
             0.2,
             "#de77ae"
            ],
            [
             0.3,
             "#f1b6da"
            ],
            [
             0.4,
             "#fde0ef"
            ],
            [
             0.5,
             "#f7f7f7"
            ],
            [
             0.6,
             "#e6f5d0"
            ],
            [
             0.7,
             "#b8e186"
            ],
            [
             0.8,
             "#7fbc41"
            ],
            [
             0.9,
             "#4d9221"
            ],
            [
             1,
             "#276419"
            ]
           ],
           "sequential": [
            [
             0,
             "#0d0887"
            ],
            [
             0.1111111111111111,
             "#46039f"
            ],
            [
             0.2222222222222222,
             "#7201a8"
            ],
            [
             0.3333333333333333,
             "#9c179e"
            ],
            [
             0.4444444444444444,
             "#bd3786"
            ],
            [
             0.5555555555555556,
             "#d8576b"
            ],
            [
             0.6666666666666666,
             "#ed7953"
            ],
            [
             0.7777777777777778,
             "#fb9f3a"
            ],
            [
             0.8888888888888888,
             "#fdca26"
            ],
            [
             1,
             "#f0f921"
            ]
           ],
           "sequentialminus": [
            [
             0,
             "#0d0887"
            ],
            [
             0.1111111111111111,
             "#46039f"
            ],
            [
             0.2222222222222222,
             "#7201a8"
            ],
            [
             0.3333333333333333,
             "#9c179e"
            ],
            [
             0.4444444444444444,
             "#bd3786"
            ],
            [
             0.5555555555555556,
             "#d8576b"
            ],
            [
             0.6666666666666666,
             "#ed7953"
            ],
            [
             0.7777777777777778,
             "#fb9f3a"
            ],
            [
             0.8888888888888888,
             "#fdca26"
            ],
            [
             1,
             "#f0f921"
            ]
           ]
          },
          "colorway": [
           "#636efa",
           "#EF553B",
           "#00cc96",
           "#ab63fa",
           "#FFA15A",
           "#19d3f3",
           "#FF6692",
           "#B6E880",
           "#FF97FF",
           "#FECB52"
          ],
          "font": {
           "color": "#2a3f5f"
          },
          "geo": {
           "bgcolor": "white",
           "lakecolor": "white",
           "landcolor": "#E5ECF6",
           "showlakes": true,
           "showland": true,
           "subunitcolor": "white"
          },
          "hoverlabel": {
           "align": "left"
          },
          "hovermode": "closest",
          "mapbox": {
           "style": "light"
          },
          "paper_bgcolor": "white",
          "plot_bgcolor": "#E5ECF6",
          "polar": {
           "angularaxis": {
            "gridcolor": "white",
            "linecolor": "white",
            "ticks": ""
           },
           "bgcolor": "#E5ECF6",
           "radialaxis": {
            "gridcolor": "white",
            "linecolor": "white",
            "ticks": ""
           }
          },
          "scene": {
           "xaxis": {
            "backgroundcolor": "#E5ECF6",
            "gridcolor": "white",
            "gridwidth": 2,
            "linecolor": "white",
            "showbackground": true,
            "ticks": "",
            "zerolinecolor": "white"
           },
           "yaxis": {
            "backgroundcolor": "#E5ECF6",
            "gridcolor": "white",
            "gridwidth": 2,
            "linecolor": "white",
            "showbackground": true,
            "ticks": "",
            "zerolinecolor": "white"
           },
           "zaxis": {
            "backgroundcolor": "#E5ECF6",
            "gridcolor": "white",
            "gridwidth": 2,
            "linecolor": "white",
            "showbackground": true,
            "ticks": "",
            "zerolinecolor": "white"
           }
          },
          "shapedefaults": {
           "line": {
            "color": "#2a3f5f"
           }
          },
          "ternary": {
           "aaxis": {
            "gridcolor": "white",
            "linecolor": "white",
            "ticks": ""
           },
           "baxis": {
            "gridcolor": "white",
            "linecolor": "white",
            "ticks": ""
           },
           "bgcolor": "#E5ECF6",
           "caxis": {
            "gridcolor": "white",
            "linecolor": "white",
            "ticks": ""
           }
          },
          "title": {
           "x": 0.05
          },
          "xaxis": {
           "automargin": true,
           "gridcolor": "white",
           "linecolor": "white",
           "ticks": "",
           "title": {
            "standoff": 15
           },
           "zerolinecolor": "white",
           "zerolinewidth": 2
          },
          "yaxis": {
           "automargin": true,
           "gridcolor": "white",
           "linecolor": "white",
           "ticks": "",
           "title": {
            "standoff": 15
           },
           "zerolinecolor": "white",
           "zerolinewidth": 2
          }
         }
        },
        "uniformtext": {
         "minsize": 8,
         "mode": "hide"
        }
       }
      }
     },
     "metadata": {},
     "output_type": "display_data"
    }
   ],
   "source": [
    "data_countries['custom_text'] = (\n",
    "    \"Country: \" + data_countries['Top_1_name'] +\n",
    "    \"<br>Percentage: \" + round(data_countries['percent'] * 100, 2).astype(str) + \"%\"\n",
    ")\n",
    "\n",
    "fig = px.pie(data_countries, values='percent', names='Top_1_name')\n",
    "fig.update_traces(textposition='inside', \n",
    "                  customdata=data_countries['custom_text'],  # Add custom data for hover\n",
    "                  hovertemplate=\"<b>%{customdata}</b><extra></extra>\")\n",
    "\n",
    "# Figure 1: Proportion of articles per country in Wikispeedia (2007)\n",
    "fig.update_layout(margin=dict(l=0, r=0, t=50, b=10),  # Left, right, top, and bottom margins set to zero\n",
    "                  uniformtext_minsize=8, \n",
    "                  uniformtext_mode='hide', \n",
    "                  showlegend=False)\n",
    "fig.show()\n",
    "\n",
    "# Export the figure to an HTML file\n",
    "pio.write_html(fig, file='graphs/topic_1/pie_plot_distribution_of_countries.html', auto_open=False)"
   ]
  },
  {
   "cell_type": "markdown",
   "metadata": {},
   "source": [
    "We see that 8 countries make up for 1/2 of the articles in Wikipedia, namely the US, UK, Australia, France, Germany, Italy, India and China. Those are all in the top10 of countries that publish the most!!\n",
    "\n",
    "With Figure 1, we get a first intuition of the cultural bias that is present in the Wikipeedia graph: countries that publish most are also represented by more articles. When players play on this already biased graph, they will obviously click most on articles from those countries. So, later, when we analyze the behavior of the players, we will have to keep this in mind and normalize the click counts of the players by the number of articles per country! But this is for later, let's go on here!"
   ]
  },
  {
   "cell_type": "markdown",
   "metadata": {},
   "source": [
    "Let's now look at the connectivity between countries. \n",
    "\n",
    "> **_NOTE:_** Two countries are said to be *connected* if at least one article from the first country contains a link to an article associated to the other country, and the other way around for the 2 same articles. "
   ]
  },
  {
   "cell_type": "markdown",
   "metadata": {},
   "source": [
    "We first need to prepare the data, so to find which countries are connected and how often those connections appear in the Wikipedia graph! We basically go through each row of the `country_clicks_links.csv` data, and for each row/article we look at the name of the articles to which the current article leads (i.e. *name_links_out*). Then, we construct pair like this: \n",
    "- (country associated to current article, country associated to 1st name_links_out)\n",
    "- (country associated to current article, country associated to 2nd name_links_out)\n",
    "- ... \n",
    "\n",
    "And we do this for each article that is references by the current article. After repeating this process for each row/article of the DataFrame we end up with a large number (8767) number of country pairs in the form (start country, end country). Those pairs will then later be read as edges on a world map!! "
   ]
  },
  {
   "cell_type": "code",
   "execution_count": 17,
   "metadata": {},
   "outputs": [],
   "source": [
    "# reimport clean data for savety\n",
    "data = pd.read_csv(\"data/country_clicks_links.csv\", index_col=0)\n",
    "\n",
    "data.dropna(subset=[\"Top_1_name\"], inplace=True)\n",
    "data[\"name_links_out\"] = data[\"name_links_out\"].fillna(\"[]\")\n",
    "data[\"num_links_in\"] = data[\"num_links_in\"].fillna(0)\n",
    "data[\"num_links_out\"] = data[\"num_links_out\"].fillna(0)\n",
    "data[\"name_links_out\"] = data[\"name_links_out\"].apply(literal_eval)\n",
    "\n",
    "start_country = []\n",
    "end_country = []\n",
    "\n",
    "for idx, row in data.iterrows():\n",
    "    links_out_list = list(row[\"name_links_out\"])\n",
    "    for out_link in links_out_list:\n",
    "        try:\n",
    "            start_country.append(row[\"Top_1_name\"])\n",
    "            end_country.append(data.loc[out_link][\"Top_1_name\"])\n",
    "        except:\n",
    "            pass\n",
    "\n",
    "df = pd.DataFrame(list(zip(start_country, end_country)),\n",
    "              columns=['start_country','end_country'])"
   ]
  },
  {
   "cell_type": "markdown",
   "metadata": {},
   "source": [
    "Let's construct a DataFrame that contains the connections between countries and also a count variable that tracts how often a connection occurs. This count variable will later be used to assess the importance of an edge (i.e. if *count* i is large, it means that the pair (start country i, end country i) appears very often in the graph and so those 2 countries are very much *connected*)"
   ]
  },
  {
   "cell_type": "code",
   "execution_count": 18,
   "metadata": {},
   "outputs": [
    {
     "data": {
      "text/html": [
       "<div>\n",
       "<style scoped>\n",
       "    .dataframe tbody tr th:only-of-type {\n",
       "        vertical-align: middle;\n",
       "    }\n",
       "\n",
       "    .dataframe tbody tr th {\n",
       "        vertical-align: top;\n",
       "    }\n",
       "\n",
       "    .dataframe thead th {\n",
       "        text-align: right;\n",
       "    }\n",
       "</style>\n",
       "<table border=\"1\" class=\"dataframe\">\n",
       "  <thead>\n",
       "    <tr style=\"text-align: right;\">\n",
       "      <th></th>\n",
       "      <th>start_country</th>\n",
       "      <th>end_country</th>\n",
       "      <th>count</th>\n",
       "    </tr>\n",
       "  </thead>\n",
       "  <tbody>\n",
       "    <tr>\n",
       "      <th>0</th>\n",
       "      <td>united states</td>\n",
       "      <td>united states</td>\n",
       "      <td>1006</td>\n",
       "    </tr>\n",
       "    <tr>\n",
       "      <th>1</th>\n",
       "      <td>united states</td>\n",
       "      <td>united kingdom</td>\n",
       "      <td>619</td>\n",
       "    </tr>\n",
       "    <tr>\n",
       "      <th>2</th>\n",
       "      <td>united kingdom</td>\n",
       "      <td>united states</td>\n",
       "      <td>522</td>\n",
       "    </tr>\n",
       "    <tr>\n",
       "      <th>3</th>\n",
       "      <td>united states</td>\n",
       "      <td>france</td>\n",
       "      <td>454</td>\n",
       "    </tr>\n",
       "    <tr>\n",
       "      <th>4</th>\n",
       "      <td>united states</td>\n",
       "      <td>germany</td>\n",
       "      <td>397</td>\n",
       "    </tr>\n",
       "    <tr>\n",
       "      <th>...</th>\n",
       "      <td>...</td>\n",
       "      <td>...</td>\n",
       "      <td>...</td>\n",
       "    </tr>\n",
       "    <tr>\n",
       "      <th>8762</th>\n",
       "      <td>indonesia</td>\n",
       "      <td>puerto rico</td>\n",
       "      <td>1</td>\n",
       "    </tr>\n",
       "    <tr>\n",
       "      <th>8763</th>\n",
       "      <td>indonesia</td>\n",
       "      <td>philippines</td>\n",
       "      <td>1</td>\n",
       "    </tr>\n",
       "    <tr>\n",
       "      <th>8764</th>\n",
       "      <td>indonesia</td>\n",
       "      <td>peru</td>\n",
       "      <td>1</td>\n",
       "    </tr>\n",
       "    <tr>\n",
       "      <th>8765</th>\n",
       "      <td>indonesia</td>\n",
       "      <td>panama</td>\n",
       "      <td>1</td>\n",
       "    </tr>\n",
       "    <tr>\n",
       "      <th>8766</th>\n",
       "      <td>zimbabwe</td>\n",
       "      <td>zimbabwe</td>\n",
       "      <td>1</td>\n",
       "    </tr>\n",
       "  </tbody>\n",
       "</table>\n",
       "<p>8767 rows × 3 columns</p>\n",
       "</div>"
      ],
      "text/plain": [
       "       start_country     end_country  count\n",
       "0      united states   united states   1006\n",
       "1      united states  united kingdom    619\n",
       "2     united kingdom   united states    522\n",
       "3      united states          france    454\n",
       "4      united states         germany    397\n",
       "...              ...             ...    ...\n",
       "8762       indonesia     puerto rico      1\n",
       "8763       indonesia     philippines      1\n",
       "8764       indonesia            peru      1\n",
       "8765       indonesia          panama      1\n",
       "8766        zimbabwe        zimbabwe      1\n",
       "\n",
       "[8767 rows x 3 columns]"
      ]
     },
     "execution_count": 18,
     "metadata": {},
     "output_type": "execute_result"
    }
   ],
   "source": [
    "country_connections = df.groupby([\"start_country\", \"end_country\"]).size().sort_values(ascending=False).reset_index()\n",
    "country_connections = country_connections.rename(columns={country_connections.columns[-1]: 'count'})\n",
    "country_connections"
   ]
  },
  {
   "cell_type": "markdown",
   "metadata": {},
   "source": [
    "Great, well done! \n",
    "\n",
    "Now we will add this information as edges on a graph representing the countries, their associated number of articles and their connections!\n",
    "- each node is a country \n",
    "- the size and color of a node is proportional to the number of articles associtated to that node\n",
    "- edges represent connnections between countries in the Wikipedia graph"
   ]
  },
  {
   "cell_type": "markdown",
   "metadata": {},
   "source": [
    "We need the position (i.e. longitude and latitude) of each country on a world map, since each country will be a node on a world map. The cell below takes ~10 min to run."
   ]
  },
  {
   "cell_type": "code",
   "execution_count": 19,
   "metadata": {},
   "outputs": [
    {
     "name": "stderr",
     "output_type": "stream",
     "text": [
      "Processing countries: 100%|██████████| 195/195 [04:24<00:00,  1.36s/country]\n"
     ]
    }
   ],
   "source": [
    "latitudes, longitudes = geolocalization(data_countries)"
   ]
  },
  {
   "cell_type": "markdown",
   "metadata": {},
   "source": [
    "We need to overlay our graph on a world map. For this we will use Leaflet and more preceisely [Follium](#https://python-visualization.github.io/folium/latest/) in Python! Let's finally create our world map with edges representing connections between countries in the Wikispeedia graph! Don't forget that two countries are said to be *connected* is an article from the first country contains a link to an article associated to the other country. "
   ]
  },
  {
   "cell_type": "code",
   "execution_count": 20,
   "metadata": {},
   "outputs": [
    {
     "name": "stdout",
     "output_type": "stream",
     "text": [
      "Map is saved in graphs/topic_1/world_graph_map.html!\n"
     ]
    }
   ],
   "source": [
    "# just nodes\n",
    "overlap_world_map(data_countries, country_connections, latitudes, longitudes, \"graphs/topic_1/world_graph_map.html\", edge=True)"
   ]
  },
  {
   "cell_type": "markdown",
   "metadata": {},
   "source": [
    "With the slider on the top right part of the map we can select edges that occur more than a certain amount of times. We can see that edges that appear most (above 130 times) are those connecting countries that are associated to the most articles (e.g. USA, UK, France, Germany, Italy, India, Australia, China and Russia).\n",
    "\n",
    "We also see that those same countries are central hubs of the network. They are part of most edges and are also connected to most other countries. This makes sense since the more articles there are, the more out-links there are and ultimately the higher the chance to be referenced by other articles. "
   ]
  },
  {
   "cell_type": "markdown",
   "metadata": {},
   "source": [
    "## 2.3. What is the distribution of in and out degrees? \n",
    "\n",
    "Lastly, let's look at the in and out degree of each country. \n",
    "\n",
    "> **_NOTE:_**  The in degree of a country is defined as the sum of the in degrees of its articles. Same for out degrees. The higher the in degree of a country, the more central it is meaning that the more it is accessible from other countries. "
   ]
  },
  {
   "cell_type": "code",
   "execution_count": 21,
   "metadata": {},
   "outputs": [
    {
     "data": {
      "application/vnd.plotly.v1+json": {
       "config": {
        "plotlyServerURL": "https://plot.ly"
       },
       "data": [
        {
         "hovertemplate": "<b>Country:</b> %{x}<br><b>In degree:</b> %{y}<br><extra></extra>",
         "marker": {
          "color": "blue"
         },
         "name": "in degree",
         "type": "bar",
         "x": [
          "united states",
          "united kingdom",
          "australia",
          "france",
          "germany",
          "italy",
          "india",
          "china"
         ],
         "y": [
          9562,
          6315,
          2241,
          4487,
          3750,
          3152,
          2425,
          2696
         ]
        },
        {
         "hovertemplate": "<b>Country:</b> %{x}<br><b>Out degree:</b> %{y}<br><extra></extra>",
         "marker": {
          "color": "red"
         },
         "name": "out degree",
         "type": "bar",
         "x": [
          "united states",
          "united kingdom",
          "australia",
          "france",
          "germany",
          "italy",
          "india",
          "china"
         ],
         "y": [
          11710,
          6453,
          2534,
          3487,
          3284,
          2530,
          2767,
          2454
         ]
        },
        {
         "hovertemplate": "<b>Country:</b> %{x}<br><b>In degree:</b> %{y}<br><extra></extra>",
         "marker": {
          "color": "blue"
         },
         "name": "in degree",
         "type": "bar",
         "visible": false,
         "x": [
          "laos",
          "niue",
          "cayman islands",
          "guam",
          "niger",
          "nicaragua",
          "nauru",
          "namibia"
         ],
         "y": [
          65,
          17,
          22,
          43,
          65,
          76,
          28,
          73
         ]
        },
        {
         "hovertemplate": "<b>Country:</b> %{x}<br><b>Out degree:</b> %{y}<br><extra></extra>",
         "marker": {
          "color": "red"
         },
         "name": "out degree",
         "type": "bar",
         "visible": false,
         "x": [
          "laos",
          "niue",
          "cayman islands",
          "guam",
          "niger",
          "nicaragua",
          "nauru",
          "namibia"
         ],
         "y": [
          31,
          15,
          22,
          26,
          44,
          47,
          35,
          43
         ]
        }
       ],
       "layout": {
        "barmode": "stack",
        "template": {
         "data": {
          "bar": [
           {
            "error_x": {
             "color": "#2a3f5f"
            },
            "error_y": {
             "color": "#2a3f5f"
            },
            "marker": {
             "line": {
              "color": "#E5ECF6",
              "width": 0.5
             },
             "pattern": {
              "fillmode": "overlay",
              "size": 10,
              "solidity": 0.2
             }
            },
            "type": "bar"
           }
          ],
          "barpolar": [
           {
            "marker": {
             "line": {
              "color": "#E5ECF6",
              "width": 0.5
             },
             "pattern": {
              "fillmode": "overlay",
              "size": 10,
              "solidity": 0.2
             }
            },
            "type": "barpolar"
           }
          ],
          "carpet": [
           {
            "aaxis": {
             "endlinecolor": "#2a3f5f",
             "gridcolor": "white",
             "linecolor": "white",
             "minorgridcolor": "white",
             "startlinecolor": "#2a3f5f"
            },
            "baxis": {
             "endlinecolor": "#2a3f5f",
             "gridcolor": "white",
             "linecolor": "white",
             "minorgridcolor": "white",
             "startlinecolor": "#2a3f5f"
            },
            "type": "carpet"
           }
          ],
          "choropleth": [
           {
            "colorbar": {
             "outlinewidth": 0,
             "ticks": ""
            },
            "type": "choropleth"
           }
          ],
          "contour": [
           {
            "colorbar": {
             "outlinewidth": 0,
             "ticks": ""
            },
            "colorscale": [
             [
              0,
              "#0d0887"
             ],
             [
              0.1111111111111111,
              "#46039f"
             ],
             [
              0.2222222222222222,
              "#7201a8"
             ],
             [
              0.3333333333333333,
              "#9c179e"
             ],
             [
              0.4444444444444444,
              "#bd3786"
             ],
             [
              0.5555555555555556,
              "#d8576b"
             ],
             [
              0.6666666666666666,
              "#ed7953"
             ],
             [
              0.7777777777777778,
              "#fb9f3a"
             ],
             [
              0.8888888888888888,
              "#fdca26"
             ],
             [
              1,
              "#f0f921"
             ]
            ],
            "type": "contour"
           }
          ],
          "contourcarpet": [
           {
            "colorbar": {
             "outlinewidth": 0,
             "ticks": ""
            },
            "type": "contourcarpet"
           }
          ],
          "heatmap": [
           {
            "colorbar": {
             "outlinewidth": 0,
             "ticks": ""
            },
            "colorscale": [
             [
              0,
              "#0d0887"
             ],
             [
              0.1111111111111111,
              "#46039f"
             ],
             [
              0.2222222222222222,
              "#7201a8"
             ],
             [
              0.3333333333333333,
              "#9c179e"
             ],
             [
              0.4444444444444444,
              "#bd3786"
             ],
             [
              0.5555555555555556,
              "#d8576b"
             ],
             [
              0.6666666666666666,
              "#ed7953"
             ],
             [
              0.7777777777777778,
              "#fb9f3a"
             ],
             [
              0.8888888888888888,
              "#fdca26"
             ],
             [
              1,
              "#f0f921"
             ]
            ],
            "type": "heatmap"
           }
          ],
          "heatmapgl": [
           {
            "colorbar": {
             "outlinewidth": 0,
             "ticks": ""
            },
            "colorscale": [
             [
              0,
              "#0d0887"
             ],
             [
              0.1111111111111111,
              "#46039f"
             ],
             [
              0.2222222222222222,
              "#7201a8"
             ],
             [
              0.3333333333333333,
              "#9c179e"
             ],
             [
              0.4444444444444444,
              "#bd3786"
             ],
             [
              0.5555555555555556,
              "#d8576b"
             ],
             [
              0.6666666666666666,
              "#ed7953"
             ],
             [
              0.7777777777777778,
              "#fb9f3a"
             ],
             [
              0.8888888888888888,
              "#fdca26"
             ],
             [
              1,
              "#f0f921"
             ]
            ],
            "type": "heatmapgl"
           }
          ],
          "histogram": [
           {
            "marker": {
             "pattern": {
              "fillmode": "overlay",
              "size": 10,
              "solidity": 0.2
             }
            },
            "type": "histogram"
           }
          ],
          "histogram2d": [
           {
            "colorbar": {
             "outlinewidth": 0,
             "ticks": ""
            },
            "colorscale": [
             [
              0,
              "#0d0887"
             ],
             [
              0.1111111111111111,
              "#46039f"
             ],
             [
              0.2222222222222222,
              "#7201a8"
             ],
             [
              0.3333333333333333,
              "#9c179e"
             ],
             [
              0.4444444444444444,
              "#bd3786"
             ],
             [
              0.5555555555555556,
              "#d8576b"
             ],
             [
              0.6666666666666666,
              "#ed7953"
             ],
             [
              0.7777777777777778,
              "#fb9f3a"
             ],
             [
              0.8888888888888888,
              "#fdca26"
             ],
             [
              1,
              "#f0f921"
             ]
            ],
            "type": "histogram2d"
           }
          ],
          "histogram2dcontour": [
           {
            "colorbar": {
             "outlinewidth": 0,
             "ticks": ""
            },
            "colorscale": [
             [
              0,
              "#0d0887"
             ],
             [
              0.1111111111111111,
              "#46039f"
             ],
             [
              0.2222222222222222,
              "#7201a8"
             ],
             [
              0.3333333333333333,
              "#9c179e"
             ],
             [
              0.4444444444444444,
              "#bd3786"
             ],
             [
              0.5555555555555556,
              "#d8576b"
             ],
             [
              0.6666666666666666,
              "#ed7953"
             ],
             [
              0.7777777777777778,
              "#fb9f3a"
             ],
             [
              0.8888888888888888,
              "#fdca26"
             ],
             [
              1,
              "#f0f921"
             ]
            ],
            "type": "histogram2dcontour"
           }
          ],
          "mesh3d": [
           {
            "colorbar": {
             "outlinewidth": 0,
             "ticks": ""
            },
            "type": "mesh3d"
           }
          ],
          "parcoords": [
           {
            "line": {
             "colorbar": {
              "outlinewidth": 0,
              "ticks": ""
             }
            },
            "type": "parcoords"
           }
          ],
          "pie": [
           {
            "automargin": true,
            "type": "pie"
           }
          ],
          "scatter": [
           {
            "fillpattern": {
             "fillmode": "overlay",
             "size": 10,
             "solidity": 0.2
            },
            "type": "scatter"
           }
          ],
          "scatter3d": [
           {
            "line": {
             "colorbar": {
              "outlinewidth": 0,
              "ticks": ""
             }
            },
            "marker": {
             "colorbar": {
              "outlinewidth": 0,
              "ticks": ""
             }
            },
            "type": "scatter3d"
           }
          ],
          "scattercarpet": [
           {
            "marker": {
             "colorbar": {
              "outlinewidth": 0,
              "ticks": ""
             }
            },
            "type": "scattercarpet"
           }
          ],
          "scattergeo": [
           {
            "marker": {
             "colorbar": {
              "outlinewidth": 0,
              "ticks": ""
             }
            },
            "type": "scattergeo"
           }
          ],
          "scattergl": [
           {
            "marker": {
             "colorbar": {
              "outlinewidth": 0,
              "ticks": ""
             }
            },
            "type": "scattergl"
           }
          ],
          "scattermapbox": [
           {
            "marker": {
             "colorbar": {
              "outlinewidth": 0,
              "ticks": ""
             }
            },
            "type": "scattermapbox"
           }
          ],
          "scatterpolar": [
           {
            "marker": {
             "colorbar": {
              "outlinewidth": 0,
              "ticks": ""
             }
            },
            "type": "scatterpolar"
           }
          ],
          "scatterpolargl": [
           {
            "marker": {
             "colorbar": {
              "outlinewidth": 0,
              "ticks": ""
             }
            },
            "type": "scatterpolargl"
           }
          ],
          "scatterternary": [
           {
            "marker": {
             "colorbar": {
              "outlinewidth": 0,
              "ticks": ""
             }
            },
            "type": "scatterternary"
           }
          ],
          "surface": [
           {
            "colorbar": {
             "outlinewidth": 0,
             "ticks": ""
            },
            "colorscale": [
             [
              0,
              "#0d0887"
             ],
             [
              0.1111111111111111,
              "#46039f"
             ],
             [
              0.2222222222222222,
              "#7201a8"
             ],
             [
              0.3333333333333333,
              "#9c179e"
             ],
             [
              0.4444444444444444,
              "#bd3786"
             ],
             [
              0.5555555555555556,
              "#d8576b"
             ],
             [
              0.6666666666666666,
              "#ed7953"
             ],
             [
              0.7777777777777778,
              "#fb9f3a"
             ],
             [
              0.8888888888888888,
              "#fdca26"
             ],
             [
              1,
              "#f0f921"
             ]
            ],
            "type": "surface"
           }
          ],
          "table": [
           {
            "cells": {
             "fill": {
              "color": "#EBF0F8"
             },
             "line": {
              "color": "white"
             }
            },
            "header": {
             "fill": {
              "color": "#C8D4E3"
             },
             "line": {
              "color": "white"
             }
            },
            "type": "table"
           }
          ]
         },
         "layout": {
          "annotationdefaults": {
           "arrowcolor": "#2a3f5f",
           "arrowhead": 0,
           "arrowwidth": 1
          },
          "autotypenumbers": "strict",
          "coloraxis": {
           "colorbar": {
            "outlinewidth": 0,
            "ticks": ""
           }
          },
          "colorscale": {
           "diverging": [
            [
             0,
             "#8e0152"
            ],
            [
             0.1,
             "#c51b7d"
            ],
            [
             0.2,
             "#de77ae"
            ],
            [
             0.3,
             "#f1b6da"
            ],
            [
             0.4,
             "#fde0ef"
            ],
            [
             0.5,
             "#f7f7f7"
            ],
            [
             0.6,
             "#e6f5d0"
            ],
            [
             0.7,
             "#b8e186"
            ],
            [
             0.8,
             "#7fbc41"
            ],
            [
             0.9,
             "#4d9221"
            ],
            [
             1,
             "#276419"
            ]
           ],
           "sequential": [
            [
             0,
             "#0d0887"
            ],
            [
             0.1111111111111111,
             "#46039f"
            ],
            [
             0.2222222222222222,
             "#7201a8"
            ],
            [
             0.3333333333333333,
             "#9c179e"
            ],
            [
             0.4444444444444444,
             "#bd3786"
            ],
            [
             0.5555555555555556,
             "#d8576b"
            ],
            [
             0.6666666666666666,
             "#ed7953"
            ],
            [
             0.7777777777777778,
             "#fb9f3a"
            ],
            [
             0.8888888888888888,
             "#fdca26"
            ],
            [
             1,
             "#f0f921"
            ]
           ],
           "sequentialminus": [
            [
             0,
             "#0d0887"
            ],
            [
             0.1111111111111111,
             "#46039f"
            ],
            [
             0.2222222222222222,
             "#7201a8"
            ],
            [
             0.3333333333333333,
             "#9c179e"
            ],
            [
             0.4444444444444444,
             "#bd3786"
            ],
            [
             0.5555555555555556,
             "#d8576b"
            ],
            [
             0.6666666666666666,
             "#ed7953"
            ],
            [
             0.7777777777777778,
             "#fb9f3a"
            ],
            [
             0.8888888888888888,
             "#fdca26"
            ],
            [
             1,
             "#f0f921"
            ]
           ]
          },
          "colorway": [
           "#636efa",
           "#EF553B",
           "#00cc96",
           "#ab63fa",
           "#FFA15A",
           "#19d3f3",
           "#FF6692",
           "#B6E880",
           "#FF97FF",
           "#FECB52"
          ],
          "font": {
           "color": "#2a3f5f"
          },
          "geo": {
           "bgcolor": "white",
           "lakecolor": "white",
           "landcolor": "#E5ECF6",
           "showlakes": true,
           "showland": true,
           "subunitcolor": "white"
          },
          "hoverlabel": {
           "align": "left"
          },
          "hovermode": "closest",
          "mapbox": {
           "style": "light"
          },
          "paper_bgcolor": "white",
          "plot_bgcolor": "#E5ECF6",
          "polar": {
           "angularaxis": {
            "gridcolor": "white",
            "linecolor": "white",
            "ticks": ""
           },
           "bgcolor": "#E5ECF6",
           "radialaxis": {
            "gridcolor": "white",
            "linecolor": "white",
            "ticks": ""
           }
          },
          "scene": {
           "xaxis": {
            "backgroundcolor": "#E5ECF6",
            "gridcolor": "white",
            "gridwidth": 2,
            "linecolor": "white",
            "showbackground": true,
            "ticks": "",
            "zerolinecolor": "white"
           },
           "yaxis": {
            "backgroundcolor": "#E5ECF6",
            "gridcolor": "white",
            "gridwidth": 2,
            "linecolor": "white",
            "showbackground": true,
            "ticks": "",
            "zerolinecolor": "white"
           },
           "zaxis": {
            "backgroundcolor": "#E5ECF6",
            "gridcolor": "white",
            "gridwidth": 2,
            "linecolor": "white",
            "showbackground": true,
            "ticks": "",
            "zerolinecolor": "white"
           }
          },
          "shapedefaults": {
           "line": {
            "color": "#2a3f5f"
           }
          },
          "ternary": {
           "aaxis": {
            "gridcolor": "white",
            "linecolor": "white",
            "ticks": ""
           },
           "baxis": {
            "gridcolor": "white",
            "linecolor": "white",
            "ticks": ""
           },
           "bgcolor": "#E5ECF6",
           "caxis": {
            "gridcolor": "white",
            "linecolor": "white",
            "ticks": ""
           }
          },
          "title": {
           "x": 0.05
          },
          "xaxis": {
           "automargin": true,
           "gridcolor": "white",
           "linecolor": "white",
           "ticks": "",
           "title": {
            "standoff": 15
           },
           "zerolinecolor": "white",
           "zerolinewidth": 2
          },
          "yaxis": {
           "automargin": true,
           "gridcolor": "white",
           "linecolor": "white",
           "ticks": "",
           "title": {
            "standoff": 15
           },
           "zerolinecolor": "white",
           "zerolinewidth": 2
          }
         }
        },
        "updatemenus": [
         {
          "buttons": [
           {
            "args": [
             {
              "visible": [
               true,
               true,
               false,
               false
              ]
             }
            ],
            "label": "Most occurring countries",
            "method": "update"
           },
           {
            "args": [
             {
              "visible": [
               false,
               false,
               true,
               true
              ]
             }
            ],
            "label": "Least occurring countries",
            "method": "update"
           }
          ],
          "direction": "left",
          "pad": {
           "b": 0,
           "l": 0,
           "r": 0,
           "t": 20
          },
          "showactive": true,
          "type": "buttons",
          "x": 0,
          "xanchor": "left",
          "y": 1.1,
          "yanchor": "middle"
         }
        ]
       }
      }
     },
     "metadata": {},
     "output_type": "display_data"
    }
   ],
   "source": [
    "# Figure 2: Node degree of countries\n",
    "plot_node_degrees(data_countries)"
   ]
  },
  {
   "cell_type": "markdown",
   "metadata": {},
   "source": [
    "We observe that countries that occur more often in Wikipedia (i.e. many articles are associated with those countries), are immensely more connected, so have much more links that lead in and out of them. Those countries are so called \"central hubs\" of the Wikipedia graph. "
   ]
  },
  {
   "cell_type": "markdown",
   "metadata": {},
   "source": [
    "## 2.4 What is the distribution of countries among source and target articles?"
   ]
  },
  {
   "cell_type": "markdown",
   "metadata": {},
   "source": [
    "This is a crucial analysis. Indeed, both the source and the target articles are not chosen by the player but are still counted as clicks in the way we calculated the click count variable. It is thus important to get an idea of the distribution of the countries among those pseudo-clicks to then take the decision of removing them in case the distribution of not uniform. \n",
    "\n",
    "To inverstigate this we need to look at the finished paths in order to extract source and target articles. "
   ]
  },
  {
   "cell_type": "code",
   "execution_count": 22,
   "metadata": {},
   "outputs": [],
   "source": [
    "country_clicks = pd.read_csv(\"data/country_clicks_links.csv\", index_col=0)\n",
    "country_clicks[\"name_links_out\"] = country_clicks[\"name_links_out\"].fillna(\"[]\")\n",
    "country_clicks[\"num_links_in\"] = country_clicks[\"num_links_in\"].fillna(0)\n",
    "country_clicks[\"num_links_out\"] = country_clicks[\"num_links_out\"].fillna(0)\n",
    "country_clicks[\"name_links_out\"] = country_clicks[\"name_links_out\"].apply(literal_eval)"
   ]
  },
  {
   "cell_type": "code",
   "execution_count": 24,
   "metadata": {},
   "outputs": [],
   "source": [
    "finished_paths = load_path_finished_dataframe()\n",
    "unfinished_paths = load_path_unfinished_distance_dataframe()\n",
    "\n",
    "finished_paths[\"path\"] = finished_paths[\"path\"].str.split(\";\")\n",
    "unfinished_paths[\"path\"] = unfinished_paths[\"path\"].str.split(\";\")   "
   ]
  },
  {
   "cell_type": "code",
   "execution_count": 91,
   "metadata": {},
   "outputs": [
    {
     "data": {
      "application/vnd.plotly.v1+json": {
       "config": {
        "plotlyServerURL": "https://plot.ly"
       },
       "data": [
        {
         "hovertemplate": "<b>Country:</b> %{x}<br><b>Count:</b> %{y}<br><extra></extra>",
         "marker": {
          "color": [
           "rgba(127, 127, 127, 1.00)",
           "rgba(152, 223, 138, 1.00)",
           "rgba(140, 86, 75, 1.00)",
           "rgba(197, 176, 213, 1.00)",
           "rgba(158, 218, 229, 1.00)",
           "rgba(199, 199, 199, 1.00)",
           "rgba(31, 119, 180, 1.00)",
           "rgba(174, 199, 232, 1.00)",
           "rgba(255, 127, 14, 1.00)",
           "rgba(219, 219, 141, 1.00)",
           "rgba(148, 103, 189, 1.00)",
           "rgba(196, 156, 148, 1.00)",
           "rgba(23, 190, 207, 1.00)",
           "rgba(227, 119, 194, 1.00)",
           "rgba(214, 39, 40, 1.00)",
           "rgba(158, 218, 229, 1.00)",
           "rgba(255, 187, 120, 1.00)",
           "rgba(31, 119, 180, 1.00)",
           "rgba(44, 160, 44, 1.00)",
           "rgba(247, 182, 210, 1.00)"
          ]
         },
         "name": "Occurrence in source",
         "type": "bar",
         "x": [
          "united states",
          "united kingdom",
          "egypt",
          "germany",
          "italy",
          "france",
          "australia",
          "china",
          "india",
          "canada",
          "greece",
          "japan",
          "russia",
          "south africa",
          "israel",
          "ireland",
          "netherlands",
          "spain",
          "norway",
          "pakistan"
         ],
         "y": [
          2781,
          1147,
          847,
          694,
          602,
          588,
          582,
          551,
          507,
          387,
          368,
          361,
          328,
          209,
          178,
          178,
          156,
          138,
          103,
          98
         ]
        },
        {
         "hovertemplate": "<b>Country:</b> %{x}<br><b>Count:</b> %{y}<br><extra></extra>",
         "marker": {
          "color": [
           "rgba(127, 127, 127, 1.00)",
           "rgba(152, 223, 138, 1.00)",
           "rgba(197, 176, 213, 1.00)",
           "rgba(174, 199, 232, 1.00)",
           "rgba(158, 218, 229, 1.00)",
           "rgba(199, 199, 199, 1.00)",
           "rgba(31, 119, 180, 1.00)",
           "rgba(255, 127, 14, 1.00)",
           "rgba(148, 103, 189, 1.00)",
           "rgba(196, 156, 148, 1.00)",
           "rgba(219, 219, 141, 1.00)",
           "rgba(23, 190, 207, 1.00)",
           "rgba(227, 119, 194, 1.00)",
           "rgba(140, 86, 75, 1.00)",
           "rgba(214, 39, 40, 1.00)",
           "rgba(31, 119, 180, 1.00)",
           "rgba(158, 218, 229, 1.00)",
           "rgba(255, 152, 150, 1.00)",
           "rgba(188, 189, 34, 1.00)",
           "rgba(255, 187, 120, 1.00)"
          ]
         },
         "name": "Occurrence in target",
         "type": "bar",
         "visible": false,
         "x": [
          "united states",
          "united kingdom",
          "germany",
          "china",
          "italy",
          "france",
          "australia",
          "india",
          "greece",
          "japan",
          "canada",
          "russia",
          "south africa",
          "egypt",
          "israel",
          "spain",
          "ireland",
          "brazil",
          "mexico",
          "netherlands"
         ],
         "y": [
          2552,
          1500,
          871,
          536,
          524,
          520,
          475,
          467,
          416,
          401,
          387,
          252,
          222,
          218,
          197,
          194,
          187,
          170,
          156,
          126
         ]
        }
       ],
       "layout": {
        "template": {
         "data": {
          "bar": [
           {
            "error_x": {
             "color": "#2a3f5f"
            },
            "error_y": {
             "color": "#2a3f5f"
            },
            "marker": {
             "line": {
              "color": "#E5ECF6",
              "width": 0.5
             },
             "pattern": {
              "fillmode": "overlay",
              "size": 10,
              "solidity": 0.2
             }
            },
            "type": "bar"
           }
          ],
          "barpolar": [
           {
            "marker": {
             "line": {
              "color": "#E5ECF6",
              "width": 0.5
             },
             "pattern": {
              "fillmode": "overlay",
              "size": 10,
              "solidity": 0.2
             }
            },
            "type": "barpolar"
           }
          ],
          "carpet": [
           {
            "aaxis": {
             "endlinecolor": "#2a3f5f",
             "gridcolor": "white",
             "linecolor": "white",
             "minorgridcolor": "white",
             "startlinecolor": "#2a3f5f"
            },
            "baxis": {
             "endlinecolor": "#2a3f5f",
             "gridcolor": "white",
             "linecolor": "white",
             "minorgridcolor": "white",
             "startlinecolor": "#2a3f5f"
            },
            "type": "carpet"
           }
          ],
          "choropleth": [
           {
            "colorbar": {
             "outlinewidth": 0,
             "ticks": ""
            },
            "type": "choropleth"
           }
          ],
          "contour": [
           {
            "colorbar": {
             "outlinewidth": 0,
             "ticks": ""
            },
            "colorscale": [
             [
              0,
              "#0d0887"
             ],
             [
              0.1111111111111111,
              "#46039f"
             ],
             [
              0.2222222222222222,
              "#7201a8"
             ],
             [
              0.3333333333333333,
              "#9c179e"
             ],
             [
              0.4444444444444444,
              "#bd3786"
             ],
             [
              0.5555555555555556,
              "#d8576b"
             ],
             [
              0.6666666666666666,
              "#ed7953"
             ],
             [
              0.7777777777777778,
              "#fb9f3a"
             ],
             [
              0.8888888888888888,
              "#fdca26"
             ],
             [
              1,
              "#f0f921"
             ]
            ],
            "type": "contour"
           }
          ],
          "contourcarpet": [
           {
            "colorbar": {
             "outlinewidth": 0,
             "ticks": ""
            },
            "type": "contourcarpet"
           }
          ],
          "heatmap": [
           {
            "colorbar": {
             "outlinewidth": 0,
             "ticks": ""
            },
            "colorscale": [
             [
              0,
              "#0d0887"
             ],
             [
              0.1111111111111111,
              "#46039f"
             ],
             [
              0.2222222222222222,
              "#7201a8"
             ],
             [
              0.3333333333333333,
              "#9c179e"
             ],
             [
              0.4444444444444444,
              "#bd3786"
             ],
             [
              0.5555555555555556,
              "#d8576b"
             ],
             [
              0.6666666666666666,
              "#ed7953"
             ],
             [
              0.7777777777777778,
              "#fb9f3a"
             ],
             [
              0.8888888888888888,
              "#fdca26"
             ],
             [
              1,
              "#f0f921"
             ]
            ],
            "type": "heatmap"
           }
          ],
          "heatmapgl": [
           {
            "colorbar": {
             "outlinewidth": 0,
             "ticks": ""
            },
            "colorscale": [
             [
              0,
              "#0d0887"
             ],
             [
              0.1111111111111111,
              "#46039f"
             ],
             [
              0.2222222222222222,
              "#7201a8"
             ],
             [
              0.3333333333333333,
              "#9c179e"
             ],
             [
              0.4444444444444444,
              "#bd3786"
             ],
             [
              0.5555555555555556,
              "#d8576b"
             ],
             [
              0.6666666666666666,
              "#ed7953"
             ],
             [
              0.7777777777777778,
              "#fb9f3a"
             ],
             [
              0.8888888888888888,
              "#fdca26"
             ],
             [
              1,
              "#f0f921"
             ]
            ],
            "type": "heatmapgl"
           }
          ],
          "histogram": [
           {
            "marker": {
             "pattern": {
              "fillmode": "overlay",
              "size": 10,
              "solidity": 0.2
             }
            },
            "type": "histogram"
           }
          ],
          "histogram2d": [
           {
            "colorbar": {
             "outlinewidth": 0,
             "ticks": ""
            },
            "colorscale": [
             [
              0,
              "#0d0887"
             ],
             [
              0.1111111111111111,
              "#46039f"
             ],
             [
              0.2222222222222222,
              "#7201a8"
             ],
             [
              0.3333333333333333,
              "#9c179e"
             ],
             [
              0.4444444444444444,
              "#bd3786"
             ],
             [
              0.5555555555555556,
              "#d8576b"
             ],
             [
              0.6666666666666666,
              "#ed7953"
             ],
             [
              0.7777777777777778,
              "#fb9f3a"
             ],
             [
              0.8888888888888888,
              "#fdca26"
             ],
             [
              1,
              "#f0f921"
             ]
            ],
            "type": "histogram2d"
           }
          ],
          "histogram2dcontour": [
           {
            "colorbar": {
             "outlinewidth": 0,
             "ticks": ""
            },
            "colorscale": [
             [
              0,
              "#0d0887"
             ],
             [
              0.1111111111111111,
              "#46039f"
             ],
             [
              0.2222222222222222,
              "#7201a8"
             ],
             [
              0.3333333333333333,
              "#9c179e"
             ],
             [
              0.4444444444444444,
              "#bd3786"
             ],
             [
              0.5555555555555556,
              "#d8576b"
             ],
             [
              0.6666666666666666,
              "#ed7953"
             ],
             [
              0.7777777777777778,
              "#fb9f3a"
             ],
             [
              0.8888888888888888,
              "#fdca26"
             ],
             [
              1,
              "#f0f921"
             ]
            ],
            "type": "histogram2dcontour"
           }
          ],
          "mesh3d": [
           {
            "colorbar": {
             "outlinewidth": 0,
             "ticks": ""
            },
            "type": "mesh3d"
           }
          ],
          "parcoords": [
           {
            "line": {
             "colorbar": {
              "outlinewidth": 0,
              "ticks": ""
             }
            },
            "type": "parcoords"
           }
          ],
          "pie": [
           {
            "automargin": true,
            "type": "pie"
           }
          ],
          "scatter": [
           {
            "fillpattern": {
             "fillmode": "overlay",
             "size": 10,
             "solidity": 0.2
            },
            "type": "scatter"
           }
          ],
          "scatter3d": [
           {
            "line": {
             "colorbar": {
              "outlinewidth": 0,
              "ticks": ""
             }
            },
            "marker": {
             "colorbar": {
              "outlinewidth": 0,
              "ticks": ""
             }
            },
            "type": "scatter3d"
           }
          ],
          "scattercarpet": [
           {
            "marker": {
             "colorbar": {
              "outlinewidth": 0,
              "ticks": ""
             }
            },
            "type": "scattercarpet"
           }
          ],
          "scattergeo": [
           {
            "marker": {
             "colorbar": {
              "outlinewidth": 0,
              "ticks": ""
             }
            },
            "type": "scattergeo"
           }
          ],
          "scattergl": [
           {
            "marker": {
             "colorbar": {
              "outlinewidth": 0,
              "ticks": ""
             }
            },
            "type": "scattergl"
           }
          ],
          "scattermapbox": [
           {
            "marker": {
             "colorbar": {
              "outlinewidth": 0,
              "ticks": ""
             }
            },
            "type": "scattermapbox"
           }
          ],
          "scatterpolar": [
           {
            "marker": {
             "colorbar": {
              "outlinewidth": 0,
              "ticks": ""
             }
            },
            "type": "scatterpolar"
           }
          ],
          "scatterpolargl": [
           {
            "marker": {
             "colorbar": {
              "outlinewidth": 0,
              "ticks": ""
             }
            },
            "type": "scatterpolargl"
           }
          ],
          "scatterternary": [
           {
            "marker": {
             "colorbar": {
              "outlinewidth": 0,
              "ticks": ""
             }
            },
            "type": "scatterternary"
           }
          ],
          "surface": [
           {
            "colorbar": {
             "outlinewidth": 0,
             "ticks": ""
            },
            "colorscale": [
             [
              0,
              "#0d0887"
             ],
             [
              0.1111111111111111,
              "#46039f"
             ],
             [
              0.2222222222222222,
              "#7201a8"
             ],
             [
              0.3333333333333333,
              "#9c179e"
             ],
             [
              0.4444444444444444,
              "#bd3786"
             ],
             [
              0.5555555555555556,
              "#d8576b"
             ],
             [
              0.6666666666666666,
              "#ed7953"
             ],
             [
              0.7777777777777778,
              "#fb9f3a"
             ],
             [
              0.8888888888888888,
              "#fdca26"
             ],
             [
              1,
              "#f0f921"
             ]
            ],
            "type": "surface"
           }
          ],
          "table": [
           {
            "cells": {
             "fill": {
              "color": "#EBF0F8"
             },
             "line": {
              "color": "white"
             }
            },
            "header": {
             "fill": {
              "color": "#C8D4E3"
             },
             "line": {
              "color": "white"
             }
            },
            "type": "table"
           }
          ]
         },
         "layout": {
          "annotationdefaults": {
           "arrowcolor": "#2a3f5f",
           "arrowhead": 0,
           "arrowwidth": 1
          },
          "autotypenumbers": "strict",
          "coloraxis": {
           "colorbar": {
            "outlinewidth": 0,
            "ticks": ""
           }
          },
          "colorscale": {
           "diverging": [
            [
             0,
             "#8e0152"
            ],
            [
             0.1,
             "#c51b7d"
            ],
            [
             0.2,
             "#de77ae"
            ],
            [
             0.3,
             "#f1b6da"
            ],
            [
             0.4,
             "#fde0ef"
            ],
            [
             0.5,
             "#f7f7f7"
            ],
            [
             0.6,
             "#e6f5d0"
            ],
            [
             0.7,
             "#b8e186"
            ],
            [
             0.8,
             "#7fbc41"
            ],
            [
             0.9,
             "#4d9221"
            ],
            [
             1,
             "#276419"
            ]
           ],
           "sequential": [
            [
             0,
             "#0d0887"
            ],
            [
             0.1111111111111111,
             "#46039f"
            ],
            [
             0.2222222222222222,
             "#7201a8"
            ],
            [
             0.3333333333333333,
             "#9c179e"
            ],
            [
             0.4444444444444444,
             "#bd3786"
            ],
            [
             0.5555555555555556,
             "#d8576b"
            ],
            [
             0.6666666666666666,
             "#ed7953"
            ],
            [
             0.7777777777777778,
             "#fb9f3a"
            ],
            [
             0.8888888888888888,
             "#fdca26"
            ],
            [
             1,
             "#f0f921"
            ]
           ],
           "sequentialminus": [
            [
             0,
             "#0d0887"
            ],
            [
             0.1111111111111111,
             "#46039f"
            ],
            [
             0.2222222222222222,
             "#7201a8"
            ],
            [
             0.3333333333333333,
             "#9c179e"
            ],
            [
             0.4444444444444444,
             "#bd3786"
            ],
            [
             0.5555555555555556,
             "#d8576b"
            ],
            [
             0.6666666666666666,
             "#ed7953"
            ],
            [
             0.7777777777777778,
             "#fb9f3a"
            ],
            [
             0.8888888888888888,
             "#fdca26"
            ],
            [
             1,
             "#f0f921"
            ]
           ]
          },
          "colorway": [
           "#636efa",
           "#EF553B",
           "#00cc96",
           "#ab63fa",
           "#FFA15A",
           "#19d3f3",
           "#FF6692",
           "#B6E880",
           "#FF97FF",
           "#FECB52"
          ],
          "font": {
           "color": "#2a3f5f"
          },
          "geo": {
           "bgcolor": "white",
           "lakecolor": "white",
           "landcolor": "#E5ECF6",
           "showlakes": true,
           "showland": true,
           "subunitcolor": "white"
          },
          "hoverlabel": {
           "align": "left"
          },
          "hovermode": "closest",
          "mapbox": {
           "style": "light"
          },
          "paper_bgcolor": "white",
          "plot_bgcolor": "#E5ECF6",
          "polar": {
           "angularaxis": {
            "gridcolor": "white",
            "linecolor": "white",
            "ticks": ""
           },
           "bgcolor": "#E5ECF6",
           "radialaxis": {
            "gridcolor": "white",
            "linecolor": "white",
            "ticks": ""
           }
          },
          "scene": {
           "xaxis": {
            "backgroundcolor": "#E5ECF6",
            "gridcolor": "white",
            "gridwidth": 2,
            "linecolor": "white",
            "showbackground": true,
            "ticks": "",
            "zerolinecolor": "white"
           },
           "yaxis": {
            "backgroundcolor": "#E5ECF6",
            "gridcolor": "white",
            "gridwidth": 2,
            "linecolor": "white",
            "showbackground": true,
            "ticks": "",
            "zerolinecolor": "white"
           },
           "zaxis": {
            "backgroundcolor": "#E5ECF6",
            "gridcolor": "white",
            "gridwidth": 2,
            "linecolor": "white",
            "showbackground": true,
            "ticks": "",
            "zerolinecolor": "white"
           }
          },
          "shapedefaults": {
           "line": {
            "color": "#2a3f5f"
           }
          },
          "ternary": {
           "aaxis": {
            "gridcolor": "white",
            "linecolor": "white",
            "ticks": ""
           },
           "baxis": {
            "gridcolor": "white",
            "linecolor": "white",
            "ticks": ""
           },
           "bgcolor": "#E5ECF6",
           "caxis": {
            "gridcolor": "white",
            "linecolor": "white",
            "ticks": ""
           }
          },
          "title": {
           "x": 0.05
          },
          "xaxis": {
           "automargin": true,
           "gridcolor": "white",
           "linecolor": "white",
           "ticks": "",
           "title": {
            "standoff": 15
           },
           "zerolinecolor": "white",
           "zerolinewidth": 2
          },
          "yaxis": {
           "automargin": true,
           "gridcolor": "white",
           "linecolor": "white",
           "ticks": "",
           "title": {
            "standoff": 15
           },
           "zerolinecolor": "white",
           "zerolinewidth": 2
          }
         }
        },
        "updatemenus": [
         {
          "buttons": [
           {
            "args": [
             {
              "visible": [
               true,
               false
              ]
             }
            ],
            "label": "Source countries",
            "method": "update"
           },
           {
            "args": [
             {
              "visible": [
               false,
               true
              ]
             }
            ],
            "label": "Target countries",
            "method": "update"
           }
          ],
          "direction": "left",
          "pad": {
           "b": 0,
           "l": 0,
           "r": 0,
           "t": 20
          },
          "showactive": true,
          "type": "buttons",
          "x": 0,
          "xanchor": "left",
          "y": 1.1,
          "yanchor": "middle"
         }
        ],
        "yaxis": {
         "range": [
          0,
          2981
         ]
        }
       }
      }
     },
     "metadata": {},
     "output_type": "display_data"
    }
   ],
   "source": [
    "start_end_countries(finished_paths, country_clicks)"
   ]
  },
  {
   "cell_type": "markdown",
   "metadata": {},
   "source": [
    "We see that again, the 8 \"power\" countries are showing up! The USA, UK, Germany, China, Italy, France, Australia and India are present in both the top10 of source articles and top10 of target articles. This may be a reason for their high click count. Later in our analysis, we will need to remove the clicks on source and target articles from our click count measure since those articles are not chosen by the player and thus will not tell us anything about their biases. "
   ]
  },
  {
   "cell_type": "markdown",
   "metadata": {},
   "source": [
    "# 3. Analysing Dead-Ends in Wikispeedia"
   ]
  },
  {
   "cell_type": "code",
   "execution_count": 22,
   "metadata": {},
   "outputs": [],
   "source": [
    "path='data/wikispeedia_paths-and-graph/'\n",
    "articles = load_articles_dataframe(path=path)\n",
    "categories = load_categories_dataframe(path=path)\n",
    "finished_paths = load_path_finished_dataframe(path=path)\n",
    "unfinished_paths = load_path_unfinished_distance_dataframe(path=path)"
   ]
  },
  {
   "cell_type": "code",
   "execution_count": 23,
   "metadata": {},
   "outputs": [
    {
     "name": "stdout",
     "output_type": "stream",
     "text": [
      "Top Dead-End Articles (Most Likely to Cause Players to Stop):\n"
     ]
    },
    {
     "data": {
      "text/html": [
       "<div>\n",
       "<style scoped>\n",
       "    .dataframe tbody tr th:only-of-type {\n",
       "        vertical-align: middle;\n",
       "    }\n",
       "\n",
       "    .dataframe tbody tr th {\n",
       "        vertical-align: top;\n",
       "    }\n",
       "\n",
       "    .dataframe thead th {\n",
       "        text-align: right;\n",
       "    }\n",
       "</style>\n",
       "<table border=\"1\" class=\"dataframe\">\n",
       "  <thead>\n",
       "    <tr style=\"text-align: right;\">\n",
       "      <th></th>\n",
       "      <th>article</th>\n",
       "      <th>total_click_count</th>\n",
       "      <th>failure_ratio_unique</th>\n",
       "      <th>unique_failure_count</th>\n",
       "    </tr>\n",
       "  </thead>\n",
       "  <tbody>\n",
       "    <tr>\n",
       "      <th>4039</th>\n",
       "      <td>Hurricane_Gloria</td>\n",
       "      <td>4</td>\n",
       "      <td>1.0</td>\n",
       "      <td>4</td>\n",
       "    </tr>\n",
       "    <tr>\n",
       "      <th>4043</th>\n",
       "      <td>Hilda_of_Whitby</td>\n",
       "      <td>4</td>\n",
       "      <td>1.0</td>\n",
       "      <td>4</td>\n",
       "    </tr>\n",
       "    <tr>\n",
       "      <th>4078</th>\n",
       "      <td>Malwa_%28Madhya_Pradesh%29</td>\n",
       "      <td>4</td>\n",
       "      <td>1.0</td>\n",
       "      <td>4</td>\n",
       "    </tr>\n",
       "    <tr>\n",
       "      <th>4090</th>\n",
       "      <td>Eliminative_materialism</td>\n",
       "      <td>3</td>\n",
       "      <td>1.0</td>\n",
       "      <td>3</td>\n",
       "    </tr>\n",
       "    <tr>\n",
       "      <th>4105</th>\n",
       "      <td>San_Diego_and_Arizona_Railway</td>\n",
       "      <td>3</td>\n",
       "      <td>1.0</td>\n",
       "      <td>3</td>\n",
       "    </tr>\n",
       "    <tr>\n",
       "      <th>4111</th>\n",
       "      <td>Lynton_and_Barnstaple_Railway</td>\n",
       "      <td>2</td>\n",
       "      <td>1.0</td>\n",
       "      <td>2</td>\n",
       "    </tr>\n",
       "    <tr>\n",
       "      <th>4127</th>\n",
       "      <td>Battle_of_Smolensk_%281943%29</td>\n",
       "      <td>2</td>\n",
       "      <td>1.0</td>\n",
       "      <td>2</td>\n",
       "    </tr>\n",
       "    <tr>\n",
       "      <th>4129</th>\n",
       "      <td>Richard_O%27Connor</td>\n",
       "      <td>2</td>\n",
       "      <td>1.0</td>\n",
       "      <td>2</td>\n",
       "    </tr>\n",
       "    <tr>\n",
       "      <th>4150</th>\n",
       "      <td>Private_Peaceful</td>\n",
       "      <td>1</td>\n",
       "      <td>1.0</td>\n",
       "      <td>1</td>\n",
       "    </tr>\n",
       "    <tr>\n",
       "      <th>4156</th>\n",
       "      <td>Nadia_Com%C4%83neci</td>\n",
       "      <td>1</td>\n",
       "      <td>1.0</td>\n",
       "      <td>1</td>\n",
       "    </tr>\n",
       "  </tbody>\n",
       "</table>\n",
       "</div>"
      ],
      "text/plain": [
       "                            article  total_click_count  failure_ratio_unique  \\\n",
       "4039               Hurricane_Gloria                  4                   1.0   \n",
       "4043                Hilda_of_Whitby                  4                   1.0   \n",
       "4078     Malwa_%28Madhya_Pradesh%29                  4                   1.0   \n",
       "4090        Eliminative_materialism                  3                   1.0   \n",
       "4105  San_Diego_and_Arizona_Railway                  3                   1.0   \n",
       "4111  Lynton_and_Barnstaple_Railway                  2                   1.0   \n",
       "4127  Battle_of_Smolensk_%281943%29                  2                   1.0   \n",
       "4129             Richard_O%27Connor                  2                   1.0   \n",
       "4150               Private_Peaceful                  1                   1.0   \n",
       "4156            Nadia_Com%C4%83neci                  1                   1.0   \n",
       "\n",
       "      unique_failure_count  \n",
       "4039                     4  \n",
       "4043                     4  \n",
       "4078                     4  \n",
       "4090                     3  \n",
       "4105                     3  \n",
       "4111                     2  \n",
       "4127                     2  \n",
       "4129                     2  \n",
       "4150                     1  \n",
       "4156                     1  "
      ]
     },
     "execution_count": 23,
     "metadata": {},
     "output_type": "execute_result"
    }
   ],
   "source": [
    "df_articles_count = process_article_paths(finished_paths, unfinished_paths, articles)\n",
    "top_dead_end_articles = df_articles_count.sort_values(by=['failure_ratio_unique', 'total_click_count'], ascending=False)\n",
    "print(\"Top Dead-End Articles (Most Likely to Cause Players to Stop):\")\n",
    "top_dead_end_articles[['article', 'total_click_count', 'failure_ratio_unique', 'unique_failure_count']].head(10)"
   ]
  },
  {
   "cell_type": "markdown",
   "metadata": {},
   "source": [
    "## Find unique dead end countries \n",
    "We'd like to have unique countries in the dataframe to get a clear view of each country's overall impact as a dead-end article without redundancy.\n",
    "It's important to avoid duplicate entries, which would skew metrics like total click counts and success/failure ratios. \n",
    "\n",
    "The following approach creates a single, summarized entry for each country, preserving meaningful metrics and avoiding arbitrary duplicate drops. It allows for a comprehensive view of each country’s overall engagement and dead-end behavior within the dataset."
   ]
  },
  {
   "cell_type": "code",
   "execution_count": 24,
   "metadata": {},
   "outputs": [],
   "source": [
    "df_country_clicks_links = pd.read_csv('data/country_clicks_links.csv', index_col=0)"
   ]
  },
  {
   "cell_type": "code",
   "execution_count": 25,
   "metadata": {},
   "outputs": [
    {
     "name": "stdout",
     "output_type": "stream",
     "text": [
      "Top Dead-End Articles (Most Likely to Cause Players to Stop) related to link counts:\n"
     ]
    },
    {
     "data": {
      "text/html": [
       "<div>\n",
       "<style scoped>\n",
       "    .dataframe tbody tr th:only-of-type {\n",
       "        vertical-align: middle;\n",
       "    }\n",
       "\n",
       "    .dataframe tbody tr th {\n",
       "        vertical-align: top;\n",
       "    }\n",
       "\n",
       "    .dataframe thead th {\n",
       "        text-align: right;\n",
       "    }\n",
       "</style>\n",
       "<table border=\"1\" class=\"dataframe\">\n",
       "  <thead>\n",
       "    <tr style=\"text-align: right;\">\n",
       "      <th></th>\n",
       "      <th>article</th>\n",
       "      <th>num_links_in</th>\n",
       "      <th>num_links_out</th>\n",
       "      <th>failure_ratio_unique</th>\n",
       "    </tr>\n",
       "  </thead>\n",
       "  <tbody>\n",
       "    <tr>\n",
       "      <th>1925</th>\n",
       "      <td>Hilda_of_Whitby</td>\n",
       "      <td>2.0</td>\n",
       "      <td>16.0</td>\n",
       "      <td>1.0</td>\n",
       "    </tr>\n",
       "    <tr>\n",
       "      <th>2048</th>\n",
       "      <td>Hurricane_Gloria</td>\n",
       "      <td>2.0</td>\n",
       "      <td>6.0</td>\n",
       "      <td>1.0</td>\n",
       "    </tr>\n",
       "    <tr>\n",
       "      <th>2621</th>\n",
       "      <td>Malwa_%28Madhya_Pradesh%29</td>\n",
       "      <td>3.0</td>\n",
       "      <td>29.0</td>\n",
       "      <td>1.0</td>\n",
       "    </tr>\n",
       "    <tr>\n",
       "      <th>1353</th>\n",
       "      <td>Eliminative_materialism</td>\n",
       "      <td>1.0</td>\n",
       "      <td>12.0</td>\n",
       "      <td>1.0</td>\n",
       "    </tr>\n",
       "    <tr>\n",
       "      <th>3616</th>\n",
       "      <td>San_Diego_and_Arizona_Railway</td>\n",
       "      <td>2.0</td>\n",
       "      <td>8.0</td>\n",
       "      <td>1.0</td>\n",
       "    </tr>\n",
       "    <tr>\n",
       "      <th>504</th>\n",
       "      <td>Battle_of_Smolensk_%281943%29</td>\n",
       "      <td>2.0</td>\n",
       "      <td>13.0</td>\n",
       "      <td>1.0</td>\n",
       "    </tr>\n",
       "    <tr>\n",
       "      <th>2574</th>\n",
       "      <td>Lynton_and_Barnstaple_Railway</td>\n",
       "      <td>3.0</td>\n",
       "      <td>11.0</td>\n",
       "      <td>1.0</td>\n",
       "    </tr>\n",
       "    <tr>\n",
       "      <th>3490</th>\n",
       "      <td>Richard_O%27Connor</td>\n",
       "      <td>1.0</td>\n",
       "      <td>35.0</td>\n",
       "      <td>1.0</td>\n",
       "    </tr>\n",
       "    <tr>\n",
       "      <th>313</th>\n",
       "      <td>Architecture_of_Windows_NT</td>\n",
       "      <td>NaN</td>\n",
       "      <td>3.0</td>\n",
       "      <td>1.0</td>\n",
       "    </tr>\n",
       "    <tr>\n",
       "      <th>844</th>\n",
       "      <td>CF7</td>\n",
       "      <td>2.0</td>\n",
       "      <td>6.0</td>\n",
       "      <td>1.0</td>\n",
       "    </tr>\n",
       "  </tbody>\n",
       "</table>\n",
       "</div>"
      ],
      "text/plain": [
       "                            article  num_links_in  num_links_out  \\\n",
       "1925                Hilda_of_Whitby           2.0           16.0   \n",
       "2048               Hurricane_Gloria           2.0            6.0   \n",
       "2621     Malwa_%28Madhya_Pradesh%29           3.0           29.0   \n",
       "1353        Eliminative_materialism           1.0           12.0   \n",
       "3616  San_Diego_and_Arizona_Railway           2.0            8.0   \n",
       "504   Battle_of_Smolensk_%281943%29           2.0           13.0   \n",
       "2574  Lynton_and_Barnstaple_Railway           3.0           11.0   \n",
       "3490             Richard_O%27Connor           1.0           35.0   \n",
       "313      Architecture_of_Windows_NT           NaN            3.0   \n",
       "844                             CF7           2.0            6.0   \n",
       "\n",
       "      failure_ratio_unique  \n",
       "1925                   1.0  \n",
       "2048                   1.0  \n",
       "2621                   1.0  \n",
       "1353                   1.0  \n",
       "3616                   1.0  \n",
       "504                    1.0  \n",
       "2574                   1.0  \n",
       "3490                   1.0  \n",
       "313                    1.0  \n",
       "844                    1.0  "
      ]
     },
     "execution_count": 25,
     "metadata": {},
     "output_type": "execute_result"
    }
   ],
   "source": [
    "# prepare for merge\n",
    "df_country_click_links_reset = df_country_clicks_links.reset_index().rename(columns={'index': 'article'})\n",
    "\n",
    "# merge to get the country\n",
    "dead_end_countries = pd.merge(\n",
    "    df_country_click_links_reset, \n",
    "    top_dead_end_articles, \n",
    "    on='article', \n",
    "    how='inner'\n",
    ")\n",
    "\n",
    "print(\"Top Dead-End Articles (Most Likely to Cause Players to Stop) related to link counts:\")\n",
    "dead_end_countries.sort_values(by=['failure_ratio_unique','total_click_count'], ascending=False)[['article', 'num_links_in', 'num_links_out', 'failure_ratio_unique']].head(10)\n"
   ]
  },
  {
   "cell_type": "code",
   "execution_count": 26,
   "metadata": {},
   "outputs": [
    {
     "data": {
      "text/html": [
       "<div>\n",
       "<style scoped>\n",
       "    .dataframe tbody tr th:only-of-type {\n",
       "        vertical-align: middle;\n",
       "    }\n",
       "\n",
       "    .dataframe tbody tr th {\n",
       "        vertical-align: top;\n",
       "    }\n",
       "\n",
       "    .dataframe thead th {\n",
       "        text-align: right;\n",
       "    }\n",
       "</style>\n",
       "<table border=\"1\" class=\"dataframe\">\n",
       "  <thead>\n",
       "    <tr style=\"text-align: right;\">\n",
       "      <th></th>\n",
       "      <th>Top_1_name</th>\n",
       "      <th>click_count</th>\n",
       "      <th>sum_num_links_out</th>\n",
       "      <th>sum_num_links_in</th>\n",
       "      <th>unique_success_count</th>\n",
       "      <th>unique_failure_count</th>\n",
       "      <th>mean_success_ratio_total</th>\n",
       "      <th>mean_failure_ratio_total</th>\n",
       "      <th>mean_success_ratio_unique</th>\n",
       "      <th>mean_failure_ratio_unique</th>\n",
       "    </tr>\n",
       "  </thead>\n",
       "  <tbody>\n",
       "    <tr>\n",
       "      <th>185</th>\n",
       "      <td>united states</td>\n",
       "      <td>36078</td>\n",
       "      <td>11710</td>\n",
       "      <td>9562</td>\n",
       "      <td>34993</td>\n",
       "      <td>13220</td>\n",
       "      <td>0.604929</td>\n",
       "      <td>0.248900</td>\n",
       "      <td>0.609996</td>\n",
       "      <td>0.251265</td>\n",
       "    </tr>\n",
       "    <tr>\n",
       "      <th>184</th>\n",
       "      <td>united kingdom</td>\n",
       "      <td>17150</td>\n",
       "      <td>6453</td>\n",
       "      <td>6315</td>\n",
       "      <td>16252</td>\n",
       "      <td>5614</td>\n",
       "      <td>0.645435</td>\n",
       "      <td>0.249759</td>\n",
       "      <td>0.649921</td>\n",
       "      <td>0.251556</td>\n",
       "    </tr>\n",
       "    <tr>\n",
       "      <th>64</th>\n",
       "      <td>germany</td>\n",
       "      <td>9244</td>\n",
       "      <td>3284</td>\n",
       "      <td>3750</td>\n",
       "      <td>9448</td>\n",
       "      <td>3026</td>\n",
       "      <td>0.706367</td>\n",
       "      <td>0.220213</td>\n",
       "      <td>0.711659</td>\n",
       "      <td>0.222303</td>\n",
       "    </tr>\n",
       "    <tr>\n",
       "      <th>59</th>\n",
       "      <td>france</td>\n",
       "      <td>8476</td>\n",
       "      <td>3487</td>\n",
       "      <td>4487</td>\n",
       "      <td>7933</td>\n",
       "      <td>2912</td>\n",
       "      <td>0.670494</td>\n",
       "      <td>0.247028</td>\n",
       "      <td>0.676006</td>\n",
       "      <td>0.249227</td>\n",
       "    </tr>\n",
       "    <tr>\n",
       "      <th>87</th>\n",
       "      <td>italy</td>\n",
       "      <td>8288</td>\n",
       "      <td>2530</td>\n",
       "      <td>3152</td>\n",
       "      <td>7700</td>\n",
       "      <td>2928</td>\n",
       "      <td>0.657015</td>\n",
       "      <td>0.239025</td>\n",
       "      <td>0.661918</td>\n",
       "      <td>0.240995</td>\n",
       "    </tr>\n",
       "    <tr>\n",
       "      <th>39</th>\n",
       "      <td>china</td>\n",
       "      <td>6158</td>\n",
       "      <td>2454</td>\n",
       "      <td>2696</td>\n",
       "      <td>6449</td>\n",
       "      <td>2120</td>\n",
       "      <td>0.724648</td>\n",
       "      <td>0.222597</td>\n",
       "      <td>0.728767</td>\n",
       "      <td>0.224174</td>\n",
       "    </tr>\n",
       "    <tr>\n",
       "      <th>161</th>\n",
       "      <td>south africa</td>\n",
       "      <td>5815</td>\n",
       "      <td>1236</td>\n",
       "      <td>1261</td>\n",
       "      <td>5464</td>\n",
       "      <td>1418</td>\n",
       "      <td>0.730293</td>\n",
       "      <td>0.185385</td>\n",
       "      <td>0.734290</td>\n",
       "      <td>0.186762</td>\n",
       "    </tr>\n",
       "    <tr>\n",
       "      <th>10</th>\n",
       "      <td>australia</td>\n",
       "      <td>5814</td>\n",
       "      <td>2534</td>\n",
       "      <td>2241</td>\n",
       "      <td>5969</td>\n",
       "      <td>2102</td>\n",
       "      <td>0.638846</td>\n",
       "      <td>0.225703</td>\n",
       "      <td>0.643508</td>\n",
       "      <td>0.228051</td>\n",
       "    </tr>\n",
       "    <tr>\n",
       "      <th>67</th>\n",
       "      <td>greece</td>\n",
       "      <td>5599</td>\n",
       "      <td>1672</td>\n",
       "      <td>1732</td>\n",
       "      <td>5274</td>\n",
       "      <td>1892</td>\n",
       "      <td>0.675084</td>\n",
       "      <td>0.224611</td>\n",
       "      <td>0.683117</td>\n",
       "      <td>0.227597</td>\n",
       "    </tr>\n",
       "    <tr>\n",
       "      <th>80</th>\n",
       "      <td>india</td>\n",
       "      <td>5462</td>\n",
       "      <td>2767</td>\n",
       "      <td>2425</td>\n",
       "      <td>5535</td>\n",
       "      <td>1960</td>\n",
       "      <td>0.686685</td>\n",
       "      <td>0.228490</td>\n",
       "      <td>0.692581</td>\n",
       "      <td>0.230496</td>\n",
       "    </tr>\n",
       "  </tbody>\n",
       "</table>\n",
       "</div>"
      ],
      "text/plain": [
       "         Top_1_name  click_count  sum_num_links_out  sum_num_links_in  \\\n",
       "185   united states        36078              11710              9562   \n",
       "184  united kingdom        17150               6453              6315   \n",
       "64          germany         9244               3284              3750   \n",
       "59           france         8476               3487              4487   \n",
       "87            italy         8288               2530              3152   \n",
       "39            china         6158               2454              2696   \n",
       "161    south africa         5815               1236              1261   \n",
       "10        australia         5814               2534              2241   \n",
       "67           greece         5599               1672              1732   \n",
       "80            india         5462               2767              2425   \n",
       "\n",
       "     unique_success_count  unique_failure_count  mean_success_ratio_total  \\\n",
       "185                 34993                 13220                  0.604929   \n",
       "184                 16252                  5614                  0.645435   \n",
       "64                   9448                  3026                  0.706367   \n",
       "59                   7933                  2912                  0.670494   \n",
       "87                   7700                  2928                  0.657015   \n",
       "39                   6449                  2120                  0.724648   \n",
       "161                  5464                  1418                  0.730293   \n",
       "10                   5969                  2102                  0.638846   \n",
       "67                   5274                  1892                  0.675084   \n",
       "80                   5535                  1960                  0.686685   \n",
       "\n",
       "     mean_failure_ratio_total  mean_success_ratio_unique  \\\n",
       "185                  0.248900                   0.609996   \n",
       "184                  0.249759                   0.649921   \n",
       "64                   0.220213                   0.711659   \n",
       "59                   0.247028                   0.676006   \n",
       "87                   0.239025                   0.661918   \n",
       "39                   0.222597                   0.728767   \n",
       "161                  0.185385                   0.734290   \n",
       "10                   0.225703                   0.643508   \n",
       "67                   0.224611                   0.683117   \n",
       "80                   0.228490                   0.692581   \n",
       "\n",
       "     mean_failure_ratio_unique  \n",
       "185                   0.251265  \n",
       "184                   0.251556  \n",
       "64                    0.222303  \n",
       "59                    0.249227  \n",
       "87                    0.240995  \n",
       "39                    0.224174  \n",
       "161                   0.186762  \n",
       "10                    0.228051  \n",
       "67                    0.227597  \n",
       "80                    0.230496  "
      ]
     },
     "execution_count": 26,
     "metadata": {},
     "output_type": "execute_result"
    }
   ],
   "source": [
    "# group by 'Top_1_name' (country) and aggregate the data\n",
    "unique_dead_end_countries = (\n",
    "    dead_end_countries\n",
    "    .groupby('Top_1_name', as_index=False)\n",
    "    .agg({\n",
    "        'click_count': 'sum',             # Sum click counts to get total clicks per country\n",
    "        'num_links_out': lambda x: int(round(x.sum())),          # Sum of outgoing links\n",
    "        'num_links_in': lambda x: int(round(x.sum())),           # Sum of incoming links\n",
    "        'unique_success_count': 'sum',    # Sum of unique success counts per country\n",
    "        'unique_failure_count': 'sum',    # Sum of unique failure counts per country\n",
    "        'success_ratio_total': 'mean',    # Mean of total success ratios\n",
    "        'failure_ratio_total': 'mean',    # Mean of total failure ratios\n",
    "        'success_ratio_unique': 'mean',   # Mean of unique success ratios\n",
    "        'failure_ratio_unique': 'mean'    # Mean of unique failure ratios\n",
    "    }).rename(columns={\n",
    "        'num_links_out': 'sum_num_links_out',\n",
    "        'num_links_in': 'sum_num_links_in',\n",
    "        'success_ratio_total': 'mean_success_ratio_total',\n",
    "        'failure_ratio_total': 'mean_failure_ratio_total',\n",
    "        'success_ratio_unique': 'mean_success_ratio_unique',\n",
    "        'failure_ratio_unique': 'mean_failure_ratio_unique'\n",
    "    })\n",
    ")\n",
    "\n",
    "unique_dead_end_countries = unique_dead_end_countries.sort_values(by=['click_count'], ascending=False)\n",
    "\n",
    "unique_dead_end_countries.head(10)"
   ]
  },
  {
   "cell_type": "code",
   "execution_count": 27,
   "metadata": {},
   "outputs": [
    {
     "ename": "ValueError",
     "evalue": "Unable to determine Axes to steal space for Colorbar. Either provide the *cax* argument to use as the Axes for the Colorbar, provide the *ax* argument to steal space from it, or add *mappable* to an Axes.",
     "output_type": "error",
     "traceback": [
      "\u001b[1;31m---------------------------------------------------------------------------\u001b[0m",
      "\u001b[1;31mValueError\u001b[0m                                Traceback (most recent call last)",
      "Cell \u001b[1;32mIn[27], line 1\u001b[0m\n\u001b[1;32m----> 1\u001b[0m \u001b[43mplot_top_dead_end_countries\u001b[49m\u001b[43m(\u001b[49m\u001b[43munique_dead_end_countries\u001b[49m\u001b[43m,\u001b[49m\u001b[43m \u001b[49m\u001b[43muse_click_count\u001b[49m\u001b[38;5;241;43m=\u001b[39;49m\u001b[38;5;28;43;01mTrue\u001b[39;49;00m\u001b[43m,\u001b[49m\u001b[43m \u001b[49m\u001b[43mi\u001b[49m\u001b[38;5;241;43m=\u001b[39;49m\u001b[38;5;241;43m1\u001b[39;49m\u001b[43m)\u001b[49m\n",
      "File \u001b[1;32mc:\\Users\\orian\\Documents\\EPFL\\MA3\\Applied_Data_Analysis\\ada-2024-project-lesfraisestagada\\src\\utils\\plots.py:315\u001b[0m, in \u001b[0;36mplot_top_dead_end_countries\u001b[1;34m(unique_dead_end_countries, top_n, use_click_count, use_scaled, i)\u001b[0m\n\u001b[0;32m    312\u001b[0m sm\u001b[38;5;241m.\u001b[39mset_array([])\n\u001b[0;32m    314\u001b[0m \u001b[38;5;66;03m# add the color bar on the side\u001b[39;00m\n\u001b[1;32m--> 315\u001b[0m cbar \u001b[38;5;241m=\u001b[39m \u001b[43mbarplot\u001b[49m\u001b[38;5;241;43m.\u001b[39;49m\u001b[43mfigure\u001b[49m\u001b[38;5;241;43m.\u001b[39;49m\u001b[43mcolorbar\u001b[49m\u001b[43m(\u001b[49m\u001b[43msm\u001b[49m\u001b[43m)\u001b[49m\n\u001b[0;32m    316\u001b[0m cbar\u001b[38;5;241m.\u001b[39mset_label(\u001b[38;5;124m\"\u001b[39m\u001b[38;5;124mSum Links Out\u001b[39m\u001b[38;5;124m\"\u001b[39m)\n\u001b[0;32m    318\u001b[0m \u001b[38;5;66;03m# title and labels\u001b[39;00m\n",
      "File \u001b[1;32mc:\\Anaconda\\envs\\ada\\Lib\\site-packages\\matplotlib\\figure.py:1285\u001b[0m, in \u001b[0;36mFigureBase.colorbar\u001b[1;34m(self, mappable, cax, ax, use_gridspec, **kwargs)\u001b[0m\n\u001b[0;32m   1283\u001b[0m \u001b[38;5;28;01mif\u001b[39;00m cax \u001b[38;5;129;01mis\u001b[39;00m \u001b[38;5;28;01mNone\u001b[39;00m:\n\u001b[0;32m   1284\u001b[0m     \u001b[38;5;28;01mif\u001b[39;00m ax \u001b[38;5;129;01mis\u001b[39;00m \u001b[38;5;28;01mNone\u001b[39;00m:\n\u001b[1;32m-> 1285\u001b[0m         \u001b[38;5;28;01mraise\u001b[39;00m \u001b[38;5;167;01mValueError\u001b[39;00m(\n\u001b[0;32m   1286\u001b[0m             \u001b[38;5;124m'\u001b[39m\u001b[38;5;124mUnable to determine Axes to steal space for Colorbar. \u001b[39m\u001b[38;5;124m'\u001b[39m\n\u001b[0;32m   1287\u001b[0m             \u001b[38;5;124m'\u001b[39m\u001b[38;5;124mEither provide the *cax* argument to use as the Axes for \u001b[39m\u001b[38;5;124m'\u001b[39m\n\u001b[0;32m   1288\u001b[0m             \u001b[38;5;124m'\u001b[39m\u001b[38;5;124mthe Colorbar, provide the *ax* argument to steal space \u001b[39m\u001b[38;5;124m'\u001b[39m\n\u001b[0;32m   1289\u001b[0m             \u001b[38;5;124m'\u001b[39m\u001b[38;5;124mfrom it, or add *mappable* to an Axes.\u001b[39m\u001b[38;5;124m'\u001b[39m)\n\u001b[0;32m   1290\u001b[0m     fig \u001b[38;5;241m=\u001b[39m (  \u001b[38;5;66;03m# Figure of first axes; logic copied from make_axes.\u001b[39;00m\n\u001b[0;32m   1291\u001b[0m         [\u001b[38;5;241m*\u001b[39max\u001b[38;5;241m.\u001b[39mflat] \u001b[38;5;28;01mif\u001b[39;00m \u001b[38;5;28misinstance\u001b[39m(ax, np\u001b[38;5;241m.\u001b[39mndarray)\n\u001b[0;32m   1292\u001b[0m         \u001b[38;5;28;01melse\u001b[39;00m [\u001b[38;5;241m*\u001b[39max] \u001b[38;5;28;01mif\u001b[39;00m np\u001b[38;5;241m.\u001b[39miterable(ax)\n\u001b[0;32m   1293\u001b[0m         \u001b[38;5;28;01melse\u001b[39;00m [ax])[\u001b[38;5;241m0\u001b[39m]\u001b[38;5;241m.\u001b[39mfigure\n\u001b[0;32m   1294\u001b[0m     current_ax \u001b[38;5;241m=\u001b[39m fig\u001b[38;5;241m.\u001b[39mgca()\n",
      "\u001b[1;31mValueError\u001b[0m: Unable to determine Axes to steal space for Colorbar. Either provide the *cax* argument to use as the Axes for the Colorbar, provide the *ax* argument to steal space from it, or add *mappable* to an Axes."
     ]
    },
    {
     "data": {
      "image/png": "[encoded data removed]",
      "text/plain": [
       "<Figure size 1200x800 with 1 Axes>"
      ]
     },
     "metadata": {},
     "output_type": "display_data"
    }
   ],
   "source": [
    "plot_top_dead_end_countries(unique_dead_end_countries, use_click_count=True, i=1)"
   ]
  },
  {
   "cell_type": "markdown",
   "metadata": {},
   "source": [
    "If we scale by the number of outgoing links, which places all countries at the same scale, we will have a better intuition on which countries player tend to stop playing the game the most "
   ]
  },
  {
   "cell_type": "code",
   "execution_count": null,
   "metadata": {},
   "outputs": [
    {
     "data": {
      "image/png": "[encoded data removed]",
      "text/plain": [
       "<Figure size 1200x800 with 2 Axes>"
      ]
     },
     "metadata": {},
     "output_type": "display_data"
    }
   ],
   "source": [
    "# Scale the click count by the mean number of outgoing links\n",
    "unique_dead_end_countries[\"scaled_click_count\"] = unique_dead_end_countries[\"click_count\"] / unique_dead_end_countries[\"sum_num_links_out\"]\n",
    "\n",
    "# Plot using the updated DataFrame with scaled click count\n",
    "plot_top_dead_end_countries(unique_dead_end_countries, use_click_count=True, use_scaled=True, i=2)"
   ]
  },
  {
   "cell_type": "code",
   "execution_count": null,
   "metadata": {},
   "outputs": [],
   "source": [
    "import plotly.graph_objects as go\n",
    "\n",
    "def plot_top_dead_end_countries_plotly(unique_dead_end_countries, top_n=10):\n",
    "    \"\"\"\n",
    "    Plots the top country-related dead-end articles with an interactive button\n",
    "    to switch between before scaling and after scaling (scaled click counts).\n",
    "    \n",
    "    Args:\n",
    "        unique_dead_end_countries (pd.DataFrame): DataFrame containing dead-end \n",
    "                                                  country-related articles with click counts and link information.\n",
    "        top_n (int): Number of top articles to display (default is 10).\n",
    "    \"\"\"\n",
    "    # Get the top N data for both \"before scaling\" and \"after scaling\"\n",
    "    top_before_scaling = unique_dead_end_countries.sort_values(\n",
    "        by=\"click_count\", ascending=False\n",
    "    ).head(top_n)\n",
    "    top_after_scaling = unique_dead_end_countries.sort_values(\n",
    "        by=\"scaled_click_count\", ascending=False\n",
    "    ).head(top_n)\n",
    "    \n",
    "    # Create traces for before scaling\n",
    "    trace_before = go.Bar(\n",
    "        x=top_before_scaling[\"click_count\"],\n",
    "        y=top_before_scaling[\"Top_1_name\"],\n",
    "        orientation=\"h\",\n",
    "        marker=dict(color=top_before_scaling[\"sum_num_links_out\"], colorscale=\"YlGnBu\"),\n",
    "        name=\"Before Scaling\",\n",
    "    )\n",
    "\n",
    "    # Create traces for after scaling\n",
    "    trace_after = go.Bar(\n",
    "        x=top_after_scaling[\"scaled_click_count\"],\n",
    "        y=top_after_scaling[\"Top_1_name\"],\n",
    "        orientation=\"h\",\n",
    "        marker=dict(color=top_after_scaling[\"sum_num_links_out\"], colorscale=\"YlGnBu\"),\n",
    "        name=\"After Scaling\",\n",
    "    )\n",
    "\n",
    "    # Layout with updatemenus (buttons)\n",
    "    layout = go.Layout(\n",
    "        title=\"Top Country-Related Dead-End Articles by Click Count\",\n",
    "        xaxis=dict(title=\"Click Count\"),\n",
    "        yaxis=dict(title=\"Country\"),\n",
    "        coloraxis=dict(colorbar_title=\"Sum Links Out\"),\n",
    "        updatemenus=[\n",
    "            dict(\n",
    "                type=\"buttons\",\n",
    "                direction=\"left\",\n",
    "                x=0.7,\n",
    "                y=1.2,\n",
    "                showactive=True,\n",
    "                buttons=[\n",
    "                    dict(\n",
    "                        label=\"Before Scaling\",\n",
    "                        method=\"update\",\n",
    "                        args=[\n",
    "                            {\"visible\": [True, False]},  # Show first trace\n",
    "                            {\"title\": \"Top Country-Related Dead-End Articles (Before Scaling)\"},\n",
    "                        ],\n",
    "                    ),\n",
    "                    dict(\n",
    "                        label=\"After Scaling\",\n",
    "                        method=\"update\",\n",
    "                        args=[\n",
    "                            {\"visible\": [False, True]},  # Show second trace\n",
    "                            {\"title\": \"Top Country-Related Dead-End Articles (After Scaling)\"},\n",
    "                        ],\n",
    "                    ),\n",
    "                ],\n",
    "            )\n",
    "        ],\n",
    "    )\n",
    "\n",
    "    # Combine traces\n",
    "    fig = go.Figure(data=[trace_before, trace_after], layout=layout)\n",
    "\n",
    "    # Initially set visibility\n",
    "    fig.data[0].visible = True  # Before scaling\n",
    "    fig.data[1].visible = False  # After scaling\n",
    "\n",
    "    # Show the interactive plot\n",
    "    fig.show()\n",
    "    #fig.write_html('graphs/top_country_dead_end_articles.html')"
   ]
  },
  {
   "cell_type": "code",
   "execution_count": null,
   "metadata": {},
   "outputs": [
    {
     "data": {
      "application/vnd.plotly.v1+json": {
       "config": {
        "plotlyServerURL": "https://plot.ly"
       },
       "data": [
        {
         "marker": {
          "color": [
           11710,
           6453,
           3284,
           3487,
           2530,
           2454,
           1236,
           2534,
           1672,
           2767
          ],
          "colorscale": [
           [
            0,
            "rgb(255,255,217)"
           ],
           [
            0.125,
            "rgb(237,248,177)"
           ],
           [
            0.25,
            "rgb(199,233,180)"
           ],
           [
            0.375,
            "rgb(127,205,187)"
           ],
           [
            0.5,
            "rgb(65,182,196)"
           ],
           [
            0.625,
            "rgb(29,145,192)"
           ],
           [
            0.75,
            "rgb(34,94,168)"
           ],
           [
            0.875,
            "rgb(37,52,148)"
           ],
           [
            1,
            "rgb(8,29,88)"
           ]
          ]
         },
         "name": "Before Scaling",
         "orientation": "h",
         "type": "bar",
         "visible": true,
         "x": [
          36078,
          17150,
          9244,
          8476,
          8288,
          6158,
          5815,
          5814,
          5599,
          5462
         ],
         "y": [
          "united states",
          "united kingdom",
          "germany",
          "france",
          "italy",
          "china",
          "south africa",
          "australia",
          "greece",
          "india"
         ]
        },
        {
         "marker": {
          "color": [
           29,
           33,
           1236,
           844,
           660,
           101,
           166,
           201,
           1672,
           842
          ],
          "colorscale": [
           [
            0,
            "rgb(255,255,217)"
           ],
           [
            0.125,
            "rgb(237,248,177)"
           ],
           [
            0.25,
            "rgb(199,233,180)"
           ],
           [
            0.375,
            "rgb(127,205,187)"
           ],
           [
            0.5,
            "rgb(65,182,196)"
           ],
           [
            0.625,
            "rgb(29,145,192)"
           ],
           [
            0.75,
            "rgb(34,94,168)"
           ],
           [
            0.875,
            "rgb(37,52,148)"
           ],
           [
            1,
            "rgb(8,29,88)"
           ]
          ]
         },
         "name": "After Scaling",
         "orientation": "h",
         "type": "bar",
         "visible": false,
         "x": [
          32.10344827586207,
          4.757575757575758,
          4.7046925566343045,
          4.10781990521327,
          3.959090909090909,
          3.742574257425743,
          3.602409638554217,
          3.482587064676617,
          3.348684210526316,
          3.294536817102138
         ],
         "y": [
          "vatican city",
          "greenland",
          "south africa",
          "spain",
          "brazil",
          "bolivia",
          "iceland",
          "algeria",
          "greece",
          "egypt"
         ]
        }
       ],
       "layout": {
        "coloraxis": {
         "colorbar": {
          "title": {
           "text": "Sum Links Out"
          }
         }
        },
        "template": {
         "data": {
          "bar": [
           {
            "error_x": {
             "color": "#2a3f5f"
            },
            "error_y": {
             "color": "#2a3f5f"
            },
            "marker": {
             "line": {
              "color": "#E5ECF6",
              "width": 0.5
             },
             "pattern": {
              "fillmode": "overlay",
              "size": 10,
              "solidity": 0.2
             }
            },
            "type": "bar"
           }
          ],
          "barpolar": [
           {
            "marker": {
             "line": {
              "color": "#E5ECF6",
              "width": 0.5
             },
             "pattern": {
              "fillmode": "overlay",
              "size": 10,
              "solidity": 0.2
             }
            },
            "type": "barpolar"
           }
          ],
          "carpet": [
           {
            "aaxis": {
             "endlinecolor": "#2a3f5f",
             "gridcolor": "white",
             "linecolor": "white",
             "minorgridcolor": "white",
             "startlinecolor": "#2a3f5f"
            },
            "baxis": {
             "endlinecolor": "#2a3f5f",
             "gridcolor": "white",
             "linecolor": "white",
             "minorgridcolor": "white",
             "startlinecolor": "#2a3f5f"
            },
            "type": "carpet"
           }
          ],
          "choropleth": [
           {
            "colorbar": {
             "outlinewidth": 0,
             "ticks": ""
            },
            "type": "choropleth"
           }
          ],
          "contour": [
           {
            "colorbar": {
             "outlinewidth": 0,
             "ticks": ""
            },
            "colorscale": [
             [
              0,
              "#0d0887"
             ],
             [
              0.1111111111111111,
              "#46039f"
             ],
             [
              0.2222222222222222,
              "#7201a8"
             ],
             [
              0.3333333333333333,
              "#9c179e"
             ],
             [
              0.4444444444444444,
              "#bd3786"
             ],
             [
              0.5555555555555556,
              "#d8576b"
             ],
             [
              0.6666666666666666,
              "#ed7953"
             ],
             [
              0.7777777777777778,
              "#fb9f3a"
             ],
             [
              0.8888888888888888,
              "#fdca26"
             ],
             [
              1,
              "#f0f921"
             ]
            ],
            "type": "contour"
           }
          ],
          "contourcarpet": [
           {
            "colorbar": {
             "outlinewidth": 0,
             "ticks": ""
            },
            "type": "contourcarpet"
           }
          ],
          "heatmap": [
           {
            "colorbar": {
             "outlinewidth": 0,
             "ticks": ""
            },
            "colorscale": [
             [
              0,
              "#0d0887"
             ],
             [
              0.1111111111111111,
              "#46039f"
             ],
             [
              0.2222222222222222,
              "#7201a8"
             ],
             [
              0.3333333333333333,
              "#9c179e"
             ],
             [
              0.4444444444444444,
              "#bd3786"
             ],
             [
              0.5555555555555556,
              "#d8576b"
             ],
             [
              0.6666666666666666,
              "#ed7953"
             ],
             [
              0.7777777777777778,
              "#fb9f3a"
             ],
             [
              0.8888888888888888,
              "#fdca26"
             ],
             [
              1,
              "#f0f921"
             ]
            ],
            "type": "heatmap"
           }
          ],
          "heatmapgl": [
           {
            "colorbar": {
             "outlinewidth": 0,
             "ticks": ""
            },
            "colorscale": [
             [
              0,
              "#0d0887"
             ],
             [
              0.1111111111111111,
              "#46039f"
             ],
             [
              0.2222222222222222,
              "#7201a8"
             ],
             [
              0.3333333333333333,
              "#9c179e"
             ],
             [
              0.4444444444444444,
              "#bd3786"
             ],
             [
              0.5555555555555556,
              "#d8576b"
             ],
             [
              0.6666666666666666,
              "#ed7953"
             ],
             [
              0.7777777777777778,
              "#fb9f3a"
             ],
             [
              0.8888888888888888,
              "#fdca26"
             ],
             [
              1,
              "#f0f921"
             ]
            ],
            "type": "heatmapgl"
           }
          ],
          "histogram": [
           {
            "marker": {
             "pattern": {
              "fillmode": "overlay",
              "size": 10,
              "solidity": 0.2
             }
            },
            "type": "histogram"
           }
          ],
          "histogram2d": [
           {
            "colorbar": {
             "outlinewidth": 0,
             "ticks": ""
            },
            "colorscale": [
             [
              0,
              "#0d0887"
             ],
             [
              0.1111111111111111,
              "#46039f"
             ],
             [
              0.2222222222222222,
              "#7201a8"
             ],
             [
              0.3333333333333333,
              "#9c179e"
             ],
             [
              0.4444444444444444,
              "#bd3786"
             ],
             [
              0.5555555555555556,
              "#d8576b"
             ],
             [
              0.6666666666666666,
              "#ed7953"
             ],
             [
              0.7777777777777778,
              "#fb9f3a"
             ],
             [
              0.8888888888888888,
              "#fdca26"
             ],
             [
              1,
              "#f0f921"
             ]
            ],
            "type": "histogram2d"
           }
          ],
          "histogram2dcontour": [
           {
            "colorbar": {
             "outlinewidth": 0,
             "ticks": ""
            },
            "colorscale": [
             [
              0,
              "#0d0887"
             ],
             [
              0.1111111111111111,
              "#46039f"
             ],
             [
              0.2222222222222222,
              "#7201a8"
             ],
             [
              0.3333333333333333,
              "#9c179e"
             ],
             [
              0.4444444444444444,
              "#bd3786"
             ],
             [
              0.5555555555555556,
              "#d8576b"
             ],
             [
              0.6666666666666666,
              "#ed7953"
             ],
             [
              0.7777777777777778,
              "#fb9f3a"
             ],
             [
              0.8888888888888888,
              "#fdca26"
             ],
             [
              1,
              "#f0f921"
             ]
            ],
            "type": "histogram2dcontour"
           }
          ],
          "mesh3d": [
           {
            "colorbar": {
             "outlinewidth": 0,
             "ticks": ""
            },
            "type": "mesh3d"
           }
          ],
          "parcoords": [
           {
            "line": {
             "colorbar": {
              "outlinewidth": 0,
              "ticks": ""
             }
            },
            "type": "parcoords"
           }
          ],
          "pie": [
           {
            "automargin": true,
            "type": "pie"
           }
          ],
          "scatter": [
           {
            "fillpattern": {
             "fillmode": "overlay",
             "size": 10,
             "solidity": 0.2
            },
            "type": "scatter"
           }
          ],
          "scatter3d": [
           {
            "line": {
             "colorbar": {
              "outlinewidth": 0,
              "ticks": ""
             }
            },
            "marker": {
             "colorbar": {
              "outlinewidth": 0,
              "ticks": ""
             }
            },
            "type": "scatter3d"
           }
          ],
          "scattercarpet": [
           {
            "marker": {
             "colorbar": {
              "outlinewidth": 0,
              "ticks": ""
             }
            },
            "type": "scattercarpet"
           }
          ],
          "scattergeo": [
           {
            "marker": {
             "colorbar": {
              "outlinewidth": 0,
              "ticks": ""
             }
            },
            "type": "scattergeo"
           }
          ],
          "scattergl": [
           {
            "marker": {
             "colorbar": {
              "outlinewidth": 0,
              "ticks": ""
             }
            },
            "type": "scattergl"
           }
          ],
          "scattermapbox": [
           {
            "marker": {
             "colorbar": {
              "outlinewidth": 0,
              "ticks": ""
             }
            },
            "type": "scattermapbox"
           }
          ],
          "scatterpolar": [
           {
            "marker": {
             "colorbar": {
              "outlinewidth": 0,
              "ticks": ""
             }
            },
            "type": "scatterpolar"
           }
          ],
          "scatterpolargl": [
           {
            "marker": {
             "colorbar": {
              "outlinewidth": 0,
              "ticks": ""
             }
            },
            "type": "scatterpolargl"
           }
          ],
          "scatterternary": [
           {
            "marker": {
             "colorbar": {
              "outlinewidth": 0,
              "ticks": ""
             }
            },
            "type": "scatterternary"
           }
          ],
          "surface": [
           {
            "colorbar": {
             "outlinewidth": 0,
             "ticks": ""
            },
            "colorscale": [
             [
              0,
              "#0d0887"
             ],
             [
              0.1111111111111111,
              "#46039f"
             ],
             [
              0.2222222222222222,
              "#7201a8"
             ],
             [
              0.3333333333333333,
              "#9c179e"
             ],
             [
              0.4444444444444444,
              "#bd3786"
             ],
             [
              0.5555555555555556,
              "#d8576b"
             ],
             [
              0.6666666666666666,
              "#ed7953"
             ],
             [
              0.7777777777777778,
              "#fb9f3a"
             ],
             [
              0.8888888888888888,
              "#fdca26"
             ],
             [
              1,
              "#f0f921"
             ]
            ],
            "type": "surface"
           }
          ],
          "table": [
           {
            "cells": {
             "fill": {
              "color": "#EBF0F8"
             },
             "line": {
              "color": "white"
             }
            },
            "header": {
             "fill": {
              "color": "#C8D4E3"
             },
             "line": {
              "color": "white"
             }
            },
            "type": "table"
           }
          ]
         },
         "layout": {
          "annotationdefaults": {
           "arrowcolor": "#2a3f5f",
           "arrowhead": 0,
           "arrowwidth": 1
          },
          "autotypenumbers": "strict",
          "coloraxis": {
           "colorbar": {
            "outlinewidth": 0,
            "ticks": ""
           }
          },
          "colorscale": {
           "diverging": [
            [
             0,
             "#8e0152"
            ],
            [
             0.1,
             "#c51b7d"
            ],
            [
             0.2,
             "#de77ae"
            ],
            [
             0.3,
             "#f1b6da"
            ],
            [
             0.4,
             "#fde0ef"
            ],
            [
             0.5,
             "#f7f7f7"
            ],
            [
             0.6,
             "#e6f5d0"
            ],
            [
             0.7,
             "#b8e186"
            ],
            [
             0.8,
             "#7fbc41"
            ],
            [
             0.9,
             "#4d9221"
            ],
            [
             1,
             "#276419"
            ]
           ],
           "sequential": [
            [
             0,
             "#0d0887"
            ],
            [
             0.1111111111111111,
             "#46039f"
            ],
            [
             0.2222222222222222,
             "#7201a8"
            ],
            [
             0.3333333333333333,
             "#9c179e"
            ],
            [
             0.4444444444444444,
             "#bd3786"
            ],
            [
             0.5555555555555556,
             "#d8576b"
            ],
            [
             0.6666666666666666,
             "#ed7953"
            ],
            [
             0.7777777777777778,
             "#fb9f3a"
            ],
            [
             0.8888888888888888,
             "#fdca26"
            ],
            [
             1,
             "#f0f921"
            ]
           ],
           "sequentialminus": [
            [
             0,
             "#0d0887"
            ],
            [
             0.1111111111111111,
             "#46039f"
            ],
            [
             0.2222222222222222,
             "#7201a8"
            ],
            [
             0.3333333333333333,
             "#9c179e"
            ],
            [
             0.4444444444444444,
             "#bd3786"
            ],
            [
             0.5555555555555556,
             "#d8576b"
            ],
            [
             0.6666666666666666,
             "#ed7953"
            ],
            [
             0.7777777777777778,
             "#fb9f3a"
            ],
            [
             0.8888888888888888,
             "#fdca26"
            ],
            [
             1,
             "#f0f921"
            ]
           ]
          },
          "colorway": [
           "#636efa",
           "#EF553B",
           "#00cc96",
           "#ab63fa",
           "#FFA15A",
           "#19d3f3",
           "#FF6692",
           "#B6E880",
           "#FF97FF",
           "#FECB52"
          ],
          "font": {
           "color": "#2a3f5f"
          },
          "geo": {
           "bgcolor": "white",
           "lakecolor": "white",
           "landcolor": "#E5ECF6",
           "showlakes": true,
           "showland": true,
           "subunitcolor": "white"
          },
          "hoverlabel": {
           "align": "left"
          },
          "hovermode": "closest",
          "mapbox": {
           "style": "light"
          },
          "paper_bgcolor": "white",
          "plot_bgcolor": "#E5ECF6",
          "polar": {
           "angularaxis": {
            "gridcolor": "white",
            "linecolor": "white",
            "ticks": ""
           },
           "bgcolor": "#E5ECF6",
           "radialaxis": {
            "gridcolor": "white",
            "linecolor": "white",
            "ticks": ""
           }
          },
          "scene": {
           "xaxis": {
            "backgroundcolor": "#E5ECF6",
            "gridcolor": "white",
            "gridwidth": 2,
            "linecolor": "white",
            "showbackground": true,
            "ticks": "",
            "zerolinecolor": "white"
           },
           "yaxis": {
            "backgroundcolor": "#E5ECF6",
            "gridcolor": "white",
            "gridwidth": 2,
            "linecolor": "white",
            "showbackground": true,
            "ticks": "",
            "zerolinecolor": "white"
           },
           "zaxis": {
            "backgroundcolor": "#E5ECF6",
            "gridcolor": "white",
            "gridwidth": 2,
            "linecolor": "white",
            "showbackground": true,
            "ticks": "",
            "zerolinecolor": "white"
           }
          },
          "shapedefaults": {
           "line": {
            "color": "#2a3f5f"
           }
          },
          "ternary": {
           "aaxis": {
            "gridcolor": "white",
            "linecolor": "white",
            "ticks": ""
           },
           "baxis": {
            "gridcolor": "white",
            "linecolor": "white",
            "ticks": ""
           },
           "bgcolor": "#E5ECF6",
           "caxis": {
            "gridcolor": "white",
            "linecolor": "white",
            "ticks": ""
           }
          },
          "title": {
           "x": 0.05
          },
          "xaxis": {
           "automargin": true,
           "gridcolor": "white",
           "linecolor": "white",
           "ticks": "",
           "title": {
            "standoff": 15
           },
           "zerolinecolor": "white",
           "zerolinewidth": 2
          },
          "yaxis": {
           "automargin": true,
           "gridcolor": "white",
           "linecolor": "white",
           "ticks": "",
           "title": {
            "standoff": 15
           },
           "zerolinecolor": "white",
           "zerolinewidth": 2
          }
         }
        },
        "title": {
         "text": "Top Country-Related Dead-End Articles by Click Count"
        },
        "updatemenus": [
         {
          "buttons": [
           {
            "args": [
             {
              "visible": [
               true,
               false
              ]
             },
             {
              "title": "Top Country-Related Dead-End Articles (Before Scaling)"
             }
            ],
            "label": "Before Scaling",
            "method": "update"
           },
           {
            "args": [
             {
              "visible": [
               false,
               true
              ]
             },
             {
              "title": "Top Country-Related Dead-End Articles (After Scaling)"
             }
            ],
            "label": "After Scaling",
            "method": "update"
           }
          ],
          "direction": "left",
          "showactive": true,
          "type": "buttons",
          "x": 0.7,
          "y": 1.2
         }
        ],
        "xaxis": {
         "title": {
          "text": "Click Count"
         }
        },
        "yaxis": {
         "title": {
          "text": "Country"
         }
        }
       }
      }
     },
     "metadata": {},
     "output_type": "display_data"
    }
   ],
   "source": [
    "plot_top_dead_end_countries_plotly(unique_dead_end_countries, top_n=10)"
   ]
  },
  {
   "cell_type": "markdown",
   "metadata": {},
   "source": [
    "# 4. Naïve analysis of players click count (Players' Behavior Before Balancing)"
   ]
  },
  {
   "cell_type": "markdown",
   "metadata": {},
   "source": [
    "Computation of the click count was done using the script `src/scripts/articles_clicks_links.py`, which exports to a CSV file in `data/country_clicks_links`. The first and last articles of each finished path were removed before counting the clicks, as well as the first article for unfinished paths, as they do not truly represent the intentions of the player (they are chosen by the game, not the player). A few articles with wrong number of links were also removed from the dataset (their links seem not to be present in the dataset file `links.tsv`). Those articles are in the `bad_articles` variable in the `articles_clicks_links.py` script.\n",
    "\n",
    "The first scaling of the click count introduced here is a simple normalization by the number of articles per country. Let $C$ be the set of articles belonging to a given country, then our scaling $s(C)$ is defined as:\n",
    "\n",
    "$$s(C) = \\frac{\\sum_{a \\in C} c(a)}{|C|}$$\n",
    "\n",
    "With $c(a)$ the click count of article $a$. This is simply a mean of the click count per article in the country.\n",
    "\n",
    "As explained in the data story, this does not take into account more complex features of the graph structure, which is why we will introduce more advanced balancing methods to better take into account the graph's confounding effects."
   ]
  },
  {
   "cell_type": "markdown",
   "metadata": {},
   "source": [
    "#### Do a basic preprocessing to have the data in the appropriate format"
   ]
  },
  {
   "cell_type": "code",
   "execution_count": 28,
   "metadata": {},
   "outputs": [],
   "source": [
    "data = pd.read_csv(\"data/country_clicks_links.csv\", index_col=0)\n",
    "articles = data.index.tolist()\n",
    "clicks = [f\"{data.click_count.iloc[i]} clicks\" for i in range(len(articles))]\n",
    "\n",
    "country_clicks = data.groupby('Top_1_name')['click_count'].sum().reset_index()\n",
    "top_1_counts = data['Top_1_name'].value_counts()\n",
    "country_clicks['occurrences'] = country_clicks['Top_1_name'].map(top_1_counts)\n",
    "country_clicks[\"scaled_click_count\"] = country_clicks[\"click_count\"] / country_clicks[\"occurrences\"]\n",
    "\n",
    "countries = country_clicks.Top_1_name.tolist()\n",
    "clicks = country_clicks.click_count.tolist()\n",
    "clicks_scaled = country_clicks.scaled_click_count.tolist()\n",
    "\n",
    "finished_paths = load_path_finished_dataframe()\n",
    "finished_paths_divided = finished_paths[\"path\"].apply(lambda row: row.split(';'))\n",
    "\n",
    "unfinished_paths = load_path_unfinished_distance_dataframe()\n",
    "unfinished_paths_divided = unfinished_paths[\"path\"].apply(lambda row: row.split(';'))"
   ]
  },
  {
   "cell_type": "markdown",
   "metadata": {},
   "source": [
    "#### Compute nodes characteristics (size and color based on the country click count)"
   ]
  },
  {
   "cell_type": "code",
   "execution_count": 29,
   "metadata": {},
   "outputs": [
    {
     "name": "stderr",
     "output_type": "stream",
     "text": [
      "Processing countries: 100%|██████████| 195/195 [04:25<00:00,  1.36s/country]\n",
      "C:\\Users\\orian\\AppData\\Local\\Temp\\ipykernel_29392\\3046315152.py:7: MatplotlibDeprecationWarning:\n",
      "\n",
      "The get_cmap function was deprecated in Matplotlib 3.7 and will be removed two minor releases later. Use ``matplotlib.colormaps[name]`` or ``matplotlib.colormaps.get_cmap(obj)`` instead.\n",
      "\n"
     ]
    }
   ],
   "source": [
    "# Get the geolocalisation of every country\n",
    "latitudes, longitudes = geolocalization(country_clicks)\n",
    "\n",
    "# color of nodes is proportional to the click count\n",
    "scaler = MinMaxScaler(feature_range=(0.25, 1.5))\n",
    "normalized_counts = scaler.fit_transform([[count] for count in clicks]).flatten()\n",
    "color_map = plt.cm.get_cmap('Purples')\n",
    "colors_hex_before = [matplotlib.colors.to_hex(color_map(norm)) for norm in normalized_counts]\n",
    "\n",
    "# size of nodes is proportional to the click count \n",
    "size_scaler = MinMaxScaler(feature_range=(9, 90))\n",
    "node_sizes = size_scaler.fit_transform([[count] for count in clicks]).flatten()"
   ]
  },
  {
   "cell_type": "markdown",
   "metadata": {},
   "source": [
    "#### Identify highway paths most often used by players"
   ]
  },
  {
   "cell_type": "code",
   "execution_count": 30,
   "metadata": {},
   "outputs": [],
   "source": [
    "# highway paths will define edges on our maps\n",
    "# Focus on finished paths first\n",
    "all_pairs_finished = find_pairs(finished_paths_divided)\n",
    "all_pairs_finished_df = pd.DataFrame({'1-unit long path': all_pairs_finished})\n",
    "\n",
    "# Then, focus on unfinished paths\n",
    "all_pairs_unfinished = find_pairs(unfinished_paths_divided)\n",
    "all_pairs_unfinished_df = pd.DataFrame({'1-unit long path': all_pairs_unfinished})\n",
    "\n",
    "# Combine finished and unfinished paths\n",
    "all_pairs_merged = pd.concat([all_pairs_finished_df, all_pairs_unfinished_df])\n",
    "\n",
    "# Divide pairs into 2 columns 'From' and 'To' > Split\n",
    "all_pairs_countries = all_pairs_merged.copy()\n",
    "all_pairs_countries['Article_from'] = all_pairs_merged['1-unit long path'].apply(lambda row: row[0].split(',')[0] if isinstance(row[0], str) else row)\n",
    "all_pairs_countries['Article_to'] = all_pairs_merged['1-unit long path'].apply(lambda row: row[1].split(',')[0] if isinstance(row[0], str) else row)\n",
    "\n",
    "# Associate each article from columns 'From' and 'To' to their Top_1_name country\n",
    "all_pairs_countries['Top1_country_From'] = all_pairs_countries['Article_from'].map(data['Top_1_name'])\n",
    "all_pairs_countries['Top1_country_To'] = all_pairs_countries['Article_to'].map(data['Top_1_name'])\n",
    "\n",
    "# Create a column with a pair of countries\n",
    "all_pairs_countries['1-unit long path - COUNTRIES'] = all_pairs_countries['Top1_country_From'] + \"-> \" + all_pairs_countries['Top1_country_To']\n",
    "\n",
    "# Normalize\n",
    "all_pairs_countries_normalized = all_pairs_countries[\"1-unit long path - COUNTRIES\"].value_counts() / all_pairs_countries[\"1-unit long path - COUNTRIES\"].value_counts().sum()\n"
   ]
  },
  {
   "cell_type": "markdown",
   "metadata": {},
   "source": [
    "#### Map 1 - Before scaling - with Folium library"
   ]
  },
  {
   "cell_type": "code",
   "execution_count": 31,
   "metadata": {},
   "outputs": [
    {
     "name": "stdout",
     "output_type": "stream",
     "text": [
      "Map is saved in world_click_counts_before_scaling.html!\n"
     ]
    }
   ],
   "source": [
    "# Create the world map of the click count per country and game path between countries before scaling\n",
    "overlap_world_map_clicks_before(\"world_click_counts_before_scaling.html\", clicks, all_pairs_countries_normalized, countries, latitudes,longitudes)"
   ]
  },
  {
   "cell_type": "markdown",
   "metadata": {},
   "source": [
    "#### Map 2 - After scaling - with Folium library"
   ]
  },
  {
   "cell_type": "code",
   "execution_count": 32,
   "metadata": {},
   "outputs": [
    {
     "name": "stdout",
     "output_type": "stream",
     "text": [
      "Map is saved in world_click_counts_after_scaling.html!\n"
     ]
    }
   ],
   "source": [
    "# Create the world map of the click count per country and game path between countries after scaling\n",
    "overlap_world_map_clicks_after(\"world_click_counts_after_scaling.html\", clicks_scaled, all_pairs_countries_normalized, countries, latitudes,longitudes)"
   ]
  },
  {
   "cell_type": "markdown",
   "metadata": {},
   "source": [
    "# 5. Accounting for the influence of the graph's structure\n",
    "\n",
    "As explained in the story, a propensity score matching approach is not feasible due to the high number of groups that we compare (one group per country, so 249 groups), and also due to the fact that some countries are only made up of a few (1 or 2) articles. Our simpler approach then consists of normalizing the total click counts of a country by the sum of links-in from articles in that country. Let $C$ be the set of articles in a given country, then our new normalized click count metric $n(C)$ will be:\n",
    "\n",
    "$$ n(C) = \\frac{\\sum_{a \\in C} c(a)}{\\sum_{a \\in C} d_{in}(a)} $$\n",
    "\n",
    "With $c(a)$ the click count of an article $a$, $d_{in}(a)$ the in-degree of an article $a$.\n",
    "\n",
    "Below you will find the code for computing that metric"
   ]
  },
  {
   "cell_type": "code",
   "execution_count": 11,
   "metadata": {},
   "outputs": [
    {
     "data": {
      "text/html": [
       "<div>\n",
       "<style scoped>\n",
       "    .dataframe tbody tr th:only-of-type {\n",
       "        vertical-align: middle;\n",
       "    }\n",
       "\n",
       "    .dataframe tbody tr th {\n",
       "        vertical-align: top;\n",
       "    }\n",
       "\n",
       "    .dataframe thead th {\n",
       "        text-align: right;\n",
       "    }\n",
       "</style>\n",
       "<table border=\"1\" class=\"dataframe\">\n",
       "  <thead>\n",
       "    <tr style=\"text-align: right;\">\n",
       "      <th></th>\n",
       "      <th>Top_1_name</th>\n",
       "      <th>num_links_in</th>\n",
       "      <th>click_count</th>\n",
       "      <th>click_count_normalized</th>\n",
       "    </tr>\n",
       "  </thead>\n",
       "  <tbody>\n",
       "    <tr>\n",
       "      <th>0</th>\n",
       "      <td>afghanistan</td>\n",
       "      <td>313.0</td>\n",
       "      <td>629</td>\n",
       "      <td>2.009585</td>\n",
       "    </tr>\n",
       "    <tr>\n",
       "      <th>1</th>\n",
       "      <td>albania</td>\n",
       "      <td>85.0</td>\n",
       "      <td>21</td>\n",
       "      <td>0.247059</td>\n",
       "    </tr>\n",
       "    <tr>\n",
       "      <th>2</th>\n",
       "      <td>algeria</td>\n",
       "      <td>263.0</td>\n",
       "      <td>700</td>\n",
       "      <td>2.661597</td>\n",
       "    </tr>\n",
       "    <tr>\n",
       "      <th>3</th>\n",
       "      <td>andorra</td>\n",
       "      <td>41.0</td>\n",
       "      <td>6</td>\n",
       "      <td>0.146341</td>\n",
       "    </tr>\n",
       "    <tr>\n",
       "      <th>4</th>\n",
       "      <td>angola</td>\n",
       "      <td>80.0</td>\n",
       "      <td>28</td>\n",
       "      <td>0.350000</td>\n",
       "    </tr>\n",
       "  </tbody>\n",
       "</table>\n",
       "</div>"
      ],
      "text/plain": [
       "    Top_1_name  num_links_in  click_count  click_count_normalized\n",
       "0  afghanistan         313.0          629                2.009585\n",
       "1      albania          85.0           21                0.247059\n",
       "2      algeria         263.0          700                2.661597\n",
       "3      andorra          41.0            6                0.146341\n",
       "4       angola          80.0           28                0.350000"
      ]
     },
     "execution_count": 11,
     "metadata": {},
     "output_type": "execute_result"
    }
   ],
   "source": [
    "countries = normalize_clicks()\n",
    "countries.head()"
   ]
  },
  {
   "cell_type": "markdown",
   "metadata": {},
   "source": [
    "#### Visualisation of the click count after normalization"
   ]
  },
  {
   "cell_type": "code",
   "execution_count": null,
   "metadata": {},
   "outputs": [
    {
     "name": "stderr",
     "output_type": "stream",
     "text": [
      "Processing countries: 100%|██████████| 195/195 [03:54<00:00,  1.21s/country]"
     ]
    },
    {
     "name": "stdout",
     "output_type": "stream",
     "text": [
      "Map is saved in normalized_click_counts.html!\n"
     ]
    },
    {
     "name": "stderr",
     "output_type": "stream",
     "text": [
      "\n"
     ]
    }
   ],
   "source": [
    "\n",
    "click_count_normalized = countries['click_count_normalized'].tolist()\n",
    "countries_names = countries.Top_1_name.tolist()\n",
    "latitudes, longitudes = geolocalization(countries)\n",
    "overlap_world_map_normalized_clicks(\"./graphs/normalized_click_counts.html\", click_count_normalized, countries_names, latitudes,longitudes)"
   ]
  },
  {
   "cell_type": "markdown",
   "metadata": {},
   "source": [
    "## 5.1 PageRank analysis"
   ]
  },
  {
   "cell_type": "markdown",
   "metadata": {},
   "source": [
    "### Running PageRank\n",
    "First, let us the PageRank algorithm on the Wikipedia graph. We use a helper function for this that takes as input the edges from the Wikipedia graph, that is the links dataframe."
   ]
  },
  {
   "cell_type": "code",
   "execution_count": 35,
   "metadata": {},
   "outputs": [
    {
     "data": {
      "text/html": [
       "<div>\n",
       "<style scoped>\n",
       "    .dataframe tbody tr th:only-of-type {\n",
       "        vertical-align: middle;\n",
       "    }\n",
       "\n",
       "    .dataframe tbody tr th {\n",
       "        vertical-align: top;\n",
       "    }\n",
       "\n",
       "    .dataframe thead th {\n",
       "        text-align: right;\n",
       "    }\n",
       "</style>\n",
       "<table border=\"1\" class=\"dataframe\">\n",
       "  <thead>\n",
       "    <tr style=\"text-align: right;\">\n",
       "      <th></th>\n",
       "      <th>article_name</th>\n",
       "      <th>rank</th>\n",
       "    </tr>\n",
       "  </thead>\n",
       "  <tbody>\n",
       "    <tr>\n",
       "      <th>0</th>\n",
       "      <td>United_States</td>\n",
       "      <td>0.009567</td>\n",
       "    </tr>\n",
       "    <tr>\n",
       "      <th>1</th>\n",
       "      <td>France</td>\n",
       "      <td>0.006421</td>\n",
       "    </tr>\n",
       "    <tr>\n",
       "      <th>2</th>\n",
       "      <td>Europe</td>\n",
       "      <td>0.006340</td>\n",
       "    </tr>\n",
       "    <tr>\n",
       "      <th>3</th>\n",
       "      <td>United_Kingdom</td>\n",
       "      <td>0.006230</td>\n",
       "    </tr>\n",
       "    <tr>\n",
       "      <th>4</th>\n",
       "      <td>English_language</td>\n",
       "      <td>0.004861</td>\n",
       "    </tr>\n",
       "  </tbody>\n",
       "</table>\n",
       "</div>"
      ],
      "text/plain": [
       "       article_name      rank\n",
       "0     United_States  0.009567\n",
       "1            France  0.006421\n",
       "2            Europe  0.006340\n",
       "3    United_Kingdom  0.006230\n",
       "4  English_language  0.004861"
      ]
     },
     "execution_count": 35,
     "metadata": {},
     "output_type": "execute_result"
    }
   ],
   "source": [
    "links_df = load_links_dataframe()\n",
    "df_pagerank = pagerank(links_df)\n",
    "df_pagerank.head()"
   ]
  },
  {
   "cell_type": "markdown",
   "metadata": {},
   "source": [
    "### Computing players rank based on their click counts\n",
    "Next, we will compute a rank similar to that of PageRank, but based on the click counts of the players. For each article $a$, we define its rank as:\n",
    "$$r(a) = \\frac{c(a)}{\\sum_{a' \\in A}{c(a')}}$$\n",
    "where\n",
    "* $c(a)$ is the click count of the article $a$ (the number of times it appears in the recorded player paths)\n",
    "* $A$ is the set of all articles in the Wikipedia graph\n",
    "With this definition we have that $ 0 \\le r(a) \\le 1 \\hspace{2mm} \\forall a$ and $\\sum_{a \\in A}{r(a)} = 1$ which are the properties necessary to compare our ranks with PageRank."
   ]
  },
  {
   "cell_type": "code",
   "execution_count": 36,
   "metadata": {},
   "outputs": [
    {
     "data": {
      "text/html": [
       "<div>\n",
       "<style scoped>\n",
       "    .dataframe tbody tr th:only-of-type {\n",
       "        vertical-align: middle;\n",
       "    }\n",
       "\n",
       "    .dataframe tbody tr th {\n",
       "        vertical-align: top;\n",
       "    }\n",
       "\n",
       "    .dataframe thead th {\n",
       "        text-align: right;\n",
       "    }\n",
       "</style>\n",
       "<table border=\"1\" class=\"dataframe\">\n",
       "  <thead>\n",
       "    <tr style=\"text-align: right;\">\n",
       "      <th></th>\n",
       "      <th>article_name</th>\n",
       "      <th>rank</th>\n",
       "    </tr>\n",
       "  </thead>\n",
       "  <tbody>\n",
       "    <tr>\n",
       "      <th>0</th>\n",
       "      <td>United_States</td>\n",
       "      <td>0.039275</td>\n",
       "    </tr>\n",
       "    <tr>\n",
       "      <th>1</th>\n",
       "      <td>Europe</td>\n",
       "      <td>0.017631</td>\n",
       "    </tr>\n",
       "    <tr>\n",
       "      <th>2</th>\n",
       "      <td>United_Kingdom</td>\n",
       "      <td>0.016758</td>\n",
       "    </tr>\n",
       "    <tr>\n",
       "      <th>3</th>\n",
       "      <td>England</td>\n",
       "      <td>0.013665</td>\n",
       "    </tr>\n",
       "    <tr>\n",
       "      <th>4</th>\n",
       "      <td>Earth</td>\n",
       "      <td>0.013125</td>\n",
       "    </tr>\n",
       "  </tbody>\n",
       "</table>\n",
       "</div>"
      ],
      "text/plain": [
       "     article_name      rank\n",
       "0   United_States  0.039275\n",
       "1          Europe  0.017631\n",
       "2  United_Kingdom  0.016758\n",
       "3         England  0.013665\n",
       "4           Earth  0.013125"
      ]
     },
     "execution_count": 36,
     "metadata": {},
     "output_type": "execute_result"
    }
   ],
   "source": [
    "df_player_frequencies = compute_player_frequencies()\n",
    "\n",
    "df_player_frequencies.head()"
   ]
  },
  {
   "cell_type": "markdown",
   "metadata": {},
   "source": [
    "Let us first plot a raw comparison of the top 40 PageRank articles and the associated players rank"
   ]
  },
  {
   "cell_type": "markdown",
   "metadata": {},
   "source": [
    "We then aggregate ranks by country. Let C be the set of articles in a given country. We define the rank of a country $r(C)$ as:\n",
    "$$r(C) = \\sum_{a \\in C} r(a)$$"
   ]
  },
  {
   "cell_type": "markdown",
   "metadata": {},
   "source": [
    "To do that, we associate each article with its country using the assignment described in part 1."
   ]
  },
  {
   "cell_type": "code",
   "execution_count": 37,
   "metadata": {},
   "outputs": [
    {
     "data": {
      "text/html": [
       "<div>\n",
       "<style scoped>\n",
       "    .dataframe tbody tr th:only-of-type {\n",
       "        vertical-align: middle;\n",
       "    }\n",
       "\n",
       "    .dataframe tbody tr th {\n",
       "        vertical-align: top;\n",
       "    }\n",
       "\n",
       "    .dataframe thead th {\n",
       "        text-align: right;\n",
       "    }\n",
       "</style>\n",
       "<table border=\"1\" class=\"dataframe\">\n",
       "  <thead>\n",
       "    <tr style=\"text-align: right;\">\n",
       "      <th></th>\n",
       "      <th>country_name</th>\n",
       "      <th>rank</th>\n",
       "    </tr>\n",
       "  </thead>\n",
       "  <tbody>\n",
       "    <tr>\n",
       "      <th>0</th>\n",
       "      <td>afghanistan</td>\n",
       "      <td>0.001997</td>\n",
       "    </tr>\n",
       "    <tr>\n",
       "      <th>1</th>\n",
       "      <td>albania</td>\n",
       "      <td>0.000067</td>\n",
       "    </tr>\n",
       "    <tr>\n",
       "      <th>2</th>\n",
       "      <td>algeria</td>\n",
       "      <td>0.002223</td>\n",
       "    </tr>\n",
       "    <tr>\n",
       "      <th>3</th>\n",
       "      <td>andorra</td>\n",
       "      <td>0.000019</td>\n",
       "    </tr>\n",
       "    <tr>\n",
       "      <th>4</th>\n",
       "      <td>angola</td>\n",
       "      <td>0.000089</td>\n",
       "    </tr>\n",
       "  </tbody>\n",
       "</table>\n",
       "</div>"
      ],
      "text/plain": [
       "  country_name      rank\n",
       "0  afghanistan  0.001997\n",
       "1      albania  0.000067\n",
       "2      algeria  0.002223\n",
       "3      andorra  0.000019\n",
       "4       angola  0.000089"
      ]
     },
     "execution_count": 37,
     "metadata": {},
     "output_type": "execute_result"
    }
   ],
   "source": [
    "article_to_countries = pd.read_csv('data/country_data_full_llama_improved.csv', index_col=0)[['Top_1_name']].rename(columns={'Top_1_name': 'country_name'})\n",
    "article_to_countries.index.name = 'article_name'\n",
    "article_to_countries.reset_index(inplace=True)\n",
    "\n",
    "df_player_frequencies = pd.merge(df_player_frequencies, article_to_countries, on='article_name')\n",
    "df_pagerank = pd.merge(df_pagerank, article_to_countries, on='article_name')\n",
    "\n",
    "df_player_frequencies_country = aggregate_ranks_by_country(df_player_frequencies)\n",
    "df_pagerank_country = aggregate_ranks_by_country(df_pagerank)\n",
    "\n",
    "df_player_frequencies_country.head()"
   ]
  },
  {
   "cell_type": "markdown",
   "metadata": {},
   "source": [
    "### Visualisation of the countries by page rank and player rank"
   ]
  },
  {
   "cell_type": "code",
   "execution_count": 47,
   "metadata": {},
   "outputs": [
    {
     "data": {
      "image/png": "[encoded data removed]",
      "text/plain": [
       "<Figure size 640x1120 with 1 Axes>"
      ]
     },
     "metadata": {},
     "output_type": "display_data"
    }
   ],
   "source": [
    "top_player_vs_pagerank_country_frequencies(df_player_frequencies_country, df_pagerank_country)"
   ]
  },
  {
   "cell_type": "markdown",
   "metadata": {},
   "source": [
    "### Computing rank difference\n",
    "To investigate further, we will compute the difference between the players rank and the pageranks."
   ]
  },
  {
   "cell_type": "code",
   "execution_count": 45,
   "metadata": {},
   "outputs": [
    {
     "data": {
      "text/html": [
       "<div>\n",
       "<style scoped>\n",
       "    .dataframe tbody tr th:only-of-type {\n",
       "        vertical-align: middle;\n",
       "    }\n",
       "\n",
       "    .dataframe tbody tr th {\n",
       "        vertical-align: top;\n",
       "    }\n",
       "\n",
       "    .dataframe thead th {\n",
       "        text-align: right;\n",
       "    }\n",
       "</style>\n",
       "<table border=\"1\" class=\"dataframe\">\n",
       "  <thead>\n",
       "    <tr style=\"text-align: right;\">\n",
       "      <th></th>\n",
       "      <th>country_name</th>\n",
       "      <th>rank_pagerank</th>\n",
       "      <th>rank_players</th>\n",
       "      <th>rank_diff</th>\n",
       "    </tr>\n",
       "  </thead>\n",
       "  <tbody>\n",
       "    <tr>\n",
       "      <th>0</th>\n",
       "      <td>NaN</td>\n",
       "      <td>0.412083</td>\n",
       "      <td>0.480578</td>\n",
       "      <td>0.068496</td>\n",
       "    </tr>\n",
       "    <tr>\n",
       "      <th>1</th>\n",
       "      <td>united states</td>\n",
       "      <td>0.077690</td>\n",
       "      <td>0.114548</td>\n",
       "      <td>0.036858</td>\n",
       "    </tr>\n",
       "    <tr>\n",
       "      <th>2</th>\n",
       "      <td>united kingdom</td>\n",
       "      <td>0.046841</td>\n",
       "      <td>0.054451</td>\n",
       "      <td>0.007611</td>\n",
       "    </tr>\n",
       "    <tr>\n",
       "      <th>3</th>\n",
       "      <td>france</td>\n",
       "      <td>0.037857</td>\n",
       "      <td>0.026911</td>\n",
       "      <td>-0.010945</td>\n",
       "    </tr>\n",
       "    <tr>\n",
       "      <th>4</th>\n",
       "      <td>germany</td>\n",
       "      <td>0.030408</td>\n",
       "      <td>0.029350</td>\n",
       "      <td>-0.001058</td>\n",
       "    </tr>\n",
       "  </tbody>\n",
       "</table>\n",
       "</div>"
      ],
      "text/plain": [
       "     country_name  rank_pagerank  rank_players  rank_diff\n",
       "0             NaN       0.412083      0.480578   0.068496\n",
       "1   united states       0.077690      0.114548   0.036858\n",
       "2  united kingdom       0.046841      0.054451   0.007611\n",
       "3          france       0.037857      0.026911  -0.010945\n",
       "4         germany       0.030408      0.029350  -0.001058"
      ]
     },
     "execution_count": 45,
     "metadata": {},
     "output_type": "execute_result"
    }
   ],
   "source": [
    "rank_v_freq_countries = rank_diff(\n",
    "    df_pagerank,\n",
    "    df_player_frequencies\n",
    ")\n",
    "rank_v_freq_countries.head()"
   ]
  },
  {
   "cell_type": "markdown",
   "metadata": {},
   "source": [
    "Let us see how the difference looks like further in the articles list. To do that, we plot the PageRanks and players ranks for all articles, sorted by PageRank. For comparison, we do the same with country aggregates.\n",
    "\n",
    "Note: here `NaN` represents articles with no linked countries. We see that they make up for about 40% of the PageRank! However those articles are discarded in our analysis since we concentrate on country biases."
   ]
  },
  {
   "cell_type": "markdown",
   "metadata": {},
   "source": [
    "### Visualisation of the rank difference"
   ]
  },
  {
   "cell_type": "code",
   "execution_count": 48,
   "metadata": {},
   "outputs": [
    {
     "data": {
      "text/plain": [
       "Text(0.5, 0.98, 'Figure 2')"
      ]
     },
     "execution_count": 48,
     "metadata": {},
     "output_type": "execute_result"
    },
    {
     "data": {
      "image/png": "[encoded data removed]",
      "text/plain": [
       "<Figure size 1000x480 with 1 Axes>"
      ]
     },
     "metadata": {},
     "output_type": "display_data"
    }
   ],
   "source": [
    "fig, (ax1) = plt.subplots(1, 1)\n",
    "fig.set_figwidth(10)\n",
    "\n",
    "ax1.set_title('Player rank vs PageRank by countries')\n",
    "rank_v_freq_countries.dropna().plot(x='country_name', y='rank_players', ax=ax1)\n",
    "rank_v_freq_countries.dropna().plot(x='country_name', y='rank_pagerank', ax=ax1)\n",
    "plt.suptitle(\"Figure 2\")"
   ]
  },
  {
   "cell_type": "markdown",
   "metadata": {},
   "source": [
    "### High difference countries\n",
    "Now we will have a look at which countries have the highest difference with respect to PageRank. To do this we sort the differences aggregated by countries from higher to lower values, and then analyze the countries with the highest positive difference (players tend to go more often to them than random walk), and highest negative difference (players tend to go less often to them than random walk)"
   ]
  },
  {
   "cell_type": "code",
   "execution_count": 42,
   "metadata": {},
   "outputs": [
    {
     "data": {
      "image/png": "[encoded data removed]",
      "text/plain": [
       "<Figure size 640x480 with 1 Axes>"
      ]
     },
     "metadata": {},
     "output_type": "display_data"
    }
   ],
   "source": [
    "rank_v_freq_by_diff = rank_v_freq_countries.dropna().sort_values(by='rank_diff', ascending=False)\n",
    "sns.barplot(rank_v_freq_by_diff.head(20), y='country_name', x='rank_diff', orient='y')\n",
    "plt.title(\"Figure 4: Top countries with most positive rank difference\")\n",
    "plt.show()"
   ]
  },
  {
   "cell_type": "code",
   "execution_count": 43,
   "metadata": {},
   "outputs": [
    {
     "data": {
      "image/png": "[encoded data removed]",
      "text/plain": [
       "<Figure size 640x480 with 1 Axes>"
      ]
     },
     "metadata": {},
     "output_type": "display_data"
    }
   ],
   "source": [
    "sns.barplot(rank_v_freq_by_diff.tail(20), y='country_name', x='rank_diff', orient='y')\n",
    "plt.title(\"Figure 5: Top countries with most negative rank difference\")\n",
    "plt.show()"
   ]
  },
  {
   "cell_type": "markdown",
   "metadata": {},
   "source": [
    "### Statistical significance\n",
    "Lastly, to make sure our conclusions are valid, let us see if the difference in the players behavior is statistically significant. To do that, we compute a chi-square test with the null hypothesis that players rank and PageRank come from the same multinomial distribution. The number of trials (parameter $n$ of the distribution) is set to the total number of clicks in the game."
   ]
  },
  {
   "cell_type": "code",
   "execution_count": 49,
   "metadata": {},
   "outputs": [
    {
     "data": {
      "text/plain": [
       "Power_divergenceResult(statistic=36765.44945735122, pvalue=0.0)"
      ]
     },
     "execution_count": 49,
     "metadata": {},
     "output_type": "execute_result"
    }
   ],
   "source": [
    "from scipy.stats import chisquare\n",
    "# p-value for significance of divergence in distribution\n",
    "df_clicks = pd.read_csv(\"data/country_clicks_links.csv\", index_col=0)\n",
    "total_number_of_clicks = df_clicks['click_count'].sum()\n",
    "chisquare(rank_v_freq_countries['rank_players'] * total_number_of_clicks, rank_v_freq_countries['rank_pagerank'] * total_number_of_clicks)"
   ]
  },
  {
   "cell_type": "markdown",
   "metadata": {},
   "source": [
    "Given that the p-value is very close to 0 (floating point has approximated it to 0), we can conclude that the players behave significantly differently than a random walk. Although they are not particularly biased towards all Western countries, they seem to be biased toward english speaking countries."
   ]
  }
 ],
 "metadata": {
  "kernelspec": {
   "display_name": "ada",
   "language": "python",
   "name": "python3"
  },
  "language_info": {
   "codemirror_mode": {
    "name": "ipython",
    "version": 3
   },
   "file_extension": ".py",
   "mimetype": "text/x-python",
   "name": "python",
   "nbconvert_exporter": "python",
   "pygments_lexer": "ipython3",
   "version": "3.11.9"
  }
 },
 "nbformat": 4,
 "nbformat_minor": 2
}
